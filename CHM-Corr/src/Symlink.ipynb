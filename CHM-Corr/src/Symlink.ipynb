{
 "cells": [
  {
   "cell_type": "markdown",
   "id": "b13ec916",
   "metadata": {},
   "source": [
    "# Symlink\n",
    "\n",
    "\n",
    "The two datasets of ImageNet-R and DAmageNet contain less than `1000` classes, and the metric should only be reported on the subset of relevant classes. The easiest way to for this is to create a Symlink of ImageNet training set to create a subset of relevant classes without wasting disk space."
   ]
  },
  {
   "cell_type": "code",
   "execution_count": 1,
   "id": "4a04e882-9e0b-432b-a9f2-0ef012f6a778",
   "metadata": {},
   "outputs": [],
   "source": [
    "import os"
   ]
  },
  {
   "cell_type": "markdown",
   "id": "ee67b909-cb56-466a-a34f-c59c90e48239",
   "metadata": {},
   "source": [
    "### ImageNet-R"
   ]
  },
  {
   "cell_type": "code",
   "execution_count": 35,
   "id": "5c2d726e-6093-458c-8004-3c49c5ee6448",
   "metadata": {},
   "outputs": [],
   "source": [
    "imagenet_foler = 'dataset/ILSVRC2012_img_train/'\n",
    "test_dataset = 'shared_dataset/imagenet-r/'\n",
    "symlink_parent = 'dataset/symlink_parent/'\n",
    "new_dataset_foldername = 'imagenet-r'"
   ]
  },
  {
   "cell_type": "code",
   "execution_count": 36,
   "id": "35c0d709-c8e8-4b5f-8f52-33d3241a02e2",
   "metadata": {},
   "outputs": [],
   "source": [
    "os.makedirs(os.path.join(symlink_parent, new_dataset_foldername))"
   ]
  },
  {
   "cell_type": "code",
   "execution_count": 37,
   "id": "27e33f60-9292-4493-a0c4-67ec0125f364",
   "metadata": {},
   "outputs": [],
   "source": [
    "for folder in os.listdir(test_dataset):\n",
    "  source = os.path.join(imagenet_foler, folder)\n",
    "  target = os.path.join(symlink_parent, new_dataset_foldername, folder)\n",
    "  os.symlink(source, target, target_is_directory=True)"
   ]
  },
  {
   "cell_type": "markdown",
   "id": "ef00d5e6",
   "metadata": {},
   "source": [
    "Now you can use `'dataset/symlink_parent/imagenet-r` as a training set for ImageNet-R when we want to run kNN and CHM"
   ]
  },
  {
   "cell_type": "markdown",
   "id": "e5dbf0a5-f86f-4b83-bcd5-6187e9c4fb78",
   "metadata": {},
   "source": [
    "### DAmagenet"
   ]
  },
  {
   "cell_type": "code",
   "execution_count": 38,
   "id": "a7ac4771-0bb2-48ac-9ade-5200365d1fc3",
   "metadata": {},
   "outputs": [],
   "source": [
    "imagenet_foler = 'dataset/ILSVRC2012_img_train/'\n",
    "test_dataset = 'shared_dataset/DAmageNet/'\n",
    "symlink_parent = 'dataset/symlink_parent/'\n",
    "new_dataset_foldername = 'DAmageNet'"
   ]
  },
  {
   "cell_type": "code",
   "execution_count": 39,
   "id": "a4359c68-87e1-4f34-af1b-f86a4b950862",
   "metadata": {},
   "outputs": [],
   "source": [
    "os.makedirs(os.path.join(symlink_parent, new_dataset_foldername))"
   ]
  },
  {
   "cell_type": "code",
   "execution_count": 40,
   "id": "0bcf6adf-8f95-4177-aca2-e81f81c8eb06",
   "metadata": {},
   "outputs": [],
   "source": [
    "for folder in os.listdir(test_dataset):\n",
    "  source = os.path.join(imagenet_foler, folder)\n",
    "  target = os.path.join(symlink_parent, new_dataset_foldername, folder)\n",
    "  os.symlink(source, target, target_is_directory=True)"
   ]
  },
  {
   "cell_type": "markdown",
   "id": "6873195a",
   "metadata": {},
   "source": [
    "Now you can use `'dataset/symlink_parent/DAmageNet` as a training set for DAmageNet when we want to run kNN and CHM"
   ]
  }
 ],
 "metadata": {
  "kernelspec": {
   "display_name": "Python (Deep38)",
   "language": "python",
   "name": "deep38"
  },
  "language_info": {
   "codemirror_mode": {
    "name": "ipython",
    "version": 3
   },
   "file_extension": ".py",
   "mimetype": "text/x-python",
   "name": "python",
   "nbconvert_exporter": "python",
   "pygments_lexer": "ipython3",
   "version": "3.8.12"
  }
 },
 "nbformat": 4,
 "nbformat_minor": 5
}
