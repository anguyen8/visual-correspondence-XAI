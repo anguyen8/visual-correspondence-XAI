{
 "cells": [
  {
   "cell_type": "markdown",
   "id": "bd9c8b2c-f2b8-4c86-8cc1-30f9767d2d1f",
   "metadata": {
    "pycharm": {
     "name": "#%% md\n"
    }
   },
   "source": [
    "# CUB - Is XAI Helping?"
   ]
  },
  {
   "cell_type": "code",
   "execution_count": 51,
   "id": "26efaf31-54fe-42ec-bd7b-f73d01e6fd90",
   "metadata": {
    "pycharm": {
     "name": "#%%\n"
    }
   },
   "outputs": [],
   "source": [
    "DATA_SET = 'CUB'"
   ]
  },
  {
   "cell_type": "code",
   "execution_count": 52,
   "id": "1a78f10f-a00e-4f1e-bfa2-bfc277902982",
   "metadata": {
    "pycharm": {
     "name": "#%%\n"
    }
   },
   "outputs": [],
   "source": [
    "import matplotlib.pyplot as plt\n",
    "import seaborn as sns\n",
    "sns.set()\n",
    "import pandas as pd\n",
    "import os\n",
    "import numpy as np\n",
    "from matplotlib.backends.backend_pdf import PdfPages"
   ]
  },
  {
   "cell_type": "code",
   "execution_count": 53,
   "id": "13819995-b5bf-44da-beee-b0a770e0cf86",
   "metadata": {
    "pycharm": {
     "name": "#%%\n"
    }
   },
   "outputs": [],
   "source": [
    "from tqdm import tqdm"
   ]
  },
  {
   "cell_type": "code",
   "execution_count": 54,
   "id": "684dfb89-1ea9-480f-8e72-ae0c20433f33",
   "metadata": {
    "pycharm": {
     "name": "#%%\n"
    }
   },
   "outputs": [],
   "source": [
    "pd.set_option(\"display.max_columns\", None)\n",
    "pd.set_option(\"display.max_rows\", None)"
   ]
  },
  {
   "cell_type": "markdown",
   "id": "f79f77f8-e68e-4b20-91b7-5187f72fd8f1",
   "metadata": {
    "pycharm": {
     "name": "#%% md\n"
    }
   },
   "source": [
    "# Reading Data"
   ]
  },
  {
   "cell_type": "code",
   "execution_count": 55,
   "id": "491ce34a-67b7-4cad-bf92-f17b468ec6dc",
   "metadata": {
    "pycharm": {
     "name": "#%%\n"
    }
   },
   "outputs": [],
   "source": [
    "df = pd.read_csv('../data/CUB-Human-Study-Summary.csv')"
   ]
  },
  {
   "cell_type": "code",
   "execution_count": 56,
   "id": "06b92db2-92fe-4583-8528-c3b683479f9c",
   "metadata": {
    "pycharm": {
     "name": "#%%\n"
    }
   },
   "outputs": [
    {
     "data": {
      "text/html": [
       "<div>\n",
       "<style scoped>\n",
       "    .dataframe tbody tr th:only-of-type {\n",
       "        vertical-align: middle;\n",
       "    }\n",
       "\n",
       "    .dataframe tbody tr th {\n",
       "        vertical-align: top;\n",
       "    }\n",
       "\n",
       "    .dataframe thead th {\n",
       "        text-align: right;\n",
       "    }\n",
       "</style>\n",
       "<table border=\"1\" class=\"dataframe\">\n",
       "  <thead>\n",
       "    <tr style=\"text-align: right;\">\n",
       "      <th></th>\n",
       "      <th>UID</th>\n",
       "      <th>Query</th>\n",
       "      <th>Counter balance</th>\n",
       "      <th>Validation Reaction Time</th>\n",
       "      <th>Test Reaction Time</th>\n",
       "      <th>Date</th>\n",
       "      <th>Correctness</th>\n",
       "      <th>Accuracy</th>\n",
       "      <th>Total Corrects</th>\n",
       "      <th>Method</th>\n",
       "      <th>GroundTruth</th>\n",
       "      <th>ClassifierCorrectness</th>\n",
       "      <th>ConfidenceScore</th>\n",
       "      <th>DifficultyLevel</th>\n",
       "      <th>ResNet-Prediction</th>\n",
       "      <th>KNN-Prediction</th>\n",
       "      <th>EMD-Prediction</th>\n",
       "      <th>CHM-Prediction</th>\n",
       "      <th>ResNet-Conf</th>\n",
       "      <th>KNN-Conf</th>\n",
       "      <th>EMD-Conf</th>\n",
       "      <th>CHM-Conf</th>\n",
       "    </tr>\n",
       "  </thead>\n",
       "  <tbody>\n",
       "    <tr>\n",
       "      <th>0</th>\n",
       "      <td>5791dae225cb71000128ad5bNo-XAI</td>\n",
       "      <td>Hooded_Oriole_0105_90875.jpg</td>\n",
       "      <td>6</td>\n",
       "      <td>412124.0</td>\n",
       "      <td>411022</td>\n",
       "      <td>2022-05-05 14:14:35.473</td>\n",
       "      <td>1</td>\n",
       "      <td>0.566667</td>\n",
       "      <td>17</td>\n",
       "      <td>ResNet-50</td>\n",
       "      <td>096.Hooded_Oriole</td>\n",
       "      <td>0</td>\n",
       "      <td>0.88</td>\n",
       "      <td>Hard</td>\n",
       "      <td>175.Pine_Warbler</td>\n",
       "      <td>175.Pine_Warbler</td>\n",
       "      <td>175.Pine_Warbler</td>\n",
       "      <td>175.Pine_Warbler</td>\n",
       "      <td>0.88</td>\n",
       "      <td>0.0125</td>\n",
       "      <td>0.0175</td>\n",
       "      <td>0.0125</td>\n",
       "    </tr>\n",
       "    <tr>\n",
       "      <th>1</th>\n",
       "      <td>5791dae225cb71000128ad5bNo-XAI</td>\n",
       "      <td>Chuck_Will_Widow_0051_796991.jpg</td>\n",
       "      <td>6</td>\n",
       "      <td>412124.0</td>\n",
       "      <td>411022</td>\n",
       "      <td>2022-05-05 14:14:35.473</td>\n",
       "      <td>0</td>\n",
       "      <td>0.566667</td>\n",
       "      <td>17</td>\n",
       "      <td>ResNet-50</td>\n",
       "      <td>022.Chuck_will_Widow</td>\n",
       "      <td>1</td>\n",
       "      <td>0.72</td>\n",
       "      <td>Medium</td>\n",
       "      <td>022.Chuck_will_Widow</td>\n",
       "      <td>105.Whip_poor_Will</td>\n",
       "      <td>105.Whip_poor_Will</td>\n",
       "      <td>105.Whip_poor_Will</td>\n",
       "      <td>0.72</td>\n",
       "      <td>0.0275</td>\n",
       "      <td>0.0225</td>\n",
       "      <td>0.0300</td>\n",
       "    </tr>\n",
       "    <tr>\n",
       "      <th>2</th>\n",
       "      <td>5791dae225cb71000128ad5bNo-XAI</td>\n",
       "      <td>Vesper_Sparrow_0065_125446.jpg</td>\n",
       "      <td>6</td>\n",
       "      <td>412124.0</td>\n",
       "      <td>411022</td>\n",
       "      <td>2022-05-05 14:14:35.473</td>\n",
       "      <td>0</td>\n",
       "      <td>0.566667</td>\n",
       "      <td>17</td>\n",
       "      <td>ResNet-50</td>\n",
       "      <td>131.Vesper_Sparrow</td>\n",
       "      <td>0</td>\n",
       "      <td>0.63</td>\n",
       "      <td>Medium</td>\n",
       "      <td>115.Brewer_Sparrow</td>\n",
       "      <td>131.Vesper_Sparrow</td>\n",
       "      <td>131.Vesper_Sparrow</td>\n",
       "      <td>131.Vesper_Sparrow</td>\n",
       "      <td>0.63</td>\n",
       "      <td>0.0225</td>\n",
       "      <td>0.0275</td>\n",
       "      <td>0.0300</td>\n",
       "    </tr>\n",
       "    <tr>\n",
       "      <th>3</th>\n",
       "      <td>5791dae225cb71000128ad5bNo-XAI</td>\n",
       "      <td>Western_Wood_Pewee_0009_98115.jpg</td>\n",
       "      <td>6</td>\n",
       "      <td>412124.0</td>\n",
       "      <td>411022</td>\n",
       "      <td>2022-05-05 14:14:35.473</td>\n",
       "      <td>0</td>\n",
       "      <td>0.566667</td>\n",
       "      <td>17</td>\n",
       "      <td>ResNet-50</td>\n",
       "      <td>102.Western_Wood_Pewee</td>\n",
       "      <td>0</td>\n",
       "      <td>0.78</td>\n",
       "      <td>Hard</td>\n",
       "      <td>039.Least_Flycatcher</td>\n",
       "      <td>102.Western_Wood_Pewee</td>\n",
       "      <td>040.Olive_sided_Flycatcher</td>\n",
       "      <td>102.Western_Wood_Pewee</td>\n",
       "      <td>0.78</td>\n",
       "      <td>0.0300</td>\n",
       "      <td>0.0200</td>\n",
       "      <td>0.0225</td>\n",
       "    </tr>\n",
       "    <tr>\n",
       "      <th>4</th>\n",
       "      <td>5791dae225cb71000128ad5bNo-XAI</td>\n",
       "      <td>Warbling_Vireo_0126_158696.jpg</td>\n",
       "      <td>6</td>\n",
       "      <td>412124.0</td>\n",
       "      <td>411022</td>\n",
       "      <td>2022-05-05 14:14:35.473</td>\n",
       "      <td>1</td>\n",
       "      <td>0.566667</td>\n",
       "      <td>17</td>\n",
       "      <td>ResNet-50</td>\n",
       "      <td>155.Warbling_Vireo</td>\n",
       "      <td>0</td>\n",
       "      <td>0.97</td>\n",
       "      <td>Hard</td>\n",
       "      <td>153.Philadelphia_Vireo</td>\n",
       "      <td>153.Philadelphia_Vireo</td>\n",
       "      <td>155.Warbling_Vireo</td>\n",
       "      <td>155.Warbling_Vireo</td>\n",
       "      <td>0.97</td>\n",
       "      <td>0.0250</td>\n",
       "      <td>0.0250</td>\n",
       "      <td>0.0250</td>\n",
       "    </tr>\n",
       "  </tbody>\n",
       "</table>\n",
       "</div>"
      ],
      "text/plain": [
       "                              UID                              Query  \\\n",
       "0  5791dae225cb71000128ad5bNo-XAI       Hooded_Oriole_0105_90875.jpg   \n",
       "1  5791dae225cb71000128ad5bNo-XAI   Chuck_Will_Widow_0051_796991.jpg   \n",
       "2  5791dae225cb71000128ad5bNo-XAI     Vesper_Sparrow_0065_125446.jpg   \n",
       "3  5791dae225cb71000128ad5bNo-XAI  Western_Wood_Pewee_0009_98115.jpg   \n",
       "4  5791dae225cb71000128ad5bNo-XAI     Warbling_Vireo_0126_158696.jpg   \n",
       "\n",
       "   Counter balance  Validation Reaction Time  Test Reaction Time  \\\n",
       "0                6                  412124.0              411022   \n",
       "1                6                  412124.0              411022   \n",
       "2                6                  412124.0              411022   \n",
       "3                6                  412124.0              411022   \n",
       "4                6                  412124.0              411022   \n",
       "\n",
       "                      Date  Correctness  Accuracy  Total Corrects     Method  \\\n",
       "0  2022-05-05 14:14:35.473            1  0.566667              17  ResNet-50   \n",
       "1  2022-05-05 14:14:35.473            0  0.566667              17  ResNet-50   \n",
       "2  2022-05-05 14:14:35.473            0  0.566667              17  ResNet-50   \n",
       "3  2022-05-05 14:14:35.473            0  0.566667              17  ResNet-50   \n",
       "4  2022-05-05 14:14:35.473            1  0.566667              17  ResNet-50   \n",
       "\n",
       "              GroundTruth  ClassifierCorrectness  ConfidenceScore  \\\n",
       "0       096.Hooded_Oriole                      0             0.88   \n",
       "1    022.Chuck_will_Widow                      1             0.72   \n",
       "2      131.Vesper_Sparrow                      0             0.63   \n",
       "3  102.Western_Wood_Pewee                      0             0.78   \n",
       "4      155.Warbling_Vireo                      0             0.97   \n",
       "\n",
       "  DifficultyLevel       ResNet-Prediction          KNN-Prediction  \\\n",
       "0            Hard        175.Pine_Warbler        175.Pine_Warbler   \n",
       "1          Medium    022.Chuck_will_Widow      105.Whip_poor_Will   \n",
       "2          Medium      115.Brewer_Sparrow      131.Vesper_Sparrow   \n",
       "3            Hard    039.Least_Flycatcher  102.Western_Wood_Pewee   \n",
       "4            Hard  153.Philadelphia_Vireo  153.Philadelphia_Vireo   \n",
       "\n",
       "               EMD-Prediction          CHM-Prediction  ResNet-Conf  KNN-Conf  \\\n",
       "0            175.Pine_Warbler        175.Pine_Warbler         0.88    0.0125   \n",
       "1          105.Whip_poor_Will      105.Whip_poor_Will         0.72    0.0275   \n",
       "2          131.Vesper_Sparrow      131.Vesper_Sparrow         0.63    0.0225   \n",
       "3  040.Olive_sided_Flycatcher  102.Western_Wood_Pewee         0.78    0.0300   \n",
       "4          155.Warbling_Vireo      155.Warbling_Vireo         0.97    0.0250   \n",
       "\n",
       "   EMD-Conf  CHM-Conf  \n",
       "0    0.0175    0.0125  \n",
       "1    0.0225    0.0300  \n",
       "2    0.0275    0.0300  \n",
       "3    0.0200    0.0225  \n",
       "4    0.0250    0.0250  "
      ]
     },
     "execution_count": 56,
     "metadata": {},
     "output_type": "execute_result"
    }
   ],
   "source": [
    "df.head(5)"
   ]
  },
  {
   "cell_type": "code",
   "execution_count": 57,
   "id": "03aa90c2-12dd-42a2-b4c4-106fa78dda1c",
   "metadata": {
    "pycharm": {
     "name": "#%%\n"
    }
   },
   "outputs": [
    {
     "name": "stdout",
     "output_type": "stream",
     "text": [
      "total 10860 etnries\n"
     ]
    }
   ],
   "source": [
    "print(f\"total {len(df)} entries\")"
   ]
  },
  {
   "cell_type": "markdown",
   "id": "a15b0eb8-a723-42ee-8e3d-ef1ae0dee9d7",
   "metadata": {
    "pycharm": {
     "name": "#%% md\n"
    }
   },
   "source": [
    "## Removing Bad Users \n"
   ]
  },
  {
   "cell_type": "code",
   "execution_count": 58,
   "id": "9602feb0-65f0-4463-8d9d-afa425a4c21e",
   "metadata": {
    "pycharm": {
     "name": "#%%\n"
    }
   },
   "outputs": [],
   "source": [
    "df = df.drop(df[df.Accuracy <= 0.5].index)"
   ]
  },
  {
   "cell_type": "markdown",
   "id": "3f60a98e-93a5-447a-bf4d-98135a7cb492",
   "metadata": {
    "pycharm": {
     "name": "#%% md\n"
    }
   },
   "source": [
    "## Orders for Plotting"
   ]
  },
  {
   "cell_type": "code",
   "execution_count": 59,
   "id": "485f5012-9f67-4f16-9a3c-09e53b1f2e23",
   "metadata": {
    "pycharm": {
     "name": "#%%\n"
    }
   },
   "outputs": [],
   "source": [
    "ORDER_DICT = {'ResNet-50': 1,\n",
    "              'kNN': 2,\n",
    "              'EMD-NN':  3,\n",
    "              'EMD-Corr': 4,\n",
    "              'CHM-NN': 5,\n",
    "              'CHM-Corr': 6}"
   ]
  },
  {
   "cell_type": "code",
   "execution_count": 60,
   "id": "b8977216-24de-4fe8-bb3d-4272cc225fa1",
   "metadata": {
    "pycharm": {
     "name": "#%%\n"
    }
   },
   "outputs": [],
   "source": [
    "df = df.sort_values(by='Method', key=lambda x: x.map(ORDER_DICT))"
   ]
  },
  {
   "cell_type": "code",
   "execution_count": 61,
   "id": "3e64979c-68e4-4d12-81cc-271a4203457e",
   "metadata": {
    "pycharm": {
     "name": "#%%\n"
    }
   },
   "outputs": [],
   "source": [
    "# UTILITY FUNCTION\n",
    "\n",
    "def load_part_of_image(image_path, l,t,r,b):\n",
    "  image = Image.open(image_path)\n",
    "  width, height = image.size\n",
    "\n",
    "  new_width = width\n",
    "  new_height = height\n",
    "\n",
    "  left = (width - new_width) / 2\n",
    "  top = (height - new_height) / 2\n",
    "  right = (width + new_width) / 2\n",
    "  bottom = (height + new_height) / 2\n",
    "\n",
    "  # Crop the center of the image\n",
    "  return image.crop(\n",
    "      (left + l, top + t, right - r, bottom - b)\n",
    "  )"
   ]
  },
  {
   "cell_type": "markdown",
   "id": "e464ae6c-866f-41fd-ac75-3e7dfd7a59de",
   "metadata": {
    "pycharm": {
     "name": "#%% md\n"
    }
   },
   "source": [
    "# Basic Analysis"
   ]
  },
  {
   "cell_type": "markdown",
   "id": "e5661c63-0760-411f-92dd-2ad5e7599e1c",
   "metadata": {
    "pycharm": {
     "name": "#%% md\n"
    }
   },
   "source": [
    "## Human+AI Accuracy"
   ]
  },
  {
   "cell_type": "code",
   "execution_count": 62,
   "id": "fa2709e5-46f0-4c3a-8096-9ceecdc99e72",
   "metadata": {
    "pycharm": {
     "name": "#%%\n"
    }
   },
   "outputs": [],
   "source": [
    "accuracy_df = df.groupby(['UID', 'Method'])['Correctness'].mean().reset_index().groupby(['Method'])['Correctness'].agg(['mean', 'std']).reset_index().sort_values(by='Method', key=lambda x: x.map(ORDER_DICT))\n",
    "accuracy_df['mean']*=100\n",
    "accuracy_df['std']*=100"
   ]
  },
  {
   "cell_type": "code",
   "execution_count": 63,
   "id": "4ae5a7f4-4ea8-4089-8b63-687623d07b8c",
   "metadata": {
    "pycharm": {
     "name": "#%%\n"
    }
   },
   "outputs": [
    {
     "data": {
      "text/html": [
       "<div>\n",
       "<style scoped>\n",
       "    .dataframe tbody tr th:only-of-type {\n",
       "        vertical-align: middle;\n",
       "    }\n",
       "\n",
       "    .dataframe tbody tr th {\n",
       "        vertical-align: top;\n",
       "    }\n",
       "\n",
       "    .dataframe thead th {\n",
       "        text-align: right;\n",
       "    }\n",
       "</style>\n",
       "<table border=\"1\" class=\"dataframe\">\n",
       "  <thead>\n",
       "    <tr style=\"text-align: right;\">\n",
       "      <th></th>\n",
       "      <th>Method</th>\n",
       "      <th>mean</th>\n",
       "      <th>std</th>\n",
       "    </tr>\n",
       "  </thead>\n",
       "  <tbody>\n",
       "    <tr>\n",
       "      <th>4</th>\n",
       "      <td>ResNet-50</td>\n",
       "      <td>65.500000</td>\n",
       "      <td>7.461767</td>\n",
       "    </tr>\n",
       "    <tr>\n",
       "      <th>5</th>\n",
       "      <td>kNN</td>\n",
       "      <td>64.745763</td>\n",
       "      <td>7.143933</td>\n",
       "    </tr>\n",
       "    <tr>\n",
       "      <th>3</th>\n",
       "      <td>EMD-NN</td>\n",
       "      <td>64.124294</td>\n",
       "      <td>7.066704</td>\n",
       "    </tr>\n",
       "    <tr>\n",
       "      <th>2</th>\n",
       "      <td>EMD-Corr</td>\n",
       "      <td>67.643678</td>\n",
       "      <td>7.440698</td>\n",
       "    </tr>\n",
       "    <tr>\n",
       "      <th>1</th>\n",
       "      <td>CHM-NN</td>\n",
       "      <td>65.722222</td>\n",
       "      <td>8.143988</td>\n",
       "    </tr>\n",
       "    <tr>\n",
       "      <th>0</th>\n",
       "      <td>CHM-Corr</td>\n",
       "      <td>69.717514</td>\n",
       "      <td>9.082174</td>\n",
       "    </tr>\n",
       "  </tbody>\n",
       "</table>\n",
       "</div>"
      ],
      "text/plain": [
       "      Method       mean       std\n",
       "4  ResNet-50  65.500000  7.461767\n",
       "5        kNN  64.745763  7.143933\n",
       "3     EMD-NN  64.124294  7.066704\n",
       "2   EMD-Corr  67.643678  7.440698\n",
       "1     CHM-NN  65.722222  8.143988\n",
       "0   CHM-Corr  69.717514  9.082174"
      ]
     },
     "execution_count": 63,
     "metadata": {},
     "output_type": "execute_result"
    }
   ],
   "source": [
    "accuracy_df"
   ]
  },
  {
   "cell_type": "code",
   "execution_count": 64,
   "id": "23c07fa5-9051-4366-b58a-25f81a8fd611",
   "metadata": {
    "pycharm": {
     "name": "#%%\n"
    }
   },
   "outputs": [
    {
     "data": {
      "image/png": "[encoded data removed]",
      "text/plain": [
       "<Figure size 720x432 with 1 Axes>"
      ]
     },
     "metadata": {},
     "output_type": "display_data"
    }
   ],
   "source": [
    "fig, ax = plt.subplots(1, figsize=(10, 6))\n",
    "\n",
    "sns.barplot(data=accuracy_df, x='Method', y='mean', ax=ax, palette=\"tab10\")\n",
    "\n",
    "for container in ax.containers:\n",
    "  ax.bar_label(container, fontsize=15, fmt='%.2f%%')\n",
    "    \n",
    "ax.tick_params(axis=\"both\", which=\"both\", bottom=\"off\", top=\"off\", labelbottom=\"on\", left=\"off\", right=\"off\", labelleft=\"on\")\n",
    "\n",
    "# Draw horizontal axis lines\n",
    "vals = ax.get_yticks()\n",
    "for tick in vals:\n",
    "  ax.axhline(y=tick, linestyle='dashed', alpha=0.4, color='#eeeeee', zorder=1)\n",
    "\n",
    "plt.title(f'Human+AI Accuracy - {DATA_SET}\\n', fontsize=18)\n",
    "plt.errorbar(accuracy_df['Method'], accuracy_df['mean'], yerr=accuracy_df['std'], fmt=\"o\", color=\"darkred\")\n",
    "plt.show()"
   ]
  },
  {
   "cell_type": "markdown",
   "id": "d1d656b2-f51a-4ee2-8f6e-7df94bb687f9",
   "metadata": {
    "tags": [],
    "pycharm": {
     "name": "#%% md\n"
    }
   },
   "source": [
    "# Confusing and Easy samples for Human"
   ]
  },
  {
   "cell_type": "markdown",
   "id": "ac1fbbe9-565a-43f1-8dc6-03e6c186bd6b",
   "metadata": {
    "pycharm": {
     "name": "#%% md\n"
    }
   },
   "source": [
    "## Confusing"
   ]
  },
  {
   "cell_type": "code",
   "execution_count": 65,
   "id": "63b8ddc4-31b2-41b5-9554-71a2028cd557",
   "metadata": {
    "pycharm": {
     "name": "#%%\n"
    }
   },
   "outputs": [],
   "source": [
    "tmp = df.groupby(['Query'])['Correctness'].agg(['mean', 'count']).reset_index().sort_values(['mean', 'count'], ascending=[True, False])\n",
    "tmp = tmp[ (tmp['mean'] < 0.25)]  \n",
    "confusing_queries = tmp.sort_values(['mean', 'count'], ascending=[True, False])['Query'].values"
   ]
  },
  {
   "cell_type": "code",
   "execution_count": 66,
   "id": "267d6356-f7bf-44f6-99ec-11dab8f045da",
   "metadata": {
    "pycharm": {
     "name": "#%%\n"
    }
   },
   "outputs": [],
   "source": [
    "confusing_df = df[df['Query'].isin(confusing_queries)]"
   ]
  },
  {
   "cell_type": "code",
   "execution_count": 67,
   "id": "b948be32-1bd7-482c-9ea2-d308b4a545be",
   "metadata": {
    "pycharm": {
     "name": "#%%\n"
    }
   },
   "outputs": [
    {
     "data": {
      "image/png": "[encoded data removed]",
      "text/plain": [
       "<Figure size 720x360 with 1 Axes>"
      ]
     },
     "metadata": {},
     "output_type": "display_data"
    }
   ],
   "source": [
    "fig, ax = plt.subplots(1, figsize=(10,5))\n",
    "sns.histplot(data=confusing_df, x='Method', ax=ax)\n",
    "\n",
    "for container in ax.containers:\n",
    "  ax.bar_label(container, fontsize=15)\n",
    "    \n",
    "ax.tick_params(axis=\"both\", which=\"both\", bottom=\"off\", top=\"off\", labelbottom=\"on\", left=\"off\", right=\"off\", labelleft=\"on\")\n",
    "\n",
    "# Draw horizontal axis lines\n",
    "vals = ax.get_yticks()\n",
    "for tick in vals:\n",
    "  ax.axhline(y=tick, linestyle='dashed', alpha=0.4, color='#eeeeee', zorder=1)\n",
    "\n",
    "plt.title(f'Confusing - {DATA_SET}', fontsize=16)\n",
    "plt.show()"
   ]
  },
  {
   "cell_type": "code",
   "execution_count": 68,
   "id": "5a7f8734-deef-4678-b030-e4333bc59b86",
   "metadata": {
    "pycharm": {
     "name": "#%%\n"
    }
   },
   "outputs": [
    {
     "data": {
      "image/png": "[encoded data removed]",
      "text/plain": [
       "<Figure size 864x432 with 2 Axes>"
      ]
     },
     "metadata": {},
     "output_type": "display_data"
    }
   ],
   "source": [
    "with sns.plotting_context('paper', font_scale = 1.4):\n",
    "  g = sns.FacetGrid(confusing_df.groupby(['Method', 'ClassifierCorrectness'])['UID'].count().reset_index(), col=\"ClassifierCorrectness\", height=6)\n",
    "  g.map(sns.barplot, \"Method\", \"UID\", order=['ResNet-50', 'kNN', 'EMD-NN', 'EMD-Corr', 'CHM-NN', 'CHM-Corr'], palette=\"tab10\")\n",
    "\n",
    "  for ax in g.axes.flat:\n",
    "    for container in ax.containers:\n",
    "      ax.bar_label(container, fontsize=14)\n",
    "\n",
    "  axes = g.axes.flatten()\n",
    "  axes[0].set_title('AI is Wrong')\n",
    "  axes[1].set_title('AI is Correct')\n",
    "  axes[0].set_ylabel('Number of Queries')\n",
    "  plt.savefig(f'../plots/human-study-main-results/CUB-ConfusingQueries.pdf', dpi=100, bbox_inches='tight')\n",
    "  plt.show()"
   ]
  },
  {
   "cell_type": "code",
   "execution_count": 69,
   "id": "a5b4ec95-ca49-47a1-aa54-bfda421c9ebc",
   "metadata": {
    "pycharm": {
     "name": "#%%\n"
    }
   },
   "outputs": [
    {
     "name": "stderr",
     "output_type": "stream",
     "text": [
      "/tmp/ipykernel_2122802/245100152.py:3: SettingWithCopyWarning: \n",
      "A value is trying to be set on a copy of a slice from a DataFrame.\n",
      "Try using .loc[row_indexer,col_indexer] = value instead\n",
      "\n",
      "See the caveats in the documentation: https://pandas.pydata.org/pandas-docs/stable/user_guide/indexing.html#returning-a-view-versus-a-copy\n",
      "  confusing_df['GroundTruth'] = confusing_df['GroundTruth'].apply(lambda x: ' '.join((x.replace('_', ' ').replace('.', ' ').title()).split(' ')[1:]))\n",
      "/tmp/ipykernel_2122802/245100152.py:5: SettingWithCopyWarning: \n",
      "A value is trying to be set on a copy of a slice from a DataFrame.\n",
      "Try using .loc[row_indexer,col_indexer] = value instead\n",
      "\n",
      "See the caveats in the documentation: https://pandas.pydata.org/pandas-docs/stable/user_guide/indexing.html#returning-a-view-versus-a-copy\n",
      "  confusing_df['ResNet-Prediction'] = confusing_df['ResNet-Prediction'].apply(lambda x: ' '.join((x.replace('_', ' ').replace('.', ' ').title()).split(' ')[1:]))\n",
      "/tmp/ipykernel_2122802/245100152.py:6: SettingWithCopyWarning: \n",
      "A value is trying to be set on a copy of a slice from a DataFrame.\n",
      "Try using .loc[row_indexer,col_indexer] = value instead\n",
      "\n",
      "See the caveats in the documentation: https://pandas.pydata.org/pandas-docs/stable/user_guide/indexing.html#returning-a-view-versus-a-copy\n",
      "  confusing_df['KNN-Prediction']    = confusing_df['KNN-Prediction'].apply(lambda x: ' '.join((x.replace('_', ' ').replace('.', ' ').title()).split(' ')[1:]))\n",
      "/tmp/ipykernel_2122802/245100152.py:7: SettingWithCopyWarning: \n",
      "A value is trying to be set on a copy of a slice from a DataFrame.\n",
      "Try using .loc[row_indexer,col_indexer] = value instead\n",
      "\n",
      "See the caveats in the documentation: https://pandas.pydata.org/pandas-docs/stable/user_guide/indexing.html#returning-a-view-versus-a-copy\n",
      "  confusing_df['EMD-Prediction']    = confusing_df['EMD-Prediction'].apply(lambda x: ' '.join((x.replace('_', ' ').replace('.', ' ').title()).split(' ')[1:]))\n",
      "/tmp/ipykernel_2122802/245100152.py:8: SettingWithCopyWarning: \n",
      "A value is trying to be set on a copy of a slice from a DataFrame.\n",
      "Try using .loc[row_indexer,col_indexer] = value instead\n",
      "\n",
      "See the caveats in the documentation: https://pandas.pydata.org/pandas-docs/stable/user_guide/indexing.html#returning-a-view-versus-a-copy\n",
      "  confusing_df['CHM-Prediction']    = confusing_df['CHM-Prediction'].apply(lambda x: ' '.join((x.replace('_', ' ').replace('.', ' ').title()).split(' ')[1:]))\n"
     ]
    }
   ],
   "source": [
    "# Cleaning the labels (removing extra characters) the dirty way!\n",
    "\n",
    "confusing_df['GroundTruth'] = confusing_df['GroundTruth'].apply(lambda x: ' '.join((x.replace('_', ' ').replace('.', ' ').title()).split(' ')[1:]))\n",
    "\n",
    "confusing_df['ResNet-Prediction'] = confusing_df['ResNet-Prediction'].apply(lambda x: ' '.join((x.replace('_', ' ').replace('.', ' ').title()).split(' ')[1:]))\n",
    "confusing_df['KNN-Prediction']    = confusing_df['KNN-Prediction'].apply(lambda x: ' '.join((x.replace('_', ' ').replace('.', ' ').title()).split(' ')[1:]))\n",
    "confusing_df['EMD-Prediction']    = confusing_df['EMD-Prediction'].apply(lambda x: ' '.join((x.replace('_', ' ').replace('.', ' ').title()).split(' ')[1:]))\n",
    "confusing_df['CHM-Prediction']    = confusing_df['CHM-Prediction'].apply(lambda x: ' '.join((x.replace('_', ' ').replace('.', ' ').title()).split(' ')[1:]))"
   ]
  },
  {
   "cell_type": "code",
   "execution_count": 70,
   "id": "8fc6430f-c597-4baf-ac78-e213456502aa",
   "metadata": {
    "pycharm": {
     "name": "#%%\n"
    }
   },
   "outputs": [],
   "source": [
    "resnet_c = confusing_df[confusing_df['Method']=='ResNet-50']\n",
    "resnet_confusion = resnet_c.groupby(['GroundTruth', 'ResNet-Prediction'])['UID'].count().to_frame().sort_values(by='UID', ascending=False).reset_index()"
   ]
  },
  {
   "cell_type": "code",
   "execution_count": 71,
   "id": "1cd219a2-1e09-4dd0-aa16-877865b5c159",
   "metadata": {
    "pycharm": {
     "name": "#%%\n"
    }
   },
   "outputs": [
    {
     "data": {
      "text/html": [
       "<div>\n",
       "<style scoped>\n",
       "    .dataframe tbody tr th:only-of-type {\n",
       "        vertical-align: middle;\n",
       "    }\n",
       "\n",
       "    .dataframe tbody tr th {\n",
       "        vertical-align: top;\n",
       "    }\n",
       "\n",
       "    .dataframe thead th {\n",
       "        text-align: right;\n",
       "    }\n",
       "</style>\n",
       "<table border=\"1\" class=\"dataframe\">\n",
       "  <thead>\n",
       "    <tr style=\"text-align: right;\">\n",
       "      <th></th>\n",
       "      <th>GroundTruth</th>\n",
       "      <th>ResNet-Prediction</th>\n",
       "      <th>UID</th>\n",
       "    </tr>\n",
       "  </thead>\n",
       "  <tbody>\n",
       "    <tr>\n",
       "      <th>0</th>\n",
       "      <td>Forsters Tern</td>\n",
       "      <td>Common Tern</td>\n",
       "      <td>17</td>\n",
       "    </tr>\n",
       "    <tr>\n",
       "      <th>1</th>\n",
       "      <td>Great Grey Shrike</td>\n",
       "      <td>Loggerhead Shrike</td>\n",
       "      <td>10</td>\n",
       "    </tr>\n",
       "    <tr>\n",
       "      <th>2</th>\n",
       "      <td>Nelson Sharp Tailed Sparrow</td>\n",
       "      <td>Le Conte Sparrow</td>\n",
       "      <td>8</td>\n",
       "    </tr>\n",
       "    <tr>\n",
       "      <th>3</th>\n",
       "      <td>Acadian Flycatcher</td>\n",
       "      <td>Least Flycatcher</td>\n",
       "      <td>7</td>\n",
       "    </tr>\n",
       "    <tr>\n",
       "      <th>4</th>\n",
       "      <td>American Crow</td>\n",
       "      <td>Common Raven</td>\n",
       "      <td>7</td>\n",
       "    </tr>\n",
       "  </tbody>\n",
       "</table>\n",
       "</div>"
      ],
      "text/plain": [
       "                   GroundTruth  ResNet-Prediction  UID\n",
       "0                Forsters Tern        Common Tern   17\n",
       "1            Great Grey Shrike  Loggerhead Shrike   10\n",
       "2  Nelson Sharp Tailed Sparrow   Le Conte Sparrow    8\n",
       "3           Acadian Flycatcher   Least Flycatcher    7\n",
       "4                American Crow       Common Raven    7"
      ]
     },
     "execution_count": 71,
     "metadata": {},
     "output_type": "execute_result"
    }
   ],
   "source": [
    "resnet_confusion.head(5)"
   ]
  },
  {
   "cell_type": "code",
   "execution_count": 72,
   "id": "6a24fff4-6b39-407f-8b3c-e4587ac9d4a8",
   "metadata": {
    "pycharm": {
     "name": "#%%\n"
    }
   },
   "outputs": [],
   "source": [
    "knn_c = confusing_df[confusing_df['Method']=='kNN']\n",
    "knn_confusion = knn_c.groupby(['GroundTruth', 'KNN-Prediction'])['UID'].count().to_frame().sort_values(by='UID', ascending=False).reset_index()"
   ]
  },
  {
   "cell_type": "code",
   "execution_count": 73,
   "id": "5424d0a9-fc1b-4454-b3dd-7ca6ced1d0cf",
   "metadata": {
    "pycharm": {
     "name": "#%%\n"
    }
   },
   "outputs": [
    {
     "data": {
      "text/html": [
       "<div>\n",
       "<style scoped>\n",
       "    .dataframe tbody tr th:only-of-type {\n",
       "        vertical-align: middle;\n",
       "    }\n",
       "\n",
       "    .dataframe tbody tr th {\n",
       "        vertical-align: top;\n",
       "    }\n",
       "\n",
       "    .dataframe thead th {\n",
       "        text-align: right;\n",
       "    }\n",
       "</style>\n",
       "<table border=\"1\" class=\"dataframe\">\n",
       "  <thead>\n",
       "    <tr style=\"text-align: right;\">\n",
       "      <th></th>\n",
       "      <th>GroundTruth</th>\n",
       "      <th>KNN-Prediction</th>\n",
       "      <th>UID</th>\n",
       "    </tr>\n",
       "  </thead>\n",
       "  <tbody>\n",
       "    <tr>\n",
       "      <th>0</th>\n",
       "      <td>California Gull</td>\n",
       "      <td>Western Gull</td>\n",
       "      <td>21</td>\n",
       "    </tr>\n",
       "    <tr>\n",
       "      <th>1</th>\n",
       "      <td>Elegant Tern</td>\n",
       "      <td>Caspian Tern</td>\n",
       "      <td>13</td>\n",
       "    </tr>\n",
       "    <tr>\n",
       "      <th>2</th>\n",
       "      <td>Fish Crow</td>\n",
       "      <td>American Crow</td>\n",
       "      <td>12</td>\n",
       "    </tr>\n",
       "    <tr>\n",
       "      <th>3</th>\n",
       "      <td>Rusty Blackbird</td>\n",
       "      <td>Brewer Blackbird</td>\n",
       "      <td>11</td>\n",
       "    </tr>\n",
       "    <tr>\n",
       "      <th>4</th>\n",
       "      <td>Acadian Flycatcher</td>\n",
       "      <td>Yellow Bellied Flycatcher</td>\n",
       "      <td>10</td>\n",
       "    </tr>\n",
       "  </tbody>\n",
       "</table>\n",
       "</div>"
      ],
      "text/plain": [
       "          GroundTruth             KNN-Prediction  UID\n",
       "0     California Gull               Western Gull   21\n",
       "1        Elegant Tern               Caspian Tern   13\n",
       "2           Fish Crow              American Crow   12\n",
       "3     Rusty Blackbird           Brewer Blackbird   11\n",
       "4  Acadian Flycatcher  Yellow Bellied Flycatcher   10"
      ]
     },
     "execution_count": 73,
     "metadata": {},
     "output_type": "execute_result"
    }
   ],
   "source": [
    "knn_confusion.head(5)"
   ]
  },
  {
   "cell_type": "code",
   "execution_count": 74,
   "id": "31be9f19-1e2e-4839-b6f1-b41e52fc9a77",
   "metadata": {
    "pycharm": {
     "name": "#%%\n"
    }
   },
   "outputs": [],
   "source": [
    "emd_nns = confusing_df[confusing_df['Method']=='EMD-Corr']\n",
    "emd_nn_confusion = emd_nns.groupby(['GroundTruth', 'EMD-Prediction'])['UID'].count().to_frame().sort_values(by='UID', ascending=False).reset_index()"
   ]
  },
  {
   "cell_type": "code",
   "execution_count": 75,
   "id": "309b4051-bb4a-473d-84cc-9ce761e21f32",
   "metadata": {
    "pycharm": {
     "name": "#%%\n"
    }
   },
   "outputs": [
    {
     "data": {
      "text/html": [
       "<div>\n",
       "<style scoped>\n",
       "    .dataframe tbody tr th:only-of-type {\n",
       "        vertical-align: middle;\n",
       "    }\n",
       "\n",
       "    .dataframe tbody tr th {\n",
       "        vertical-align: top;\n",
       "    }\n",
       "\n",
       "    .dataframe thead th {\n",
       "        text-align: right;\n",
       "    }\n",
       "</style>\n",
       "<table border=\"1\" class=\"dataframe\">\n",
       "  <thead>\n",
       "    <tr style=\"text-align: right;\">\n",
       "      <th></th>\n",
       "      <th>GroundTruth</th>\n",
       "      <th>EMD-Prediction</th>\n",
       "      <th>UID</th>\n",
       "    </tr>\n",
       "  </thead>\n",
       "  <tbody>\n",
       "    <tr>\n",
       "      <th>0</th>\n",
       "      <td>California Gull</td>\n",
       "      <td>Western Gull</td>\n",
       "      <td>15</td>\n",
       "    </tr>\n",
       "    <tr>\n",
       "      <th>1</th>\n",
       "      <td>Common Tern</td>\n",
       "      <td>Artic Tern</td>\n",
       "      <td>12</td>\n",
       "    </tr>\n",
       "    <tr>\n",
       "      <th>2</th>\n",
       "      <td>Nelson Sharp Tailed Sparrow</td>\n",
       "      <td>Savannah Sparrow</td>\n",
       "      <td>8</td>\n",
       "    </tr>\n",
       "    <tr>\n",
       "      <th>3</th>\n",
       "      <td>Acadian Flycatcher</td>\n",
       "      <td>Yellow Bellied Flycatcher</td>\n",
       "      <td>8</td>\n",
       "    </tr>\n",
       "    <tr>\n",
       "      <th>4</th>\n",
       "      <td>Yellow Bellied Flycatcher</td>\n",
       "      <td>Acadian Flycatcher</td>\n",
       "      <td>8</td>\n",
       "    </tr>\n",
       "  </tbody>\n",
       "</table>\n",
       "</div>"
      ],
      "text/plain": [
       "                   GroundTruth             EMD-Prediction  UID\n",
       "0              California Gull               Western Gull   15\n",
       "1                  Common Tern                 Artic Tern   12\n",
       "2  Nelson Sharp Tailed Sparrow           Savannah Sparrow    8\n",
       "3           Acadian Flycatcher  Yellow Bellied Flycatcher    8\n",
       "4    Yellow Bellied Flycatcher         Acadian Flycatcher    8"
      ]
     },
     "execution_count": 75,
     "metadata": {},
     "output_type": "execute_result"
    }
   ],
   "source": [
    "emd_nn_confusion.head(5)"
   ]
  },
  {
   "cell_type": "code",
   "execution_count": 76,
   "id": "b916f97b-a978-43ad-af2d-098b7ed41017",
   "metadata": {
    "pycharm": {
     "name": "#%%\n"
    }
   },
   "outputs": [],
   "source": [
    "emd_corrs = confusing_df[confusing_df['Method']=='EMD-Corr']\n",
    "emd_corr_confusion = emd_corrs.groupby(['GroundTruth', 'EMD-Prediction'])['UID'].count().to_frame().sort_values(by='UID', ascending=False).reset_index()"
   ]
  },
  {
   "cell_type": "code",
   "execution_count": 77,
   "id": "620220cf-0dc3-471b-8476-1977daab8fee",
   "metadata": {
    "pycharm": {
     "name": "#%%\n"
    }
   },
   "outputs": [
    {
     "data": {
      "text/html": [
       "<div>\n",
       "<style scoped>\n",
       "    .dataframe tbody tr th:only-of-type {\n",
       "        vertical-align: middle;\n",
       "    }\n",
       "\n",
       "    .dataframe tbody tr th {\n",
       "        vertical-align: top;\n",
       "    }\n",
       "\n",
       "    .dataframe thead th {\n",
       "        text-align: right;\n",
       "    }\n",
       "</style>\n",
       "<table border=\"1\" class=\"dataframe\">\n",
       "  <thead>\n",
       "    <tr style=\"text-align: right;\">\n",
       "      <th></th>\n",
       "      <th>GroundTruth</th>\n",
       "      <th>EMD-Prediction</th>\n",
       "      <th>UID</th>\n",
       "    </tr>\n",
       "  </thead>\n",
       "  <tbody>\n",
       "    <tr>\n",
       "      <th>0</th>\n",
       "      <td>California Gull</td>\n",
       "      <td>Western Gull</td>\n",
       "      <td>15</td>\n",
       "    </tr>\n",
       "    <tr>\n",
       "      <th>1</th>\n",
       "      <td>Common Tern</td>\n",
       "      <td>Artic Tern</td>\n",
       "      <td>12</td>\n",
       "    </tr>\n",
       "    <tr>\n",
       "      <th>2</th>\n",
       "      <td>Nelson Sharp Tailed Sparrow</td>\n",
       "      <td>Savannah Sparrow</td>\n",
       "      <td>8</td>\n",
       "    </tr>\n",
       "    <tr>\n",
       "      <th>3</th>\n",
       "      <td>Acadian Flycatcher</td>\n",
       "      <td>Yellow Bellied Flycatcher</td>\n",
       "      <td>8</td>\n",
       "    </tr>\n",
       "    <tr>\n",
       "      <th>4</th>\n",
       "      <td>Yellow Bellied Flycatcher</td>\n",
       "      <td>Acadian Flycatcher</td>\n",
       "      <td>8</td>\n",
       "    </tr>\n",
       "  </tbody>\n",
       "</table>\n",
       "</div>"
      ],
      "text/plain": [
       "                   GroundTruth             EMD-Prediction  UID\n",
       "0              California Gull               Western Gull   15\n",
       "1                  Common Tern                 Artic Tern   12\n",
       "2  Nelson Sharp Tailed Sparrow           Savannah Sparrow    8\n",
       "3           Acadian Flycatcher  Yellow Bellied Flycatcher    8\n",
       "4    Yellow Bellied Flycatcher         Acadian Flycatcher    8"
      ]
     },
     "execution_count": 77,
     "metadata": {},
     "output_type": "execute_result"
    }
   ],
   "source": [
    "emd_corr_confusion.head(5)"
   ]
  },
  {
   "cell_type": "code",
   "execution_count": 78,
   "id": "12d3fcdf-5ed4-410c-bd72-786063f7d095",
   "metadata": {
    "pycharm": {
     "name": "#%%\n"
    }
   },
   "outputs": [],
   "source": [
    "chm_nns = confusing_df[confusing_df['Method']=='CHM-NN']\n",
    "chm_nn_confusion = chm_nns.groupby(['GroundTruth', 'CHM-Prediction'])['UID'].count().to_frame().sort_values(by='UID', ascending=False).reset_index()"
   ]
  },
  {
   "cell_type": "code",
   "execution_count": 79,
   "id": "c7e5be44-72a8-4828-b5f6-95dfef538e4d",
   "metadata": {
    "pycharm": {
     "name": "#%%\n"
    }
   },
   "outputs": [
    {
     "data": {
      "text/html": [
       "<div>\n",
       "<style scoped>\n",
       "    .dataframe tbody tr th:only-of-type {\n",
       "        vertical-align: middle;\n",
       "    }\n",
       "\n",
       "    .dataframe tbody tr th {\n",
       "        vertical-align: top;\n",
       "    }\n",
       "\n",
       "    .dataframe thead th {\n",
       "        text-align: right;\n",
       "    }\n",
       "</style>\n",
       "<table border=\"1\" class=\"dataframe\">\n",
       "  <thead>\n",
       "    <tr style=\"text-align: right;\">\n",
       "      <th></th>\n",
       "      <th>GroundTruth</th>\n",
       "      <th>CHM-Prediction</th>\n",
       "      <th>UID</th>\n",
       "    </tr>\n",
       "  </thead>\n",
       "  <tbody>\n",
       "    <tr>\n",
       "      <th>0</th>\n",
       "      <td>Great Grey Shrike</td>\n",
       "      <td>Loggerhead Shrike</td>\n",
       "      <td>19</td>\n",
       "    </tr>\n",
       "    <tr>\n",
       "      <th>1</th>\n",
       "      <td>Le Conte Sparrow</td>\n",
       "      <td>Nelson Sharp Tailed Sparrow</td>\n",
       "      <td>15</td>\n",
       "    </tr>\n",
       "    <tr>\n",
       "      <th>2</th>\n",
       "      <td>California Gull</td>\n",
       "      <td>Western Gull</td>\n",
       "      <td>15</td>\n",
       "    </tr>\n",
       "    <tr>\n",
       "      <th>3</th>\n",
       "      <td>Louisiana Waterthrush</td>\n",
       "      <td>Northern Waterthrush</td>\n",
       "      <td>12</td>\n",
       "    </tr>\n",
       "    <tr>\n",
       "      <th>4</th>\n",
       "      <td>Horned Grebe</td>\n",
       "      <td>Eared Grebe</td>\n",
       "      <td>9</td>\n",
       "    </tr>\n",
       "  </tbody>\n",
       "</table>\n",
       "</div>"
      ],
      "text/plain": [
       "             GroundTruth               CHM-Prediction  UID\n",
       "0      Great Grey Shrike            Loggerhead Shrike   19\n",
       "1       Le Conte Sparrow  Nelson Sharp Tailed Sparrow   15\n",
       "2        California Gull                 Western Gull   15\n",
       "3  Louisiana Waterthrush         Northern Waterthrush   12\n",
       "4           Horned Grebe                  Eared Grebe    9"
      ]
     },
     "execution_count": 79,
     "metadata": {},
     "output_type": "execute_result"
    }
   ],
   "source": [
    "chm_nn_confusion.head(5)"
   ]
  },
  {
   "cell_type": "code",
   "execution_count": 80,
   "id": "d72015f6-56c3-470e-86b6-a95523a1320b",
   "metadata": {
    "pycharm": {
     "name": "#%%\n"
    }
   },
   "outputs": [],
   "source": [
    "chm_corrs = confusing_df[confusing_df['Method']=='CHM-Corr']\n",
    "chm_corr_confusion = chm_corrs.groupby(['GroundTruth', 'CHM-Prediction'])['UID'].count().to_frame().sort_values(by='UID', ascending=False).reset_index()"
   ]
  },
  {
   "cell_type": "code",
   "execution_count": 81,
   "id": "d3d222ed-91db-4237-96dc-08fe750e3731",
   "metadata": {
    "pycharm": {
     "name": "#%%\n"
    }
   },
   "outputs": [
    {
     "data": {
      "text/html": [
       "<div>\n",
       "<style scoped>\n",
       "    .dataframe tbody tr th:only-of-type {\n",
       "        vertical-align: middle;\n",
       "    }\n",
       "\n",
       "    .dataframe tbody tr th {\n",
       "        vertical-align: top;\n",
       "    }\n",
       "\n",
       "    .dataframe thead th {\n",
       "        text-align: right;\n",
       "    }\n",
       "</style>\n",
       "<table border=\"1\" class=\"dataframe\">\n",
       "  <thead>\n",
       "    <tr style=\"text-align: right;\">\n",
       "      <th></th>\n",
       "      <th>GroundTruth</th>\n",
       "      <th>CHM-Prediction</th>\n",
       "      <th>UID</th>\n",
       "    </tr>\n",
       "  </thead>\n",
       "  <tbody>\n",
       "    <tr>\n",
       "      <th>0</th>\n",
       "      <td>Great Grey Shrike</td>\n",
       "      <td>Loggerhead Shrike</td>\n",
       "      <td>20</td>\n",
       "    </tr>\n",
       "    <tr>\n",
       "      <th>1</th>\n",
       "      <td>Horned Grebe</td>\n",
       "      <td>Eared Grebe</td>\n",
       "      <td>15</td>\n",
       "    </tr>\n",
       "    <tr>\n",
       "      <th>2</th>\n",
       "      <td>California Gull</td>\n",
       "      <td>Western Gull</td>\n",
       "      <td>15</td>\n",
       "    </tr>\n",
       "    <tr>\n",
       "      <th>3</th>\n",
       "      <td>Louisiana Waterthrush</td>\n",
       "      <td>Northern Waterthrush</td>\n",
       "      <td>13</td>\n",
       "    </tr>\n",
       "    <tr>\n",
       "      <th>4</th>\n",
       "      <td>Le Conte Sparrow</td>\n",
       "      <td>Nelson Sharp Tailed Sparrow</td>\n",
       "      <td>13</td>\n",
       "    </tr>\n",
       "  </tbody>\n",
       "</table>\n",
       "</div>"
      ],
      "text/plain": [
       "             GroundTruth               CHM-Prediction  UID\n",
       "0      Great Grey Shrike            Loggerhead Shrike   20\n",
       "1           Horned Grebe                  Eared Grebe   15\n",
       "2        California Gull                 Western Gull   15\n",
       "3  Louisiana Waterthrush         Northern Waterthrush   13\n",
       "4       Le Conte Sparrow  Nelson Sharp Tailed Sparrow   13"
      ]
     },
     "execution_count": 81,
     "metadata": {},
     "output_type": "execute_result"
    }
   ],
   "source": [
    "chm_corr_confusion.head(5)#.applymap(lambda x: str(x).replace('_', '').replace('.', '').title())"
   ]
  },
  {
   "cell_type": "code",
   "execution_count": 82,
   "id": "47bccd0a-0f9a-4b4c-8cc7-18a822e338fc",
   "metadata": {
    "pycharm": {
     "name": "#%%\n"
    }
   },
   "outputs": [
    {
     "data": {
      "text/html": [
       "<div>\n",
       "<style scoped>\n",
       "    .dataframe tbody tr th:only-of-type {\n",
       "        vertical-align: middle;\n",
       "    }\n",
       "\n",
       "    .dataframe tbody tr th {\n",
       "        vertical-align: top;\n",
       "    }\n",
       "\n",
       "    .dataframe thead th {\n",
       "        text-align: right;\n",
       "    }\n",
       "</style>\n",
       "<table border=\"1\" class=\"dataframe\">\n",
       "  <thead>\n",
       "    <tr style=\"text-align: right;\">\n",
       "      <th></th>\n",
       "      <th>GroundTruth</th>\n",
       "      <th>UID</th>\n",
       "    </tr>\n",
       "  </thead>\n",
       "  <tbody>\n",
       "    <tr>\n",
       "      <th>18</th>\n",
       "      <td>California Gull</td>\n",
       "      <td>112</td>\n",
       "    </tr>\n",
       "    <tr>\n",
       "      <th>36</th>\n",
       "      <td>Great Grey Shrike</td>\n",
       "      <td>66</td>\n",
       "    </tr>\n",
       "    <tr>\n",
       "      <th>26</th>\n",
       "      <td>Common Tern</td>\n",
       "      <td>59</td>\n",
       "    </tr>\n",
       "    <tr>\n",
       "      <th>31</th>\n",
       "      <td>Forsters Tern</td>\n",
       "      <td>52</td>\n",
       "    </tr>\n",
       "    <tr>\n",
       "      <th>52</th>\n",
       "      <td>Louisiana Waterthrush</td>\n",
       "      <td>50</td>\n",
       "    </tr>\n",
       "    <tr>\n",
       "      <th>0</th>\n",
       "      <td>Acadian Flycatcher</td>\n",
       "      <td>48</td>\n",
       "    </tr>\n",
       "    <tr>\n",
       "      <th>33</th>\n",
       "      <td>Glaucous Winged Gull</td>\n",
       "      <td>47</td>\n",
       "    </tr>\n",
       "    <tr>\n",
       "      <th>91</th>\n",
       "      <td>Western Wood Pewee</td>\n",
       "      <td>41</td>\n",
       "    </tr>\n",
       "    <tr>\n",
       "      <th>39</th>\n",
       "      <td>Herring Gull</td>\n",
       "      <td>41</td>\n",
       "    </tr>\n",
       "    <tr>\n",
       "      <th>30</th>\n",
       "      <td>Fish Crow</td>\n",
       "      <td>39</td>\n",
       "    </tr>\n",
       "  </tbody>\n",
       "</table>\n",
       "</div>"
      ],
      "text/plain": [
       "              GroundTruth  UID\n",
       "18        California Gull  112\n",
       "36      Great Grey Shrike   66\n",
       "26            Common Tern   59\n",
       "31          Forsters Tern   52\n",
       "52  Louisiana Waterthrush   50\n",
       "0      Acadian Flycatcher   48\n",
       "33   Glaucous Winged Gull   47\n",
       "91     Western Wood Pewee   41\n",
       "39           Herring Gull   41\n",
       "30              Fish Crow   39"
      ]
     },
     "execution_count": 82,
     "metadata": {},
     "output_type": "execute_result"
    }
   ],
   "source": [
    "confusing_df.groupby('GroundTruth')['UID'].count().reset_index().sort_values(by='UID', ascending=False).head(10)"
   ]
  },
  {
   "cell_type": "code",
   "execution_count": 83,
   "id": "06a4b663-99da-4d52-86b8-262256f6d4b0",
   "metadata": {
    "pycharm": {
     "name": "#%%\n"
    }
   },
   "outputs": [
    {
     "data": {
      "text/html": [
       "<div>\n",
       "<style scoped>\n",
       "    .dataframe tbody tr th:only-of-type {\n",
       "        vertical-align: middle;\n",
       "    }\n",
       "\n",
       "    .dataframe tbody tr th {\n",
       "        vertical-align: top;\n",
       "    }\n",
       "\n",
       "    .dataframe thead th {\n",
       "        text-align: right;\n",
       "    }\n",
       "</style>\n",
       "<table border=\"1\" class=\"dataframe\">\n",
       "  <thead>\n",
       "    <tr style=\"text-align: right;\">\n",
       "      <th></th>\n",
       "      <th>UID</th>\n",
       "      <th>Query</th>\n",
       "      <th>Counter balance</th>\n",
       "      <th>Validation Reaction Time</th>\n",
       "      <th>Test Reaction Time</th>\n",
       "      <th>Date</th>\n",
       "      <th>Correctness</th>\n",
       "      <th>Accuracy</th>\n",
       "      <th>Total Corrects</th>\n",
       "      <th>Method</th>\n",
       "      <th>GroundTruth</th>\n",
       "      <th>ClassifierCorrectness</th>\n",
       "      <th>ConfidenceScore</th>\n",
       "      <th>DifficultyLevel</th>\n",
       "      <th>ResNet-Prediction</th>\n",
       "      <th>KNN-Prediction</th>\n",
       "      <th>EMD-Prediction</th>\n",
       "      <th>CHM-Prediction</th>\n",
       "      <th>ResNet-Conf</th>\n",
       "      <th>KNN-Conf</th>\n",
       "      <th>EMD-Conf</th>\n",
       "      <th>CHM-Conf</th>\n",
       "    </tr>\n",
       "  </thead>\n",
       "  <tbody>\n",
       "    <tr>\n",
       "      <th>1204</th>\n",
       "      <td>5cb329855ee1730001ae6683No-XAI</td>\n",
       "      <td>American_Crow_0048_25062.jpg</td>\n",
       "      <td>15</td>\n",
       "      <td>382592.0</td>\n",
       "      <td>381136</td>\n",
       "      <td>2022-05-06 01:09:16.104</td>\n",
       "      <td>0</td>\n",
       "      <td>0.533333</td>\n",
       "      <td>16</td>\n",
       "      <td>ResNet-50</td>\n",
       "      <td>American Crow</td>\n",
       "      <td>0</td>\n",
       "      <td>0.47</td>\n",
       "      <td>Medium</td>\n",
       "      <td>Common Raven</td>\n",
       "      <td>Common Raven</td>\n",
       "      <td>Common Raven</td>\n",
       "      <td>American Crow</td>\n",
       "      <td>0.47</td>\n",
       "      <td>0.025</td>\n",
       "      <td>0.025</td>\n",
       "      <td>0.0225</td>\n",
       "    </tr>\n",
       "    <tr>\n",
       "      <th>1199</th>\n",
       "      <td>60fd01e77185527745df543dNo-XAI</td>\n",
       "      <td>Canada_Warbler_0020_162354.jpg</td>\n",
       "      <td>1</td>\n",
       "      <td>418397.2</td>\n",
       "      <td>417151</td>\n",
       "      <td>2022-05-06 01:08:55.047</td>\n",
       "      <td>0</td>\n",
       "      <td>0.633333</td>\n",
       "      <td>19</td>\n",
       "      <td>ResNet-50</td>\n",
       "      <td>Canada Warbler</td>\n",
       "      <td>0</td>\n",
       "      <td>0.88</td>\n",
       "      <td>Hard</td>\n",
       "      <td>Nashville Warbler</td>\n",
       "      <td>Nashville Warbler</td>\n",
       "      <td>Nashville Warbler</td>\n",
       "      <td>Nashville Warbler</td>\n",
       "      <td>0.88</td>\n",
       "      <td>0.035</td>\n",
       "      <td>0.040</td>\n",
       "      <td>0.0325</td>\n",
       "    </tr>\n",
       "  </tbody>\n",
       "</table>\n",
       "</div>"
      ],
      "text/plain": [
       "                                 UID                           Query  \\\n",
       "1204  5cb329855ee1730001ae6683No-XAI    American_Crow_0048_25062.jpg   \n",
       "1199  60fd01e77185527745df543dNo-XAI  Canada_Warbler_0020_162354.jpg   \n",
       "\n",
       "      Counter balance  Validation Reaction Time  Test Reaction Time  \\\n",
       "1204               15                  382592.0              381136   \n",
       "1199                1                  418397.2              417151   \n",
       "\n",
       "                         Date  Correctness  Accuracy  Total Corrects  \\\n",
       "1204  2022-05-06 01:09:16.104            0  0.533333              16   \n",
       "1199  2022-05-06 01:08:55.047            0  0.633333              19   \n",
       "\n",
       "         Method     GroundTruth  ClassifierCorrectness  ConfidenceScore  \\\n",
       "1204  ResNet-50   American Crow                      0             0.47   \n",
       "1199  ResNet-50  Canada Warbler                      0             0.88   \n",
       "\n",
       "     DifficultyLevel  ResNet-Prediction     KNN-Prediction     EMD-Prediction  \\\n",
       "1204          Medium       Common Raven       Common Raven       Common Raven   \n",
       "1199            Hard  Nashville Warbler  Nashville Warbler  Nashville Warbler   \n",
       "\n",
       "         CHM-Prediction  ResNet-Conf  KNN-Conf  EMD-Conf  CHM-Conf  \n",
       "1204      American Crow         0.47     0.025     0.025    0.0225  \n",
       "1199  Nashville Warbler         0.88     0.035     0.040    0.0325  "
      ]
     },
     "execution_count": 83,
     "metadata": {},
     "output_type": "execute_result"
    }
   ],
   "source": [
    "confusing_df.head(2)"
   ]
  },
  {
   "cell_type": "markdown",
   "id": "41b97f6b-918f-4019-81f8-bcdca129efe7",
   "metadata": {
    "tags": [],
    "pycharm": {
     "name": "#%% md\n"
    }
   },
   "source": [
    "# Method 2 vs Method 4"
   ]
  },
  {
   "cell_type": "code",
   "execution_count": null,
   "id": "7ec8f09c-c9ae-4d7f-829a-ef1db16229ca",
   "metadata": {
    "pycharm": {
     "name": "#%%\n"
    }
   },
   "outputs": [],
   "source": [
    "all_gts  = {df['Query'].values[q]:df['GroundTruth'].values[q] for q in range(len(df))}\n",
    "knn_pred = {df['Query'].values[q]:df['KNN-Prediction'].values[q] for q in range(len(df))}\n",
    "chm_pred = {df['Query'].values[q]:df['CHM-Prediction'].values[q] for q in range(len(df))}"
   ]
  },
  {
   "cell_type": "code",
   "execution_count": null,
   "id": "10aff7fa-e416-44fe-a6eb-0f50ba5c94b2",
   "metadata": {
    "pycharm": {
     "name": "#%%\n"
    }
   },
   "outputs": [],
   "source": [
    "gt__class = np.asarray([all_gts[q] for q in  df['Query'].values])\n",
    "knn_class = np.asarray([knn_pred[q] for q in  df['Query'].values])\n",
    "chm_class = np.asarray([chm_pred[q] for q in  df['Query'].values])"
   ]
  },
  {
   "cell_type": "code",
   "execution_count": null,
   "id": "107cf4d2-3c34-42a2-9d71-fe3cf35dd90d",
   "metadata": {
    "pycharm": {
     "name": "#%%\n"
    }
   },
   "outputs": [],
   "source": [
    "df['KNN-Correctness'] = knn_class==gt__class\n",
    "df['CHM-Correctness'] = chm_class==gt__class"
   ]
  },
  {
   "cell_type": "markdown",
   "id": "4bfb28ca-bcc0-4462-be39-a1a76088bf65",
   "metadata": {
    "pycharm": {
     "name": "#%% md\n"
    }
   },
   "source": [
    "### Groups\n",
    "\n",
    "1. Corr users tend to better reject AI wrong decisions than others. Why? This example is a strong example for this trend. All 4/4 kNN users are fooled! And all 3/3 Corr users recognized the AI wrong decisions. Let’s make a full-page figure of examples like this ``(AI=wrong; kNN users = wrong; Corr users=correct)`` for this trend.\n",
    "1. Corr users tend to reject AI correct decisions more. We should also make a full-page figure here ``(AI=correct; kNN users = correct; Corr users=wrong)``"
   ]
  },
  {
   "cell_type": "code",
   "execution_count": null,
   "id": "c486053a-d16e-42ba-84b5-c0b97e124019",
   "metadata": {
    "pycharm": {
     "name": "#%%\n"
    }
   },
   "outputs": [],
   "source": [
    "df_wrongs = df[(df['ClassifierCorrectness']==0) & (df['Method'].isin(['kNN', 'CHM-Corr']))]"
   ]
  },
  {
   "cell_type": "code",
   "execution_count": null,
   "id": "913f0b02-ca54-4d1f-94e4-a0a9bc4ca753",
   "metadata": {
    "pycharm": {
     "name": "#%%\n"
    }
   },
   "outputs": [],
   "source": [
    "group1 = df_wrongs.groupby(['Query', 'Method'])['Correctness'].mean().unstack().dropna()\n",
    "group1 = group1[(group1['kNN']==0.0) & (group1['CHM-Corr']==1.0)]"
   ]
  },
  {
   "cell_type": "code",
   "execution_count": null,
   "id": "d432a04e-f884-4398-8412-4df955542dd7",
   "metadata": {
    "pycharm": {
     "name": "#%%\n"
    }
   },
   "outputs": [],
   "source": [
    "df_correct = df[(df['ClassifierCorrectness']==1) & (df['Method'].isin(['CHM-Corr']))]"
   ]
  },
  {
   "cell_type": "code",
   "execution_count": null,
   "id": "ff3b9d55-2a78-4210-9eab-784bb2454079",
   "metadata": {
    "pycharm": {
     "name": "#%%\n"
    }
   },
   "outputs": [],
   "source": [
    "group2 = df_correct.groupby(['Query', 'Method'])['Correctness'].mean().unstack().dropna()\n",
    "group2 = group2[(group2['CHM-Corr']==0.0)]"
   ]
  },
  {
   "cell_type": "code",
   "execution_count": null,
   "id": "0828495c-4c3f-42bc-8f2d-34e5e07f7fc7",
   "metadata": {
    "pycharm": {
     "name": "#%%\n"
    }
   },
   "outputs": [],
   "source": [
    "df_correct_emd = df[(df['ClassifierCorrectness']==1) & (df['Method'].isin(['EMD-Corr']))]\n",
    "group2_emd = df_correct_emd.groupby(['Query', 'Method'])['Correctness'].mean().unstack().dropna()\n",
    "group2_emd = group2_emd[(group2_emd['EMD-Corr']==0.0)]"
   ]
  },
  {
   "cell_type": "markdown",
   "id": "69e59639-cadc-458b-a3ec-8d3fa14a7ae3",
   "metadata": {
    "pycharm": {
     "name": "#%% md\n"
    }
   },
   "source": [
    "### Other groups"
   ]
  },
  {
   "cell_type": "code",
   "execution_count": null,
   "id": "c931713c-1d6e-47a2-802c-31b58ecea5a2",
   "metadata": {
    "pycharm": {
     "name": "#%%\n"
    }
   },
   "outputs": [],
   "source": [
    "# shared KNN CHM-Corr\n",
    "df_correct = df[(df['ClassifierCorrectness']==1) & (df['Method'].isin(['kNN', 'CHM-NN']))]\n",
    "group_x = df_correct.groupby(['Query', 'Method'])['Correctness'].mean().unstack().dropna()\n",
    "group_x"
   ]
  },
  {
   "cell_type": "code",
   "execution_count": null,
   "id": "a38fe465-2566-487a-bf5e-346239b8bf4d",
   "metadata": {
    "pycharm": {
     "name": "#%%\n"
    }
   },
   "outputs": [],
   "source": [
    "# shared KNN EMD-Corr\n",
    "df_correct = df[(df['ClassifierCorrectness']==1) & (df['Method'].isin(['kNN', 'EMD-NN']))]\n",
    "group_y = df_correct.groupby(['Query', 'Method'])['Correctness'].mean().unstack().dropna()\n",
    "group_y"
   ]
  },
  {
   "cell_type": "markdown",
   "id": "cae0f1d2-dffa-445e-a0b2-2368150711a3",
   "metadata": {
    "pycharm": {
     "name": "#%% md\n"
    }
   },
   "source": [
    "# Plot Different Methods"
   ]
  },
  {
   "cell_type": "code",
   "execution_count": null,
   "id": "605888fe-bdd7-4ea8-b5ed-ee1ed4636e53",
   "metadata": {
    "pycharm": {
     "name": "#%%\n"
    }
   },
   "outputs": [],
   "source": [
    "import torchvision.transforms as transforms\n",
    "from PIL import Image\n",
    "import json\n",
    "\n",
    "display_transform  = transforms.Compose([transforms.Resize(256), transforms.CenterCrop((224, 224))])"
   ]
  },
  {
   "cell_type": "code",
   "execution_count": null,
   "id": "cbd1222a-7fd6-445b-9c6d-cf09ae02528a",
   "metadata": {
    "pycharm": {
     "name": "#%%\n"
    }
   },
   "outputs": [],
   "source": [
    "MethodKeyMapper = {\n",
    "  'ResNet-50': 0,\n",
    "  'kNN': 1,\n",
    "  'EMD-NN':  2,\n",
    "  'EMD-Corr': 2,\n",
    "  'CHM-NN': 3,\n",
    "  'CHM-Corr': 3\n",
    "}"
   ]
  },
  {
   "cell_type": "markdown",
   "id": "ced63ce9-69f6-4070-b858-992c4766a5de",
   "metadata": {
    "pycharm": {
     "name": "#%% md\n"
    }
   },
   "source": [
    "## ResNet vs Others"
   ]
  },
  {
   "cell_type": "code",
   "execution_count": null,
   "id": "af8a5eaa-ce06-49d2-8c10-18880d353bdb",
   "metadata": {
    "pycharm": {
     "name": "#%%\n"
    }
   },
   "outputs": [],
   "source": [
    "VisualizationsKeyMapper = {\n",
    "  'ResNet-50': 'HS_No_XAI',\n",
    "  'kNN':      'HS_KNNs',\n",
    "  'EMD-NN':    'HS_EMD_NNs',\n",
    "  'EMD-Corr':  'HS_EMD_Corrs',\n",
    "  'CHM-NN':    'HS_CHM_NNs',\n",
    "  'CHM-Corr':  'HS_CHM_Corrs'\n",
    "}"
   ]
  },
  {
   "cell_type": "code",
   "execution_count": null,
   "id": "a138e5a9-a5ab-4dc6-adf5-fcbda200185a",
   "metadata": {
    "pycharm": {
     "name": "#%%\n"
    }
   },
   "outputs": [],
   "source": [
    "Pairs = [['ResNet-50', 'kNN'], \n",
    "         ['ResNet-50', 'EMD-NN'],\n",
    "         ['ResNet-50', 'EMD-Corr'], \n",
    "         ['ResNet-50', 'CHM-NN'],\n",
    "         ['ResNet-50', 'CHM-Corr'],\n",
    "        ]         "
   ]
  },
  {
   "cell_type": "code",
   "execution_count": null,
   "id": "cb72c871-ca89-4202-a024-5dbe4d86feb9",
   "metadata": {
    "pycharm": {
     "name": "#%%\n"
    }
   },
   "outputs": [],
   "source": [
    "df.groupby('Query')[['Query', 'Method', 'Correctness', 'ClassifierCorrectness']].filter(lambda x: True).head(2)"
   ]
  },
  {
   "cell_type": "code",
   "execution_count": null,
   "id": "f9907b55-615c-4998-9e9e-cd0b1b9ade20",
   "metadata": {
    "pycharm": {
     "name": "#%%\n"
    }
   },
   "outputs": [],
   "source": [
    "def plot_queries(df_shared, pair):\n",
    "  pp = PdfPages(f'../plots/is-xai-helping/{pair[0]}-vs-{pair[1]}.pdf')\n",
    "\n",
    "  os.makedirs(f'../plots/is-xai-helping/{pair[0]}-vs-{pair[1]}/', exist_ok=True)\n",
    "  \n",
    "  for i, row in df_shared.groupby(['ClassifierCorrectness', 'Query', 'Method'])[['Correctness']].agg(['mean', 'count']).unstack().reset_index().dropna().iterrows():\n",
    "    # print(row)\n",
    "    fig, axes = plt.subplots(1, 3, figsize=(25, 5), gridspec_kw={'width_ratios': [0.01, 4, 16]}, facecolor=(1,1,1))\n",
    "    axes[0].set_axis_off()\n",
    "    axes[1].set_axis_off()\n",
    "    axes[2].set_axis_off()\n",
    "\n",
    "    q = row.reset_index()[i][1]\n",
    "    \n",
    "    real_gt = df.loc[df['Query'] == q].iloc[0]['GroundTruth']\n",
    "\n",
    "    Method_Predictions = {}\n",
    "    Method_Predictions[0] = df.loc[df['Query'] == q].iloc[0]['ResNet-Prediction']\n",
    "    Method_Predictions[1] = df.loc[df['Query'] == q].iloc[0]['KNN-Prediction']\n",
    "    Method_Predictions[2] = df.loc[df['Query'] == q].iloc[0]['EMD-Prediction']\n",
    "    Method_Predictions[3] = df.loc[df['Query'] == q].iloc[0]['CHM-Prediction']\n",
    "\n",
    "    Method_Confidences = {}\n",
    "    Method_Confidences[0] = df.loc[df['Query'] == q].iloc[0]['ResNet-Conf']\n",
    "    Method_Confidences[1] = df.loc[df['Query'] == q].iloc[0]['KNN-Conf']\n",
    "    Method_Confidences[2] = df.loc[df['Query'] == q].iloc[0]['EMD-Conf']\n",
    "    Method_Confidences[3] = df.loc[df['Query'] == q].iloc[0]['CHM-Conf']\n",
    "\n",
    "    m1_count = row.reset_index()[i][5] \n",
    "    m1_mean  = row.reset_index()[i][3] \n",
    "    m2_count = row.reset_index()[i][4] \n",
    "    m2_mean  = row.reset_index()[i][2] \n",
    "\n",
    "    m1_name = row['Correctness'].reset_index()['Method'][1]\n",
    "    m2_name = row['Correctness'].reset_index()['Method'][0]\n",
    "\n",
    "\n",
    "    m1_color = 'yellow'\n",
    "    m2_color = 'yellow'\n",
    "\n",
    "    if m1_mean>m2_mean:\n",
    "      m1_color = 'green'\n",
    "      m2_color = 'red'\n",
    "    elif  m1_mean<m2_mean:\n",
    "      m1_color = 'red'\n",
    "      m2_color = 'green'\n",
    "    else:\n",
    "      m1_color = 'green'\n",
    "      m2_color = 'green'\n",
    "\n",
    "    axes[1].text(0, 0.9, f\"{m1_name} Users: {int(m1_count)}\" ,fontsize=16)\n",
    "    axes[1].text(0, 0.8, f\"{m2_name} Users: {int(m2_count)}\" ,fontsize=16)\n",
    "    axes[1].text(0, 0.6, f\"{m1_name} Human Accuracy: {100*m1_mean:.1f}%\" ,fontsize=16, color=m1_color)\n",
    "    axes[1].text(0, 0.5, f\"{m2_name} Human Accuracy: {100*m2_mean:.1f}%\" ,fontsize=16, color=m2_color)\n",
    "    axes[1].text(0, 0.05, f\"Ground Truth: {real_gt}\" ,fontsize=16, color='blue')\n",
    "\n",
    "    m1_pred = Method_Predictions[MethodKeyMapper[m1_name]]\n",
    "    m1_conf = Method_Confidences[MethodKeyMapper[m1_name]]\n",
    "\n",
    "    m2_pred = Method_Predictions[MethodKeyMapper[m2_name]]\n",
    "    m2_conf = Method_Confidences[MethodKeyMapper[m2_name]]\n",
    "\n",
    "    m1_color = 'black'\n",
    "    if m1_pred == real_gt:\n",
    "      m1_color = 'green'\n",
    "    else:\n",
    "      m1_color = 'red'\n",
    "\n",
    "    m2_color = 'black'\n",
    "    if m2_pred == real_gt:\n",
    "      m2_color = 'green'\n",
    "    else:\n",
    "      m2_color = 'red'\n",
    "\n",
    "    axes[1].text(0, 0.3, f\"{m1_name} output: {m1_pred.replace('_', ' ').title()}\" ,fontsize=18, color=m1_color)\n",
    "    axes[1].text(0, 0.2, f\"{m2_name} output: {m2_pred.replace('_', ' ').title()}\" ,fontsize=18, color=m2_color)\n",
    "\n",
    "    # axes[0].imshow(Image.open(f'/mnt/NeurIPS/supporting_files/{VisualizationsKeyMapper[m1_name]}/{q}'))\n",
    "    axes[2].imshow(Image.open(f'/mnt/NeurIPS/supporting_files/{VisualizationsKeyMapper[pair[1]]}/{q}'))\n",
    "    fig.savefig(f'../plots/is-xai-helping/{pair[0]}-vs-{pair[1]}/{i}.pdf' ,dpi=100, bbox_inches='tight')\n",
    "    pp.savefig(fig)\n",
    "    plt.close()\n",
    "\n",
    "  pp.close()"
   ]
  },
  {
   "cell_type": "code",
   "execution_count": null,
   "id": "dfa788a7-b0af-4d5a-810c-5b3801254883",
   "metadata": {
    "pycharm": {
     "name": "#%%\n"
    }
   },
   "outputs": [],
   "source": [
    "for method_pair in tqdm(Pairs):\n",
    "  common_qs = df[df.Method.isin(method_pair)].groupby(['Query', 'Method'])[['Correctness']].count().unstack().dropna().stack().reset_index()['Query']\n",
    "  df_shared = df[(df['Query'].isin(common_qs)) & df.Method.isin(method_pair)]\n",
    "  plot_queries(df_shared, method_pair)"
   ]
  },
  {
   "cell_type": "markdown",
   "id": "504e2882-7970-4f66-b462-d76c136182ef",
   "metadata": {
    "pycharm": {
     "name": "#%% md\n"
    }
   },
   "source": [
    "## kNN vs Other NNs"
   ]
  },
  {
   "cell_type": "code",
   "execution_count": null,
   "id": "fd36178c-f39d-4bfa-bfad-e114c973d9a7",
   "metadata": {
    "pycharm": {
     "name": "#%%\n"
    }
   },
   "outputs": [],
   "source": [
    "VisualizationsKeyMapper = {\n",
    "  'ResNet-50': 'HS_No_XAI',\n",
    "  'kNN':      'HS_KNNs',\n",
    "  'EMD-NN':    'HS_EMD_NNs',\n",
    "  'EMD-Corr':  'HS_EMD_Corrs',\n",
    "  'CHM-NN':    'HS_CHM_NNs',\n",
    "  'CHM-Corr':  'HS_CHM_Corrs'\n",
    "}"
   ]
  },
  {
   "cell_type": "code",
   "execution_count": null,
   "id": "f7d190fb-1876-4d91-811b-cf3ebd016dd5",
   "metadata": {
    "pycharm": {
     "name": "#%%\n"
    }
   },
   "outputs": [],
   "source": [
    "Pairs = [['kNN', 'EMD-NN'],\n",
    "         ['kNN', 'CHM-NN']]         "
   ]
  },
  {
   "cell_type": "code",
   "execution_count": null,
   "id": "16332811-d1c9-42da-8ae2-d36e63a77253",
   "metadata": {
    "pycharm": {
     "name": "#%%\n"
    }
   },
   "outputs": [],
   "source": [
    "df.groupby('Query')[['Query', 'Method', 'Correctness', 'ClassifierCorrectness']].filter(lambda x: True).head(2)"
   ]
  },
  {
   "cell_type": "code",
   "execution_count": null,
   "id": "e33accc4-6f80-4288-b7f3-af950fb4daaf",
   "metadata": {
    "pycharm": {
     "name": "#%%\n"
    }
   },
   "outputs": [],
   "source": [
    "def plot_parents(data, pair):\n",
    "  fig, ax = plt.subplots(1, figsize=(12,5))\n",
    "  sns.histplot(data=data, x='Parent-lvl12', ax=ax)\n",
    "\n",
    "  for container in ax.containers:\n",
    "    ax.bar_label(container, fontsize=15)\n",
    "\n",
    "  ax.tick_params(axis=\"both\", which=\"both\", bottom=\"off\", top=\"off\", labelbottom=\"on\", left=\"off\", right=\"off\", labelleft=\"on\")\n",
    "\n",
    "  # Draw horizontal axis lines\n",
    "  vals = ax.get_yticks()\n",
    "  for tick in vals:\n",
    "    ax.axhline(y=tick, linestyle='dashed', alpha=0.4, color='#eeeeee', zorder=1)\n",
    "\n",
    "  plt.title(pair)\n",
    "  plt.show()"
   ]
  },
  {
   "cell_type": "code",
   "execution_count": null,
   "id": "e66b7290-12d5-40f5-99da-001f323b0126",
   "metadata": {
    "pycharm": {
     "name": "#%%\n"
    }
   },
   "outputs": [],
   "source": [
    "def plot_queries(df_shared, pair):\n",
    "  pp = PdfPages(f'../plots/is-xai-helping/{pair[0]}-vs-{pair[1]}.pdf')\n",
    "  os.makedirs(f'../plots/is-xai-helping/{pair[0]}-vs-{pair[1]}/', exist_ok=True)\n",
    "  for i, row in df_shared.groupby(['ClassifierCorrectness', 'Query', 'Method'])[['Correctness']].agg(['mean', 'count']).unstack().reset_index().dropna().iterrows():\n",
    "  \n",
    "    fig, axes = plt.subplots(2, 2, figsize=(25, 10), gridspec_kw={'width_ratios': [5, 15]}, facecolor=(1,1,1))\n",
    "\n",
    "    ax0 = axes[0][0]\n",
    "    ax1 = axes[1][0]\n",
    "    ax2 = axes[0][1]\n",
    "    ax3 = axes[1][1]\n",
    "\n",
    "    for T in range(2):\n",
    "      for K in range(2):\n",
    "        axes[T][K].set_axis_off()\n",
    "\n",
    "    q = row.reset_index()[i][1]\n",
    "    real_gt = df.loc[df['Query'] == q].iloc[0]['GroundTruth']\n",
    "    \n",
    "    Method_Predictions = {}\n",
    "    Method_Predictions[0] = df.loc[df['Query'] == q].iloc[0]['ResNet-Prediction']\n",
    "    Method_Predictions[1] = df.loc[df['Query'] == q].iloc[0]['KNN-Prediction']\n",
    "    Method_Predictions[2] = df.loc[df['Query'] == q].iloc[0]['EMD-Prediction']\n",
    "    Method_Predictions[3] = df.loc[df['Query'] == q].iloc[0]['CHM-Prediction']\n",
    "\n",
    "    Method_Confidences = {}\n",
    "    Method_Confidences[0] = df.loc[df['Query'] == q].iloc[0]['ResNet-Conf']\n",
    "    Method_Confidences[1] = df.loc[df['Query'] == q].iloc[0]['KNN-Conf']\n",
    "    Method_Confidences[2] = df.loc[df['Query'] == q].iloc[0]['EMD-Conf']\n",
    "    Method_Confidences[3] = df.loc[df['Query'] == q].iloc[0]['CHM-Conf']\n",
    "\n",
    "    m1_count = row.reset_index()[i][5] \n",
    "    m1_mean  = row.reset_index()[i][3] \n",
    "    m2_count = row.reset_index()[i][4] \n",
    "    m2_mean  = row.reset_index()[i][2] \n",
    "\n",
    "    m1_name = row['Correctness'].reset_index()['Method'][1]\n",
    "    m2_name = row['Correctness'].reset_index()['Method'][0]\n",
    "\n",
    "    m1_color = 'yellow'\n",
    "    m2_color = 'yellow'\n",
    "\n",
    "    if m1_mean>m2_mean:\n",
    "      m1_color = 'green'\n",
    "      m2_color = 'red'\n",
    "    elif  m1_mean<m2_mean:\n",
    "      m1_color = 'red'\n",
    "      m2_color = 'green'\n",
    "    else:\n",
    "      m1_color = 'green'\n",
    "      m2_color = 'green'\n",
    "\n",
    "    ax1.text(0.15, 0.9, f\"{m1_name} Users: {int(m1_count)}\" ,fontsize=16)\n",
    "    ax1.text(0.15, 0.8, f\"{m2_name} Users: {int(m2_count)}\" ,fontsize=16)\n",
    "    ax1.text(0.15, 0.6, f\"{m1_name} Human Accuracy: {100*m1_mean:.1f}%\" ,fontsize=16, color=m1_color)\n",
    "    ax1.text(0.15, 0.5, f\"{m2_name} Human Accuracy: {100*m2_mean:.1f}%\" ,fontsize=16, color=m2_color)\n",
    "    ax1.text(0.15, 0.05, f\"Ground Truth: {real_gt}\" ,fontsize=16, color='blue')\n",
    "\n",
    "    m1_pred = Method_Predictions[MethodKeyMapper[m1_name]]\n",
    "    m1_conf = Method_Confidences[MethodKeyMapper[m1_name]]\n",
    "\n",
    "    m2_pred = Method_Predictions[MethodKeyMapper[m2_name]]\n",
    "    m2_conf = Method_Confidences[MethodKeyMapper[m2_name]]\n",
    "\n",
    "    m1_color = 'black'\n",
    "    if m1_pred == real_gt:\n",
    "      m1_color = 'green'\n",
    "    else:\n",
    "      m1_color = 'red'\n",
    "\n",
    "    m2_color = 'black'\n",
    "    if m2_pred == real_gt:\n",
    "      m2_color = 'green'\n",
    "    else:\n",
    "      m2_color = 'red'\n",
    "\n",
    "    ax1.text(0.15, 0.3, f\"{m1_name} output: {m1_pred.replace('_', ' ').title()}\" ,fontsize=18, color=m1_color)\n",
    "    ax1.text(0.15, 0.2, f\"{m2_name} output: {m2_pred.replace('_', ' ').title()}\" ,fontsize=18, color=m2_color)\n",
    "\n",
    "    ax2.set_title(m1_name, fontsize=15)\n",
    "    ax2.imshow(load_part_of_image(f'/mnt/NeurIPS/supporting_files/{VisualizationsKeyMapper[m1_name]}/{q}', 510,0,0,0))\n",
    "    ax3.set_title(m2_name, fontsize=15)\n",
    "    ax3.imshow(load_part_of_image(f'/mnt/NeurIPS/supporting_files/{VisualizationsKeyMapper[m2_name]}/{q}', 510,0,0,0))\n",
    "\n",
    "    ax0.set_title('Query', fontsize=15)\n",
    "    ax0.imshow(load_part_of_image(f'/mnt/NeurIPS/supporting_files/{VisualizationsKeyMapper[m1_name]}/{q}', 0,0,2125,0))\n",
    "    plt.subplots_adjust(wspace=0, hspace=0)\n",
    "    fig.savefig(f'../plots/is-xai-helping/{pair[0]}-vs-{pair[1]}/{i}.pdf' ,dpi=100, bbox_inches='tight')\n",
    "    pp.savefig(fig)\n",
    "    plt.close()\n",
    "  \n",
    "  pp.close()"
   ]
  },
  {
   "cell_type": "code",
   "execution_count": null,
   "id": "ca50348e-5b14-4347-b35c-cda2816ff269",
   "metadata": {
    "pycharm": {
     "name": "#%%\n"
    }
   },
   "outputs": [],
   "source": [
    "for method_pair in tqdm(Pairs):\n",
    "  common_qs = df[df.Method.isin(method_pair)].groupby(['Query', 'Method'])[['Correctness']].count().unstack().dropna().stack().reset_index()['Query']\n",
    "  df_shared = df[(df['Query'].isin(common_qs)) & df.Method.isin(method_pair)]\n",
    "  plot_queries(df_shared, method_pair)"
   ]
  },
  {
   "cell_type": "markdown",
   "id": "d0d3f265-1ca5-47cb-a1bb-f8f3059732a3",
   "metadata": {
    "pycharm": {
     "name": "#%% md\n"
    }
   },
   "source": [
    "## EMD Corrs vs CHM Corrs"
   ]
  },
  {
   "cell_type": "code",
   "execution_count": null,
   "id": "e37233b9-5224-4e10-81bb-fe8ae4b2a90e",
   "metadata": {
    "pycharm": {
     "name": "#%%\n"
    }
   },
   "outputs": [],
   "source": [
    "Pairs = [['EMD-Corr', 'CHM-Corr']]         "
   ]
  },
  {
   "cell_type": "code",
   "execution_count": null,
   "id": "7043cca6-5924-4a72-91f7-837a5bb4e661",
   "metadata": {
    "pycharm": {
     "name": "#%%\n"
    }
   },
   "outputs": [],
   "source": [
    "df.groupby('Query')[['Query', 'Method', 'Correctness', 'ClassifierCorrectness']].filter(lambda x: True).head(2)"
   ]
  },
  {
   "cell_type": "code",
   "execution_count": null,
   "id": "e91fd594-2aef-4fdf-b8b1-66230b8fb2e8",
   "metadata": {
    "pycharm": {
     "name": "#%%\n"
    }
   },
   "outputs": [],
   "source": [
    "def plot_parents(data, pair):\n",
    "  fig, ax = plt.subplots(1, figsize=(12,5))\n",
    "  sns.histplot(data=data, x='Parent-lvl12', ax=ax)\n",
    "\n",
    "  for container in ax.containers:\n",
    "    ax.bar_label(container, fontsize=15)\n",
    "\n",
    "  ax.tick_params(axis=\"both\", which=\"both\", bottom=\"off\", top=\"off\", labelbottom=\"on\", left=\"off\", right=\"off\", labelleft=\"on\")\n",
    "\n",
    "  # Draw horizontal axis lines\n",
    "  vals = ax.get_yticks()\n",
    "  for tick in vals:\n",
    "    ax.axhline(y=tick, linestyle='dashed', alpha=0.4, color='#eeeeee', zorder=1)\n",
    "\n",
    "  plt.title(pair)\n",
    "  plt.show()"
   ]
  },
  {
   "cell_type": "code",
   "execution_count": null,
   "id": "2794c793-367d-4d00-8265-a4b85b62d394",
   "metadata": {
    "pycharm": {
     "name": "#%%\n"
    }
   },
   "outputs": [],
   "source": [
    "def plot_queries(df_shared, pair):\n",
    "  pp = PdfPages(f'../plots/is-xai-helping/{pair[0]}-vs-{pair[1]}.pdf')\n",
    "  os.makedirs(f'../plots/is-xai-helping/{pair[0]}-vs-{pair[1]}/', exist_ok=True)\n",
    "  for i, row in df_shared.groupby(['ClassifierCorrectness', 'Query', 'Method'])[['Correctness']].agg(['mean', 'count']).unstack().reset_index().dropna().iterrows():\n",
    "  \n",
    "    fig, axes = plt.subplots(2, 2, figsize=(25, 15), gridspec_kw={'width_ratios': [5, 30]}, facecolor=(1,1,1))\n",
    "\n",
    "    ax0 = axes[0][0]\n",
    "    ax1 = axes[1][0]\n",
    "    ax2 = axes[0][1]\n",
    "    ax3 = axes[1][1]\n",
    "\n",
    "    for T in range(2):\n",
    "      for K in range(2):\n",
    "        axes[T][K].set_axis_off()\n",
    "\n",
    "    q = row.reset_index()[i][1]\n",
    "    real_gt = df.loc[df['Query'] == q].iloc[0]['GroundTruth']\n",
    "\n",
    "    Method_Predictions = {}\n",
    "    Method_Predictions[0] = df.loc[df['Query'] == q].iloc[0]['ResNet-Prediction']\n",
    "    Method_Predictions[1] = df.loc[df['Query'] == q].iloc[0]['KNN-Prediction']\n",
    "    Method_Predictions[2] = df.loc[df['Query'] == q].iloc[0]['EMD-Prediction']\n",
    "    Method_Predictions[3] = df.loc[df['Query'] == q].iloc[0]['CHM-Prediction']\n",
    "\n",
    "    Method_Confidences = {}\n",
    "    Method_Confidences[0] = df.loc[df['Query'] == q].iloc[0]['ResNet-Conf']\n",
    "    Method_Confidences[1] = df.loc[df['Query'] == q].iloc[0]['KNN-Conf']\n",
    "    Method_Confidences[2] = df.loc[df['Query'] == q].iloc[0]['EMD-Conf']\n",
    "    Method_Confidences[3] = df.loc[df['Query'] == q].iloc[0]['CHM-Conf']\n",
    "\n",
    "    m1_count = row.reset_index()[i][5] \n",
    "    m1_mean  = row.reset_index()[i][3] \n",
    "    m2_count = row.reset_index()[i][4] \n",
    "    m2_mean  = row.reset_index()[i][2] \n",
    "\n",
    "    m1_name = row['Correctness'].reset_index()['Method'][1]\n",
    "    m2_name = row['Correctness'].reset_index()['Method'][0]\n",
    "\n",
    "\n",
    "    m1_color = 'yellow'\n",
    "    m2_color = 'yellow'\n",
    "\n",
    "    if m1_mean>m2_mean:\n",
    "      m1_color = 'green'\n",
    "      m2_color = 'red'\n",
    "    elif  m1_mean<m2_mean:\n",
    "      m1_color = 'red'\n",
    "      m2_color = 'green'\n",
    "    else:\n",
    "      m1_color = 'green'\n",
    "      m2_color = 'green'\n",
    "\n",
    "    ax1.text(0.05, 0.9, f\"{m1_name} Users: {int(m1_count)}\" ,fontsize=16)\n",
    "    ax1.text(0.05, 0.8, f\"{m2_name} Users: {int(m2_count)}\" ,fontsize=16)\n",
    "    ax1.text(0.05, 0.6, f\"{m1_name} Human Accuracy: {100*m1_mean:.1f}%\" ,fontsize=16, color=m1_color)\n",
    "    ax1.text(0.05, 0.5, f\"{m2_name} Human Accuracy: {100*m2_mean:.1f}%\" ,fontsize=16, color=m2_color)\n",
    "    ax1.text(0.15, 0.05, f\"Ground Truth: {real_gt}\" ,fontsize=16, color='blue')\n",
    "\n",
    "    m1_pred = Method_Predictions[MethodKeyMapper[m1_name]]\n",
    "    m1_conf = Method_Confidences[MethodKeyMapper[m1_name]]\n",
    "\n",
    "    m2_pred = Method_Predictions[MethodKeyMapper[m2_name]]\n",
    "    m2_conf = Method_Confidences[MethodKeyMapper[m2_name]]\n",
    "\n",
    "    m1_color = 'black'\n",
    "    if m1_pred == real_gt:\n",
    "      m1_color = 'green'\n",
    "    else:\n",
    "      m1_color = 'red'\n",
    "\n",
    "    m2_color = 'black'\n",
    "    if m2_pred == real_gt:\n",
    "      m2_color = 'green'\n",
    "    else:\n",
    "      m2_color = 'red'\n",
    "\n",
    "    ax1.text(0.05, 0.3, f\"{m1_name} output: {m1_pred.replace('_', ' ').title()}\" ,fontsize=18, color=m1_color)\n",
    "    ax1.text(0.05, 0.2, f\"{m2_name} output: {m2_pred.replace('_', ' ').title()}\" ,fontsize=18, color=m2_color)\n",
    "\n",
    "    ax2.set_title(m1_name, fontsize=15)\n",
    "    ax2.imshow(load_part_of_image(f'/mnt/NeurIPS/supporting_files/{VisualizationsKeyMapper[m1_name]}/{q}', 510,0,0,0))\n",
    "    ax3.set_title(m2_name, fontsize=15)\n",
    "    ax3.imshow(load_part_of_image(f'/mnt/NeurIPS/supporting_files/{VisualizationsKeyMapper[m2_name]}/{q}', 510,0,0,0))\n",
    "    ax0.set_title('Query', fontsize=15)\n",
    "    ax0.imshow(load_part_of_image(f'/mnt/NeurIPS/supporting_files/{VisualizationsKeyMapper[m1_name]}/{q}', 0,0,2150,400))\n",
    "\n",
    "    plt.subplots_adjust(wspace=0.025, hspace=0.1)\n",
    "    \n",
    "    fig.savefig(f'../plots/is-xai-helping/{pair[0]}-vs-{pair[1]}/{i}.pdf' ,dpi=100, bbox_inches='tight')\n",
    "    pp.savefig(fig)\n",
    "    plt.close()\n",
    "  \n",
    "  pp.close()"
   ]
  },
  {
   "cell_type": "code",
   "execution_count": null,
   "id": "df29deb3-d8d8-4c66-9f55-7a7116e00beb",
   "metadata": {
    "pycharm": {
     "name": "#%%\n"
    }
   },
   "outputs": [],
   "source": [
    "for method_pair in tqdm(Pairs):\n",
    "  common_qs = df[df.Method.isin(method_pair)].groupby(['Query', 'Method'])[['Correctness']].count().unstack().dropna().stack().reset_index()['Query']\n",
    "  df_shared = df[(df['Query'].isin(common_qs)) & df.Method.isin(method_pair)]\n",
    "  plot_queries(df_shared, method_pair)"
   ]
  },
  {
   "cell_type": "markdown",
   "id": "c8365a8f-f040-4230-a9fb-eefd31d0fe01",
   "metadata": {
    "tags": [],
    "pycharm": {
     "name": "#%% md\n"
    }
   },
   "source": [
    "## NNs vs Corrs vs Corrs"
   ]
  },
  {
   "cell_type": "code",
   "execution_count": null,
   "id": "678cd9c1-5f9a-40b0-a758-55e8b4f5525d",
   "metadata": {
    "pycharm": {
     "name": "#%%\n"
    }
   },
   "outputs": [],
   "source": [
    "Pairs = [['kNN', 'EMD-Corr'],\n",
    "         ['kNN', 'CHM-Corr']]         "
   ]
  },
  {
   "cell_type": "code",
   "execution_count": null,
   "id": "d9484cbf-0bc9-4b64-965c-e20e007f31a5",
   "metadata": {
    "pycharm": {
     "name": "#%%\n"
    }
   },
   "outputs": [],
   "source": [
    "df.groupby('Query')[['Query', 'Method', 'Correctness', 'ClassifierCorrectness']].filter(lambda x: True).head(2)"
   ]
  },
  {
   "cell_type": "code",
   "execution_count": null,
   "id": "3ea48e4a-bf1f-4b33-b42a-fbab359599db",
   "metadata": {
    "pycharm": {
     "name": "#%%\n"
    }
   },
   "outputs": [],
   "source": [
    "def plot_parents(data, pair):\n",
    "  fig, ax = plt.subplots(1, figsize=(12,5))\n",
    "  sns.histplot(data=data, x='Parent-lvl12', ax=ax)\n",
    "\n",
    "  for container in ax.containers:\n",
    "    ax.bar_label(container, fontsize=15)\n",
    "\n",
    "  ax.tick_params(axis=\"both\", which=\"both\", bottom=\"off\", top=\"off\", labelbottom=\"on\", left=\"off\", right=\"off\", labelleft=\"on\")\n",
    "\n",
    "  # Draw horizontal axis lines\n",
    "  vals = ax.get_yticks()\n",
    "  for tick in vals:\n",
    "    ax.axhline(y=tick, linestyle='dashed', alpha=0.4, color='#eeeeee', zorder=1)\n",
    "\n",
    "  plt.title(pair)\n",
    "  plt.show()"
   ]
  },
  {
   "cell_type": "code",
   "execution_count": null,
   "id": "7ca31885-8a56-4c08-8044-372262bf7802",
   "metadata": {
    "pycharm": {
     "name": "#%%\n"
    }
   },
   "outputs": [],
   "source": [
    "def plot_queries(df_shared, pair):\n",
    "  pp = PdfPages(f'../plots/is-xai-helping/{pair[0]}-vs-{pair[1]}.pdf')\n",
    "  os.makedirs(f'../plots/is-xai-helping/{pair[0]}-vs-{pair[1]}/', exist_ok=True)\n",
    "  for i, row in df_shared.groupby(['ClassifierCorrectness', 'Query', 'Method'])[['Correctness']].agg(['mean', 'count']).unstack().reset_index().dropna().iterrows():\n",
    "  \n",
    "    fig, axes = plt.subplots(2, 2, figsize=(25, 10), gridspec_kw={'width_ratios': [5, 15],'height_ratios': [1,1.95]}, facecolor=(1,1,1))\n",
    "\n",
    "    ax0 = axes[0][0]\n",
    "    ax1 = axes[1][0]\n",
    "    ax2 = axes[0][1]\n",
    "    ax3 = axes[1][1]\n",
    "\n",
    "    for T in range(2):\n",
    "      for K in range(2):\n",
    "        axes[T][K].set_axis_off()\n",
    "\n",
    "    q = row.reset_index()[i][1]\n",
    "    real_gt = df.loc[df['Query'] == q].iloc[0]['GroundTruth']\n",
    "\n",
    "    Method_Predictions = {}\n",
    "    Method_Predictions[0] = df.loc[df['Query'] == q].iloc[0]['ResNet-Prediction']\n",
    "    Method_Predictions[1] = df.loc[df['Query'] == q].iloc[0]['KNN-Prediction']\n",
    "    Method_Predictions[2] = df.loc[df['Query'] == q].iloc[0]['EMD-Prediction']\n",
    "    Method_Predictions[3] = df.loc[df['Query'] == q].iloc[0]['CHM-Prediction']\n",
    "\n",
    "    Method_Confidences = {}\n",
    "    Method_Confidences[0] = df.loc[df['Query'] == q].iloc[0]['ResNet-Conf']\n",
    "    Method_Confidences[1] = df.loc[df['Query'] == q].iloc[0]['KNN-Conf']\n",
    "    Method_Confidences[2] = df.loc[df['Query'] == q].iloc[0]['EMD-Conf']\n",
    "    Method_Confidences[3] = df.loc[df['Query'] == q].iloc[0]['CHM-Conf']\n",
    "\n",
    "    m1_count = row.reset_index()[i][5] \n",
    "    m1_mean  = row.reset_index()[i][3] \n",
    "    m2_count = row.reset_index()[i][4] \n",
    "    m2_mean  = row.reset_index()[i][2] \n",
    "\n",
    "    m1_name = row['Correctness'].reset_index()['Method'][1]\n",
    "    m2_name = row['Correctness'].reset_index()['Method'][0]\n",
    "\n",
    "    m1_color = 'yellow'\n",
    "    m2_color = 'yellow'\n",
    "\n",
    "    if m1_mean>m2_mean:\n",
    "      m1_color = 'green'\n",
    "      m2_color = 'red'\n",
    "    elif  m1_mean<m2_mean:\n",
    "      m1_color = 'red'\n",
    "      m2_color = 'green'\n",
    "    else:\n",
    "      m1_color = 'green'\n",
    "      m2_color = 'green'\n",
    "\n",
    "    ax1.text(0.25, 0.9, f\"{m1_name} Users: {int(m1_count)}\" ,fontsize=16)\n",
    "    ax1.text(0.25, 0.8, f\"{m2_name} Users: {int(m2_count)}\" ,fontsize=16)\n",
    "    ax1.text(0.25, 0.6, f\"{m1_name} Human Accuracy: {100*m1_mean:.1f}%\" ,fontsize=16, color=m1_color)\n",
    "    ax1.text(0.25, 0.5, f\"{m2_name} Human Accuracy: {100*m2_mean:.1f}%\" ,fontsize=16, color=m2_color)\n",
    "    ax1.text(0.15, 0.05, f\"Ground Truth: {real_gt}\" ,fontsize=16, color='blue')\n",
    "\n",
    "    m1_pred = Method_Predictions[MethodKeyMapper[m1_name]]\n",
    "    m1_conf = Method_Confidences[MethodKeyMapper[m1_name]]\n",
    "\n",
    "    m2_pred = Method_Predictions[MethodKeyMapper[m2_name]]\n",
    "    m2_conf = Method_Confidences[MethodKeyMapper[m2_name]]\n",
    "\n",
    "    m1_color = 'black'\n",
    "    if m1_pred == real_gt:\n",
    "      m1_color = 'green'\n",
    "    else:\n",
    "      m1_color = 'red'\n",
    "\n",
    "    m2_color = 'black'\n",
    "    if m2_pred == real_gt:\n",
    "      m2_color = 'green'\n",
    "    else:\n",
    "      m2_color = 'red'\n",
    "\n",
    "    ax1.text(0.25, 0.3, f\"{m1_name} output: {m1_pred.replace('_', ' ').title()}\" ,fontsize=18, color=m1_color)\n",
    "    ax1.text(0.25, 0.2, f\"{m2_name} output: {m2_pred.replace('_', ' ').title()}\" ,fontsize=18, color=m2_color)\n",
    "\n",
    "    ax2.set_title(m1_name, fontsize=15)\n",
    "    ax2.imshow(load_part_of_image(f'/mnt/NeurIPS/supporting_files/{VisualizationsKeyMapper[m1_name]}/{q}', 510,0,0,0))\n",
    "    ax3.set_title(m2_name, fontsize=15)\n",
    "    ax3.imshow(load_part_of_image(f'/mnt/NeurIPS/supporting_files/{VisualizationsKeyMapper[m2_name]}/{q}', 510,0,0,0))\n",
    "    ax0.set_title('Query', fontsize=15)\n",
    "    ax0.imshow(load_part_of_image(f'/mnt/NeurIPS/supporting_files/{VisualizationsKeyMapper[m2_name]}/{q}', 0,0,2150,400))\n",
    "\n",
    "    plt.subplots_adjust(wspace=0.0, hspace=0.125)\n",
    "    \n",
    "    fig.savefig(f'../plots/is-xai-helping/{pair[0]}-vs-{pair[1]}/{i}.pdf' ,dpi=100, bbox_inches='tight')\n",
    "    pp.savefig(fig)\n",
    "    plt.close()\n",
    "    # break\n",
    "    \n",
    "  pp.close()"
   ]
  },
  {
   "cell_type": "code",
   "execution_count": null,
   "id": "ed8b15ba-587e-4229-822c-3cc09aae8f9f",
   "metadata": {
    "pycharm": {
     "name": "#%%\n"
    }
   },
   "outputs": [],
   "source": [
    "for method_pair in tqdm(Pairs):\n",
    "  common_qs = df[df.Method.isin(method_pair)].groupby(['Query', 'Method'])[['Correctness']].count().unstack().dropna().stack().reset_index()['Query']\n",
    "  df_shared = df[(df['Query'].isin(common_qs)) & df.Method.isin(method_pair)]\n",
    "  plot_queries(df_shared, method_pair)"
   ]
  },
  {
   "cell_type": "markdown",
   "id": "a1eb5359-4a34-4738-a280-ca0ebc958056",
   "metadata": {
    "tags": [],
    "pycharm": {
     "name": "#%% md\n"
    }
   },
   "source": [
    "## Group 1"
   ]
  },
  {
   "cell_type": "code",
   "execution_count": null,
   "id": "f3519364-d10d-4618-9a75-a8f5212b7787",
   "metadata": {
    "pycharm": {
     "name": "#%%\n"
    }
   },
   "outputs": [],
   "source": [
    "Pairs = [['kNN', 'CHM-Corr']]         "
   ]
  },
  {
   "cell_type": "code",
   "execution_count": null,
   "id": "812d52fb-e3d3-4a40-b1ee-34c51a89ef1f",
   "metadata": {
    "pycharm": {
     "name": "#%%\n"
    }
   },
   "outputs": [],
   "source": [
    "df.groupby('Query')[['Query', 'Method', 'Correctness', 'ClassifierCorrectness']].filter(lambda x: True).head(2)"
   ]
  },
  {
   "cell_type": "code",
   "execution_count": null,
   "id": "f73c2a77-e7c1-484a-b959-5ba09730f8b1",
   "metadata": {
    "pycharm": {
     "name": "#%%\n"
    }
   },
   "outputs": [],
   "source": [
    "def plot_queries(df_shared, pair):\n",
    "  os.makedirs(f'../plots/is-xai-helping/group1/{pair[0]}-vs-{pair[1]}/', exist_ok=True)\n",
    "  pp = PdfPages(f'../plots/is-xai-helping/group1/{pair[0]}-vs-{pair[1]}.pdf')\n",
    "  for i, row in df_shared.groupby(['ClassifierCorrectness', 'Query', 'Method'])[['Correctness']].agg(['mean', 'count']).unstack().reset_index().dropna().iterrows():\n",
    "    fig, axes = plt.subplots(2, 2, figsize=(25, 10), gridspec_kw={'width_ratios': [5, 15],'height_ratios': [1,1.95]}, facecolor=(1,1,1))\n",
    "\n",
    "    ax0 = axes[0][0]\n",
    "    ax1 = axes[1][0]\n",
    "    ax2 = axes[0][1]\n",
    "    ax3 = axes[1][1]\n",
    "\n",
    "    for T in range(2):\n",
    "      for K in range(2):\n",
    "        axes[T][K].set_axis_off()\n",
    "\n",
    "    q = row.reset_index()[i][1]\n",
    "    real_gt = df.loc[df['Query'] == q].iloc[0]['GroundTruth']\n",
    "\n",
    "    Method_Predictions = {}\n",
    "    Method_Predictions[0] = df.loc[df['Query'] == q].iloc[0]['ResNet-Prediction']\n",
    "    Method_Predictions[1] = df.loc[df['Query'] == q].iloc[0]['KNN-Prediction']\n",
    "    Method_Predictions[2] = df.loc[df['Query'] == q].iloc[0]['EMD-Prediction']\n",
    "    Method_Predictions[3] = df.loc[df['Query'] == q].iloc[0]['CHM-Prediction']\n",
    "\n",
    "    Method_Confidences = {}\n",
    "    Method_Confidences[0] = df.loc[df['Query'] == q].iloc[0]['ResNet-Conf']\n",
    "    Method_Confidences[1] = df.loc[df['Query'] == q].iloc[0]['KNN-Conf']\n",
    "    Method_Confidences[2] = df.loc[df['Query'] == q].iloc[0]['EMD-Conf']\n",
    "    Method_Confidences[3] = df.loc[df['Query'] == q].iloc[0]['CHM-Conf']\n",
    "\n",
    "    m1_count = row.reset_index()[i][5] \n",
    "    m1_mean  = row.reset_index()[i][3] \n",
    "    m2_count = row.reset_index()[i][4] \n",
    "    m2_mean  = row.reset_index()[i][2] \n",
    "\n",
    "    m1_name = row['Correctness'].reset_index()['Method'][1]\n",
    "    m2_name = row['Correctness'].reset_index()['Method'][0]\n",
    "\n",
    "\n",
    "    m1_color = 'yellow'\n",
    "    m2_color = 'yellow'\n",
    "\n",
    "    if m1_mean>m2_mean:\n",
    "      m1_color = 'green'\n",
    "      m2_color = 'red'\n",
    "    elif  m1_mean<m2_mean:\n",
    "      m1_color = 'red'\n",
    "      m2_color = 'green'\n",
    "    else:\n",
    "      m1_color = 'green'\n",
    "      m2_color = 'green'\n",
    "\n",
    "    ax1.text(0.25, 0.95, f\"{m1_name} Users: {int(m1_count)}\" ,fontsize=16)\n",
    "    ax1.text(0.25, 0.85, f\"{m2_name} Users: {int(m2_count)}\" ,fontsize=16)\n",
    "    ax1.text(0.25, 0.7, f\"{m1_name} Human Accuracy: {100*m1_mean:.1f}%\" ,fontsize=16, color=m1_color)\n",
    "    ax1.text(0.25, 0.6, f\"{m2_name} Human Accuracy: {100*m2_mean:.1f}%\" ,fontsize=16, color=m2_color, fontweight=\"bold\")\n",
    "    ax1.text(0.25, 0.1, f\"Ground Truth:\\n {real_gt.split('.')[1].replace('_', ' ').title()}\" ,fontsize=16, color='blue')\n",
    "\n",
    "    m1_pred = Method_Predictions[MethodKeyMapper[m1_name]]\n",
    "    m1_conf = Method_Confidences[MethodKeyMapper[m1_name]]\n",
    "\n",
    "    m2_pred = Method_Predictions[MethodKeyMapper[m2_name]]\n",
    "    m2_conf = Method_Confidences[MethodKeyMapper[m2_name]]\n",
    "\n",
    "    m1_color = 'black'\n",
    "    if m1_pred == real_gt:\n",
    "      m1_color = 'green'\n",
    "    else:\n",
    "      m1_color = 'red'\n",
    "\n",
    "    m2_color = 'black'\n",
    "    if m2_pred == real_gt:\n",
    "      m2_color = 'green'\n",
    "    else:\n",
    "      m2_color = 'red'\n",
    "\n",
    "    ax1.text(0.25, 0.4, f\"{m1_name} output:\\n{m1_pred.split('.')[1].replace('_', ' ').title()}\" ,fontsize=16, color=m1_color)\n",
    "    ax1.text(0.25, 0.25, f\"{m2_name} output:\\n{m2_pred.split('.')[1].replace('_', ' ').title()}\" ,fontsize=16, color=m2_color)\n",
    "\n",
    "    ax2.set_title(m1_name, fontsize=15)\n",
    "    ax2.imshow(load_part_of_image(f'/mnt/NeurIPS/supporting_files/{VisualizationsKeyMapper[m1_name]}/{q}', 510,0,0,0))\n",
    "    ax3.set_title(m2_name, fontsize=15)\n",
    "    ax3.imshow(load_part_of_image(f'/mnt/NeurIPS/supporting_files/{VisualizationsKeyMapper[m2_name]}/{q}', 510,0,0,0))\n",
    "    ax0.set_title('Query', fontsize=15)\n",
    "    ax0.imshow(load_part_of_image(f'/mnt/NeurIPS/supporting_files/{VisualizationsKeyMapper[m2_name]}/{q}', 0,0,2150,400))\n",
    "\n",
    "    plt.subplots_adjust(wspace=0.0, hspace=0.125)\n",
    "    \n",
    "    fig.savefig(f'../plots/is-xai-helping/group1/{pair[0]}-vs-{pair[1]}/{i}.pdf' ,dpi=100, bbox_inches='tight')\n",
    "    pp.savefig(fig)\n",
    "    # plt.show()\n",
    "    # break\n",
    "    plt.close()\n",
    "    \n",
    "  pp.close()"
   ]
  },
  {
   "cell_type": "code",
   "execution_count": null,
   "id": "25fc19bb-a8df-4a41-82d7-5a913630d5db",
   "metadata": {
    "pycharm": {
     "name": "#%%\n"
    }
   },
   "outputs": [],
   "source": [
    "for method_pair in tqdm(Pairs):\n",
    "  common_qs = df[df.Method.isin(method_pair)].groupby(['Query', 'Method'])[['Correctness']].count().unstack().dropna().stack().reset_index()['Query']\n",
    "  df_shared = df[(df['Query'].isin(common_qs)) & df.Method.isin(method_pair)]\n",
    "  # GROUP 1 Filtering\n",
    "  df_shared = df_shared[df['Query'].isin(group1.index.values)]\n",
    "  plot_queries(df_shared, method_pair)"
   ]
  },
  {
   "cell_type": "markdown",
   "id": "3dc431f7-4df7-4714-a759-56cf74472dac",
   "metadata": {
    "pycharm": {
     "name": "#%% md\n"
    }
   },
   "source": [
    "## Group 2 (CHM)"
   ]
  },
  {
   "cell_type": "code",
   "execution_count": null,
   "id": "f6906145-e903-4a46-aded-a76ba4d2cf58",
   "metadata": {
    "pycharm": {
     "name": "#%%\n"
    }
   },
   "outputs": [],
   "source": [
    "df_group2 = df[(df.Query.isin(group2.index))&(df.Method.isin(['CHM-Corr']))]"
   ]
  },
  {
   "cell_type": "code",
   "execution_count": null,
   "id": "d5a0e0d4-b4e3-4a96-941d-822be6aea333",
   "metadata": {
    "pycharm": {
     "name": "#%%\n"
    }
   },
   "outputs": [],
   "source": [
    "ch_predictions = {x[0]:x[1] for x in df_group2[['Query', 'CHM-Prediction']].values}"
   ]
  },
  {
   "cell_type": "code",
   "execution_count": null,
   "id": "4003c230-0b26-48c7-9220-29f79a511654",
   "metadata": {
    "pycharm": {
     "name": "#%%\n"
    }
   },
   "outputs": [],
   "source": [
    "ch_predictions"
   ]
  },
  {
   "cell_type": "code",
   "execution_count": null,
   "id": "64f68d43-e139-42ef-bce3-ff683e0167f2",
   "metadata": {
    "pycharm": {
     "name": "#%%\n"
    }
   },
   "outputs": [],
   "source": [
    "pp = PdfPages(f'../plots/is-xai-helping/group2/Group2.pdf')\n",
    "\n",
    "for i, row in df_group2.groupby('Query')['UID'].count().reset_index().iterrows():\n",
    "  q = row[0]\n",
    "  c = row[1]\n",
    "\n",
    "  fig, axes = plt.subplots(1, 2, figsize=(25,5), facecolor=(1,1,1), gridspec_kw={'width_ratios': [4, 16]})\n",
    "  \n",
    "  ax1, ax2 = axes\n",
    "  ax1.set_axis_off()\n",
    "  ax2.set_axis_off()\n",
    "  ax2.imshow(load_part_of_image(f'/mnt/NeurIPS/supporting_files/HS_CHM_Corrs/{q}', 0,0,0,0))\n",
    "  ax2.set_axis_off()\n",
    "  \n",
    "  \n",
    "  ax1.text(0.25, 0.9, f\"Query: {q.replace('.jpg', '')}\" ,fontsize=16)\n",
    "  ax1.text(0.25, 0.8, f\"CHM Prediction: {ch_predictions[q].split('.')[1].replace('_', ' ').title()}\" ,fontsize=16, color='green')\n",
    "  ax1.text(0.25, 0.7, f\"Users: {c}\" ,fontsize=16)\n",
    "  ax1.text(0.25, 0.6, f\"Accuracy: {0}\" ,fontsize=16, color='red')\n",
    "  fig.savefig(f'../plots/is-xai-helping/group2/{i}.pdf' ,dpi=100, bbox_inches='tight')\n",
    "  pp.savefig(fig)\n",
    "  plt.show()\n",
    "\n",
    "pp.close()"
   ]
  },
  {
   "cell_type": "markdown",
   "id": "c6ad0320-a535-49f1-a8f8-39247e4e0670",
   "metadata": {
    "pycharm": {
     "name": "#%% md\n"
    }
   },
   "source": [
    "## Group 2 (EMD)"
   ]
  },
  {
   "cell_type": "code",
   "execution_count": null,
   "id": "8eb43238-02ca-4f00-a754-02c6c80d8adb",
   "metadata": {
    "pycharm": {
     "name": "#%%\n"
    }
   },
   "outputs": [],
   "source": [
    "df_group2 = df[(df.Query.isin(group2_emd.index))&(df.Method.isin(['EMD-Corr']))]"
   ]
  },
  {
   "cell_type": "code",
   "execution_count": null,
   "id": "00e7159c-f598-4d38-8335-7facbfee8920",
   "metadata": {
    "pycharm": {
     "name": "#%%\n"
    }
   },
   "outputs": [],
   "source": [
    "EMD_predictions = {x[0]:x[1] for x in df_group2[['Query', 'EMD-Prediction']].values}"
   ]
  },
  {
   "cell_type": "code",
   "execution_count": null,
   "id": "e1245c28-f57c-427d-a559-4d0709df6fbf",
   "metadata": {
    "pycharm": {
     "name": "#%%\n"
    }
   },
   "outputs": [],
   "source": [
    "EMD_predictions"
   ]
  },
  {
   "cell_type": "code",
   "execution_count": null,
   "id": "b341280e-73c2-4b24-9565-600b399d6bba",
   "metadata": {
    "pycharm": {
     "name": "#%%\n"
    }
   },
   "outputs": [],
   "source": [
    "pp = PdfPages(f'../plots/is-xai-helping/group2-emd/Group2EMD.pdf')\n",
    "\n",
    "for i, row in df_group2.groupby('Query')['UID'].count().reset_index().iterrows():\n",
    "  q = row[0]\n",
    "  c = row[1]\n",
    "\n",
    "  fig, axes = plt.subplots(1, 2, figsize=(25,5), facecolor=(1,1,1), gridspec_kw={'width_ratios': [4, 16]})\n",
    "  \n",
    "  ax1, ax2 = axes\n",
    "  ax1.set_axis_off()\n",
    "  ax2.set_axis_off()\n",
    "  ax2.imshow(load_part_of_image(f'/mnt/NeurIPS/supporting_files/HS_EMD_Corrs/{q}', 0,0,0,0))\n",
    "  ax2.set_axis_off()\n",
    "  \n",
    "  \n",
    "  ax1.text(0.25, 0.9, f\"Query: {q.replace('.jpg', '')}\" ,fontsize=16)\n",
    "  ax1.text(0.25, 0.8, f\"EMD Prediction: {EMD_predictions[q]}\" ,fontsize=16, color='green')\n",
    "  ax1.text(0.25, 0.7, f\"Users: {c}\" ,fontsize=16)\n",
    "  ax1.text(0.25, 0.6, f\"Accuracy: {0}\" ,fontsize=16, color='red')\n",
    "  fig.savefig(f'../plots/is-xai-helping/group2-emd/{i}.pdf' ,dpi=100, bbox_inches='tight')\n",
    "  pp.savefig(fig)\n",
    "  plt.show()\n",
    "\n",
    "pp.close()"
   ]
  }
 ],
 "metadata": {
  "kernelspec": {
   "display_name": "Python 3 (ipykernel)",
   "language": "python",
   "name": "python3"
  },
  "language_info": {
   "codemirror_mode": {
    "name": "ipython",
    "version": 3
   },
   "file_extension": ".py",
   "mimetype": "text/x-python",
   "name": "python",
   "nbconvert_exporter": "python",
   "pygments_lexer": "ipython3",
   "version": "3.10.4"
  }
 },
 "nbformat": 4,
 "nbformat_minor": 5
}