{
 "cells": [
  {
   "cell_type": "markdown",
   "id": "bd9c8b2c-f2b8-4c86-8cc1-30f9767d2d1f",
   "metadata": {
    "pycharm": {
     "name": "#%% md\n"
    }
   },
   "source": [
    "# ImageNet - Human Study Analysis"
   ]
  },
  {
   "cell_type": "code",
   "execution_count": 1,
   "id": "26efaf31-54fe-42ec-bd7b-f73d01e6fd90",
   "metadata": {
    "pycharm": {
     "name": "#%%\n"
    }
   },
   "outputs": [],
   "source": [
    "DATA_SET = 'ImageNet'"
   ]
  },
  {
   "cell_type": "code",
   "execution_count": 2,
   "id": "8d5f2425",
   "metadata": {
    "collapsed": false,
    "jupyter": {
     "outputs_hidden": false
    },
    "pycharm": {
     "name": "#%%\n"
    }
   },
   "outputs": [],
   "source": [
    "import matplotlib.pyplot as plt\n",
    "import seaborn as sns\n",
    "sns.set()\n",
    "\n",
    "import pandas as pd  \n",
    "import numpy as np"
   ]
  },
  {
   "cell_type": "code",
   "execution_count": 3,
   "id": "d5f3e969",
   "metadata": {
    "collapsed": false,
    "jupyter": {
     "outputs_hidden": false
    },
    "pycharm": {
     "name": "#%%\n"
    }
   },
   "outputs": [],
   "source": [
    "pd.set_option(\"display.max_columns\", None)\n",
    "pd.set_option(\"display.max_rows\", None)"
   ]
  },
  {
   "cell_type": "markdown",
   "id": "85204b85",
   "metadata": {
    "pycharm": {
     "name": "#%% md\n"
    }
   },
   "source": [
    "# Reading Data"
   ]
  },
  {
   "cell_type": "code",
   "execution_count": 4,
   "id": "1a96359e",
   "metadata": {
    "collapsed": false,
    "jupyter": {
     "outputs_hidden": false
    },
    "pycharm": {
     "name": "#%%\n"
    }
   },
   "outputs": [],
   "source": [
    "df = pd.read_csv('../data/ImageNet-Human-Study-Summary.csv')"
   ]
  },
  {
   "cell_type": "code",
   "execution_count": 5,
   "id": "5aba5bc5",
   "metadata": {
    "collapsed": false,
    "jupyter": {
     "outputs_hidden": false
    },
    "pycharm": {
     "name": "#%%\n"
    }
   },
   "outputs": [
    {
     "data": {
      "text/html": [
       "<div>\n",
       "<style scoped>\n",
       "    .dataframe tbody tr th:only-of-type {\n",
       "        vertical-align: middle;\n",
       "    }\n",
       "\n",
       "    .dataframe tbody tr th {\n",
       "        vertical-align: top;\n",
       "    }\n",
       "\n",
       "    .dataframe thead th {\n",
       "        text-align: right;\n",
       "    }\n",
       "</style>\n",
       "<table border=\"1\" class=\"dataframe\">\n",
       "  <thead>\n",
       "    <tr style=\"text-align: right;\">\n",
       "      <th></th>\n",
       "      <th>UID</th>\n",
       "      <th>Query</th>\n",
       "      <th>Prior Knowledge</th>\n",
       "      <th>Counter balance</th>\n",
       "      <th>Group Known</th>\n",
       "      <th>Group Unknown</th>\n",
       "      <th>Validation Reaction Time</th>\n",
       "      <th>Test Reaction Time</th>\n",
       "      <th>DATE</th>\n",
       "      <th>Group Validation Correct</th>\n",
       "      <th>Group Validation Incorrect</th>\n",
       "      <th>ImageNet</th>\n",
       "      <th>Correctness</th>\n",
       "      <th>User Accuracy</th>\n",
       "      <th>User Corrects</th>\n",
       "      <th>Method</th>\n",
       "      <th>GroundTruth</th>\n",
       "      <th>Parent-lvl12</th>\n",
       "      <th>Parent-lvl13</th>\n",
       "      <th>Parent-lvl14</th>\n",
       "      <th>ClassifierCorrectness</th>\n",
       "      <th>DifficultyLevel</th>\n",
       "      <th>ConfidenceScore</th>\n",
       "      <th>ResNet-Prediction</th>\n",
       "      <th>KNN-Prediction</th>\n",
       "      <th>EMD-Prediction</th>\n",
       "      <th>CHM-Prediction</th>\n",
       "      <th>ResNet-Conf</th>\n",
       "      <th>KNN-Conf</th>\n",
       "      <th>EMD-Conf</th>\n",
       "      <th>CHM-Conf</th>\n",
       "      <th>Real GTs</th>\n",
       "      <th>Real WNIDs</th>\n",
       "      <th>Parent-lvl12_real</th>\n",
       "      <th>Parent-lvl13_real</th>\n",
       "      <th>Parent-lvl14_real</th>\n",
       "    </tr>\n",
       "  </thead>\n",
       "  <tbody>\n",
       "    <tr>\n",
       "      <th>0</th>\n",
       "      <td>6386009</td>\n",
       "      <td>ILSVRC2012_val_00027121.JPEG</td>\n",
       "      <td>0</td>\n",
       "      <td>15</td>\n",
       "      <td>15</td>\n",
       "      <td>7</td>\n",
       "      <td>677682.700001</td>\n",
       "      <td>340827</td>\n",
       "      <td>2022-05-01 00:17:34.793</td>\n",
       "      <td>10</td>\n",
       "      <td>0</td>\n",
       "      <td>22</td>\n",
       "      <td>1</td>\n",
       "      <td>0.733333</td>\n",
       "      <td>22</td>\n",
       "      <td>CHM-NN</td>\n",
       "      <td>n02112350</td>\n",
       "      <td>carnivore</td>\n",
       "      <td>canine</td>\n",
       "      <td>dog</td>\n",
       "      <td>1</td>\n",
       "      <td>Easy</td>\n",
       "      <td>1.0</td>\n",
       "      <td>keeshond</td>\n",
       "      <td>keeshond</td>\n",
       "      <td>keeshond</td>\n",
       "      <td>keeshond</td>\n",
       "      <td>0.99</td>\n",
       "      <td>1.00</td>\n",
       "      <td>1.00</td>\n",
       "      <td>1.0</td>\n",
       "      <td>['keeshond']</td>\n",
       "      <td>['n02112350']</td>\n",
       "      <td>['carnivore']</td>\n",
       "      <td>['canine']</td>\n",
       "      <td>['dog']</td>\n",
       "    </tr>\n",
       "    <tr>\n",
       "      <th>1</th>\n",
       "      <td>6386009</td>\n",
       "      <td>ILSVRC2012_val_00008987.JPEG</td>\n",
       "      <td>0</td>\n",
       "      <td>15</td>\n",
       "      <td>15</td>\n",
       "      <td>7</td>\n",
       "      <td>677682.700001</td>\n",
       "      <td>340827</td>\n",
       "      <td>2022-05-01 00:17:34.793</td>\n",
       "      <td>10</td>\n",
       "      <td>0</td>\n",
       "      <td>22</td>\n",
       "      <td>1</td>\n",
       "      <td>0.733333</td>\n",
       "      <td>22</td>\n",
       "      <td>CHM-NN</td>\n",
       "      <td>n01980166</td>\n",
       "      <td>invertebrate</td>\n",
       "      <td>invertebrate</td>\n",
       "      <td>invertebrate</td>\n",
       "      <td>1</td>\n",
       "      <td>Easy</td>\n",
       "      <td>0.9</td>\n",
       "      <td>fiddler_crab</td>\n",
       "      <td>fiddler_crab</td>\n",
       "      <td>fiddler_crab</td>\n",
       "      <td>fiddler_crab</td>\n",
       "      <td>0.99</td>\n",
       "      <td>0.95</td>\n",
       "      <td>0.90</td>\n",
       "      <td>0.9</td>\n",
       "      <td>['fiddler_crab']</td>\n",
       "      <td>['n01980166']</td>\n",
       "      <td>['invertebrate']</td>\n",
       "      <td>['invertebrate']</td>\n",
       "      <td>['invertebrate']</td>\n",
       "    </tr>\n",
       "    <tr>\n",
       "      <th>2</th>\n",
       "      <td>6386009</td>\n",
       "      <td>ILSVRC2012_val_00043672.JPEG</td>\n",
       "      <td>1</td>\n",
       "      <td>15</td>\n",
       "      <td>15</td>\n",
       "      <td>7</td>\n",
       "      <td>677682.700001</td>\n",
       "      <td>340827</td>\n",
       "      <td>2022-05-01 00:17:34.793</td>\n",
       "      <td>10</td>\n",
       "      <td>0</td>\n",
       "      <td>22</td>\n",
       "      <td>0</td>\n",
       "      <td>0.733333</td>\n",
       "      <td>22</td>\n",
       "      <td>CHM-NN</td>\n",
       "      <td>n02093428</td>\n",
       "      <td>carnivore</td>\n",
       "      <td>canine</td>\n",
       "      <td>dog</td>\n",
       "      <td>0</td>\n",
       "      <td>Medium</td>\n",
       "      <td>0.6</td>\n",
       "      <td>American_Staffordshire_terrier</td>\n",
       "      <td>American_Staffordshire_terrier</td>\n",
       "      <td>American_Staffordshire_terrier</td>\n",
       "      <td>American_Staffordshire_terrier</td>\n",
       "      <td>0.62</td>\n",
       "      <td>0.85</td>\n",
       "      <td>0.75</td>\n",
       "      <td>0.6</td>\n",
       "      <td>['vizsla']</td>\n",
       "      <td>['n02100583']</td>\n",
       "      <td>['carnivore']</td>\n",
       "      <td>['canine']</td>\n",
       "      <td>['dog']</td>\n",
       "    </tr>\n",
       "    <tr>\n",
       "      <th>3</th>\n",
       "      <td>6386009</td>\n",
       "      <td>ILSVRC2012_val_00011479.JPEG</td>\n",
       "      <td>1</td>\n",
       "      <td>15</td>\n",
       "      <td>15</td>\n",
       "      <td>7</td>\n",
       "      <td>677682.700001</td>\n",
       "      <td>340827</td>\n",
       "      <td>2022-05-01 00:17:34.793</td>\n",
       "      <td>10</td>\n",
       "      <td>0</td>\n",
       "      <td>22</td>\n",
       "      <td>1</td>\n",
       "      <td>0.733333</td>\n",
       "      <td>22</td>\n",
       "      <td>CHM-NN</td>\n",
       "      <td>n04350905</td>\n",
       "      <td>commodity</td>\n",
       "      <td>commodity</td>\n",
       "      <td>commodity</td>\n",
       "      <td>0</td>\n",
       "      <td>Easy</td>\n",
       "      <td>0.2</td>\n",
       "      <td>suit</td>\n",
       "      <td>suit</td>\n",
       "      <td>suit</td>\n",
       "      <td>unicycle</td>\n",
       "      <td>0.33</td>\n",
       "      <td>0.15</td>\n",
       "      <td>0.20</td>\n",
       "      <td>0.2</td>\n",
       "      <td>['suit', 'Windsor_tie']</td>\n",
       "      <td>['n04350905', 'n04591157']</td>\n",
       "      <td>['commodity', 'commodity']</td>\n",
       "      <td>['commodity', 'commodity']</td>\n",
       "      <td>['commodity', 'commodity']</td>\n",
       "    </tr>\n",
       "    <tr>\n",
       "      <th>4</th>\n",
       "      <td>6386009</td>\n",
       "      <td>ILSVRC2012_val_00034787.JPEG</td>\n",
       "      <td>1</td>\n",
       "      <td>15</td>\n",
       "      <td>15</td>\n",
       "      <td>7</td>\n",
       "      <td>677682.700001</td>\n",
       "      <td>340827</td>\n",
       "      <td>2022-05-01 00:17:34.793</td>\n",
       "      <td>10</td>\n",
       "      <td>0</td>\n",
       "      <td>22</td>\n",
       "      <td>0</td>\n",
       "      <td>0.733333</td>\n",
       "      <td>22</td>\n",
       "      <td>CHM-NN</td>\n",
       "      <td>n07754684</td>\n",
       "      <td>natural_object</td>\n",
       "      <td>natural_object</td>\n",
       "      <td>natural_object</td>\n",
       "      <td>1</td>\n",
       "      <td>Medium</td>\n",
       "      <td>0.4</td>\n",
       "      <td>jackfruit</td>\n",
       "      <td>jackfruit</td>\n",
       "      <td>jackfruit</td>\n",
       "      <td>jackfruit</td>\n",
       "      <td>0.98</td>\n",
       "      <td>0.70</td>\n",
       "      <td>0.45</td>\n",
       "      <td>0.4</td>\n",
       "      <td>['jackfruit']</td>\n",
       "      <td>['n07754684']</td>\n",
       "      <td>['natural_object']</td>\n",
       "      <td>['natural_object']</td>\n",
       "      <td>['natural_object']</td>\n",
       "    </tr>\n",
       "  </tbody>\n",
       "</table>\n",
       "</div>"
      ],
      "text/plain": [
       "       UID                         Query  Prior Knowledge  Counter balance  \\\n",
       "0  6386009  ILSVRC2012_val_00027121.JPEG                0               15   \n",
       "1  6386009  ILSVRC2012_val_00008987.JPEG                0               15   \n",
       "2  6386009  ILSVRC2012_val_00043672.JPEG                1               15   \n",
       "3  6386009  ILSVRC2012_val_00011479.JPEG                1               15   \n",
       "4  6386009  ILSVRC2012_val_00034787.JPEG                1               15   \n",
       "\n",
       "   Group Known  Group Unknown  Validation Reaction Time  Test Reaction Time  \\\n",
       "0           15              7             677682.700001              340827   \n",
       "1           15              7             677682.700001              340827   \n",
       "2           15              7             677682.700001              340827   \n",
       "3           15              7             677682.700001              340827   \n",
       "4           15              7             677682.700001              340827   \n",
       "\n",
       "                      DATE  Group Validation Correct  \\\n",
       "0  2022-05-01 00:17:34.793                        10   \n",
       "1  2022-05-01 00:17:34.793                        10   \n",
       "2  2022-05-01 00:17:34.793                        10   \n",
       "3  2022-05-01 00:17:34.793                        10   \n",
       "4  2022-05-01 00:17:34.793                        10   \n",
       "\n",
       "   Group Validation Incorrect  ImageNet  Correctness  User Accuracy  \\\n",
       "0                           0        22            1       0.733333   \n",
       "1                           0        22            1       0.733333   \n",
       "2                           0        22            0       0.733333   \n",
       "3                           0        22            1       0.733333   \n",
       "4                           0        22            0       0.733333   \n",
       "\n",
       "   User Corrects  Method GroundTruth    Parent-lvl12    Parent-lvl13  \\\n",
       "0             22  CHM-NN   n02112350       carnivore          canine   \n",
       "1             22  CHM-NN   n01980166    invertebrate    invertebrate   \n",
       "2             22  CHM-NN   n02093428       carnivore          canine   \n",
       "3             22  CHM-NN   n04350905       commodity       commodity   \n",
       "4             22  CHM-NN   n07754684  natural_object  natural_object   \n",
       "\n",
       "     Parent-lvl14  ClassifierCorrectness DifficultyLevel  ConfidenceScore  \\\n",
       "0             dog                      1            Easy              1.0   \n",
       "1    invertebrate                      1            Easy              0.9   \n",
       "2             dog                      0          Medium              0.6   \n",
       "3       commodity                      0            Easy              0.2   \n",
       "4  natural_object                      1          Medium              0.4   \n",
       "\n",
       "                ResNet-Prediction                  KNN-Prediction  \\\n",
       "0                        keeshond                        keeshond   \n",
       "1                    fiddler_crab                    fiddler_crab   \n",
       "2  American_Staffordshire_terrier  American_Staffordshire_terrier   \n",
       "3                            suit                            suit   \n",
       "4                       jackfruit                       jackfruit   \n",
       "\n",
       "                   EMD-Prediction                  CHM-Prediction  \\\n",
       "0                        keeshond                        keeshond   \n",
       "1                    fiddler_crab                    fiddler_crab   \n",
       "2  American_Staffordshire_terrier  American_Staffordshire_terrier   \n",
       "3                            suit                        unicycle   \n",
       "4                       jackfruit                       jackfruit   \n",
       "\n",
       "   ResNet-Conf  KNN-Conf  EMD-Conf  CHM-Conf                 Real GTs  \\\n",
       "0         0.99      1.00      1.00       1.0             ['keeshond']   \n",
       "1         0.99      0.95      0.90       0.9         ['fiddler_crab']   \n",
       "2         0.62      0.85      0.75       0.6               ['vizsla']   \n",
       "3         0.33      0.15      0.20       0.2  ['suit', 'Windsor_tie']   \n",
       "4         0.98      0.70      0.45       0.4            ['jackfruit']   \n",
       "\n",
       "                   Real WNIDs           Parent-lvl12_real  \\\n",
       "0               ['n02112350']               ['carnivore']   \n",
       "1               ['n01980166']            ['invertebrate']   \n",
       "2               ['n02100583']               ['carnivore']   \n",
       "3  ['n04350905', 'n04591157']  ['commodity', 'commodity']   \n",
       "4               ['n07754684']          ['natural_object']   \n",
       "\n",
       "            Parent-lvl13_real           Parent-lvl14_real  \n",
       "0                  ['canine']                     ['dog']  \n",
       "1            ['invertebrate']            ['invertebrate']  \n",
       "2                  ['canine']                     ['dog']  \n",
       "3  ['commodity', 'commodity']  ['commodity', 'commodity']  \n",
       "4          ['natural_object']          ['natural_object']  "
      ]
     },
     "execution_count": 5,
     "metadata": {},
     "output_type": "execute_result"
    }
   ],
   "source": [
    "df.head(5)"
   ]
  },
  {
   "cell_type": "markdown",
   "id": "aef6beab",
   "metadata": {
    "pycharm": {
     "name": "#%% md\n"
    }
   },
   "source": [
    "## Orders for Plotting"
   ]
  },
  {
   "cell_type": "code",
   "execution_count": 6,
   "id": "1d82440c",
   "metadata": {
    "collapsed": false,
    "jupyter": {
     "outputs_hidden": false
    },
    "pycharm": {
     "name": "#%%\n"
    }
   },
   "outputs": [],
   "source": [
    "ORDER_DICT = {'ResNet-50': 1,\n",
    "              'kNN': 2,\n",
    "              'EMD-NN':  3,\n",
    "              'EMD-Corr': 4,\n",
    "              'CHM-NN': 5,\n",
    "              'CHM-Corr': 6}"
   ]
  },
  {
   "cell_type": "code",
   "execution_count": 7,
   "id": "7d307b60",
   "metadata": {
    "collapsed": false,
    "jupyter": {
     "outputs_hidden": false
    },
    "pycharm": {
     "name": "#%%\n"
    }
   },
   "outputs": [
    {
     "name": "stdout",
     "output_type": "stream",
     "text": [
      "total 10800 entries\n"
     ]
    }
   ],
   "source": [
    "print(f\"total {len(df)} entries\")"
   ]
  },
  {
   "cell_type": "code",
   "execution_count": 8,
   "id": "fe8dee95",
   "metadata": {
    "collapsed": false,
    "jupyter": {
     "outputs_hidden": false
    },
    "pycharm": {
     "name": "#%%\n"
    }
   },
   "outputs": [
    {
     "data": {
      "text/html": [
       "<div>\n",
       "<style scoped>\n",
       "    .dataframe tbody tr th:only-of-type {\n",
       "        vertical-align: middle;\n",
       "    }\n",
       "\n",
       "    .dataframe tbody tr th {\n",
       "        vertical-align: top;\n",
       "    }\n",
       "\n",
       "    .dataframe thead th {\n",
       "        text-align: right;\n",
       "    }\n",
       "</style>\n",
       "<table border=\"1\" class=\"dataframe\">\n",
       "  <thead>\n",
       "    <tr style=\"text-align: right;\">\n",
       "      <th></th>\n",
       "      <th>Method</th>\n",
       "      <th>Query</th>\n",
       "    </tr>\n",
       "  </thead>\n",
       "  <tbody>\n",
       "    <tr>\n",
       "      <th>4</th>\n",
       "      <td>ResNet-50</td>\n",
       "      <td>60.0</td>\n",
       "    </tr>\n",
       "    <tr>\n",
       "      <th>5</th>\n",
       "      <td>kNN</td>\n",
       "      <td>60.0</td>\n",
       "    </tr>\n",
       "    <tr>\n",
       "      <th>3</th>\n",
       "      <td>EMD-NN</td>\n",
       "      <td>60.0</td>\n",
       "    </tr>\n",
       "    <tr>\n",
       "      <th>2</th>\n",
       "      <td>EMD-Corr</td>\n",
       "      <td>60.0</td>\n",
       "    </tr>\n",
       "    <tr>\n",
       "      <th>1</th>\n",
       "      <td>CHM-NN</td>\n",
       "      <td>60.0</td>\n",
       "    </tr>\n",
       "    <tr>\n",
       "      <th>0</th>\n",
       "      <td>CHM-Corr</td>\n",
       "      <td>60.0</td>\n",
       "    </tr>\n",
       "  </tbody>\n",
       "</table>\n",
       "</div>"
      ],
      "text/plain": [
       "      Method  Query\n",
       "4  ResNet-50   60.0\n",
       "5        kNN   60.0\n",
       "3     EMD-NN   60.0\n",
       "2   EMD-Corr   60.0\n",
       "1     CHM-NN   60.0\n",
       "0   CHM-Corr   60.0"
      ]
     },
     "execution_count": 8,
     "metadata": {},
     "output_type": "execute_result"
    }
   ],
   "source": [
    "(df.groupby(['UID', 'Method'])['Query'].count().groupby('Method').sum()/30).reset_index().sort_values(by='Method', key=lambda x: x.map(ORDER_DICT))"
   ]
  },
  {
   "cell_type": "markdown",
   "id": "cdd90bbb",
   "metadata": {
    "pycharm": {
     "name": "#%% md\n"
    }
   },
   "source": [
    "## Removing Bad Users \n",
    "\n",
    "We manually marked two users as **bad** based on their average performance on `1:1` ratio samples\n",
    "\n",
    "1. `6395881` \n",
    "1. `6396044`\n",
    "\n",
    "We also added `6386000, 6382894, 6385998, 6382878`"
   ]
  },
  {
   "cell_type": "code",
   "execution_count": 9,
   "id": "07854459",
   "metadata": {
    "collapsed": false,
    "jupyter": {
     "outputs_hidden": false
    },
    "pycharm": {
     "name": "#%%\n"
    }
   },
   "outputs": [],
   "source": [
    "df = df[~df['UID'].isin([6395881, 6396044, 6386000, 6382894, 6385998, 6382878])]"
   ]
  },
  {
   "cell_type": "code",
   "execution_count": 10,
   "id": "25f5c5c8",
   "metadata": {
    "collapsed": false,
    "jupyter": {
     "outputs_hidden": false
    },
    "pycharm": {
     "name": "#%%\n"
    }
   },
   "outputs": [
    {
     "name": "stdout",
     "output_type": "stream",
     "text": [
      "total 10620 entries\n"
     ]
    }
   ],
   "source": [
    "print(f\"total {len(df)} entries\")"
   ]
  },
  {
   "cell_type": "code",
   "execution_count": 11,
   "id": "ca151f86",
   "metadata": {
    "collapsed": false,
    "jupyter": {
     "outputs_hidden": false
    },
    "pycharm": {
     "name": "#%%\n"
    }
   },
   "outputs": [],
   "source": [
    "df = df.sort_values(by='Method', key=lambda x: x.map(ORDER_DICT))"
   ]
  },
  {
   "cell_type": "markdown",
   "id": "78ab5226",
   "metadata": {
    "pycharm": {
     "name": "#%% md\n"
    }
   },
   "source": [
    "# Basic Analysis"
   ]
  },
  {
   "cell_type": "markdown",
   "id": "49904f37",
   "metadata": {
    "pycharm": {
     "name": "#%% md\n"
    }
   },
   "source": [
    "## Human+AI Accuracy"
   ]
  },
  {
   "cell_type": "code",
   "execution_count": 12,
   "id": "62a19546",
   "metadata": {
    "collapsed": false,
    "jupyter": {
     "outputs_hidden": false
    },
    "pycharm": {
     "name": "#%%\n"
    }
   },
   "outputs": [],
   "source": [
    "accuracy_df = df.groupby(['UID', 'Method'])['Correctness'].mean().reset_index().groupby(['Method'])['Correctness'].agg(['mean', 'std']).reset_index().sort_values(by='Method', key=lambda x: x.map(ORDER_DICT))\n",
    "accuracy_df['mean']*=100\n",
    "accuracy_df['std']*=100"
   ]
  },
  {
   "cell_type": "code",
   "execution_count": 13,
   "id": "fbc941cf",
   "metadata": {
    "collapsed": false,
    "jupyter": {
     "outputs_hidden": false
    },
    "pycharm": {
     "name": "#%%\n"
    }
   },
   "outputs": [
    {
     "data": {
      "text/html": [
       "<div>\n",
       "<style scoped>\n",
       "    .dataframe tbody tr th:only-of-type {\n",
       "        vertical-align: middle;\n",
       "    }\n",
       "\n",
       "    .dataframe tbody tr th {\n",
       "        vertical-align: top;\n",
       "    }\n",
       "\n",
       "    .dataframe thead th {\n",
       "        text-align: right;\n",
       "    }\n",
       "</style>\n",
       "<table border=\"1\" class=\"dataframe\">\n",
       "  <thead>\n",
       "    <tr style=\"text-align: right;\">\n",
       "      <th></th>\n",
       "      <th>Method</th>\n",
       "      <th>mean</th>\n",
       "      <th>std</th>\n",
       "    </tr>\n",
       "  </thead>\n",
       "  <tbody>\n",
       "    <tr>\n",
       "      <th>4</th>\n",
       "      <td>ResNet-50</td>\n",
       "      <td>81.555556</td>\n",
       "      <td>5.539336</td>\n",
       "    </tr>\n",
       "    <tr>\n",
       "      <th>5</th>\n",
       "      <td>kNN</td>\n",
       "      <td>75.762712</td>\n",
       "      <td>8.550739</td>\n",
       "    </tr>\n",
       "    <tr>\n",
       "      <th>3</th>\n",
       "      <td>EMD-NN</td>\n",
       "      <td>77.719298</td>\n",
       "      <td>8.265387</td>\n",
       "    </tr>\n",
       "    <tr>\n",
       "      <th>2</th>\n",
       "      <td>EMD-Corr</td>\n",
       "      <td>78.870056</td>\n",
       "      <td>6.568536</td>\n",
       "    </tr>\n",
       "    <tr>\n",
       "      <th>1</th>\n",
       "      <td>CHM-NN</td>\n",
       "      <td>77.555556</td>\n",
       "      <td>6.912601</td>\n",
       "    </tr>\n",
       "    <tr>\n",
       "      <th>0</th>\n",
       "      <td>CHM-Corr</td>\n",
       "      <td>77.231638</td>\n",
       "      <td>7.559535</td>\n",
       "    </tr>\n",
       "  </tbody>\n",
       "</table>\n",
       "</div>"
      ],
      "text/plain": [
       "      Method       mean       std\n",
       "4  ResNet-50  81.555556  5.539336\n",
       "5        kNN  75.762712  8.550739\n",
       "3     EMD-NN  77.719298  8.265387\n",
       "2   EMD-Corr  78.870056  6.568536\n",
       "1     CHM-NN  77.555556  6.912601\n",
       "0   CHM-Corr  77.231638  7.559535"
      ]
     },
     "execution_count": 13,
     "metadata": {},
     "output_type": "execute_result"
    }
   ],
   "source": [
    "accuracy_df"
   ]
  },
  {
   "cell_type": "code",
   "execution_count": 14,
   "id": "22f43a76",
   "metadata": {
    "collapsed": false,
    "jupyter": {
     "outputs_hidden": false
    },
    "pycharm": {
     "name": "#%%\n"
    }
   },
   "outputs": [
    {
     "data": {
      "image/png": "[encoded data removed]",
      "text/plain": [
       "<Figure size 720x432 with 1 Axes>"
      ]
     },
     "metadata": {
      "needs_background": "light"
     },
     "output_type": "display_data"
    }
   ],
   "source": [
    "fig, ax = plt.subplots(1, figsize=(10, 6))\n",
    "\n",
    "sns.barplot(data=accuracy_df, x='Method', y='mean', ax=ax, palette=\"tab10\")\n",
    "\n",
    "for container in ax.containers:\n",
    "  ax.bar_label(container, fontsize=15, fmt='%.2f%%')\n",
    "    \n",
    "ax.tick_params(axis=\"both\", which=\"both\", bottom=\"off\", top=\"off\", labelbottom=\"on\", left=\"off\", right=\"off\", labelleft=\"on\")\n",
    "\n",
    "# Draw horizontal axis lines\n",
    "vals = ax.get_yticks()\n",
    "for tick in vals:\n",
    "  ax.axhline(y=tick, linestyle='dashed', alpha=0.4, color='#eeeeee', zorder=1)\n",
    "\n",
    "plt.title(f'Human+AI Accuracy - {DATA_SET}\\n', fontsize=18)\n",
    "plt.errorbar(accuracy_df['Method'], accuracy_df['mean'], yerr=accuracy_df['std'], fmt=\"o\", color=\"darkred\")\n",
    "plt.show()"
   ]
  },
  {
   "cell_type": "markdown",
   "id": "5a256ef0",
   "metadata": {
    "pycharm": {
     "name": "#%% md\n"
    }
   },
   "source": [
    "## Counter Balance"
   ]
  },
  {
   "cell_type": "code",
   "execution_count": 15,
   "id": "c2adc3ee",
   "metadata": {
    "collapsed": false,
    "jupyter": {
     "outputs_hidden": false
    },
    "pycharm": {
     "name": "#%%\n"
    }
   },
   "outputs": [
    {
     "data": {
      "image/png": "[encoded data removed]",
      "text/plain": [
       "<Figure size 2252.22x360 with 6 Axes>"
      ]
     },
     "metadata": {
      "needs_background": "light"
     },
     "output_type": "display_data"
    }
   ],
   "source": [
    "sns.displot(\n",
    "    df, x=\"Counter balance\", col=\"Method\", bins=20 ,kde=False, common_bins=False,\n",
    "    height=5, facet_kws=dict(margin_titles=True), hue=\"Method\", shrink=.95\n",
    ")\n",
    "\n",
    "plt.show()"
   ]
  },
  {
   "cell_type": "markdown",
   "id": "8eb8d58e",
   "metadata": {
    "pycharm": {
     "name": "#%% md\n"
    }
   },
   "source": [
    "## Time to Finish"
   ]
  },
  {
   "cell_type": "code",
   "execution_count": 16,
   "id": "4d5c0bd5",
   "metadata": {
    "collapsed": false,
    "jupyter": {
     "outputs_hidden": false
    },
    "pycharm": {
     "name": "#%%\n"
    }
   },
   "outputs": [
    {
     "data": {
      "text/html": [
       "<div>\n",
       "<style scoped>\n",
       "    .dataframe tbody tr th:only-of-type {\n",
       "        vertical-align: middle;\n",
       "    }\n",
       "\n",
       "    .dataframe tbody tr th {\n",
       "        vertical-align: top;\n",
       "    }\n",
       "\n",
       "    .dataframe thead th {\n",
       "        text-align: right;\n",
       "    }\n",
       "</style>\n",
       "<table border=\"1\" class=\"dataframe\">\n",
       "  <thead>\n",
       "    <tr style=\"text-align: right;\">\n",
       "      <th></th>\n",
       "      <th>UID</th>\n",
       "      <th>Query</th>\n",
       "      <th>Prior Knowledge</th>\n",
       "      <th>Counter balance</th>\n",
       "      <th>Group Known</th>\n",
       "      <th>Group Unknown</th>\n",
       "      <th>Validation Reaction Time</th>\n",
       "      <th>Test Reaction Time</th>\n",
       "      <th>DATE</th>\n",
       "      <th>Group Validation Correct</th>\n",
       "      <th>Group Validation Incorrect</th>\n",
       "      <th>ImageNet</th>\n",
       "      <th>Correctness</th>\n",
       "      <th>User Accuracy</th>\n",
       "      <th>User Corrects</th>\n",
       "      <th>Method</th>\n",
       "      <th>GroundTruth</th>\n",
       "      <th>Parent-lvl12</th>\n",
       "      <th>Parent-lvl13</th>\n",
       "      <th>Parent-lvl14</th>\n",
       "      <th>ClassifierCorrectness</th>\n",
       "      <th>DifficultyLevel</th>\n",
       "      <th>ConfidenceScore</th>\n",
       "      <th>ResNet-Prediction</th>\n",
       "      <th>KNN-Prediction</th>\n",
       "      <th>EMD-Prediction</th>\n",
       "      <th>CHM-Prediction</th>\n",
       "      <th>ResNet-Conf</th>\n",
       "      <th>KNN-Conf</th>\n",
       "      <th>EMD-Conf</th>\n",
       "      <th>CHM-Conf</th>\n",
       "      <th>Real GTs</th>\n",
       "      <th>Real WNIDs</th>\n",
       "      <th>Parent-lvl12_real</th>\n",
       "      <th>Parent-lvl13_real</th>\n",
       "      <th>Parent-lvl14_real</th>\n",
       "    </tr>\n",
       "  </thead>\n",
       "  <tbody>\n",
       "    <tr>\n",
       "      <th>3524</th>\n",
       "      <td>6382823</td>\n",
       "      <td>ILSVRC2012_val_00016004.JPEG</td>\n",
       "      <td>0</td>\n",
       "      <td>1</td>\n",
       "      <td>13</td>\n",
       "      <td>10</td>\n",
       "      <td>603548.3</td>\n",
       "      <td>306339</td>\n",
       "      <td>2022-04-29 16:44:20.656</td>\n",
       "      <td>10</td>\n",
       "      <td>0</td>\n",
       "      <td>23</td>\n",
       "      <td>1</td>\n",
       "      <td>0.766667</td>\n",
       "      <td>23</td>\n",
       "      <td>ResNet-50</td>\n",
       "      <td>n03775071</td>\n",
       "      <td>commodity</td>\n",
       "      <td>commodity</td>\n",
       "      <td>commodity</td>\n",
       "      <td>1</td>\n",
       "      <td>Easy</td>\n",
       "      <td>0.91</td>\n",
       "      <td>mitten</td>\n",
       "      <td>mitten</td>\n",
       "      <td>mitten</td>\n",
       "      <td>mitten</td>\n",
       "      <td>0.91</td>\n",
       "      <td>0.8</td>\n",
       "      <td>1.0</td>\n",
       "      <td>0.95</td>\n",
       "      <td>['mitten']</td>\n",
       "      <td>['n03775071']</td>\n",
       "      <td>['commodity']</td>\n",
       "      <td>['commodity']</td>\n",
       "      <td>['commodity']</td>\n",
       "    </tr>\n",
       "    <tr>\n",
       "      <th>2394</th>\n",
       "      <td>6385941</td>\n",
       "      <td>ILSVRC2012_val_00000304.JPEG</td>\n",
       "      <td>0</td>\n",
       "      <td>17</td>\n",
       "      <td>19</td>\n",
       "      <td>5</td>\n",
       "      <td>317225.0</td>\n",
       "      <td>315446</td>\n",
       "      <td>2022-05-01 00:06:54.326</td>\n",
       "      <td>10</td>\n",
       "      <td>0</td>\n",
       "      <td>24</td>\n",
       "      <td>1</td>\n",
       "      <td>0.800000</td>\n",
       "      <td>24</td>\n",
       "      <td>ResNet-50</td>\n",
       "      <td>n12985857</td>\n",
       "      <td>fungus</td>\n",
       "      <td>fungus</td>\n",
       "      <td>fungus</td>\n",
       "      <td>1</td>\n",
       "      <td>Easy</td>\n",
       "      <td>0.98</td>\n",
       "      <td>coral_fungus</td>\n",
       "      <td>coral_fungus</td>\n",
       "      <td>coral_fungus</td>\n",
       "      <td>coral_fungus</td>\n",
       "      <td>0.98</td>\n",
       "      <td>1.0</td>\n",
       "      <td>1.0</td>\n",
       "      <td>1.00</td>\n",
       "      <td>['coral_fungus']</td>\n",
       "      <td>['n12985857']</td>\n",
       "      <td>['fungus']</td>\n",
       "      <td>['fungus']</td>\n",
       "      <td>['fungus']</td>\n",
       "    </tr>\n",
       "  </tbody>\n",
       "</table>\n",
       "</div>"
      ],
      "text/plain": [
       "          UID                         Query  Prior Knowledge  Counter balance  \\\n",
       "3524  6382823  ILSVRC2012_val_00016004.JPEG                0                1   \n",
       "2394  6385941  ILSVRC2012_val_00000304.JPEG                0               17   \n",
       "\n",
       "      Group Known  Group Unknown  Validation Reaction Time  \\\n",
       "3524           13             10                  603548.3   \n",
       "2394           19              5                  317225.0   \n",
       "\n",
       "      Test Reaction Time                     DATE  Group Validation Correct  \\\n",
       "3524              306339  2022-04-29 16:44:20.656                        10   \n",
       "2394              315446  2022-05-01 00:06:54.326                        10   \n",
       "\n",
       "      Group Validation Incorrect  ImageNet  Correctness  User Accuracy  \\\n",
       "3524                           0        23            1       0.766667   \n",
       "2394                           0        24            1       0.800000   \n",
       "\n",
       "      User Corrects     Method GroundTruth Parent-lvl12 Parent-lvl13  \\\n",
       "3524             23  ResNet-50   n03775071    commodity    commodity   \n",
       "2394             24  ResNet-50   n12985857       fungus       fungus   \n",
       "\n",
       "     Parent-lvl14  ClassifierCorrectness DifficultyLevel  ConfidenceScore  \\\n",
       "3524    commodity                      1            Easy             0.91   \n",
       "2394       fungus                      1            Easy             0.98   \n",
       "\n",
       "     ResNet-Prediction KNN-Prediction EMD-Prediction CHM-Prediction  \\\n",
       "3524            mitten         mitten         mitten         mitten   \n",
       "2394      coral_fungus   coral_fungus   coral_fungus   coral_fungus   \n",
       "\n",
       "      ResNet-Conf  KNN-Conf  EMD-Conf  CHM-Conf          Real GTs  \\\n",
       "3524         0.91       0.8       1.0      0.95        ['mitten']   \n",
       "2394         0.98       1.0       1.0      1.00  ['coral_fungus']   \n",
       "\n",
       "         Real WNIDs Parent-lvl12_real Parent-lvl13_real Parent-lvl14_real  \n",
       "3524  ['n03775071']     ['commodity']     ['commodity']     ['commodity']  \n",
       "2394  ['n12985857']        ['fungus']        ['fungus']        ['fungus']  "
      ]
     },
     "execution_count": 16,
     "metadata": {},
     "output_type": "execute_result"
    }
   ],
   "source": [
    "df.head(2)"
   ]
  },
  {
   "cell_type": "code",
   "execution_count": 17,
   "id": "94cb0e92",
   "metadata": {
    "collapsed": false,
    "jupyter": {
     "outputs_hidden": false
    },
    "pycharm": {
     "name": "#%%\n"
    }
   },
   "outputs": [],
   "source": [
    "raw_time_df = df.groupby(['Method'])['Test Reaction Time'].agg(['mean', 'std']).reset_index().sort_values(by='Method', key=lambda x: x.map(ORDER_DICT))"
   ]
  },
  {
   "cell_type": "code",
   "execution_count": 18,
   "id": "8a450731",
   "metadata": {
    "collapsed": false,
    "jupyter": {
     "outputs_hidden": false
    },
    "pycharm": {
     "name": "#%%\n"
    }
   },
   "outputs": [],
   "source": [
    "raw_time_df['mean'] /= 1000.0\n",
    "raw_time_df['std'] /= 1000.0"
   ]
  },
  {
   "cell_type": "code",
   "execution_count": 19,
   "id": "3a26a835",
   "metadata": {
    "collapsed": false,
    "jupyter": {
     "outputs_hidden": false
    },
    "pycharm": {
     "name": "#%%\n"
    }
   },
   "outputs": [
    {
     "data": {
      "text/html": [
       "<div>\n",
       "<style scoped>\n",
       "    .dataframe tbody tr th:only-of-type {\n",
       "        vertical-align: middle;\n",
       "    }\n",
       "\n",
       "    .dataframe tbody tr th {\n",
       "        vertical-align: top;\n",
       "    }\n",
       "\n",
       "    .dataframe thead th {\n",
       "        text-align: right;\n",
       "    }\n",
       "</style>\n",
       "<table border=\"1\" class=\"dataframe\">\n",
       "  <thead>\n",
       "    <tr style=\"text-align: right;\">\n",
       "      <th></th>\n",
       "      <th>Method</th>\n",
       "      <th>mean</th>\n",
       "      <th>std</th>\n",
       "    </tr>\n",
       "  </thead>\n",
       "  <tbody>\n",
       "    <tr>\n",
       "      <th>4</th>\n",
       "      <td>ResNet-50</td>\n",
       "      <td>407.075233</td>\n",
       "      <td>118.485793</td>\n",
       "    </tr>\n",
       "    <tr>\n",
       "      <th>5</th>\n",
       "      <td>kNN</td>\n",
       "      <td>423.570932</td>\n",
       "      <td>134.259272</td>\n",
       "    </tr>\n",
       "    <tr>\n",
       "      <th>3</th>\n",
       "      <td>EMD-NN</td>\n",
       "      <td>413.534175</td>\n",
       "      <td>104.137945</td>\n",
       "    </tr>\n",
       "    <tr>\n",
       "      <th>2</th>\n",
       "      <td>EMD-Corr</td>\n",
       "      <td>460.331644</td>\n",
       "      <td>168.228786</td>\n",
       "    </tr>\n",
       "    <tr>\n",
       "      <th>1</th>\n",
       "      <td>CHM-NN</td>\n",
       "      <td>344.676583</td>\n",
       "      <td>144.478931</td>\n",
       "    </tr>\n",
       "    <tr>\n",
       "      <th>0</th>\n",
       "      <td>CHM-Corr</td>\n",
       "      <td>582.431339</td>\n",
       "      <td>298.282914</td>\n",
       "    </tr>\n",
       "  </tbody>\n",
       "</table>\n",
       "</div>"
      ],
      "text/plain": [
       "      Method        mean         std\n",
       "4  ResNet-50  407.075233  118.485793\n",
       "5        kNN  423.570932  134.259272\n",
       "3     EMD-NN  413.534175  104.137945\n",
       "2   EMD-Corr  460.331644  168.228786\n",
       "1     CHM-NN  344.676583  144.478931\n",
       "0   CHM-Corr  582.431339  298.282914"
      ]
     },
     "execution_count": 19,
     "metadata": {},
     "output_type": "execute_result"
    }
   ],
   "source": [
    "raw_time_df"
   ]
  },
  {
   "cell_type": "code",
   "execution_count": 20,
   "id": "c1bc5556",
   "metadata": {
    "collapsed": false,
    "jupyter": {
     "outputs_hidden": false
    },
    "pycharm": {
     "name": "#%%\n"
    }
   },
   "outputs": [
    {
     "data": {
      "image/png": "[encoded data removed]",
      "text/plain": [
       "<Figure size 720x432 with 1 Axes>"
      ]
     },
     "metadata": {
      "needs_background": "light"
     },
     "output_type": "display_data"
    }
   ],
   "source": [
    "fig, ax = plt.subplots(1, figsize=(10, 6))\n",
    "\n",
    "sns.barplot(data=raw_time_df, x='Method', y='mean', ax=ax, palette=\"tab10\")\n",
    "\n",
    "for container in ax.containers:\n",
    "  ax.bar_label(container, fontsize=15, fmt='%.2f')\n",
    "    \n",
    "ax.tick_params(axis=\"both\", which=\"both\", bottom=\"off\", top=\"off\", labelbottom=\"on\", left=\"off\", right=\"off\", labelleft=\"on\")\n",
    "\n",
    "# Draw horizontal axis lines\n",
    "vals = ax.get_yticks()\n",
    "for tick in vals:\n",
    "  ax.axhline(y=tick, linestyle='dashed', alpha=0.4, color='#eeeeee', zorder=1)\n",
    "\n",
    "plt.title(f'Time Performance by Method - {DATA_SET}\\n', fontsize=18)\n",
    "plt.errorbar(raw_time_df['Method'], raw_time_df['mean'], yerr=raw_time_df['std'], fmt=\"o\", color=\"darkred\")\n",
    "plt.ylabel('Mean Test Time (Seconds)')\n",
    "plt.show()"
   ]
  },
  {
   "cell_type": "code",
   "execution_count": 21,
   "id": "669dfd4b",
   "metadata": {
    "collapsed": false,
    "jupyter": {
     "outputs_hidden": false
    },
    "pycharm": {
     "name": "#%%\n"
    }
   },
   "outputs": [],
   "source": [
    "all_raw_time_df = df.groupby(['Method'])['Test Reaction Time'].agg(lambda x: list(x/1000/30)).reset_index().sort_values(by='Method', key=lambda x: x.map(ORDER_DICT))"
   ]
  },
  {
   "cell_type": "code",
   "execution_count": 22,
   "id": "9f5fb7e8",
   "metadata": {
    "collapsed": false,
    "jupyter": {
     "outputs_hidden": false
    },
    "pycharm": {
     "name": "#%%\n"
    }
   },
   "outputs": [
    {
     "data": {
      "text/html": [
       "<div>\n",
       "<style scoped>\n",
       "    .dataframe tbody tr th:only-of-type {\n",
       "        vertical-align: middle;\n",
       "    }\n",
       "\n",
       "    .dataframe tbody tr th {\n",
       "        vertical-align: top;\n",
       "    }\n",
       "\n",
       "    .dataframe thead th {\n",
       "        text-align: right;\n",
       "    }\n",
       "</style>\n",
       "<table border=\"1\" class=\"dataframe\">\n",
       "  <thead>\n",
       "    <tr style=\"text-align: right;\">\n",
       "      <th></th>\n",
       "      <th>Method</th>\n",
       "      <th>Test Reaction Time</th>\n",
       "    </tr>\n",
       "  </thead>\n",
       "  <tbody>\n",
       "    <tr>\n",
       "      <th>4</th>\n",
       "      <td>ResNet-50</td>\n",
       "      <td>[10.2113, 10.514866666666668, 10.5148666666666...</td>\n",
       "    </tr>\n",
       "    <tr>\n",
       "      <th>5</th>\n",
       "      <td>kNN</td>\n",
       "      <td>[11.8346, 11.8346, 12.155333333333335, 10.8005...</td>\n",
       "    </tr>\n",
       "    <tr>\n",
       "      <th>3</th>\n",
       "      <td>EMD-NN</td>\n",
       "      <td>[11.442933333333334, 11.442933333333334, 11.44...</td>\n",
       "    </tr>\n",
       "    <tr>\n",
       "      <th>2</th>\n",
       "      <td>EMD-Corr</td>\n",
       "      <td>[15.364533333333332, 15.364533333333332, 15.36...</td>\n",
       "    </tr>\n",
       "    <tr>\n",
       "      <th>1</th>\n",
       "      <td>CHM-NN</td>\n",
       "      <td>[11.360899999999999, 11.625599999999999, 10.79...</td>\n",
       "    </tr>\n",
       "    <tr>\n",
       "      <th>0</th>\n",
       "      <td>CHM-Corr</td>\n",
       "      <td>[11.495233333333335, 12.9998, 23.0569666666666...</td>\n",
       "    </tr>\n",
       "  </tbody>\n",
       "</table>\n",
       "</div>"
      ],
      "text/plain": [
       "      Method                                 Test Reaction Time\n",
       "4  ResNet-50  [10.2113, 10.514866666666668, 10.5148666666666...\n",
       "5        kNN  [11.8346, 11.8346, 12.155333333333335, 10.8005...\n",
       "3     EMD-NN  [11.442933333333334, 11.442933333333334, 11.44...\n",
       "2   EMD-Corr  [15.364533333333332, 15.364533333333332, 15.36...\n",
       "1     CHM-NN  [11.360899999999999, 11.625599999999999, 10.79...\n",
       "0   CHM-Corr  [11.495233333333335, 12.9998, 23.0569666666666..."
      ]
     },
     "execution_count": 22,
     "metadata": {},
     "output_type": "execute_result"
    }
   ],
   "source": [
    "all_raw_time_df"
   ]
  },
  {
   "cell_type": "code",
   "execution_count": 23,
   "id": "9860e604",
   "metadata": {
    "collapsed": false,
    "jupyter": {
     "outputs_hidden": false
    },
    "pycharm": {
     "name": "#%%\n"
    }
   },
   "outputs": [
    {
     "data": {
      "image/png": "[encoded data removed]",
      "text/plain": [
       "<Figure size 576x576 with 1 Axes>"
      ]
     },
     "metadata": {},
     "output_type": "display_data"
    }
   ],
   "source": [
    "fig, ax = plt.subplots(1, figsize=(8, 8), facecolor=(1,1,1))\n",
    "sns.violinplot(data=[all_raw_time_df['Test Reaction Time'][x] for x in [4,5,3,2,1,0]], ax=ax, color=\".22\",)\n",
    "sns.boxplot(data=[all_raw_time_df['Test Reaction Time'][x] for x in [4,5,3,2,1,0]], ax=ax)\n",
    "\n",
    "ax.tick_params(axis=\"both\", which=\"both\", bottom=\"off\", top=\"off\", labelbottom=\"on\", left=\"off\", right=\"off\", labelleft=\"on\")\n",
    "\n",
    "ax.set_xticklabels([x for x in ORDER_DICT.keys()])\n",
    "# plt.title(f'Time Performance - {DATA_SET} - (Seconds)', fontsize=16, pad=20)\n",
    "plt.setp(ax.collections, alpha=.25)\n",
    "\n",
    "# ax.set_yticks(range(0, 70, 5))\n",
    "ax.set_yticks(range(0, 105, 5))\n",
    "plt.savefig(f'../plots/human-study-main-results/ImageNet-Time-Performance.pdf', dpi=100, bbox_inches='tight')\n",
    "plt.show()"
   ]
  },
  {
   "cell_type": "markdown",
   "id": "4a858f64",
   "metadata": {
    "pycharm": {
     "name": "#%% md\n"
    }
   },
   "source": [
    "# Accuracy Breakdown"
   ]
  },
  {
   "cell_type": "markdown",
   "id": "b1a97654",
   "metadata": {
    "pycharm": {
     "name": "#%% md\n"
    }
   },
   "source": [
    "## Difficulty Level"
   ]
  },
  {
   "cell_type": "code",
   "execution_count": null,
   "outputs": [],
   "source": [
    "df_difflevel = df.groupby(['UID', 'Method', 'DifficultyLevel', 'ClassifierCorrectness'])['Correctness'].agg([\"count\", \"sum\", \"mean\"]).unstack().stack().reset_index()\n",
    "df_difflevel['mean'] = df_difflevel['mean']*100"
   ],
   "metadata": {
    "collapsed": false,
    "pycharm": {
     "name": "#%%\n"
    }
   }
  },
  {
   "cell_type": "code",
   "execution_count": null,
   "outputs": [],
   "source": [
    "df_difflevel.head()"
   ],
   "metadata": {
    "collapsed": false,
    "pycharm": {
     "name": "#%%\n"
    }
   }
  },
  {
   "cell_type": "code",
   "execution_count": null,
   "outputs": [],
   "source": [
    "with sns.plotting_context('paper', font_scale = 1.4):\n",
    "  g = sns.FacetGrid(df_difflevel, col=\"DifficultyLevel\", row=\"ClassifierCorrectness\", height=6, col_order=['Easy', 'Medium', 'Hard'])\n",
    "  g.map(sns.barplot, \"Method\", \"mean\", order=df.Method.unique(), palette=\"tab10\", capsize=.1)\n",
    "\n",
    "  [plt.setp(ax.get_xticklabels(), rotation=0) for ax in g.axes.flat]\n",
    "\n",
    "  for ax in g.axes.flat:\n",
    "    for container in ax.containers:\n",
    "      ax.bar_label(container, fontsize=12, fmt='%.2f%%', label_type='center')\n",
    "\n",
    "  plt.ylim(0, 105)\n",
    "  \n",
    "  axes = g.axes.flatten()\n",
    "  for ci, C in enumerate(['Wrong', 'Correct']):\n",
    "    for di, D in enumerate(['Easy', 'Medium', 'Hard']):\n",
    "      axes[(ci*3)+di].set_title(f\"AI:{C} | Difficulty Category:{D}\")\n",
    "\n",
    "  axes[0].set_ylabel('Average human accuracy')\n",
    "  axes[3].set_ylabel('Average human accuracy')\n",
    "  plt.savefig(f'../plots/human-study-main-results/ImageNet-Difficulty-vs-AICorrectNess.pdf', dpi=100, bbox_inches='tight')\n",
    "  plt.show()"
   ],
   "metadata": {
    "collapsed": false,
    "pycharm": {
     "name": "#%%\n"
    }
   }
  },
  {
   "cell_type": "code",
   "execution_count": null,
   "outputs": [],
   "source": [
    "with sns.plotting_context('paper', font_scale = 1.4):\n",
    "  g = sns.FacetGrid(df_difflevel, col=\"DifficultyLevel\", height=6, col_order=['Easy', 'Medium', 'Hard'])\n",
    "  g.map(sns.barplot, \"Method\", \"mean\", order=df.Method.unique(), palette=\"tab10\", capsize=.1)\n",
    "\n",
    "  [plt.setp(ax.get_xticklabels(), rotation=0) for ax in g.axes.flat]\n",
    "\n",
    "  for ax in g.axes.flat:\n",
    "    for container in ax.containers:\n",
    "      ax.bar_label(container, fontsize=12, fmt='%.2f%%', label_type='center')\n",
    "\n",
    "  plt.ylim(0, 105)\n",
    "  \n",
    "  axes = g.axes.flatten()\n",
    "  plt.savefig(f'../plots/human-study-main-results/ImageNet-Difficulty-Ony.pdf', dpi=100, bbox_inches='tight')\n",
    "  plt.show()"
   ],
   "metadata": {
    "collapsed": false,
    "pycharm": {
     "name": "#%%\n"
    }
   }
  },
  {
   "cell_type": "code",
   "execution_count": null,
   "outputs": [],
   "source": [
    "df_correctness = df.groupby(['UID', 'Method', 'ClassifierCorrectness'])['Correctness'].agg([\"count\", \"sum\", \"mean\"]).unstack().stack().reset_index()\n",
    "df_correctness['mean'] *=100"
   ],
   "metadata": {
    "collapsed": false,
    "pycharm": {
     "name": "#%%\n"
    }
   }
  },
  {
   "cell_type": "code",
   "execution_count": null,
   "outputs": [],
   "source": [
    "with sns.plotting_context('paper', font_scale = 1.4):\n",
    "  g = sns.FacetGrid(df_correctness, col=\"ClassifierCorrectness\", height=6)\n",
    "  g.map(sns.barplot, \"Method\", \"mean\", order=df.Method.unique(), palette=\"tab10\", capsize=.1)\n",
    "  \n",
    "  [plt.setp(ax.get_xticklabels(), rotation=0) for ax in g.axes.flat]\n",
    "\n",
    "  for ax in g.axes.flat:\n",
    "    for container in ax.containers:\n",
    "      ax.bar_label(container, fontsize=12, label_type='center', fmt='%.2f%%')\n",
    "\n",
    "  axes = g.axes.flatten()\n",
    "  axes[0].set_ylabel('Average human Accuracy')\n",
    "  \n",
    "  axes[0].set_title('AI is Wrong')\n",
    "  axes[1].set_title('AI is Correct')\n",
    "  \n",
    "  plt.savefig(f'../plots/human-study-main-results/ImageNet-AICorrectNess-Performance.pdf', dpi=100, bbox_inches='tight')\n",
    "  plt.show()"
   ],
   "metadata": {
    "collapsed": false,
    "pycharm": {
     "name": "#%%\n"
    }
   }
  },
  {
   "cell_type": "code",
   "execution_count": null,
   "outputs": [],
   "source": [
    "df_diff_count = df.groupby(['Method', 'ClassifierCorrectness', 'DifficultyLevel'])['UID'].count().reset_index()"
   ],
   "metadata": {
    "collapsed": false,
    "pycharm": {
     "name": "#%%\n"
    }
   }
  },
  {
   "cell_type": "code",
   "execution_count": null,
   "outputs": [],
   "source": [
    "with sns.plotting_context('paper', font_scale = 1.4):\n",
    "  g = sns.FacetGrid(df_diff_count, col=\"DifficultyLevel\", row=\"ClassifierCorrectness\", height=6, col_order=['Easy', 'Medium', 'Hard'])\n",
    "  g.map(sns.barplot, \"Method\", \"UID\", order=df.Method.unique(), palette=\"tab10\", capsize=.1)\n",
    "  \n",
    "  [plt.setp(ax.get_xticklabels(), rotation=0) for ax in g.axes.flat]\n",
    "\n",
    "  for ax in g.axes.flat:\n",
    "    for container in ax.containers:\n",
    "      ax.bar_label(container, fontsize=12, label_type='edge')\n",
    "\n",
    "  axes = g.axes.flatten()\n",
    "  for ci, C in enumerate(['Wrong', 'Correct']):\n",
    "    for di, D in enumerate(['Easy', 'Medium', 'Hard']):\n",
    "      axes[(ci*3)+di].set_title(f\"AI:{C} | Difficulty Category:{D}\")\n",
    "      \n",
    "  axes[0].set_ylabel('Number of Queries')\n",
    "  axes[3].set_ylabel('Number of Queries')\n",
    "  plt.savefig(f'../plots/human-study-main-results/ImageNet-Difficulty-vs-AICorrectNess-Counts.pdf', dpi=100, bbox_inches='tight')\n",
    "  plt.show()"
   ],
   "metadata": {
    "collapsed": false,
    "pycharm": {
     "name": "#%%\n"
    }
   }
  },
  {
   "cell_type": "markdown",
   "source": [
    "## Prior Knowledge"
   ],
   "metadata": {
    "collapsed": false,
    "pycharm": {
     "name": "#%% md\n"
    }
   }
  },
  {
   "cell_type": "code",
   "execution_count": null,
   "outputs": [],
   "source": [
    "df_pk = df.groupby(['UID', 'Method', 'Prior Knowledge', 'ClassifierCorrectness'])['Correctness'].agg([\"count\", \"sum\", \"mean\"]).unstack().stack().reset_index()"
   ],
   "metadata": {
    "collapsed": false,
    "pycharm": {
     "name": "#%%\n"
    }
   }
  },
  {
   "cell_type": "code",
   "execution_count": null,
   "outputs": [],
   "source": [
    "with sns.plotting_context('paper', font_scale = 1.4):\n",
    "\n",
    "  g = sns.FacetGrid(df_pk, col=\"Prior Knowledge\", row=\"ClassifierCorrectness\", height=6)\n",
    "  g.map(sns.barplot, \"Method\", \"mean\", order=df.Method.unique(), palette=\"tab10\")\n",
    "\n",
    "  [plt.setp(ax.get_xticklabels(), rotation=90) for ax in g.axes.flat]\n",
    "\n",
    "  for ax in g.axes.flat:\n",
    "    for container in ax.containers:\n",
    "      ax.bar_label(container, fontsize=14)\n",
    "\n",
    "  plt.show()"
   ],
   "metadata": {
    "collapsed": false,
    "pycharm": {
     "name": "#%%\n"
    }
   }
  },
  {
   "cell_type": "markdown",
   "source": [
    "# Statistical Significance"
   ],
   "metadata": {
    "collapsed": false,
    "pycharm": {
     "name": "#%% md\n"
    }
   }
  },
  {
   "cell_type": "code",
   "execution_count": null,
   "outputs": [],
   "source": [
    "from scipy.stats import mannwhitneyu\n",
    "from statannotations.Annotator import Annotator"
   ],
   "metadata": {
    "collapsed": false,
    "pycharm": {
     "name": "#%%\n"
    }
   }
  },
  {
   "cell_type": "code",
   "execution_count": null,
   "outputs": [],
   "source": [
    "data_for_analysis = df.groupby(['UID', 'Method'])['Correctness'].mean().reset_index()\n",
    "data_for_analysis = data_for_analysis.groupby('Method')['Correctness'].agg(lambda x: list(x)).reset_index().sort_values(by='Method', key=lambda x: x.map(ORDER_DICT))"
   ],
   "metadata": {
    "collapsed": false,
    "pycharm": {
     "name": "#%%\n"
    }
   }
  },
  {
   "cell_type": "code",
   "execution_count": null,
   "outputs": [],
   "source": [
    "data_for_analysis"
   ],
   "metadata": {
    "collapsed": false,
    "pycharm": {
     "name": "#%%\n"
    }
   }
  },
  {
   "cell_type": "code",
   "execution_count": null,
   "outputs": [],
   "source": [
    "data_for_analysis_dict = {}\n",
    "for i, row in data_for_analysis.iterrows():\n",
    "  data_for_analysis_dict[row['Method']] = row['Correctness']"
   ],
   "metadata": {
    "collapsed": false,
    "pycharm": {
     "name": "#%%\n"
    }
   }
  },
  {
   "cell_type": "code",
   "execution_count": null,
   "outputs": [],
   "source": [
    "data_for_analysis_dict.keys()"
   ],
   "metadata": {
    "collapsed": false,
    "pycharm": {
     "name": "#%%\n"
    }
   }
  },
  {
   "cell_type": "code",
   "execution_count": null,
   "outputs": [],
   "source": [
    "pairs = [( 'ResNet-50', 'kNN'),\n",
    "          ('ResNet-50', 'EMD-NN'),\n",
    "          ('ResNet-50', 'EMD-Corr'),\n",
    "          ('ResNet-50', 'CHM-NN'),\n",
    "          ('ResNet-50', 'CHM-Corr'),\n",
    "          ('kNN', 'EMD-NN'),\n",
    "          ('kNN', 'EMD-Corr'),\n",
    "          ('kNN', 'CHM-NN'),\n",
    "          ('kNN', 'CHM-Corr'),\n",
    "          ('EMD-NN', 'EMD-Corr'),\n",
    "          ('EMD-NN', 'CHM-NN'),\n",
    "          ('EMD-NN', 'CHM-Corr'),\n",
    "          ('EMD-Corr', 'CHM-NN'),\n",
    "          ('EMD-Corr', 'CHM-Corr'),\n",
    "          ('CHM-NN', 'CHM-Corr')]\n",
    "\n",
    "pvalues = [\n",
    "  mannwhitneyu(data_for_analysis_dict['ResNet-50'], data_for_analysis_dict['kNN'], alternative=\"two-sided\").pvalue,\n",
    "  mannwhitneyu(data_for_analysis_dict['ResNet-50'], data_for_analysis_dict['EMD-NN'], alternative=\"two-sided\").pvalue,\n",
    "  mannwhitneyu(data_for_analysis_dict['ResNet-50'], data_for_analysis_dict['EMD-Corr'], alternative=\"two-sided\").pvalue,\n",
    "  mannwhitneyu(data_for_analysis_dict['ResNet-50'], data_for_analysis_dict['CHM-NN'], alternative=\"two-sided\").pvalue,\n",
    "  mannwhitneyu(data_for_analysis_dict['ResNet-50'], data_for_analysis_dict['CHM-Corr'], alternative=\"two-sided\").pvalue,\n",
    "  \n",
    "  mannwhitneyu(data_for_analysis_dict['kNN'], data_for_analysis_dict['EMD-NN'], alternative=\"two-sided\").pvalue,\n",
    "  mannwhitneyu(data_for_analysis_dict['kNN'], data_for_analysis_dict['EMD-Corr'], alternative=\"two-sided\").pvalue,\n",
    "  mannwhitneyu(data_for_analysis_dict['kNN'], data_for_analysis_dict['CHM-NN'], alternative=\"two-sided\").pvalue,\n",
    "  mannwhitneyu(data_for_analysis_dict['kNN'], data_for_analysis_dict['CHM-Corr'], alternative=\"two-sided\").pvalue,\n",
    "  \n",
    "  mannwhitneyu(data_for_analysis_dict['EMD-NN'], data_for_analysis_dict['EMD-Corr'], alternative=\"two-sided\").pvalue,\n",
    "  mannwhitneyu(data_for_analysis_dict['EMD-NN'], data_for_analysis_dict['CHM-NN'], alternative=\"two-sided\").pvalue,\n",
    "  mannwhitneyu(data_for_analysis_dict['EMD-NN'], data_for_analysis_dict['CHM-Corr'], alternative=\"two-sided\").pvalue,\n",
    "  \n",
    "  mannwhitneyu(data_for_analysis_dict['EMD-Corr'], data_for_analysis_dict['CHM-NN'], alternative=\"two-sided\").pvalue,\n",
    "  mannwhitneyu(data_for_analysis_dict['EMD-Corr'], data_for_analysis_dict['CHM-Corr'], alternative=\"two-sided\").pvalue,\n",
    "  \n",
    "  mannwhitneyu(data_for_analysis_dict['CHM-NN'], data_for_analysis_dict['CHM-Corr'], alternative=\"two-sided\").pvalue,\n",
    "]\n",
    "\n",
    "formatted_pvalues = [f'p={pvalue:.2e}' for pvalue in pvalues]"
   ],
   "metadata": {
    "collapsed": false,
    "pycharm": {
     "name": "#%%\n"
    }
   }
  },
  {
   "cell_type": "code",
   "execution_count": null,
   "outputs": [],
   "source": [
    "selected_pairs = []\n",
    "selected_pvalues = []\n",
    "selected_pvalues_f = []\n",
    "\n",
    "for pv, pi, fpv in  zip(pvalues, pairs, formatted_pvalues):\n",
    "  if pv <= 0.05:\n",
    "    selected_pairs.append(pi)\n",
    "    selected_pvalues.append(pv)\n",
    "    selected_pvalues_f.append(fpv)"
   ],
   "metadata": {
    "collapsed": false,
    "pycharm": {
     "name": "#%%\n"
    }
   }
  },
  {
   "cell_type": "code",
   "execution_count": null,
   "outputs": [],
   "source": [
    "subcat_palette = sns.dark_palette(\"#8BF\", reverse=True, n_colors=6)\n",
    "\n",
    "plotting_parameters = {\n",
    "    'data':    df.groupby(['UID', 'Method'])['User Accuracy'].mean().reset_index(),\n",
    "    'x':       'Method',\n",
    "    'y':       'User Accuracy',\n",
    "    'palette': 'tab10'\n",
    "}\n",
    "\n",
    "\n",
    "\n",
    "with sns.plotting_context('notebook', font_scale = 1.4):\n",
    "  # Create new plot\n",
    "  fig, ax = plt.subplots(1, figsize=(8, 6), facecolor=(1,1,1))\n",
    "\n",
    "  # Plot with seabornz\n",
    "  sns.boxplot(**plotting_parameters)\n",
    "\n",
    "  # Add annotations\n",
    "  annotator = Annotator(ax, selected_pairs, **plotting_parameters)\n",
    "  annotator.configure(test='Mann-Whitney', text_format='star', loc='inside')\n",
    "  annotator.set_custom_annotations(selected_pvalues_f)\n",
    "  annotator.apply_and_annotate()\n",
    "\n",
    "  # Label and show\n",
    "  plt.title(f\"RAW DATA - Unbalanced\", y=1.06)\n",
    "  ax.set_ylabel(\"Accuracy\")\n",
    "  ax.set_xlabel(\"Method\", labelpad=20)\n",
    "  plt.gca().set_ylim(bottom=0.4)\n",
    "  plt.gca().set_ylim(top=1.5)\n",
    "  plt.yticks(np.arange(0.5, 1.01, 0.1))\n",
    "  # plt.ylim(0.5, 1)\n",
    "  plt.show()"
   ],
   "metadata": {
    "collapsed": false,
    "pycharm": {
     "name": "#%%\n"
    }
   }
  },
  {
   "cell_type": "code",
   "execution_count": 53,
   "id": "16ace39a-449e-44e1-b233-fa17eee5e0a4",
   "metadata": {
    "pycharm": {
     "name": "#%%\n"
    }
   },
   "outputs": [],
   "source": [
    "Accept_Reject = []\n",
    "Accepts = []\n",
    "Rejects = []\n",
    "\n",
    "for i, j in df[['Correctness', 'ClassifierCorrectness']].values:\n",
    "  if i == 1 and j == 1:\n",
    "    Accept_Reject.append('Accept')\n",
    "    Accepts.append(1)\n",
    "    Rejects.append(0)\n",
    "  elif i == 0 and j == 1:\n",
    "    Accept_Reject.append('Reject')\n",
    "    Accepts.append(0)\n",
    "    Rejects.append(1)\n",
    "  elif i == 1 and j == 0:\n",
    "    Accept_Reject.append('Reject')\n",
    "    Accepts.append(0)\n",
    "    Rejects.append(1)\n",
    "  elif i == 0 and j == 0: \n",
    "    Accept_Reject.append('Accept')\n",
    "    Accepts.append(1)\n",
    "    Rejects.append(0)\n",
    "  else:\n",
    "    raise"
   ]
  },
  {
   "cell_type": "code",
   "execution_count": 54,
   "id": "d0d65d29-47b2-45d5-a79b-f5cba6739114",
   "metadata": {
    "pycharm": {
     "name": "#%%\n"
    }
   },
   "outputs": [],
   "source": [
    "df['AcceptReject'] = Accept_Reject\n",
    "df['Accepted']     = Accepts\n",
    "df['Rejected'] = Rejects"
   ]
  },
  {
   "cell_type": "code",
   "execution_count": 55,
   "id": "a3c679ca-d536-4cf3-bf70-866feb2ad6fb",
   "metadata": {
    "pycharm": {
     "name": "#%%\n"
    }
   },
   "outputs": [
    {
     "data": {
      "text/html": [
       "<div>\n",
       "<style scoped>\n",
       "    .dataframe tbody tr th:only-of-type {\n",
       "        vertical-align: middle;\n",
       "    }\n",
       "\n",
       "    .dataframe tbody tr th {\n",
       "        vertical-align: top;\n",
       "    }\n",
       "\n",
       "    .dataframe thead th {\n",
       "        text-align: right;\n",
       "    }\n",
       "</style>\n",
       "<table border=\"1\" class=\"dataframe\">\n",
       "  <thead>\n",
       "    <tr style=\"text-align: right;\">\n",
       "      <th></th>\n",
       "      <th>Method</th>\n",
       "      <th>Accepted</th>\n",
       "      <th>Rejected</th>\n",
       "    </tr>\n",
       "  </thead>\n",
       "  <tbody>\n",
       "    <tr>\n",
       "      <th>4</th>\n",
       "      <td>ResNet-50</td>\n",
       "      <td>1088</td>\n",
       "      <td>712</td>\n",
       "    </tr>\n",
       "    <tr>\n",
       "      <th>5</th>\n",
       "      <td>kNN</td>\n",
       "      <td>1232</td>\n",
       "      <td>538</td>\n",
       "    </tr>\n",
       "    <tr>\n",
       "      <th>3</th>\n",
       "      <td>EMD-NN</td>\n",
       "      <td>1154</td>\n",
       "      <td>556</td>\n",
       "    </tr>\n",
       "    <tr>\n",
       "      <th>2</th>\n",
       "      <td>EMD-Corr</td>\n",
       "      <td>1149</td>\n",
       "      <td>621</td>\n",
       "    </tr>\n",
       "    <tr>\n",
       "      <th>1</th>\n",
       "      <td>CHM-NN</td>\n",
       "      <td>1241</td>\n",
       "      <td>559</td>\n",
       "    </tr>\n",
       "    <tr>\n",
       "      <th>0</th>\n",
       "      <td>CHM-Corr</td>\n",
       "      <td>1195</td>\n",
       "      <td>575</td>\n",
       "    </tr>\n",
       "  </tbody>\n",
       "</table>\n",
       "</div>"
      ],
      "text/plain": [
       "      Method  Accepted  Rejected\n",
       "4  ResNet-50      1088       712\n",
       "5        kNN      1232       538\n",
       "3     EMD-NN      1154       556\n",
       "2   EMD-Corr      1149       621\n",
       "1     CHM-NN      1241       559\n",
       "0   CHM-Corr      1195       575"
      ]
     },
     "execution_count": 55,
     "metadata": {},
     "output_type": "execute_result"
    }
   ],
   "source": [
    "df.groupby(['Method'])[['Accepted' , 'Rejected']].sum().reset_index().sort_values(by='Method', key=lambda x: x.map(ORDER_DICT))"
   ]
  },
  {
   "cell_type": "code",
   "execution_count": 56,
   "id": "1ae1d8ab-f432-4b24-91fa-e7d84700932a",
   "metadata": {
    "pycharm": {
     "name": "#%%\n"
    }
   },
   "outputs": [
    {
     "data": {
      "text/html": [
       "<div>\n",
       "<style scoped>\n",
       "    .dataframe tbody tr th:only-of-type {\n",
       "        vertical-align: middle;\n",
       "    }\n",
       "\n",
       "    .dataframe tbody tr th {\n",
       "        vertical-align: top;\n",
       "    }\n",
       "\n",
       "    .dataframe thead th {\n",
       "        text-align: right;\n",
       "    }\n",
       "</style>\n",
       "<table border=\"1\" class=\"dataframe\">\n",
       "  <thead>\n",
       "    <tr style=\"text-align: right;\">\n",
       "      <th></th>\n",
       "      <th>DifficultyLevel</th>\n",
       "      <th>Accepted</th>\n",
       "      <th>Rejected</th>\n",
       "    </tr>\n",
       "  </thead>\n",
       "  <tbody>\n",
       "    <tr>\n",
       "      <th>0</th>\n",
       "      <td>Easy</td>\n",
       "      <td>4167</td>\n",
       "      <td>1565</td>\n",
       "    </tr>\n",
       "    <tr>\n",
       "      <th>1</th>\n",
       "      <td>Hard</td>\n",
       "      <td>572</td>\n",
       "      <td>345</td>\n",
       "    </tr>\n",
       "    <tr>\n",
       "      <th>2</th>\n",
       "      <td>Medium</td>\n",
       "      <td>2320</td>\n",
       "      <td>1651</td>\n",
       "    </tr>\n",
       "  </tbody>\n",
       "</table>\n",
       "</div>"
      ],
      "text/plain": [
       "  DifficultyLevel  Accepted  Rejected\n",
       "0            Easy      4167      1565\n",
       "1            Hard       572       345\n",
       "2          Medium      2320      1651"
      ]
     },
     "execution_count": 56,
     "metadata": {},
     "output_type": "execute_result"
    }
   ],
   "source": [
    "df.groupby(['DifficultyLevel'])[['Accepted' , 'Rejected']].sum().reset_index()"
   ]
  }
 ],
 "metadata": {
  "kernelspec": {
   "display_name": "Python 3.8",
   "language": "python",
   "name": "py38n"
  },
  "language_info": {
   "codemirror_mode": {
    "name": "ipython",
    "version": 3
   },
   "file_extension": ".py",
   "mimetype": "text/x-python",
   "name": "python",
   "nbconvert_exporter": "python",
   "pygments_lexer": "ipython3",
   "version": "3.10.4"
  }
 },
 "nbformat": 4,
 "nbformat_minor": 5
}