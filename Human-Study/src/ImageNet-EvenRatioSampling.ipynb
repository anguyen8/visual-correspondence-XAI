{
 "cells": [
  {
   "cell_type": "markdown",
   "id": "bd9c8b2c-f2b8-4c86-8cc1-30f9767d2d1f",
   "metadata": {
    "pycharm": {
     "name": "#%% md\n"
    }
   },
   "source": [
    "# ImageNet - Human Study Analysis"
   ]
  },
  {
   "cell_type": "code",
   "execution_count": 1,
   "id": "26efaf31-54fe-42ec-bd7b-f73d01e6fd90",
   "metadata": {
    "pycharm": {
     "name": "#%%\n"
    }
   },
   "outputs": [],
   "source": [
    "DATA_SET = 'ImageNet'"
   ]
  },
  {
   "cell_type": "code",
   "execution_count": 2,
   "id": "1a78f10f-a00e-4f1e-bfa2-bfc277902982",
   "metadata": {
    "pycharm": {
     "name": "#%%\n"
    }
   },
   "outputs": [],
   "source": [
    "import matplotlib.pyplot as plt\n",
    "import seaborn as sns\n",
    "sns.set()\n",
    "\n",
    "import pandas as pd\n",
    "import numpy as np"
   ]
  },
  {
   "cell_type": "code",
   "execution_count": 3,
   "id": "684dfb89-1ea9-480f-8e72-ae0c20433f33",
   "metadata": {
    "pycharm": {
     "name": "#%%\n"
    }
   },
   "outputs": [],
   "source": [
    "pd.set_option(\"display.max_columns\", None)\n",
    "pd.set_option(\"display.max_rows\", None)"
   ]
  },
  {
   "cell_type": "markdown",
   "id": "f79f77f8-e68e-4b20-91b7-5187f72fd8f1",
   "metadata": {
    "pycharm": {
     "name": "#%% md\n"
    }
   },
   "source": [
    "# Reading Data"
   ]
  },
  {
   "cell_type": "code",
   "execution_count": 4,
   "id": "491ce34a-67b7-4cad-bf92-f17b468ec6dc",
   "metadata": {
    "pycharm": {
     "name": "#%%\n"
    }
   },
   "outputs": [],
   "source": [
    "df = pd.read_csv('../data/ImageNet-Human-Study-Summary.csv')"
   ]
  },
  {
   "cell_type": "code",
   "execution_count": 5,
   "id": "06b92db2-92fe-4583-8528-c3b683479f9c",
   "metadata": {
    "pycharm": {
     "name": "#%%\n"
    }
   },
   "outputs": [
    {
     "data": {
      "text/html": [
       "<div>\n",
       "<style scoped>\n",
       "    .dataframe tbody tr th:only-of-type {\n",
       "        vertical-align: middle;\n",
       "    }\n",
       "\n",
       "    .dataframe tbody tr th {\n",
       "        vertical-align: top;\n",
       "    }\n",
       "\n",
       "    .dataframe thead th {\n",
       "        text-align: right;\n",
       "    }\n",
       "</style>\n",
       "<table border=\"1\" class=\"dataframe\">\n",
       "  <thead>\n",
       "    <tr style=\"text-align: right;\">\n",
       "      <th></th>\n",
       "      <th>UID</th>\n",
       "      <th>Query</th>\n",
       "      <th>Prior Knowledge</th>\n",
       "      <th>Counter balance</th>\n",
       "      <th>Group Known</th>\n",
       "      <th>Group Unknown</th>\n",
       "      <th>Validation Reaction Time</th>\n",
       "      <th>Test Reaction Time</th>\n",
       "      <th>DATE</th>\n",
       "      <th>Group Validation Correct</th>\n",
       "      <th>Group Validation Incorrect</th>\n",
       "      <th>ImageNet</th>\n",
       "      <th>Correctness</th>\n",
       "      <th>User Accuracy</th>\n",
       "      <th>User Corrects</th>\n",
       "      <th>Method</th>\n",
       "      <th>GroundTruth</th>\n",
       "      <th>Parent-lvl12</th>\n",
       "      <th>Parent-lvl13</th>\n",
       "      <th>Parent-lvl14</th>\n",
       "      <th>ClassifierCorrectness</th>\n",
       "      <th>DifficultyLevel</th>\n",
       "      <th>ConfidenceScore</th>\n",
       "      <th>ResNet-Prediction</th>\n",
       "      <th>KNN-Prediction</th>\n",
       "      <th>EMD-Prediction</th>\n",
       "      <th>CHM-Prediction</th>\n",
       "      <th>ResNet-Conf</th>\n",
       "      <th>KNN-Conf</th>\n",
       "      <th>EMD-Conf</th>\n",
       "      <th>CHM-Conf</th>\n",
       "      <th>Real GTs</th>\n",
       "      <th>Real WNIDs</th>\n",
       "      <th>Parent-lvl12_real</th>\n",
       "      <th>Parent-lvl13_real</th>\n",
       "      <th>Parent-lvl14_real</th>\n",
       "    </tr>\n",
       "  </thead>\n",
       "  <tbody>\n",
       "    <tr>\n",
       "      <th>0</th>\n",
       "      <td>6386009</td>\n",
       "      <td>ILSVRC2012_val_00027121.JPEG</td>\n",
       "      <td>0</td>\n",
       "      <td>15</td>\n",
       "      <td>15</td>\n",
       "      <td>7</td>\n",
       "      <td>677682.700001</td>\n",
       "      <td>340827</td>\n",
       "      <td>2022-05-01 00:17:34.793</td>\n",
       "      <td>10</td>\n",
       "      <td>0</td>\n",
       "      <td>22</td>\n",
       "      <td>1</td>\n",
       "      <td>0.733333</td>\n",
       "      <td>22</td>\n",
       "      <td>CHM-NN</td>\n",
       "      <td>n02112350</td>\n",
       "      <td>carnivore</td>\n",
       "      <td>canine</td>\n",
       "      <td>dog</td>\n",
       "      <td>1</td>\n",
       "      <td>Easy</td>\n",
       "      <td>1.0</td>\n",
       "      <td>keeshond</td>\n",
       "      <td>keeshond</td>\n",
       "      <td>keeshond</td>\n",
       "      <td>keeshond</td>\n",
       "      <td>0.99</td>\n",
       "      <td>1.00</td>\n",
       "      <td>1.00</td>\n",
       "      <td>1.0</td>\n",
       "      <td>['keeshond']</td>\n",
       "      <td>['n02112350']</td>\n",
       "      <td>['carnivore']</td>\n",
       "      <td>['canine']</td>\n",
       "      <td>['dog']</td>\n",
       "    </tr>\n",
       "    <tr>\n",
       "      <th>1</th>\n",
       "      <td>6386009</td>\n",
       "      <td>ILSVRC2012_val_00008987.JPEG</td>\n",
       "      <td>0</td>\n",
       "      <td>15</td>\n",
       "      <td>15</td>\n",
       "      <td>7</td>\n",
       "      <td>677682.700001</td>\n",
       "      <td>340827</td>\n",
       "      <td>2022-05-01 00:17:34.793</td>\n",
       "      <td>10</td>\n",
       "      <td>0</td>\n",
       "      <td>22</td>\n",
       "      <td>1</td>\n",
       "      <td>0.733333</td>\n",
       "      <td>22</td>\n",
       "      <td>CHM-NN</td>\n",
       "      <td>n01980166</td>\n",
       "      <td>invertebrate</td>\n",
       "      <td>invertebrate</td>\n",
       "      <td>invertebrate</td>\n",
       "      <td>1</td>\n",
       "      <td>Easy</td>\n",
       "      <td>0.9</td>\n",
       "      <td>fiddler_crab</td>\n",
       "      <td>fiddler_crab</td>\n",
       "      <td>fiddler_crab</td>\n",
       "      <td>fiddler_crab</td>\n",
       "      <td>0.99</td>\n",
       "      <td>0.95</td>\n",
       "      <td>0.90</td>\n",
       "      <td>0.9</td>\n",
       "      <td>['fiddler_crab']</td>\n",
       "      <td>['n01980166']</td>\n",
       "      <td>['invertebrate']</td>\n",
       "      <td>['invertebrate']</td>\n",
       "      <td>['invertebrate']</td>\n",
       "    </tr>\n",
       "    <tr>\n",
       "      <th>2</th>\n",
       "      <td>6386009</td>\n",
       "      <td>ILSVRC2012_val_00043672.JPEG</td>\n",
       "      <td>1</td>\n",
       "      <td>15</td>\n",
       "      <td>15</td>\n",
       "      <td>7</td>\n",
       "      <td>677682.700001</td>\n",
       "      <td>340827</td>\n",
       "      <td>2022-05-01 00:17:34.793</td>\n",
       "      <td>10</td>\n",
       "      <td>0</td>\n",
       "      <td>22</td>\n",
       "      <td>0</td>\n",
       "      <td>0.733333</td>\n",
       "      <td>22</td>\n",
       "      <td>CHM-NN</td>\n",
       "      <td>n02093428</td>\n",
       "      <td>carnivore</td>\n",
       "      <td>canine</td>\n",
       "      <td>dog</td>\n",
       "      <td>0</td>\n",
       "      <td>Medium</td>\n",
       "      <td>0.6</td>\n",
       "      <td>American_Staffordshire_terrier</td>\n",
       "      <td>American_Staffordshire_terrier</td>\n",
       "      <td>American_Staffordshire_terrier</td>\n",
       "      <td>American_Staffordshire_terrier</td>\n",
       "      <td>0.62</td>\n",
       "      <td>0.85</td>\n",
       "      <td>0.75</td>\n",
       "      <td>0.6</td>\n",
       "      <td>['vizsla']</td>\n",
       "      <td>['n02100583']</td>\n",
       "      <td>['carnivore']</td>\n",
       "      <td>['canine']</td>\n",
       "      <td>['dog']</td>\n",
       "    </tr>\n",
       "    <tr>\n",
       "      <th>3</th>\n",
       "      <td>6386009</td>\n",
       "      <td>ILSVRC2012_val_00011479.JPEG</td>\n",
       "      <td>1</td>\n",
       "      <td>15</td>\n",
       "      <td>15</td>\n",
       "      <td>7</td>\n",
       "      <td>677682.700001</td>\n",
       "      <td>340827</td>\n",
       "      <td>2022-05-01 00:17:34.793</td>\n",
       "      <td>10</td>\n",
       "      <td>0</td>\n",
       "      <td>22</td>\n",
       "      <td>1</td>\n",
       "      <td>0.733333</td>\n",
       "      <td>22</td>\n",
       "      <td>CHM-NN</td>\n",
       "      <td>n04350905</td>\n",
       "      <td>commodity</td>\n",
       "      <td>commodity</td>\n",
       "      <td>commodity</td>\n",
       "      <td>0</td>\n",
       "      <td>Easy</td>\n",
       "      <td>0.2</td>\n",
       "      <td>suit</td>\n",
       "      <td>suit</td>\n",
       "      <td>suit</td>\n",
       "      <td>unicycle</td>\n",
       "      <td>0.33</td>\n",
       "      <td>0.15</td>\n",
       "      <td>0.20</td>\n",
       "      <td>0.2</td>\n",
       "      <td>['suit', 'Windsor_tie']</td>\n",
       "      <td>['n04350905', 'n04591157']</td>\n",
       "      <td>['commodity', 'commodity']</td>\n",
       "      <td>['commodity', 'commodity']</td>\n",
       "      <td>['commodity', 'commodity']</td>\n",
       "    </tr>\n",
       "    <tr>\n",
       "      <th>4</th>\n",
       "      <td>6386009</td>\n",
       "      <td>ILSVRC2012_val_00034787.JPEG</td>\n",
       "      <td>1</td>\n",
       "      <td>15</td>\n",
       "      <td>15</td>\n",
       "      <td>7</td>\n",
       "      <td>677682.700001</td>\n",
       "      <td>340827</td>\n",
       "      <td>2022-05-01 00:17:34.793</td>\n",
       "      <td>10</td>\n",
       "      <td>0</td>\n",
       "      <td>22</td>\n",
       "      <td>0</td>\n",
       "      <td>0.733333</td>\n",
       "      <td>22</td>\n",
       "      <td>CHM-NN</td>\n",
       "      <td>n07754684</td>\n",
       "      <td>natural_object</td>\n",
       "      <td>natural_object</td>\n",
       "      <td>natural_object</td>\n",
       "      <td>1</td>\n",
       "      <td>Medium</td>\n",
       "      <td>0.4</td>\n",
       "      <td>jackfruit</td>\n",
       "      <td>jackfruit</td>\n",
       "      <td>jackfruit</td>\n",
       "      <td>jackfruit</td>\n",
       "      <td>0.98</td>\n",
       "      <td>0.70</td>\n",
       "      <td>0.45</td>\n",
       "      <td>0.4</td>\n",
       "      <td>['jackfruit']</td>\n",
       "      <td>['n07754684']</td>\n",
       "      <td>['natural_object']</td>\n",
       "      <td>['natural_object']</td>\n",
       "      <td>['natural_object']</td>\n",
       "    </tr>\n",
       "  </tbody>\n",
       "</table>\n",
       "</div>"
      ],
      "text/plain": [
       "       UID                         Query  Prior Knowledge  Counter balance  \\\n",
       "0  6386009  ILSVRC2012_val_00027121.JPEG                0               15   \n",
       "1  6386009  ILSVRC2012_val_00008987.JPEG                0               15   \n",
       "2  6386009  ILSVRC2012_val_00043672.JPEG                1               15   \n",
       "3  6386009  ILSVRC2012_val_00011479.JPEG                1               15   \n",
       "4  6386009  ILSVRC2012_val_00034787.JPEG                1               15   \n",
       "\n",
       "   Group Known  Group Unknown  Validation Reaction Time  Test Reaction Time  \\\n",
       "0           15              7             677682.700001              340827   \n",
       "1           15              7             677682.700001              340827   \n",
       "2           15              7             677682.700001              340827   \n",
       "3           15              7             677682.700001              340827   \n",
       "4           15              7             677682.700001              340827   \n",
       "\n",
       "                      DATE  Group Validation Correct  \\\n",
       "0  2022-05-01 00:17:34.793                        10   \n",
       "1  2022-05-01 00:17:34.793                        10   \n",
       "2  2022-05-01 00:17:34.793                        10   \n",
       "3  2022-05-01 00:17:34.793                        10   \n",
       "4  2022-05-01 00:17:34.793                        10   \n",
       "\n",
       "   Group Validation Incorrect  ImageNet  Correctness  User Accuracy  \\\n",
       "0                           0        22            1       0.733333   \n",
       "1                           0        22            1       0.733333   \n",
       "2                           0        22            0       0.733333   \n",
       "3                           0        22            1       0.733333   \n",
       "4                           0        22            0       0.733333   \n",
       "\n",
       "   User Corrects  Method GroundTruth    Parent-lvl12    Parent-lvl13  \\\n",
       "0             22  CHM-NN   n02112350       carnivore          canine   \n",
       "1             22  CHM-NN   n01980166    invertebrate    invertebrate   \n",
       "2             22  CHM-NN   n02093428       carnivore          canine   \n",
       "3             22  CHM-NN   n04350905       commodity       commodity   \n",
       "4             22  CHM-NN   n07754684  natural_object  natural_object   \n",
       "\n",
       "     Parent-lvl14  ClassifierCorrectness DifficultyLevel  ConfidenceScore  \\\n",
       "0             dog                      1            Easy              1.0   \n",
       "1    invertebrate                      1            Easy              0.9   \n",
       "2             dog                      0          Medium              0.6   \n",
       "3       commodity                      0            Easy              0.2   \n",
       "4  natural_object                      1          Medium              0.4   \n",
       "\n",
       "                ResNet-Prediction                  KNN-Prediction  \\\n",
       "0                        keeshond                        keeshond   \n",
       "1                    fiddler_crab                    fiddler_crab   \n",
       "2  American_Staffordshire_terrier  American_Staffordshire_terrier   \n",
       "3                            suit                            suit   \n",
       "4                       jackfruit                       jackfruit   \n",
       "\n",
       "                   EMD-Prediction                  CHM-Prediction  \\\n",
       "0                        keeshond                        keeshond   \n",
       "1                    fiddler_crab                    fiddler_crab   \n",
       "2  American_Staffordshire_terrier  American_Staffordshire_terrier   \n",
       "3                            suit                        unicycle   \n",
       "4                       jackfruit                       jackfruit   \n",
       "\n",
       "   ResNet-Conf  KNN-Conf  EMD-Conf  CHM-Conf                 Real GTs  \\\n",
       "0         0.99      1.00      1.00       1.0             ['keeshond']   \n",
       "1         0.99      0.95      0.90       0.9         ['fiddler_crab']   \n",
       "2         0.62      0.85      0.75       0.6               ['vizsla']   \n",
       "3         0.33      0.15      0.20       0.2  ['suit', 'Windsor_tie']   \n",
       "4         0.98      0.70      0.45       0.4            ['jackfruit']   \n",
       "\n",
       "                   Real WNIDs           Parent-lvl12_real  \\\n",
       "0               ['n02112350']               ['carnivore']   \n",
       "1               ['n01980166']            ['invertebrate']   \n",
       "2               ['n02100583']               ['carnivore']   \n",
       "3  ['n04350905', 'n04591157']  ['commodity', 'commodity']   \n",
       "4               ['n07754684']          ['natural_object']   \n",
       "\n",
       "            Parent-lvl13_real           Parent-lvl14_real  \n",
       "0                  ['canine']                     ['dog']  \n",
       "1            ['invertebrate']            ['invertebrate']  \n",
       "2                  ['canine']                     ['dog']  \n",
       "3  ['commodity', 'commodity']  ['commodity', 'commodity']  \n",
       "4          ['natural_object']          ['natural_object']  "
      ]
     },
     "execution_count": 5,
     "metadata": {},
     "output_type": "execute_result"
    }
   ],
   "source": [
    "df.head(5)"
   ]
  },
  {
   "cell_type": "code",
   "execution_count": 6,
   "id": "03aa90c2-12dd-42a2-b4c4-106fa78dda1c",
   "metadata": {
    "pycharm": {
     "name": "#%%\n"
    }
   },
   "outputs": [
    {
     "name": "stdout",
     "output_type": "stream",
     "text": [
      "total 10800 entries\n"
     ]
    }
   ],
   "source": [
    "print(f\"total {len(df)} entries\")"
   ]
  },
  {
   "cell_type": "code",
   "execution_count": 7,
   "id": "5129a544-4c04-4e08-bdcf-faf6d4d40ade",
   "metadata": {
    "pycharm": {
     "name": "#%%\n"
    }
   },
   "outputs": [
    {
     "data": {
      "text/plain": [
       "Method\n",
       "CHM-Corr     60.0\n",
       "CHM-NN       60.0\n",
       "EMD-Corr     60.0\n",
       "EMD-NN       60.0\n",
       "ResNet-50    60.0\n",
       "kNN          60.0\n",
       "Name: Query, dtype: float64"
      ]
     },
     "execution_count": 7,
     "metadata": {},
     "output_type": "execute_result"
    }
   ],
   "source": [
    "df.groupby(['UID', 'Method'])['Query'].count().groupby('Method').sum()/30"
   ]
  },
  {
   "cell_type": "markdown",
   "id": "a15b0eb8-a723-42ee-8e3d-ef1ae0dee9d7",
   "metadata": {
    "pycharm": {
     "name": "#%% md\n"
    }
   },
   "source": [
    "## Removing Bad Users \n",
    "\n",
    "We manually marked two users as **bad** based on their average performance on `1:1` ratio samples\n",
    "\n",
    "1. `6395881` \n",
    "1. `6396044`"
   ]
  },
  {
   "cell_type": "code",
   "execution_count": 8,
   "id": "9602feb0-65f0-4463-8d9d-afa425a4c21e",
   "metadata": {
    "pycharm": {
     "name": "#%%\n"
    }
   },
   "outputs": [],
   "source": [
    "df = df[~df['UID'].isin([6395881, 6396044])]"
   ]
  },
  {
   "cell_type": "code",
   "execution_count": 9,
   "id": "b0e4af98-08ba-4342-8f92-877eb630283a",
   "metadata": {
    "pycharm": {
     "name": "#%%\n"
    }
   },
   "outputs": [
    {
     "name": "stdout",
     "output_type": "stream",
     "text": [
      "total 10740 entries\n"
     ]
    }
   ],
   "source": [
    "print(f\"total {len(df)} entries\")"
   ]
  },
  {
   "cell_type": "markdown",
   "id": "3f60a98e-93a5-447a-bf4d-98135a7cb492",
   "metadata": {
    "pycharm": {
     "name": "#%% md\n"
    }
   },
   "source": [
    "## Orders for Plotting"
   ]
  },
  {
   "cell_type": "code",
   "execution_count": 10,
   "id": "485f5012-9f67-4f16-9a3c-09e53b1f2e23",
   "metadata": {
    "pycharm": {
     "name": "#%%\n"
    },
    "tags": []
   },
   "outputs": [],
   "source": [
    "ORDER_DICT = {'ResNet-50': 1,\n",
    "              'kNN': 2,\n",
    "              'EMD-NN':  3,\n",
    "              'EMD-Corr': 4,\n",
    "              'CHM-NN': 5,\n",
    "              'CHM-Corr': 6}"
   ]
  },
  {
   "cell_type": "code",
   "execution_count": 11,
   "id": "b8977216-24de-4fe8-bb3d-4272cc225fa1",
   "metadata": {
    "pycharm": {
     "name": "#%%\n"
    }
   },
   "outputs": [],
   "source": [
    "df = df.sort_values(by='Method', key=lambda x: x.map(ORDER_DICT))"
   ]
  },
  {
   "cell_type": "markdown",
   "id": "e464ae6c-866f-41fd-ac75-3e7dfd7a59de",
   "metadata": {
    "pycharm": {
     "name": "#%% md\n"
    }
   },
   "source": [
    "# Basic Analysis"
   ]
  },
  {
   "cell_type": "markdown",
   "id": "e5661c63-0760-411f-92dd-2ad5e7599e1c",
   "metadata": {
    "pycharm": {
     "name": "#%% md\n"
    }
   },
   "source": [
    "## Human+AI Accuracy"
   ]
  },
  {
   "cell_type": "code",
   "execution_count": 12,
   "id": "fa2709e5-46f0-4c3a-8096-9ceecdc99e72",
   "metadata": {
    "pycharm": {
     "name": "#%%\n"
    }
   },
   "outputs": [],
   "source": [
    "accuracy_df = df.groupby(['UID', 'Method'])['Correctness'].mean().reset_index().groupby(['Method'])['Correctness'].agg(['mean', 'std']).reset_index().sort_values(by='Method', key=lambda x: x.map(ORDER_DICT))\n",
    "accuracy_df['mean']*=100\n",
    "accuracy_df['std']*=100"
   ]
  },
  {
   "cell_type": "markdown",
   "id": "9784518e-b48d-47ea-87ba-d6486451523b",
   "metadata": {
    "pycharm": {
     "name": "#%% md\n"
    }
   },
   "source": [
    "# Even Ratio Sampling"
   ]
  },
  {
   "cell_type": "code",
   "execution_count": 13,
   "id": "10633497-e916-4da5-8298-afd6f0197f59",
   "metadata": {
    "pycharm": {
     "name": "#%%\n"
    }
   },
   "outputs": [],
   "source": [
    "import random\n",
    "\n",
    "random.seed(42)"
   ]
  },
  {
   "cell_type": "code",
   "execution_count": 14,
   "id": "a0eb378e-6dca-4ab5-996d-6140ea1e3249",
   "metadata": {
    "pycharm": {
     "name": "#%%\n"
    }
   },
   "outputs": [],
   "source": [
    "df2 = df.groupby(['UID', 'Method'])[['ClassifierCorrectness', 'Correctness']].agg(lambda x: list(x))"
   ]
  },
  {
   "cell_type": "code",
   "execution_count": 15,
   "id": "2cb1db6a-1b6a-497e-83a1-5867701a045c",
   "metadata": {
    "pycharm": {
     "name": "#%%\n"
    }
   },
   "outputs": [],
   "source": [
    "# REPORT IN THE Appendix of PAPER\n",
    "repeats = {}\n",
    "\n",
    "for R in range(100):\n",
    "  users_accuracy_even_ratio = []\n",
    "\n",
    "  for i, row in df2.iterrows():\n",
    "    ai_correct_pairs = [(cc, uc) for cc, uc in zip(row['ClassifierCorrectness'], row['Correctness']) if cc==1]\n",
    "    ai_wrong_pairs = [(cc, uc) for cc, uc in zip(row['ClassifierCorrectness'], row['Correctness']) if cc==0]\n",
    "\n",
    "    sample_size = min(len(ai_correct_pairs), len(ai_wrong_pairs))\n",
    "    \n",
    "    a = random.sample(ai_correct_pairs, k=sample_size)\n",
    "    b = random.sample(ai_wrong_pairs, k=sample_size)\n",
    "\n",
    "    even_accuracy = np.mean([uc for cc, uc in (a+b)])\n",
    "    users_accuracy_even_ratio.append(even_accuracy)\n",
    "    \n",
    "  repeats[R]=users_accuracy_even_ratio"
   ]
  },
  {
   "cell_type": "code",
   "execution_count": 16,
   "id": "f1f0fd72-7816-4c15-a8f2-155a58f1ceb7",
   "metadata": {
    "pycharm": {
     "name": "#%%\n"
    }
   },
   "outputs": [],
   "source": [
    "average_all = np.mean(np.asarray([v for k, v in repeats.items()]), axis=0)\n",
    "df2['even_sample_accuracy'] = average_all\n",
    "df2['MeanClassifierCorrectness'] = df2['ClassifierCorrectness'].agg(lambda x: np.mean(x)).values\n",
    "df2 = df2.reset_index().sort_values(by='Method', key=lambda x: x.map(ORDER_DICT))"
   ]
  },
  {
   "cell_type": "code",
   "execution_count": 17,
   "id": "29dd0f4a-aaa9-41ea-9326-d40375a25930",
   "metadata": {
    "pycharm": {
     "name": "#%%\n"
    }
   },
   "outputs": [
    {
     "data": {
      "text/html": [
       "<div>\n",
       "<style scoped>\n",
       "    .dataframe tbody tr th:only-of-type {\n",
       "        vertical-align: middle;\n",
       "    }\n",
       "\n",
       "    .dataframe tbody tr th {\n",
       "        vertical-align: top;\n",
       "    }\n",
       "\n",
       "    .dataframe thead th {\n",
       "        text-align: right;\n",
       "    }\n",
       "</style>\n",
       "<table border=\"1\" class=\"dataframe\">\n",
       "  <thead>\n",
       "    <tr style=\"text-align: right;\">\n",
       "      <th></th>\n",
       "      <th>UID</th>\n",
       "      <th>Method</th>\n",
       "      <th>ClassifierCorrectness</th>\n",
       "      <th>Correctness</th>\n",
       "      <th>even_sample_accuracy</th>\n",
       "      <th>MeanClassifierCorrectness</th>\n",
       "    </tr>\n",
       "  </thead>\n",
       "  <tbody>\n",
       "    <tr>\n",
       "      <th>0</th>\n",
       "      <td>6382816</td>\n",
       "      <td>ResNet-50</td>\n",
       "      <td>[0, 0, 0, 0, 1, 1, 0, 0, 1, 0, 0, 0, 1, 0, 1, ...</td>\n",
       "      <td>[1, 0, 1, 1, 0, 1, 1, 1, 1, 1, 1, 1, 1, 1, 1, ...</td>\n",
       "      <td>0.869231</td>\n",
       "      <td>0.433333</td>\n",
       "    </tr>\n",
       "    <tr>\n",
       "      <th>183</th>\n",
       "      <td>6395648</td>\n",
       "      <td>ResNet-50</td>\n",
       "      <td>[0, 0, 0, 1, 1, 0, 0, 1, 0, 0, 0, 1, 0, 0, 1, ...</td>\n",
       "      <td>[1, 1, 1, 1, 1, 1, 1, 1, 1, 1, 1, 1, 1, 1, 1, ...</td>\n",
       "      <td>0.903077</td>\n",
       "      <td>0.433333</td>\n",
       "    </tr>\n",
       "    <tr>\n",
       "      <th>182</th>\n",
       "      <td>6395647</td>\n",
       "      <td>ResNet-50</td>\n",
       "      <td>[0, 0, 1, 1, 0, 0, 1, 1, 1, 1, 0, 0, 1, 0, 1, ...</td>\n",
       "      <td>[0, 0, 1, 1, 1, 1, 1, 1, 1, 1, 1, 1, 1, 1, 1, ...</td>\n",
       "      <td>0.874286</td>\n",
       "      <td>0.466667</td>\n",
       "    </tr>\n",
       "    <tr>\n",
       "      <th>181</th>\n",
       "      <td>6395645</td>\n",
       "      <td>ResNet-50</td>\n",
       "      <td>[0, 1, 0, 1, 1, 1, 1, 0, 1, 0, 1, 0, 1, 1, 0, ...</td>\n",
       "      <td>[1, 1, 1, 1, 1, 1, 0, 1, 0, 0, 1, 1, 1, 1, 1, ...</td>\n",
       "      <td>0.854545</td>\n",
       "      <td>0.633333</td>\n",
       "    </tr>\n",
       "    <tr>\n",
       "      <th>180</th>\n",
       "      <td>6395644</td>\n",
       "      <td>ResNet-50</td>\n",
       "      <td>[0, 1, 1, 0, 1, 0, 0, 1, 0, 0, 0, 0, 1, 1, 1, ...</td>\n",
       "      <td>[0, 0, 1, 1, 1, 1, 1, 1, 1, 1, 1, 0, 0, 1, 1, ...</td>\n",
       "      <td>0.740385</td>\n",
       "      <td>0.433333</td>\n",
       "    </tr>\n",
       "  </tbody>\n",
       "</table>\n",
       "</div>"
      ],
      "text/plain": [
       "         UID     Method                              ClassifierCorrectness  \\\n",
       "0    6382816  ResNet-50  [0, 0, 0, 0, 1, 1, 0, 0, 1, 0, 0, 0, 1, 0, 1, ...   \n",
       "183  6395648  ResNet-50  [0, 0, 0, 1, 1, 0, 0, 1, 0, 0, 0, 1, 0, 0, 1, ...   \n",
       "182  6395647  ResNet-50  [0, 0, 1, 1, 0, 0, 1, 1, 1, 1, 0, 0, 1, 0, 1, ...   \n",
       "181  6395645  ResNet-50  [0, 1, 0, 1, 1, 1, 1, 0, 1, 0, 1, 0, 1, 1, 0, ...   \n",
       "180  6395644  ResNet-50  [0, 1, 1, 0, 1, 0, 0, 1, 0, 0, 0, 0, 1, 1, 1, ...   \n",
       "\n",
       "                                           Correctness  even_sample_accuracy  \\\n",
       "0    [1, 0, 1, 1, 0, 1, 1, 1, 1, 1, 1, 1, 1, 1, 1, ...              0.869231   \n",
       "183  [1, 1, 1, 1, 1, 1, 1, 1, 1, 1, 1, 1, 1, 1, 1, ...              0.903077   \n",
       "182  [0, 0, 1, 1, 1, 1, 1, 1, 1, 1, 1, 1, 1, 1, 1, ...              0.874286   \n",
       "181  [1, 1, 1, 1, 1, 1, 0, 1, 0, 0, 1, 1, 1, 1, 1, ...              0.854545   \n",
       "180  [0, 0, 1, 1, 1, 1, 1, 1, 1, 1, 1, 0, 0, 1, 1, ...              0.740385   \n",
       "\n",
       "     MeanClassifierCorrectness  \n",
       "0                     0.433333  \n",
       "183                   0.433333  \n",
       "182                   0.466667  \n",
       "181                   0.633333  \n",
       "180                   0.433333  "
      ]
     },
     "execution_count": 17,
     "metadata": {},
     "output_type": "execute_result"
    }
   ],
   "source": [
    "df2.head()"
   ]
  },
  {
   "cell_type": "markdown",
   "id": "f00ebbfa-2964-4456-a699-5bacf33b2303",
   "metadata": {
    "pycharm": {
     "name": "#%% md\n"
    }
   },
   "source": [
    "### Removing Bad Users "
   ]
  },
  {
   "cell_type": "code",
   "execution_count": 18,
   "id": "b7b61122-1ae4-41fe-8571-51674bdbe108",
   "metadata": {
    "pycharm": {
     "name": "#%%\n"
    }
   },
   "outputs": [
    {
     "name": "stdout",
     "output_type": "stream",
     "text": [
      "total 358 total users\n"
     ]
    }
   ],
   "source": [
    "print(f\"total {len(df2)} total users\")"
   ]
  },
  {
   "cell_type": "code",
   "execution_count": 19,
   "id": "077142be-69cc-43e0-b8ba-20b7cb7fc574",
   "metadata": {
    "pycharm": {
     "name": "#%%\n"
    }
   },
   "outputs": [
    {
     "data": {
      "text/plain": [
       "array([6386000, 6382894, 6385998, 6382878])"
      ]
     },
     "execution_count": 19,
     "metadata": {},
     "output_type": "execute_result"
    }
   ],
   "source": [
    "df2[df2.even_sample_accuracy <= 0.55]['UID'].values"
   ]
  },
  {
   "cell_type": "markdown",
   "id": "ba57d861-9cc6-4ca1-81f9-d9263822ff96",
   "metadata": {
    "pycharm": {
     "name": "#%% md\n"
    }
   },
   "source": [
    "### List of Bad Users\n",
    "\n",
    "array([6386000, 6382894, 6385998, 6382878])\n"
   ]
  },
  {
   "cell_type": "code",
   "execution_count": 20,
   "id": "87d901d7-1e49-44e7-93c2-4cd9d02e5d79",
   "metadata": {
    "pycharm": {
     "name": "#%%\n"
    }
   },
   "outputs": [],
   "source": [
    "df = df[~df['UID'].isin([6386000, 6382894, 6385998, 6382878])]"
   ]
  },
  {
   "cell_type": "code",
   "execution_count": 21,
   "id": "42867a13-bbe9-4b12-b82f-8e2c11491d88",
   "metadata": {
    "pycharm": {
     "name": "#%%\n"
    }
   },
   "outputs": [],
   "source": [
    "df2 = df2.drop(df2[df2.even_sample_accuracy <= 0.55].index)"
   ]
  },
  {
   "cell_type": "code",
   "execution_count": 22,
   "id": "a46495d5-d385-45c8-bab1-a115f9880ed6",
   "metadata": {
    "pycharm": {
     "name": "#%%\n"
    }
   },
   "outputs": [
    {
     "name": "stdout",
     "output_type": "stream",
     "text": [
      "total 354 user\n"
     ]
    }
   ],
   "source": [
    "print(f\"total {len(df2)} user\")"
   ]
  },
  {
   "cell_type": "code",
   "execution_count": 23,
   "id": "7a6a8490-e001-4b96-a0bb-0345d74613a9",
   "metadata": {
    "pycharm": {
     "name": "#%%\n"
    }
   },
   "outputs": [
    {
     "data": {
      "text/plain": [
       "Method\n",
       "CHM-Corr     59\n",
       "CHM-NN       60\n",
       "EMD-Corr     59\n",
       "EMD-NN       57\n",
       "ResNet-50    60\n",
       "kNN          59\n",
       "Name: UID, dtype: int64"
      ]
     },
     "execution_count": 23,
     "metadata": {},
     "output_type": "execute_result"
    }
   ],
   "source": [
    "df2.groupby('Method')['UID'].count()"
   ]
  },
  {
   "cell_type": "code",
   "execution_count": 24,
   "id": "83c2969d-5551-418d-a963-ed81a796d50b",
   "metadata": {
    "pycharm": {
     "name": "#%%\n"
    }
   },
   "outputs": [],
   "source": [
    "df3_acc_even_ratio = df2.groupby('Method')['even_sample_accuracy'].agg(['mean', 'std']).reset_index().sort_values(by='Method', key=lambda x: x.map(ORDER_DICT))"
   ]
  },
  {
   "cell_type": "markdown",
   "id": "215883a9-f8fc-436a-b0ce-85ff5f0c31ab",
   "metadata": {
    "pycharm": {
     "name": "#%% md\n"
    }
   },
   "source": [
    "# Accuracy Reported in the Paper"
   ]
  },
  {
   "cell_type": "code",
   "execution_count": 25,
   "id": "86a73017-597e-4be9-a7f5-9cab0ab8ea37",
   "metadata": {
    "pycharm": {
     "name": "#%%\n"
    }
   },
   "outputs": [],
   "source": [
    "df3_acc_even_ratio\n",
    "df3_acc_even_ratio['mean']*=100\n",
    "df3_acc_even_ratio['std']*=100"
   ]
  },
  {
   "cell_type": "code",
   "execution_count": 26,
   "id": "049047bb-66d5-4e7f-88d3-2386dffbca67",
   "metadata": {
    "pycharm": {
     "name": "#%%\n"
    }
   },
   "outputs": [
    {
     "data": {
      "text/html": [
       "<div>\n",
       "<style scoped>\n",
       "    .dataframe tbody tr th:only-of-type {\n",
       "        vertical-align: middle;\n",
       "    }\n",
       "\n",
       "    .dataframe tbody tr th {\n",
       "        vertical-align: top;\n",
       "    }\n",
       "\n",
       "    .dataframe thead th {\n",
       "        text-align: right;\n",
       "    }\n",
       "</style>\n",
       "<table border=\"1\" class=\"dataframe\">\n",
       "  <thead>\n",
       "    <tr style=\"text-align: right;\">\n",
       "      <th></th>\n",
       "      <th>Method</th>\n",
       "      <th>mean</th>\n",
       "      <th>std</th>\n",
       "    </tr>\n",
       "  </thead>\n",
       "  <tbody>\n",
       "    <tr>\n",
       "      <th>4</th>\n",
       "      <td>ResNet-50</td>\n",
       "      <td>81.139476</td>\n",
       "      <td>5.803302</td>\n",
       "    </tr>\n",
       "    <tr>\n",
       "      <th>5</th>\n",
       "      <td>kNN</td>\n",
       "      <td>75.347263</td>\n",
       "      <td>7.552380</td>\n",
       "    </tr>\n",
       "    <tr>\n",
       "      <th>3</th>\n",
       "      <td>EMD-NN</td>\n",
       "      <td>77.331992</td>\n",
       "      <td>8.327058</td>\n",
       "    </tr>\n",
       "    <tr>\n",
       "      <th>2</th>\n",
       "      <td>EMD-Corr</td>\n",
       "      <td>78.396851</td>\n",
       "      <td>7.300008</td>\n",
       "    </tr>\n",
       "    <tr>\n",
       "      <th>1</th>\n",
       "      <td>CHM-NN</td>\n",
       "      <td>77.329523</td>\n",
       "      <td>6.963805</td>\n",
       "    </tr>\n",
       "    <tr>\n",
       "      <th>0</th>\n",
       "      <td>CHM-Corr</td>\n",
       "      <td>77.187557</td>\n",
       "      <td>7.578652</td>\n",
       "    </tr>\n",
       "  </tbody>\n",
       "</table>\n",
       "</div>"
      ],
      "text/plain": [
       "      Method       mean       std\n",
       "4  ResNet-50  81.139476  5.803302\n",
       "5        kNN  75.347263  7.552380\n",
       "3     EMD-NN  77.331992  8.327058\n",
       "2   EMD-Corr  78.396851  7.300008\n",
       "1     CHM-NN  77.329523  6.963805\n",
       "0   CHM-Corr  77.187557  7.578652"
      ]
     },
     "execution_count": 26,
     "metadata": {},
     "output_type": "execute_result"
    }
   ],
   "source": [
    "df3_acc_even_ratio"
   ]
  },
  {
   "cell_type": "code",
   "execution_count": 27,
   "id": "3945aaca-deb8-4cc8-9ebc-dbf06d003c2a",
   "metadata": {
    "pycharm": {
     "name": "#%%\n"
    }
   },
   "outputs": [
    {
     "data": {
      "image/png": "[encoded data removed]",
      "text/plain": [
       "<Figure size 1080x576 with 1 Axes>"
      ]
     },
     "metadata": {
      "needs_background": "light"
     },
     "output_type": "display_data"
    }
   ],
   "source": [
    "fig, ax = plt.subplots(1, figsize=(15, 8))\n",
    "g = sns.barplot(data=df3_acc_even_ratio, x='Method', y='mean', ax=ax, palette=\"tab10\", ci='std')\n",
    "\n",
    "plt.title(f\"AI+Human Accuracy - {DATA_SET}\\n\", fontsize=16)\n",
    "\n",
    "plt.ylim(0, 100)\n",
    "ax.set_yticks(range(0, 101, 10))\n",
    "ax.tick_params(axis=\"both\", which=\"both\", bottom=\"off\", top=\"off\", labelbottom=\"on\", left=\"off\", right=\"off\", labelleft=\"on\")\n",
    "\n",
    "for container in ax.containers:\n",
    "  ax.bar_label(container, fontsize=15, fmt='%.2f%%')\n",
    "    \n",
    "\n",
    "vals = ax.get_yticks()\n",
    "for tick in vals:\n",
    "  ax.axhline(y=tick, linestyle='dashed', alpha=0.4, color='#eeeeee', zorder=1)\n",
    "\n",
    "plt.errorbar(df3_acc_even_ratio['Method'], df3_acc_even_ratio['mean'], yerr=df3_acc_even_ratio['std'], fmt=\"o\", color=\"darkred\")\n",
    "\n",
    "fig.savefig(f'../plots/human-study-main-results/ImageNet-evern-ratio.pdf' ,dpi=100, bbox_inches='tight')\n",
    "\n",
    "ax.set_xlabel('Method', labelpad=20, fontsize=14)\n",
    "ax.set_ylabel('Accuracy', labelpad=20, fontsize=14)\n",
    "\n",
    "plt.show()"
   ]
  },
  {
   "cell_type": "markdown",
   "id": "54809509-9e61-43bc-b299-07246a13d0a1",
   "metadata": {
    "pycharm": {
     "name": "#%% md\n"
    }
   },
   "source": [
    "# Statistical Significance"
   ]
  },
  {
   "cell_type": "code",
   "execution_count": 28,
   "id": "1496a076-7db9-4d18-b5b8-1cd6bba1fb88",
   "metadata": {
    "pycharm": {
     "name": "#%%\n"
    }
   },
   "outputs": [],
   "source": [
    "from scipy.stats import mannwhitneyu\n",
    "from statannotations.Annotator import Annotator"
   ]
  },
  {
   "cell_type": "code",
   "execution_count": 29,
   "id": "4b2c1821-f446-42a0-bc4a-144b20e429b9",
   "metadata": {
    "pycharm": {
     "name": "#%%\n"
    }
   },
   "outputs": [],
   "source": [
    "data_for_analysis = df2.groupby('Method')['even_sample_accuracy'].agg(lambda x: list(x)).reset_index().sort_values(by='Method', key=lambda x: x.map(ORDER_DICT))"
   ]
  },
  {
   "cell_type": "code",
   "execution_count": 30,
   "id": "c591d7e5-ea69-4bd8-885a-b297142860ad",
   "metadata": {
    "pycharm": {
     "name": "#%%\n"
    }
   },
   "outputs": [
    {
     "data": {
      "text/html": [
       "<div>\n",
       "<style scoped>\n",
       "    .dataframe tbody tr th:only-of-type {\n",
       "        vertical-align: middle;\n",
       "    }\n",
       "\n",
       "    .dataframe tbody tr th {\n",
       "        vertical-align: top;\n",
       "    }\n",
       "\n",
       "    .dataframe thead th {\n",
       "        text-align: right;\n",
       "    }\n",
       "</style>\n",
       "<table border=\"1\" class=\"dataframe\">\n",
       "  <thead>\n",
       "    <tr style=\"text-align: right;\">\n",
       "      <th></th>\n",
       "      <th>Method</th>\n",
       "      <th>even_sample_accuracy</th>\n",
       "    </tr>\n",
       "  </thead>\n",
       "  <tbody>\n",
       "    <tr>\n",
       "      <th>4</th>\n",
       "      <td>ResNet-50</td>\n",
       "      <td>[0.8692307692307689, 0.9030769230769231, 0.874...</td>\n",
       "    </tr>\n",
       "    <tr>\n",
       "      <th>5</th>\n",
       "      <td>kNN</td>\n",
       "      <td>[0.8274999999999991, 0.6776923076923081, 0.678...</td>\n",
       "    </tr>\n",
       "    <tr>\n",
       "      <th>3</th>\n",
       "      <td>EMD-NN</td>\n",
       "      <td>[0.7771428571428572, 0.769230769230769, 0.75, ...</td>\n",
       "    </tr>\n",
       "    <tr>\n",
       "      <th>2</th>\n",
       "      <td>EMD-Corr</td>\n",
       "      <td>[0.766666666666666, 0.7764285714285716, 0.7771...</td>\n",
       "    </tr>\n",
       "    <tr>\n",
       "      <th>1</th>\n",
       "      <td>CHM-NN</td>\n",
       "      <td>[0.833333333333333, 0.766666666666666, 0.78321...</td>\n",
       "    </tr>\n",
       "    <tr>\n",
       "      <th>0</th>\n",
       "      <td>CHM-Corr</td>\n",
       "      <td>[0.9333333333333335, 0.8127777777777773, 0.748...</td>\n",
       "    </tr>\n",
       "  </tbody>\n",
       "</table>\n",
       "</div>"
      ],
      "text/plain": [
       "      Method                               even_sample_accuracy\n",
       "4  ResNet-50  [0.8692307692307689, 0.9030769230769231, 0.874...\n",
       "5        kNN  [0.8274999999999991, 0.6776923076923081, 0.678...\n",
       "3     EMD-NN  [0.7771428571428572, 0.769230769230769, 0.75, ...\n",
       "2   EMD-Corr  [0.766666666666666, 0.7764285714285716, 0.7771...\n",
       "1     CHM-NN  [0.833333333333333, 0.766666666666666, 0.78321...\n",
       "0   CHM-Corr  [0.9333333333333335, 0.8127777777777773, 0.748..."
      ]
     },
     "execution_count": 30,
     "metadata": {},
     "output_type": "execute_result"
    }
   ],
   "source": [
    "data_for_analysis"
   ]
  },
  {
   "cell_type": "code",
   "execution_count": 31,
   "id": "f37ce89a-9160-4b83-85af-3f4e37546e16",
   "metadata": {
    "pycharm": {
     "name": "#%%\n"
    }
   },
   "outputs": [
    {
     "data": {
      "text/plain": [
       "4    [0.8692307692307689, 0.9030769230769231, 0.874...\n",
       "5    [0.8274999999999991, 0.6776923076923081, 0.678...\n",
       "3    [0.7771428571428572, 0.769230769230769, 0.75, ...\n",
       "2    [0.766666666666666, 0.7764285714285716, 0.7771...\n",
       "1    [0.833333333333333, 0.766666666666666, 0.78321...\n",
       "0    [0.9333333333333335, 0.8127777777777773, 0.748...\n",
       "Name: even_sample_accuracy, dtype: object"
      ]
     },
     "execution_count": 31,
     "metadata": {},
     "output_type": "execute_result"
    }
   ],
   "source": [
    "data_for_analysis['even_sample_accuracy']"
   ]
  },
  {
   "cell_type": "code",
   "execution_count": 32,
   "id": "bf7e91a4-bdd3-4ea8-9471-e7ee56230ed6",
   "metadata": {
    "pycharm": {
     "name": "#%%\n"
    },
    "tags": []
   },
   "outputs": [],
   "source": [
    "data_for_analysis_dict = {}\n",
    "for i, row in data_for_analysis.iterrows():\n",
    "  data_for_analysis_dict[row['Method']] = row['even_sample_accuracy']"
   ]
  },
  {
   "cell_type": "code",
   "execution_count": 33,
   "id": "6000f309-d0b5-45ac-9d74-13aa286aa142",
   "metadata": {
    "pycharm": {
     "name": "#%%\n"
    }
   },
   "outputs": [],
   "source": [
    "pairs = [( 'ResNet-50', 'kNN'),\n",
    "          ('ResNet-50', 'EMD-NN'),\n",
    "          ('ResNet-50', 'EMD-Corr'),\n",
    "          ('ResNet-50', 'CHM-NN'),\n",
    "          ('ResNet-50', 'CHM-Corr'),\n",
    "          ('kNN', 'EMD-NN'),\n",
    "          ('kNN', 'EMD-Corr'),\n",
    "          ('kNN', 'CHM-NN'),\n",
    "          ('kNN', 'CHM-Corr'),\n",
    "          ('EMD-NN', 'EMD-Corr'),\n",
    "          ('EMD-NN', 'CHM-NN'),\n",
    "          ('EMD-NN', 'CHM-Corr'),\n",
    "          ('EMD-Corr', 'CHM-NN'),\n",
    "          ('EMD-Corr', 'CHM-Corr'),\n",
    "          ('CHM-NN', 'CHM-Corr')]\n",
    "\n",
    "pvalues = [\n",
    "  mannwhitneyu(data_for_analysis_dict['ResNet-50'], data_for_analysis_dict['kNN'], alternative=\"two-sided\").pvalue,\n",
    "  mannwhitneyu(data_for_analysis_dict['ResNet-50'], data_for_analysis_dict['EMD-NN'], alternative=\"two-sided\").pvalue,\n",
    "  mannwhitneyu(data_for_analysis_dict['ResNet-50'], data_for_analysis_dict['EMD-Corr'], alternative=\"two-sided\").pvalue,\n",
    "  mannwhitneyu(data_for_analysis_dict['ResNet-50'], data_for_analysis_dict['CHM-NN'], alternative=\"two-sided\").pvalue,\n",
    "  mannwhitneyu(data_for_analysis_dict['ResNet-50'], data_for_analysis_dict['CHM-Corr'], alternative=\"two-sided\").pvalue,\n",
    "  \n",
    "  mannwhitneyu(data_for_analysis_dict['kNN'], data_for_analysis_dict['EMD-NN'], alternative=\"two-sided\").pvalue,\n",
    "  mannwhitneyu(data_for_analysis_dict['kNN'], data_for_analysis_dict['EMD-Corr'], alternative=\"two-sided\").pvalue,\n",
    "  mannwhitneyu(data_for_analysis_dict['kNN'], data_for_analysis_dict['CHM-NN'], alternative=\"two-sided\").pvalue,\n",
    "  mannwhitneyu(data_for_analysis_dict['kNN'], data_for_analysis_dict['CHM-Corr'], alternative=\"two-sided\").pvalue,\n",
    "  \n",
    "  mannwhitneyu(data_for_analysis_dict['EMD-NN'], data_for_analysis_dict['EMD-Corr'], alternative=\"two-sided\").pvalue,\n",
    "  mannwhitneyu(data_for_analysis_dict['EMD-NN'], data_for_analysis_dict['CHM-NN'], alternative=\"two-sided\").pvalue,\n",
    "  mannwhitneyu(data_for_analysis_dict['EMD-NN'], data_for_analysis_dict['CHM-Corr'], alternative=\"two-sided\").pvalue,\n",
    "  \n",
    "  mannwhitneyu(data_for_analysis_dict['EMD-Corr'], data_for_analysis_dict['CHM-NN'], alternative=\"two-sided\").pvalue,\n",
    "  mannwhitneyu(data_for_analysis_dict['EMD-Corr'], data_for_analysis_dict['CHM-Corr'], alternative=\"two-sided\").pvalue,\n",
    "  \n",
    "  mannwhitneyu(data_for_analysis_dict['CHM-NN'], data_for_analysis_dict['CHM-Corr'], alternative=\"two-sided\").pvalue,\n",
    "]\n",
    "\n",
    "formatted_pvalues = [f'p={pvalue:.2e}' for pvalue in pvalues]"
   ]
  },
  {
   "cell_type": "code",
   "execution_count": 34,
   "id": "61f19976-f3f7-45e2-95ee-48dc5b65d8f2",
   "metadata": {
    "pycharm": {
     "name": "#%%\n"
    }
   },
   "outputs": [],
   "source": [
    "selected_pairs = []\n",
    "selected_pvalues = []\n",
    "selected_pvalues_f = []\n",
    "\n",
    "for pv, pi, fpv in  zip(pvalues, pairs, formatted_pvalues):\n",
    "  if pv <= 0.05:\n",
    "    selected_pairs.append(pi)\n",
    "    selected_pvalues.append(pv)\n",
    "    selected_pvalues_f.append(fpv)"
   ]
  },
  {
   "cell_type": "code",
   "execution_count": 35,
   "id": "7881553d-eb0f-4237-9cd1-bd95ebcb2ad7",
   "metadata": {
    "pycharm": {
     "name": "#%%\n"
    }
   },
   "outputs": [
    {
     "data": {
      "text/html": [
       "<div>\n",
       "<style scoped>\n",
       "    .dataframe tbody tr th:only-of-type {\n",
       "        vertical-align: middle;\n",
       "    }\n",
       "\n",
       "    .dataframe tbody tr th {\n",
       "        vertical-align: top;\n",
       "    }\n",
       "\n",
       "    .dataframe thead th {\n",
       "        text-align: right;\n",
       "    }\n",
       "</style>\n",
       "<table border=\"1\" class=\"dataframe\">\n",
       "  <thead>\n",
       "    <tr style=\"text-align: right;\">\n",
       "      <th></th>\n",
       "      <th>Method</th>\n",
       "      <th>mean</th>\n",
       "      <th>std</th>\n",
       "    </tr>\n",
       "  </thead>\n",
       "  <tbody>\n",
       "    <tr>\n",
       "      <th>4</th>\n",
       "      <td>ResNet-50</td>\n",
       "      <td>0.811395</td>\n",
       "      <td>0.058033</td>\n",
       "    </tr>\n",
       "    <tr>\n",
       "      <th>5</th>\n",
       "      <td>kNN</td>\n",
       "      <td>0.753473</td>\n",
       "      <td>0.075524</td>\n",
       "    </tr>\n",
       "    <tr>\n",
       "      <th>3</th>\n",
       "      <td>EMD-NN</td>\n",
       "      <td>0.773320</td>\n",
       "      <td>0.083271</td>\n",
       "    </tr>\n",
       "    <tr>\n",
       "      <th>2</th>\n",
       "      <td>EMD-Corr</td>\n",
       "      <td>0.783969</td>\n",
       "      <td>0.073000</td>\n",
       "    </tr>\n",
       "    <tr>\n",
       "      <th>1</th>\n",
       "      <td>CHM-NN</td>\n",
       "      <td>0.773295</td>\n",
       "      <td>0.069638</td>\n",
       "    </tr>\n",
       "    <tr>\n",
       "      <th>0</th>\n",
       "      <td>CHM-Corr</td>\n",
       "      <td>0.771876</td>\n",
       "      <td>0.075787</td>\n",
       "    </tr>\n",
       "  </tbody>\n",
       "</table>\n",
       "</div>"
      ],
      "text/plain": [
       "      Method      mean       std\n",
       "4  ResNet-50  0.811395  0.058033\n",
       "5        kNN  0.753473  0.075524\n",
       "3     EMD-NN  0.773320  0.083271\n",
       "2   EMD-Corr  0.783969  0.073000\n",
       "1     CHM-NN  0.773295  0.069638\n",
       "0   CHM-Corr  0.771876  0.075787"
      ]
     },
     "execution_count": 35,
     "metadata": {},
     "output_type": "execute_result"
    }
   ],
   "source": [
    "df2.groupby('Method')['even_sample_accuracy'].agg(['mean', 'std']).reset_index().sort_values(by='Method', key=lambda x: x.map(ORDER_DICT))"
   ]
  },
  {
   "cell_type": "code",
   "execution_count": 36,
   "id": "eeed20d3-658e-4202-8845-7dd690e4236e",
   "metadata": {
    "pycharm": {
     "name": "#%%\n"
    }
   },
   "outputs": [
    {
     "name": "stdout",
     "output_type": "stream",
     "text": [
      "p-value annotation legend:\n",
      "      ns: p <= 1.00e+00\n",
      "       *: 1.00e-02 < p <= 5.00e-02\n",
      "      **: 1.00e-03 < p <= 1.00e-02\n",
      "     ***: 1.00e-04 < p <= 1.00e-03\n",
      "    ****: p <= 1.00e-04\n",
      "\n",
      "ResNet-50 vs. kNN: Mann-Whitney-Wilcoxon test two-sided, P_val:3.755e-06 U_stat=2.640e+03\n",
      "ResNet-50 vs. EMD-NN: Mann-Whitney-Wilcoxon test two-sided, P_val:1.834e-02 U_stat=2.143e+03\n",
      "kNN vs. EMD-Corr: Mann-Whitney-Wilcoxon test two-sided, P_val:7.409e-03 U_stat=1.242e+03\n",
      "ResNet-50 vs. CHM-NN: Mann-Whitney-Wilcoxon test two-sided, P_val:2.514e-03 U_stat=2.376e+03\n",
      "ResNet-50 vs. CHM-Corr: Mann-Whitney-Wilcoxon test two-sided, P_val:1.603e-03 U_stat=2.364e+03\n"
     ]
    },
    {
     "data": {
      "image/png": "[encoded data removed]",
      "text/plain": [
       "<Figure size 720x576 with 1 Axes>"
      ]
     },
     "metadata": {},
     "output_type": "display_data"
    }
   ],
   "source": [
    "subcat_palette = sns.dark_palette(\"#8BF\", reverse=True, n_colors=6)\n",
    "\n",
    "plotting_parameters = {\n",
    "    'data':    df2,\n",
    "    'x':       'Method',\n",
    "    'y':       'even_sample_accuracy',\n",
    "    'palette': 'tab10'\n",
    "}\n",
    "\n",
    "with sns.plotting_context('notebook', font_scale = 1.4):\n",
    "  # Create new plot\n",
    "  fig, ax = plt.subplots(1, figsize=(10, 8), facecolor=(1,1,1))\n",
    "\n",
    "  # Plot with seabornz\n",
    "  sns.boxplot(**plotting_parameters)\n",
    "\n",
    "  # Add annotations\n",
    "  annotator = Annotator(ax, selected_pairs, **plotting_parameters)\n",
    "  annotator.configure(test='Mann-Whitney', text_format='star', loc='outside')\n",
    "  annotator.set_custom_annotations(selected_pvalues_f)\n",
    "  annotator.apply_and_annotate()\n",
    "\n",
    "  \n",
    "  # Label and show\n",
    "  ax.set_ylabel(\"Accuracy\")\n",
    "  ax.set_xlabel(\"Method\", labelpad=20)\n",
    "  fig.savefig(f'../plots/human-study-main-results/ImageNet-StatisticalDetails.pdf' ,dpi=100, bbox_inches='tight')\n",
    "  plt.ylim(0.5, 1)\n",
    "  plt.show()"
   ]
  },
  {
   "cell_type": "code",
   "execution_count": 37,
   "id": "809c15e7-11e1-4312-ade7-61c0ceb62bc2",
   "metadata": {
    "pycharm": {
     "name": "#%%\n"
    }
   },
   "outputs": [],
   "source": [
    "# make the annotation gap smaller"
   ]
  },
  {
   "cell_type": "code",
   "execution_count": null,
   "outputs": [],
   "source": [
    "subcat_palette = sns.dark_palette(\"#8BF\", reverse=True, n_colors=6)\n",
    "\n",
    "plotting_parameters = {\n",
    "    'data':    df2,\n",
    "    'x':       'Method',\n",
    "    'y':       'even_sample_accuracy',\n",
    "    'palette': 'tab10'\n",
    "}\n",
    "\n",
    "\n",
    "with sns.plotting_context('paper', font_scale = 1.4):\n",
    "  # Create new plot\n",
    "  fig, ax = plt.subplots(1, figsize=(4, 2.5), facecolor=(1,1,1))\n",
    "\n",
    "  # Plot with seabornz\n",
    "  sns.boxplot(**plotting_parameters)\n",
    "\n",
    "  # Add annotations\n",
    "  annotator = Annotator(ax, selected_pairs, **plotting_parameters)\n",
    "  annotator.configure(test='Mann-Whitney', text_format='star', loc='outside' , text_offset=-4)\n",
    "  annotator.set_custom_annotations(selected_pvalues_f)\n",
    "  annotator.apply_and_annotate( )\n",
    "\n",
    "  # Label and show\n",
    "  ax.set_ylabel(\"Accuracy\")\n",
    "  ax.set_xlabel(\"\")\n",
    "\n",
    "  plt.gca().set_ylim(bottom=0.5)\n",
    "  plt.gca().set_ylim(top=1)\n",
    "  plt.yticks(np.arange(0.5, 1.01, 0.1))\n",
    "  plt.setp( ax.xaxis.get_majorticklabels(), rotation=35 ) \n",
    "  fig.savefig(f'../plots/human-study-main-results/ImageNet-StatisticalDetails-Slim.pdf', dpi=100, bbox_inches='tight')\n",
    "  plt.show()"
   ],
   "metadata": {
    "collapsed": false,
    "pycharm": {
     "name": "#%%\n"
    }
   }
  }
 ],
 "metadata": {
  "kernelspec": {
   "display_name": "Python 3 (ipykernel)",
   "language": "python",
   "name": "python3"
  },
  "language_info": {
   "codemirror_mode": {
    "name": "ipython",
    "version": 3
   },
   "file_extension": ".py",
   "mimetype": "text/x-python",
   "name": "python",
   "nbconvert_exporter": "python",
   "pygments_lexer": "ipython3",
   "version": "3.10.4"
  }
 },
 "nbformat": 4,
 "nbformat_minor": 5
}