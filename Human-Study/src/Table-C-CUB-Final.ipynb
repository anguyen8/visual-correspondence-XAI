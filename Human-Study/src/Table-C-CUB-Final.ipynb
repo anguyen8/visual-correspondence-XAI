{
 "cells": [
  {
   "cell_type": "markdown",
   "id": "1e96809b-1499-4871-ab45-24102186e1c7",
   "metadata": {
    "pycharm": {
     "name": "#%% md\n"
    }
   },
   "source": [
    "# AI and Human AI Performance"
   ]
  },
  {
   "cell_type": "code",
   "execution_count": 61,
   "id": "a793c559-4c39-449d-97bd-9603e6d3edcc",
   "metadata": {
    "pycharm": {
     "name": "#%%\n"
    }
   },
   "outputs": [],
   "source": [
    "import numpy as np\n",
    "import pandas as pd\n",
    "from tqdm import tqdm\n",
    "import pickle\n",
    "import random\n",
    "import copy\n",
    "import pickle\n",
    "import random\n",
    "import numpy as np\n",
    "import pandas as pd\n",
    "import seaborn as sns\n",
    "sns.set()"
   ]
  },
  {
   "cell_type": "code",
   "execution_count": 62,
   "metadata": {},
   "outputs": [],
   "source": [
    "pd.set_option(\"display.max_columns\", None)\n",
    "pd.set_option(\"display.max_rows\", None)"
   ]
  },
  {
   "cell_type": "markdown",
   "metadata": {},
   "source": [
    "# CUB"
   ]
  },
  {
   "cell_type": "code",
   "execution_count": 63,
   "id": "7e3eb563-0bc0-48e5-9ac0-bb27ee656d98",
   "metadata": {
    "pycharm": {
     "name": "#%%\n"
    }
   },
   "outputs": [],
   "source": [
    "random.seed(42)\n",
    "\n",
    "\n",
    "with open('../data/Classification-Summary-CUB.pickle', 'rb') as f:\n",
    "  classification_summary_cub = pickle.load(f)"
   ]
  },
  {
   "cell_type": "code",
   "execution_count": 64,
   "id": "c1fd2f12-83d9-48c4-b91a-84ce812cdebd",
   "metadata": {
    "pycharm": {
     "name": "#%%\n"
    }
   },
   "outputs": [
    {
     "data": {
      "text/plain": [
       "dict_keys(['GT', 'resnet_pred', 'knn_pred', 'emd_pred', 'chm_pred', 'resnet_wnid', 'knn_wnid', 'emd_wnid', 'chm_wnid', 'resnet_conf', 'knn_conf', 'emd_conf', 'chm_conf'])"
      ]
     },
     "execution_count": 64,
     "metadata": {},
     "output_type": "execute_result"
    }
   ],
   "source": [
    "classification_summary_cub.keys()"
   ]
  },
  {
   "cell_type": "markdown",
   "id": "baded946-7ac2-4965-a44a-96b9b913addc",
   "metadata": {
    "pycharm": {
     "name": "#%% md\n"
    }
   },
   "source": [
    "### Unpacking "
   ]
  },
  {
   "cell_type": "code",
   "execution_count": 65,
   "id": "b80bf85d-2d73-41f7-a138-b16f61e9587f",
   "metadata": {
    "pycharm": {
     "name": "#%%\n"
    }
   },
   "outputs": [],
   "source": [
    "GT_CUB     = classification_summary_cub['GT']\n",
    "\n",
    "M1Prediction_CUB = classification_summary_cub['resnet_pred']\n",
    "M2Prediction_CUB = classification_summary_cub['knn_pred']   \n",
    "M3Prediction_CUB = classification_summary_cub['emd_pred']   \n",
    "M4Prediction_CUB = classification_summary_cub['chm_pred']   \n",
    "   \n",
    "IsM1Correct_CUB = classification_summary_cub['resnet_wnid']\n",
    "IsM2Correct_CUB = classification_summary_cub['knn_wnid']   \n",
    "IsM3Correct_CUB = classification_summary_cub['emd_wnid']   \n",
    "IsM4Correct_CUB = classification_summary_cub['chm_wnid']   \n",
    "\n",
    "M1Conf_CUB = classification_summary_cub['resnet_conf'] \n",
    "M2Conf_CUB = classification_summary_cub['knn_conf']    \n",
    "M3Conf_CUB = classification_summary_cub['emd_conf']    \n",
    "M4Conf_CUB = classification_summary_cub['chm_conf']    "
   ]
  },
  {
   "cell_type": "code",
   "execution_count": 66,
   "id": "6a9a7c06-7cf9-483b-9365-d60e084d1a33",
   "metadata": {
    "pycharm": {
     "name": "#%%\n"
    }
   },
   "outputs": [
    {
     "name": "stderr",
     "output_type": "stream",
     "text": [
      "100%|██████████| 21/21 [00:00<00:00, 265.24it/s]\n",
      "100%|██████████| 21/21 [00:00<00:00, 295.55it/s]\n",
      "100%|██████████| 21/21 [00:00<00:00, 323.28it/s]\n",
      "100%|██████████| 21/21 [00:00<00:00, 295.07it/s]\n"
     ]
    }
   ],
   "source": [
    "MethodName_CUB = ['ResNet', 'KNN', 'EMD', 'CHM']\n",
    "Methods_CUB    = [IsM1Correct_CUB, IsM2Correct_CUB, IsM3Correct_CUB, IsM4Correct_CUB]\n",
    "Confs_CUB      = [M1Conf_CUB, M2Conf_CUB, M3Conf_CUB,M4Conf_CUB]\n",
    "\n",
    "TAnalysis_CUB = {}\n",
    "\n",
    "for N, M, C in zip(MethodName_CUB, Methods_CUB, Confs_CUB):\n",
    "  TAnalysis_CUB[N] = {}\n",
    "  for T in tqdm(np.arange(0., 1.05, 0.05)):\n",
    "    TAnalysis_CUB[N][round(T, 2)] = np.average([x[0] == (x[1]>=T) for x in zip(M, C)])"
   ]
  },
  {
   "cell_type": "markdown",
   "id": "00c437a2-7244-4ae8-9a49-340be2abf136",
   "metadata": {
    "pycharm": {
     "name": "#%% md\n"
    }
   },
   "source": [
    "## Fine-tune on 1K, Test on 4K"
   ]
  },
  {
   "cell_type": "code",
   "execution_count": 67,
   "id": "4948d9c6-3035-4aaf-8d42-b948c8101362",
   "metadata": {
    "pycharm": {
     "name": "#%%\n"
    }
   },
   "outputs": [],
   "source": [
    "def split_data_1k_4k(a, b):\n",
    "  zipped = list(zip(a, b))\n",
    "  random.shuffle(zipped)\n",
    "  ra, rb = zip(*zipped)\n",
    "  return ra[:1000], rb[:1000],  ra[1000:], rb[1000:]"
   ]
  },
  {
   "cell_type": "code",
   "execution_count": 68,
   "id": "dd581fe1-68ec-4f0b-bc70-9f6dc860959a",
   "metadata": {
    "pycharm": {
     "name": "#%%\n"
    }
   },
   "outputs": [
    {
     "name": "stderr",
     "output_type": "stream",
     "text": [
      "100%|██████████| 21/21 [00:00<00:00, 1439.34it/s]\n",
      "100%|██████████| 21/21 [00:00<00:00, 1556.91it/s]\n",
      "100%|██████████| 21/21 [00:00<00:00, 1759.11it/s]\n",
      "100%|██████████| 21/21 [00:00<00:00, 1611.89it/s]\n"
     ]
    }
   ],
   "source": [
    "MethodName_CUB = ['ResNet', 'KNN', 'EMD', 'CHM']\n",
    "\n",
    "IsM1Correct_T_CUB, M1Conf_T_CUB, IsM1Correct_V_CUB, M1Conf_V_CUB = split_data_1k_4k(IsM1Correct_CUB, M1Conf_CUB)\n",
    "IsM2Correct_T_CUB, M2Conf_T_CUB, IsM2Correct_V_CUB, M2Conf_V_CUB = split_data_1k_4k(IsM2Correct_CUB, M2Conf_CUB)\n",
    "IsM3Correct_T_CUB, M3Conf_T_CUB, IsM3Correct_V_CUB, M3Conf_V_CUB = split_data_1k_4k(IsM3Correct_CUB, M3Conf_CUB)\n",
    "IsM4Correct_T_CUB, M4Conf_T_CUB, IsM4Correct_V_CUB, M4Conf_V_CUB = split_data_1k_4k(IsM4Correct_CUB, M4Conf_CUB)\n",
    "\n",
    "Methods_T_CUB = [IsM1Correct_T_CUB, IsM2Correct_T_CUB, IsM3Correct_T_CUB, IsM4Correct_T_CUB]\n",
    "Confs_T_CUB   = [M1Conf_T_CUB, M2Conf_T_CUB, M3Conf_T_CUB, M4Conf_T_CUB]\n",
    "\n",
    "TAnalysis_T_CUB = {}\n",
    "\n",
    "for N, M, C in zip(MethodName_CUB, Methods_T_CUB, Confs_T_CUB):\n",
    "  TAnalysis_T_CUB[N] = {}\n",
    "  for T in tqdm(np.arange(0., 1.05, 0.05)):\n",
    "    TAnalysis_T_CUB[N][round(T, 2)] = np.average([x[0] == (x[1]>=T) for x in zip(M, C)])"
   ]
  },
  {
   "cell_type": "code",
   "execution_count": 69,
   "id": "1c396233-3d9e-4cc5-aacc-c905503bc4f1",
   "metadata": {
    "pycharm": {
     "name": "#%%\n"
    }
   },
   "outputs": [
    {
     "name": "stderr",
     "output_type": "stream",
     "text": [
      "100%|██████████| 21/21 [00:00<00:00, 353.02it/s]\n",
      "100%|██████████| 21/21 [00:00<00:00, 357.00it/s]\n",
      "100%|██████████| 21/21 [00:00<00:00, 356.74it/s]\n",
      "100%|██████████| 21/21 [00:00<00:00, 271.32it/s]\n"
     ]
    }
   ],
   "source": [
    "Methods_V_CUB = [IsM1Correct_V_CUB, IsM2Correct_V_CUB, IsM3Correct_V_CUB, IsM4Correct_V_CUB]\n",
    "Confs_V_CUB   = [M1Conf_V_CUB, M2Conf_V_CUB, M3Conf_V_CUB, M4Conf_V_CUB]\n",
    "\n",
    "TAnalysis_V_CUB = {}\n",
    "\n",
    "for N, M, C in zip(MethodName_CUB, Methods_V_CUB, Confs_V_CUB):\n",
    "  TAnalysis_V_CUB[N] = {}\n",
    "  for T in tqdm(np.arange(0., 1.05, 0.05)):\n",
    "    TAnalysis_V_CUB[N][round(T, 2)] = np.average([x[0] == (x[1]>=T) for x in zip(M, C)])"
   ]
  },
  {
   "cell_type": "code",
   "execution_count": 70,
   "id": "5b9c705d-f6b6-4c2c-920a-d49f96c5b71d",
   "metadata": {
    "pycharm": {
     "name": "#%%\n"
    }
   },
   "outputs": [
    {
     "data": {
      "text/html": [
       "<style type=\"text/css\">\n",
       "#T_c0704_row0_col11, #T_c0704_row1_col9, #T_c0704_row2_col7, #T_c0704_row2_col8, #T_c0704_row3_col9 {\n",
       "  background-color: yellow;\n",
       "}\n",
       "</style>\n",
       "<table id=\"T_c0704_\">\n",
       "  <thead>\n",
       "    <tr>\n",
       "      <th class=\"blank level0\" >&nbsp;</th>\n",
       "      <th class=\"col_heading level0 col0\" >0.0</th>\n",
       "      <th class=\"col_heading level0 col1\" >0.05</th>\n",
       "      <th class=\"col_heading level0 col2\" >0.1</th>\n",
       "      <th class=\"col_heading level0 col3\" >0.15</th>\n",
       "      <th class=\"col_heading level0 col4\" >0.2</th>\n",
       "      <th class=\"col_heading level0 col5\" >0.25</th>\n",
       "      <th class=\"col_heading level0 col6\" >0.3</th>\n",
       "      <th class=\"col_heading level0 col7\" >0.35</th>\n",
       "      <th class=\"col_heading level0 col8\" >0.4</th>\n",
       "      <th class=\"col_heading level0 col9\" >0.45</th>\n",
       "      <th class=\"col_heading level0 col10\" >0.5</th>\n",
       "      <th class=\"col_heading level0 col11\" >0.55</th>\n",
       "      <th class=\"col_heading level0 col12\" >0.6</th>\n",
       "      <th class=\"col_heading level0 col13\" >0.65</th>\n",
       "      <th class=\"col_heading level0 col14\" >0.7</th>\n",
       "      <th class=\"col_heading level0 col15\" >0.75</th>\n",
       "      <th class=\"col_heading level0 col16\" >0.8</th>\n",
       "      <th class=\"col_heading level0 col17\" >0.85</th>\n",
       "      <th class=\"col_heading level0 col18\" >0.9</th>\n",
       "      <th class=\"col_heading level0 col19\" >0.95</th>\n",
       "      <th class=\"col_heading level0 col20\" >1.0</th>\n",
       "    </tr>\n",
       "  </thead>\n",
       "  <tbody>\n",
       "    <tr>\n",
       "      <th id=\"T_c0704_level0_row0\" class=\"row_heading level0 row0\" >ResNet</th>\n",
       "      <td id=\"T_c0704_row0_col0\" class=\"data row0 col0\" >0.858302</td>\n",
       "      <td id=\"T_c0704_row0_col1\" class=\"data row0 col1\" >0.858302</td>\n",
       "      <td id=\"T_c0704_row0_col2\" class=\"data row0 col2\" >0.858302</td>\n",
       "      <td id=\"T_c0704_row0_col3\" class=\"data row0 col3\" >0.858474</td>\n",
       "      <td id=\"T_c0704_row0_col4\" class=\"data row0 col4\" >0.859855</td>\n",
       "      <td id=\"T_c0704_row0_col5\" class=\"data row0 col5\" >0.860891</td>\n",
       "      <td id=\"T_c0704_row0_col6\" class=\"data row0 col6\" >0.862962</td>\n",
       "      <td id=\"T_c0704_row0_col7\" class=\"data row0 col7\" >0.866068</td>\n",
       "      <td id=\"T_c0704_row0_col8\" class=\"data row0 col8\" >0.869002</td>\n",
       "      <td id=\"T_c0704_row0_col9\" class=\"data row0 col9\" >0.871246</td>\n",
       "      <td id=\"T_c0704_row0_col10\" class=\"data row0 col10\" >0.874008</td>\n",
       "      <td id=\"T_c0704_row0_col11\" class=\"data row0 col11\" >0.876251</td>\n",
       "      <td id=\"T_c0704_row0_col12\" class=\"data row0 col12\" >0.873835</td>\n",
       "      <td id=\"T_c0704_row0_col13\" class=\"data row0 col13\" >0.874871</td>\n",
       "      <td id=\"T_c0704_row0_col14\" class=\"data row0 col14\" >0.866759</td>\n",
       "      <td id=\"T_c0704_row0_col15\" class=\"data row0 col15\" >0.858819</td>\n",
       "      <td id=\"T_c0704_row0_col16\" class=\"data row0 col16\" >0.848119</td>\n",
       "      <td id=\"T_c0704_row0_col17\" class=\"data row0 col17\" >0.829134</td>\n",
       "      <td id=\"T_c0704_row0_col18\" class=\"data row0 col18\" >0.808423</td>\n",
       "      <td id=\"T_c0704_row0_col19\" class=\"data row0 col19\" >0.724197</td>\n",
       "      <td id=\"T_c0704_row0_col20\" class=\"data row0 col20\" >0.141698</td>\n",
       "    </tr>\n",
       "    <tr>\n",
       "      <th id=\"T_c0704_level0_row1\" class=\"row_heading level0 row1\" >KNN</th>\n",
       "      <td id=\"T_c0704_row1_col0\" class=\"data row1 col0\" >0.854677</td>\n",
       "      <td id=\"T_c0704_row1_col1\" class=\"data row1 col1\" >0.854677</td>\n",
       "      <td id=\"T_c0704_row1_col2\" class=\"data row1 col2\" >0.854677</td>\n",
       "      <td id=\"T_c0704_row1_col3\" class=\"data row1 col3\" >0.856058</td>\n",
       "      <td id=\"T_c0704_row1_col4\" class=\"data row1 col4\" >0.856058</td>\n",
       "      <td id=\"T_c0704_row1_col5\" class=\"data row1 col5\" >0.857784</td>\n",
       "      <td id=\"T_c0704_row1_col6\" class=\"data row1 col6\" >0.868139</td>\n",
       "      <td id=\"T_c0704_row1_col7\" class=\"data row1 col7\" >0.876769</td>\n",
       "      <td id=\"T_c0704_row1_col8\" class=\"data row1 col8\" >0.876769</td>\n",
       "      <td id=\"T_c0704_row1_col9\" class=\"data row1 col9\" >0.876942</td>\n",
       "      <td id=\"T_c0704_row1_col10\" class=\"data row1 col10\" >0.874180</td>\n",
       "      <td id=\"T_c0704_row1_col11\" class=\"data row1 col11\" >0.857784</td>\n",
       "      <td id=\"T_c0704_row1_col12\" class=\"data row1 col12\" >0.812910</td>\n",
       "      <td id=\"T_c0704_row1_col13\" class=\"data row1 col13\" >0.812910</td>\n",
       "      <td id=\"T_c0704_row1_col14\" class=\"data row1 col14\" >0.739558</td>\n",
       "      <td id=\"T_c0704_row1_col15\" class=\"data row1 col15\" >0.739558</td>\n",
       "      <td id=\"T_c0704_row1_col16\" class=\"data row1 col16\" >0.692613</td>\n",
       "      <td id=\"T_c0704_row1_col17\" class=\"data row1 col17\" >0.591301</td>\n",
       "      <td id=\"T_c0704_row1_col18\" class=\"data row1 col18\" >0.591301</td>\n",
       "      <td id=\"T_c0704_row1_col19\" class=\"data row1 col19\" >0.426993</td>\n",
       "      <td id=\"T_c0704_row1_col20\" class=\"data row1 col20\" >0.426993</td>\n",
       "    </tr>\n",
       "    <tr>\n",
       "      <th id=\"T_c0704_level0_row2\" class=\"row_heading level0 row2\" >EMD</th>\n",
       "      <td id=\"T_c0704_row2_col0\" class=\"data row2 col0\" >0.849845</td>\n",
       "      <td id=\"T_c0704_row2_col1\" class=\"data row2 col1\" >0.849845</td>\n",
       "      <td id=\"T_c0704_row2_col2\" class=\"data row2 col2\" >0.849845</td>\n",
       "      <td id=\"T_c0704_row2_col3\" class=\"data row2 col3\" >0.851743</td>\n",
       "      <td id=\"T_c0704_row2_col4\" class=\"data row2 col4\" >0.851743</td>\n",
       "      <td id=\"T_c0704_row2_col5\" class=\"data row2 col5\" >0.853469</td>\n",
       "      <td id=\"T_c0704_row2_col6\" class=\"data row2 col6\" >0.864860</td>\n",
       "      <td id=\"T_c0704_row2_col7\" class=\"data row2 col7\" >0.869520</td>\n",
       "      <td id=\"T_c0704_row2_col8\" class=\"data row2 col8\" >0.869520</td>\n",
       "      <td id=\"T_c0704_row2_col9\" class=\"data row2 col9\" >0.868830</td>\n",
       "      <td id=\"T_c0704_row2_col10\" class=\"data row2 col10\" >0.862271</td>\n",
       "      <td id=\"T_c0704_row2_col11\" class=\"data row2 col11\" >0.846393</td>\n",
       "      <td id=\"T_c0704_row2_col12\" class=\"data row2 col12\" >0.786158</td>\n",
       "      <td id=\"T_c0704_row2_col13\" class=\"data row2 col13\" >0.786158</td>\n",
       "      <td id=\"T_c0704_row2_col14\" class=\"data row2 col14\" >0.705212</td>\n",
       "      <td id=\"T_c0704_row2_col15\" class=\"data row2 col15\" >0.705212</td>\n",
       "      <td id=\"T_c0704_row2_col16\" class=\"data row2 col16\" >0.650155</td>\n",
       "      <td id=\"T_c0704_row2_col17\" class=\"data row2 col17\" >0.541422</td>\n",
       "      <td id=\"T_c0704_row2_col18\" class=\"data row2 col18\" >0.541422</td>\n",
       "      <td id=\"T_c0704_row2_col19\" class=\"data row2 col19\" >0.343459</td>\n",
       "      <td id=\"T_c0704_row2_col20\" class=\"data row2 col20\" >0.343459</td>\n",
       "    </tr>\n",
       "    <tr>\n",
       "      <th id=\"T_c0704_level0_row3\" class=\"row_heading level0 row3\" >CHM</th>\n",
       "      <td id=\"T_c0704_row3_col0\" class=\"data row3 col0\" >0.832758</td>\n",
       "      <td id=\"T_c0704_row3_col1\" class=\"data row3 col1\" >0.832758</td>\n",
       "      <td id=\"T_c0704_row3_col2\" class=\"data row3 col2\" >0.832758</td>\n",
       "      <td id=\"T_c0704_row3_col3\" class=\"data row3 col3\" >0.833448</td>\n",
       "      <td id=\"T_c0704_row3_col4\" class=\"data row3 col4\" >0.833448</td>\n",
       "      <td id=\"T_c0704_row3_col5\" class=\"data row3 col5\" >0.835174</td>\n",
       "      <td id=\"T_c0704_row3_col6\" class=\"data row3 col6\" >0.850017</td>\n",
       "      <td id=\"T_c0704_row3_col7\" class=\"data row3 col7\" >0.853987</td>\n",
       "      <td id=\"T_c0704_row3_col8\" class=\"data row3 col8\" >0.853987</td>\n",
       "      <td id=\"T_c0704_row3_col9\" class=\"data row3 col9\" >0.857094</td>\n",
       "      <td id=\"T_c0704_row3_col10\" class=\"data row3 col10\" >0.845530</td>\n",
       "      <td id=\"T_c0704_row3_col11\" class=\"data row3 col11\" >0.823438</td>\n",
       "      <td id=\"T_c0704_row3_col12\" class=\"data row3 col12\" >0.742147</td>\n",
       "      <td id=\"T_c0704_row3_col13\" class=\"data row3 col13\" >0.742147</td>\n",
       "      <td id=\"T_c0704_row3_col14\" class=\"data row3 col14\" >0.636348</td>\n",
       "      <td id=\"T_c0704_row3_col15\" class=\"data row3 col15\" >0.636348</td>\n",
       "      <td id=\"T_c0704_row3_col16\" class=\"data row3 col16\" >0.570245</td>\n",
       "      <td id=\"T_c0704_row3_col17\" class=\"data row3 col17\" >0.418536</td>\n",
       "      <td id=\"T_c0704_row3_col18\" class=\"data row3 col18\" >0.418536</td>\n",
       "      <td id=\"T_c0704_row3_col19\" class=\"data row3 col19\" >0.261305</td>\n",
       "      <td id=\"T_c0704_row3_col20\" class=\"data row3 col20\" >0.261305</td>\n",
       "    </tr>\n",
       "  </tbody>\n",
       "</table>\n"
      ],
      "text/plain": [
       "<pandas.io.formats.style.Styler at 0x13e3d4a60>"
      ]
     },
     "execution_count": 70,
     "metadata": {},
     "output_type": "execute_result"
    }
   ],
   "source": [
    "# Full 5K\n",
    "pd.DataFrame(TAnalysis_CUB).T.style.highlight_max(color = 'yellow', axis = 1)"
   ]
  },
  {
   "cell_type": "code",
   "execution_count": 71,
   "id": "aa62a828-7aa5-419c-9798-8dd860531945",
   "metadata": {
    "pycharm": {
     "name": "#%%\n"
    }
   },
   "outputs": [
    {
     "data": {
      "text/html": [
       "<style type=\"text/css\">\n",
       "#T_95a9e_row0_col11, #T_95a9e_row1_col7, #T_95a9e_row1_col8, #T_95a9e_row1_col9, #T_95a9e_row2_col9, #T_95a9e_row3_col9 {\n",
       "  background-color: yellow;\n",
       "}\n",
       "</style>\n",
       "<table id=\"T_95a9e_\">\n",
       "  <thead>\n",
       "    <tr>\n",
       "      <th class=\"blank level0\" >&nbsp;</th>\n",
       "      <th class=\"col_heading level0 col0\" >0.0</th>\n",
       "      <th class=\"col_heading level0 col1\" >0.05</th>\n",
       "      <th class=\"col_heading level0 col2\" >0.1</th>\n",
       "      <th class=\"col_heading level0 col3\" >0.15</th>\n",
       "      <th class=\"col_heading level0 col4\" >0.2</th>\n",
       "      <th class=\"col_heading level0 col5\" >0.25</th>\n",
       "      <th class=\"col_heading level0 col6\" >0.3</th>\n",
       "      <th class=\"col_heading level0 col7\" >0.35</th>\n",
       "      <th class=\"col_heading level0 col8\" >0.4</th>\n",
       "      <th class=\"col_heading level0 col9\" >0.45</th>\n",
       "      <th class=\"col_heading level0 col10\" >0.5</th>\n",
       "      <th class=\"col_heading level0 col11\" >0.55</th>\n",
       "      <th class=\"col_heading level0 col12\" >0.6</th>\n",
       "      <th class=\"col_heading level0 col13\" >0.65</th>\n",
       "      <th class=\"col_heading level0 col14\" >0.7</th>\n",
       "      <th class=\"col_heading level0 col15\" >0.75</th>\n",
       "      <th class=\"col_heading level0 col16\" >0.8</th>\n",
       "      <th class=\"col_heading level0 col17\" >0.85</th>\n",
       "      <th class=\"col_heading level0 col18\" >0.9</th>\n",
       "      <th class=\"col_heading level0 col19\" >0.95</th>\n",
       "      <th class=\"col_heading level0 col20\" >1.0</th>\n",
       "    </tr>\n",
       "  </thead>\n",
       "  <tbody>\n",
       "    <tr>\n",
       "      <th id=\"T_95a9e_level0_row0\" class=\"row_heading level0 row0\" >ResNet</th>\n",
       "      <td id=\"T_95a9e_row0_col0\" class=\"data row0 col0\" >0.875000</td>\n",
       "      <td id=\"T_95a9e_row0_col1\" class=\"data row0 col1\" >0.875000</td>\n",
       "      <td id=\"T_95a9e_row0_col2\" class=\"data row0 col2\" >0.875000</td>\n",
       "      <td id=\"T_95a9e_row0_col3\" class=\"data row0 col3\" >0.876000</td>\n",
       "      <td id=\"T_95a9e_row0_col4\" class=\"data row0 col4\" >0.876000</td>\n",
       "      <td id=\"T_95a9e_row0_col5\" class=\"data row0 col5\" >0.878000</td>\n",
       "      <td id=\"T_95a9e_row0_col6\" class=\"data row0 col6\" >0.876000</td>\n",
       "      <td id=\"T_95a9e_row0_col7\" class=\"data row0 col7\" >0.876000</td>\n",
       "      <td id=\"T_95a9e_row0_col8\" class=\"data row0 col8\" >0.879000</td>\n",
       "      <td id=\"T_95a9e_row0_col9\" class=\"data row0 col9\" >0.881000</td>\n",
       "      <td id=\"T_95a9e_row0_col10\" class=\"data row0 col10\" >0.887000</td>\n",
       "      <td id=\"T_95a9e_row0_col11\" class=\"data row0 col11\" >0.888000</td>\n",
       "      <td id=\"T_95a9e_row0_col12\" class=\"data row0 col12\" >0.882000</td>\n",
       "      <td id=\"T_95a9e_row0_col13\" class=\"data row0 col13\" >0.884000</td>\n",
       "      <td id=\"T_95a9e_row0_col14\" class=\"data row0 col14\" >0.868000</td>\n",
       "      <td id=\"T_95a9e_row0_col15\" class=\"data row0 col15\" >0.855000</td>\n",
       "      <td id=\"T_95a9e_row0_col16\" class=\"data row0 col16\" >0.844000</td>\n",
       "      <td id=\"T_95a9e_row0_col17\" class=\"data row0 col17\" >0.818000</td>\n",
       "      <td id=\"T_95a9e_row0_col18\" class=\"data row0 col18\" >0.789000</td>\n",
       "      <td id=\"T_95a9e_row0_col19\" class=\"data row0 col19\" >0.690000</td>\n",
       "      <td id=\"T_95a9e_row0_col20\" class=\"data row0 col20\" >0.125000</td>\n",
       "    </tr>\n",
       "    <tr>\n",
       "      <th id=\"T_95a9e_level0_row1\" class=\"row_heading level0 row1\" >KNN</th>\n",
       "      <td id=\"T_95a9e_row1_col0\" class=\"data row1 col0\" >0.866000</td>\n",
       "      <td id=\"T_95a9e_row1_col1\" class=\"data row1 col1\" >0.866000</td>\n",
       "      <td id=\"T_95a9e_row1_col2\" class=\"data row1 col2\" >0.866000</td>\n",
       "      <td id=\"T_95a9e_row1_col3\" class=\"data row1 col3\" >0.866000</td>\n",
       "      <td id=\"T_95a9e_row1_col4\" class=\"data row1 col4\" >0.866000</td>\n",
       "      <td id=\"T_95a9e_row1_col5\" class=\"data row1 col5\" >0.867000</td>\n",
       "      <td id=\"T_95a9e_row1_col6\" class=\"data row1 col6\" >0.882000</td>\n",
       "      <td id=\"T_95a9e_row1_col7\" class=\"data row1 col7\" >0.891000</td>\n",
       "      <td id=\"T_95a9e_row1_col8\" class=\"data row1 col8\" >0.891000</td>\n",
       "      <td id=\"T_95a9e_row1_col9\" class=\"data row1 col9\" >0.891000</td>\n",
       "      <td id=\"T_95a9e_row1_col10\" class=\"data row1 col10\" >0.877000</td>\n",
       "      <td id=\"T_95a9e_row1_col11\" class=\"data row1 col11\" >0.862000</td>\n",
       "      <td id=\"T_95a9e_row1_col12\" class=\"data row1 col12\" >0.827000</td>\n",
       "      <td id=\"T_95a9e_row1_col13\" class=\"data row1 col13\" >0.827000</td>\n",
       "      <td id=\"T_95a9e_row1_col14\" class=\"data row1 col14\" >0.743000</td>\n",
       "      <td id=\"T_95a9e_row1_col15\" class=\"data row1 col15\" >0.743000</td>\n",
       "      <td id=\"T_95a9e_row1_col16\" class=\"data row1 col16\" >0.687000</td>\n",
       "      <td id=\"T_95a9e_row1_col17\" class=\"data row1 col17\" >0.567000</td>\n",
       "      <td id=\"T_95a9e_row1_col18\" class=\"data row1 col18\" >0.567000</td>\n",
       "      <td id=\"T_95a9e_row1_col19\" class=\"data row1 col19\" >0.422000</td>\n",
       "      <td id=\"T_95a9e_row1_col20\" class=\"data row1 col20\" >0.422000</td>\n",
       "    </tr>\n",
       "    <tr>\n",
       "      <th id=\"T_95a9e_level0_row2\" class=\"row_heading level0 row2\" >EMD</th>\n",
       "      <td id=\"T_95a9e_row2_col0\" class=\"data row2 col0\" >0.846000</td>\n",
       "      <td id=\"T_95a9e_row2_col1\" class=\"data row2 col1\" >0.846000</td>\n",
       "      <td id=\"T_95a9e_row2_col2\" class=\"data row2 col2\" >0.846000</td>\n",
       "      <td id=\"T_95a9e_row2_col3\" class=\"data row2 col3\" >0.849000</td>\n",
       "      <td id=\"T_95a9e_row2_col4\" class=\"data row2 col4\" >0.849000</td>\n",
       "      <td id=\"T_95a9e_row2_col5\" class=\"data row2 col5\" >0.849000</td>\n",
       "      <td id=\"T_95a9e_row2_col6\" class=\"data row2 col6\" >0.863000</td>\n",
       "      <td id=\"T_95a9e_row2_col7\" class=\"data row2 col7\" >0.863000</td>\n",
       "      <td id=\"T_95a9e_row2_col8\" class=\"data row2 col8\" >0.863000</td>\n",
       "      <td id=\"T_95a9e_row2_col9\" class=\"data row2 col9\" >0.869000</td>\n",
       "      <td id=\"T_95a9e_row2_col10\" class=\"data row2 col10\" >0.863000</td>\n",
       "      <td id=\"T_95a9e_row2_col11\" class=\"data row2 col11\" >0.845000</td>\n",
       "      <td id=\"T_95a9e_row2_col12\" class=\"data row2 col12\" >0.782000</td>\n",
       "      <td id=\"T_95a9e_row2_col13\" class=\"data row2 col13\" >0.782000</td>\n",
       "      <td id=\"T_95a9e_row2_col14\" class=\"data row2 col14\" >0.711000</td>\n",
       "      <td id=\"T_95a9e_row2_col15\" class=\"data row2 col15\" >0.711000</td>\n",
       "      <td id=\"T_95a9e_row2_col16\" class=\"data row2 col16\" >0.644000</td>\n",
       "      <td id=\"T_95a9e_row2_col17\" class=\"data row2 col17\" >0.539000</td>\n",
       "      <td id=\"T_95a9e_row2_col18\" class=\"data row2 col18\" >0.539000</td>\n",
       "      <td id=\"T_95a9e_row2_col19\" class=\"data row2 col19\" >0.335000</td>\n",
       "      <td id=\"T_95a9e_row2_col20\" class=\"data row2 col20\" >0.335000</td>\n",
       "    </tr>\n",
       "    <tr>\n",
       "      <th id=\"T_95a9e_level0_row3\" class=\"row_heading level0 row3\" >CHM</th>\n",
       "      <td id=\"T_95a9e_row3_col0\" class=\"data row3 col0\" >0.832000</td>\n",
       "      <td id=\"T_95a9e_row3_col1\" class=\"data row3 col1\" >0.832000</td>\n",
       "      <td id=\"T_95a9e_row3_col2\" class=\"data row3 col2\" >0.832000</td>\n",
       "      <td id=\"T_95a9e_row3_col3\" class=\"data row3 col3\" >0.833000</td>\n",
       "      <td id=\"T_95a9e_row3_col4\" class=\"data row3 col4\" >0.833000</td>\n",
       "      <td id=\"T_95a9e_row3_col5\" class=\"data row3 col5\" >0.835000</td>\n",
       "      <td id=\"T_95a9e_row3_col6\" class=\"data row3 col6\" >0.854000</td>\n",
       "      <td id=\"T_95a9e_row3_col7\" class=\"data row3 col7\" >0.855000</td>\n",
       "      <td id=\"T_95a9e_row3_col8\" class=\"data row3 col8\" >0.855000</td>\n",
       "      <td id=\"T_95a9e_row3_col9\" class=\"data row3 col9\" >0.868000</td>\n",
       "      <td id=\"T_95a9e_row3_col10\" class=\"data row3 col10\" >0.855000</td>\n",
       "      <td id=\"T_95a9e_row3_col11\" class=\"data row3 col11\" >0.832000</td>\n",
       "      <td id=\"T_95a9e_row3_col12\" class=\"data row3 col12\" >0.752000</td>\n",
       "      <td id=\"T_95a9e_row3_col13\" class=\"data row3 col13\" >0.752000</td>\n",
       "      <td id=\"T_95a9e_row3_col14\" class=\"data row3 col14\" >0.649000</td>\n",
       "      <td id=\"T_95a9e_row3_col15\" class=\"data row3 col15\" >0.649000</td>\n",
       "      <td id=\"T_95a9e_row3_col16\" class=\"data row3 col16\" >0.589000</td>\n",
       "      <td id=\"T_95a9e_row3_col17\" class=\"data row3 col17\" >0.435000</td>\n",
       "      <td id=\"T_95a9e_row3_col18\" class=\"data row3 col18\" >0.435000</td>\n",
       "      <td id=\"T_95a9e_row3_col19\" class=\"data row3 col19\" >0.270000</td>\n",
       "      <td id=\"T_95a9e_row3_col20\" class=\"data row3 col20\" >0.270000</td>\n",
       "    </tr>\n",
       "  </tbody>\n",
       "</table>\n"
      ],
      "text/plain": [
       "<pandas.io.formats.style.Styler at 0x13f760fd0>"
      ]
     },
     "execution_count": 71,
     "metadata": {},
     "output_type": "execute_result"
    }
   ],
   "source": [
    "# 1K Fine-tuning\n",
    "pd.DataFrame(TAnalysis_T_CUB).T.style.highlight_max(color = 'yellow', axis = 1)"
   ]
  },
  {
   "cell_type": "code",
   "execution_count": 72,
   "id": "9a79b581-5256-4531-9c6b-f5c66278ff8c",
   "metadata": {
    "pycharm": {
     "name": "#%%\n"
    }
   },
   "outputs": [
    {
     "data": {
      "text/html": [
       "<div>\n",
       "<style scoped>\n",
       "    .dataframe tbody tr th:only-of-type {\n",
       "        vertical-align: middle;\n",
       "    }\n",
       "\n",
       "    .dataframe tbody tr th {\n",
       "        vertical-align: top;\n",
       "    }\n",
       "\n",
       "    .dataframe thead th {\n",
       "        text-align: right;\n",
       "    }\n",
       "</style>\n",
       "<table border=\"1\" class=\"dataframe\">\n",
       "  <thead>\n",
       "    <tr style=\"text-align: right;\">\n",
       "      <th></th>\n",
       "      <th>0.35</th>\n",
       "      <th>0.40</th>\n",
       "      <th>0.45</th>\n",
       "      <th>0.50</th>\n",
       "      <th>0.55</th>\n",
       "    </tr>\n",
       "  </thead>\n",
       "  <tbody>\n",
       "    <tr>\n",
       "      <th>ResNet</th>\n",
       "      <td>86.399666</td>\n",
       "      <td>86.691698</td>\n",
       "      <td>86.921151</td>\n",
       "      <td>87.129746</td>\n",
       "      <td>87.380058</td>\n",
       "    </tr>\n",
       "    <tr>\n",
       "      <th>KNN</th>\n",
       "      <td>87.380058</td>\n",
       "      <td>87.380058</td>\n",
       "      <td>87.400918</td>\n",
       "      <td>87.359199</td>\n",
       "      <td>85.690446</td>\n",
       "    </tr>\n",
       "    <tr>\n",
       "      <th>EMD</th>\n",
       "      <td>87.088027</td>\n",
       "      <td>87.088027</td>\n",
       "      <td>86.879433</td>\n",
       "      <td>86.211932</td>\n",
       "      <td>84.668335</td>\n",
       "    </tr>\n",
       "    <tr>\n",
       "      <th>CHM</th>\n",
       "      <td>85.377555</td>\n",
       "      <td>85.377555</td>\n",
       "      <td>85.481852</td>\n",
       "      <td>84.355444</td>\n",
       "      <td>82.165207</td>\n",
       "    </tr>\n",
       "  </tbody>\n",
       "</table>\n",
       "</div>"
      ],
      "text/plain": [
       "             0.35       0.40       0.45       0.50       0.55\n",
       "ResNet  86.399666  86.691698  86.921151  87.129746  87.380058\n",
       "KNN     87.380058  87.380058  87.400918  87.359199  85.690446\n",
       "EMD     87.088027  87.088027  86.879433  86.211932  84.668335\n",
       "CHM     85.377555  85.377555  85.481852  84.355444  82.165207"
      ]
     },
     "execution_count": 72,
     "metadata": {},
     "output_type": "execute_result"
    }
   ],
   "source": [
    "# 4K Test PREVIEW\n",
    "pd.DataFrame(TAnalysis_V_CUB).T.loc[:, 0.35:0.55]*100"
   ]
  },
  {
   "cell_type": "code",
   "execution_count": 73,
   "metadata": {},
   "outputs": [],
   "source": [
    "optimal_t = pd.DataFrame(TAnalysis_T_CUB).T.idxmax(axis=1)"
   ]
  },
  {
   "cell_type": "code",
   "execution_count": 74,
   "metadata": {},
   "outputs": [
    {
     "data": {
      "text/plain": [
       "ResNet    0.55\n",
       "KNN       0.35\n",
       "EMD       0.45\n",
       "CHM       0.45\n",
       "dtype: float64"
      ]
     },
     "execution_count": 74,
     "metadata": {},
     "output_type": "execute_result"
    }
   ],
   "source": [
    "optimal_t"
   ]
  },
  {
   "cell_type": "code",
   "execution_count": 75,
   "metadata": {},
   "outputs": [
    {
     "name": "stderr",
     "output_type": "stream",
     "text": [
      "/var/folders/gs/ftfl94c117q3mq9rqwfnx1mc0000gn/T/ipykernel_53459/1938729335.py:2: FutureWarning: Support for multi-dimensional indexing (e.g. `obj[:, None]`) is deprecated and will be removed in a future version.  Convert to a numpy array before indexing instead.\n",
      "  max_indices = np.where(tdf == tdf.max(axis=1)[:, np.newaxis], tdf.columns, None)\n"
     ]
    },
    {
     "data": {
      "text/plain": [
       "array([0.55, 0.45, 0.45, 0.45], dtype=object)"
      ]
     },
     "execution_count": 75,
     "metadata": {},
     "output_type": "execute_result"
    }
   ],
   "source": [
    "tdf = pd.DataFrame(TAnalysis_T_CUB).T\n",
    "max_indices = np.where(tdf == tdf.max(axis=1)[:, np.newaxis], tdf.columns, None)\n",
    "max_indices = np.where(max_indices == None, -1, max_indices)\n",
    "max_indices =  np.amax(max_indices, axis=1)\n",
    "max_indices"
   ]
  },
  {
   "cell_type": "code",
   "execution_count": 76,
   "metadata": {},
   "outputs": [
    {
     "data": {
      "text/plain": [
       "ResNet    0.55\n",
       "KNN       0.45\n",
       "EMD       0.45\n",
       "CHM       0.45\n",
       "dtype: object"
      ]
     },
     "execution_count": 76,
     "metadata": {},
     "output_type": "execute_result"
    }
   ],
   "source": [
    "# clone optimal_t but with values of max_indices\n",
    "optima_t_max = optimal_t.copy()\n",
    "optima_t_max[:] = max_indices\n",
    "optima_t_max"
   ]
  },
  {
   "cell_type": "code",
   "execution_count": 77,
   "metadata": {},
   "outputs": [],
   "source": [
    "optimal_t = optima_t_max"
   ]
  },
  {
   "cell_type": "code",
   "execution_count": 78,
   "metadata": {},
   "outputs": [],
   "source": [
    "df = pd.DataFrame(TAnalysis_V_CUB).loc[optimal_t, :]\n",
    "# pick diagonal\n",
    "ai_performance_values = df.to_numpy()[np.arange(4), np.arange(4)]*100"
   ]
  },
  {
   "cell_type": "code",
   "execution_count": 79,
   "metadata": {},
   "outputs": [],
   "source": [
    "ai_performance_df = pd.DataFrame(ai_performance_values, index=optimal_t.index, columns=['AI Performance'])"
   ]
  },
  {
   "cell_type": "markdown",
   "metadata": {},
   "source": [
    "## Final Table for AI Performance"
   ]
  },
  {
   "cell_type": "code",
   "execution_count": 80,
   "metadata": {},
   "outputs": [
    {
     "data": {
      "text/html": [
       "<div>\n",
       "<style scoped>\n",
       "    .dataframe tbody tr th:only-of-type {\n",
       "        vertical-align: middle;\n",
       "    }\n",
       "\n",
       "    .dataframe tbody tr th {\n",
       "        vertical-align: top;\n",
       "    }\n",
       "\n",
       "    .dataframe thead th {\n",
       "        text-align: right;\n",
       "    }\n",
       "</style>\n",
       "<table border=\"1\" class=\"dataframe\">\n",
       "  <thead>\n",
       "    <tr style=\"text-align: right;\">\n",
       "      <th></th>\n",
       "      <th>AI Performance</th>\n",
       "    </tr>\n",
       "  </thead>\n",
       "  <tbody>\n",
       "    <tr>\n",
       "      <th>ResNet</th>\n",
       "      <td>87.38</td>\n",
       "    </tr>\n",
       "    <tr>\n",
       "      <th>KNN</th>\n",
       "      <td>87.40</td>\n",
       "    </tr>\n",
       "    <tr>\n",
       "      <th>EMD</th>\n",
       "      <td>86.88</td>\n",
       "    </tr>\n",
       "    <tr>\n",
       "      <th>CHM</th>\n",
       "      <td>85.48</td>\n",
       "    </tr>\n",
       "  </tbody>\n",
       "</table>\n",
       "</div>"
      ],
      "text/plain": [
       "        AI Performance\n",
       "ResNet           87.38\n",
       "KNN              87.40\n",
       "EMD              86.88\n",
       "CHM              85.48"
      ]
     },
     "execution_count": 80,
     "metadata": {},
     "output_type": "execute_result"
    }
   ],
   "source": [
    "ai_performance_df.round(2) # Final Table for AI Performance"
   ]
  },
  {
   "cell_type": "code",
   "execution_count": null,
   "metadata": {},
   "outputs": [],
   "source": []
  },
  {
   "cell_type": "code",
   "execution_count": null,
   "metadata": {},
   "outputs": [],
   "source": []
  },
  {
   "cell_type": "markdown",
   "id": "e00048e8-e924-448c-9764-1f83239a4125",
   "metadata": {
    "pycharm": {
     "name": "#%% md\n"
    }
   },
   "source": [
    "# Human-AI Team Performance"
   ]
  },
  {
   "cell_type": "markdown",
   "id": "fe093888-e756-4110-9713-ed5ce2dd8722",
   "metadata": {
    "pycharm": {
     "name": "#%% md\n"
    }
   },
   "source": [
    "###  Load summary fo AI Performance"
   ]
  },
  {
   "cell_type": "code",
   "execution_count": 81,
   "id": "16c45e19-4922-490d-be6a-c1bb963aeb2f",
   "metadata": {
    "pycharm": {
     "name": "#%%\n"
    }
   },
   "outputs": [],
   "source": [
    "random.seed(42)\n",
    "\n",
    "with open(\"../data/Classification-Summary-CUB.pickle\", \"rb\") as f:\n",
    "    classification_summary_cub = pickle.load(f)"
   ]
  },
  {
   "cell_type": "code",
   "execution_count": 82,
   "id": "7df65cbb-1b3f-4d11-a936-4914fd191a00",
   "metadata": {
    "pycharm": {
     "name": "#%%\n"
    }
   },
   "outputs": [
    {
     "data": {
      "text/plain": [
       "dict_keys(['GT', 'resnet_pred', 'knn_pred', 'emd_pred', 'chm_pred', 'resnet_wnid', 'knn_wnid', 'emd_wnid', 'chm_wnid', 'resnet_conf', 'knn_conf', 'emd_conf', 'chm_conf'])"
      ]
     },
     "execution_count": 82,
     "metadata": {},
     "output_type": "execute_result"
    }
   ],
   "source": [
    "classification_summary_cub.keys()"
   ]
  },
  {
   "cell_type": "markdown",
   "id": "ca19a52e-b0e2-491d-9cb3-55da0647ada3",
   "metadata": {
    "pycharm": {
     "name": "#%% md\n"
    }
   },
   "source": [
    "### Unpacking"
   ]
  },
  {
   "cell_type": "code",
   "execution_count": 83,
   "id": "85b4d08b-baf9-47e8-842c-d71db88fa645",
   "metadata": {
    "pycharm": {
     "name": "#%%\n"
    }
   },
   "outputs": [],
   "source": [
    "GT_CUB = classification_summary_cub[\"GT\"]\n",
    "\n",
    "M1Prediction_CUB = classification_summary_cub[\"resnet_pred\"]\n",
    "M2Prediction_CUB = classification_summary_cub[\"knn_pred\"]\n",
    "M3Prediction_CUB = classification_summary_cub[\"emd_pred\"]\n",
    "M4Prediction_CUB = classification_summary_cub[\"chm_pred\"]\n",
    "\n",
    "IsM1Correct_CUB = np.asarray(classification_summary_cub[\"resnet_wnid\"])\n",
    "IsM2Correct_CUB = np.asarray(classification_summary_cub[\"knn_wnid\"])\n",
    "IsM3Correct_CUB = np.asarray(classification_summary_cub[\"emd_wnid\"])\n",
    "IsM4Correct_CUB = np.asarray(classification_summary_cub[\"chm_wnid\"])\n",
    "\n",
    "M1Conf_CUB = np.asarray(classification_summary_cub[\"resnet_conf\"])\n",
    "M2Conf_CUB = np.asarray(classification_summary_cub[\"knn_conf\"])\n",
    "M3Conf_CUB = np.asarray(classification_summary_cub[\"emd_conf\"])\n",
    "M4Conf_CUB = np.asarray(classification_summary_cub[\"chm_conf\"])"
   ]
  },
  {
   "cell_type": "markdown",
   "id": "9844834d-56cf-48d7-a396-03fb319bac13",
   "metadata": {
    "pycharm": {
     "name": "#%% md\n"
    }
   },
   "source": [
    "## AI Performance Analysis"
   ]
  },
  {
   "cell_type": "code",
   "execution_count": 84,
   "id": "06278151-6172-4413-b767-9b9fdbc8e2d7",
   "metadata": {
    "pycharm": {
     "name": "#%%\n"
    }
   },
   "outputs": [
    {
     "name": "stdout",
     "output_type": "stream",
     "text": [
      "Done\n"
     ]
    },
    {
     "name": "stderr",
     "output_type": "stream",
     "text": [
      "/opt/homebrew/Caskroom/miniforge/base/envs/deep36/lib/python3.8/site-packages/numpy/core/fromnumeric.py:3432: RuntimeWarning: Mean of empty slice.\n",
      "  return _methods._mean(a, axis=axis, dtype=dtype,\n",
      "/opt/homebrew/Caskroom/miniforge/base/envs/deep36/lib/python3.8/site-packages/numpy/core/_methods.py:190: RuntimeWarning: invalid value encountered in double_scalars\n",
      "  ret = ret.dtype.type(ret / rcount)\n"
     ]
    }
   ],
   "source": [
    "MethodName = [\"ResNet\", \"KNN\", \"EMD\", \"CHM\"]\n",
    "Methods = [IsM1Correct_CUB, IsM2Correct_CUB, IsM3Correct_CUB, IsM4Correct_CUB]\n",
    "Confs = [M1Conf_CUB, M2Conf_CUB, M3Conf_CUB, M4Conf_CUB]\n",
    "\n",
    "TAnalysis = {}\n",
    "TCount = {}\n",
    "\n",
    "for N, M, C in zip(MethodName, Methods, Confs):\n",
    "    TAnalysis[N] = {}\n",
    "    TCount[N] = {}\n",
    "\n",
    "    for T in np.arange(0.0, 1.05, 0.05):\n",
    "        TAnalysis[N][round(T, 2)] = np.mean(M[C >= T])\n",
    "        TCount[N][round(T, 2)] = len(M[C >= T])\n",
    "\n",
    "\n",
    "ai_df = pd.DataFrame(TAnalysis)\n",
    "print(\"Done\")"
   ]
  },
  {
   "cell_type": "markdown",
   "id": "15794ea0-f81d-48db-b0db-d76faa02b1ac",
   "metadata": {
    "pycharm": {
     "name": "#%% md\n"
    }
   },
   "source": [
    "## Number of Images "
   ]
  },
  {
   "cell_type": "code",
   "execution_count": 85,
   "id": "3cbfef6c-9cda-425a-8db0-0b29c9dd220e",
   "metadata": {
    "pycharm": {
     "name": "#%%\n"
    }
   },
   "outputs": [
    {
     "data": {
      "text/html": [
       "<div>\n",
       "<style scoped>\n",
       "    .dataframe tbody tr th:only-of-type {\n",
       "        vertical-align: middle;\n",
       "    }\n",
       "\n",
       "    .dataframe tbody tr th {\n",
       "        vertical-align: top;\n",
       "    }\n",
       "\n",
       "    .dataframe thead th {\n",
       "        text-align: right;\n",
       "    }\n",
       "</style>\n",
       "<table border=\"1\" class=\"dataframe\">\n",
       "  <thead>\n",
       "    <tr style=\"text-align: right;\">\n",
       "      <th></th>\n",
       "      <th>ResNet</th>\n",
       "      <th>KNN</th>\n",
       "      <th>EMD</th>\n",
       "      <th>CHM</th>\n",
       "    </tr>\n",
       "  </thead>\n",
       "  <tbody>\n",
       "    <tr>\n",
       "      <th>0.00</th>\n",
       "      <td>5794</td>\n",
       "      <td>5794</td>\n",
       "      <td>5794</td>\n",
       "      <td>5794</td>\n",
       "    </tr>\n",
       "    <tr>\n",
       "      <th>0.05</th>\n",
       "      <td>5794</td>\n",
       "      <td>5794</td>\n",
       "      <td>5794</td>\n",
       "      <td>5794</td>\n",
       "    </tr>\n",
       "    <tr>\n",
       "      <th>0.10</th>\n",
       "      <td>5794</td>\n",
       "      <td>5794</td>\n",
       "      <td>5794</td>\n",
       "      <td>5794</td>\n",
       "    </tr>\n",
       "    <tr>\n",
       "      <th>0.15</th>\n",
       "      <td>5789</td>\n",
       "      <td>5786</td>\n",
       "      <td>5783</td>\n",
       "      <td>5786</td>\n",
       "    </tr>\n",
       "    <tr>\n",
       "      <th>0.20</th>\n",
       "      <td>5777</td>\n",
       "      <td>5786</td>\n",
       "      <td>5783</td>\n",
       "      <td>5786</td>\n",
       "    </tr>\n",
       "    <tr>\n",
       "      <th>0.25</th>\n",
       "      <td>5759</td>\n",
       "      <td>5772</td>\n",
       "      <td>5765</td>\n",
       "      <td>5766</td>\n",
       "    </tr>\n",
       "    <tr>\n",
       "      <th>0.30</th>\n",
       "      <td>5729</td>\n",
       "      <td>5632</td>\n",
       "      <td>5591</td>\n",
       "      <td>5550</td>\n",
       "    </tr>\n",
       "    <tr>\n",
       "      <th>0.35</th>\n",
       "      <td>5689</td>\n",
       "      <td>5478</td>\n",
       "      <td>5428</td>\n",
       "      <td>5341</td>\n",
       "    </tr>\n",
       "    <tr>\n",
       "      <th>0.40</th>\n",
       "      <td>5646</td>\n",
       "      <td>5478</td>\n",
       "      <td>5428</td>\n",
       "      <td>5341</td>\n",
       "    </tr>\n",
       "    <tr>\n",
       "      <th>0.45</th>\n",
       "      <td>5563</td>\n",
       "      <td>5281</td>\n",
       "      <td>5180</td>\n",
       "      <td>5043</td>\n",
       "    </tr>\n",
       "    <tr>\n",
       "      <th>0.50</th>\n",
       "      <td>5465</td>\n",
       "      <td>5025</td>\n",
       "      <td>4866</td>\n",
       "      <td>4700</td>\n",
       "    </tr>\n",
       "    <tr>\n",
       "      <th>0.55</th>\n",
       "      <td>5340</td>\n",
       "      <td>4694</td>\n",
       "      <td>4536</td>\n",
       "      <td>4304</td>\n",
       "    </tr>\n",
       "    <tr>\n",
       "      <th>0.60</th>\n",
       "      <td>5184</td>\n",
       "      <td>4144</td>\n",
       "      <td>3967</td>\n",
       "      <td>3527</td>\n",
       "    </tr>\n",
       "    <tr>\n",
       "      <th>0.65</th>\n",
       "      <td>5080</td>\n",
       "      <td>4144</td>\n",
       "      <td>3967</td>\n",
       "      <td>3527</td>\n",
       "    </tr>\n",
       "    <tr>\n",
       "      <th>0.70</th>\n",
       "      <td>4907</td>\n",
       "      <td>3601</td>\n",
       "      <td>3358</td>\n",
       "      <td>2806</td>\n",
       "    </tr>\n",
       "    <tr>\n",
       "      <th>0.75</th>\n",
       "      <td>4781</td>\n",
       "      <td>3601</td>\n",
       "      <td>3358</td>\n",
       "      <td>2806</td>\n",
       "    </tr>\n",
       "    <tr>\n",
       "      <th>0.80</th>\n",
       "      <td>4601</td>\n",
       "      <td>3295</td>\n",
       "      <td>3007</td>\n",
       "      <td>2397</td>\n",
       "    </tr>\n",
       "    <tr>\n",
       "      <th>0.85</th>\n",
       "      <td>4375</td>\n",
       "      <td>2636</td>\n",
       "      <td>2299</td>\n",
       "      <td>1478</td>\n",
       "    </tr>\n",
       "    <tr>\n",
       "      <th>0.90</th>\n",
       "      <td>4165</td>\n",
       "      <td>2636</td>\n",
       "      <td>2299</td>\n",
       "      <td>1478</td>\n",
       "    </tr>\n",
       "    <tr>\n",
       "      <th>0.95</th>\n",
       "      <td>3539</td>\n",
       "      <td>1656</td>\n",
       "      <td>1134</td>\n",
       "      <td>549</td>\n",
       "    </tr>\n",
       "    <tr>\n",
       "      <th>1.00</th>\n",
       "      <td>0</td>\n",
       "      <td>1656</td>\n",
       "      <td>1134</td>\n",
       "      <td>549</td>\n",
       "    </tr>\n",
       "  </tbody>\n",
       "</table>\n",
       "</div>"
      ],
      "text/plain": [
       "      ResNet   KNN   EMD   CHM\n",
       "0.00    5794  5794  5794  5794\n",
       "0.05    5794  5794  5794  5794\n",
       "0.10    5794  5794  5794  5794\n",
       "0.15    5789  5786  5783  5786\n",
       "0.20    5777  5786  5783  5786\n",
       "0.25    5759  5772  5765  5766\n",
       "0.30    5729  5632  5591  5550\n",
       "0.35    5689  5478  5428  5341\n",
       "0.40    5646  5478  5428  5341\n",
       "0.45    5563  5281  5180  5043\n",
       "0.50    5465  5025  4866  4700\n",
       "0.55    5340  4694  4536  4304\n",
       "0.60    5184  4144  3967  3527\n",
       "0.65    5080  4144  3967  3527\n",
       "0.70    4907  3601  3358  2806\n",
       "0.75    4781  3601  3358  2806\n",
       "0.80    4601  3295  3007  2397\n",
       "0.85    4375  2636  2299  1478\n",
       "0.90    4165  2636  2299  1478\n",
       "0.95    3539  1656  1134   549\n",
       "1.00       0  1656  1134   549"
      ]
     },
     "execution_count": 85,
     "metadata": {},
     "output_type": "execute_result"
    }
   ],
   "source": [
    "# Number of Images\n",
    "count_df = pd.DataFrame(TCount)\n",
    "count_df"
   ]
  },
  {
   "cell_type": "markdown",
   "id": "e4304509-f35f-4e2e-a161-1c50bd9f80d7",
   "metadata": {
    "pycharm": {
     "name": "#%% md\n"
    },
    "tags": []
   },
   "source": [
    "## Ratios (out of `5794` Images)"
   ]
  },
  {
   "cell_type": "code",
   "execution_count": 86,
   "id": "890887ca-a553-4e44-8a15-477b78c9f596",
   "metadata": {
    "pycharm": {
     "name": "#%%\n"
    }
   },
   "outputs": [
    {
     "data": {
      "text/html": [
       "<div>\n",
       "<style scoped>\n",
       "    .dataframe tbody tr th:only-of-type {\n",
       "        vertical-align: middle;\n",
       "    }\n",
       "\n",
       "    .dataframe tbody tr th {\n",
       "        vertical-align: top;\n",
       "    }\n",
       "\n",
       "    .dataframe thead th {\n",
       "        text-align: right;\n",
       "    }\n",
       "</style>\n",
       "<table border=\"1\" class=\"dataframe\">\n",
       "  <thead>\n",
       "    <tr style=\"text-align: right;\">\n",
       "      <th></th>\n",
       "      <th>ResNet</th>\n",
       "      <th>KNN</th>\n",
       "      <th>EMD</th>\n",
       "      <th>CHM</th>\n",
       "    </tr>\n",
       "  </thead>\n",
       "  <tbody>\n",
       "    <tr>\n",
       "      <th>0.00</th>\n",
       "      <td>1.000000</td>\n",
       "      <td>1.000000</td>\n",
       "      <td>1.000000</td>\n",
       "      <td>1.000000</td>\n",
       "    </tr>\n",
       "    <tr>\n",
       "      <th>0.05</th>\n",
       "      <td>1.000000</td>\n",
       "      <td>1.000000</td>\n",
       "      <td>1.000000</td>\n",
       "      <td>1.000000</td>\n",
       "    </tr>\n",
       "    <tr>\n",
       "      <th>0.10</th>\n",
       "      <td>1.000000</td>\n",
       "      <td>1.000000</td>\n",
       "      <td>1.000000</td>\n",
       "      <td>1.000000</td>\n",
       "    </tr>\n",
       "    <tr>\n",
       "      <th>0.15</th>\n",
       "      <td>0.999137</td>\n",
       "      <td>0.998619</td>\n",
       "      <td>0.998101</td>\n",
       "      <td>0.998619</td>\n",
       "    </tr>\n",
       "    <tr>\n",
       "      <th>0.20</th>\n",
       "      <td>0.997066</td>\n",
       "      <td>0.998619</td>\n",
       "      <td>0.998101</td>\n",
       "      <td>0.998619</td>\n",
       "    </tr>\n",
       "    <tr>\n",
       "      <th>0.25</th>\n",
       "      <td>0.993959</td>\n",
       "      <td>0.996203</td>\n",
       "      <td>0.994995</td>\n",
       "      <td>0.995167</td>\n",
       "    </tr>\n",
       "    <tr>\n",
       "      <th>0.30</th>\n",
       "      <td>0.988781</td>\n",
       "      <td>0.972040</td>\n",
       "      <td>0.964964</td>\n",
       "      <td>0.957887</td>\n",
       "    </tr>\n",
       "    <tr>\n",
       "      <th>0.35</th>\n",
       "      <td>0.981878</td>\n",
       "      <td>0.945461</td>\n",
       "      <td>0.936831</td>\n",
       "      <td>0.921816</td>\n",
       "    </tr>\n",
       "    <tr>\n",
       "      <th>0.40</th>\n",
       "      <td>0.974456</td>\n",
       "      <td>0.945461</td>\n",
       "      <td>0.936831</td>\n",
       "      <td>0.921816</td>\n",
       "    </tr>\n",
       "    <tr>\n",
       "      <th>0.45</th>\n",
       "      <td>0.960131</td>\n",
       "      <td>0.911460</td>\n",
       "      <td>0.894028</td>\n",
       "      <td>0.870383</td>\n",
       "    </tr>\n",
       "    <tr>\n",
       "      <th>0.50</th>\n",
       "      <td>0.943217</td>\n",
       "      <td>0.867276</td>\n",
       "      <td>0.839834</td>\n",
       "      <td>0.811184</td>\n",
       "    </tr>\n",
       "    <tr>\n",
       "      <th>0.55</th>\n",
       "      <td>0.921643</td>\n",
       "      <td>0.810148</td>\n",
       "      <td>0.782879</td>\n",
       "      <td>0.742837</td>\n",
       "    </tr>\n",
       "    <tr>\n",
       "      <th>0.60</th>\n",
       "      <td>0.894719</td>\n",
       "      <td>0.715223</td>\n",
       "      <td>0.684674</td>\n",
       "      <td>0.608733</td>\n",
       "    </tr>\n",
       "    <tr>\n",
       "      <th>0.65</th>\n",
       "      <td>0.876769</td>\n",
       "      <td>0.715223</td>\n",
       "      <td>0.684674</td>\n",
       "      <td>0.608733</td>\n",
       "    </tr>\n",
       "    <tr>\n",
       "      <th>0.70</th>\n",
       "      <td>0.846911</td>\n",
       "      <td>0.621505</td>\n",
       "      <td>0.579565</td>\n",
       "      <td>0.484294</td>\n",
       "    </tr>\n",
       "    <tr>\n",
       "      <th>0.75</th>\n",
       "      <td>0.825164</td>\n",
       "      <td>0.621505</td>\n",
       "      <td>0.579565</td>\n",
       "      <td>0.484294</td>\n",
       "    </tr>\n",
       "    <tr>\n",
       "      <th>0.80</th>\n",
       "      <td>0.794097</td>\n",
       "      <td>0.568692</td>\n",
       "      <td>0.518985</td>\n",
       "      <td>0.413704</td>\n",
       "    </tr>\n",
       "    <tr>\n",
       "      <th>0.85</th>\n",
       "      <td>0.755091</td>\n",
       "      <td>0.454953</td>\n",
       "      <td>0.396790</td>\n",
       "      <td>0.255091</td>\n",
       "    </tr>\n",
       "    <tr>\n",
       "      <th>0.90</th>\n",
       "      <td>0.718847</td>\n",
       "      <td>0.454953</td>\n",
       "      <td>0.396790</td>\n",
       "      <td>0.255091</td>\n",
       "    </tr>\n",
       "    <tr>\n",
       "      <th>0.95</th>\n",
       "      <td>0.610804</td>\n",
       "      <td>0.285813</td>\n",
       "      <td>0.195720</td>\n",
       "      <td>0.094753</td>\n",
       "    </tr>\n",
       "    <tr>\n",
       "      <th>1.00</th>\n",
       "      <td>0.000000</td>\n",
       "      <td>0.285813</td>\n",
       "      <td>0.195720</td>\n",
       "      <td>0.094753</td>\n",
       "    </tr>\n",
       "  </tbody>\n",
       "</table>\n",
       "</div>"
      ],
      "text/plain": [
       "        ResNet       KNN       EMD       CHM\n",
       "0.00  1.000000  1.000000  1.000000  1.000000\n",
       "0.05  1.000000  1.000000  1.000000  1.000000\n",
       "0.10  1.000000  1.000000  1.000000  1.000000\n",
       "0.15  0.999137  0.998619  0.998101  0.998619\n",
       "0.20  0.997066  0.998619  0.998101  0.998619\n",
       "0.25  0.993959  0.996203  0.994995  0.995167\n",
       "0.30  0.988781  0.972040  0.964964  0.957887\n",
       "0.35  0.981878  0.945461  0.936831  0.921816\n",
       "0.40  0.974456  0.945461  0.936831  0.921816\n",
       "0.45  0.960131  0.911460  0.894028  0.870383\n",
       "0.50  0.943217  0.867276  0.839834  0.811184\n",
       "0.55  0.921643  0.810148  0.782879  0.742837\n",
       "0.60  0.894719  0.715223  0.684674  0.608733\n",
       "0.65  0.876769  0.715223  0.684674  0.608733\n",
       "0.70  0.846911  0.621505  0.579565  0.484294\n",
       "0.75  0.825164  0.621505  0.579565  0.484294\n",
       "0.80  0.794097  0.568692  0.518985  0.413704\n",
       "0.85  0.755091  0.454953  0.396790  0.255091\n",
       "0.90  0.718847  0.454953  0.396790  0.255091\n",
       "0.95  0.610804  0.285813  0.195720  0.094753\n",
       "1.00  0.000000  0.285813  0.195720  0.094753"
      ]
     },
     "execution_count": 86,
     "metadata": {},
     "output_type": "execute_result"
    }
   ],
   "source": [
    "# RATIOs (out of 5794 Images)\n",
    "ratio_df = pd.DataFrame(TCount) / len(GT_CUB)\n",
    "ratio_df"
   ]
  },
  {
   "cell_type": "markdown",
   "id": "d739cbdd-daad-463d-9545-507595fd034e",
   "metadata": {
    "pycharm": {
     "name": "#%% md\n"
    }
   },
   "source": [
    "## Human Performance Analysis"
   ]
  },
  {
   "cell_type": "code",
   "execution_count": 87,
   "id": "dec8ddef-6c05-4e9f-8f01-4bcd09ccd14e",
   "metadata": {
    "pycharm": {
     "name": "#%%\n"
    }
   },
   "outputs": [],
   "source": [
    "summary_df = pd.read_csv(\"../data/CUB-Human-Study-Summary.csv\")"
   ]
  },
  {
   "cell_type": "markdown",
   "id": "0d5f6b59-63fd-4629-8370-826b0964ea5e",
   "metadata": {
    "pycharm": {
     "name": "#%% md\n"
    }
   },
   "source": [
    "### Removing Bad Users \n",
    "\n"
   ]
  },
  {
   "cell_type": "code",
   "execution_count": 88,
   "id": "2f245874-79d0-4ae3-b492-dcf71ff49cc7",
   "metadata": {
    "pycharm": {
     "name": "#%%\n"
    }
   },
   "outputs": [
    {
     "name": "stdout",
     "output_type": "stream",
     "text": [
      "total 10860 entries\n"
     ]
    }
   ],
   "source": [
    "print(f\"total {len(summary_df)} entries\")"
   ]
  },
  {
   "cell_type": "code",
   "execution_count": 89,
   "id": "23a119b7-4e05-4bac-8d3a-369527d8e34a",
   "metadata": {
    "pycharm": {
     "name": "#%%\n"
    }
   },
   "outputs": [],
   "source": [
    "summary_df = summary_df.drop(summary_df[summary_df.Accuracy <= 0.5].index)"
   ]
  },
  {
   "cell_type": "code",
   "execution_count": 90,
   "metadata": {},
   "outputs": [
    {
     "data": {
      "text/html": [
       "<div>\n",
       "<style scoped>\n",
       "    .dataframe tbody tr th:only-of-type {\n",
       "        vertical-align: middle;\n",
       "    }\n",
       "\n",
       "    .dataframe tbody tr th {\n",
       "        vertical-align: top;\n",
       "    }\n",
       "\n",
       "    .dataframe thead th {\n",
       "        text-align: right;\n",
       "    }\n",
       "</style>\n",
       "<table border=\"1\" class=\"dataframe\">\n",
       "  <thead>\n",
       "    <tr style=\"text-align: right;\">\n",
       "      <th></th>\n",
       "      <th>UID</th>\n",
       "      <th>Query</th>\n",
       "      <th>Counter balance</th>\n",
       "      <th>Validation Reaction Time</th>\n",
       "      <th>Test Reaction Time</th>\n",
       "      <th>Date</th>\n",
       "      <th>Correctness</th>\n",
       "      <th>Accuracy</th>\n",
       "      <th>Total Corrects</th>\n",
       "      <th>Method</th>\n",
       "      <th>GroundTruth</th>\n",
       "      <th>ClassifierCorrectness</th>\n",
       "      <th>ConfidenceScore</th>\n",
       "      <th>DifficultyLevel</th>\n",
       "      <th>ResNet-Prediction</th>\n",
       "      <th>KNN-Prediction</th>\n",
       "      <th>EMD-Prediction</th>\n",
       "      <th>CHM-Prediction</th>\n",
       "      <th>ResNet-Conf</th>\n",
       "      <th>KNN-Conf</th>\n",
       "      <th>EMD-Conf</th>\n",
       "      <th>CHM-Conf</th>\n",
       "    </tr>\n",
       "  </thead>\n",
       "  <tbody>\n",
       "    <tr>\n",
       "      <th>0</th>\n",
       "      <td>5791dae225cb71000128ad5bNo-XAI</td>\n",
       "      <td>Hooded_Oriole_0105_90875.jpg</td>\n",
       "      <td>6</td>\n",
       "      <td>412124.0</td>\n",
       "      <td>411022</td>\n",
       "      <td>2022-05-05 14:14:35.473</td>\n",
       "      <td>1</td>\n",
       "      <td>0.566667</td>\n",
       "      <td>17</td>\n",
       "      <td>ResNet-50</td>\n",
       "      <td>096.Hooded_Oriole</td>\n",
       "      <td>0</td>\n",
       "      <td>0.88</td>\n",
       "      <td>Hard</td>\n",
       "      <td>175.Pine_Warbler</td>\n",
       "      <td>175.Pine_Warbler</td>\n",
       "      <td>175.Pine_Warbler</td>\n",
       "      <td>175.Pine_Warbler</td>\n",
       "      <td>0.88</td>\n",
       "      <td>0.0125</td>\n",
       "      <td>0.0175</td>\n",
       "      <td>0.0125</td>\n",
       "    </tr>\n",
       "    <tr>\n",
       "      <th>1</th>\n",
       "      <td>5791dae225cb71000128ad5bNo-XAI</td>\n",
       "      <td>Chuck_Will_Widow_0051_796991.jpg</td>\n",
       "      <td>6</td>\n",
       "      <td>412124.0</td>\n",
       "      <td>411022</td>\n",
       "      <td>2022-05-05 14:14:35.473</td>\n",
       "      <td>0</td>\n",
       "      <td>0.566667</td>\n",
       "      <td>17</td>\n",
       "      <td>ResNet-50</td>\n",
       "      <td>022.Chuck_will_Widow</td>\n",
       "      <td>1</td>\n",
       "      <td>0.72</td>\n",
       "      <td>Medium</td>\n",
       "      <td>022.Chuck_will_Widow</td>\n",
       "      <td>105.Whip_poor_Will</td>\n",
       "      <td>105.Whip_poor_Will</td>\n",
       "      <td>105.Whip_poor_Will</td>\n",
       "      <td>0.72</td>\n",
       "      <td>0.0275</td>\n",
       "      <td>0.0225</td>\n",
       "      <td>0.0300</td>\n",
       "    </tr>\n",
       "    <tr>\n",
       "      <th>2</th>\n",
       "      <td>5791dae225cb71000128ad5bNo-XAI</td>\n",
       "      <td>Vesper_Sparrow_0065_125446.jpg</td>\n",
       "      <td>6</td>\n",
       "      <td>412124.0</td>\n",
       "      <td>411022</td>\n",
       "      <td>2022-05-05 14:14:35.473</td>\n",
       "      <td>0</td>\n",
       "      <td>0.566667</td>\n",
       "      <td>17</td>\n",
       "      <td>ResNet-50</td>\n",
       "      <td>131.Vesper_Sparrow</td>\n",
       "      <td>0</td>\n",
       "      <td>0.63</td>\n",
       "      <td>Medium</td>\n",
       "      <td>115.Brewer_Sparrow</td>\n",
       "      <td>131.Vesper_Sparrow</td>\n",
       "      <td>131.Vesper_Sparrow</td>\n",
       "      <td>131.Vesper_Sparrow</td>\n",
       "      <td>0.63</td>\n",
       "      <td>0.0225</td>\n",
       "      <td>0.0275</td>\n",
       "      <td>0.0300</td>\n",
       "    </tr>\n",
       "    <tr>\n",
       "      <th>3</th>\n",
       "      <td>5791dae225cb71000128ad5bNo-XAI</td>\n",
       "      <td>Western_Wood_Pewee_0009_98115.jpg</td>\n",
       "      <td>6</td>\n",
       "      <td>412124.0</td>\n",
       "      <td>411022</td>\n",
       "      <td>2022-05-05 14:14:35.473</td>\n",
       "      <td>0</td>\n",
       "      <td>0.566667</td>\n",
       "      <td>17</td>\n",
       "      <td>ResNet-50</td>\n",
       "      <td>102.Western_Wood_Pewee</td>\n",
       "      <td>0</td>\n",
       "      <td>0.78</td>\n",
       "      <td>Hard</td>\n",
       "      <td>039.Least_Flycatcher</td>\n",
       "      <td>102.Western_Wood_Pewee</td>\n",
       "      <td>040.Olive_sided_Flycatcher</td>\n",
       "      <td>102.Western_Wood_Pewee</td>\n",
       "      <td>0.78</td>\n",
       "      <td>0.0300</td>\n",
       "      <td>0.0200</td>\n",
       "      <td>0.0225</td>\n",
       "    </tr>\n",
       "    <tr>\n",
       "      <th>4</th>\n",
       "      <td>5791dae225cb71000128ad5bNo-XAI</td>\n",
       "      <td>Warbling_Vireo_0126_158696.jpg</td>\n",
       "      <td>6</td>\n",
       "      <td>412124.0</td>\n",
       "      <td>411022</td>\n",
       "      <td>2022-05-05 14:14:35.473</td>\n",
       "      <td>1</td>\n",
       "      <td>0.566667</td>\n",
       "      <td>17</td>\n",
       "      <td>ResNet-50</td>\n",
       "      <td>155.Warbling_Vireo</td>\n",
       "      <td>0</td>\n",
       "      <td>0.97</td>\n",
       "      <td>Hard</td>\n",
       "      <td>153.Philadelphia_Vireo</td>\n",
       "      <td>153.Philadelphia_Vireo</td>\n",
       "      <td>155.Warbling_Vireo</td>\n",
       "      <td>155.Warbling_Vireo</td>\n",
       "      <td>0.97</td>\n",
       "      <td>0.0250</td>\n",
       "      <td>0.0250</td>\n",
       "      <td>0.0250</td>\n",
       "    </tr>\n",
       "  </tbody>\n",
       "</table>\n",
       "</div>"
      ],
      "text/plain": [
       "                              UID                              Query  \\\n",
       "0  5791dae225cb71000128ad5bNo-XAI       Hooded_Oriole_0105_90875.jpg   \n",
       "1  5791dae225cb71000128ad5bNo-XAI   Chuck_Will_Widow_0051_796991.jpg   \n",
       "2  5791dae225cb71000128ad5bNo-XAI     Vesper_Sparrow_0065_125446.jpg   \n",
       "3  5791dae225cb71000128ad5bNo-XAI  Western_Wood_Pewee_0009_98115.jpg   \n",
       "4  5791dae225cb71000128ad5bNo-XAI     Warbling_Vireo_0126_158696.jpg   \n",
       "\n",
       "   Counter balance  Validation Reaction Time  Test Reaction Time  \\\n",
       "0                6                  412124.0              411022   \n",
       "1                6                  412124.0              411022   \n",
       "2                6                  412124.0              411022   \n",
       "3                6                  412124.0              411022   \n",
       "4                6                  412124.0              411022   \n",
       "\n",
       "                      Date  Correctness  Accuracy  Total Corrects     Method  \\\n",
       "0  2022-05-05 14:14:35.473            1  0.566667              17  ResNet-50   \n",
       "1  2022-05-05 14:14:35.473            0  0.566667              17  ResNet-50   \n",
       "2  2022-05-05 14:14:35.473            0  0.566667              17  ResNet-50   \n",
       "3  2022-05-05 14:14:35.473            0  0.566667              17  ResNet-50   \n",
       "4  2022-05-05 14:14:35.473            1  0.566667              17  ResNet-50   \n",
       "\n",
       "              GroundTruth  ClassifierCorrectness  ConfidenceScore  \\\n",
       "0       096.Hooded_Oriole                      0             0.88   \n",
       "1    022.Chuck_will_Widow                      1             0.72   \n",
       "2      131.Vesper_Sparrow                      0             0.63   \n",
       "3  102.Western_Wood_Pewee                      0             0.78   \n",
       "4      155.Warbling_Vireo                      0             0.97   \n",
       "\n",
       "  DifficultyLevel       ResNet-Prediction          KNN-Prediction  \\\n",
       "0            Hard        175.Pine_Warbler        175.Pine_Warbler   \n",
       "1          Medium    022.Chuck_will_Widow      105.Whip_poor_Will   \n",
       "2          Medium      115.Brewer_Sparrow      131.Vesper_Sparrow   \n",
       "3            Hard    039.Least_Flycatcher  102.Western_Wood_Pewee   \n",
       "4            Hard  153.Philadelphia_Vireo  153.Philadelphia_Vireo   \n",
       "\n",
       "               EMD-Prediction          CHM-Prediction  ResNet-Conf  KNN-Conf  \\\n",
       "0            175.Pine_Warbler        175.Pine_Warbler         0.88    0.0125   \n",
       "1          105.Whip_poor_Will      105.Whip_poor_Will         0.72    0.0275   \n",
       "2          131.Vesper_Sparrow      131.Vesper_Sparrow         0.63    0.0225   \n",
       "3  040.Olive_sided_Flycatcher  102.Western_Wood_Pewee         0.78    0.0300   \n",
       "4          155.Warbling_Vireo      155.Warbling_Vireo         0.97    0.0250   \n",
       "\n",
       "   EMD-Conf  CHM-Conf  \n",
       "0    0.0175    0.0125  \n",
       "1    0.0225    0.0300  \n",
       "2    0.0275    0.0300  \n",
       "3    0.0200    0.0225  \n",
       "4    0.0250    0.0250  "
      ]
     },
     "execution_count": 90,
     "metadata": {},
     "output_type": "execute_result"
    }
   ],
   "source": [
    "summary_df.head()"
   ]
  },
  {
   "cell_type": "code",
   "execution_count": 91,
   "id": "11034dee-94ad-41c6-9e3e-76b2c9b60d76",
   "metadata": {
    "pycharm": {
     "name": "#%%\n"
    }
   },
   "outputs": [
    {
     "name": "stdout",
     "output_type": "stream",
     "text": [
      "total 10650 etnries\n"
     ]
    }
   ],
   "source": [
    "print(f\"total {len(summary_df)} etnries\")"
   ]
  },
  {
   "cell_type": "code",
   "execution_count": 92,
   "id": "6b89eae4-7f1d-40a1-89cd-007a6dd841e9",
   "metadata": {
    "pycharm": {
     "name": "#%%\n"
    }
   },
   "outputs": [],
   "source": [
    "df_treshold = copy.deepcopy(summary_df[[\"Method\", \"Correctness\", \"ConfidenceScore\"]])"
   ]
  },
  {
   "cell_type": "markdown",
   "id": "f9943bc1-5b75-46f6-ba60-b1377216ed5b",
   "metadata": {
    "pycharm": {
     "name": "#%% md\n"
    }
   },
   "source": [
    "## Human Performance"
   ]
  },
  {
   "cell_type": "code",
   "execution_count": 93,
   "metadata": {},
   "outputs": [],
   "source": [
    "ORDER_DICT = {\n",
    "    \"ResNet-50\": 1,\n",
    "    \"kNN\": 2,\n",
    "    \"EMD-NN\": 3,\n",
    "    \"EMD-Corr\": 4,\n",
    "    \"CHM-NN\": 5,\n",
    "    \"CHM-Corr\": 6,\n",
    "}"
   ]
  },
  {
   "cell_type": "code",
   "execution_count": 94,
   "id": "207439d3-6fd4-4e39-b1c1-bd008db7dd16",
   "metadata": {
    "pycharm": {
     "name": "#%%\n"
    }
   },
   "outputs": [],
   "source": [
    "human_accuracy = {}\n",
    "for T in np.arange(0.0, 1.05, 0.05):\n",
    "    human_accuracy[f\"{T:0.2f}\"] = (\n",
    "        df_treshold[df_treshold[\"ConfidenceScore\"] < T]\n",
    "        .groupby(\"Method\")[\"Correctness\"]\n",
    "        .mean()\n",
    "    )"
   ]
  },
  {
   "cell_type": "code",
   "execution_count": 95,
   "id": "da3224fe-12b8-4d50-acde-ec89474316c5",
   "metadata": {
    "pycharm": {
     "name": "#%%\n"
    }
   },
   "outputs": [
    {
     "data": {
      "text/html": [
       "<div>\n",
       "<style scoped>\n",
       "    .dataframe tbody tr th:only-of-type {\n",
       "        vertical-align: middle;\n",
       "    }\n",
       "\n",
       "    .dataframe tbody tr th {\n",
       "        vertical-align: top;\n",
       "    }\n",
       "\n",
       "    .dataframe thead th {\n",
       "        text-align: right;\n",
       "    }\n",
       "</style>\n",
       "<table border=\"1\" class=\"dataframe\">\n",
       "  <thead>\n",
       "    <tr style=\"text-align: right;\">\n",
       "      <th></th>\n",
       "      <th>ResNet-50</th>\n",
       "      <th>kNN</th>\n",
       "      <th>EMD-NN</th>\n",
       "      <th>EMD-Corr</th>\n",
       "      <th>CHM-NN</th>\n",
       "      <th>CHM-Corr</th>\n",
       "    </tr>\n",
       "  </thead>\n",
       "  <tbody>\n",
       "    <tr>\n",
       "      <th>0.00</th>\n",
       "      <td>NaN</td>\n",
       "      <td>NaN</td>\n",
       "      <td>NaN</td>\n",
       "      <td>NaN</td>\n",
       "      <td>NaN</td>\n",
       "      <td>NaN</td>\n",
       "    </tr>\n",
       "    <tr>\n",
       "      <th>0.05</th>\n",
       "      <td>NaN</td>\n",
       "      <td>NaN</td>\n",
       "      <td>NaN</td>\n",
       "      <td>NaN</td>\n",
       "      <td>NaN</td>\n",
       "      <td>NaN</td>\n",
       "    </tr>\n",
       "    <tr>\n",
       "      <th>0.10</th>\n",
       "      <td>NaN</td>\n",
       "      <td>NaN</td>\n",
       "      <td>NaN</td>\n",
       "      <td>NaN</td>\n",
       "      <td>NaN</td>\n",
       "      <td>NaN</td>\n",
       "    </tr>\n",
       "    <tr>\n",
       "      <th>0.15</th>\n",
       "      <td>1.0</td>\n",
       "      <td>1.0</td>\n",
       "      <td>0.6</td>\n",
       "      <td>1.0</td>\n",
       "      <td>0.8</td>\n",
       "      <td>1.0</td>\n",
       "    </tr>\n",
       "    <tr>\n",
       "      <th>0.20</th>\n",
       "      <td>0.764706</td>\n",
       "      <td>1.0</td>\n",
       "      <td>0.6</td>\n",
       "      <td>1.0</td>\n",
       "      <td>0.8</td>\n",
       "      <td>1.0</td>\n",
       "    </tr>\n",
       "    <tr>\n",
       "      <th>0.25</th>\n",
       "      <td>0.794872</td>\n",
       "      <td>0.681818</td>\n",
       "      <td>0.6875</td>\n",
       "      <td>0.866667</td>\n",
       "      <td>0.615385</td>\n",
       "      <td>0.538462</td>\n",
       "    </tr>\n",
       "    <tr>\n",
       "      <th>0.30</th>\n",
       "      <td>0.839286</td>\n",
       "      <td>0.507042</td>\n",
       "      <td>0.557047</td>\n",
       "      <td>0.69697</td>\n",
       "      <td>0.551351</td>\n",
       "      <td>0.722222</td>\n",
       "    </tr>\n",
       "    <tr>\n",
       "      <th>0.35</th>\n",
       "      <td>0.764045</td>\n",
       "      <td>0.478261</td>\n",
       "      <td>0.492126</td>\n",
       "      <td>0.603571</td>\n",
       "      <td>0.549206</td>\n",
       "      <td>0.710611</td>\n",
       "    </tr>\n",
       "    <tr>\n",
       "      <th>0.40</th>\n",
       "      <td>0.721739</td>\n",
       "      <td>0.478261</td>\n",
       "      <td>0.492126</td>\n",
       "      <td>0.603571</td>\n",
       "      <td>0.549206</td>\n",
       "      <td>0.710611</td>\n",
       "    </tr>\n",
       "    <tr>\n",
       "      <th>0.45</th>\n",
       "      <td>0.693642</td>\n",
       "      <td>0.508516</td>\n",
       "      <td>0.476658</td>\n",
       "      <td>0.587007</td>\n",
       "      <td>0.531915</td>\n",
       "      <td>0.635776</td>\n",
       "    </tr>\n",
       "    <tr>\n",
       "      <th>0.50</th>\n",
       "      <td>0.653846</td>\n",
       "      <td>0.507042</td>\n",
       "      <td>0.489185</td>\n",
       "      <td>0.572379</td>\n",
       "      <td>0.51944</td>\n",
       "      <td>0.629213</td>\n",
       "    </tr>\n",
       "    <tr>\n",
       "      <th>0.55</th>\n",
       "      <td>0.592705</td>\n",
       "      <td>0.473103</td>\n",
       "      <td>0.48735</td>\n",
       "      <td>0.57257</td>\n",
       "      <td>0.506297</td>\n",
       "      <td>0.611538</td>\n",
       "    </tr>\n",
       "    <tr>\n",
       "      <th>0.60</th>\n",
       "      <td>0.607843</td>\n",
       "      <td>0.473856</td>\n",
       "      <td>0.493548</td>\n",
       "      <td>0.583423</td>\n",
       "      <td>0.520457</td>\n",
       "      <td>0.605159</td>\n",
       "    </tr>\n",
       "    <tr>\n",
       "      <th>0.65</th>\n",
       "      <td>0.572314</td>\n",
       "      <td>0.473856</td>\n",
       "      <td>0.493548</td>\n",
       "      <td>0.583423</td>\n",
       "      <td>0.520457</td>\n",
       "      <td>0.605159</td>\n",
       "    </tr>\n",
       "    <tr>\n",
       "      <th>0.70</th>\n",
       "      <td>0.545614</td>\n",
       "      <td>0.49678</td>\n",
       "      <td>0.509009</td>\n",
       "      <td>0.581967</td>\n",
       "      <td>0.547877</td>\n",
       "      <td>0.6236</td>\n",
       "    </tr>\n",
       "    <tr>\n",
       "      <th>0.75</th>\n",
       "      <td>0.546032</td>\n",
       "      <td>0.49678</td>\n",
       "      <td>0.509009</td>\n",
       "      <td>0.581967</td>\n",
       "      <td>0.547877</td>\n",
       "      <td>0.6236</td>\n",
       "    </tr>\n",
       "    <tr>\n",
       "      <th>0.80</th>\n",
       "      <td>0.525547</td>\n",
       "      <td>0.511444</td>\n",
       "      <td>0.529559</td>\n",
       "      <td>0.590372</td>\n",
       "      <td>0.57</td>\n",
       "      <td>0.633703</td>\n",
       "    </tr>\n",
       "    <tr>\n",
       "      <th>0.85</th>\n",
       "      <td>0.517154</td>\n",
       "      <td>0.529549</td>\n",
       "      <td>0.552924</td>\n",
       "      <td>0.606954</td>\n",
       "      <td>0.601758</td>\n",
       "      <td>0.652022</td>\n",
       "    </tr>\n",
       "    <tr>\n",
       "      <th>0.90</th>\n",
       "      <td>0.519075</td>\n",
       "      <td>0.529549</td>\n",
       "      <td>0.552924</td>\n",
       "      <td>0.606954</td>\n",
       "      <td>0.601758</td>\n",
       "      <td>0.652022</td>\n",
       "    </tr>\n",
       "    <tr>\n",
       "      <th>0.95</th>\n",
       "      <td>0.545455</td>\n",
       "      <td>0.586043</td>\n",
       "      <td>0.607955</td>\n",
       "      <td>0.645307</td>\n",
       "      <td>0.643151</td>\n",
       "      <td>0.682883</td>\n",
       "    </tr>\n",
       "    <tr>\n",
       "      <th>1.00</th>\n",
       "      <td>0.655</td>\n",
       "      <td>0.586043</td>\n",
       "      <td>0.607955</td>\n",
       "      <td>0.645307</td>\n",
       "      <td>0.643151</td>\n",
       "      <td>0.682883</td>\n",
       "    </tr>\n",
       "  </tbody>\n",
       "</table>\n",
       "</div>"
      ],
      "text/plain": [
       "     ResNet-50       kNN    EMD-NN  EMD-Corr    CHM-NN  CHM-Corr\n",
       "0.00       NaN       NaN       NaN       NaN       NaN       NaN\n",
       "0.05       NaN       NaN       NaN       NaN       NaN       NaN\n",
       "0.10       NaN       NaN       NaN       NaN       NaN       NaN\n",
       "0.15       1.0       1.0       0.6       1.0       0.8       1.0\n",
       "0.20  0.764706       1.0       0.6       1.0       0.8       1.0\n",
       "0.25  0.794872  0.681818    0.6875  0.866667  0.615385  0.538462\n",
       "0.30  0.839286  0.507042  0.557047   0.69697  0.551351  0.722222\n",
       "0.35  0.764045  0.478261  0.492126  0.603571  0.549206  0.710611\n",
       "0.40  0.721739  0.478261  0.492126  0.603571  0.549206  0.710611\n",
       "0.45  0.693642  0.508516  0.476658  0.587007  0.531915  0.635776\n",
       "0.50  0.653846  0.507042  0.489185  0.572379   0.51944  0.629213\n",
       "0.55  0.592705  0.473103   0.48735   0.57257  0.506297  0.611538\n",
       "0.60  0.607843  0.473856  0.493548  0.583423  0.520457  0.605159\n",
       "0.65  0.572314  0.473856  0.493548  0.583423  0.520457  0.605159\n",
       "0.70  0.545614   0.49678  0.509009  0.581967  0.547877    0.6236\n",
       "0.75  0.546032   0.49678  0.509009  0.581967  0.547877    0.6236\n",
       "0.80  0.525547  0.511444  0.529559  0.590372      0.57  0.633703\n",
       "0.85  0.517154  0.529549  0.552924  0.606954  0.601758  0.652022\n",
       "0.90  0.519075  0.529549  0.552924  0.606954  0.601758  0.652022\n",
       "0.95  0.545455  0.586043  0.607955  0.645307  0.643151  0.682883\n",
       "1.00     0.655  0.586043  0.607955  0.645307  0.643151  0.682883"
      ]
     },
     "execution_count": 95,
     "metadata": {},
     "output_type": "execute_result"
    }
   ],
   "source": [
    "humand_df = (\n",
    "    pd.DataFrame.from_dict(human_accuracy)\n",
    "    .loc[::-1]\n",
    "    .reset_index()\n",
    "    .sort_values(by=\"Method\", key=lambda x: x.map(ORDER_DICT))\n",
    "    .T\n",
    ")\n",
    "\n",
    "humand_df = humand_df.drop(\"Method\")\n",
    "humand_df.columns = [\"ResNet-50\", \"kNN\", \"EMD-NN\", \"EMD-Corr\", \"CHM-NN\", \"CHM-Corr\"]\n",
    "humand_df"
   ]
  },
  {
   "cell_type": "code",
   "execution_count": 96,
   "id": "08251fae-74f8-479d-91d4-9b822c06abed",
   "metadata": {},
   "outputs": [],
   "source": [
    "def make_table(ai_group, human_group):\n",
    "    agg_df = pd.DataFrame()\n",
    "    agg_df[\"T\"] = humand_df.index\n",
    "    agg_df[\"T\"] = agg_df[\"T\"].astype(float).apply(lambda x: np.round(x, 2))\n",
    "    agg_df[\"Ratio of Images Handled by AI\"] = ratio_df[ai_group].values\n",
    "    \n",
    "    agg_df[\"AI Alone Performance\"] = ai_df[ai_group].values\n",
    "    agg_df[\"Human Performance on Remaining Images\"] = humand_df[human_group].values\n",
    "    agg_df[\"Aggregated Performance\"] = (\n",
    "        agg_df[\"Ratio of Images Handled by AI\"] * agg_df[\"AI Alone Performance\"]\n",
    "    ) + (\n",
    "        (1 - agg_df[\"Ratio of Images Handled by AI\"])\n",
    "        * agg_df[\"Human Performance on Remaining Images\"]\n",
    "    )\n",
    "\n",
    "    agg_df = agg_df.set_index(\"T\")\n",
    "\n",
    "    agg_df[\"AI Alone Performance\"] = (100 * agg_df[\"AI Alone Performance\"]).round(2)\n",
    "    agg_df[\"Human Performance on Remaining Images\"] = (\n",
    "        (100 * agg_df[\"Human Performance on Remaining Images\"])\n",
    "        .astype(float)\n",
    "        .apply(lambda x: np.round(x, 2))\n",
    "    )\n",
    "\n",
    "    agg_df[\"Aggregated Performance\"] = (\n",
    "        (100 * agg_df[\"Aggregated Performance\"])\n",
    "        .astype(float)\n",
    "        .apply(lambda x: np.round(x, 2))\n",
    "    )\n",
    "\n",
    "    agg_df[\"Ratio of Images Handled by AI\"] = 100*agg_df[\n",
    "        \"Ratio of Images Handled by AI\"\n",
    "    ].round(4)\n",
    "\n",
    "    return agg_df"
   ]
  },
  {
   "cell_type": "code",
   "execution_count": 97,
   "id": "5e89b65e-26af-4991-b1cd-de7f0665ee31",
   "metadata": {},
   "outputs": [],
   "source": [
    "method_tables = {}\n",
    "\n",
    "for ai_group, human_group in zip(\n",
    "    [\"ResNet\", \"KNN\", \"EMD\", \"EMD\", \"CHM\", \"CHM\"], [\"ResNet-50\", \"kNN\", \"EMD-NN\", \"EMD-Corr\", \"CHM-NN\", \"CHM-Corr\"]\n",
    "):\n",
    "    method_tables[human_group] = make_table(ai_group, human_group)\n"
   ]
  },
  {
   "cell_type": "code",
   "execution_count": 98,
   "metadata": {},
   "outputs": [
    {
     "data": {
      "text/plain": [
       "ResNet    0.55\n",
       "KNN       0.45\n",
       "EMD       0.45\n",
       "CHM       0.45\n",
       "dtype: object"
      ]
     },
     "execution_count": 98,
     "metadata": {},
     "output_type": "execute_result"
    }
   ],
   "source": [
    "optimal_t"
   ]
  },
  {
   "cell_type": "code",
   "execution_count": 99,
   "metadata": {},
   "outputs": [
    {
     "data": {
      "text/html": [
       "<div>\n",
       "<style scoped>\n",
       "    .dataframe tbody tr th:only-of-type {\n",
       "        vertical-align: middle;\n",
       "    }\n",
       "\n",
       "    .dataframe tbody tr th {\n",
       "        vertical-align: top;\n",
       "    }\n",
       "\n",
       "    .dataframe thead th {\n",
       "        text-align: right;\n",
       "    }\n",
       "</style>\n",
       "<table border=\"1\" class=\"dataframe\">\n",
       "  <thead>\n",
       "    <tr style=\"text-align: right;\">\n",
       "      <th></th>\n",
       "      <th>Ratio of Images Handled by AI</th>\n",
       "      <th>AI Alone Performance</th>\n",
       "      <th>Human Performance on Remaining Images</th>\n",
       "      <th>Aggregated Performance</th>\n",
       "    </tr>\n",
       "    <tr>\n",
       "      <th>T</th>\n",
       "      <th></th>\n",
       "      <th></th>\n",
       "      <th></th>\n",
       "      <th></th>\n",
       "    </tr>\n",
       "  </thead>\n",
       "  <tbody>\n",
       "    <tr>\n",
       "      <th>0.55</th>\n",
       "      <td>92.16</td>\n",
       "      <td>89.85</td>\n",
       "      <td>59.27</td>\n",
       "      <td>87.45</td>\n",
       "    </tr>\n",
       "  </tbody>\n",
       "</table>\n",
       "</div>"
      ],
      "text/plain": [
       "      Ratio of Images Handled by AI  AI Alone Performance  \\\n",
       "T                                                           \n",
       "0.55                          92.16                 89.85   \n",
       "\n",
       "      Human Performance on Remaining Images  Aggregated Performance  \n",
       "T                                                                    \n",
       "0.55                                  59.27                   87.45  "
      ]
     },
     "execution_count": 99,
     "metadata": {},
     "output_type": "execute_result"
    }
   ],
   "source": [
    "method_tables['ResNet-50'].loc[[optimal_t['ResNet']]]\n"
   ]
  },
  {
   "cell_type": "code",
   "execution_count": 100,
   "metadata": {},
   "outputs": [],
   "source": [
    "Aggregated_performance = {}\n",
    "\n",
    "for ai_group, human_group in zip(\n",
    "    [\"ResNet\", \"KNN\", \"EMD\", \"EMD\", \"CHM\", \"CHM\"], [\"ResNet-50\", \"kNN\", \"EMD-NN\", \"EMD-Corr\", \"CHM-NN\", \"CHM-Corr\"]\n",
    "):\n",
    "    Aggregated_performance[human_group] = method_tables[human_group].loc[[optimal_t[ai_group]]]['Aggregated Performance'].reset_index(drop=True)\n",
    "\n",
    "Aggregated_performance_df = pd.DataFrame.from_dict(Aggregated_performance).T"
   ]
  },
  {
   "cell_type": "code",
   "execution_count": null,
   "metadata": {},
   "outputs": [],
   "source": []
  },
  {
   "cell_type": "code",
   "execution_count": 101,
   "metadata": {},
   "outputs": [
    {
     "data": {
      "text/html": [
       "<div>\n",
       "<style scoped>\n",
       "    .dataframe tbody tr th:only-of-type {\n",
       "        vertical-align: middle;\n",
       "    }\n",
       "\n",
       "    .dataframe tbody tr th {\n",
       "        vertical-align: top;\n",
       "    }\n",
       "\n",
       "    .dataframe thead th {\n",
       "        text-align: right;\n",
       "    }\n",
       "</style>\n",
       "<table border=\"1\" class=\"dataframe\">\n",
       "  <thead>\n",
       "    <tr style=\"text-align: right;\">\n",
       "      <th></th>\n",
       "      <th>Ratio of Images Handled by AI</th>\n",
       "      <th>AI Alone Performance</th>\n",
       "      <th>Human Performance on Remaining Images</th>\n",
       "      <th>Aggregated Performance</th>\n",
       "    </tr>\n",
       "    <tr>\n",
       "      <th>T</th>\n",
       "      <th></th>\n",
       "      <th></th>\n",
       "      <th></th>\n",
       "      <th></th>\n",
       "    </tr>\n",
       "  </thead>\n",
       "  <tbody>\n",
       "    <tr>\n",
       "      <th>0.55</th>\n",
       "      <td>92.16</td>\n",
       "      <td>89.85</td>\n",
       "      <td>59.27</td>\n",
       "      <td>87.45</td>\n",
       "    </tr>\n",
       "  </tbody>\n",
       "</table>\n",
       "</div>"
      ],
      "text/plain": [
       "      Ratio of Images Handled by AI  AI Alone Performance  \\\n",
       "T                                                           \n",
       "0.55                          92.16                 89.85   \n",
       "\n",
       "      Human Performance on Remaining Images  Aggregated Performance  \n",
       "T                                                                    \n",
       "0.55                                  59.27                   87.45  "
      ]
     },
     "execution_count": 101,
     "metadata": {},
     "output_type": "execute_result"
    }
   ],
   "source": [
    "method_tables['ResNet-50'].loc[[optimal_t['ResNet']]]\n"
   ]
  },
  {
   "cell_type": "code",
   "execution_count": 102,
   "metadata": {},
   "outputs": [
    {
     "data": {
      "text/html": [
       "<div>\n",
       "<style scoped>\n",
       "    .dataframe tbody tr th:only-of-type {\n",
       "        vertical-align: middle;\n",
       "    }\n",
       "\n",
       "    .dataframe tbody tr th {\n",
       "        vertical-align: top;\n",
       "    }\n",
       "\n",
       "    .dataframe thead th {\n",
       "        text-align: right;\n",
       "    }\n",
       "</style>\n",
       "<table border=\"1\" class=\"dataframe\">\n",
       "  <thead>\n",
       "    <tr style=\"text-align: right;\">\n",
       "      <th></th>\n",
       "      <th>Ratio of Images Handled by AI</th>\n",
       "      <th>AI Alone Performance</th>\n",
       "      <th>Human Performance on Remaining Images</th>\n",
       "      <th>Aggregated Performance</th>\n",
       "    </tr>\n",
       "    <tr>\n",
       "      <th>T</th>\n",
       "      <th></th>\n",
       "      <th></th>\n",
       "      <th></th>\n",
       "      <th></th>\n",
       "    </tr>\n",
       "  </thead>\n",
       "  <tbody>\n",
       "    <tr>\n",
       "      <th>0.45</th>\n",
       "      <td>91.15</td>\n",
       "      <td>90.13</td>\n",
       "      <td>50.85</td>\n",
       "      <td>86.66</td>\n",
       "    </tr>\n",
       "  </tbody>\n",
       "</table>\n",
       "</div>"
      ],
      "text/plain": [
       "      Ratio of Images Handled by AI  AI Alone Performance  \\\n",
       "T                                                           \n",
       "0.45                          91.15                 90.13   \n",
       "\n",
       "      Human Performance on Remaining Images  Aggregated Performance  \n",
       "T                                                                    \n",
       "0.45                                  50.85                   86.66  "
      ]
     },
     "execution_count": 102,
     "metadata": {},
     "output_type": "execute_result"
    }
   ],
   "source": [
    "method_tables['kNN'].loc[[optimal_t['KNN']]]\n"
   ]
  },
  {
   "cell_type": "code",
   "execution_count": 103,
   "metadata": {},
   "outputs": [
    {
     "data": {
      "text/html": [
       "<div>\n",
       "<style scoped>\n",
       "    .dataframe tbody tr th:only-of-type {\n",
       "        vertical-align: middle;\n",
       "    }\n",
       "\n",
       "    .dataframe tbody tr th {\n",
       "        vertical-align: top;\n",
       "    }\n",
       "\n",
       "    .dataframe thead th {\n",
       "        text-align: right;\n",
       "    }\n",
       "</style>\n",
       "<table border=\"1\" class=\"dataframe\">\n",
       "  <thead>\n",
       "    <tr style=\"text-align: right;\">\n",
       "      <th></th>\n",
       "      <th>AI Performance</th>\n",
       "    </tr>\n",
       "  </thead>\n",
       "  <tbody>\n",
       "    <tr>\n",
       "      <th>ResNet</th>\n",
       "      <td>87.38</td>\n",
       "    </tr>\n",
       "    <tr>\n",
       "      <th>KNN</th>\n",
       "      <td>87.40</td>\n",
       "    </tr>\n",
       "    <tr>\n",
       "      <th>EMD</th>\n",
       "      <td>86.88</td>\n",
       "    </tr>\n",
       "    <tr>\n",
       "      <th>CHM</th>\n",
       "      <td>85.48</td>\n",
       "    </tr>\n",
       "  </tbody>\n",
       "</table>\n",
       "</div>"
      ],
      "text/plain": [
       "        AI Performance\n",
       "ResNet           87.38\n",
       "KNN              87.40\n",
       "EMD              86.88\n",
       "CHM              85.48"
      ]
     },
     "execution_count": 103,
     "metadata": {},
     "output_type": "execute_result"
    }
   ],
   "source": [
    "ai_performance_df.round(2)"
   ]
  },
  {
   "cell_type": "code",
   "execution_count": 104,
   "metadata": {},
   "outputs": [
    {
     "data": {
      "text/html": [
       "<div>\n",
       "<style scoped>\n",
       "    .dataframe tbody tr th:only-of-type {\n",
       "        vertical-align: middle;\n",
       "    }\n",
       "\n",
       "    .dataframe tbody tr th {\n",
       "        vertical-align: top;\n",
       "    }\n",
       "\n",
       "    .dataframe thead th {\n",
       "        text-align: right;\n",
       "    }\n",
       "</style>\n",
       "<table border=\"1\" class=\"dataframe\">\n",
       "  <thead>\n",
       "    <tr style=\"text-align: right;\">\n",
       "      <th></th>\n",
       "      <th>0</th>\n",
       "    </tr>\n",
       "  </thead>\n",
       "  <tbody>\n",
       "    <tr>\n",
       "      <th>ResNet-50</th>\n",
       "      <td>87.45</td>\n",
       "    </tr>\n",
       "    <tr>\n",
       "      <th>kNN</th>\n",
       "      <td>86.66</td>\n",
       "    </tr>\n",
       "    <tr>\n",
       "      <th>EMD-NN</th>\n",
       "      <td>85.69</td>\n",
       "    </tr>\n",
       "    <tr>\n",
       "      <th>EMD-Corr</th>\n",
       "      <td>86.86</td>\n",
       "    </tr>\n",
       "    <tr>\n",
       "      <th>CHM-NN</th>\n",
       "      <td>84.91</td>\n",
       "    </tr>\n",
       "    <tr>\n",
       "      <th>CHM-Corr</th>\n",
       "      <td>86.25</td>\n",
       "    </tr>\n",
       "  </tbody>\n",
       "</table>\n",
       "</div>"
      ],
      "text/plain": [
       "               0\n",
       "ResNet-50  87.45\n",
       "kNN        86.66\n",
       "EMD-NN     85.69\n",
       "EMD-Corr   86.86\n",
       "CHM-NN     84.91\n",
       "CHM-Corr   86.25"
      ]
     },
     "execution_count": 104,
     "metadata": {},
     "output_type": "execute_result"
    }
   ],
   "source": [
    "# remove index\n",
    "Aggregated_performance_df"
   ]
  },
  {
   "cell_type": "code",
   "execution_count": 105,
   "metadata": {},
   "outputs": [],
   "source": [
    "# combining two df\n",
    "# rename index to match the names\n",
    "ai_performance_df.index = ['ResNet-50', 'kNN', 'EMD-Corr', 'CHM-Corr']\n",
    "\n",
    "combined_table = pd.concat([ai_performance_df.round(2), Aggregated_performance_df, ], axis=1)\n",
    "combined_table.columns = ['AI Alone Performance', 'Human-AI Performance']\n",
    "\n",
    "# calculate the delta\n",
    "combined_table['Improvement'] = combined_table['Human-AI Performance'] - combined_table['AI Alone Performance']\n"
   ]
  },
  {
   "cell_type": "code",
   "execution_count": 106,
   "metadata": {},
   "outputs": [
    {
     "data": {
      "text/html": [
       "<div>\n",
       "<style scoped>\n",
       "    .dataframe tbody tr th:only-of-type {\n",
       "        vertical-align: middle;\n",
       "    }\n",
       "\n",
       "    .dataframe tbody tr th {\n",
       "        vertical-align: top;\n",
       "    }\n",
       "\n",
       "    .dataframe thead th {\n",
       "        text-align: right;\n",
       "    }\n",
       "</style>\n",
       "<table border=\"1\" class=\"dataframe\">\n",
       "  <thead>\n",
       "    <tr style=\"text-align: right;\">\n",
       "      <th></th>\n",
       "      <th>AI Alone Performance</th>\n",
       "      <th>Human-AI Performance</th>\n",
       "      <th>Improvement</th>\n",
       "    </tr>\n",
       "  </thead>\n",
       "  <tbody>\n",
       "    <tr>\n",
       "      <th>ResNet-50</th>\n",
       "      <td>87.38</td>\n",
       "      <td>87.45</td>\n",
       "      <td>0.07</td>\n",
       "    </tr>\n",
       "    <tr>\n",
       "      <th>kNN</th>\n",
       "      <td>87.40</td>\n",
       "      <td>86.66</td>\n",
       "      <td>-0.74</td>\n",
       "    </tr>\n",
       "    <tr>\n",
       "      <th>EMD-Corr</th>\n",
       "      <td>86.88</td>\n",
       "      <td>86.86</td>\n",
       "      <td>-0.02</td>\n",
       "    </tr>\n",
       "    <tr>\n",
       "      <th>CHM-Corr</th>\n",
       "      <td>85.48</td>\n",
       "      <td>86.25</td>\n",
       "      <td>0.77</td>\n",
       "    </tr>\n",
       "    <tr>\n",
       "      <th>EMD-NN</th>\n",
       "      <td>NaN</td>\n",
       "      <td>85.69</td>\n",
       "      <td>NaN</td>\n",
       "    </tr>\n",
       "    <tr>\n",
       "      <th>CHM-NN</th>\n",
       "      <td>NaN</td>\n",
       "      <td>84.91</td>\n",
       "      <td>NaN</td>\n",
       "    </tr>\n",
       "  </tbody>\n",
       "</table>\n",
       "</div>"
      ],
      "text/plain": [
       "           AI Alone Performance  Human-AI Performance  Improvement\n",
       "ResNet-50                 87.38                 87.45         0.07\n",
       "kNN                       87.40                 86.66        -0.74\n",
       "EMD-Corr                  86.88                 86.86        -0.02\n",
       "CHM-Corr                  85.48                 86.25         0.77\n",
       "EMD-NN                      NaN                 85.69          NaN\n",
       "CHM-NN                      NaN                 84.91          NaN"
      ]
     },
     "execution_count": 106,
     "metadata": {},
     "output_type": "execute_result"
    }
   ],
   "source": [
    "combined_table"
   ]
  },
  {
   "cell_type": "code",
   "execution_count": 107,
   "metadata": {},
   "outputs": [],
   "source": [
    "# drop last two rows\n",
    "combined_table = combined_table.drop(['EMD-NN', 'CHM-NN'])"
   ]
  },
  {
   "cell_type": "code",
   "execution_count": 108,
   "metadata": {},
   "outputs": [
    {
     "data": {
      "text/html": [
       "<div>\n",
       "<style scoped>\n",
       "    .dataframe tbody tr th:only-of-type {\n",
       "        vertical-align: middle;\n",
       "    }\n",
       "\n",
       "    .dataframe tbody tr th {\n",
       "        vertical-align: top;\n",
       "    }\n",
       "\n",
       "    .dataframe thead th {\n",
       "        text-align: right;\n",
       "    }\n",
       "</style>\n",
       "<table border=\"1\" class=\"dataframe\">\n",
       "  <thead>\n",
       "    <tr style=\"text-align: right;\">\n",
       "      <th></th>\n",
       "      <th>AI Alone Performance</th>\n",
       "      <th>Human-AI Performance</th>\n",
       "      <th>Improvement</th>\n",
       "    </tr>\n",
       "  </thead>\n",
       "  <tbody>\n",
       "    <tr>\n",
       "      <th>ResNet-50</th>\n",
       "      <td>87.38</td>\n",
       "      <td>87.45</td>\n",
       "      <td>0.07</td>\n",
       "    </tr>\n",
       "    <tr>\n",
       "      <th>kNN</th>\n",
       "      <td>87.40</td>\n",
       "      <td>86.66</td>\n",
       "      <td>-0.74</td>\n",
       "    </tr>\n",
       "    <tr>\n",
       "      <th>EMD-Corr</th>\n",
       "      <td>86.88</td>\n",
       "      <td>86.86</td>\n",
       "      <td>-0.02</td>\n",
       "    </tr>\n",
       "    <tr>\n",
       "      <th>CHM-Corr</th>\n",
       "      <td>85.48</td>\n",
       "      <td>86.25</td>\n",
       "      <td>0.77</td>\n",
       "    </tr>\n",
       "  </tbody>\n",
       "</table>\n",
       "</div>"
      ],
      "text/plain": [
       "           AI Alone Performance  Human-AI Performance  Improvement\n",
       "ResNet-50                 87.38                 87.45         0.07\n",
       "kNN                       87.40                 86.66        -0.74\n",
       "EMD-Corr                  86.88                 86.86        -0.02\n",
       "CHM-Corr                  85.48                 86.25         0.77"
      ]
     },
     "execution_count": 108,
     "metadata": {},
     "output_type": "execute_result"
    }
   ],
   "source": [
    "combined_table"
   ]
  },
  {
   "cell_type": "code",
   "execution_count": 109,
   "metadata": {},
   "outputs": [],
   "source": [
    "# Add a row for calculating the average\n",
    "combined_table.loc['Average'] = combined_table.mean()"
   ]
  },
  {
   "cell_type": "code",
   "execution_count": 110,
   "metadata": {},
   "outputs": [
    {
     "data": {
      "text/html": [
       "<div>\n",
       "<style scoped>\n",
       "    .dataframe tbody tr th:only-of-type {\n",
       "        vertical-align: middle;\n",
       "    }\n",
       "\n",
       "    .dataframe tbody tr th {\n",
       "        vertical-align: top;\n",
       "    }\n",
       "\n",
       "    .dataframe thead th {\n",
       "        text-align: right;\n",
       "    }\n",
       "</style>\n",
       "<table border=\"1\" class=\"dataframe\">\n",
       "  <thead>\n",
       "    <tr style=\"text-align: right;\">\n",
       "      <th></th>\n",
       "      <th>AI Alone Performance</th>\n",
       "      <th>Human-AI Performance</th>\n",
       "      <th>Improvement</th>\n",
       "    </tr>\n",
       "  </thead>\n",
       "  <tbody>\n",
       "    <tr>\n",
       "      <th>ResNet-50</th>\n",
       "      <td>87.38</td>\n",
       "      <td>87.45</td>\n",
       "      <td>0.07</td>\n",
       "    </tr>\n",
       "    <tr>\n",
       "      <th>kNN</th>\n",
       "      <td>87.40</td>\n",
       "      <td>86.66</td>\n",
       "      <td>-0.74</td>\n",
       "    </tr>\n",
       "    <tr>\n",
       "      <th>EMD-Corr</th>\n",
       "      <td>86.88</td>\n",
       "      <td>86.86</td>\n",
       "      <td>-0.02</td>\n",
       "    </tr>\n",
       "    <tr>\n",
       "      <th>CHM-Corr</th>\n",
       "      <td>85.48</td>\n",
       "      <td>86.25</td>\n",
       "      <td>0.77</td>\n",
       "    </tr>\n",
       "    <tr>\n",
       "      <th>Average</th>\n",
       "      <td>86.78</td>\n",
       "      <td>86.80</td>\n",
       "      <td>0.02</td>\n",
       "    </tr>\n",
       "  </tbody>\n",
       "</table>\n",
       "</div>"
      ],
      "text/plain": [
       "           AI Alone Performance  Human-AI Performance  Improvement\n",
       "ResNet-50                 87.38                 87.45         0.07\n",
       "kNN                       87.40                 86.66        -0.74\n",
       "EMD-Corr                  86.88                 86.86        -0.02\n",
       "CHM-Corr                  85.48                 86.25         0.77\n",
       "Average                   86.78                 86.80         0.02"
      ]
     },
     "execution_count": 110,
     "metadata": {},
     "output_type": "execute_result"
    }
   ],
   "source": [
    "combined_table.round(2)"
   ]
  }
 ],
 "metadata": {
  "kernelspec": {
   "display_name": "Python 3.8.10 ('deep36')",
   "language": "python",
   "name": "python3"
  },
  "language_info": {
   "codemirror_mode": {
    "name": "ipython",
    "version": 3
   },
   "file_extension": ".py",
   "mimetype": "text/x-python",
   "name": "python",
   "nbconvert_exporter": "python",
   "pygments_lexer": "ipython3",
   "version": "3.8.10"
  },
  "orig_nbformat": 4,
  "vscode": {
   "interpreter": {
    "hash": "d0dbed096b9cc747a2e4832333af732bb712047a23259cfc39d3eee032c30d6a"
   }
  }
 },
 "nbformat": 4,
 "nbformat_minor": 2
}
