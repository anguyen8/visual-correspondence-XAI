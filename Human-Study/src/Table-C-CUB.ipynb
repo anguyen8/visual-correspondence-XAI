{
 "cells": [
  {
   "cell_type": "markdown",
   "id": "e00048e8-e924-448c-9764-1f83239a4125",
   "metadata": {
    "pycharm": {
     "name": "#%% md\n"
    }
   },
   "source": [
    "# Analysis for Table C for CUB"
   ]
  },
  {
   "cell_type": "code",
   "execution_count": 1,
   "id": "9b6848fb-a565-480a-9c2d-e6bfacdd757b",
   "metadata": {
    "pycharm": {
     "name": "#%%\n"
    }
   },
   "outputs": [],
   "source": [
    "import numpy as np\n",
    "import pandas as pd\n",
    "from tqdm import tqdm\n",
    "import pickle\n",
    "import random\n",
    "import copy"
   ]
  },
  {
   "cell_type": "code",
   "execution_count": 2,
   "id": "1133abd4-144c-47c5-9945-7f6ab445b629",
   "metadata": {
    "pycharm": {
     "name": "#%%\n"
    }
   },
   "outputs": [],
   "source": [
    "import matplotlib.pyplot as plt\n",
    "import seaborn as sns\n",
    "sns.set()"
   ]
  },
  {
   "cell_type": "code",
   "execution_count": 3,
   "id": "b29543f0-b491-41de-967a-a5a1f6957757",
   "metadata": {
    "pycharm": {
     "name": "#%%\n"
    }
   },
   "outputs": [],
   "source": [
    "pd.set_option(\"display.max_columns\", None)\n",
    "pd.set_option(\"display.max_rows\", None)"
   ]
  },
  {
   "cell_type": "markdown",
   "id": "ec97b0c4-8159-415b-b12b-b1460f5f4b57",
   "metadata": {
    "pycharm": {
     "name": "#%% md\n"
    }
   },
   "source": [
    "### Orders for Plotting"
   ]
  },
  {
   "cell_type": "code",
   "execution_count": 4,
   "id": "24ab2f9a-1f50-460a-b71a-3c7662e7a43d",
   "metadata": {
    "pycharm": {
     "name": "#%%\n"
    }
   },
   "outputs": [],
   "source": [
    "ORDER_DICT = {'ResNet-50': 1,\n",
    "              'kNN': 2,\n",
    "              'EMD-NN':  3,\n",
    "              'EMD-Corr': 4,\n",
    "              'CHM-NN': 5,\n",
    "              'CHM-Corr': 6}"
   ]
  },
  {
   "cell_type": "markdown",
   "id": "fe093888-e756-4110-9713-ed5ce2dd8722",
   "metadata": {
    "pycharm": {
     "name": "#%% md\n"
    }
   },
   "source": [
    "##  Load summary fo AI Performance"
   ]
  },
  {
   "cell_type": "code",
   "execution_count": 5,
   "id": "16c45e19-4922-490d-be6a-c1bb963aeb2f",
   "metadata": {
    "pycharm": {
     "name": "#%%\n"
    }
   },
   "outputs": [],
   "source": [
    "random.seed(42)\n",
    "\n",
    "with open('../data/Classification-Summary-CUB.pickle', 'rb') as f:\n",
    "  classification_summary_cub = pickle.load(f)"
   ]
  },
  {
   "cell_type": "code",
   "execution_count": 6,
   "id": "7df65cbb-1b3f-4d11-a936-4914fd191a00",
   "metadata": {
    "pycharm": {
     "name": "#%%\n"
    }
   },
   "outputs": [
    {
     "data": {
      "text/plain": [
       "dict_keys(['GT', 'resnet_pred', 'knn_pred', 'emd_pred', 'chm_pred', 'resnet_wnid', 'knn_wnid', 'emd_wnid', 'chm_wnid', 'resnet_conf', 'knn_conf', 'emd_conf', 'chm_conf'])"
      ]
     },
     "execution_count": 6,
     "metadata": {},
     "output_type": "execute_result"
    }
   ],
   "source": [
    "classification_summary_cub.keys()"
   ]
  },
  {
   "cell_type": "markdown",
   "id": "ca19a52e-b0e2-491d-9cb3-55da0647ada3",
   "metadata": {
    "pycharm": {
     "name": "#%% md\n"
    }
   },
   "source": [
    "### Unpacking"
   ]
  },
  {
   "cell_type": "code",
   "execution_count": 7,
   "id": "85b4d08b-baf9-47e8-842c-d71db88fa645",
   "metadata": {
    "pycharm": {
     "name": "#%%\n"
    }
   },
   "outputs": [],
   "source": [
    "GT_CUB     = classification_summary_cub['GT']\n",
    "\n",
    "M1Prediction_CUB = classification_summary_cub['resnet_pred']\n",
    "M2Prediction_CUB = classification_summary_cub['knn_pred']   \n",
    "M3Prediction_CUB = classification_summary_cub['emd_pred']   \n",
    "M4Prediction_CUB = classification_summary_cub['chm_pred']   \n",
    "   \n",
    "IsM1Correct_CUB = np.asarray(classification_summary_cub['resnet_wnid'])\n",
    "IsM2Correct_CUB = np.asarray(classification_summary_cub['knn_wnid'])\n",
    "IsM3Correct_CUB = np.asarray(classification_summary_cub['emd_wnid'])\n",
    "IsM4Correct_CUB = np.asarray(classification_summary_cub['chm_wnid'])\n",
    "\n",
    "M1Conf_CUB      = np.asarray(classification_summary_cub['resnet_conf'])\n",
    "M2Conf_CUB      = np.asarray(classification_summary_cub['knn_conf'])\n",
    "M3Conf_CUB      = np.asarray(classification_summary_cub['emd_conf'])\n",
    "M4Conf_CUB      = np.asarray(classification_summary_cub['chm_conf'])"
   ]
  },
  {
   "cell_type": "markdown",
   "id": "9844834d-56cf-48d7-a396-03fb319bac13",
   "metadata": {
    "pycharm": {
     "name": "#%% md\n"
    }
   },
   "source": [
    "## AI Performance Analysis"
   ]
  },
  {
   "cell_type": "code",
   "execution_count": 8,
   "id": "06278151-6172-4413-b767-9b9fdbc8e2d7",
   "metadata": {
    "pycharm": {
     "name": "#%%\n"
    }
   },
   "outputs": [
    {
     "name": "stderr",
     "output_type": "stream",
     "text": [
      "100%|███████████████████████████████████████████████████████████████████████████████████████████████████████████████████████████████████████████████████████████████████████████████████████████████████████████████████| 20/20 [00:00<00:00, 8839.42it/s]\n",
      "100%|██████████████████████████████████████████████████████████████████████████████████████████████████████████████████████████████████████████████████████████████████████████████████████████████████████████████████| 20/20 [00:00<00:00, 10534.48it/s]\n",
      "100%|███████████████████████████████████████████████████████████████████████████████████████████████████████████████████████████████████████████████████████████████████████████████████████████████████████████████████| 20/20 [00:00<00:00, 9040.42it/s]\n",
      "100%|███████████████████████████████████████████████████████████████████████████████████████████████████████████████████████████████████████████████████████████████████████████████████████████████████████████████████| 20/20 [00:00<00:00, 8922.15it/s]\n"
     ]
    }
   ],
   "source": [
    "MethodName = ['ResNet', 'KNN', 'EMD', 'CHM']\n",
    "Methods    = [IsM1Correct_CUB, IsM2Correct_CUB, IsM3Correct_CUB, IsM4Correct_CUB]\n",
    "Confs      = [M1Conf_CUB, M2Conf_CUB, M3Conf_CUB, M4Conf_CUB]\n",
    "\n",
    "TAnalysis = {}\n",
    "TCount = {}\n",
    "\n",
    "for N, M, C in zip(MethodName, Methods, Confs):\n",
    "  TAnalysis[N] = {}\n",
    "  TCount[N] = {}\n",
    "  \n",
    "  for T in tqdm(np.arange(0., 1.0, 0.05)):\n",
    "    TAnalysis[N][round(T, 2)] = np.mean(M[C>T])\n",
    "    TCount[N][round(T, 2)]    = len(M[C>T])"
   ]
  },
  {
   "cell_type": "markdown",
   "id": "da93dea6-50d9-44ba-97d7-61095134c4c6",
   "metadata": {
    "pycharm": {
     "name": "#%% md\n"
    }
   },
   "source": [
    "## AI PERFORMANCE "
   ]
  },
  {
   "cell_type": "code",
   "execution_count": 9,
   "id": "a3bfc7e6-bb41-4c0f-b1ee-f2d7bf4bd41d",
   "metadata": {
    "pycharm": {
     "name": "#%%\n"
    }
   },
   "outputs": [
    {
     "data": {
      "text/html": [
       "<div>\n",
       "<style scoped>\n",
       "    .dataframe tbody tr th:only-of-type {\n",
       "        vertical-align: middle;\n",
       "    }\n",
       "\n",
       "    .dataframe tbody tr th {\n",
       "        vertical-align: top;\n",
       "    }\n",
       "\n",
       "    .dataframe thead th {\n",
       "        text-align: right;\n",
       "    }\n",
       "</style>\n",
       "<table border=\"1\" class=\"dataframe\">\n",
       "  <thead>\n",
       "    <tr style=\"text-align: right;\">\n",
       "      <th></th>\n",
       "      <th>0.00</th>\n",
       "      <th>0.05</th>\n",
       "      <th>0.10</th>\n",
       "      <th>0.15</th>\n",
       "      <th>0.20</th>\n",
       "      <th>0.25</th>\n",
       "      <th>0.30</th>\n",
       "      <th>0.35</th>\n",
       "      <th>0.40</th>\n",
       "      <th>0.45</th>\n",
       "      <th>0.50</th>\n",
       "      <th>0.55</th>\n",
       "      <th>0.60</th>\n",
       "      <th>0.65</th>\n",
       "      <th>0.70</th>\n",
       "      <th>0.75</th>\n",
       "      <th>0.80</th>\n",
       "      <th>0.85</th>\n",
       "      <th>0.90</th>\n",
       "      <th>0.95</th>\n",
       "    </tr>\n",
       "  </thead>\n",
       "  <tbody>\n",
       "    <tr>\n",
       "      <th>ResNet</th>\n",
       "      <td>0.858302</td>\n",
       "      <td>0.858302</td>\n",
       "      <td>0.858302</td>\n",
       "      <td>0.858698</td>\n",
       "      <td>0.860087</td>\n",
       "      <td>0.861685</td>\n",
       "      <td>0.864723</td>\n",
       "      <td>0.868870</td>\n",
       "      <td>0.874667</td>\n",
       "      <td>0.881515</td>\n",
       "      <td>0.889746</td>\n",
       "      <td>0.900470</td>\n",
       "      <td>0.909144</td>\n",
       "      <td>0.920063</td>\n",
       "      <td>0.928062</td>\n",
       "      <td>0.936211</td>\n",
       "      <td>0.945976</td>\n",
       "      <td>0.955200</td>\n",
       "      <td>0.964216</td>\n",
       "      <td>0.976830</td>\n",
       "    </tr>\n",
       "    <tr>\n",
       "      <th>KNN</th>\n",
       "      <td>0.854677</td>\n",
       "      <td>0.854677</td>\n",
       "      <td>0.854825</td>\n",
       "      <td>0.855859</td>\n",
       "      <td>0.857588</td>\n",
       "      <td>0.862954</td>\n",
       "      <td>0.871804</td>\n",
       "      <td>0.886820</td>\n",
       "      <td>0.901344</td>\n",
       "      <td>0.920199</td>\n",
       "      <td>0.939710</td>\n",
       "      <td>0.954010</td>\n",
       "      <td>0.966699</td>\n",
       "      <td>0.973467</td>\n",
       "      <td>0.978062</td>\n",
       "      <td>0.981184</td>\n",
       "      <td>0.986824</td>\n",
       "      <td>0.990137</td>\n",
       "      <td>0.990638</td>\n",
       "      <td>0.992754</td>\n",
       "    </tr>\n",
       "    <tr>\n",
       "      <th>EMD</th>\n",
       "      <td>0.849845</td>\n",
       "      <td>0.849845</td>\n",
       "      <td>0.850138</td>\n",
       "      <td>0.851461</td>\n",
       "      <td>0.853426</td>\n",
       "      <td>0.859825</td>\n",
       "      <td>0.870327</td>\n",
       "      <td>0.883935</td>\n",
       "      <td>0.901931</td>\n",
       "      <td>0.923962</td>\n",
       "      <td>0.944665</td>\n",
       "      <td>0.957422</td>\n",
       "      <td>0.964457</td>\n",
       "      <td>0.973526</td>\n",
       "      <td>0.978856</td>\n",
       "      <td>0.981709</td>\n",
       "      <td>0.987668</td>\n",
       "      <td>0.993040</td>\n",
       "      <td>0.993352</td>\n",
       "      <td>0.993827</td>\n",
       "    </tr>\n",
       "    <tr>\n",
       "      <th>CHM</th>\n",
       "      <td>0.832758</td>\n",
       "      <td>0.832758</td>\n",
       "      <td>0.832902</td>\n",
       "      <td>0.833564</td>\n",
       "      <td>0.835588</td>\n",
       "      <td>0.842955</td>\n",
       "      <td>0.856396</td>\n",
       "      <td>0.872496</td>\n",
       "      <td>0.896292</td>\n",
       "      <td>0.918085</td>\n",
       "      <td>0.941682</td>\n",
       "      <td>0.961470</td>\n",
       "      <td>0.972214</td>\n",
       "      <td>0.978399</td>\n",
       "      <td>0.984319</td>\n",
       "      <td>0.987067</td>\n",
       "      <td>0.988253</td>\n",
       "      <td>0.992558</td>\n",
       "      <td>0.993433</td>\n",
       "      <td>0.996357</td>\n",
       "    </tr>\n",
       "  </tbody>\n",
       "</table>\n",
       "</div>"
      ],
      "text/plain": [
       "            0.00      0.05      0.10      0.15      0.20      0.25      0.30  \\\n",
       "ResNet  0.858302  0.858302  0.858302  0.858698  0.860087  0.861685  0.864723   \n",
       "KNN     0.854677  0.854677  0.854825  0.855859  0.857588  0.862954  0.871804   \n",
       "EMD     0.849845  0.849845  0.850138  0.851461  0.853426  0.859825  0.870327   \n",
       "CHM     0.832758  0.832758  0.832902  0.833564  0.835588  0.842955  0.856396   \n",
       "\n",
       "            0.35      0.40      0.45      0.50      0.55      0.60      0.65  \\\n",
       "ResNet  0.868870  0.874667  0.881515  0.889746  0.900470  0.909144  0.920063   \n",
       "KNN     0.886820  0.901344  0.920199  0.939710  0.954010  0.966699  0.973467   \n",
       "EMD     0.883935  0.901931  0.923962  0.944665  0.957422  0.964457  0.973526   \n",
       "CHM     0.872496  0.896292  0.918085  0.941682  0.961470  0.972214  0.978399   \n",
       "\n",
       "            0.70      0.75      0.80      0.85      0.90      0.95  \n",
       "ResNet  0.928062  0.936211  0.945976  0.955200  0.964216  0.976830  \n",
       "KNN     0.978062  0.981184  0.986824  0.990137  0.990638  0.992754  \n",
       "EMD     0.978856  0.981709  0.987668  0.993040  0.993352  0.993827  \n",
       "CHM     0.984319  0.987067  0.988253  0.992558  0.993433  0.996357  "
      ]
     },
     "execution_count": 9,
     "metadata": {},
     "output_type": "execute_result"
    }
   ],
   "source": [
    "df = pd.DataFrame(TAnalysis).T\n",
    "df.head()"
   ]
  },
  {
   "cell_type": "markdown",
   "id": "15794ea0-f81d-48db-b0db-d76faa02b1ac",
   "metadata": {
    "pycharm": {
     "name": "#%% md\n"
    }
   },
   "source": [
    "## Number of Images "
   ]
  },
  {
   "cell_type": "code",
   "execution_count": 10,
   "id": "3cbfef6c-9cda-425a-8db0-0b29c9dd220e",
   "metadata": {
    "pycharm": {
     "name": "#%%\n"
    }
   },
   "outputs": [
    {
     "data": {
      "text/html": [
       "<div>\n",
       "<style scoped>\n",
       "    .dataframe tbody tr th:only-of-type {\n",
       "        vertical-align: middle;\n",
       "    }\n",
       "\n",
       "    .dataframe tbody tr th {\n",
       "        vertical-align: top;\n",
       "    }\n",
       "\n",
       "    .dataframe thead th {\n",
       "        text-align: right;\n",
       "    }\n",
       "</style>\n",
       "<table border=\"1\" class=\"dataframe\">\n",
       "  <thead>\n",
       "    <tr style=\"text-align: right;\">\n",
       "      <th></th>\n",
       "      <th>0.00</th>\n",
       "      <th>0.05</th>\n",
       "      <th>0.10</th>\n",
       "      <th>0.15</th>\n",
       "      <th>0.20</th>\n",
       "      <th>0.25</th>\n",
       "      <th>0.30</th>\n",
       "      <th>0.35</th>\n",
       "      <th>0.40</th>\n",
       "      <th>0.45</th>\n",
       "      <th>0.50</th>\n",
       "      <th>0.55</th>\n",
       "      <th>0.60</th>\n",
       "      <th>0.65</th>\n",
       "      <th>0.70</th>\n",
       "      <th>0.75</th>\n",
       "      <th>0.80</th>\n",
       "      <th>0.85</th>\n",
       "      <th>0.90</th>\n",
       "      <th>0.95</th>\n",
       "    </tr>\n",
       "  </thead>\n",
       "  <tbody>\n",
       "    <tr>\n",
       "      <th>ResNet</th>\n",
       "      <td>5794</td>\n",
       "      <td>5794</td>\n",
       "      <td>5794</td>\n",
       "      <td>5789</td>\n",
       "      <td>5775</td>\n",
       "      <td>5755</td>\n",
       "      <td>5729</td>\n",
       "      <td>5689</td>\n",
       "      <td>5633</td>\n",
       "      <td>5545</td>\n",
       "      <td>5442</td>\n",
       "      <td>5315</td>\n",
       "      <td>5184</td>\n",
       "      <td>5054</td>\n",
       "      <td>4907</td>\n",
       "      <td>4750</td>\n",
       "      <td>4572</td>\n",
       "      <td>4375</td>\n",
       "      <td>4108</td>\n",
       "      <td>3539</td>\n",
       "    </tr>\n",
       "    <tr>\n",
       "      <th>KNN</th>\n",
       "      <td>5794</td>\n",
       "      <td>5794</td>\n",
       "      <td>5793</td>\n",
       "      <td>5786</td>\n",
       "      <td>5772</td>\n",
       "      <td>5728</td>\n",
       "      <td>5632</td>\n",
       "      <td>5478</td>\n",
       "      <td>5281</td>\n",
       "      <td>5025</td>\n",
       "      <td>4694</td>\n",
       "      <td>4414</td>\n",
       "      <td>4144</td>\n",
       "      <td>3882</td>\n",
       "      <td>3601</td>\n",
       "      <td>3295</td>\n",
       "      <td>2960</td>\n",
       "      <td>2636</td>\n",
       "      <td>2243</td>\n",
       "      <td>1656</td>\n",
       "    </tr>\n",
       "    <tr>\n",
       "      <th>EMD</th>\n",
       "      <td>5794</td>\n",
       "      <td>5794</td>\n",
       "      <td>5792</td>\n",
       "      <td>5783</td>\n",
       "      <td>5765</td>\n",
       "      <td>5700</td>\n",
       "      <td>5591</td>\n",
       "      <td>5428</td>\n",
       "      <td>5180</td>\n",
       "      <td>4866</td>\n",
       "      <td>4536</td>\n",
       "      <td>4251</td>\n",
       "      <td>3967</td>\n",
       "      <td>3664</td>\n",
       "      <td>3358</td>\n",
       "      <td>3007</td>\n",
       "      <td>2676</td>\n",
       "      <td>2299</td>\n",
       "      <td>1805</td>\n",
       "      <td>1134</td>\n",
       "    </tr>\n",
       "    <tr>\n",
       "      <th>CHM</th>\n",
       "      <td>5794</td>\n",
       "      <td>5794</td>\n",
       "      <td>5793</td>\n",
       "      <td>5786</td>\n",
       "      <td>5766</td>\n",
       "      <td>5699</td>\n",
       "      <td>5550</td>\n",
       "      <td>5341</td>\n",
       "      <td>5043</td>\n",
       "      <td>4700</td>\n",
       "      <td>4304</td>\n",
       "      <td>3919</td>\n",
       "      <td>3527</td>\n",
       "      <td>3148</td>\n",
       "      <td>2806</td>\n",
       "      <td>2397</td>\n",
       "      <td>1958</td>\n",
       "      <td>1478</td>\n",
       "      <td>1066</td>\n",
       "      <td>549</td>\n",
       "    </tr>\n",
       "  </tbody>\n",
       "</table>\n",
       "</div>"
      ],
      "text/plain": [
       "        0.00  0.05  0.10  0.15  0.20  0.25  0.30  0.35  0.40  0.45  0.50  \\\n",
       "ResNet  5794  5794  5794  5789  5775  5755  5729  5689  5633  5545  5442   \n",
       "KNN     5794  5794  5793  5786  5772  5728  5632  5478  5281  5025  4694   \n",
       "EMD     5794  5794  5792  5783  5765  5700  5591  5428  5180  4866  4536   \n",
       "CHM     5794  5794  5793  5786  5766  5699  5550  5341  5043  4700  4304   \n",
       "\n",
       "        0.55  0.60  0.65  0.70  0.75  0.80  0.85  0.90  0.95  \n",
       "ResNet  5315  5184  5054  4907  4750  4572  4375  4108  3539  \n",
       "KNN     4414  4144  3882  3601  3295  2960  2636  2243  1656  \n",
       "EMD     4251  3967  3664  3358  3007  2676  2299  1805  1134  \n",
       "CHM     3919  3527  3148  2806  2397  1958  1478  1066   549  "
      ]
     },
     "execution_count": 10,
     "metadata": {},
     "output_type": "execute_result"
    }
   ],
   "source": [
    "df2 = pd.DataFrame(TCount).T\n",
    "df2.head()"
   ]
  },
  {
   "cell_type": "markdown",
   "id": "e4304509-f35f-4e2e-a161-1c50bd9f80d7",
   "metadata": {
    "pycharm": {
     "name": "#%% md\n"
    },
    "tags": []
   },
   "source": [
    "## Ratios (out of `5794` Images)"
   ]
  },
  {
   "cell_type": "code",
   "execution_count": 11,
   "id": "890887ca-a553-4e44-8a15-477b78c9f596",
   "metadata": {
    "pycharm": {
     "name": "#%%\n"
    }
   },
   "outputs": [
    {
     "data": {
      "text/html": [
       "<div>\n",
       "<style scoped>\n",
       "    .dataframe tbody tr th:only-of-type {\n",
       "        vertical-align: middle;\n",
       "    }\n",
       "\n",
       "    .dataframe tbody tr th {\n",
       "        vertical-align: top;\n",
       "    }\n",
       "\n",
       "    .dataframe thead th {\n",
       "        text-align: right;\n",
       "    }\n",
       "</style>\n",
       "<table border=\"1\" class=\"dataframe\">\n",
       "  <thead>\n",
       "    <tr style=\"text-align: right;\">\n",
       "      <th></th>\n",
       "      <th>0.00</th>\n",
       "      <th>0.05</th>\n",
       "      <th>0.10</th>\n",
       "      <th>0.15</th>\n",
       "      <th>0.20</th>\n",
       "      <th>0.25</th>\n",
       "      <th>0.30</th>\n",
       "      <th>0.35</th>\n",
       "      <th>0.40</th>\n",
       "      <th>0.45</th>\n",
       "      <th>0.50</th>\n",
       "      <th>0.55</th>\n",
       "      <th>0.60</th>\n",
       "      <th>0.65</th>\n",
       "      <th>0.70</th>\n",
       "      <th>0.75</th>\n",
       "      <th>0.80</th>\n",
       "      <th>0.85</th>\n",
       "      <th>0.90</th>\n",
       "      <th>0.95</th>\n",
       "    </tr>\n",
       "  </thead>\n",
       "  <tbody>\n",
       "    <tr>\n",
       "      <th>ResNet</th>\n",
       "      <td>1.0</td>\n",
       "      <td>1.0</td>\n",
       "      <td>1.000000</td>\n",
       "      <td>0.999137</td>\n",
       "      <td>0.996721</td>\n",
       "      <td>0.993269</td>\n",
       "      <td>0.988781</td>\n",
       "      <td>0.981878</td>\n",
       "      <td>0.972213</td>\n",
       "      <td>0.957025</td>\n",
       "      <td>0.939247</td>\n",
       "      <td>0.917328</td>\n",
       "      <td>0.894719</td>\n",
       "      <td>0.872282</td>\n",
       "      <td>0.846911</td>\n",
       "      <td>0.819814</td>\n",
       "      <td>0.789092</td>\n",
       "      <td>0.755091</td>\n",
       "      <td>0.709009</td>\n",
       "      <td>0.610804</td>\n",
       "    </tr>\n",
       "    <tr>\n",
       "      <th>KNN</th>\n",
       "      <td>1.0</td>\n",
       "      <td>1.0</td>\n",
       "      <td>0.999827</td>\n",
       "      <td>0.998619</td>\n",
       "      <td>0.996203</td>\n",
       "      <td>0.988609</td>\n",
       "      <td>0.972040</td>\n",
       "      <td>0.945461</td>\n",
       "      <td>0.911460</td>\n",
       "      <td>0.867276</td>\n",
       "      <td>0.810148</td>\n",
       "      <td>0.761823</td>\n",
       "      <td>0.715223</td>\n",
       "      <td>0.670003</td>\n",
       "      <td>0.621505</td>\n",
       "      <td>0.568692</td>\n",
       "      <td>0.510873</td>\n",
       "      <td>0.454953</td>\n",
       "      <td>0.387125</td>\n",
       "      <td>0.285813</td>\n",
       "    </tr>\n",
       "    <tr>\n",
       "      <th>EMD</th>\n",
       "      <td>1.0</td>\n",
       "      <td>1.0</td>\n",
       "      <td>0.999655</td>\n",
       "      <td>0.998101</td>\n",
       "      <td>0.994995</td>\n",
       "      <td>0.983776</td>\n",
       "      <td>0.964964</td>\n",
       "      <td>0.936831</td>\n",
       "      <td>0.894028</td>\n",
       "      <td>0.839834</td>\n",
       "      <td>0.782879</td>\n",
       "      <td>0.733690</td>\n",
       "      <td>0.684674</td>\n",
       "      <td>0.632378</td>\n",
       "      <td>0.579565</td>\n",
       "      <td>0.518985</td>\n",
       "      <td>0.461857</td>\n",
       "      <td>0.396790</td>\n",
       "      <td>0.311529</td>\n",
       "      <td>0.195720</td>\n",
       "    </tr>\n",
       "    <tr>\n",
       "      <th>CHM</th>\n",
       "      <td>1.0</td>\n",
       "      <td>1.0</td>\n",
       "      <td>0.999827</td>\n",
       "      <td>0.998619</td>\n",
       "      <td>0.995167</td>\n",
       "      <td>0.983604</td>\n",
       "      <td>0.957887</td>\n",
       "      <td>0.921816</td>\n",
       "      <td>0.870383</td>\n",
       "      <td>0.811184</td>\n",
       "      <td>0.742837</td>\n",
       "      <td>0.676389</td>\n",
       "      <td>0.608733</td>\n",
       "      <td>0.543321</td>\n",
       "      <td>0.484294</td>\n",
       "      <td>0.413704</td>\n",
       "      <td>0.337936</td>\n",
       "      <td>0.255091</td>\n",
       "      <td>0.183983</td>\n",
       "      <td>0.094753</td>\n",
       "    </tr>\n",
       "  </tbody>\n",
       "</table>\n",
       "</div>"
      ],
      "text/plain": [
       "        0.00  0.05      0.10      0.15      0.20      0.25      0.30  \\\n",
       "ResNet   1.0   1.0  1.000000  0.999137  0.996721  0.993269  0.988781   \n",
       "KNN      1.0   1.0  0.999827  0.998619  0.996203  0.988609  0.972040   \n",
       "EMD      1.0   1.0  0.999655  0.998101  0.994995  0.983776  0.964964   \n",
       "CHM      1.0   1.0  0.999827  0.998619  0.995167  0.983604  0.957887   \n",
       "\n",
       "            0.35      0.40      0.45      0.50      0.55      0.60      0.65  \\\n",
       "ResNet  0.981878  0.972213  0.957025  0.939247  0.917328  0.894719  0.872282   \n",
       "KNN     0.945461  0.911460  0.867276  0.810148  0.761823  0.715223  0.670003   \n",
       "EMD     0.936831  0.894028  0.839834  0.782879  0.733690  0.684674  0.632378   \n",
       "CHM     0.921816  0.870383  0.811184  0.742837  0.676389  0.608733  0.543321   \n",
       "\n",
       "            0.70      0.75      0.80      0.85      0.90      0.95  \n",
       "ResNet  0.846911  0.819814  0.789092  0.755091  0.709009  0.610804  \n",
       "KNN     0.621505  0.568692  0.510873  0.454953  0.387125  0.285813  \n",
       "EMD     0.579565  0.518985  0.461857  0.396790  0.311529  0.195720  \n",
       "CHM     0.484294  0.413704  0.337936  0.255091  0.183983  0.094753  "
      ]
     },
     "execution_count": 11,
     "metadata": {},
     "output_type": "execute_result"
    }
   ],
   "source": [
    "df3 = pd.DataFrame(TCount).T\n",
    "df3/len(GT_CUB)"
   ]
  },
  {
   "cell_type": "markdown",
   "id": "d739cbdd-daad-463d-9545-507595fd034e",
   "metadata": {
    "pycharm": {
     "name": "#%% md\n"
    }
   },
   "source": [
    "## Human Performance Analysis"
   ]
  },
  {
   "cell_type": "code",
   "execution_count": 12,
   "id": "dec8ddef-6c05-4e9f-8f01-4bcd09ccd14e",
   "metadata": {
    "pycharm": {
     "name": "#%%\n"
    }
   },
   "outputs": [],
   "source": [
    "df = pd.read_csv('../data/CUB-Human-Study-Summary.csv')"
   ]
  },
  {
   "cell_type": "markdown",
   "id": "0d5f6b59-63fd-4629-8370-826b0964ea5e",
   "metadata": {
    "pycharm": {
     "name": "#%% md\n"
    }
   },
   "source": [
    "### Removing Bad Users \n",
    "\n"
   ]
  },
  {
   "cell_type": "code",
   "execution_count": 13,
   "id": "2f245874-79d0-4ae3-b492-dcf71ff49cc7",
   "metadata": {
    "pycharm": {
     "name": "#%%\n"
    }
   },
   "outputs": [
    {
     "name": "stdout",
     "output_type": "stream",
     "text": [
      "total 10860 etnries\n"
     ]
    }
   ],
   "source": [
    "print(f\"total {len(df)} etnries\")"
   ]
  },
  {
   "cell_type": "code",
   "execution_count": 14,
   "id": "23a119b7-4e05-4bac-8d3a-369527d8e34a",
   "metadata": {
    "pycharm": {
     "name": "#%%\n"
    }
   },
   "outputs": [],
   "source": [
    "df = df.drop(df[df.Accuracy <= 0.5].index)"
   ]
  },
  {
   "cell_type": "code",
   "execution_count": 15,
   "id": "11034dee-94ad-41c6-9e3e-76b2c9b60d76",
   "metadata": {
    "pycharm": {
     "name": "#%%\n"
    }
   },
   "outputs": [
    {
     "name": "stdout",
     "output_type": "stream",
     "text": [
      "total 10650 etnries\n"
     ]
    }
   ],
   "source": [
    "print(f\"total {len(df)} etnries\")"
   ]
  },
  {
   "cell_type": "code",
   "execution_count": 16,
   "id": "6b89eae4-7f1d-40a1-89cd-007a6dd841e9",
   "metadata": {
    "pycharm": {
     "name": "#%%\n"
    }
   },
   "outputs": [],
   "source": [
    "df_treshold = copy.deepcopy(df[['Method', 'Correctness', 'ConfidenceScore']]) "
   ]
  },
  {
   "cell_type": "markdown",
   "id": "f9943bc1-5b75-46f6-ba60-b1377216ed5b",
   "metadata": {
    "pycharm": {
     "name": "#%% md\n"
    }
   },
   "source": [
    "## Human Performance"
   ]
  },
  {
   "cell_type": "code",
   "execution_count": 17,
   "id": "207439d3-6fd4-4e39-b1c1-bd008db7dd16",
   "metadata": {
    "pycharm": {
     "name": "#%%\n"
    }
   },
   "outputs": [],
   "source": [
    "human_accuracy = {}\n",
    "for T in np.arange(0., 1.05, 0.05):\n",
    "  human_accuracy[f'{T:0.2f}'] = df_treshold[df_treshold['ConfidenceScore']<T].groupby('Method')['Correctness'].mean()"
   ]
  },
  {
   "cell_type": "code",
   "execution_count": 18,
   "id": "da3224fe-12b8-4d50-acde-ec89474316c5",
   "metadata": {
    "pycharm": {
     "name": "#%%\n"
    }
   },
   "outputs": [
    {
     "data": {
      "text/html": [
       "<div>\n",
       "<style scoped>\n",
       "    .dataframe tbody tr th:only-of-type {\n",
       "        vertical-align: middle;\n",
       "    }\n",
       "\n",
       "    .dataframe tbody tr th {\n",
       "        vertical-align: top;\n",
       "    }\n",
       "\n",
       "    .dataframe thead th {\n",
       "        text-align: right;\n",
       "    }\n",
       "</style>\n",
       "<table border=\"1\" class=\"dataframe\">\n",
       "  <thead>\n",
       "    <tr style=\"text-align: right;\">\n",
       "      <th></th>\n",
       "      <th>Method</th>\n",
       "      <th>0.00</th>\n",
       "      <th>0.05</th>\n",
       "      <th>0.10</th>\n",
       "      <th>0.15</th>\n",
       "      <th>0.20</th>\n",
       "      <th>0.25</th>\n",
       "      <th>0.30</th>\n",
       "      <th>0.35</th>\n",
       "      <th>0.40</th>\n",
       "      <th>0.45</th>\n",
       "      <th>0.50</th>\n",
       "      <th>0.55</th>\n",
       "      <th>0.60</th>\n",
       "      <th>0.65</th>\n",
       "      <th>0.70</th>\n",
       "      <th>0.75</th>\n",
       "      <th>0.80</th>\n",
       "      <th>0.85</th>\n",
       "      <th>0.90</th>\n",
       "      <th>0.95</th>\n",
       "      <th>1.00</th>\n",
       "    </tr>\n",
       "  </thead>\n",
       "  <tbody>\n",
       "    <tr>\n",
       "      <th>1</th>\n",
       "      <td>ResNet-50</td>\n",
       "      <td>NaN</td>\n",
       "      <td>NaN</td>\n",
       "      <td>NaN</td>\n",
       "      <td>1.0</td>\n",
       "      <td>0.764706</td>\n",
       "      <td>0.794872</td>\n",
       "      <td>0.839286</td>\n",
       "      <td>0.764045</td>\n",
       "      <td>0.721739</td>\n",
       "      <td>0.693642</td>\n",
       "      <td>0.653846</td>\n",
       "      <td>0.592705</td>\n",
       "      <td>0.607843</td>\n",
       "      <td>0.572314</td>\n",
       "      <td>0.545614</td>\n",
       "      <td>0.546032</td>\n",
       "      <td>0.525547</td>\n",
       "      <td>0.517154</td>\n",
       "      <td>0.519075</td>\n",
       "      <td>0.545455</td>\n",
       "      <td>0.655000</td>\n",
       "    </tr>\n",
       "    <tr>\n",
       "      <th>0</th>\n",
       "      <td>kNN</td>\n",
       "      <td>NaN</td>\n",
       "      <td>NaN</td>\n",
       "      <td>NaN</td>\n",
       "      <td>1.0</td>\n",
       "      <td>1.000000</td>\n",
       "      <td>0.681818</td>\n",
       "      <td>0.507042</td>\n",
       "      <td>0.478261</td>\n",
       "      <td>0.478261</td>\n",
       "      <td>0.508516</td>\n",
       "      <td>0.507042</td>\n",
       "      <td>0.473103</td>\n",
       "      <td>0.473856</td>\n",
       "      <td>0.473856</td>\n",
       "      <td>0.496780</td>\n",
       "      <td>0.496780</td>\n",
       "      <td>0.511444</td>\n",
       "      <td>0.529549</td>\n",
       "      <td>0.529549</td>\n",
       "      <td>0.586043</td>\n",
       "      <td>0.586043</td>\n",
       "    </tr>\n",
       "    <tr>\n",
       "      <th>2</th>\n",
       "      <td>EMD-NN</td>\n",
       "      <td>NaN</td>\n",
       "      <td>NaN</td>\n",
       "      <td>NaN</td>\n",
       "      <td>0.6</td>\n",
       "      <td>0.600000</td>\n",
       "      <td>0.687500</td>\n",
       "      <td>0.557047</td>\n",
       "      <td>0.492126</td>\n",
       "      <td>0.492126</td>\n",
       "      <td>0.476658</td>\n",
       "      <td>0.489185</td>\n",
       "      <td>0.487350</td>\n",
       "      <td>0.493548</td>\n",
       "      <td>0.493548</td>\n",
       "      <td>0.509009</td>\n",
       "      <td>0.509009</td>\n",
       "      <td>0.529559</td>\n",
       "      <td>0.552924</td>\n",
       "      <td>0.552924</td>\n",
       "      <td>0.607955</td>\n",
       "      <td>0.607955</td>\n",
       "    </tr>\n",
       "    <tr>\n",
       "      <th>3</th>\n",
       "      <td>EMD-Corr</td>\n",
       "      <td>NaN</td>\n",
       "      <td>NaN</td>\n",
       "      <td>NaN</td>\n",
       "      <td>1.0</td>\n",
       "      <td>1.000000</td>\n",
       "      <td>0.866667</td>\n",
       "      <td>0.696970</td>\n",
       "      <td>0.603571</td>\n",
       "      <td>0.603571</td>\n",
       "      <td>0.587007</td>\n",
       "      <td>0.572379</td>\n",
       "      <td>0.572570</td>\n",
       "      <td>0.583423</td>\n",
       "      <td>0.583423</td>\n",
       "      <td>0.581967</td>\n",
       "      <td>0.581967</td>\n",
       "      <td>0.590372</td>\n",
       "      <td>0.606954</td>\n",
       "      <td>0.606954</td>\n",
       "      <td>0.645307</td>\n",
       "      <td>0.645307</td>\n",
       "    </tr>\n",
       "    <tr>\n",
       "      <th>4</th>\n",
       "      <td>CHM-NN</td>\n",
       "      <td>NaN</td>\n",
       "      <td>NaN</td>\n",
       "      <td>NaN</td>\n",
       "      <td>0.8</td>\n",
       "      <td>0.800000</td>\n",
       "      <td>0.615385</td>\n",
       "      <td>0.551351</td>\n",
       "      <td>0.549206</td>\n",
       "      <td>0.549206</td>\n",
       "      <td>0.531915</td>\n",
       "      <td>0.519440</td>\n",
       "      <td>0.506297</td>\n",
       "      <td>0.520457</td>\n",
       "      <td>0.520457</td>\n",
       "      <td>0.547877</td>\n",
       "      <td>0.547877</td>\n",
       "      <td>0.570000</td>\n",
       "      <td>0.601758</td>\n",
       "      <td>0.601758</td>\n",
       "      <td>0.643151</td>\n",
       "      <td>0.643151</td>\n",
       "    </tr>\n",
       "    <tr>\n",
       "      <th>5</th>\n",
       "      <td>CHM-Corr</td>\n",
       "      <td>NaN</td>\n",
       "      <td>NaN</td>\n",
       "      <td>NaN</td>\n",
       "      <td>1.0</td>\n",
       "      <td>1.000000</td>\n",
       "      <td>0.538462</td>\n",
       "      <td>0.722222</td>\n",
       "      <td>0.710611</td>\n",
       "      <td>0.710611</td>\n",
       "      <td>0.635776</td>\n",
       "      <td>0.629213</td>\n",
       "      <td>0.611538</td>\n",
       "      <td>0.605159</td>\n",
       "      <td>0.605159</td>\n",
       "      <td>0.623600</td>\n",
       "      <td>0.623600</td>\n",
       "      <td>0.633703</td>\n",
       "      <td>0.652022</td>\n",
       "      <td>0.652022</td>\n",
       "      <td>0.682883</td>\n",
       "      <td>0.682883</td>\n",
       "    </tr>\n",
       "  </tbody>\n",
       "</table>\n",
       "</div>"
      ],
      "text/plain": [
       "      Method  0.00  0.05  0.10  0.15      0.20      0.25      0.30      0.35  \\\n",
       "1  ResNet-50   NaN   NaN   NaN   1.0  0.764706  0.794872  0.839286  0.764045   \n",
       "0        kNN   NaN   NaN   NaN   1.0  1.000000  0.681818  0.507042  0.478261   \n",
       "2     EMD-NN   NaN   NaN   NaN   0.6  0.600000  0.687500  0.557047  0.492126   \n",
       "3   EMD-Corr   NaN   NaN   NaN   1.0  1.000000  0.866667  0.696970  0.603571   \n",
       "4     CHM-NN   NaN   NaN   NaN   0.8  0.800000  0.615385  0.551351  0.549206   \n",
       "5   CHM-Corr   NaN   NaN   NaN   1.0  1.000000  0.538462  0.722222  0.710611   \n",
       "\n",
       "       0.40      0.45      0.50      0.55      0.60      0.65      0.70  \\\n",
       "1  0.721739  0.693642  0.653846  0.592705  0.607843  0.572314  0.545614   \n",
       "0  0.478261  0.508516  0.507042  0.473103  0.473856  0.473856  0.496780   \n",
       "2  0.492126  0.476658  0.489185  0.487350  0.493548  0.493548  0.509009   \n",
       "3  0.603571  0.587007  0.572379  0.572570  0.583423  0.583423  0.581967   \n",
       "4  0.549206  0.531915  0.519440  0.506297  0.520457  0.520457  0.547877   \n",
       "5  0.710611  0.635776  0.629213  0.611538  0.605159  0.605159  0.623600   \n",
       "\n",
       "       0.75      0.80      0.85      0.90      0.95      1.00  \n",
       "1  0.546032  0.525547  0.517154  0.519075  0.545455  0.655000  \n",
       "0  0.496780  0.511444  0.529549  0.529549  0.586043  0.586043  \n",
       "2  0.509009  0.529559  0.552924  0.552924  0.607955  0.607955  \n",
       "3  0.581967  0.590372  0.606954  0.606954  0.645307  0.645307  \n",
       "4  0.547877  0.570000  0.601758  0.601758  0.643151  0.643151  \n",
       "5  0.623600  0.633703  0.652022  0.652022  0.682883  0.682883  "
      ]
     },
     "execution_count": 18,
     "metadata": {},
     "output_type": "execute_result"
    }
   ],
   "source": [
    "pd.DataFrame.from_dict(human_accuracy).loc[::-1].reset_index().sort_values(by='Method', key=lambda x: x.map(ORDER_DICT))"
   ]
  },
  {
   "cell_type": "markdown",
   "id": "ca253f41-e447-4f5c-b40a-b6124e31e7b5",
   "metadata": {
    "pycharm": {
     "name": "#%% md\n"
    }
   },
   "source": [
    "## Number of Samples"
   ]
  },
  {
   "cell_type": "code",
   "execution_count": 19,
   "id": "ad442380-ee28-445f-96e6-64e8ecc2912d",
   "metadata": {
    "pycharm": {
     "name": "#%%\n"
    }
   },
   "outputs": [],
   "source": [
    "human_count = {}\n",
    "for T in np.arange(0., 1.05, 0.05):\n",
    "  human_count[f'{T:0.2f}'] = df_treshold[df_treshold['ConfidenceScore']<T].groupby('Method')['Correctness'].count()"
   ]
  },
  {
   "cell_type": "code",
   "execution_count": 20,
   "id": "e31dd27c-9039-4324-bd0c-bc9fecb30bab",
   "metadata": {
    "pycharm": {
     "name": "#%%\n"
    }
   },
   "outputs": [
    {
     "data": {
      "text/html": [
       "<div>\n",
       "<style scoped>\n",
       "    .dataframe tbody tr th:only-of-type {\n",
       "        vertical-align: middle;\n",
       "    }\n",
       "\n",
       "    .dataframe tbody tr th {\n",
       "        vertical-align: top;\n",
       "    }\n",
       "\n",
       "    .dataframe thead th {\n",
       "        text-align: right;\n",
       "    }\n",
       "</style>\n",
       "<table border=\"1\" class=\"dataframe\">\n",
       "  <thead>\n",
       "    <tr style=\"text-align: right;\">\n",
       "      <th></th>\n",
       "      <th>Method</th>\n",
       "      <th>0.00</th>\n",
       "      <th>0.05</th>\n",
       "      <th>0.10</th>\n",
       "      <th>0.15</th>\n",
       "      <th>0.20</th>\n",
       "      <th>0.25</th>\n",
       "      <th>0.30</th>\n",
       "      <th>0.35</th>\n",
       "      <th>0.40</th>\n",
       "      <th>0.45</th>\n",
       "      <th>0.50</th>\n",
       "      <th>0.55</th>\n",
       "      <th>0.60</th>\n",
       "      <th>0.65</th>\n",
       "      <th>0.70</th>\n",
       "      <th>0.75</th>\n",
       "      <th>0.80</th>\n",
       "      <th>0.85</th>\n",
       "      <th>0.90</th>\n",
       "      <th>0.95</th>\n",
       "      <th>1.00</th>\n",
       "    </tr>\n",
       "  </thead>\n",
       "  <tbody>\n",
       "    <tr>\n",
       "      <th>1</th>\n",
       "      <td>ResNet-50</td>\n",
       "      <td>NaN</td>\n",
       "      <td>NaN</td>\n",
       "      <td>NaN</td>\n",
       "      <td>5</td>\n",
       "      <td>17</td>\n",
       "      <td>39</td>\n",
       "      <td>56</td>\n",
       "      <td>89</td>\n",
       "      <td>115</td>\n",
       "      <td>173</td>\n",
       "      <td>234</td>\n",
       "      <td>329</td>\n",
       "      <td>408</td>\n",
       "      <td>484</td>\n",
       "      <td>570</td>\n",
       "      <td>630</td>\n",
       "      <td>685</td>\n",
       "      <td>787</td>\n",
       "      <td>865</td>\n",
       "      <td>1056</td>\n",
       "      <td>1800</td>\n",
       "    </tr>\n",
       "    <tr>\n",
       "      <th>0</th>\n",
       "      <td>kNN</td>\n",
       "      <td>NaN</td>\n",
       "      <td>NaN</td>\n",
       "      <td>NaN</td>\n",
       "      <td>9</td>\n",
       "      <td>9</td>\n",
       "      <td>22</td>\n",
       "      <td>142</td>\n",
       "      <td>276</td>\n",
       "      <td>276</td>\n",
       "      <td>411</td>\n",
       "      <td>568</td>\n",
       "      <td>725</td>\n",
       "      <td>918</td>\n",
       "      <td>918</td>\n",
       "      <td>1087</td>\n",
       "      <td>1087</td>\n",
       "      <td>1136</td>\n",
       "      <td>1286</td>\n",
       "      <td>1286</td>\n",
       "      <td>1476</td>\n",
       "      <td>1476</td>\n",
       "    </tr>\n",
       "    <tr>\n",
       "      <th>2</th>\n",
       "      <td>EMD-NN</td>\n",
       "      <td>NaN</td>\n",
       "      <td>NaN</td>\n",
       "      <td>NaN</td>\n",
       "      <td>5</td>\n",
       "      <td>5</td>\n",
       "      <td>16</td>\n",
       "      <td>149</td>\n",
       "      <td>254</td>\n",
       "      <td>254</td>\n",
       "      <td>407</td>\n",
       "      <td>601</td>\n",
       "      <td>751</td>\n",
       "      <td>930</td>\n",
       "      <td>930</td>\n",
       "      <td>1110</td>\n",
       "      <td>1110</td>\n",
       "      <td>1201</td>\n",
       "      <td>1351</td>\n",
       "      <td>1351</td>\n",
       "      <td>1584</td>\n",
       "      <td>1584</td>\n",
       "    </tr>\n",
       "    <tr>\n",
       "      <th>3</th>\n",
       "      <td>EMD-Corr</td>\n",
       "      <td>NaN</td>\n",
       "      <td>NaN</td>\n",
       "      <td>NaN</td>\n",
       "      <td>4</td>\n",
       "      <td>4</td>\n",
       "      <td>15</td>\n",
       "      <td>165</td>\n",
       "      <td>280</td>\n",
       "      <td>280</td>\n",
       "      <td>431</td>\n",
       "      <td>601</td>\n",
       "      <td>751</td>\n",
       "      <td>929</td>\n",
       "      <td>929</td>\n",
       "      <td>1098</td>\n",
       "      <td>1098</td>\n",
       "      <td>1184</td>\n",
       "      <td>1323</td>\n",
       "      <td>1323</td>\n",
       "      <td>1545</td>\n",
       "      <td>1545</td>\n",
       "    </tr>\n",
       "    <tr>\n",
       "      <th>4</th>\n",
       "      <td>CHM-NN</td>\n",
       "      <td>NaN</td>\n",
       "      <td>NaN</td>\n",
       "      <td>NaN</td>\n",
       "      <td>5</td>\n",
       "      <td>5</td>\n",
       "      <td>13</td>\n",
       "      <td>185</td>\n",
       "      <td>315</td>\n",
       "      <td>315</td>\n",
       "      <td>470</td>\n",
       "      <td>643</td>\n",
       "      <td>794</td>\n",
       "      <td>1051</td>\n",
       "      <td>1051</td>\n",
       "      <td>1201</td>\n",
       "      <td>1201</td>\n",
       "      <td>1300</td>\n",
       "      <td>1479</td>\n",
       "      <td>1479</td>\n",
       "      <td>1701</td>\n",
       "      <td>1701</td>\n",
       "    </tr>\n",
       "    <tr>\n",
       "      <th>5</th>\n",
       "      <td>CHM-Corr</td>\n",
       "      <td>NaN</td>\n",
       "      <td>NaN</td>\n",
       "      <td>NaN</td>\n",
       "      <td>5</td>\n",
       "      <td>5</td>\n",
       "      <td>13</td>\n",
       "      <td>180</td>\n",
       "      <td>311</td>\n",
       "      <td>311</td>\n",
       "      <td>464</td>\n",
       "      <td>623</td>\n",
       "      <td>780</td>\n",
       "      <td>1008</td>\n",
       "      <td>1008</td>\n",
       "      <td>1161</td>\n",
       "      <td>1161</td>\n",
       "      <td>1264</td>\n",
       "      <td>1434</td>\n",
       "      <td>1434</td>\n",
       "      <td>1665</td>\n",
       "      <td>1665</td>\n",
       "    </tr>\n",
       "  </tbody>\n",
       "</table>\n",
       "</div>"
      ],
      "text/plain": [
       "      Method  0.00  0.05  0.10  0.15  0.20  0.25  0.30  0.35  0.40  0.45  \\\n",
       "1  ResNet-50   NaN   NaN   NaN     5    17    39    56    89   115   173   \n",
       "0        kNN   NaN   NaN   NaN     9     9    22   142   276   276   411   \n",
       "2     EMD-NN   NaN   NaN   NaN     5     5    16   149   254   254   407   \n",
       "3   EMD-Corr   NaN   NaN   NaN     4     4    15   165   280   280   431   \n",
       "4     CHM-NN   NaN   NaN   NaN     5     5    13   185   315   315   470   \n",
       "5   CHM-Corr   NaN   NaN   NaN     5     5    13   180   311   311   464   \n",
       "\n",
       "   0.50  0.55  0.60  0.65  0.70  0.75  0.80  0.85  0.90  0.95  1.00  \n",
       "1   234   329   408   484   570   630   685   787   865  1056  1800  \n",
       "0   568   725   918   918  1087  1087  1136  1286  1286  1476  1476  \n",
       "2   601   751   930   930  1110  1110  1201  1351  1351  1584  1584  \n",
       "3   601   751   929   929  1098  1098  1184  1323  1323  1545  1545  \n",
       "4   643   794  1051  1051  1201  1201  1300  1479  1479  1701  1701  \n",
       "5   623   780  1008  1008  1161  1161  1264  1434  1434  1665  1665  "
      ]
     },
     "execution_count": 20,
     "metadata": {},
     "output_type": "execute_result"
    }
   ],
   "source": [
    "pd.DataFrame.from_dict(human_count).loc[::-1].reset_index().sort_values(by='Method', key=lambda x: x.map(ORDER_DICT))"
   ]
  },
  {
   "cell_type": "code",
   "execution_count": 21,
   "id": "7e623e39-d3e2-4f6f-889e-2398eb80c0f1",
   "metadata": {
    "pycharm": {
     "name": "#%%\n"
    }
   },
   "outputs": [
    {
     "data": {
      "text/html": [
       "<div>\n",
       "<style scoped>\n",
       "    .dataframe tbody tr th:only-of-type {\n",
       "        vertical-align: middle;\n",
       "    }\n",
       "\n",
       "    .dataframe tbody tr th {\n",
       "        vertical-align: top;\n",
       "    }\n",
       "\n",
       "    .dataframe thead th {\n",
       "        text-align: right;\n",
       "    }\n",
       "</style>\n",
       "<table border=\"1\" class=\"dataframe\">\n",
       "  <thead>\n",
       "    <tr style=\"text-align: right;\">\n",
       "      <th></th>\n",
       "      <th>UID</th>\n",
       "      <th>Query</th>\n",
       "      <th>Counter balance</th>\n",
       "      <th>Validation Reaction Time</th>\n",
       "      <th>Test Reaction Time</th>\n",
       "      <th>Date</th>\n",
       "      <th>Correctness</th>\n",
       "      <th>Accuracy</th>\n",
       "      <th>Total Corrects</th>\n",
       "      <th>Method</th>\n",
       "      <th>GroundTruth</th>\n",
       "      <th>ClassifierCorrectness</th>\n",
       "      <th>ConfidenceScore</th>\n",
       "      <th>DifficultyLevel</th>\n",
       "      <th>ResNet-Prediction</th>\n",
       "      <th>KNN-Prediction</th>\n",
       "      <th>EMD-Prediction</th>\n",
       "      <th>CHM-Prediction</th>\n",
       "      <th>ResNet-Conf</th>\n",
       "      <th>KNN-Conf</th>\n",
       "      <th>EMD-Conf</th>\n",
       "      <th>CHM-Conf</th>\n",
       "    </tr>\n",
       "  </thead>\n",
       "  <tbody>\n",
       "    <tr>\n",
       "      <th>0</th>\n",
       "      <td>5791dae225cb71000128ad5bNo-XAI</td>\n",
       "      <td>Hooded_Oriole_0105_90875.jpg</td>\n",
       "      <td>6</td>\n",
       "      <td>412124.0</td>\n",
       "      <td>411022</td>\n",
       "      <td>2022-05-05 14:14:35.473</td>\n",
       "      <td>1</td>\n",
       "      <td>0.566667</td>\n",
       "      <td>17</td>\n",
       "      <td>ResNet-50</td>\n",
       "      <td>096.Hooded_Oriole</td>\n",
       "      <td>0</td>\n",
       "      <td>0.88</td>\n",
       "      <td>Hard</td>\n",
       "      <td>175.Pine_Warbler</td>\n",
       "      <td>175.Pine_Warbler</td>\n",
       "      <td>175.Pine_Warbler</td>\n",
       "      <td>175.Pine_Warbler</td>\n",
       "      <td>0.88</td>\n",
       "      <td>0.0125</td>\n",
       "      <td>0.0175</td>\n",
       "      <td>0.0125</td>\n",
       "    </tr>\n",
       "    <tr>\n",
       "      <th>1</th>\n",
       "      <td>5791dae225cb71000128ad5bNo-XAI</td>\n",
       "      <td>Chuck_Will_Widow_0051_796991.jpg</td>\n",
       "      <td>6</td>\n",
       "      <td>412124.0</td>\n",
       "      <td>411022</td>\n",
       "      <td>2022-05-05 14:14:35.473</td>\n",
       "      <td>0</td>\n",
       "      <td>0.566667</td>\n",
       "      <td>17</td>\n",
       "      <td>ResNet-50</td>\n",
       "      <td>022.Chuck_will_Widow</td>\n",
       "      <td>1</td>\n",
       "      <td>0.72</td>\n",
       "      <td>Medium</td>\n",
       "      <td>022.Chuck_will_Widow</td>\n",
       "      <td>105.Whip_poor_Will</td>\n",
       "      <td>105.Whip_poor_Will</td>\n",
       "      <td>105.Whip_poor_Will</td>\n",
       "      <td>0.72</td>\n",
       "      <td>0.0275</td>\n",
       "      <td>0.0225</td>\n",
       "      <td>0.0300</td>\n",
       "    </tr>\n",
       "  </tbody>\n",
       "</table>\n",
       "</div>"
      ],
      "text/plain": [
       "                              UID                             Query  \\\n",
       "0  5791dae225cb71000128ad5bNo-XAI      Hooded_Oriole_0105_90875.jpg   \n",
       "1  5791dae225cb71000128ad5bNo-XAI  Chuck_Will_Widow_0051_796991.jpg   \n",
       "\n",
       "   Counter balance  Validation Reaction Time  Test Reaction Time  \\\n",
       "0                6                  412124.0              411022   \n",
       "1                6                  412124.0              411022   \n",
       "\n",
       "                      Date  Correctness  Accuracy  Total Corrects     Method  \\\n",
       "0  2022-05-05 14:14:35.473            1  0.566667              17  ResNet-50   \n",
       "1  2022-05-05 14:14:35.473            0  0.566667              17  ResNet-50   \n",
       "\n",
       "            GroundTruth  ClassifierCorrectness  ConfidenceScore  \\\n",
       "0     096.Hooded_Oriole                      0             0.88   \n",
       "1  022.Chuck_will_Widow                      1             0.72   \n",
       "\n",
       "  DifficultyLevel     ResNet-Prediction      KNN-Prediction  \\\n",
       "0            Hard      175.Pine_Warbler    175.Pine_Warbler   \n",
       "1          Medium  022.Chuck_will_Widow  105.Whip_poor_Will   \n",
       "\n",
       "       EMD-Prediction      CHM-Prediction  ResNet-Conf  KNN-Conf  EMD-Conf  \\\n",
       "0    175.Pine_Warbler    175.Pine_Warbler         0.88    0.0125    0.0175   \n",
       "1  105.Whip_poor_Will  105.Whip_poor_Will         0.72    0.0275    0.0225   \n",
       "\n",
       "   CHM-Conf  \n",
       "0    0.0125  \n",
       "1    0.0300  "
      ]
     },
     "execution_count": 21,
     "metadata": {},
     "output_type": "execute_result"
    }
   ],
   "source": [
    "df.head(2)"
   ]
  },
  {
   "cell_type": "code",
   "execution_count": 22,
   "id": "ae913929-3c1e-416f-87b3-08cdc3027a00",
   "metadata": {
    "pycharm": {
     "name": "#%%\n"
    }
   },
   "outputs": [],
   "source": [
    "optimal_T_cub = {'ResNet-50':  0.6,\n",
    "                  'kNN':      0.45,\n",
    "                  'EMD-NN':    0.30,\n",
    "                  'EMD-Corr':  0.4,\n",
    "                  'CHM-NN':    0.4,\n",
    "                  'CHM-Corr':  0.4}"
   ]
  },
  {
   "cell_type": "code",
   "execution_count": 23,
   "id": "c8744ba1-6959-4ebb-bc16-a43d8e359b06",
   "metadata": {
    "pycharm": {
     "name": "#%%\n"
    }
   },
   "outputs": [
    {
     "data": {
      "text/plain": [
       "array(['ResNet-50', 'kNN', 'EMD-Corr', 'CHM-NN', 'CHM-Corr', 'EMD-NN'],\n",
       "      dtype=object)"
      ]
     },
     "execution_count": 23,
     "metadata": {},
     "output_type": "execute_result"
    }
   ],
   "source": [
    "df.Method.unique()"
   ]
  },
  {
   "cell_type": "code",
   "execution_count": 24,
   "id": "a68c7470-f030-4311-9d94-96217c4c26ec",
   "metadata": {
    "pycharm": {
     "name": "#%%\n"
    }
   },
   "outputs": [],
   "source": [
    "dfs = []\n",
    "\n",
    "for k, v in optimal_T_cub.items():\n",
    "  new_df = df[(df['ConfidenceScore'] < v) & (df['Method'] ==  k)]\n",
    "  dfs.append(new_df)"
   ]
  },
  {
   "cell_type": "code",
   "execution_count": 25,
   "id": "a44fec72-ba55-4e48-8ae7-a8ef9b69bc34",
   "metadata": {
    "pycharm": {
     "name": "#%%\n"
    }
   },
   "outputs": [],
   "source": [
    "df_offloads = pd.concat(dfs, axis=0)"
   ]
  },
  {
   "cell_type": "code",
   "execution_count": 26,
   "id": "84a6f99b-e98d-403f-8360-c90a3b29d02e",
   "metadata": {
    "pycharm": {
     "name": "#%%\n"
    }
   },
   "outputs": [],
   "source": [
    "df_difflevel = df_offloads.groupby(['UID', 'Method', 'DifficultyLevel', 'ClassifierCorrectness'])['Correctness'].agg([\"count\", \"sum\", \"mean\"]).unstack().stack().reset_index().sort_values(by='Method', key=lambda x: x.map(ORDER_DICT))\n",
    "df_difflevel['mean'] = df_difflevel['mean']*100"
   ]
  },
  {
   "cell_type": "code",
   "execution_count": 27,
   "id": "c0bc1fdd-736d-44b6-b44e-2777c9a5e604",
   "metadata": {
    "pycharm": {
     "name": "#%%\n"
    }
   },
   "outputs": [
    {
     "data": {
      "image/png": "[encoded data removed]",
      "text/plain": [
       "<Figure size 1296x864 with 6 Axes>"
      ]
     },
     "metadata": {
      "needs_background": "light"
     },
     "output_type": "display_data"
    }
   ],
   "source": [
    "with sns.plotting_context('paper', font_scale = 1.4):\n",
    "  g = sns.FacetGrid(df_difflevel, col=\"DifficultyLevel\", row=\"ClassifierCorrectness\", height=6, col_order=['Easy', 'Medium', 'Hard'])\n",
    "  g.map(sns.barplot, \"Method\", \"mean\", order=['ResNet-50', 'kNN', 'EMD-NN', 'EMD-Corr', 'CHM-NN', 'CHM-Corr'], palette=\"tab10\", capsize=.1)\n",
    "\n",
    "  [plt.setp(ax.get_xticklabels(), rotation=0) for ax in g.axes.flat]\n",
    "\n",
    "  for ax in g.axes.flat:\n",
    "    for container in ax.containers:\n",
    "      ax.bar_label(container, fontsize=12, fmt='%.2f%%', label_type='center')\n",
    "\n",
    "  plt.ylim(0, 105)\n",
    "  \n",
    "  axes = g.axes.flatten()\n",
    "  for ci, C in enumerate(['Wrong', 'Correct']):\n",
    "    for di, D in enumerate(['Easy', 'Medium', 'Hard']):\n",
    "      axes[(ci*3)+di].set_title(f\"AI:{C} | Difficulty Category:{D}\")\n",
    "\n",
    "  axes[0].set_ylabel('Average human accuracy')\n",
    "  axes[3].set_ylabel('Average human accuracy')\n",
    "\n",
    "  g.fig.subplots_adjust(top=0.9)\n",
    "  g.fig.suptitle('MEAN ACCURACY - CUB - Samples offloaded to Human @ Optimal Threshold (for each classifier) \\n\\n')\n",
    "  \n",
    "  plt.show()"
   ]
  },
  {
   "cell_type": "code",
   "execution_count": 28,
   "id": "5036280f-18f1-4c80-8427-c23c7bbaebfe",
   "metadata": {
    "pycharm": {
     "name": "#%%\n"
    }
   },
   "outputs": [],
   "source": [
    "df_correctness = df_offloads.groupby(['UID', 'Method', 'ClassifierCorrectness'])['Correctness'].agg([\"count\", \"sum\", \"mean\"]).unstack().stack().reset_index()\n",
    "df_correctness['mean'] *=100"
   ]
  },
  {
   "cell_type": "code",
   "execution_count": 29,
   "id": "6365829c-7bb2-4d3a-afdd-2862a8975503",
   "metadata": {
    "pycharm": {
     "name": "#%%\n"
    }
   },
   "outputs": [
    {
     "data": {
      "image/png": "[encoded data removed]",
      "text/plain": [
       "<Figure size 1200x600 with 2 Axes>"
      ]
     },
     "metadata": {},
     "output_type": "display_data"
    }
   ],
   "source": [
    "with sns.plotting_context('paper', font_scale = 1.4):\n",
    "  g = sns.FacetGrid(df_correctness, col=\"ClassifierCorrectness\", height=6)\n",
    "  g.map(sns.barplot, \"Method\", \"mean\", order=['ResNet-50', 'kNN', 'EMD-NN', 'EMD-Corr', 'CHM-NN', 'CHM-Corr'], palette=\"tab10\", capsize=.1)\n",
    "  \n",
    "  [plt.setp(ax.get_xticklabels(), rotation=0) for ax in g.axes.flat]\n",
    "\n",
    "  for ax in g.axes.flat:\n",
    "    for container in ax.containers:\n",
    "      ax.bar_label(container, fontsize=12, label_type='center', fmt='%.2f%%')\n",
    "\n",
    "  axes = g.axes.flatten()\n",
    "  axes[0].set_ylabel('Average human Accuracy')\n",
    "\n",
    "  g.fig.subplots_adjust(top=0.9)\n",
    "  g.fig.suptitle('MEAN ACCURACY - CUB - Samples offloaded to Human @ Optimal Threshold (for each classifier) \\n\\n')\n",
    "  \n",
    "  plt.show()"
   ]
  },
  {
   "cell_type": "code",
   "execution_count": 30,
   "id": "427f269b-10d8-4a5f-8417-e3884efc944e",
   "metadata": {
    "pycharm": {
     "name": "#%%\n"
    }
   },
   "outputs": [],
   "source": [
    "df_correctness_count = df_offloads.groupby(['Method', 'ClassifierCorrectness'])['UID'].count().reset_index()"
   ]
  },
  {
   "cell_type": "code",
   "execution_count": 31,
   "id": "f7c96dc1-9d38-4759-8481-9ae2c313d219",
   "metadata": {
    "pycharm": {
     "name": "#%%\n"
    }
   },
   "outputs": [
    {
     "data": {
      "image/png": "[encoded data removed]",
      "text/plain": [
       "<Figure size 1200x600 with 2 Axes>"
      ]
     },
     "metadata": {},
     "output_type": "display_data"
    }
   ],
   "source": [
    "with sns.plotting_context('paper', font_scale = 1.4):\n",
    "  g = sns.FacetGrid(df_correctness_count, col=\"ClassifierCorrectness\", height=6)\n",
    "  g.map(sns.barplot, \"Method\", \"UID\", order=['ResNet-50', 'kNN', 'EMD-NN', 'EMD-Corr', 'CHM-NN', 'CHM-Corr'], palette=\"tab10\", capsize=.1)\n",
    "  \n",
    "  [plt.setp(ax.get_xticklabels(), rotation=0) for ax in g.axes.flat]\n",
    "\n",
    "  for ax in g.axes.flat:\n",
    "    for container in ax.containers:\n",
    "      ax.bar_label(container, fontsize=12, label_type='center')\n",
    "\n",
    "  axes = g.axes.flatten()\n",
    "  axes[0].set_ylabel('Average human Accuracy')\n",
    "  \n",
    "  g.fig.subplots_adjust(top=0.9)\n",
    "  g.fig.suptitle('# sample - CUB - Samples offloaded to Human @ Optimal Threshold (for each classifier) \\n\\n')\n",
    "  \n",
    "  plt.show()"
   ]
  },
  {
   "cell_type": "code",
   "execution_count": 32,
   "id": "f905dc6d-69de-47dc-b7a4-52b6070de3f3",
   "metadata": {
    "pycharm": {
     "name": "#%%\n"
    }
   },
   "outputs": [],
   "source": [
    "df_for_human = df[df['ConfidenceScore'] <optimal_T_cub['kNN']]"
   ]
  },
  {
   "cell_type": "code",
   "execution_count": 33,
   "id": "a6e7572d-ffe4-49de-88f9-887713683e6a",
   "metadata": {
    "pycharm": {
     "name": "#%%\n"
    }
   },
   "outputs": [
    {
     "data": {
      "text/html": [
       "<div>\n",
       "<style scoped>\n",
       "    .dataframe tbody tr th:only-of-type {\n",
       "        vertical-align: middle;\n",
       "    }\n",
       "\n",
       "    .dataframe tbody tr th {\n",
       "        vertical-align: top;\n",
       "    }\n",
       "\n",
       "    .dataframe thead th {\n",
       "        text-align: right;\n",
       "    }\n",
       "</style>\n",
       "<table border=\"1\" class=\"dataframe\">\n",
       "  <thead>\n",
       "    <tr style=\"text-align: right;\">\n",
       "      <th></th>\n",
       "      <th>Method</th>\n",
       "      <th>ClassifierCorrectness</th>\n",
       "      <th>UID</th>\n",
       "    </tr>\n",
       "  </thead>\n",
       "  <tbody>\n",
       "    <tr>\n",
       "      <th>8</th>\n",
       "      <td>ResNet-50</td>\n",
       "      <td>0</td>\n",
       "      <td>165</td>\n",
       "    </tr>\n",
       "    <tr>\n",
       "      <th>9</th>\n",
       "      <td>ResNet-50</td>\n",
       "      <td>1</td>\n",
       "      <td>8</td>\n",
       "    </tr>\n",
       "    <tr>\n",
       "      <th>10</th>\n",
       "      <td>kNN</td>\n",
       "      <td>0</td>\n",
       "      <td>380</td>\n",
       "    </tr>\n",
       "    <tr>\n",
       "      <th>11</th>\n",
       "      <td>kNN</td>\n",
       "      <td>1</td>\n",
       "      <td>31</td>\n",
       "    </tr>\n",
       "    <tr>\n",
       "      <th>6</th>\n",
       "      <td>EMD-NN</td>\n",
       "      <td>0</td>\n",
       "      <td>370</td>\n",
       "    </tr>\n",
       "    <tr>\n",
       "      <th>7</th>\n",
       "      <td>EMD-NN</td>\n",
       "      <td>1</td>\n",
       "      <td>37</td>\n",
       "    </tr>\n",
       "    <tr>\n",
       "      <th>4</th>\n",
       "      <td>EMD-Corr</td>\n",
       "      <td>0</td>\n",
       "      <td>381</td>\n",
       "    </tr>\n",
       "    <tr>\n",
       "      <th>5</th>\n",
       "      <td>EMD-Corr</td>\n",
       "      <td>1</td>\n",
       "      <td>50</td>\n",
       "    </tr>\n",
       "    <tr>\n",
       "      <th>2</th>\n",
       "      <td>CHM-NN</td>\n",
       "      <td>0</td>\n",
       "      <td>415</td>\n",
       "    </tr>\n",
       "    <tr>\n",
       "      <th>3</th>\n",
       "      <td>CHM-NN</td>\n",
       "      <td>1</td>\n",
       "      <td>55</td>\n",
       "    </tr>\n",
       "    <tr>\n",
       "      <th>0</th>\n",
       "      <td>CHM-Corr</td>\n",
       "      <td>0</td>\n",
       "      <td>414</td>\n",
       "    </tr>\n",
       "    <tr>\n",
       "      <th>1</th>\n",
       "      <td>CHM-Corr</td>\n",
       "      <td>1</td>\n",
       "      <td>50</td>\n",
       "    </tr>\n",
       "  </tbody>\n",
       "</table>\n",
       "</div>"
      ],
      "text/plain": [
       "       Method  ClassifierCorrectness  UID\n",
       "8   ResNet-50                      0  165\n",
       "9   ResNet-50                      1    8\n",
       "10        kNN                      0  380\n",
       "11        kNN                      1   31\n",
       "6      EMD-NN                      0  370\n",
       "7      EMD-NN                      1   37\n",
       "4    EMD-Corr                      0  381\n",
       "5    EMD-Corr                      1   50\n",
       "2      CHM-NN                      0  415\n",
       "3      CHM-NN                      1   55\n",
       "0    CHM-Corr                      0  414\n",
       "1    CHM-Corr                      1   50"
      ]
     },
     "execution_count": 33,
     "metadata": {},
     "output_type": "execute_result"
    }
   ],
   "source": [
    "df_for_human.groupby(['Method', 'ClassifierCorrectness'])['UID'].count().reset_index().sort_values(by='Method', key=lambda x: x.map(ORDER_DICT))"
   ]
  },
  {
   "cell_type": "code",
   "execution_count": 34,
   "id": "c1ac951b-d8ad-480d-84cf-5848d5b39fc9",
   "metadata": {
    "pycharm": {
     "name": "#%%\n"
    }
   },
   "outputs": [
    {
     "data": {
      "text/html": [
       "<div>\n",
       "<style scoped>\n",
       "    .dataframe tbody tr th:only-of-type {\n",
       "        vertical-align: middle;\n",
       "    }\n",
       "\n",
       "    .dataframe tbody tr th {\n",
       "        vertical-align: top;\n",
       "    }\n",
       "\n",
       "    .dataframe thead th {\n",
       "        text-align: right;\n",
       "    }\n",
       "</style>\n",
       "<table border=\"1\" class=\"dataframe\">\n",
       "  <thead>\n",
       "    <tr style=\"text-align: right;\">\n",
       "      <th></th>\n",
       "      <th>Method</th>\n",
       "      <th>Correctness</th>\n",
       "    </tr>\n",
       "  </thead>\n",
       "  <tbody>\n",
       "    <tr>\n",
       "      <th>4</th>\n",
       "      <td>ResNet-50</td>\n",
       "      <td>0.693642</td>\n",
       "    </tr>\n",
       "    <tr>\n",
       "      <th>5</th>\n",
       "      <td>kNN</td>\n",
       "      <td>0.508516</td>\n",
       "    </tr>\n",
       "    <tr>\n",
       "      <th>3</th>\n",
       "      <td>EMD-NN</td>\n",
       "      <td>0.476658</td>\n",
       "    </tr>\n",
       "    <tr>\n",
       "      <th>2</th>\n",
       "      <td>EMD-Corr</td>\n",
       "      <td>0.587007</td>\n",
       "    </tr>\n",
       "    <tr>\n",
       "      <th>1</th>\n",
       "      <td>CHM-NN</td>\n",
       "      <td>0.531915</td>\n",
       "    </tr>\n",
       "    <tr>\n",
       "      <th>0</th>\n",
       "      <td>CHM-Corr</td>\n",
       "      <td>0.635776</td>\n",
       "    </tr>\n",
       "  </tbody>\n",
       "</table>\n",
       "</div>"
      ],
      "text/plain": [
       "      Method  Correctness\n",
       "4  ResNet-50     0.693642\n",
       "5        kNN     0.508516\n",
       "3     EMD-NN     0.476658\n",
       "2   EMD-Corr     0.587007\n",
       "1     CHM-NN     0.531915\n",
       "0   CHM-Corr     0.635776"
      ]
     },
     "execution_count": 34,
     "metadata": {},
     "output_type": "execute_result"
    }
   ],
   "source": [
    "df_for_human.groupby('Method')['Correctness'].mean().reset_index().sort_values(by='Method', key=lambda x: x.map(ORDER_DICT))"
   ]
  },
  {
   "cell_type": "code",
   "execution_count": 35,
   "id": "7ce780f1-38aa-492f-9982-56bbdf75fee0",
   "metadata": {
    "pycharm": {
     "name": "#%%\n"
    }
   },
   "outputs": [
    {
     "data": {
      "text/html": [
       "<div>\n",
       "<style scoped>\n",
       "    .dataframe tbody tr th:only-of-type {\n",
       "        vertical-align: middle;\n",
       "    }\n",
       "\n",
       "    .dataframe tbody tr th {\n",
       "        vertical-align: top;\n",
       "    }\n",
       "\n",
       "    .dataframe thead th {\n",
       "        text-align: right;\n",
       "    }\n",
       "</style>\n",
       "<table border=\"1\" class=\"dataframe\">\n",
       "  <thead>\n",
       "    <tr style=\"text-align: right;\">\n",
       "      <th></th>\n",
       "      <th>Method</th>\n",
       "      <th>DifficultyLevel</th>\n",
       "      <th>UID</th>\n",
       "    </tr>\n",
       "  </thead>\n",
       "  <tbody>\n",
       "    <tr>\n",
       "      <th>14</th>\n",
       "      <td>ResNet-50</td>\n",
       "      <td>Medium</td>\n",
       "      <td>90</td>\n",
       "    </tr>\n",
       "    <tr>\n",
       "      <th>13</th>\n",
       "      <td>ResNet-50</td>\n",
       "      <td>Hard</td>\n",
       "      <td>1</td>\n",
       "    </tr>\n",
       "    <tr>\n",
       "      <th>12</th>\n",
       "      <td>ResNet-50</td>\n",
       "      <td>Easy</td>\n",
       "      <td>82</td>\n",
       "    </tr>\n",
       "    <tr>\n",
       "      <th>16</th>\n",
       "      <td>kNN</td>\n",
       "      <td>Medium</td>\n",
       "      <td>269</td>\n",
       "    </tr>\n",
       "    <tr>\n",
       "      <th>15</th>\n",
       "      <td>kNN</td>\n",
       "      <td>Easy</td>\n",
       "      <td>142</td>\n",
       "    </tr>\n",
       "    <tr>\n",
       "      <th>11</th>\n",
       "      <td>EMD-NN</td>\n",
       "      <td>Medium</td>\n",
       "      <td>258</td>\n",
       "    </tr>\n",
       "    <tr>\n",
       "      <th>10</th>\n",
       "      <td>EMD-NN</td>\n",
       "      <td>Hard</td>\n",
       "      <td>11</td>\n",
       "    </tr>\n",
       "    <tr>\n",
       "      <th>9</th>\n",
       "      <td>EMD-NN</td>\n",
       "      <td>Easy</td>\n",
       "      <td>138</td>\n",
       "    </tr>\n",
       "    <tr>\n",
       "      <th>8</th>\n",
       "      <td>EMD-Corr</td>\n",
       "      <td>Medium</td>\n",
       "      <td>266</td>\n",
       "    </tr>\n",
       "    <tr>\n",
       "      <th>6</th>\n",
       "      <td>EMD-Corr</td>\n",
       "      <td>Easy</td>\n",
       "      <td>151</td>\n",
       "    </tr>\n",
       "    <tr>\n",
       "      <th>7</th>\n",
       "      <td>EMD-Corr</td>\n",
       "      <td>Hard</td>\n",
       "      <td>14</td>\n",
       "    </tr>\n",
       "    <tr>\n",
       "      <th>5</th>\n",
       "      <td>CHM-NN</td>\n",
       "      <td>Medium</td>\n",
       "      <td>285</td>\n",
       "    </tr>\n",
       "    <tr>\n",
       "      <th>4</th>\n",
       "      <td>CHM-NN</td>\n",
       "      <td>Hard</td>\n",
       "      <td>14</td>\n",
       "    </tr>\n",
       "    <tr>\n",
       "      <th>3</th>\n",
       "      <td>CHM-NN</td>\n",
       "      <td>Easy</td>\n",
       "      <td>171</td>\n",
       "    </tr>\n",
       "    <tr>\n",
       "      <th>2</th>\n",
       "      <td>CHM-Corr</td>\n",
       "      <td>Medium</td>\n",
       "      <td>284</td>\n",
       "    </tr>\n",
       "    <tr>\n",
       "      <th>1</th>\n",
       "      <td>CHM-Corr</td>\n",
       "      <td>Hard</td>\n",
       "      <td>9</td>\n",
       "    </tr>\n",
       "    <tr>\n",
       "      <th>0</th>\n",
       "      <td>CHM-Corr</td>\n",
       "      <td>Easy</td>\n",
       "      <td>171</td>\n",
       "    </tr>\n",
       "  </tbody>\n",
       "</table>\n",
       "</div>"
      ],
      "text/plain": [
       "       Method DifficultyLevel  UID\n",
       "14  ResNet-50          Medium   90\n",
       "13  ResNet-50            Hard    1\n",
       "12  ResNet-50            Easy   82\n",
       "16        kNN          Medium  269\n",
       "15        kNN            Easy  142\n",
       "11     EMD-NN          Medium  258\n",
       "10     EMD-NN            Hard   11\n",
       "9      EMD-NN            Easy  138\n",
       "8    EMD-Corr          Medium  266\n",
       "6    EMD-Corr            Easy  151\n",
       "7    EMD-Corr            Hard   14\n",
       "5      CHM-NN          Medium  285\n",
       "4      CHM-NN            Hard   14\n",
       "3      CHM-NN            Easy  171\n",
       "2    CHM-Corr          Medium  284\n",
       "1    CHM-Corr            Hard    9\n",
       "0    CHM-Corr            Easy  171"
      ]
     },
     "execution_count": 35,
     "metadata": {},
     "output_type": "execute_result"
    }
   ],
   "source": [
    "df_for_human.groupby(['Method', 'DifficultyLevel'])['UID'].count().reset_index().sort_values(by='Method', key=lambda x: x.map(ORDER_DICT))"
   ]
  },
  {
   "cell_type": "code",
   "execution_count": 36,
   "id": "a7d71ac5-eed8-4e29-8b7d-e50b19f9d91d",
   "metadata": {
    "pycharm": {
     "name": "#%%\n"
    }
   },
   "outputs": [
    {
     "data": {
      "text/html": [
       "<div>\n",
       "<style scoped>\n",
       "    .dataframe tbody tr th:only-of-type {\n",
       "        vertical-align: middle;\n",
       "    }\n",
       "\n",
       "    .dataframe tbody tr th {\n",
       "        vertical-align: top;\n",
       "    }\n",
       "\n",
       "    .dataframe thead th {\n",
       "        text-align: right;\n",
       "    }\n",
       "</style>\n",
       "<table border=\"1\" class=\"dataframe\">\n",
       "  <thead>\n",
       "    <tr style=\"text-align: right;\">\n",
       "      <th></th>\n",
       "      <th>Method</th>\n",
       "      <th>ClassifierCorrectness</th>\n",
       "      <th>UID</th>\n",
       "    </tr>\n",
       "  </thead>\n",
       "  <tbody>\n",
       "    <tr>\n",
       "      <th>8</th>\n",
       "      <td>ResNet-50</td>\n",
       "      <td>0</td>\n",
       "      <td>165</td>\n",
       "    </tr>\n",
       "    <tr>\n",
       "      <th>9</th>\n",
       "      <td>ResNet-50</td>\n",
       "      <td>1</td>\n",
       "      <td>8</td>\n",
       "    </tr>\n",
       "    <tr>\n",
       "      <th>10</th>\n",
       "      <td>kNN</td>\n",
       "      <td>0</td>\n",
       "      <td>380</td>\n",
       "    </tr>\n",
       "    <tr>\n",
       "      <th>11</th>\n",
       "      <td>kNN</td>\n",
       "      <td>1</td>\n",
       "      <td>31</td>\n",
       "    </tr>\n",
       "    <tr>\n",
       "      <th>6</th>\n",
       "      <td>EMD-NN</td>\n",
       "      <td>0</td>\n",
       "      <td>370</td>\n",
       "    </tr>\n",
       "    <tr>\n",
       "      <th>7</th>\n",
       "      <td>EMD-NN</td>\n",
       "      <td>1</td>\n",
       "      <td>37</td>\n",
       "    </tr>\n",
       "    <tr>\n",
       "      <th>4</th>\n",
       "      <td>EMD-Corr</td>\n",
       "      <td>0</td>\n",
       "      <td>381</td>\n",
       "    </tr>\n",
       "    <tr>\n",
       "      <th>5</th>\n",
       "      <td>EMD-Corr</td>\n",
       "      <td>1</td>\n",
       "      <td>50</td>\n",
       "    </tr>\n",
       "    <tr>\n",
       "      <th>2</th>\n",
       "      <td>CHM-NN</td>\n",
       "      <td>0</td>\n",
       "      <td>415</td>\n",
       "    </tr>\n",
       "    <tr>\n",
       "      <th>3</th>\n",
       "      <td>CHM-NN</td>\n",
       "      <td>1</td>\n",
       "      <td>55</td>\n",
       "    </tr>\n",
       "    <tr>\n",
       "      <th>0</th>\n",
       "      <td>CHM-Corr</td>\n",
       "      <td>0</td>\n",
       "      <td>414</td>\n",
       "    </tr>\n",
       "    <tr>\n",
       "      <th>1</th>\n",
       "      <td>CHM-Corr</td>\n",
       "      <td>1</td>\n",
       "      <td>50</td>\n",
       "    </tr>\n",
       "  </tbody>\n",
       "</table>\n",
       "</div>"
      ],
      "text/plain": [
       "       Method  ClassifierCorrectness  UID\n",
       "8   ResNet-50                      0  165\n",
       "9   ResNet-50                      1    8\n",
       "10        kNN                      0  380\n",
       "11        kNN                      1   31\n",
       "6      EMD-NN                      0  370\n",
       "7      EMD-NN                      1   37\n",
       "4    EMD-Corr                      0  381\n",
       "5    EMD-Corr                      1   50\n",
       "2      CHM-NN                      0  415\n",
       "3      CHM-NN                      1   55\n",
       "0    CHM-Corr                      0  414\n",
       "1    CHM-Corr                      1   50"
      ]
     },
     "execution_count": 36,
     "metadata": {},
     "output_type": "execute_result"
    }
   ],
   "source": [
    "df_for_human.groupby(['Method', 'ClassifierCorrectness'])['UID'].count().reset_index().sort_values(by='Method', key=lambda x: x.map(ORDER_DICT))"
   ]
  },
  {
   "cell_type": "code",
   "execution_count": 37,
   "id": "7f1a020f-eba3-47b1-994c-bbdd69436495",
   "metadata": {
    "pycharm": {
     "name": "#%%\n"
    }
   },
   "outputs": [
    {
     "data": {
      "text/html": [
       "<div>\n",
       "<style scoped>\n",
       "    .dataframe tbody tr th:only-of-type {\n",
       "        vertical-align: middle;\n",
       "    }\n",
       "\n",
       "    .dataframe tbody tr th {\n",
       "        vertical-align: top;\n",
       "    }\n",
       "\n",
       "    .dataframe thead th {\n",
       "        text-align: right;\n",
       "    }\n",
       "</style>\n",
       "<table border=\"1\" class=\"dataframe\">\n",
       "  <thead>\n",
       "    <tr style=\"text-align: right;\">\n",
       "      <th></th>\n",
       "      <th>Method</th>\n",
       "      <th>ClassifierCorrectness</th>\n",
       "      <th>Correctness</th>\n",
       "    </tr>\n",
       "  </thead>\n",
       "  <tbody>\n",
       "    <tr>\n",
       "      <th>8</th>\n",
       "      <td>ResNet-50</td>\n",
       "      <td>0</td>\n",
       "      <td>0.703030</td>\n",
       "    </tr>\n",
       "    <tr>\n",
       "      <th>9</th>\n",
       "      <td>ResNet-50</td>\n",
       "      <td>1</td>\n",
       "      <td>0.500000</td>\n",
       "    </tr>\n",
       "    <tr>\n",
       "      <th>10</th>\n",
       "      <td>kNN</td>\n",
       "      <td>0</td>\n",
       "      <td>0.471053</td>\n",
       "    </tr>\n",
       "    <tr>\n",
       "      <th>11</th>\n",
       "      <td>kNN</td>\n",
       "      <td>1</td>\n",
       "      <td>0.967742</td>\n",
       "    </tr>\n",
       "    <tr>\n",
       "      <th>6</th>\n",
       "      <td>EMD-NN</td>\n",
       "      <td>0</td>\n",
       "      <td>0.440541</td>\n",
       "    </tr>\n",
       "    <tr>\n",
       "      <th>7</th>\n",
       "      <td>EMD-NN</td>\n",
       "      <td>1</td>\n",
       "      <td>0.837838</td>\n",
       "    </tr>\n",
       "    <tr>\n",
       "      <th>4</th>\n",
       "      <td>EMD-Corr</td>\n",
       "      <td>0</td>\n",
       "      <td>0.595801</td>\n",
       "    </tr>\n",
       "    <tr>\n",
       "      <th>5</th>\n",
       "      <td>EMD-Corr</td>\n",
       "      <td>1</td>\n",
       "      <td>0.520000</td>\n",
       "    </tr>\n",
       "    <tr>\n",
       "      <th>2</th>\n",
       "      <td>CHM-NN</td>\n",
       "      <td>0</td>\n",
       "      <td>0.503614</td>\n",
       "    </tr>\n",
       "    <tr>\n",
       "      <th>3</th>\n",
       "      <td>CHM-NN</td>\n",
       "      <td>1</td>\n",
       "      <td>0.745455</td>\n",
       "    </tr>\n",
       "    <tr>\n",
       "      <th>0</th>\n",
       "      <td>CHM-Corr</td>\n",
       "      <td>0</td>\n",
       "      <td>0.637681</td>\n",
       "    </tr>\n",
       "    <tr>\n",
       "      <th>1</th>\n",
       "      <td>CHM-Corr</td>\n",
       "      <td>1</td>\n",
       "      <td>0.620000</td>\n",
       "    </tr>\n",
       "  </tbody>\n",
       "</table>\n",
       "</div>"
      ],
      "text/plain": [
       "       Method  ClassifierCorrectness  Correctness\n",
       "8   ResNet-50                      0     0.703030\n",
       "9   ResNet-50                      1     0.500000\n",
       "10        kNN                      0     0.471053\n",
       "11        kNN                      1     0.967742\n",
       "6      EMD-NN                      0     0.440541\n",
       "7      EMD-NN                      1     0.837838\n",
       "4    EMD-Corr                      0     0.595801\n",
       "5    EMD-Corr                      1     0.520000\n",
       "2      CHM-NN                      0     0.503614\n",
       "3      CHM-NN                      1     0.745455\n",
       "0    CHM-Corr                      0     0.637681\n",
       "1    CHM-Corr                      1     0.620000"
      ]
     },
     "execution_count": 37,
     "metadata": {},
     "output_type": "execute_result"
    }
   ],
   "source": [
    "df_for_human.groupby(['Method', 'ClassifierCorrectness'])['Correctness'].mean().reset_index().sort_values(by='Method', key=lambda x: x.map(ORDER_DICT))"
   ]
  }
 ],
 "metadata": {
  "kernelspec": {
   "display_name": "Python 3 (ipykernel)",
   "language": "python",
   "name": "python3"
  },
  "language_info": {
   "codemirror_mode": {
    "name": "ipython",
    "version": 3
   },
   "file_extension": ".py",
   "mimetype": "text/x-python",
   "name": "python",
   "nbconvert_exporter": "python",
   "pygments_lexer": "ipython3",
   "version": "3.10.4"
  }
 },
 "nbformat": 4,
 "nbformat_minor": 5
}