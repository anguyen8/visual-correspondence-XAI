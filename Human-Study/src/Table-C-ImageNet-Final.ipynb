{
 "cells": [
  {
   "cell_type": "markdown",
   "id": "1e96809b-1499-4871-ab45-24102186e1c7",
   "metadata": {
    "pycharm": {
     "name": "#%% md\n"
    }
   },
   "source": [
    "# AI and Human AI Performance"
   ]
  },
  {
   "cell_type": "code",
   "execution_count": 2,
   "id": "a793c559-4c39-449d-97bd-9603e6d3edcc",
   "metadata": {
    "pycharm": {
     "name": "#%%\n"
    }
   },
   "outputs": [
    {
     "name": "stderr",
     "output_type": "stream",
     "text": [
      "/opt/homebrew/Caskroom/miniforge/base/envs/deep36/lib/python3.8/site-packages/scipy/__init__.py:146: UserWarning: A NumPy version >=1.16.5 and <1.23.0 is required for this version of SciPy (detected version 1.23.2\n",
      "  warnings.warn(f\"A NumPy version >={np_minversion} and <{np_maxversion}\"\n"
     ]
    }
   ],
   "source": [
    "import numpy as np\n",
    "import pandas as pd\n",
    "from tqdm import tqdm\n",
    "import pickle\n",
    "import random\n",
    "import copy\n",
    "import pickle\n",
    "import random\n",
    "import numpy as np\n",
    "import pandas as pd\n",
    "import seaborn as sns\n",
    "sns.set()"
   ]
  },
  {
   "cell_type": "code",
   "execution_count": 3,
   "metadata": {},
   "outputs": [],
   "source": [
    "pd.set_option(\"display.max_columns\", None)\n",
    "pd.set_option(\"display.max_rows\", None)"
   ]
  },
  {
   "cell_type": "markdown",
   "id": "b74f38f6-1c81-4044-9dfa-a193a74ed137",
   "metadata": {
    "pycharm": {
     "name": "#%% md\n"
    }
   },
   "source": [
    "# ImageNet\n",
    "##  Load summary fo AI Performance"
   ]
  },
  {
   "cell_type": "code",
   "execution_count": 4,
   "id": "95ad66e3-a375-45f1-860b-9410707051e4",
   "metadata": {
    "pycharm": {
     "name": "#%%\n"
    }
   },
   "outputs": [],
   "source": [
    "random.seed(42)\n",
    "\n",
    "with open('../data/Classification-Summary-ImageNet.pickle', 'rb') as f:\n",
    "  classification_summary = pickle.load(f)"
   ]
  },
  {
   "cell_type": "code",
   "execution_count": 5,
   "id": "df637283-913b-4412-8ab8-cc063854ac02",
   "metadata": {
    "pycharm": {
     "name": "#%%\n"
    }
   },
   "outputs": [
    {
     "data": {
      "text/plain": [
       "dict_keys(['all_gts', 'resnet_wnid', 'knn_wnid', 'emd_wnid', 'chm_wnid', 'resnet_conf', 'knn_conf', 'emd_conf', 'chm_conf', 'resnet_wnid_real', 'knn_wnid_real', 'emd_wnid_real', 'chm_wnid_real', 'resnet_real_conf', 'knn__real_conf', 'emd__real_conf', 'chm__real_conf'])"
      ]
     },
     "execution_count": 5,
     "metadata": {},
     "output_type": "execute_result"
    }
   ],
   "source": [
    "classification_summary.keys()"
   ]
  },
  {
   "cell_type": "markdown",
   "id": "e4f33b9f-119a-4951-90e3-94e11e534f3a",
   "metadata": {
    "pycharm": {
     "name": "#%% md\n"
    }
   },
   "source": [
    "### Unpacking"
   ]
  },
  {
   "cell_type": "code",
   "execution_count": 6,
   "id": "2c900124-6b30-4415-b441-06b29250967b",
   "metadata": {
    "pycharm": {
     "name": "#%%\n"
    }
   },
   "outputs": [],
   "source": [
    "real_gt_real = classification_summary['all_gts']\n",
    "\n",
    "resnet_wnid_real = classification_summary['resnet_wnid_real']\n",
    "knn_wnid_real    = classification_summary['knn_wnid_real']   \n",
    "emd_wnid_real    = classification_summary['emd_wnid_real']   \n",
    "chm_wnid_real    = classification_summary['chm_wnid_real']   \n",
    "\n",
    "IsM1Correct_real = classification_summary['resnet_wnid_real'] \n",
    "IsM2Correct_real = classification_summary['knn_wnid_real']    \n",
    "IsM3Correct_real = classification_summary['emd_wnid_real']    \n",
    "IsM4Correct_real = classification_summary['chm_wnid_real']    \n",
    "\n",
    "M1Conf_real = classification_summary['resnet_real_conf']  \n",
    "M2Conf_real = classification_summary['knn__real_conf']    \n",
    "M3Conf_real = classification_summary['emd__real_conf']    \n",
    "M4Conf_real = classification_summary['chm__real_conf']    "
   ]
  },
  {
   "cell_type": "code",
   "execution_count": 7,
   "metadata": {
    "collapsed": false,
    "pycharm": {
     "name": "#%%\n"
    }
   },
   "outputs": [
    {
     "name": "stderr",
     "output_type": "stream",
     "text": [
      "100%|██████████| 21/21 [00:00<00:00, 32.18it/s]\n",
      "100%|██████████| 21/21 [00:00<00:00, 33.37it/s]\n",
      "100%|██████████| 21/21 [00:00<00:00, 27.61it/s]\n",
      "100%|██████████| 21/21 [00:00<00:00, 33.11it/s]\n"
     ]
    }
   ],
   "source": [
    "MethodName = ['ResNet', 'KNN', 'EMD', 'CHM']\n",
    "Methods    = [IsM1Correct_real,IsM2Correct_real,IsM3Correct_real,IsM4Correct_real]\n",
    "Confs      = [M1Conf_real,M2Conf_real,M3Conf_real,M4Conf_real]\n",
    "\n",
    "TAnalysis = {}\n",
    "\n",
    "for N, M, C in zip(MethodName, Methods, Confs):\n",
    "  TAnalysis[N] = {}\n",
    "  for T in tqdm(np.arange(0., 1.05, 0.05)):\n",
    "    TAnalysis[N][round(T, 2)] = np.average([x[0] == (x[1]>=T) for x in zip(M, C)])"
   ]
  },
  {
   "cell_type": "code",
   "execution_count": 8,
   "metadata": {},
   "outputs": [],
   "source": [
    "TAnalysis[N][round(T, 2)] = np.average([x[0] == (x[1]>=T) for x in zip(M, C)])"
   ]
  },
  {
   "cell_type": "code",
   "execution_count": 9,
   "id": "786fd0cd-d164-4222-9f23-60f55d49cacd",
   "metadata": {
    "pycharm": {
     "name": "#%%\n"
    }
   },
   "outputs": [],
   "source": [
    "def split_data_44(a, b):\n",
    "  zipped = list(zip(a, b))\n",
    "  random.shuffle(zipped)\n",
    "  ra, rb = zip(*zipped)\n",
    "  return ra[:2000], rb[:2000],  ra[2000:], rb[2000:]"
   ]
  },
  {
   "cell_type": "code",
   "execution_count": 10,
   "id": "99a35cb3-2156-49f3-a59b-13377d73c0b6",
   "metadata": {
    "pycharm": {
     "name": "#%%\n"
    }
   },
   "outputs": [
    {
     "name": "stderr",
     "output_type": "stream",
     "text": [
      "100%|██████████| 21/21 [00:00<00:00, 835.03it/s]\n",
      "100%|██████████| 21/21 [00:00<00:00, 830.11it/s]\n",
      "100%|██████████| 21/21 [00:00<00:00, 794.52it/s]\n",
      "100%|██████████| 21/21 [00:00<00:00, 867.38it/s]\n"
     ]
    }
   ],
   "source": [
    "MethodName = ['ResNet', 'KNN', 'EMD', 'CHM']\n",
    "\n",
    "IsM1Correct_T, M1Conf_T, IsM1Correct_V, M1Conf_V = split_data_44(IsM1Correct_real, M1Conf_real)\n",
    "IsM2Correct_T, M2Conf_T, IsM2Correct_V, M2Conf_V = split_data_44(IsM2Correct_real, M2Conf_real)\n",
    "IsM3Correct_T, M3Conf_T, IsM3Correct_V, M3Conf_V = split_data_44(IsM3Correct_real, M3Conf_real)\n",
    "IsM4Correct_T, M4Conf_T, IsM4Correct_V, M4Conf_V = split_data_44(IsM4Correct_real, M4Conf_real)\n",
    "\n",
    "\n",
    "Methods_T = [IsM1Correct_T, IsM2Correct_T, IsM3Correct_T, IsM4Correct_T]\n",
    "Confs_T   = [M1Conf_T, M2Conf_T, M3Conf_T, M4Conf_T]\n",
    "\n",
    "TAnalysis_T = {}\n",
    "\n",
    "for N, M, C in zip(MethodName, Methods_T, Confs_T):\n",
    "  TAnalysis_T[N] = {}\n",
    "  for T in tqdm(np.arange(0., 1.05, 0.05)):\n",
    "    TAnalysis_T[N][round(T, 2)] = np.average([x[0] == (x[1]>=T) for x in zip(M, C)])"
   ]
  },
  {
   "cell_type": "code",
   "execution_count": 11,
   "id": "7e27d715-f1f0-4298-b92c-2f408dbd6ae6",
   "metadata": {
    "pycharm": {
     "name": "#%%\n"
    }
   },
   "outputs": [
    {
     "name": "stderr",
     "output_type": "stream",
     "text": [
      "100%|██████████| 21/21 [00:00<00:00, 39.65it/s]\n",
      "100%|██████████| 21/21 [00:00<00:00, 40.03it/s]\n",
      "100%|██████████| 21/21 [00:00<00:00, 37.69it/s]\n",
      "100%|██████████| 21/21 [00:00<00:00, 40.58it/s]\n"
     ]
    }
   ],
   "source": [
    "Methods_V = [IsM1Correct_V, IsM2Correct_V, IsM3Correct_V, IsM4Correct_V]\n",
    "Confs_V   = [M1Conf_V, M2Conf_V, M3Conf_V, M4Conf_V]\n",
    "\n",
    "TAnalysis_V = {}\n",
    "\n",
    "for N, M, C in zip(MethodName, Methods_V, Confs_V):\n",
    "  TAnalysis_V[N] = {}\n",
    "  for T in tqdm(np.arange(0., 1.05, 0.05)):\n",
    "    TAnalysis_V[N][round(T, 2)] = np.average([x[0] == (x[1]>=T) for x in zip(M, C)])"
   ]
  },
  {
   "cell_type": "code",
   "execution_count": 12,
   "id": "a5c1e457-3822-42c2-87f1-b7c6ad75ebc3",
   "metadata": {
    "pycharm": {
     "name": "#%%\n"
    }
   },
   "outputs": [
    {
     "data": {
      "text/html": [
       "<style type=\"text/css\">\n",
       "#T_9f901_row0_col0, #T_9f901_row0_col1, #T_9f901_row2_col5 {\n",
       "  background-color: #03446a;\n",
       "  color: #f1f1f1;\n",
       "}\n",
       "#T_9f901_row0_col2, #T_9f901_row0_col13, #T_9f901_row1_col11, #T_9f901_row2_col11 {\n",
       "  background-color: #034369;\n",
       "  color: #f1f1f1;\n",
       "}\n",
       "#T_9f901_row0_col3, #T_9f901_row3_col11 {\n",
       "  background-color: #034165;\n",
       "  color: #f1f1f1;\n",
       "}\n",
       "#T_9f901_row0_col4 {\n",
       "  background-color: #023e62;\n",
       "  color: #f1f1f1;\n",
       "}\n",
       "#T_9f901_row0_col5, #T_9f901_row3_col6 {\n",
       "  background-color: #023c5f;\n",
       "  color: #f1f1f1;\n",
       "}\n",
       "#T_9f901_row0_col6, #T_9f901_row1_col6 {\n",
       "  background-color: #023a5b;\n",
       "  color: #f1f1f1;\n",
       "}\n",
       "#T_9f901_row0_col7, #T_9f901_row2_col6, #T_9f901_row3_col7, #T_9f901_row3_col8, #T_9f901_row3_col10 {\n",
       "  background-color: #02395a;\n",
       "  color: #f1f1f1;\n",
       "}\n",
       "#T_9f901_row0_col8, #T_9f901_row0_col9, #T_9f901_row0_col10, #T_9f901_row1_col7, #T_9f901_row1_col8, #T_9f901_row1_col9, #T_9f901_row2_col7, #T_9f901_row2_col8, #T_9f901_row2_col9, #T_9f901_row3_col9 {\n",
       "  background-color: #023858;\n",
       "  color: #f1f1f1;\n",
       "}\n",
       "#T_9f901_row0_col11, #T_9f901_row1_col10, #T_9f901_row2_col10 {\n",
       "  background-color: #023b5d;\n",
       "  color: #f1f1f1;\n",
       "}\n",
       "#T_9f901_row0_col12 {\n",
       "  background-color: #023f64;\n",
       "  color: #f1f1f1;\n",
       "}\n",
       "#T_9f901_row0_col14 {\n",
       "  background-color: #034973;\n",
       "  color: #f1f1f1;\n",
       "}\n",
       "#T_9f901_row0_col15, #T_9f901_row3_col3, #T_9f901_row3_col4 {\n",
       "  background-color: #034e7b;\n",
       "  color: #f1f1f1;\n",
       "}\n",
       "#T_9f901_row0_col16, #T_9f901_row3_col12, #T_9f901_row3_col13 {\n",
       "  background-color: #045788;\n",
       "  color: #f1f1f1;\n",
       "}\n",
       "#T_9f901_row0_col17 {\n",
       "  background-color: #046097;\n",
       "  color: #f1f1f1;\n",
       "}\n",
       "#T_9f901_row0_col18 {\n",
       "  background-color: #0569a4;\n",
       "  color: #f1f1f1;\n",
       "}\n",
       "#T_9f901_row0_col19 {\n",
       "  background-color: #2786bb;\n",
       "  color: #f1f1f1;\n",
       "}\n",
       "#T_9f901_row0_col20, #T_9f901_row1_col19, #T_9f901_row1_col20, #T_9f901_row2_col19, #T_9f901_row2_col20, #T_9f901_row3_col19, #T_9f901_row3_col20 {\n",
       "  background-color: #fff7fb;\n",
       "  color: #000000;\n",
       "}\n",
       "#T_9f901_row1_col0, #T_9f901_row1_col1, #T_9f901_row1_col2, #T_9f901_row3_col0, #T_9f901_row3_col1, #T_9f901_row3_col2 {\n",
       "  background-color: #04588a;\n",
       "  color: #f1f1f1;\n",
       "}\n",
       "#T_9f901_row1_col3, #T_9f901_row1_col4 {\n",
       "  background-color: #034d79;\n",
       "  color: #f1f1f1;\n",
       "}\n",
       "#T_9f901_row1_col5 {\n",
       "  background-color: #03476f;\n",
       "  color: #f1f1f1;\n",
       "}\n",
       "#T_9f901_row1_col12, #T_9f901_row1_col13, #T_9f901_row2_col12, #T_9f901_row2_col13 {\n",
       "  background-color: #04598c;\n",
       "  color: #f1f1f1;\n",
       "}\n",
       "#T_9f901_row1_col14, #T_9f901_row1_col15 {\n",
       "  background-color: #056ead;\n",
       "  color: #f1f1f1;\n",
       "}\n",
       "#T_9f901_row1_col16 {\n",
       "  background-color: #1e80b8;\n",
       "  color: #f1f1f1;\n",
       "}\n",
       "#T_9f901_row1_col17, #T_9f901_row1_col18 {\n",
       "  background-color: #7eadd1;\n",
       "  color: #f1f1f1;\n",
       "}\n",
       "#T_9f901_row2_col0, #T_9f901_row2_col1, #T_9f901_row2_col2 {\n",
       "  background-color: #045585;\n",
       "  color: #f1f1f1;\n",
       "}\n",
       "#T_9f901_row2_col3, #T_9f901_row2_col4 {\n",
       "  background-color: #034a74;\n",
       "  color: #f1f1f1;\n",
       "}\n",
       "#T_9f901_row2_col14, #T_9f901_row2_col15 {\n",
       "  background-color: #056faf;\n",
       "  color: #f1f1f1;\n",
       "}\n",
       "#T_9f901_row2_col16 {\n",
       "  background-color: #2182b9;\n",
       "  color: #f1f1f1;\n",
       "}\n",
       "#T_9f901_row2_col17, #T_9f901_row2_col18 {\n",
       "  background-color: #81aed2;\n",
       "  color: #f1f1f1;\n",
       "}\n",
       "#T_9f901_row3_col5 {\n",
       "  background-color: #034871;\n",
       "  color: #f1f1f1;\n",
       "}\n",
       "#T_9f901_row3_col14, #T_9f901_row3_col15 {\n",
       "  background-color: #056caa;\n",
       "  color: #f1f1f1;\n",
       "}\n",
       "#T_9f901_row3_col16 {\n",
       "  background-color: #1b7eb7;\n",
       "  color: #f1f1f1;\n",
       "}\n",
       "#T_9f901_row3_col17, #T_9f901_row3_col18 {\n",
       "  background-color: #7bacd1;\n",
       "  color: #f1f1f1;\n",
       "}\n",
       "</style>\n",
       "<table id=\"T_9f901_\">\n",
       "  <thead>\n",
       "    <tr>\n",
       "      <th class=\"blank level0\" >&nbsp;</th>\n",
       "      <th class=\"col_heading level0 col0\" >0.0</th>\n",
       "      <th class=\"col_heading level0 col1\" >0.05</th>\n",
       "      <th class=\"col_heading level0 col2\" >0.1</th>\n",
       "      <th class=\"col_heading level0 col3\" >0.15</th>\n",
       "      <th class=\"col_heading level0 col4\" >0.2</th>\n",
       "      <th class=\"col_heading level0 col5\" >0.25</th>\n",
       "      <th class=\"col_heading level0 col6\" >0.3</th>\n",
       "      <th class=\"col_heading level0 col7\" >0.35</th>\n",
       "      <th class=\"col_heading level0 col8\" >0.4</th>\n",
       "      <th class=\"col_heading level0 col9\" >0.45</th>\n",
       "      <th class=\"col_heading level0 col10\" >0.5</th>\n",
       "      <th class=\"col_heading level0 col11\" >0.55</th>\n",
       "      <th class=\"col_heading level0 col12\" >0.6</th>\n",
       "      <th class=\"col_heading level0 col13\" >0.65</th>\n",
       "      <th class=\"col_heading level0 col14\" >0.7</th>\n",
       "      <th class=\"col_heading level0 col15\" >0.75</th>\n",
       "      <th class=\"col_heading level0 col16\" >0.8</th>\n",
       "      <th class=\"col_heading level0 col17\" >0.85</th>\n",
       "      <th class=\"col_heading level0 col18\" >0.9</th>\n",
       "      <th class=\"col_heading level0 col19\" >0.95</th>\n",
       "      <th class=\"col_heading level0 col20\" >1.0</th>\n",
       "    </tr>\n",
       "  </thead>\n",
       "  <tbody>\n",
       "    <tr>\n",
       "      <th id=\"T_9f901_level0_row0\" class=\"row_heading level0 row0\" >ResNet</th>\n",
       "      <td id=\"T_9f901_row0_col0\" class=\"data row0 col0\" >0.831442</td>\n",
       "      <td id=\"T_9f901_row0_col1\" class=\"data row0 col1\" >0.831623</td>\n",
       "      <td id=\"T_9f901_row0_col2\" class=\"data row0 col2\" >0.833468</td>\n",
       "      <td id=\"T_9f901_row0_col3\" class=\"data row0 col3\" >0.839209</td>\n",
       "      <td id=\"T_9f901_row0_col4\" class=\"data row0 col4\" >0.843328</td>\n",
       "      <td id=\"T_9f901_row0_col5\" class=\"data row0 col5\" >0.849203</td>\n",
       "      <td id=\"T_9f901_row0_col6\" class=\"data row0 col6\" >0.854898</td>\n",
       "      <td id=\"T_9f901_row0_col7\" class=\"data row0 col7\" >0.858838</td>\n",
       "      <td id=\"T_9f901_row0_col8\" class=\"data row0 col8\" >0.861269</td>\n",
       "      <td id=\"T_9f901_row0_col9\" class=\"data row0 col9\" >0.861539</td>\n",
       "      <td id=\"T_9f901_row0_col10\" class=\"data row0 col10\" >0.858995</td>\n",
       "      <td id=\"T_9f901_row0_col11\" class=\"data row0 col11\" >0.852062</td>\n",
       "      <td id=\"T_9f901_row0_col12\" class=\"data row0 col12\" >0.841167</td>\n",
       "      <td id=\"T_9f901_row0_col13\" class=\"data row0 col13\" >0.832613</td>\n",
       "      <td id=\"T_9f901_row0_col14\" class=\"data row0 col14\" >0.816968</td>\n",
       "      <td id=\"T_9f901_row0_col15\" class=\"data row0 col15\" >0.803507</td>\n",
       "      <td id=\"T_9f901_row0_col16\" class=\"data row0 col16\" >0.783338</td>\n",
       "      <td id=\"T_9f901_row0_col17\" class=\"data row0 col17\" >0.750180</td>\n",
       "      <td id=\"T_9f901_row0_col18\" class=\"data row0 col18\" >0.717833</td>\n",
       "      <td id=\"T_9f901_row0_col19\" class=\"data row0 col19\" >0.630110</td>\n",
       "      <td id=\"T_9f901_row0_col20\" class=\"data row0 col20\" >0.173217</td>\n",
       "    </tr>\n",
       "    <tr>\n",
       "      <th id=\"T_9f901_level0_row1\" class=\"row_heading level0 row1\" >KNN</th>\n",
       "      <td id=\"T_9f901_row1_col0\" class=\"data row1 col0\" >0.821448</td>\n",
       "      <td id=\"T_9f901_row1_col1\" class=\"data row1 col1\" >0.821448</td>\n",
       "      <td id=\"T_9f901_row1_col2\" class=\"data row1 col2\" >0.821583</td>\n",
       "      <td id=\"T_9f901_row1_col3\" class=\"data row1 col3\" >0.833671</td>\n",
       "      <td id=\"T_9f901_row1_col4\" class=\"data row1 col4\" >0.833671</td>\n",
       "      <td id=\"T_9f901_row1_col5\" class=\"data row1 col5\" >0.841910</td>\n",
       "      <td id=\"T_9f901_row1_col6\" class=\"data row1 col6\" >0.855776</td>\n",
       "      <td id=\"T_9f901_row1_col7\" class=\"data row1 col7\" >0.858703</td>\n",
       "      <td id=\"T_9f901_row1_col8\" class=\"data row1 col8\" >0.858703</td>\n",
       "      <td id=\"T_9f901_row1_col9\" class=\"data row1 col9\" >0.859490</td>\n",
       "      <td id=\"T_9f901_row1_col10\" class=\"data row1 col10\" >0.855664</td>\n",
       "      <td id=\"T_9f901_row1_col11\" class=\"data row1 col11\" >0.846840</td>\n",
       "      <td id=\"T_9f901_row1_col12\" class=\"data row1 col12\" >0.820120</td>\n",
       "      <td id=\"T_9f901_row1_col13\" class=\"data row1 col13\" >0.820120</td>\n",
       "      <td id=\"T_9f901_row1_col14\" class=\"data row1 col14\" >0.782663</td>\n",
       "      <td id=\"T_9f901_row1_col15\" class=\"data row1 col15\" >0.782663</td>\n",
       "      <td id=\"T_9f901_row1_col16\" class=\"data row1 col16\" >0.758576</td>\n",
       "      <td id=\"T_9f901_row1_col17\" class=\"data row1 col17\" >0.691676</td>\n",
       "      <td id=\"T_9f901_row1_col18\" class=\"data row1 col18\" >0.691676</td>\n",
       "      <td id=\"T_9f901_row1_col19\" class=\"data row1 col19\" >0.540294</td>\n",
       "      <td id=\"T_9f901_row1_col20\" class=\"data row1 col20\" >0.540294</td>\n",
       "    </tr>\n",
       "    <tr>\n",
       "      <th id=\"T_9f901_level0_row2\" class=\"row_heading level0 row2\" >EMD</th>\n",
       "      <td id=\"T_9f901_row2_col0\" class=\"data row2 col0\" >0.823901</td>\n",
       "      <td id=\"T_9f901_row2_col1\" class=\"data row2 col1\" >0.823901</td>\n",
       "      <td id=\"T_9f901_row2_col2\" class=\"data row2 col2\" >0.823992</td>\n",
       "      <td id=\"T_9f901_row2_col3\" class=\"data row2 col3\" >0.836507</td>\n",
       "      <td id=\"T_9f901_row2_col4\" class=\"data row2 col4\" >0.836507</td>\n",
       "      <td id=\"T_9f901_row2_col5\" class=\"data row2 col5\" >0.845264</td>\n",
       "      <td id=\"T_9f901_row2_col6\" class=\"data row2 col6\" >0.858027</td>\n",
       "      <td id=\"T_9f901_row2_col7\" class=\"data row2 col7\" >0.860053</td>\n",
       "      <td id=\"T_9f901_row2_col8\" class=\"data row2 col8\" >0.860053</td>\n",
       "      <td id=\"T_9f901_row2_col9\" class=\"data row2 col9\" >0.858995</td>\n",
       "      <td id=\"T_9f901_row2_col10\" class=\"data row2 col10\" >0.854943</td>\n",
       "      <td id=\"T_9f901_row2_col11\" class=\"data row2 col11\" >0.846412</td>\n",
       "      <td id=\"T_9f901_row2_col12\" class=\"data row2 col12\" >0.818364</td>\n",
       "      <td id=\"T_9f901_row2_col13\" class=\"data row2 col13\" >0.818364</td>\n",
       "      <td id=\"T_9f901_row2_col14\" class=\"data row2 col14\" >0.776382</td>\n",
       "      <td id=\"T_9f901_row2_col15\" class=\"data row2 col15\" >0.776382</td>\n",
       "      <td id=\"T_9f901_row2_col16\" class=\"data row2 col16\" >0.751666</td>\n",
       "      <td id=\"T_9f901_row2_col17\" class=\"data row2 col17\" >0.680240</td>\n",
       "      <td id=\"T_9f901_row2_col18\" class=\"data row2 col18\" >0.680240</td>\n",
       "      <td id=\"T_9f901_row2_col19\" class=\"data row2 col19\" >0.522735</td>\n",
       "      <td id=\"T_9f901_row2_col20\" class=\"data row2 col20\" >0.522735</td>\n",
       "    </tr>\n",
       "    <tr>\n",
       "      <th id=\"T_9f901_level0_row3\" class=\"row_heading level0 row3\" >CHM</th>\n",
       "      <td id=\"T_9f901_row3_col0\" class=\"data row3 col0\" >0.820502</td>\n",
       "      <td id=\"T_9f901_row3_col1\" class=\"data row3 col1\" >0.820502</td>\n",
       "      <td id=\"T_9f901_row3_col2\" class=\"data row3 col2\" >0.820570</td>\n",
       "      <td id=\"T_9f901_row3_col3\" class=\"data row3 col3\" >0.830475</td>\n",
       "      <td id=\"T_9f901_row3_col4\" class=\"data row3 col4\" >0.830475</td>\n",
       "      <td id=\"T_9f901_row3_col5\" class=\"data row3 col5\" >0.837925</td>\n",
       "      <td id=\"T_9f901_row3_col6\" class=\"data row3 col6\" >0.851184</td>\n",
       "      <td id=\"T_9f901_row3_col7\" class=\"data row3 col7\" >0.855416</td>\n",
       "      <td id=\"T_9f901_row3_col8\" class=\"data row3 col8\" >0.855416</td>\n",
       "      <td id=\"T_9f901_row3_col9\" class=\"data row3 col9\" >0.856654</td>\n",
       "      <td id=\"T_9f901_row3_col10\" class=\"data row3 col10\" >0.854313</td>\n",
       "      <td id=\"T_9f901_row3_col11\" class=\"data row3 col11\" >0.846907</td>\n",
       "      <td id=\"T_9f901_row3_col12\" class=\"data row3 col12\" >0.821943</td>\n",
       "      <td id=\"T_9f901_row3_col13\" class=\"data row3 col13\" >0.821943</td>\n",
       "      <td id=\"T_9f901_row3_col14\" class=\"data row3 col14\" >0.787345</td>\n",
       "      <td id=\"T_9f901_row3_col15\" class=\"data row3 col15\" >0.787345</td>\n",
       "      <td id=\"T_9f901_row3_col16\" class=\"data row3 col16\" >0.763371</td>\n",
       "      <td id=\"T_9f901_row3_col17\" class=\"data row3 col17\" >0.698496</td>\n",
       "      <td id=\"T_9f901_row3_col18\" class=\"data row3 col18\" >0.698496</td>\n",
       "      <td id=\"T_9f901_row3_col19\" class=\"data row3 col19\" >0.551324</td>\n",
       "      <td id=\"T_9f901_row3_col20\" class=\"data row3 col20\" >0.551324</td>\n",
       "    </tr>\n",
       "  </tbody>\n",
       "</table>\n"
      ],
      "text/plain": [
       "<pandas.io.formats.style.Styler at 0x147150cd0>"
      ]
     },
     "execution_count": 12,
     "metadata": {},
     "output_type": "execute_result"
    }
   ],
   "source": [
    "pd.DataFrame(TAnalysis).T.style.background_gradient(axis=1)"
   ]
  },
  {
   "cell_type": "code",
   "execution_count": 13,
   "id": "b31aa7df-48f8-4de0-bdc1-9dbcb4cbf242",
   "metadata": {
    "pycharm": {
     "name": "#%%\n"
    }
   },
   "outputs": [
    {
     "data": {
      "text/html": [
       "<style type=\"text/css\">\n",
       "#T_aaa60_row0_col0, #T_aaa60_row0_col1, #T_aaa60_row0_col2, #T_aaa60_row0_col13 {\n",
       "  background-color: #03476f;\n",
       "  color: #f1f1f1;\n",
       "}\n",
       "#T_aaa60_row0_col3 {\n",
       "  background-color: #03446a;\n",
       "  color: #f1f1f1;\n",
       "}\n",
       "#T_aaa60_row0_col4, #T_aaa60_row0_col12, #T_aaa60_row1_col3, #T_aaa60_row1_col4 {\n",
       "  background-color: #034369;\n",
       "  color: #f1f1f1;\n",
       "}\n",
       "#T_aaa60_row0_col5, #T_aaa60_row2_col10, #T_aaa60_row3_col11 {\n",
       "  background-color: #023e62;\n",
       "  color: #f1f1f1;\n",
       "}\n",
       "#T_aaa60_row0_col6, #T_aaa60_row2_col6, #T_aaa60_row3_col9 {\n",
       "  background-color: #023c5f;\n",
       "  color: #f1f1f1;\n",
       "}\n",
       "#T_aaa60_row0_col7, #T_aaa60_row0_col10, #T_aaa60_row2_col9 {\n",
       "  background-color: #023a5b;\n",
       "  color: #f1f1f1;\n",
       "}\n",
       "#T_aaa60_row0_col8, #T_aaa60_row0_col9, #T_aaa60_row1_col7, #T_aaa60_row1_col8, #T_aaa60_row1_col9, #T_aaa60_row2_col7, #T_aaa60_row2_col8, #T_aaa60_row3_col7, #T_aaa60_row3_col8, #T_aaa60_row3_col10 {\n",
       "  background-color: #023858;\n",
       "  color: #f1f1f1;\n",
       "}\n",
       "#T_aaa60_row0_col11 {\n",
       "  background-color: #023f64;\n",
       "  color: #f1f1f1;\n",
       "}\n",
       "#T_aaa60_row0_col14, #T_aaa60_row2_col3, #T_aaa60_row2_col4, #T_aaa60_row3_col3, #T_aaa60_row3_col4 {\n",
       "  background-color: #034c78;\n",
       "  color: #f1f1f1;\n",
       "}\n",
       "#T_aaa60_row0_col15 {\n",
       "  background-color: #045382;\n",
       "  color: #f1f1f1;\n",
       "}\n",
       "#T_aaa60_row0_col16 {\n",
       "  background-color: #045d92;\n",
       "  color: #f1f1f1;\n",
       "}\n",
       "#T_aaa60_row0_col17 {\n",
       "  background-color: #04649d;\n",
       "  color: #f1f1f1;\n",
       "}\n",
       "#T_aaa60_row0_col18, #T_aaa60_row1_col14, #T_aaa60_row1_col15, #T_aaa60_row3_col14, #T_aaa60_row3_col15 {\n",
       "  background-color: #056dab;\n",
       "  color: #f1f1f1;\n",
       "}\n",
       "#T_aaa60_row0_col19, #T_aaa60_row2_col16 {\n",
       "  background-color: #358fc0;\n",
       "  color: #f1f1f1;\n",
       "}\n",
       "#T_aaa60_row0_col20, #T_aaa60_row1_col19, #T_aaa60_row1_col20, #T_aaa60_row2_col19, #T_aaa60_row2_col20, #T_aaa60_row3_col19, #T_aaa60_row3_col20 {\n",
       "  background-color: #fff7fb;\n",
       "  color: #000000;\n",
       "}\n",
       "#T_aaa60_row1_col0, #T_aaa60_row1_col1 {\n",
       "  background-color: #034b76;\n",
       "  color: #f1f1f1;\n",
       "}\n",
       "#T_aaa60_row1_col2 {\n",
       "  background-color: #034a74;\n",
       "  color: #f1f1f1;\n",
       "}\n",
       "#T_aaa60_row1_col5 {\n",
       "  background-color: #034165;\n",
       "  color: #f1f1f1;\n",
       "}\n",
       "#T_aaa60_row1_col6, #T_aaa60_row1_col10 {\n",
       "  background-color: #023b5d;\n",
       "  color: #f1f1f1;\n",
       "}\n",
       "#T_aaa60_row1_col11, #T_aaa60_row3_col5 {\n",
       "  background-color: #034267;\n",
       "  color: #f1f1f1;\n",
       "}\n",
       "#T_aaa60_row1_col12, #T_aaa60_row1_col13, #T_aaa60_row2_col0, #T_aaa60_row2_col1, #T_aaa60_row2_col2 {\n",
       "  background-color: #045585;\n",
       "  color: #f1f1f1;\n",
       "}\n",
       "#T_aaa60_row1_col16 {\n",
       "  background-color: #187cb6;\n",
       "  color: #f1f1f1;\n",
       "}\n",
       "#T_aaa60_row1_col17, #T_aaa60_row1_col18 {\n",
       "  background-color: #78abd0;\n",
       "  color: #f1f1f1;\n",
       "}\n",
       "#T_aaa60_row2_col5 {\n",
       "  background-color: #03466e;\n",
       "  color: #f1f1f1;\n",
       "}\n",
       "#T_aaa60_row2_col11 {\n",
       "  background-color: #034d79;\n",
       "  color: #f1f1f1;\n",
       "}\n",
       "#T_aaa60_row2_col12, #T_aaa60_row2_col13 {\n",
       "  background-color: #045e93;\n",
       "  color: #f1f1f1;\n",
       "}\n",
       "#T_aaa60_row2_col14, #T_aaa60_row2_col15 {\n",
       "  background-color: #1278b4;\n",
       "  color: #f1f1f1;\n",
       "}\n",
       "#T_aaa60_row2_col17, #T_aaa60_row2_col18 {\n",
       "  background-color: #91b5d6;\n",
       "  color: #000000;\n",
       "}\n",
       "#T_aaa60_row3_col0, #T_aaa60_row3_col1, #T_aaa60_row3_col2 {\n",
       "  background-color: #045788;\n",
       "  color: #f1f1f1;\n",
       "}\n",
       "#T_aaa60_row3_col6 {\n",
       "  background-color: #02395a;\n",
       "  color: #f1f1f1;\n",
       "}\n",
       "#T_aaa60_row3_col12, #T_aaa60_row3_col13 {\n",
       "  background-color: #045687;\n",
       "  color: #f1f1f1;\n",
       "}\n",
       "#T_aaa60_row3_col16 {\n",
       "  background-color: #167bb6;\n",
       "  color: #f1f1f1;\n",
       "}\n",
       "#T_aaa60_row3_col17, #T_aaa60_row3_col18 {\n",
       "  background-color: #76aad0;\n",
       "  color: #f1f1f1;\n",
       "}\n",
       "</style>\n",
       "<table id=\"T_aaa60_\">\n",
       "  <thead>\n",
       "    <tr>\n",
       "      <th class=\"blank level0\" >&nbsp;</th>\n",
       "      <th class=\"col_heading level0 col0\" >0.0</th>\n",
       "      <th class=\"col_heading level0 col1\" >0.05</th>\n",
       "      <th class=\"col_heading level0 col2\" >0.1</th>\n",
       "      <th class=\"col_heading level0 col3\" >0.15</th>\n",
       "      <th class=\"col_heading level0 col4\" >0.2</th>\n",
       "      <th class=\"col_heading level0 col5\" >0.25</th>\n",
       "      <th class=\"col_heading level0 col6\" >0.3</th>\n",
       "      <th class=\"col_heading level0 col7\" >0.35</th>\n",
       "      <th class=\"col_heading level0 col8\" >0.4</th>\n",
       "      <th class=\"col_heading level0 col9\" >0.45</th>\n",
       "      <th class=\"col_heading level0 col10\" >0.5</th>\n",
       "      <th class=\"col_heading level0 col11\" >0.55</th>\n",
       "      <th class=\"col_heading level0 col12\" >0.6</th>\n",
       "      <th class=\"col_heading level0 col13\" >0.65</th>\n",
       "      <th class=\"col_heading level0 col14\" >0.7</th>\n",
       "      <th class=\"col_heading level0 col15\" >0.75</th>\n",
       "      <th class=\"col_heading level0 col16\" >0.8</th>\n",
       "      <th class=\"col_heading level0 col17\" >0.85</th>\n",
       "      <th class=\"col_heading level0 col18\" >0.9</th>\n",
       "      <th class=\"col_heading level0 col19\" >0.95</th>\n",
       "      <th class=\"col_heading level0 col20\" >1.0</th>\n",
       "    </tr>\n",
       "  </thead>\n",
       "  <tbody>\n",
       "    <tr>\n",
       "      <th id=\"T_aaa60_level0_row0\" class=\"row_heading level0 row0\" >ResNet</th>\n",
       "      <td id=\"T_aaa60_row0_col0\" class=\"data row0 col0\" >0.832000</td>\n",
       "      <td id=\"T_aaa60_row0_col1\" class=\"data row0 col1\" >0.832000</td>\n",
       "      <td id=\"T_aaa60_row0_col2\" class=\"data row0 col2\" >0.831000</td>\n",
       "      <td id=\"T_aaa60_row0_col3\" class=\"data row0 col3\" >0.838500</td>\n",
       "      <td id=\"T_aaa60_row0_col4\" class=\"data row0 col4\" >0.842500</td>\n",
       "      <td id=\"T_aaa60_row0_col5\" class=\"data row0 col5\" >0.852500</td>\n",
       "      <td id=\"T_aaa60_row0_col6\" class=\"data row0 col6\" >0.857000</td>\n",
       "      <td id=\"T_aaa60_row0_col7\" class=\"data row0 col7\" >0.863000</td>\n",
       "      <td id=\"T_aaa60_row0_col8\" class=\"data row0 col8\" >0.870500</td>\n",
       "      <td id=\"T_aaa60_row0_col9\" class=\"data row0 col9\" >0.870500</td>\n",
       "      <td id=\"T_aaa60_row0_col10\" class=\"data row0 col10\" >0.863000</td>\n",
       "      <td id=\"T_aaa60_row0_col11\" class=\"data row0 col11\" >0.850000</td>\n",
       "      <td id=\"T_aaa60_row0_col12\" class=\"data row0 col12\" >0.841500</td>\n",
       "      <td id=\"T_aaa60_row0_col13\" class=\"data row0 col13\" >0.830000</td>\n",
       "      <td id=\"T_aaa60_row0_col14\" class=\"data row0 col14\" >0.817000</td>\n",
       "      <td id=\"T_aaa60_row0_col15\" class=\"data row0 col15\" >0.800000</td>\n",
       "      <td id=\"T_aaa60_row0_col16\" class=\"data row0 col16\" >0.772000</td>\n",
       "      <td id=\"T_aaa60_row0_col17\" class=\"data row0 col17\" >0.743500</td>\n",
       "      <td id=\"T_aaa60_row0_col18\" class=\"data row0 col18\" >0.708500</td>\n",
       "      <td id=\"T_aaa60_row0_col19\" class=\"data row0 col19\" >0.610500</td>\n",
       "      <td id=\"T_aaa60_row0_col20\" class=\"data row0 col20\" >0.173000</td>\n",
       "    </tr>\n",
       "    <tr>\n",
       "      <th id=\"T_aaa60_level0_row1\" class=\"row_heading level0 row1\" >KNN</th>\n",
       "      <td id=\"T_aaa60_row1_col0\" class=\"data row1 col0\" >0.836500</td>\n",
       "      <td id=\"T_aaa60_row1_col1\" class=\"data row1 col1\" >0.836500</td>\n",
       "      <td id=\"T_aaa60_row1_col2\" class=\"data row1 col2\" >0.837500</td>\n",
       "      <td id=\"T_aaa60_row1_col3\" class=\"data row1 col3\" >0.847000</td>\n",
       "      <td id=\"T_aaa60_row1_col4\" class=\"data row1 col4\" >0.847000</td>\n",
       "      <td id=\"T_aaa60_row1_col5\" class=\"data row1 col5\" >0.849500</td>\n",
       "      <td id=\"T_aaa60_row1_col6\" class=\"data row1 col6\" >0.856000</td>\n",
       "      <td id=\"T_aaa60_row1_col7\" class=\"data row1 col7\" >0.859500</td>\n",
       "      <td id=\"T_aaa60_row1_col8\" class=\"data row1 col8\" >0.859500</td>\n",
       "      <td id=\"T_aaa60_row1_col9\" class=\"data row1 col9\" >0.860000</td>\n",
       "      <td id=\"T_aaa60_row1_col10\" class=\"data row1 col10\" >0.855000</td>\n",
       "      <td id=\"T_aaa60_row1_col11\" class=\"data row1 col11\" >0.848000</td>\n",
       "      <td id=\"T_aaa60_row1_col12\" class=\"data row1 col12\" >0.825500</td>\n",
       "      <td id=\"T_aaa60_row1_col13\" class=\"data row1 col13\" >0.825500</td>\n",
       "      <td id=\"T_aaa60_row1_col14\" class=\"data row1 col14\" >0.784500</td>\n",
       "      <td id=\"T_aaa60_row1_col15\" class=\"data row1 col15\" >0.784500</td>\n",
       "      <td id=\"T_aaa60_row1_col16\" class=\"data row1 col16\" >0.762500</td>\n",
       "      <td id=\"T_aaa60_row1_col17\" class=\"data row1 col17\" >0.693500</td>\n",
       "      <td id=\"T_aaa60_row1_col18\" class=\"data row1 col18\" >0.693500</td>\n",
       "      <td id=\"T_aaa60_row1_col19\" class=\"data row1 col19\" >0.533000</td>\n",
       "      <td id=\"T_aaa60_row1_col20\" class=\"data row1 col20\" >0.533000</td>\n",
       "    </tr>\n",
       "    <tr>\n",
       "      <th id=\"T_aaa60_level0_row2\" class=\"row_heading level0 row2\" >EMD</th>\n",
       "      <td id=\"T_aaa60_row2_col0\" class=\"data row2 col0\" >0.840000</td>\n",
       "      <td id=\"T_aaa60_row2_col1\" class=\"data row2 col1\" >0.840000</td>\n",
       "      <td id=\"T_aaa60_row2_col2\" class=\"data row2 col2\" >0.840000</td>\n",
       "      <td id=\"T_aaa60_row2_col3\" class=\"data row2 col3\" >0.851000</td>\n",
       "      <td id=\"T_aaa60_row2_col4\" class=\"data row2 col4\" >0.851000</td>\n",
       "      <td id=\"T_aaa60_row2_col5\" class=\"data row2 col5\" >0.859500</td>\n",
       "      <td id=\"T_aaa60_row2_col6\" class=\"data row2 col6\" >0.873000</td>\n",
       "      <td id=\"T_aaa60_row2_col7\" class=\"data row2 col7\" >0.879500</td>\n",
       "      <td id=\"T_aaa60_row2_col8\" class=\"data row2 col8\" >0.879500</td>\n",
       "      <td id=\"T_aaa60_row2_col9\" class=\"data row2 col9\" >0.875500</td>\n",
       "      <td id=\"T_aaa60_row2_col10\" class=\"data row2 col10\" >0.870500</td>\n",
       "      <td id=\"T_aaa60_row2_col11\" class=\"data row2 col11\" >0.850000</td>\n",
       "      <td id=\"T_aaa60_row2_col12\" class=\"data row2 col12\" >0.825500</td>\n",
       "      <td id=\"T_aaa60_row2_col13\" class=\"data row2 col13\" >0.825500</td>\n",
       "      <td id=\"T_aaa60_row2_col14\" class=\"data row2 col14\" >0.774500</td>\n",
       "      <td id=\"T_aaa60_row2_col15\" class=\"data row2 col15\" >0.774500</td>\n",
       "      <td id=\"T_aaa60_row2_col16\" class=\"data row2 col16\" >0.741000</td>\n",
       "      <td id=\"T_aaa60_row2_col17\" class=\"data row2 col17\" >0.667000</td>\n",
       "      <td id=\"T_aaa60_row2_col18\" class=\"data row2 col18\" >0.667000</td>\n",
       "      <td id=\"T_aaa60_row2_col19\" class=\"data row2 col19\" >0.509000</td>\n",
       "      <td id=\"T_aaa60_row2_col20\" class=\"data row2 col20\" >0.509000</td>\n",
       "    </tr>\n",
       "    <tr>\n",
       "      <th id=\"T_aaa60_level0_row3\" class=\"row_heading level0 row3\" >CHM</th>\n",
       "      <td id=\"T_aaa60_row3_col0\" class=\"data row3 col0\" >0.832000</td>\n",
       "      <td id=\"T_aaa60_row3_col1\" class=\"data row3 col1\" >0.832000</td>\n",
       "      <td id=\"T_aaa60_row3_col2\" class=\"data row3 col2\" >0.832000</td>\n",
       "      <td id=\"T_aaa60_row3_col3\" class=\"data row3 col3\" >0.844500</td>\n",
       "      <td id=\"T_aaa60_row3_col4\" class=\"data row3 col4\" >0.844500</td>\n",
       "      <td id=\"T_aaa60_row3_col5\" class=\"data row3 col5\" >0.857500</td>\n",
       "      <td id=\"T_aaa60_row3_col6\" class=\"data row3 col6\" >0.867000</td>\n",
       "      <td id=\"T_aaa60_row3_col7\" class=\"data row3 col7\" >0.868500</td>\n",
       "      <td id=\"T_aaa60_row3_col8\" class=\"data row3 col8\" >0.868500</td>\n",
       "      <td id=\"T_aaa60_row3_col9\" class=\"data row3 col9\" >0.863000</td>\n",
       "      <td id=\"T_aaa60_row3_col10\" class=\"data row3 col10\" >0.869000</td>\n",
       "      <td id=\"T_aaa60_row3_col11\" class=\"data row3 col11\" >0.861000</td>\n",
       "      <td id=\"T_aaa60_row3_col12\" class=\"data row3 col12\" >0.834000</td>\n",
       "      <td id=\"T_aaa60_row3_col13\" class=\"data row3 col13\" >0.834000</td>\n",
       "      <td id=\"T_aaa60_row3_col14\" class=\"data row3 col14\" >0.795500</td>\n",
       "      <td id=\"T_aaa60_row3_col15\" class=\"data row3 col15\" >0.795500</td>\n",
       "      <td id=\"T_aaa60_row3_col16\" class=\"data row3 col16\" >0.775500</td>\n",
       "      <td id=\"T_aaa60_row3_col17\" class=\"data row3 col17\" >0.708500</td>\n",
       "      <td id=\"T_aaa60_row3_col18\" class=\"data row3 col18\" >0.708500</td>\n",
       "      <td id=\"T_aaa60_row3_col19\" class=\"data row3 col19\" >0.552500</td>\n",
       "      <td id=\"T_aaa60_row3_col20\" class=\"data row3 col20\" >0.552500</td>\n",
       "    </tr>\n",
       "  </tbody>\n",
       "</table>\n"
      ],
      "text/plain": [
       "<pandas.io.formats.style.Styler at 0x147c20e80>"
      ]
     },
     "execution_count": 13,
     "metadata": {},
     "output_type": "execute_result"
    }
   ],
   "source": [
    "pd.DataFrame(TAnalysis_T).T.style.background_gradient(axis=1)"
   ]
  },
  {
   "cell_type": "code",
   "execution_count": 14,
   "id": "d477354b-8e9b-4be3-9f1c-502825f9c15c",
   "metadata": {
    "pycharm": {
     "name": "#%%\n"
    }
   },
   "outputs": [
    {
     "data": {
      "text/html": [
       "<style type=\"text/css\">\n",
       "#T_c2886_row0_col0, #T_c2886_row2_col5 {\n",
       "  background-color: #03446a;\n",
       "  color: #f1f1f1;\n",
       "}\n",
       "#T_c2886_row0_col1, #T_c2886_row0_col2, #T_c2886_row0_col13, #T_c2886_row1_col11 {\n",
       "  background-color: #034369;\n",
       "  color: #f1f1f1;\n",
       "}\n",
       "#T_c2886_row0_col3, #T_c2886_row3_col11 {\n",
       "  background-color: #034165;\n",
       "  color: #f1f1f1;\n",
       "}\n",
       "#T_c2886_row0_col4 {\n",
       "  background-color: #023e62;\n",
       "  color: #f1f1f1;\n",
       "}\n",
       "#T_c2886_row0_col5, #T_c2886_row3_col6 {\n",
       "  background-color: #023c5f;\n",
       "  color: #f1f1f1;\n",
       "}\n",
       "#T_c2886_row0_col6, #T_c2886_row1_col6, #T_c2886_row3_col10 {\n",
       "  background-color: #023a5b;\n",
       "  color: #f1f1f1;\n",
       "}\n",
       "#T_c2886_row0_col7, #T_c2886_row0_col8, #T_c2886_row0_col9, #T_c2886_row0_col10, #T_c2886_row1_col7, #T_c2886_row1_col8, #T_c2886_row1_col9, #T_c2886_row2_col7, #T_c2886_row2_col8, #T_c2886_row2_col9, #T_c2886_row3_col9 {\n",
       "  background-color: #023858;\n",
       "  color: #f1f1f1;\n",
       "}\n",
       "#T_c2886_row0_col11, #T_c2886_row1_col10, #T_c2886_row2_col10 {\n",
       "  background-color: #023b5d;\n",
       "  color: #f1f1f1;\n",
       "}\n",
       "#T_c2886_row0_col12 {\n",
       "  background-color: #023f64;\n",
       "  color: #f1f1f1;\n",
       "}\n",
       "#T_c2886_row0_col14, #T_c2886_row3_col5 {\n",
       "  background-color: #034973;\n",
       "  color: #f1f1f1;\n",
       "}\n",
       "#T_c2886_row0_col15, #T_c2886_row1_col3, #T_c2886_row1_col4 {\n",
       "  background-color: #034e7b;\n",
       "  color: #f1f1f1;\n",
       "}\n",
       "#T_c2886_row0_col16 {\n",
       "  background-color: #045687;\n",
       "  color: #f1f1f1;\n",
       "}\n",
       "#T_c2886_row0_col17 {\n",
       "  background-color: #046097;\n",
       "  color: #f1f1f1;\n",
       "}\n",
       "#T_c2886_row0_col18 {\n",
       "  background-color: #0569a4;\n",
       "  color: #f1f1f1;\n",
       "}\n",
       "#T_c2886_row0_col19 {\n",
       "  background-color: #2685bb;\n",
       "  color: #f1f1f1;\n",
       "}\n",
       "#T_c2886_row0_col20, #T_c2886_row1_col19, #T_c2886_row1_col20, #T_c2886_row2_col19, #T_c2886_row2_col20, #T_c2886_row3_col19, #T_c2886_row3_col20 {\n",
       "  background-color: #fff7fb;\n",
       "  color: #000000;\n",
       "}\n",
       "#T_c2886_row1_col0, #T_c2886_row1_col1, #T_c2886_row1_col2, #T_c2886_row1_col12, #T_c2886_row1_col13, #T_c2886_row2_col12, #T_c2886_row2_col13 {\n",
       "  background-color: #04598c;\n",
       "  color: #f1f1f1;\n",
       "}\n",
       "#T_c2886_row1_col5 {\n",
       "  background-color: #03476f;\n",
       "  color: #f1f1f1;\n",
       "}\n",
       "#T_c2886_row1_col14, #T_c2886_row1_col15 {\n",
       "  background-color: #056ead;\n",
       "  color: #f1f1f1;\n",
       "}\n",
       "#T_c2886_row1_col16, #T_c2886_row2_col16 {\n",
       "  background-color: #2081b9;\n",
       "  color: #f1f1f1;\n",
       "}\n",
       "#T_c2886_row1_col17, #T_c2886_row1_col18 {\n",
       "  background-color: #7eadd1;\n",
       "  color: #f1f1f1;\n",
       "}\n",
       "#T_c2886_row2_col0, #T_c2886_row2_col1, #T_c2886_row2_col2 {\n",
       "  background-color: #045585;\n",
       "  color: #f1f1f1;\n",
       "}\n",
       "#T_c2886_row2_col3, #T_c2886_row2_col4 {\n",
       "  background-color: #034a74;\n",
       "  color: #f1f1f1;\n",
       "}\n",
       "#T_c2886_row2_col6, #T_c2886_row3_col7, #T_c2886_row3_col8 {\n",
       "  background-color: #02395a;\n",
       "  color: #f1f1f1;\n",
       "}\n",
       "#T_c2886_row2_col11 {\n",
       "  background-color: #034267;\n",
       "  color: #f1f1f1;\n",
       "}\n",
       "#T_c2886_row2_col14, #T_c2886_row2_col15 {\n",
       "  background-color: #056faf;\n",
       "  color: #f1f1f1;\n",
       "}\n",
       "#T_c2886_row2_col17, #T_c2886_row2_col18 {\n",
       "  background-color: #80aed2;\n",
       "  color: #f1f1f1;\n",
       "}\n",
       "#T_c2886_row3_col0, #T_c2886_row3_col1, #T_c2886_row3_col2 {\n",
       "  background-color: #04588a;\n",
       "  color: #f1f1f1;\n",
       "}\n",
       "#T_c2886_row3_col3, #T_c2886_row3_col4 {\n",
       "  background-color: #034f7d;\n",
       "  color: #f1f1f1;\n",
       "}\n",
       "#T_c2886_row3_col12, #T_c2886_row3_col13 {\n",
       "  background-color: #045788;\n",
       "  color: #f1f1f1;\n",
       "}\n",
       "#T_c2886_row3_col14, #T_c2886_row3_col15 {\n",
       "  background-color: #056caa;\n",
       "  color: #f1f1f1;\n",
       "}\n",
       "#T_c2886_row3_col16 {\n",
       "  background-color: #1b7eb7;\n",
       "  color: #f1f1f1;\n",
       "}\n",
       "#T_c2886_row3_col17, #T_c2886_row3_col18 {\n",
       "  background-color: #7bacd1;\n",
       "  color: #f1f1f1;\n",
       "}\n",
       "</style>\n",
       "<table id=\"T_c2886_\">\n",
       "  <thead>\n",
       "    <tr>\n",
       "      <th class=\"blank level0\" >&nbsp;</th>\n",
       "      <th class=\"col_heading level0 col0\" >0.0</th>\n",
       "      <th class=\"col_heading level0 col1\" >0.05</th>\n",
       "      <th class=\"col_heading level0 col2\" >0.1</th>\n",
       "      <th class=\"col_heading level0 col3\" >0.15</th>\n",
       "      <th class=\"col_heading level0 col4\" >0.2</th>\n",
       "      <th class=\"col_heading level0 col5\" >0.25</th>\n",
       "      <th class=\"col_heading level0 col6\" >0.3</th>\n",
       "      <th class=\"col_heading level0 col7\" >0.35</th>\n",
       "      <th class=\"col_heading level0 col8\" >0.4</th>\n",
       "      <th class=\"col_heading level0 col9\" >0.45</th>\n",
       "      <th class=\"col_heading level0 col10\" >0.5</th>\n",
       "      <th class=\"col_heading level0 col11\" >0.55</th>\n",
       "      <th class=\"col_heading level0 col12\" >0.6</th>\n",
       "      <th class=\"col_heading level0 col13\" >0.65</th>\n",
       "      <th class=\"col_heading level0 col14\" >0.7</th>\n",
       "      <th class=\"col_heading level0 col15\" >0.75</th>\n",
       "      <th class=\"col_heading level0 col16\" >0.8</th>\n",
       "      <th class=\"col_heading level0 col17\" >0.85</th>\n",
       "      <th class=\"col_heading level0 col18\" >0.9</th>\n",
       "      <th class=\"col_heading level0 col19\" >0.95</th>\n",
       "      <th class=\"col_heading level0 col20\" >1.0</th>\n",
       "    </tr>\n",
       "  </thead>\n",
       "  <tbody>\n",
       "    <tr>\n",
       "      <th id=\"T_c2886_level0_row0\" class=\"row_heading level0 row0\" >ResNet</th>\n",
       "      <td id=\"T_c2886_row0_col0\" class=\"data row0 col0\" >0.831416</td>\n",
       "      <td id=\"T_c2886_row0_col1\" class=\"data row0 col1\" >0.831605</td>\n",
       "      <td id=\"T_c2886_row0_col2\" class=\"data row0 col2\" >0.833585</td>\n",
       "      <td id=\"T_c2886_row0_col3\" class=\"data row0 col3\" >0.839242</td>\n",
       "      <td id=\"T_c2886_row0_col4\" class=\"data row0 col4\" >0.843367</td>\n",
       "      <td id=\"T_c2886_row0_col5\" class=\"data row0 col5\" >0.849048</td>\n",
       "      <td id=\"T_c2886_row0_col6\" class=\"data row0 col6\" >0.854799</td>\n",
       "      <td id=\"T_c2886_row0_col7\" class=\"data row0 col7\" >0.858641</td>\n",
       "      <td id=\"T_c2886_row0_col8\" class=\"data row0 col8\" >0.860833</td>\n",
       "      <td id=\"T_c2886_row0_col9\" class=\"data row0 col9\" >0.861116</td>\n",
       "      <td id=\"T_c2886_row0_col10\" class=\"data row0 col10\" >0.858806</td>\n",
       "      <td id=\"T_c2886_row0_col11\" class=\"data row0 col11\" >0.852159</td>\n",
       "      <td id=\"T_c2886_row0_col12\" class=\"data row0 col12\" >0.841151</td>\n",
       "      <td id=\"T_c2886_row0_col13\" class=\"data row0 col13\" >0.832736</td>\n",
       "      <td id=\"T_c2886_row0_col14\" class=\"data row0 col14\" >0.816967</td>\n",
       "      <td id=\"T_c2886_row0_col15\" class=\"data row0 col15\" >0.803672</td>\n",
       "      <td id=\"T_c2886_row0_col16\" class=\"data row0 col16\" >0.783872</td>\n",
       "      <td id=\"T_c2886_row0_col17\" class=\"data row0 col17\" >0.750495</td>\n",
       "      <td id=\"T_c2886_row0_col18\" class=\"data row0 col18\" >0.718273</td>\n",
       "      <td id=\"T_c2886_row0_col19\" class=\"data row0 col19\" >0.631034</td>\n",
       "      <td id=\"T_c2886_row0_col20\" class=\"data row0 col20\" >0.173227</td>\n",
       "    </tr>\n",
       "    <tr>\n",
       "      <th id=\"T_c2886_level0_row1\" class=\"row_heading level0 row1\" >KNN</th>\n",
       "      <td id=\"T_c2886_row1_col0\" class=\"data row1 col0\" >0.820738</td>\n",
       "      <td id=\"T_c2886_row1_col1\" class=\"data row1 col1\" >0.820738</td>\n",
       "      <td id=\"T_c2886_row1_col2\" class=\"data row1 col2\" >0.820833</td>\n",
       "      <td id=\"T_c2886_row1_col3\" class=\"data row1 col3\" >0.833043</td>\n",
       "      <td id=\"T_c2886_row1_col4\" class=\"data row1 col4\" >0.833043</td>\n",
       "      <td id=\"T_c2886_row1_col5\" class=\"data row1 col5\" >0.841552</td>\n",
       "      <td id=\"T_c2886_row1_col6\" class=\"data row1 col6\" >0.855766</td>\n",
       "      <td id=\"T_c2886_row1_col7\" class=\"data row1 col7\" >0.858665</td>\n",
       "      <td id=\"T_c2886_row1_col8\" class=\"data row1 col8\" >0.858665</td>\n",
       "      <td id=\"T_c2886_row1_col9\" class=\"data row1 col9\" >0.859466</td>\n",
       "      <td id=\"T_c2886_row1_col10\" class=\"data row1 col10\" >0.855695</td>\n",
       "      <td id=\"T_c2886_row1_col11\" class=\"data row1 col11\" >0.846785</td>\n",
       "      <td id=\"T_c2886_row1_col12\" class=\"data row1 col12\" >0.819866</td>\n",
       "      <td id=\"T_c2886_row1_col13\" class=\"data row1 col13\" >0.819866</td>\n",
       "      <td id=\"T_c2886_row1_col14\" class=\"data row1 col14\" >0.782576</td>\n",
       "      <td id=\"T_c2886_row1_col15\" class=\"data row1 col15\" >0.782576</td>\n",
       "      <td id=\"T_c2886_row1_col16\" class=\"data row1 col16\" >0.758391</td>\n",
       "      <td id=\"T_c2886_row1_col17\" class=\"data row1 col17\" >0.691590</td>\n",
       "      <td id=\"T_c2886_row1_col18\" class=\"data row1 col18\" >0.691590</td>\n",
       "      <td id=\"T_c2886_row1_col19\" class=\"data row1 col19\" >0.540637</td>\n",
       "      <td id=\"T_c2886_row1_col20\" class=\"data row1 col20\" >0.540637</td>\n",
       "    </tr>\n",
       "    <tr>\n",
       "      <th id=\"T_c2886_level0_row2\" class=\"row_heading level0 row2\" >EMD</th>\n",
       "      <td id=\"T_c2886_row2_col0\" class=\"data row2 col0\" >0.823143</td>\n",
       "      <td id=\"T_c2886_row2_col1\" class=\"data row2 col1\" >0.823143</td>\n",
       "      <td id=\"T_c2886_row2_col2\" class=\"data row2 col2\" >0.823237</td>\n",
       "      <td id=\"T_c2886_row2_col3\" class=\"data row2 col3\" >0.835824</td>\n",
       "      <td id=\"T_c2886_row2_col4\" class=\"data row2 col4\" >0.835824</td>\n",
       "      <td id=\"T_c2886_row2_col5\" class=\"data row2 col5\" >0.844593</td>\n",
       "      <td id=\"T_c2886_row2_col6\" class=\"data row2 col6\" >0.857321</td>\n",
       "      <td id=\"T_c2886_row2_col7\" class=\"data row2 col7\" >0.859136</td>\n",
       "      <td id=\"T_c2886_row2_col8\" class=\"data row2 col8\" >0.859136</td>\n",
       "      <td id=\"T_c2886_row2_col9\" class=\"data row2 col9\" >0.858217</td>\n",
       "      <td id=\"T_c2886_row2_col10\" class=\"data row2 col10\" >0.854210</td>\n",
       "      <td id=\"T_c2886_row2_col11\" class=\"data row2 col11\" >0.846243</td>\n",
       "      <td id=\"T_c2886_row2_col12\" class=\"data row2 col12\" >0.818028</td>\n",
       "      <td id=\"T_c2886_row2_col13\" class=\"data row2 col13\" >0.818028</td>\n",
       "      <td id=\"T_c2886_row2_col14\" class=\"data row2 col14\" >0.776471</td>\n",
       "      <td id=\"T_c2886_row2_col15\" class=\"data row2 col15\" >0.776471</td>\n",
       "      <td id=\"T_c2886_row2_col16\" class=\"data row2 col16\" >0.752169</td>\n",
       "      <td id=\"T_c2886_row2_col17\" class=\"data row2 col17\" >0.680865</td>\n",
       "      <td id=\"T_c2886_row2_col18\" class=\"data row2 col18\" >0.680865</td>\n",
       "      <td id=\"T_c2886_row2_col19\" class=\"data row2 col19\" >0.523383</td>\n",
       "      <td id=\"T_c2886_row2_col20\" class=\"data row2 col20\" >0.523383</td>\n",
       "    </tr>\n",
       "    <tr>\n",
       "      <th id=\"T_c2886_level0_row3\" class=\"row_heading level0 row3\" >CHM</th>\n",
       "      <td id=\"T_c2886_row3_col0\" class=\"data row3 col0\" >0.819960</td>\n",
       "      <td id=\"T_c2886_row3_col1\" class=\"data row3 col1\" >0.819960</td>\n",
       "      <td id=\"T_c2886_row3_col2\" class=\"data row3 col2\" >0.820031</td>\n",
       "      <td id=\"T_c2886_row3_col3\" class=\"data row3 col3\" >0.829813</td>\n",
       "      <td id=\"T_c2886_row3_col4\" class=\"data row3 col4\" >0.829813</td>\n",
       "      <td id=\"T_c2886_row3_col5\" class=\"data row3 col5\" >0.837003</td>\n",
       "      <td id=\"T_c2886_row3_col6\" class=\"data row3 col6\" >0.850438</td>\n",
       "      <td id=\"T_c2886_row3_col7\" class=\"data row3 col7\" >0.854799</td>\n",
       "      <td id=\"T_c2886_row3_col8\" class=\"data row3 col8\" >0.854799</td>\n",
       "      <td id=\"T_c2886_row3_col9\" class=\"data row3 col9\" >0.856355</td>\n",
       "      <td id=\"T_c2886_row3_col10\" class=\"data row3 col10\" >0.853621</td>\n",
       "      <td id=\"T_c2886_row3_col11\" class=\"data row3 col11\" >0.846243</td>\n",
       "      <td id=\"T_c2886_row3_col12\" class=\"data row3 col12\" >0.821375</td>\n",
       "      <td id=\"T_c2886_row3_col13\" class=\"data row3 col13\" >0.821375</td>\n",
       "      <td id=\"T_c2886_row3_col14\" class=\"data row3 col14\" >0.786960</td>\n",
       "      <td id=\"T_c2886_row3_col15\" class=\"data row3 col15\" >0.786960</td>\n",
       "      <td id=\"T_c2886_row3_col16\" class=\"data row3 col16\" >0.762799</td>\n",
       "      <td id=\"T_c2886_row3_col17\" class=\"data row3 col17\" >0.698025</td>\n",
       "      <td id=\"T_c2886_row3_col18\" class=\"data row3 col18\" >0.698025</td>\n",
       "      <td id=\"T_c2886_row3_col19\" class=\"data row3 col19\" >0.551268</td>\n",
       "      <td id=\"T_c2886_row3_col20\" class=\"data row3 col20\" >0.551268</td>\n",
       "    </tr>\n",
       "  </tbody>\n",
       "</table>\n"
      ],
      "text/plain": [
       "<pandas.io.formats.style.Styler at 0x147c20dc0>"
      ]
     },
     "execution_count": 14,
     "metadata": {},
     "output_type": "execute_result"
    }
   ],
   "source": [
    "pd.DataFrame(TAnalysis_V).T.style.background_gradient(axis=1)"
   ]
  },
  {
   "cell_type": "code",
   "execution_count": null,
   "id": "9add3ee7-76ea-4ebc-b0cf-2845d8a307f5",
   "metadata": {
    "pycharm": {
     "name": "#%%\n"
    }
   },
   "outputs": [],
   "source": []
  },
  {
   "cell_type": "code",
   "execution_count": 15,
   "id": "447bce2f-51c7-4f1f-a18a-87db34f085c0",
   "metadata": {
    "pycharm": {
     "name": "#%%\n"
    }
   },
   "outputs": [],
   "source": [
    "# Full 44K\n",
    "pd.DataFrame(TAnalysis).T.style.highlight_max(color = 'yellow', axis = 1);"
   ]
  },
  {
   "cell_type": "code",
   "execution_count": 16,
   "id": "b54cefa1-7ef2-4811-a6b4-d76b7556e393",
   "metadata": {
    "pycharm": {
     "name": "#%%\n"
    }
   },
   "outputs": [
    {
     "data": {
      "text/html": [
       "<style type=\"text/css\">\n",
       "#T_b060e_row0_col8, #T_b060e_row0_col9, #T_b060e_row1_col9, #T_b060e_row2_col7, #T_b060e_row2_col8, #T_b060e_row3_col10 {\n",
       "  background-color: yellow;\n",
       "}\n",
       "</style>\n",
       "<table id=\"T_b060e_\">\n",
       "  <thead>\n",
       "    <tr>\n",
       "      <th class=\"blank level0\" >&nbsp;</th>\n",
       "      <th class=\"col_heading level0 col0\" >0.0</th>\n",
       "      <th class=\"col_heading level0 col1\" >0.05</th>\n",
       "      <th class=\"col_heading level0 col2\" >0.1</th>\n",
       "      <th class=\"col_heading level0 col3\" >0.15</th>\n",
       "      <th class=\"col_heading level0 col4\" >0.2</th>\n",
       "      <th class=\"col_heading level0 col5\" >0.25</th>\n",
       "      <th class=\"col_heading level0 col6\" >0.3</th>\n",
       "      <th class=\"col_heading level0 col7\" >0.35</th>\n",
       "      <th class=\"col_heading level0 col8\" >0.4</th>\n",
       "      <th class=\"col_heading level0 col9\" >0.45</th>\n",
       "      <th class=\"col_heading level0 col10\" >0.5</th>\n",
       "      <th class=\"col_heading level0 col11\" >0.55</th>\n",
       "      <th class=\"col_heading level0 col12\" >0.6</th>\n",
       "      <th class=\"col_heading level0 col13\" >0.65</th>\n",
       "      <th class=\"col_heading level0 col14\" >0.7</th>\n",
       "      <th class=\"col_heading level0 col15\" >0.75</th>\n",
       "      <th class=\"col_heading level0 col16\" >0.8</th>\n",
       "      <th class=\"col_heading level0 col17\" >0.85</th>\n",
       "      <th class=\"col_heading level0 col18\" >0.9</th>\n",
       "      <th class=\"col_heading level0 col19\" >0.95</th>\n",
       "      <th class=\"col_heading level0 col20\" >1.0</th>\n",
       "    </tr>\n",
       "  </thead>\n",
       "  <tbody>\n",
       "    <tr>\n",
       "      <th id=\"T_b060e_level0_row0\" class=\"row_heading level0 row0\" >ResNet</th>\n",
       "      <td id=\"T_b060e_row0_col0\" class=\"data row0 col0\" >0.832000</td>\n",
       "      <td id=\"T_b060e_row0_col1\" class=\"data row0 col1\" >0.832000</td>\n",
       "      <td id=\"T_b060e_row0_col2\" class=\"data row0 col2\" >0.831000</td>\n",
       "      <td id=\"T_b060e_row0_col3\" class=\"data row0 col3\" >0.838500</td>\n",
       "      <td id=\"T_b060e_row0_col4\" class=\"data row0 col4\" >0.842500</td>\n",
       "      <td id=\"T_b060e_row0_col5\" class=\"data row0 col5\" >0.852500</td>\n",
       "      <td id=\"T_b060e_row0_col6\" class=\"data row0 col6\" >0.857000</td>\n",
       "      <td id=\"T_b060e_row0_col7\" class=\"data row0 col7\" >0.863000</td>\n",
       "      <td id=\"T_b060e_row0_col8\" class=\"data row0 col8\" >0.870500</td>\n",
       "      <td id=\"T_b060e_row0_col9\" class=\"data row0 col9\" >0.870500</td>\n",
       "      <td id=\"T_b060e_row0_col10\" class=\"data row0 col10\" >0.863000</td>\n",
       "      <td id=\"T_b060e_row0_col11\" class=\"data row0 col11\" >0.850000</td>\n",
       "      <td id=\"T_b060e_row0_col12\" class=\"data row0 col12\" >0.841500</td>\n",
       "      <td id=\"T_b060e_row0_col13\" class=\"data row0 col13\" >0.830000</td>\n",
       "      <td id=\"T_b060e_row0_col14\" class=\"data row0 col14\" >0.817000</td>\n",
       "      <td id=\"T_b060e_row0_col15\" class=\"data row0 col15\" >0.800000</td>\n",
       "      <td id=\"T_b060e_row0_col16\" class=\"data row0 col16\" >0.772000</td>\n",
       "      <td id=\"T_b060e_row0_col17\" class=\"data row0 col17\" >0.743500</td>\n",
       "      <td id=\"T_b060e_row0_col18\" class=\"data row0 col18\" >0.708500</td>\n",
       "      <td id=\"T_b060e_row0_col19\" class=\"data row0 col19\" >0.610500</td>\n",
       "      <td id=\"T_b060e_row0_col20\" class=\"data row0 col20\" >0.173000</td>\n",
       "    </tr>\n",
       "    <tr>\n",
       "      <th id=\"T_b060e_level0_row1\" class=\"row_heading level0 row1\" >KNN</th>\n",
       "      <td id=\"T_b060e_row1_col0\" class=\"data row1 col0\" >0.836500</td>\n",
       "      <td id=\"T_b060e_row1_col1\" class=\"data row1 col1\" >0.836500</td>\n",
       "      <td id=\"T_b060e_row1_col2\" class=\"data row1 col2\" >0.837500</td>\n",
       "      <td id=\"T_b060e_row1_col3\" class=\"data row1 col3\" >0.847000</td>\n",
       "      <td id=\"T_b060e_row1_col4\" class=\"data row1 col4\" >0.847000</td>\n",
       "      <td id=\"T_b060e_row1_col5\" class=\"data row1 col5\" >0.849500</td>\n",
       "      <td id=\"T_b060e_row1_col6\" class=\"data row1 col6\" >0.856000</td>\n",
       "      <td id=\"T_b060e_row1_col7\" class=\"data row1 col7\" >0.859500</td>\n",
       "      <td id=\"T_b060e_row1_col8\" class=\"data row1 col8\" >0.859500</td>\n",
       "      <td id=\"T_b060e_row1_col9\" class=\"data row1 col9\" >0.860000</td>\n",
       "      <td id=\"T_b060e_row1_col10\" class=\"data row1 col10\" >0.855000</td>\n",
       "      <td id=\"T_b060e_row1_col11\" class=\"data row1 col11\" >0.848000</td>\n",
       "      <td id=\"T_b060e_row1_col12\" class=\"data row1 col12\" >0.825500</td>\n",
       "      <td id=\"T_b060e_row1_col13\" class=\"data row1 col13\" >0.825500</td>\n",
       "      <td id=\"T_b060e_row1_col14\" class=\"data row1 col14\" >0.784500</td>\n",
       "      <td id=\"T_b060e_row1_col15\" class=\"data row1 col15\" >0.784500</td>\n",
       "      <td id=\"T_b060e_row1_col16\" class=\"data row1 col16\" >0.762500</td>\n",
       "      <td id=\"T_b060e_row1_col17\" class=\"data row1 col17\" >0.693500</td>\n",
       "      <td id=\"T_b060e_row1_col18\" class=\"data row1 col18\" >0.693500</td>\n",
       "      <td id=\"T_b060e_row1_col19\" class=\"data row1 col19\" >0.533000</td>\n",
       "      <td id=\"T_b060e_row1_col20\" class=\"data row1 col20\" >0.533000</td>\n",
       "    </tr>\n",
       "    <tr>\n",
       "      <th id=\"T_b060e_level0_row2\" class=\"row_heading level0 row2\" >EMD</th>\n",
       "      <td id=\"T_b060e_row2_col0\" class=\"data row2 col0\" >0.840000</td>\n",
       "      <td id=\"T_b060e_row2_col1\" class=\"data row2 col1\" >0.840000</td>\n",
       "      <td id=\"T_b060e_row2_col2\" class=\"data row2 col2\" >0.840000</td>\n",
       "      <td id=\"T_b060e_row2_col3\" class=\"data row2 col3\" >0.851000</td>\n",
       "      <td id=\"T_b060e_row2_col4\" class=\"data row2 col4\" >0.851000</td>\n",
       "      <td id=\"T_b060e_row2_col5\" class=\"data row2 col5\" >0.859500</td>\n",
       "      <td id=\"T_b060e_row2_col6\" class=\"data row2 col6\" >0.873000</td>\n",
       "      <td id=\"T_b060e_row2_col7\" class=\"data row2 col7\" >0.879500</td>\n",
       "      <td id=\"T_b060e_row2_col8\" class=\"data row2 col8\" >0.879500</td>\n",
       "      <td id=\"T_b060e_row2_col9\" class=\"data row2 col9\" >0.875500</td>\n",
       "      <td id=\"T_b060e_row2_col10\" class=\"data row2 col10\" >0.870500</td>\n",
       "      <td id=\"T_b060e_row2_col11\" class=\"data row2 col11\" >0.850000</td>\n",
       "      <td id=\"T_b060e_row2_col12\" class=\"data row2 col12\" >0.825500</td>\n",
       "      <td id=\"T_b060e_row2_col13\" class=\"data row2 col13\" >0.825500</td>\n",
       "      <td id=\"T_b060e_row2_col14\" class=\"data row2 col14\" >0.774500</td>\n",
       "      <td id=\"T_b060e_row2_col15\" class=\"data row2 col15\" >0.774500</td>\n",
       "      <td id=\"T_b060e_row2_col16\" class=\"data row2 col16\" >0.741000</td>\n",
       "      <td id=\"T_b060e_row2_col17\" class=\"data row2 col17\" >0.667000</td>\n",
       "      <td id=\"T_b060e_row2_col18\" class=\"data row2 col18\" >0.667000</td>\n",
       "      <td id=\"T_b060e_row2_col19\" class=\"data row2 col19\" >0.509000</td>\n",
       "      <td id=\"T_b060e_row2_col20\" class=\"data row2 col20\" >0.509000</td>\n",
       "    </tr>\n",
       "    <tr>\n",
       "      <th id=\"T_b060e_level0_row3\" class=\"row_heading level0 row3\" >CHM</th>\n",
       "      <td id=\"T_b060e_row3_col0\" class=\"data row3 col0\" >0.832000</td>\n",
       "      <td id=\"T_b060e_row3_col1\" class=\"data row3 col1\" >0.832000</td>\n",
       "      <td id=\"T_b060e_row3_col2\" class=\"data row3 col2\" >0.832000</td>\n",
       "      <td id=\"T_b060e_row3_col3\" class=\"data row3 col3\" >0.844500</td>\n",
       "      <td id=\"T_b060e_row3_col4\" class=\"data row3 col4\" >0.844500</td>\n",
       "      <td id=\"T_b060e_row3_col5\" class=\"data row3 col5\" >0.857500</td>\n",
       "      <td id=\"T_b060e_row3_col6\" class=\"data row3 col6\" >0.867000</td>\n",
       "      <td id=\"T_b060e_row3_col7\" class=\"data row3 col7\" >0.868500</td>\n",
       "      <td id=\"T_b060e_row3_col8\" class=\"data row3 col8\" >0.868500</td>\n",
       "      <td id=\"T_b060e_row3_col9\" class=\"data row3 col9\" >0.863000</td>\n",
       "      <td id=\"T_b060e_row3_col10\" class=\"data row3 col10\" >0.869000</td>\n",
       "      <td id=\"T_b060e_row3_col11\" class=\"data row3 col11\" >0.861000</td>\n",
       "      <td id=\"T_b060e_row3_col12\" class=\"data row3 col12\" >0.834000</td>\n",
       "      <td id=\"T_b060e_row3_col13\" class=\"data row3 col13\" >0.834000</td>\n",
       "      <td id=\"T_b060e_row3_col14\" class=\"data row3 col14\" >0.795500</td>\n",
       "      <td id=\"T_b060e_row3_col15\" class=\"data row3 col15\" >0.795500</td>\n",
       "      <td id=\"T_b060e_row3_col16\" class=\"data row3 col16\" >0.775500</td>\n",
       "      <td id=\"T_b060e_row3_col17\" class=\"data row3 col17\" >0.708500</td>\n",
       "      <td id=\"T_b060e_row3_col18\" class=\"data row3 col18\" >0.708500</td>\n",
       "      <td id=\"T_b060e_row3_col19\" class=\"data row3 col19\" >0.552500</td>\n",
       "      <td id=\"T_b060e_row3_col20\" class=\"data row3 col20\" >0.552500</td>\n",
       "    </tr>\n",
       "  </tbody>\n",
       "</table>\n"
      ],
      "text/plain": [
       "<pandas.io.formats.style.Styler at 0x147150fd0>"
      ]
     },
     "execution_count": 16,
     "metadata": {},
     "output_type": "execute_result"
    }
   ],
   "source": [
    "# 2K Fine-tuning\n",
    "pd.DataFrame(TAnalysis_T).T.style.highlight_max(color = 'yellow', axis = 1)"
   ]
  },
  {
   "cell_type": "code",
   "execution_count": 17,
   "id": "c47f0b49-4a4a-4926-ab65-ff717ea6fd3c",
   "metadata": {
    "pycharm": {
     "name": "#%%\n"
    }
   },
   "outputs": [
    {
     "data": {
      "text/html": [
       "<div>\n",
       "<style scoped>\n",
       "    .dataframe tbody tr th:only-of-type {\n",
       "        vertical-align: middle;\n",
       "    }\n",
       "\n",
       "    .dataframe tbody tr th {\n",
       "        vertical-align: top;\n",
       "    }\n",
       "\n",
       "    .dataframe thead th {\n",
       "        text-align: right;\n",
       "    }\n",
       "</style>\n",
       "<table border=\"1\" class=\"dataframe\">\n",
       "  <thead>\n",
       "    <tr style=\"text-align: right;\">\n",
       "      <th></th>\n",
       "      <th>0.30</th>\n",
       "      <th>0.35</th>\n",
       "      <th>0.40</th>\n",
       "      <th>0.45</th>\n",
       "      <th>0.50</th>\n",
       "    </tr>\n",
       "  </thead>\n",
       "  <tbody>\n",
       "    <tr>\n",
       "      <th>ResNet</th>\n",
       "      <td>85.479917</td>\n",
       "      <td>85.864134</td>\n",
       "      <td>86.083349</td>\n",
       "      <td>86.111635</td>\n",
       "      <td>85.880634</td>\n",
       "    </tr>\n",
       "    <tr>\n",
       "      <th>KNN</th>\n",
       "      <td>85.576560</td>\n",
       "      <td>85.866491</td>\n",
       "      <td>85.866491</td>\n",
       "      <td>85.946634</td>\n",
       "      <td>85.569489</td>\n",
       "    </tr>\n",
       "    <tr>\n",
       "      <th>EMD</th>\n",
       "      <td>85.732133</td>\n",
       "      <td>85.913634</td>\n",
       "      <td>85.913634</td>\n",
       "      <td>85.821705</td>\n",
       "      <td>85.420988</td>\n",
       "    </tr>\n",
       "    <tr>\n",
       "      <th>CHM</th>\n",
       "      <td>85.043843</td>\n",
       "      <td>85.479917</td>\n",
       "      <td>85.479917</td>\n",
       "      <td>85.635489</td>\n",
       "      <td>85.362059</td>\n",
       "    </tr>\n",
       "  </tbody>\n",
       "</table>\n",
       "</div>"
      ],
      "text/plain": [
       "             0.30       0.35       0.40       0.45       0.50\n",
       "ResNet  85.479917  85.864134  86.083349  86.111635  85.880634\n",
       "KNN     85.576560  85.866491  85.866491  85.946634  85.569489\n",
       "EMD     85.732133  85.913634  85.913634  85.821705  85.420988\n",
       "CHM     85.043843  85.479917  85.479917  85.635489  85.362059"
      ]
     },
     "execution_count": 17,
     "metadata": {},
     "output_type": "execute_result"
    }
   ],
   "source": [
    "# 42K Test PREVIEW\n",
    "pd.DataFrame(TAnalysis_V).T.loc[:, 0.30:0.5]*100"
   ]
  },
  {
   "cell_type": "code",
   "execution_count": 18,
   "metadata": {},
   "outputs": [],
   "source": [
    "optimal_t = pd.DataFrame(TAnalysis_T).T.idxmax(axis=1)"
   ]
  },
  {
   "cell_type": "code",
   "execution_count": 19,
   "metadata": {},
   "outputs": [
    {
     "name": "stderr",
     "output_type": "stream",
     "text": [
      "/var/folders/gs/ftfl94c117q3mq9rqwfnx1mc0000gn/T/ipykernel_53457/3501961810.py:2: FutureWarning: Support for multi-dimensional indexing (e.g. `obj[:, None]`) is deprecated and will be removed in a future version.  Convert to a numpy array before indexing instead.\n",
      "  max_indices = np.where(tdf == tdf.max(axis=1)[:, np.newaxis], tdf.columns, None)\n"
     ]
    },
    {
     "data": {
      "text/plain": [
       "array([0.45, 0.45, 0.4, 0.5], dtype=object)"
      ]
     },
     "execution_count": 19,
     "metadata": {},
     "output_type": "execute_result"
    }
   ],
   "source": [
    "tdf = pd.DataFrame(TAnalysis_T).T\n",
    "max_indices = np.where(tdf == tdf.max(axis=1)[:, np.newaxis], tdf.columns, None)\n",
    "max_indices = np.where(max_indices == None, -1, max_indices)\n",
    "max_indices =  np.amax(max_indices, axis=1)\n",
    "max_indices"
   ]
  },
  {
   "cell_type": "code",
   "execution_count": 20,
   "metadata": {},
   "outputs": [
    {
     "data": {
      "text/plain": [
       "ResNet    0.40\n",
       "KNN       0.45\n",
       "EMD       0.35\n",
       "CHM       0.50\n",
       "dtype: float64"
      ]
     },
     "execution_count": 20,
     "metadata": {},
     "output_type": "execute_result"
    }
   ],
   "source": [
    "optimal_t"
   ]
  },
  {
   "cell_type": "code",
   "execution_count": 21,
   "metadata": {},
   "outputs": [
    {
     "data": {
      "text/plain": [
       "ResNet    0.45\n",
       "KNN       0.45\n",
       "EMD        0.4\n",
       "CHM        0.5\n",
       "dtype: object"
      ]
     },
     "execution_count": 21,
     "metadata": {},
     "output_type": "execute_result"
    }
   ],
   "source": [
    "# clone optimal_t but with values of max_indices\n",
    "optima_t_max = optimal_t.copy()\n",
    "optima_t_max[:] = max_indices\n",
    "optima_t_max"
   ]
  },
  {
   "cell_type": "code",
   "execution_count": 22,
   "metadata": {},
   "outputs": [],
   "source": [
    "optimal_t = optima_t_max"
   ]
  },
  {
   "cell_type": "code",
   "execution_count": 23,
   "metadata": {},
   "outputs": [],
   "source": [
    "df = pd.DataFrame(TAnalysis_V).loc[optimal_t, :]\n",
    "# pick diagonal\n",
    "ai_performance_values = df.to_numpy()[np.arange(4), np.arange(4)]*100"
   ]
  },
  {
   "cell_type": "code",
   "execution_count": 24,
   "metadata": {},
   "outputs": [],
   "source": [
    "ai_performance_df = pd.DataFrame(ai_performance_values, index=optimal_t.index, columns=['AI Performance'])"
   ]
  },
  {
   "cell_type": "markdown",
   "metadata": {},
   "source": [
    "## Final Table for AI Performance"
   ]
  },
  {
   "cell_type": "code",
   "execution_count": 25,
   "metadata": {},
   "outputs": [
    {
     "data": {
      "text/html": [
       "<div>\n",
       "<style scoped>\n",
       "    .dataframe tbody tr th:only-of-type {\n",
       "        vertical-align: middle;\n",
       "    }\n",
       "\n",
       "    .dataframe tbody tr th {\n",
       "        vertical-align: top;\n",
       "    }\n",
       "\n",
       "    .dataframe thead th {\n",
       "        text-align: right;\n",
       "    }\n",
       "</style>\n",
       "<table border=\"1\" class=\"dataframe\">\n",
       "  <thead>\n",
       "    <tr style=\"text-align: right;\">\n",
       "      <th></th>\n",
       "      <th>AI Performance</th>\n",
       "    </tr>\n",
       "  </thead>\n",
       "  <tbody>\n",
       "    <tr>\n",
       "      <th>ResNet</th>\n",
       "      <td>86.11</td>\n",
       "    </tr>\n",
       "    <tr>\n",
       "      <th>KNN</th>\n",
       "      <td>85.95</td>\n",
       "    </tr>\n",
       "    <tr>\n",
       "      <th>EMD</th>\n",
       "      <td>85.91</td>\n",
       "    </tr>\n",
       "    <tr>\n",
       "      <th>CHM</th>\n",
       "      <td>85.36</td>\n",
       "    </tr>\n",
       "  </tbody>\n",
       "</table>\n",
       "</div>"
      ],
      "text/plain": [
       "        AI Performance\n",
       "ResNet           86.11\n",
       "KNN              85.95\n",
       "EMD              85.91\n",
       "CHM              85.36"
      ]
     },
     "execution_count": 25,
     "metadata": {},
     "output_type": "execute_result"
    }
   ],
   "source": [
    "ai_performance_df.round(2) # Final Table for AI Performance"
   ]
  },
  {
   "cell_type": "markdown",
   "id": "e00048e8-e924-448c-9764-1f83239a4125",
   "metadata": {
    "pycharm": {
     "name": "#%% md\n"
    }
   },
   "source": [
    "# Human-AI Team Performance"
   ]
  },
  {
   "cell_type": "markdown",
   "id": "fe093888-e756-4110-9713-ed5ce2dd8722",
   "metadata": {
    "pycharm": {
     "name": "#%% md\n"
    }
   },
   "source": [
    "###  Load summary fo AI Performance"
   ]
  },
  {
   "cell_type": "code",
   "execution_count": 26,
   "id": "16c45e19-4922-490d-be6a-c1bb963aeb2f",
   "metadata": {
    "pycharm": {
     "name": "#%%\n"
    }
   },
   "outputs": [],
   "source": [
    "random.seed(42)\n",
    "\n",
    "with open(\"../data/Classification-Summary-ImageNet.pickle\", \"rb\") as f:\n",
    "    classification_summary = pickle.load(f)"
   ]
  },
  {
   "cell_type": "code",
   "execution_count": 27,
   "id": "7df65cbb-1b3f-4d11-a936-4914fd191a00",
   "metadata": {
    "pycharm": {
     "name": "#%%\n"
    }
   },
   "outputs": [
    {
     "data": {
      "text/plain": [
       "dict_keys(['all_gts', 'resnet_wnid', 'knn_wnid', 'emd_wnid', 'chm_wnid', 'resnet_conf', 'knn_conf', 'emd_conf', 'chm_conf', 'resnet_wnid_real', 'knn_wnid_real', 'emd_wnid_real', 'chm_wnid_real', 'resnet_real_conf', 'knn__real_conf', 'emd__real_conf', 'chm__real_conf'])"
      ]
     },
     "execution_count": 27,
     "metadata": {},
     "output_type": "execute_result"
    }
   ],
   "source": [
    "classification_summary.keys()"
   ]
  },
  {
   "cell_type": "markdown",
   "id": "ca19a52e-b0e2-491d-9cb3-55da0647ada3",
   "metadata": {
    "pycharm": {
     "name": "#%% md\n"
    }
   },
   "source": [
    "### Unpacking"
   ]
  },
  {
   "cell_type": "code",
   "execution_count": 28,
   "id": "85b4d08b-baf9-47e8-842c-d71db88fa645",
   "metadata": {
    "pycharm": {
     "name": "#%%\n"
    }
   },
   "outputs": [],
   "source": [
    "real_gt_real = classification_summary[\"all_gts\"]\n",
    "\n",
    "resnet_wnid_real = classification_summary[\"resnet_wnid_real\"]\n",
    "knn_wnid_real = classification_summary[\"knn_wnid_real\"]\n",
    "emd_wnid_real = classification_summary[\"emd_wnid_real\"]\n",
    "chm_wnid_real = classification_summary[\"chm_wnid_real\"]\n",
    "\n",
    "IsM1Correct_real = np.asarray(classification_summary[\"resnet_wnid_real\"])\n",
    "IsM2Correct_real = np.asarray(classification_summary[\"knn_wnid_real\"])\n",
    "IsM3Correct_real = np.asarray(classification_summary[\"emd_wnid_real\"])\n",
    "IsM4Correct_real = np.asarray(classification_summary[\"chm_wnid_real\"])\n",
    "\n",
    "M1Conf_real = np.asarray(classification_summary[\"resnet_real_conf\"])\n",
    "M2Conf_real = np.asarray(classification_summary[\"knn__real_conf\"])\n",
    "M3Conf_real = np.asarray(classification_summary[\"emd__real_conf\"])\n",
    "M4Conf_real = np.asarray(classification_summary[\"chm__real_conf\"])"
   ]
  },
  {
   "cell_type": "markdown",
   "id": "9844834d-56cf-48d7-a396-03fb319bac13",
   "metadata": {
    "pycharm": {
     "name": "#%% md\n"
    }
   },
   "source": [
    "## AI Performance Analysis"
   ]
  },
  {
   "cell_type": "code",
   "execution_count": 29,
   "id": "06278151-6172-4413-b767-9b9fdbc8e2d7",
   "metadata": {
    "pycharm": {
     "name": "#%%\n"
    }
   },
   "outputs": [
    {
     "name": "stdout",
     "output_type": "stream",
     "text": [
      "Done\n"
     ]
    }
   ],
   "source": [
    "MethodName = [\"ResNet\", \"KNN\", \"EMD\", \"CHM\"]\n",
    "Methods = [IsM1Correct_real, IsM2Correct_real, IsM3Correct_real, IsM4Correct_real]\n",
    "Confs = [M1Conf_real, M2Conf_real, M3Conf_real, M4Conf_real]\n",
    "\n",
    "TAnalysis = {}\n",
    "TCount = {}\n",
    "\n",
    "for N, M, C in zip(MethodName, Methods, Confs):\n",
    "    TAnalysis[N] = {}\n",
    "    TCount[N] = {}\n",
    "\n",
    "    for T in np.arange(0.0, 1.05, 0.05):\n",
    "        TAnalysis[N][round(T, 2)] = np.mean(M[C >= T])\n",
    "        TCount[N][round(T, 2)] = len(M[C >= T])\n",
    "\n",
    "\n",
    "ai_df = pd.DataFrame(TAnalysis)\n",
    "print(\"Done\")"
   ]
  },
  {
   "cell_type": "markdown",
   "id": "15794ea0-f81d-48db-b0db-d76faa02b1ac",
   "metadata": {
    "pycharm": {
     "name": "#%% md\n"
    }
   },
   "source": [
    "## Number of Images "
   ]
  },
  {
   "cell_type": "code",
   "execution_count": 30,
   "id": "3cbfef6c-9cda-425a-8db0-0b29c9dd220e",
   "metadata": {
    "pycharm": {
     "name": "#%%\n"
    }
   },
   "outputs": [
    {
     "data": {
      "text/html": [
       "<div>\n",
       "<style scoped>\n",
       "    .dataframe tbody tr th:only-of-type {\n",
       "        vertical-align: middle;\n",
       "    }\n",
       "\n",
       "    .dataframe tbody tr th {\n",
       "        vertical-align: top;\n",
       "    }\n",
       "\n",
       "    .dataframe thead th {\n",
       "        text-align: right;\n",
       "    }\n",
       "</style>\n",
       "<table border=\"1\" class=\"dataframe\">\n",
       "  <thead>\n",
       "    <tr style=\"text-align: right;\">\n",
       "      <th></th>\n",
       "      <th>ResNet</th>\n",
       "      <th>KNN</th>\n",
       "      <th>EMD</th>\n",
       "      <th>CHM</th>\n",
       "    </tr>\n",
       "  </thead>\n",
       "  <tbody>\n",
       "    <tr>\n",
       "      <th>0.00</th>\n",
       "      <td>44424</td>\n",
       "      <td>44424</td>\n",
       "      <td>44424</td>\n",
       "      <td>44424</td>\n",
       "    </tr>\n",
       "    <tr>\n",
       "      <th>0.05</th>\n",
       "      <td>44414</td>\n",
       "      <td>44424</td>\n",
       "      <td>44424</td>\n",
       "      <td>44424</td>\n",
       "    </tr>\n",
       "    <tr>\n",
       "      <th>0.10</th>\n",
       "      <td>44296</td>\n",
       "      <td>44418</td>\n",
       "      <td>44420</td>\n",
       "      <td>44421</td>\n",
       "    </tr>\n",
       "    <tr>\n",
       "      <th>0.15</th>\n",
       "      <td>43863</td>\n",
       "      <td>43651</td>\n",
       "      <td>43618</td>\n",
       "      <td>43773</td>\n",
       "    </tr>\n",
       "    <tr>\n",
       "      <th>0.20</th>\n",
       "      <td>43472</td>\n",
       "      <td>43651</td>\n",
       "      <td>43618</td>\n",
       "      <td>43773</td>\n",
       "    </tr>\n",
       "    <tr>\n",
       "      <th>0.25</th>\n",
       "      <td>42839</td>\n",
       "      <td>42879</td>\n",
       "      <td>42809</td>\n",
       "      <td>43070</td>\n",
       "    </tr>\n",
       "    <tr>\n",
       "      <th>0.30</th>\n",
       "      <td>41934</td>\n",
       "      <td>40823</td>\n",
       "      <td>40806</td>\n",
       "      <td>41253</td>\n",
       "    </tr>\n",
       "    <tr>\n",
       "      <th>0.35</th>\n",
       "      <td>41081</td>\n",
       "      <td>39649</td>\n",
       "      <td>39598</td>\n",
       "      <td>40139</td>\n",
       "    </tr>\n",
       "    <tr>\n",
       "      <th>0.40</th>\n",
       "      <td>40353</td>\n",
       "      <td>39649</td>\n",
       "      <td>39598</td>\n",
       "      <td>40139</td>\n",
       "    </tr>\n",
       "    <tr>\n",
       "      <th>0.45</th>\n",
       "      <td>39317</td>\n",
       "      <td>38354</td>\n",
       "      <td>38317</td>\n",
       "      <td>38914</td>\n",
       "    </tr>\n",
       "    <tr>\n",
       "      <th>0.50</th>\n",
       "      <td>38150</td>\n",
       "      <td>36982</td>\n",
       "      <td>36955</td>\n",
       "      <td>37562</td>\n",
       "    </tr>\n",
       "    <tr>\n",
       "      <th>0.55</th>\n",
       "      <td>36718</td>\n",
       "      <td>35422</td>\n",
       "      <td>35344</td>\n",
       "      <td>35917</td>\n",
       "    </tr>\n",
       "    <tr>\n",
       "      <th>0.60</th>\n",
       "      <td>35078</td>\n",
       "      <td>32213</td>\n",
       "      <td>32036</td>\n",
       "      <td>32642</td>\n",
       "    </tr>\n",
       "    <tr>\n",
       "      <th>0.65</th>\n",
       "      <td>34014</td>\n",
       "      <td>32213</td>\n",
       "      <td>32036</td>\n",
       "      <td>32642</td>\n",
       "    </tr>\n",
       "    <tr>\n",
       "      <th>0.70</th>\n",
       "      <td>32363</td>\n",
       "      <td>29073</td>\n",
       "      <td>28883</td>\n",
       "      <td>29575</td>\n",
       "    </tr>\n",
       "    <tr>\n",
       "      <th>0.75</th>\n",
       "      <td>31173</td>\n",
       "      <td>29073</td>\n",
       "      <td>28883</td>\n",
       "      <td>29575</td>\n",
       "    </tr>\n",
       "    <tr>\n",
       "      <th>0.80</th>\n",
       "      <td>29661</td>\n",
       "      <td>27463</td>\n",
       "      <td>27233</td>\n",
       "      <td>27986</td>\n",
       "    </tr>\n",
       "    <tr>\n",
       "      <th>0.85</th>\n",
       "      <td>27492</td>\n",
       "      <td>23697</td>\n",
       "      <td>23244</td>\n",
       "      <td>24132</td>\n",
       "    </tr>\n",
       "    <tr>\n",
       "      <th>0.90</th>\n",
       "      <td>25603</td>\n",
       "      <td>23697</td>\n",
       "      <td>23244</td>\n",
       "      <td>24132</td>\n",
       "    </tr>\n",
       "    <tr>\n",
       "      <th>0.95</th>\n",
       "      <td>21064</td>\n",
       "      <td>16334</td>\n",
       "      <td>15655</td>\n",
       "      <td>16864</td>\n",
       "    </tr>\n",
       "    <tr>\n",
       "      <th>1.00</th>\n",
       "      <td>207</td>\n",
       "      <td>16334</td>\n",
       "      <td>15655</td>\n",
       "      <td>16864</td>\n",
       "    </tr>\n",
       "  </tbody>\n",
       "</table>\n",
       "</div>"
      ],
      "text/plain": [
       "      ResNet    KNN    EMD    CHM\n",
       "0.00   44424  44424  44424  44424\n",
       "0.05   44414  44424  44424  44424\n",
       "0.10   44296  44418  44420  44421\n",
       "0.15   43863  43651  43618  43773\n",
       "0.20   43472  43651  43618  43773\n",
       "0.25   42839  42879  42809  43070\n",
       "0.30   41934  40823  40806  41253\n",
       "0.35   41081  39649  39598  40139\n",
       "0.40   40353  39649  39598  40139\n",
       "0.45   39317  38354  38317  38914\n",
       "0.50   38150  36982  36955  37562\n",
       "0.55   36718  35422  35344  35917\n",
       "0.60   35078  32213  32036  32642\n",
       "0.65   34014  32213  32036  32642\n",
       "0.70   32363  29073  28883  29575\n",
       "0.75   31173  29073  28883  29575\n",
       "0.80   29661  27463  27233  27986\n",
       "0.85   27492  23697  23244  24132\n",
       "0.90   25603  23697  23244  24132\n",
       "0.95   21064  16334  15655  16864\n",
       "1.00     207  16334  15655  16864"
      ]
     },
     "execution_count": 30,
     "metadata": {},
     "output_type": "execute_result"
    }
   ],
   "source": [
    "# Number of Images\n",
    "count_df = pd.DataFrame(TCount)\n",
    "count_df"
   ]
  },
  {
   "cell_type": "markdown",
   "id": "e4304509-f35f-4e2e-a161-1c50bd9f80d7",
   "metadata": {
    "pycharm": {
     "name": "#%% md\n"
    },
    "tags": []
   },
   "source": [
    "## Ratios (out of 44424 Images)"
   ]
  },
  {
   "cell_type": "code",
   "execution_count": 31,
   "id": "890887ca-a553-4e44-8a15-477b78c9f596",
   "metadata": {
    "pycharm": {
     "name": "#%%\n"
    }
   },
   "outputs": [
    {
     "data": {
      "text/html": [
       "<div>\n",
       "<style scoped>\n",
       "    .dataframe tbody tr th:only-of-type {\n",
       "        vertical-align: middle;\n",
       "    }\n",
       "\n",
       "    .dataframe tbody tr th {\n",
       "        vertical-align: top;\n",
       "    }\n",
       "\n",
       "    .dataframe thead th {\n",
       "        text-align: right;\n",
       "    }\n",
       "</style>\n",
       "<table border=\"1\" class=\"dataframe\">\n",
       "  <thead>\n",
       "    <tr style=\"text-align: right;\">\n",
       "      <th></th>\n",
       "      <th>ResNet</th>\n",
       "      <th>KNN</th>\n",
       "      <th>EMD</th>\n",
       "      <th>CHM</th>\n",
       "    </tr>\n",
       "  </thead>\n",
       "  <tbody>\n",
       "    <tr>\n",
       "      <th>0.00</th>\n",
       "      <td>1.000000</td>\n",
       "      <td>1.000000</td>\n",
       "      <td>1.000000</td>\n",
       "      <td>1.000000</td>\n",
       "    </tr>\n",
       "    <tr>\n",
       "      <th>0.05</th>\n",
       "      <td>0.999775</td>\n",
       "      <td>1.000000</td>\n",
       "      <td>1.000000</td>\n",
       "      <td>1.000000</td>\n",
       "    </tr>\n",
       "    <tr>\n",
       "      <th>0.10</th>\n",
       "      <td>0.997119</td>\n",
       "      <td>0.999865</td>\n",
       "      <td>0.999910</td>\n",
       "      <td>0.999932</td>\n",
       "    </tr>\n",
       "    <tr>\n",
       "      <th>0.15</th>\n",
       "      <td>0.987372</td>\n",
       "      <td>0.982599</td>\n",
       "      <td>0.981857</td>\n",
       "      <td>0.985346</td>\n",
       "    </tr>\n",
       "    <tr>\n",
       "      <th>0.20</th>\n",
       "      <td>0.978570</td>\n",
       "      <td>0.982599</td>\n",
       "      <td>0.981857</td>\n",
       "      <td>0.985346</td>\n",
       "    </tr>\n",
       "    <tr>\n",
       "      <th>0.25</th>\n",
       "      <td>0.964321</td>\n",
       "      <td>0.965222</td>\n",
       "      <td>0.963646</td>\n",
       "      <td>0.969521</td>\n",
       "    </tr>\n",
       "    <tr>\n",
       "      <th>0.30</th>\n",
       "      <td>0.943949</td>\n",
       "      <td>0.918940</td>\n",
       "      <td>0.918558</td>\n",
       "      <td>0.928620</td>\n",
       "    </tr>\n",
       "    <tr>\n",
       "      <th>0.35</th>\n",
       "      <td>0.924748</td>\n",
       "      <td>0.892513</td>\n",
       "      <td>0.891365</td>\n",
       "      <td>0.903543</td>\n",
       "    </tr>\n",
       "    <tr>\n",
       "      <th>0.40</th>\n",
       "      <td>0.908360</td>\n",
       "      <td>0.892513</td>\n",
       "      <td>0.891365</td>\n",
       "      <td>0.903543</td>\n",
       "    </tr>\n",
       "    <tr>\n",
       "      <th>0.45</th>\n",
       "      <td>0.885040</td>\n",
       "      <td>0.863362</td>\n",
       "      <td>0.862529</td>\n",
       "      <td>0.875968</td>\n",
       "    </tr>\n",
       "    <tr>\n",
       "      <th>0.50</th>\n",
       "      <td>0.858770</td>\n",
       "      <td>0.832478</td>\n",
       "      <td>0.831870</td>\n",
       "      <td>0.845534</td>\n",
       "    </tr>\n",
       "    <tr>\n",
       "      <th>0.55</th>\n",
       "      <td>0.826535</td>\n",
       "      <td>0.797362</td>\n",
       "      <td>0.795606</td>\n",
       "      <td>0.808504</td>\n",
       "    </tr>\n",
       "    <tr>\n",
       "      <th>0.60</th>\n",
       "      <td>0.789618</td>\n",
       "      <td>0.725126</td>\n",
       "      <td>0.721142</td>\n",
       "      <td>0.734783</td>\n",
       "    </tr>\n",
       "    <tr>\n",
       "      <th>0.65</th>\n",
       "      <td>0.765667</td>\n",
       "      <td>0.725126</td>\n",
       "      <td>0.721142</td>\n",
       "      <td>0.734783</td>\n",
       "    </tr>\n",
       "    <tr>\n",
       "      <th>0.70</th>\n",
       "      <td>0.728503</td>\n",
       "      <td>0.654444</td>\n",
       "      <td>0.650167</td>\n",
       "      <td>0.665744</td>\n",
       "    </tr>\n",
       "    <tr>\n",
       "      <th>0.75</th>\n",
       "      <td>0.701715</td>\n",
       "      <td>0.654444</td>\n",
       "      <td>0.650167</td>\n",
       "      <td>0.665744</td>\n",
       "    </tr>\n",
       "    <tr>\n",
       "      <th>0.80</th>\n",
       "      <td>0.667680</td>\n",
       "      <td>0.618202</td>\n",
       "      <td>0.613024</td>\n",
       "      <td>0.629975</td>\n",
       "    </tr>\n",
       "    <tr>\n",
       "      <th>0.85</th>\n",
       "      <td>0.618855</td>\n",
       "      <td>0.533428</td>\n",
       "      <td>0.523231</td>\n",
       "      <td>0.543220</td>\n",
       "    </tr>\n",
       "    <tr>\n",
       "      <th>0.90</th>\n",
       "      <td>0.576333</td>\n",
       "      <td>0.533428</td>\n",
       "      <td>0.523231</td>\n",
       "      <td>0.543220</td>\n",
       "    </tr>\n",
       "    <tr>\n",
       "      <th>0.95</th>\n",
       "      <td>0.474158</td>\n",
       "      <td>0.367684</td>\n",
       "      <td>0.352400</td>\n",
       "      <td>0.379615</td>\n",
       "    </tr>\n",
       "    <tr>\n",
       "      <th>1.00</th>\n",
       "      <td>0.004660</td>\n",
       "      <td>0.367684</td>\n",
       "      <td>0.352400</td>\n",
       "      <td>0.379615</td>\n",
       "    </tr>\n",
       "  </tbody>\n",
       "</table>\n",
       "</div>"
      ],
      "text/plain": [
       "        ResNet       KNN       EMD       CHM\n",
       "0.00  1.000000  1.000000  1.000000  1.000000\n",
       "0.05  0.999775  1.000000  1.000000  1.000000\n",
       "0.10  0.997119  0.999865  0.999910  0.999932\n",
       "0.15  0.987372  0.982599  0.981857  0.985346\n",
       "0.20  0.978570  0.982599  0.981857  0.985346\n",
       "0.25  0.964321  0.965222  0.963646  0.969521\n",
       "0.30  0.943949  0.918940  0.918558  0.928620\n",
       "0.35  0.924748  0.892513  0.891365  0.903543\n",
       "0.40  0.908360  0.892513  0.891365  0.903543\n",
       "0.45  0.885040  0.863362  0.862529  0.875968\n",
       "0.50  0.858770  0.832478  0.831870  0.845534\n",
       "0.55  0.826535  0.797362  0.795606  0.808504\n",
       "0.60  0.789618  0.725126  0.721142  0.734783\n",
       "0.65  0.765667  0.725126  0.721142  0.734783\n",
       "0.70  0.728503  0.654444  0.650167  0.665744\n",
       "0.75  0.701715  0.654444  0.650167  0.665744\n",
       "0.80  0.667680  0.618202  0.613024  0.629975\n",
       "0.85  0.618855  0.533428  0.523231  0.543220\n",
       "0.90  0.576333  0.533428  0.523231  0.543220\n",
       "0.95  0.474158  0.367684  0.352400  0.379615\n",
       "1.00  0.004660  0.367684  0.352400  0.379615"
      ]
     },
     "execution_count": 31,
     "metadata": {},
     "output_type": "execute_result"
    }
   ],
   "source": [
    "# RATIOs (out of 44424 Images)\n",
    "ratio_df = pd.DataFrame(TCount) / len(real_gt_real)\n",
    "ratio_df"
   ]
  },
  {
   "cell_type": "markdown",
   "id": "d739cbdd-daad-463d-9545-507595fd034e",
   "metadata": {
    "pycharm": {
     "name": "#%% md\n"
    }
   },
   "source": [
    "## Human Performance Analysis"
   ]
  },
  {
   "cell_type": "code",
   "execution_count": 32,
   "id": "dec8ddef-6c05-4e9f-8f01-4bcd09ccd14e",
   "metadata": {
    "pycharm": {
     "name": "#%%\n"
    }
   },
   "outputs": [],
   "source": [
    "summary_df = pd.read_csv(\"../data/ImageNet-Human-Study-Summary.csv\")"
   ]
  },
  {
   "cell_type": "markdown",
   "id": "0d5f6b59-63fd-4629-8370-826b0964ea5e",
   "metadata": {
    "pycharm": {
     "name": "#%% md\n"
    }
   },
   "source": [
    "## Removing Bad Users \n",
    "\n",
    "We manually marked two users as **bad** based on their average performance on `1:1` ratio samples\n",
    "\n",
    "1. `6395881` \n",
    "1. `6396044`\n",
    "\n",
    "\n",
    "And after resampling we excluded these `4` users:\n",
    "\n",
    "1. `6386000`\n",
    "1. `6382894`\n",
    "1. `6385998`\n",
    "1. `6382878`"
   ]
  },
  {
   "cell_type": "code",
   "execution_count": 33,
   "id": "23a119b7-4e05-4bac-8d3a-369527d8e34a",
   "metadata": {
    "pycharm": {
     "name": "#%%\n"
    }
   },
   "outputs": [],
   "source": [
    "summary_df = summary_df[\n",
    "    ~summary_df[\"UID\"].isin([6395881, 6396044] + [6386000, 6382894, 6385998, 6382878])\n",
    "]"
   ]
  },
  {
   "cell_type": "code",
   "execution_count": 34,
   "metadata": {},
   "outputs": [],
   "source": [
    "# summary_df.head()"
   ]
  },
  {
   "cell_type": "code",
   "execution_count": 35,
   "id": "11034dee-94ad-41c6-9e3e-76b2c9b60d76",
   "metadata": {
    "pycharm": {
     "name": "#%%\n"
    }
   },
   "outputs": [
    {
     "name": "stdout",
     "output_type": "stream",
     "text": [
      "total 10620 entries\n"
     ]
    }
   ],
   "source": [
    "print(f\"total {len(summary_df)} entries\")"
   ]
  },
  {
   "cell_type": "code",
   "execution_count": 36,
   "id": "6b89eae4-7f1d-40a1-89cd-007a6dd841e9",
   "metadata": {
    "pycharm": {
     "name": "#%%\n"
    }
   },
   "outputs": [],
   "source": [
    "df_treshold = copy.deepcopy(summary_df[[\"Method\", \"Correctness\", \"ConfidenceScore\"]])"
   ]
  },
  {
   "cell_type": "markdown",
   "id": "f9943bc1-5b75-46f6-ba60-b1377216ed5b",
   "metadata": {
    "pycharm": {
     "name": "#%% md\n"
    }
   },
   "source": [
    "## Human Performance"
   ]
  },
  {
   "cell_type": "code",
   "execution_count": 37,
   "metadata": {},
   "outputs": [],
   "source": [
    "ORDER_DICT = {\n",
    "    \"ResNet-50\": 1,\n",
    "    \"kNN\": 2,\n",
    "    \"EMD-NN\": 3,\n",
    "    \"EMD-Corr\": 4,\n",
    "    \"CHM-NN\": 5,\n",
    "    \"CHM-Corr\": 6,\n",
    "}"
   ]
  },
  {
   "cell_type": "code",
   "execution_count": 38,
   "id": "207439d3-6fd4-4e39-b1c1-bd008db7dd16",
   "metadata": {
    "pycharm": {
     "name": "#%%\n"
    }
   },
   "outputs": [],
   "source": [
    "human_accuracy = {}\n",
    "for T in np.arange(0.0, 1.05, 0.05):\n",
    "    human_accuracy[f\"{T:0.2f}\"] = (\n",
    "        df_treshold[df_treshold[\"ConfidenceScore\"] < T]\n",
    "        .groupby(\"Method\")[\"Correctness\"]\n",
    "        .mean()\n",
    "    )"
   ]
  },
  {
   "cell_type": "code",
   "execution_count": 39,
   "id": "da3224fe-12b8-4d50-acde-ec89474316c5",
   "metadata": {
    "pycharm": {
     "name": "#%%\n"
    }
   },
   "outputs": [
    {
     "data": {
      "text/html": [
       "<div>\n",
       "<style scoped>\n",
       "    .dataframe tbody tr th:only-of-type {\n",
       "        vertical-align: middle;\n",
       "    }\n",
       "\n",
       "    .dataframe tbody tr th {\n",
       "        vertical-align: top;\n",
       "    }\n",
       "\n",
       "    .dataframe thead th {\n",
       "        text-align: right;\n",
       "    }\n",
       "</style>\n",
       "<table border=\"1\" class=\"dataframe\">\n",
       "  <thead>\n",
       "    <tr style=\"text-align: right;\">\n",
       "      <th></th>\n",
       "      <th>ResNet-50</th>\n",
       "      <th>kNN</th>\n",
       "      <th>EMD-NN</th>\n",
       "      <th>EMD-Corr</th>\n",
       "      <th>CHM-NN</th>\n",
       "      <th>CHM-Corr</th>\n",
       "    </tr>\n",
       "  </thead>\n",
       "  <tbody>\n",
       "    <tr>\n",
       "      <th>0.00</th>\n",
       "      <td>NaN</td>\n",
       "      <td>NaN</td>\n",
       "      <td>NaN</td>\n",
       "      <td>NaN</td>\n",
       "      <td>NaN</td>\n",
       "      <td>NaN</td>\n",
       "    </tr>\n",
       "    <tr>\n",
       "      <th>0.05</th>\n",
       "      <td>1.0</td>\n",
       "      <td>NaN</td>\n",
       "      <td>NaN</td>\n",
       "      <td>NaN</td>\n",
       "      <td>NaN</td>\n",
       "      <td>NaN</td>\n",
       "    </tr>\n",
       "    <tr>\n",
       "      <th>0.10</th>\n",
       "      <td>1.0</td>\n",
       "      <td>1.0</td>\n",
       "      <td>1.0</td>\n",
       "      <td>1.0</td>\n",
       "      <td>NaN</td>\n",
       "      <td>NaN</td>\n",
       "    </tr>\n",
       "    <tr>\n",
       "      <th>0.15</th>\n",
       "      <td>0.890909</td>\n",
       "      <td>0.971429</td>\n",
       "      <td>0.961039</td>\n",
       "      <td>0.952941</td>\n",
       "      <td>0.947368</td>\n",
       "      <td>0.918919</td>\n",
       "    </tr>\n",
       "    <tr>\n",
       "      <th>0.20</th>\n",
       "      <td>0.859813</td>\n",
       "      <td>0.971429</td>\n",
       "      <td>0.961039</td>\n",
       "      <td>0.952941</td>\n",
       "      <td>0.947368</td>\n",
       "      <td>0.918919</td>\n",
       "    </tr>\n",
       "    <tr>\n",
       "      <th>0.25</th>\n",
       "      <td>0.898204</td>\n",
       "      <td>0.902256</td>\n",
       "      <td>0.952381</td>\n",
       "      <td>0.955696</td>\n",
       "      <td>0.889655</td>\n",
       "      <td>0.869863</td>\n",
       "    </tr>\n",
       "    <tr>\n",
       "      <th>0.30</th>\n",
       "      <td>0.924107</td>\n",
       "      <td>0.800643</td>\n",
       "      <td>0.883636</td>\n",
       "      <td>0.892734</td>\n",
       "      <td>0.813725</td>\n",
       "      <td>0.819048</td>\n",
       "    </tr>\n",
       "    <tr>\n",
       "      <th>0.35</th>\n",
       "      <td>0.891374</td>\n",
       "      <td>0.778626</td>\n",
       "      <td>0.831135</td>\n",
       "      <td>0.851948</td>\n",
       "      <td>0.805774</td>\n",
       "      <td>0.783505</td>\n",
       "    </tr>\n",
       "    <tr>\n",
       "      <th>0.40</th>\n",
       "      <td>0.867347</td>\n",
       "      <td>0.778626</td>\n",
       "      <td>0.831135</td>\n",
       "      <td>0.851948</td>\n",
       "      <td>0.805774</td>\n",
       "      <td>0.783505</td>\n",
       "    </tr>\n",
       "    <tr>\n",
       "      <th>0.45</th>\n",
       "      <td>0.846154</td>\n",
       "      <td>0.734021</td>\n",
       "      <td>0.814898</td>\n",
       "      <td>0.825893</td>\n",
       "      <td>0.792208</td>\n",
       "      <td>0.773913</td>\n",
       "    </tr>\n",
       "    <tr>\n",
       "      <th>0.50</th>\n",
       "      <td>0.837937</td>\n",
       "      <td>0.707826</td>\n",
       "      <td>0.774545</td>\n",
       "      <td>0.791667</td>\n",
       "      <td>0.77881</td>\n",
       "      <td>0.768519</td>\n",
       "    </tr>\n",
       "    <tr>\n",
       "      <th>0.55</th>\n",
       "      <td>0.815166</td>\n",
       "      <td>0.679939</td>\n",
       "      <td>0.735878</td>\n",
       "      <td>0.746667</td>\n",
       "      <td>0.73717</td>\n",
       "      <td>0.733542</td>\n",
       "    </tr>\n",
       "    <tr>\n",
       "      <th>0.60</th>\n",
       "      <td>0.807956</td>\n",
       "      <td>0.678705</td>\n",
       "      <td>0.704057</td>\n",
       "      <td>0.724018</td>\n",
       "      <td>0.69483</td>\n",
       "      <td>0.703046</td>\n",
       "    </tr>\n",
       "    <tr>\n",
       "      <th>0.65</th>\n",
       "      <td>0.805</td>\n",
       "      <td>0.678705</td>\n",
       "      <td>0.704057</td>\n",
       "      <td>0.724018</td>\n",
       "      <td>0.69483</td>\n",
       "      <td>0.703046</td>\n",
       "    </tr>\n",
       "    <tr>\n",
       "      <th>0.70</th>\n",
       "      <td>0.778286</td>\n",
       "      <td>0.674317</td>\n",
       "      <td>0.686808</td>\n",
       "      <td>0.70439</td>\n",
       "      <td>0.689873</td>\n",
       "      <td>0.702128</td>\n",
       "    </tr>\n",
       "    <tr>\n",
       "      <th>0.75</th>\n",
       "      <td>0.760593</td>\n",
       "      <td>0.674317</td>\n",
       "      <td>0.686808</td>\n",
       "      <td>0.70439</td>\n",
       "      <td>0.689873</td>\n",
       "      <td>0.702128</td>\n",
       "    </tr>\n",
       "    <tr>\n",
       "      <th>0.80</th>\n",
       "      <td>0.761044</td>\n",
       "      <td>0.665</td>\n",
       "      <td>0.684564</td>\n",
       "      <td>0.707136</td>\n",
       "      <td>0.692308</td>\n",
       "      <td>0.705645</td>\n",
       "    </tr>\n",
       "    <tr>\n",
       "      <th>0.85</th>\n",
       "      <td>0.75653</td>\n",
       "      <td>0.669251</td>\n",
       "      <td>0.69697</td>\n",
       "      <td>0.71741</td>\n",
       "      <td>0.687943</td>\n",
       "      <td>0.693202</td>\n",
       "    </tr>\n",
       "    <tr>\n",
       "      <th>0.90</th>\n",
       "      <td>0.756332</td>\n",
       "      <td>0.669251</td>\n",
       "      <td>0.69697</td>\n",
       "      <td>0.71741</td>\n",
       "      <td>0.687943</td>\n",
       "      <td>0.693202</td>\n",
       "    </tr>\n",
       "    <tr>\n",
       "      <th>0.95</th>\n",
       "      <td>0.760836</td>\n",
       "      <td>0.704176</td>\n",
       "      <td>0.731529</td>\n",
       "      <td>0.746269</td>\n",
       "      <td>0.714922</td>\n",
       "      <td>0.712984</td>\n",
       "    </tr>\n",
       "    <tr>\n",
       "      <th>1.00</th>\n",
       "      <td>0.815248</td>\n",
       "      <td>0.704176</td>\n",
       "      <td>0.731529</td>\n",
       "      <td>0.746269</td>\n",
       "      <td>0.714922</td>\n",
       "      <td>0.712984</td>\n",
       "    </tr>\n",
       "  </tbody>\n",
       "</table>\n",
       "</div>"
      ],
      "text/plain": [
       "     ResNet-50       kNN    EMD-NN  EMD-Corr    CHM-NN  CHM-Corr\n",
       "0.00       NaN       NaN       NaN       NaN       NaN       NaN\n",
       "0.05       1.0       NaN       NaN       NaN       NaN       NaN\n",
       "0.10       1.0       1.0       1.0       1.0       NaN       NaN\n",
       "0.15  0.890909  0.971429  0.961039  0.952941  0.947368  0.918919\n",
       "0.20  0.859813  0.971429  0.961039  0.952941  0.947368  0.918919\n",
       "0.25  0.898204  0.902256  0.952381  0.955696  0.889655  0.869863\n",
       "0.30  0.924107  0.800643  0.883636  0.892734  0.813725  0.819048\n",
       "0.35  0.891374  0.778626  0.831135  0.851948  0.805774  0.783505\n",
       "0.40  0.867347  0.778626  0.831135  0.851948  0.805774  0.783505\n",
       "0.45  0.846154  0.734021  0.814898  0.825893  0.792208  0.773913\n",
       "0.50  0.837937  0.707826  0.774545  0.791667   0.77881  0.768519\n",
       "0.55  0.815166  0.679939  0.735878  0.746667   0.73717  0.733542\n",
       "0.60  0.807956  0.678705  0.704057  0.724018   0.69483  0.703046\n",
       "0.65     0.805  0.678705  0.704057  0.724018   0.69483  0.703046\n",
       "0.70  0.778286  0.674317  0.686808   0.70439  0.689873  0.702128\n",
       "0.75  0.760593  0.674317  0.686808   0.70439  0.689873  0.702128\n",
       "0.80  0.761044     0.665  0.684564  0.707136  0.692308  0.705645\n",
       "0.85   0.75653  0.669251   0.69697   0.71741  0.687943  0.693202\n",
       "0.90  0.756332  0.669251   0.69697   0.71741  0.687943  0.693202\n",
       "0.95  0.760836  0.704176  0.731529  0.746269  0.714922  0.712984\n",
       "1.00  0.815248  0.704176  0.731529  0.746269  0.714922  0.712984"
      ]
     },
     "execution_count": 39,
     "metadata": {},
     "output_type": "execute_result"
    }
   ],
   "source": [
    "humand_df = (\n",
    "    pd.DataFrame.from_dict(human_accuracy)\n",
    "    .loc[::-1]\n",
    "    .reset_index()\n",
    "    .sort_values(by=\"Method\", key=lambda x: x.map(ORDER_DICT))\n",
    "    .T\n",
    ")\n",
    "\n",
    "humand_df = humand_df.drop(\"Method\")\n",
    "humand_df.columns = [\"ResNet-50\", \"kNN\", \"EMD-NN\", \"EMD-Corr\", \"CHM-NN\", \"CHM-Corr\"]\n",
    "humand_df"
   ]
  },
  {
   "cell_type": "code",
   "execution_count": 40,
   "id": "08251fae-74f8-479d-91d4-9b822c06abed",
   "metadata": {},
   "outputs": [],
   "source": [
    "def make_table(ai_group, human_group):\n",
    "    agg_df = pd.DataFrame()\n",
    "    agg_df[\"T\"] = humand_df.index\n",
    "    agg_df[\"T\"] = agg_df[\"T\"].astype(float).apply(lambda x: np.round(x, 2))\n",
    "    agg_df[\"Ratio of Images Handled by AI\"] = ratio_df[ai_group].values\n",
    "    \n",
    "    agg_df[\"AI Alone Performance\"] = ai_df[ai_group].values\n",
    "    agg_df[\"Human Performance on Remaining Images\"] = humand_df[human_group].values\n",
    "    agg_df[\"Aggregated Performance\"] = (\n",
    "        agg_df[\"Ratio of Images Handled by AI\"] * agg_df[\"AI Alone Performance\"]\n",
    "    ) + (\n",
    "        (1 - agg_df[\"Ratio of Images Handled by AI\"])\n",
    "        * agg_df[\"Human Performance on Remaining Images\"]\n",
    "    )\n",
    "\n",
    "    agg_df = agg_df.set_index(\"T\")\n",
    "\n",
    "    agg_df[\"AI Alone Performance\"] = (100 * agg_df[\"AI Alone Performance\"]).round(2)\n",
    "    agg_df[\"Human Performance on Remaining Images\"] = (\n",
    "        (100 * agg_df[\"Human Performance on Remaining Images\"])\n",
    "        .astype(float)\n",
    "        .apply(lambda x: np.round(x, 2))\n",
    "    )\n",
    "\n",
    "    agg_df[\"Aggregated Performance\"] = (\n",
    "        (100 * agg_df[\"Aggregated Performance\"])\n",
    "        .astype(float)\n",
    "        .apply(lambda x: np.round(x, 2))\n",
    "    )\n",
    "\n",
    "    agg_df[\"Ratio of Images Handled by AI\"] = 100*agg_df[\n",
    "        \"Ratio of Images Handled by AI\"\n",
    "    ].round(4)\n",
    "\n",
    "    return agg_df"
   ]
  },
  {
   "cell_type": "code",
   "execution_count": 41,
   "id": "5e89b65e-26af-4991-b1cd-de7f0665ee31",
   "metadata": {},
   "outputs": [],
   "source": [
    "method_tables = {}\n",
    "\n",
    "for ai_group, human_group in zip(\n",
    "    [\"ResNet\", \"KNN\", \"EMD\", \"EMD\", \"CHM\", \"CHM\"], [\"ResNet-50\", \"kNN\", \"EMD-NN\", \"EMD-Corr\", \"CHM-NN\", \"CHM-Corr\"]\n",
    "):\n",
    "    method_tables[human_group] = make_table(ai_group, human_group)\n"
   ]
  },
  {
   "cell_type": "code",
   "execution_count": 42,
   "metadata": {},
   "outputs": [
    {
     "data": {
      "text/plain": [
       "ResNet    0.45\n",
       "KNN       0.45\n",
       "EMD        0.4\n",
       "CHM        0.5\n",
       "dtype: object"
      ]
     },
     "execution_count": 42,
     "metadata": {},
     "output_type": "execute_result"
    }
   ],
   "source": [
    "optimal_t"
   ]
  },
  {
   "cell_type": "code",
   "execution_count": 43,
   "metadata": {},
   "outputs": [
    {
     "data": {
      "text/html": [
       "<div>\n",
       "<style scoped>\n",
       "    .dataframe tbody tr th:only-of-type {\n",
       "        vertical-align: middle;\n",
       "    }\n",
       "\n",
       "    .dataframe tbody tr th {\n",
       "        vertical-align: top;\n",
       "    }\n",
       "\n",
       "    .dataframe thead th {\n",
       "        text-align: right;\n",
       "    }\n",
       "</style>\n",
       "<table border=\"1\" class=\"dataframe\">\n",
       "  <thead>\n",
       "    <tr style=\"text-align: right;\">\n",
       "      <th></th>\n",
       "      <th>Ratio of Images Handled by AI</th>\n",
       "      <th>AI Alone Performance</th>\n",
       "      <th>Human Performance on Remaining Images</th>\n",
       "      <th>Aggregated Performance</th>\n",
       "    </tr>\n",
       "    <tr>\n",
       "      <th>T</th>\n",
       "      <th></th>\n",
       "      <th></th>\n",
       "      <th></th>\n",
       "      <th></th>\n",
       "    </tr>\n",
       "  </thead>\n",
       "  <tbody>\n",
       "    <tr>\n",
       "      <th>0.45</th>\n",
       "      <td>88.5</td>\n",
       "      <td>89.15</td>\n",
       "      <td>84.62</td>\n",
       "      <td>88.63</td>\n",
       "    </tr>\n",
       "  </tbody>\n",
       "</table>\n",
       "</div>"
      ],
      "text/plain": [
       "      Ratio of Images Handled by AI  AI Alone Performance  \\\n",
       "T                                                           \n",
       "0.45                           88.5                 89.15   \n",
       "\n",
       "      Human Performance on Remaining Images  Aggregated Performance  \n",
       "T                                                                    \n",
       "0.45                                  84.62                   88.63  "
      ]
     },
     "execution_count": 43,
     "metadata": {},
     "output_type": "execute_result"
    }
   ],
   "source": [
    "method_tables['ResNet-50'].loc[[optimal_t['ResNet']]]\n"
   ]
  },
  {
   "cell_type": "code",
   "execution_count": 44,
   "metadata": {},
   "outputs": [],
   "source": [
    "Aggregated_performance = {}\n",
    "\n",
    "for ai_group, human_group in zip(\n",
    "    [\"ResNet\", \"KNN\", \"EMD\", \"EMD\", \"CHM\", \"CHM\"], [\"ResNet-50\", \"kNN\", \"EMD-NN\", \"EMD-Corr\", \"CHM-NN\", \"CHM-Corr\"]\n",
    "):\n",
    "    Aggregated_performance[human_group] = method_tables[human_group].loc[[optimal_t[ai_group]]]['Aggregated Performance'].reset_index(drop=True)\n",
    "\n",
    "Aggregated_performance_df = pd.DataFrame.from_dict(Aggregated_performance).T"
   ]
  },
  {
   "cell_type": "code",
   "execution_count": 45,
   "metadata": {},
   "outputs": [
    {
     "data": {
      "text/html": [
       "<div>\n",
       "<style scoped>\n",
       "    .dataframe tbody tr th:only-of-type {\n",
       "        vertical-align: middle;\n",
       "    }\n",
       "\n",
       "    .dataframe tbody tr th {\n",
       "        vertical-align: top;\n",
       "    }\n",
       "\n",
       "    .dataframe thead th {\n",
       "        text-align: right;\n",
       "    }\n",
       "</style>\n",
       "<table border=\"1\" class=\"dataframe\">\n",
       "  <thead>\n",
       "    <tr style=\"text-align: right;\">\n",
       "      <th></th>\n",
       "      <th>Ratio of Images Handled by AI</th>\n",
       "      <th>AI Alone Performance</th>\n",
       "      <th>Human Performance on Remaining Images</th>\n",
       "      <th>Aggregated Performance</th>\n",
       "    </tr>\n",
       "    <tr>\n",
       "      <th>T</th>\n",
       "      <th></th>\n",
       "      <th></th>\n",
       "      <th></th>\n",
       "      <th></th>\n",
       "    </tr>\n",
       "  </thead>\n",
       "  <tbody>\n",
       "    <tr>\n",
       "      <th>0.45</th>\n",
       "      <td>88.5</td>\n",
       "      <td>89.15</td>\n",
       "      <td>84.62</td>\n",
       "      <td>88.63</td>\n",
       "    </tr>\n",
       "  </tbody>\n",
       "</table>\n",
       "</div>"
      ],
      "text/plain": [
       "      Ratio of Images Handled by AI  AI Alone Performance  \\\n",
       "T                                                           \n",
       "0.45                           88.5                 89.15   \n",
       "\n",
       "      Human Performance on Remaining Images  Aggregated Performance  \n",
       "T                                                                    \n",
       "0.45                                  84.62                   88.63  "
      ]
     },
     "execution_count": 45,
     "metadata": {},
     "output_type": "execute_result"
    }
   ],
   "source": [
    "method_tables['ResNet-50'].loc[[optimal_t['ResNet']]]\n"
   ]
  },
  {
   "cell_type": "code",
   "execution_count": 46,
   "metadata": {},
   "outputs": [
    {
     "data": {
      "text/html": [
       "<div>\n",
       "<style scoped>\n",
       "    .dataframe tbody tr th:only-of-type {\n",
       "        vertical-align: middle;\n",
       "    }\n",
       "\n",
       "    .dataframe tbody tr th {\n",
       "        vertical-align: top;\n",
       "    }\n",
       "\n",
       "    .dataframe thead th {\n",
       "        text-align: right;\n",
       "    }\n",
       "</style>\n",
       "<table border=\"1\" class=\"dataframe\">\n",
       "  <thead>\n",
       "    <tr style=\"text-align: right;\">\n",
       "      <th></th>\n",
       "      <th>Ratio of Images Handled by AI</th>\n",
       "      <th>AI Alone Performance</th>\n",
       "      <th>Human Performance on Remaining Images</th>\n",
       "      <th>Aggregated Performance</th>\n",
       "    </tr>\n",
       "    <tr>\n",
       "      <th>T</th>\n",
       "      <th></th>\n",
       "      <th></th>\n",
       "      <th></th>\n",
       "      <th></th>\n",
       "    </tr>\n",
       "  </thead>\n",
       "  <tbody>\n",
       "    <tr>\n",
       "      <th>0.45</th>\n",
       "      <td>86.34</td>\n",
       "      <td>89.44</td>\n",
       "      <td>73.4</td>\n",
       "      <td>87.24</td>\n",
       "    </tr>\n",
       "  </tbody>\n",
       "</table>\n",
       "</div>"
      ],
      "text/plain": [
       "      Ratio of Images Handled by AI  AI Alone Performance  \\\n",
       "T                                                           \n",
       "0.45                          86.34                 89.44   \n",
       "\n",
       "      Human Performance on Remaining Images  Aggregated Performance  \n",
       "T                                                                    \n",
       "0.45                                   73.4                   87.24  "
      ]
     },
     "execution_count": 46,
     "metadata": {},
     "output_type": "execute_result"
    }
   ],
   "source": [
    "method_tables['kNN'].loc[[optimal_t['KNN']]]\n"
   ]
  },
  {
   "cell_type": "code",
   "execution_count": 47,
   "metadata": {},
   "outputs": [
    {
     "data": {
      "text/html": [
       "<div>\n",
       "<style scoped>\n",
       "    .dataframe tbody tr th:only-of-type {\n",
       "        vertical-align: middle;\n",
       "    }\n",
       "\n",
       "    .dataframe tbody tr th {\n",
       "        vertical-align: top;\n",
       "    }\n",
       "\n",
       "    .dataframe thead th {\n",
       "        text-align: right;\n",
       "    }\n",
       "</style>\n",
       "<table border=\"1\" class=\"dataframe\">\n",
       "  <thead>\n",
       "    <tr style=\"text-align: right;\">\n",
       "      <th></th>\n",
       "      <th>AI Performance</th>\n",
       "    </tr>\n",
       "  </thead>\n",
       "  <tbody>\n",
       "    <tr>\n",
       "      <th>ResNet</th>\n",
       "      <td>86.11</td>\n",
       "    </tr>\n",
       "    <tr>\n",
       "      <th>KNN</th>\n",
       "      <td>85.95</td>\n",
       "    </tr>\n",
       "    <tr>\n",
       "      <th>EMD</th>\n",
       "      <td>85.91</td>\n",
       "    </tr>\n",
       "    <tr>\n",
       "      <th>CHM</th>\n",
       "      <td>85.36</td>\n",
       "    </tr>\n",
       "  </tbody>\n",
       "</table>\n",
       "</div>"
      ],
      "text/plain": [
       "        AI Performance\n",
       "ResNet           86.11\n",
       "KNN              85.95\n",
       "EMD              85.91\n",
       "CHM              85.36"
      ]
     },
     "execution_count": 47,
     "metadata": {},
     "output_type": "execute_result"
    }
   ],
   "source": [
    "ai_performance_df.round(2)"
   ]
  },
  {
   "cell_type": "code",
   "execution_count": 48,
   "metadata": {},
   "outputs": [
    {
     "data": {
      "text/html": [
       "<div>\n",
       "<style scoped>\n",
       "    .dataframe tbody tr th:only-of-type {\n",
       "        vertical-align: middle;\n",
       "    }\n",
       "\n",
       "    .dataframe tbody tr th {\n",
       "        vertical-align: top;\n",
       "    }\n",
       "\n",
       "    .dataframe thead th {\n",
       "        text-align: right;\n",
       "    }\n",
       "</style>\n",
       "<table border=\"1\" class=\"dataframe\">\n",
       "  <thead>\n",
       "    <tr style=\"text-align: right;\">\n",
       "      <th></th>\n",
       "      <th>0</th>\n",
       "    </tr>\n",
       "  </thead>\n",
       "  <tbody>\n",
       "    <tr>\n",
       "      <th>ResNet-50</th>\n",
       "      <td>88.63</td>\n",
       "    </tr>\n",
       "    <tr>\n",
       "      <th>kNN</th>\n",
       "      <td>87.24</td>\n",
       "    </tr>\n",
       "    <tr>\n",
       "      <th>EMD-NN</th>\n",
       "      <td>87.80</td>\n",
       "    </tr>\n",
       "    <tr>\n",
       "      <th>EMD-Corr</th>\n",
       "      <td>88.02</td>\n",
       "    </tr>\n",
       "    <tr>\n",
       "      <th>CHM-NN</th>\n",
       "      <td>88.05</td>\n",
       "    </tr>\n",
       "    <tr>\n",
       "      <th>CHM-Corr</th>\n",
       "      <td>87.89</td>\n",
       "    </tr>\n",
       "  </tbody>\n",
       "</table>\n",
       "</div>"
      ],
      "text/plain": [
       "               0\n",
       "ResNet-50  88.63\n",
       "kNN        87.24\n",
       "EMD-NN     87.80\n",
       "EMD-Corr   88.02\n",
       "CHM-NN     88.05\n",
       "CHM-Corr   87.89"
      ]
     },
     "execution_count": 48,
     "metadata": {},
     "output_type": "execute_result"
    }
   ],
   "source": [
    "# remove index\n",
    "Aggregated_performance_df"
   ]
  },
  {
   "cell_type": "code",
   "execution_count": 49,
   "metadata": {},
   "outputs": [],
   "source": [
    "# combining two df\n",
    "# rename index to match the names\n",
    "ai_performance_df.index = ['ResNet-50', 'kNN', 'EMD-Corr', 'CHM-Corr']\n",
    "\n",
    "combined_table = pd.concat([ai_performance_df.round(2), Aggregated_performance_df, ], axis=1)\n",
    "combined_table.columns = ['AI Alone Performance', 'Human-AI Performance']\n",
    "\n",
    "# calculate the delta\n",
    "combined_table['Improvement'] = combined_table['Human-AI Performance'] - combined_table['AI Alone Performance']\n"
   ]
  },
  {
   "cell_type": "code",
   "execution_count": 50,
   "metadata": {},
   "outputs": [
    {
     "data": {
      "text/html": [
       "<div>\n",
       "<style scoped>\n",
       "    .dataframe tbody tr th:only-of-type {\n",
       "        vertical-align: middle;\n",
       "    }\n",
       "\n",
       "    .dataframe tbody tr th {\n",
       "        vertical-align: top;\n",
       "    }\n",
       "\n",
       "    .dataframe thead th {\n",
       "        text-align: right;\n",
       "    }\n",
       "</style>\n",
       "<table border=\"1\" class=\"dataframe\">\n",
       "  <thead>\n",
       "    <tr style=\"text-align: right;\">\n",
       "      <th></th>\n",
       "      <th>AI Alone Performance</th>\n",
       "      <th>Human-AI Performance</th>\n",
       "      <th>Improvement</th>\n",
       "    </tr>\n",
       "  </thead>\n",
       "  <tbody>\n",
       "    <tr>\n",
       "      <th>ResNet-50</th>\n",
       "      <td>86.11</td>\n",
       "      <td>88.63</td>\n",
       "      <td>2.52</td>\n",
       "    </tr>\n",
       "    <tr>\n",
       "      <th>kNN</th>\n",
       "      <td>85.95</td>\n",
       "      <td>87.24</td>\n",
       "      <td>1.29</td>\n",
       "    </tr>\n",
       "    <tr>\n",
       "      <th>EMD-Corr</th>\n",
       "      <td>85.91</td>\n",
       "      <td>88.02</td>\n",
       "      <td>2.11</td>\n",
       "    </tr>\n",
       "    <tr>\n",
       "      <th>CHM-Corr</th>\n",
       "      <td>85.36</td>\n",
       "      <td>87.89</td>\n",
       "      <td>2.53</td>\n",
       "    </tr>\n",
       "    <tr>\n",
       "      <th>EMD-NN</th>\n",
       "      <td>NaN</td>\n",
       "      <td>87.80</td>\n",
       "      <td>NaN</td>\n",
       "    </tr>\n",
       "    <tr>\n",
       "      <th>CHM-NN</th>\n",
       "      <td>NaN</td>\n",
       "      <td>88.05</td>\n",
       "      <td>NaN</td>\n",
       "    </tr>\n",
       "  </tbody>\n",
       "</table>\n",
       "</div>"
      ],
      "text/plain": [
       "           AI Alone Performance  Human-AI Performance  Improvement\n",
       "ResNet-50                 86.11                 88.63         2.52\n",
       "kNN                       85.95                 87.24         1.29\n",
       "EMD-Corr                  85.91                 88.02         2.11\n",
       "CHM-Corr                  85.36                 87.89         2.53\n",
       "EMD-NN                      NaN                 87.80          NaN\n",
       "CHM-NN                      NaN                 88.05          NaN"
      ]
     },
     "execution_count": 50,
     "metadata": {},
     "output_type": "execute_result"
    }
   ],
   "source": [
    "combined_table"
   ]
  },
  {
   "cell_type": "code",
   "execution_count": 51,
   "metadata": {},
   "outputs": [],
   "source": [
    "# drop last two rows\n",
    "combined_table = combined_table.drop(['EMD-NN', 'CHM-NN'])"
   ]
  },
  {
   "cell_type": "code",
   "execution_count": 52,
   "metadata": {},
   "outputs": [
    {
     "data": {
      "text/html": [
       "<div>\n",
       "<style scoped>\n",
       "    .dataframe tbody tr th:only-of-type {\n",
       "        vertical-align: middle;\n",
       "    }\n",
       "\n",
       "    .dataframe tbody tr th {\n",
       "        vertical-align: top;\n",
       "    }\n",
       "\n",
       "    .dataframe thead th {\n",
       "        text-align: right;\n",
       "    }\n",
       "</style>\n",
       "<table border=\"1\" class=\"dataframe\">\n",
       "  <thead>\n",
       "    <tr style=\"text-align: right;\">\n",
       "      <th></th>\n",
       "      <th>AI Alone Performance</th>\n",
       "      <th>Human-AI Performance</th>\n",
       "      <th>Improvement</th>\n",
       "    </tr>\n",
       "  </thead>\n",
       "  <tbody>\n",
       "    <tr>\n",
       "      <th>ResNet-50</th>\n",
       "      <td>86.11</td>\n",
       "      <td>88.63</td>\n",
       "      <td>2.52</td>\n",
       "    </tr>\n",
       "    <tr>\n",
       "      <th>kNN</th>\n",
       "      <td>85.95</td>\n",
       "      <td>87.24</td>\n",
       "      <td>1.29</td>\n",
       "    </tr>\n",
       "    <tr>\n",
       "      <th>EMD-Corr</th>\n",
       "      <td>85.91</td>\n",
       "      <td>88.02</td>\n",
       "      <td>2.11</td>\n",
       "    </tr>\n",
       "    <tr>\n",
       "      <th>CHM-Corr</th>\n",
       "      <td>85.36</td>\n",
       "      <td>87.89</td>\n",
       "      <td>2.53</td>\n",
       "    </tr>\n",
       "  </tbody>\n",
       "</table>\n",
       "</div>"
      ],
      "text/plain": [
       "           AI Alone Performance  Human-AI Performance  Improvement\n",
       "ResNet-50                 86.11                 88.63         2.52\n",
       "kNN                       85.95                 87.24         1.29\n",
       "EMD-Corr                  85.91                 88.02         2.11\n",
       "CHM-Corr                  85.36                 87.89         2.53"
      ]
     },
     "execution_count": 52,
     "metadata": {},
     "output_type": "execute_result"
    }
   ],
   "source": [
    "combined_table"
   ]
  },
  {
   "cell_type": "code",
   "execution_count": 53,
   "metadata": {},
   "outputs": [],
   "source": [
    "# Add a row for calculating the average\n",
    "combined_table.loc['Average'] = combined_table.mean()"
   ]
  },
  {
   "cell_type": "code",
   "execution_count": 54,
   "metadata": {},
   "outputs": [
    {
     "data": {
      "text/html": [
       "<div>\n",
       "<style scoped>\n",
       "    .dataframe tbody tr th:only-of-type {\n",
       "        vertical-align: middle;\n",
       "    }\n",
       "\n",
       "    .dataframe tbody tr th {\n",
       "        vertical-align: top;\n",
       "    }\n",
       "\n",
       "    .dataframe thead th {\n",
       "        text-align: right;\n",
       "    }\n",
       "</style>\n",
       "<table border=\"1\" class=\"dataframe\">\n",
       "  <thead>\n",
       "    <tr style=\"text-align: right;\">\n",
       "      <th></th>\n",
       "      <th>AI Alone Performance</th>\n",
       "      <th>Human-AI Performance</th>\n",
       "      <th>Improvement</th>\n",
       "    </tr>\n",
       "  </thead>\n",
       "  <tbody>\n",
       "    <tr>\n",
       "      <th>ResNet-50</th>\n",
       "      <td>86.11</td>\n",
       "      <td>88.63</td>\n",
       "      <td>2.52</td>\n",
       "    </tr>\n",
       "    <tr>\n",
       "      <th>kNN</th>\n",
       "      <td>85.95</td>\n",
       "      <td>87.24</td>\n",
       "      <td>1.29</td>\n",
       "    </tr>\n",
       "    <tr>\n",
       "      <th>EMD-Corr</th>\n",
       "      <td>85.91</td>\n",
       "      <td>88.02</td>\n",
       "      <td>2.11</td>\n",
       "    </tr>\n",
       "    <tr>\n",
       "      <th>CHM-Corr</th>\n",
       "      <td>85.36</td>\n",
       "      <td>87.89</td>\n",
       "      <td>2.53</td>\n",
       "    </tr>\n",
       "    <tr>\n",
       "      <th>Average</th>\n",
       "      <td>85.83</td>\n",
       "      <td>87.94</td>\n",
       "      <td>2.11</td>\n",
       "    </tr>\n",
       "  </tbody>\n",
       "</table>\n",
       "</div>"
      ],
      "text/plain": [
       "           AI Alone Performance  Human-AI Performance  Improvement\n",
       "ResNet-50                 86.11                 88.63         2.52\n",
       "kNN                       85.95                 87.24         1.29\n",
       "EMD-Corr                  85.91                 88.02         2.11\n",
       "CHM-Corr                  85.36                 87.89         2.53\n",
       "Average                   85.83                 87.94         2.11"
      ]
     },
     "execution_count": 54,
     "metadata": {},
     "output_type": "execute_result"
    }
   ],
   "source": [
    "combined_table.round(2)"
   ]
  }
 ],
 "metadata": {
  "kernelspec": {
   "display_name": "Python 3.8.10 ('deep36')",
   "language": "python",
   "name": "python3"
  },
  "language_info": {
   "codemirror_mode": {
    "name": "ipython",
    "version": 3
   },
   "file_extension": ".py",
   "mimetype": "text/x-python",
   "name": "python",
   "nbconvert_exporter": "python",
   "pygments_lexer": "ipython3",
   "version": "3.8.10"
  },
  "orig_nbformat": 4,
  "vscode": {
   "interpreter": {
    "hash": "d0dbed096b9cc747a2e4832333af732bb712047a23259cfc39d3eee032c30d6a"
   }
  }
 },
 "nbformat": 4,
 "nbformat_minor": 2
}
