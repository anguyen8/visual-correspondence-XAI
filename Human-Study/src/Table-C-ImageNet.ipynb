{
 "cells": [
  {
   "cell_type": "markdown",
   "id": "e00048e8-e924-448c-9764-1f83239a4125",
   "metadata": {
    "pycharm": {
     "name": "#%% md\n"
    }
   },
   "source": [
    "# Analysis for Table C for ImageNet"
   ]
  },
  {
   "cell_type": "code",
   "execution_count": 1,
   "id": "9b6848fb-a565-480a-9c2d-e6bfacdd757b",
   "metadata": {
    "pycharm": {
     "name": "#%%\n"
    }
   },
   "outputs": [],
   "source": [
    "import numpy as np\n",
    "import pandas as pd\n",
    "\n",
    "from tqdm import tqdm\n",
    "import pickle\n",
    "import random\n",
    "import copy"
   ]
  },
  {
   "cell_type": "code",
   "execution_count": 2,
   "id": "dbb58c86-b1c8-4ac8-812d-b799c0182954",
   "metadata": {
    "pycharm": {
     "name": "#%%\n"
    }
   },
   "outputs": [],
   "source": [
    "import matplotlib.pyplot as plt\n",
    "import seaborn as sns\n",
    "sns.set()"
   ]
  },
  {
   "cell_type": "code",
   "execution_count": 3,
   "id": "b29543f0-b491-41de-967a-a5a1f6957757",
   "metadata": {
    "pycharm": {
     "name": "#%%\n"
    }
   },
   "outputs": [],
   "source": [
    "pd.set_option(\"display.max_columns\", None)\n",
    "pd.set_option(\"display.max_rows\", None)"
   ]
  },
  {
   "cell_type": "markdown",
   "id": "ec97b0c4-8159-415b-b12b-b1460f5f4b57",
   "metadata": {
    "pycharm": {
     "name": "#%% md\n"
    }
   },
   "source": [
    "### Orders for Plotting"
   ]
  },
  {
   "cell_type": "code",
   "execution_count": 4,
   "id": "24ab2f9a-1f50-460a-b71a-3c7662e7a43d",
   "metadata": {
    "pycharm": {
     "name": "#%%\n"
    }
   },
   "outputs": [],
   "source": [
    "ORDER_DICT = {'ResNet-50': 1,\n",
    "              'kNN': 2,\n",
    "              'EMD-NN':  3,\n",
    "              'EMD-Corr': 4,\n",
    "              'CHM-NN': 5,\n",
    "              'CHM-Corr': 6}"
   ]
  },
  {
   "cell_type": "markdown",
   "id": "fe093888-e756-4110-9713-ed5ce2dd8722",
   "metadata": {
    "pycharm": {
     "name": "#%% md\n"
    }
   },
   "source": [
    "##  Load summary fo AI Performance"
   ]
  },
  {
   "cell_type": "code",
   "execution_count": 5,
   "id": "16c45e19-4922-490d-be6a-c1bb963aeb2f",
   "metadata": {
    "pycharm": {
     "name": "#%%\n"
    }
   },
   "outputs": [],
   "source": [
    "random.seed(42)\n",
    "\n",
    "with open('../data/Classification-Summary-ImageNet.pickle', 'rb') as f:\n",
    "  classification_summary = pickle.load(f)"
   ]
  },
  {
   "cell_type": "code",
   "execution_count": 6,
   "id": "7df65cbb-1b3f-4d11-a936-4914fd191a00",
   "metadata": {
    "pycharm": {
     "name": "#%%\n"
    }
   },
   "outputs": [
    {
     "data": {
      "text/plain": [
       "dict_keys(['all_gts', 'resnet_wnid', 'knn_wnid', 'emd_wnid', 'chm_wnid', 'resnet_conf', 'knn_conf', 'emd_conf', 'chm_conf', 'resnet_wnid_real', 'knn_wnid_real', 'emd_wnid_real', 'chm_wnid_real', 'resnet_real_conf', 'knn__real_conf', 'emd__real_conf', 'chm__real_conf'])"
      ]
     },
     "execution_count": 6,
     "metadata": {},
     "output_type": "execute_result"
    }
   ],
   "source": [
    "classification_summary.keys()"
   ]
  },
  {
   "cell_type": "markdown",
   "id": "ca19a52e-b0e2-491d-9cb3-55da0647ada3",
   "metadata": {
    "pycharm": {
     "name": "#%% md\n"
    }
   },
   "source": [
    "### Unpacking"
   ]
  },
  {
   "cell_type": "code",
   "execution_count": 7,
   "id": "85b4d08b-baf9-47e8-842c-d71db88fa645",
   "metadata": {
    "pycharm": {
     "name": "#%%\n"
    }
   },
   "outputs": [],
   "source": [
    "real_gt_real = classification_summary['all_gts']\n",
    "\n",
    "resnet_wnid_real = classification_summary['resnet_wnid_real']\n",
    "knn_wnid_real    = classification_summary['knn_wnid_real']   \n",
    "emd_wnid_real    = classification_summary['emd_wnid_real']   \n",
    "chm_wnid_real    = classification_summary['chm_wnid_real']   \n",
    "\n",
    "IsM1Correct_real = np.asarray(classification_summary['resnet_wnid_real'])\n",
    "IsM2Correct_real = np.asarray(classification_summary['knn_wnid_real'])\n",
    "IsM3Correct_real = np.asarray(classification_summary['emd_wnid_real'])\n",
    "IsM4Correct_real = np.asarray(classification_summary['chm_wnid_real'])\n",
    "\n",
    "M1Conf_real = np.asarray(classification_summary['resnet_real_conf'])\n",
    "M2Conf_real = np.asarray(classification_summary['knn__real_conf'])\n",
    "M3Conf_real = np.asarray(classification_summary['emd__real_conf'])\n",
    "M4Conf_real = np.asarray(classification_summary['chm__real_conf'])"
   ]
  },
  {
   "cell_type": "markdown",
   "id": "9844834d-56cf-48d7-a396-03fb319bac13",
   "metadata": {
    "pycharm": {
     "name": "#%% md\n"
    }
   },
   "source": [
    "## AI Performance Analysis"
   ]
  },
  {
   "cell_type": "code",
   "execution_count": 8,
   "id": "06278151-6172-4413-b767-9b9fdbc8e2d7",
   "metadata": {
    "pycharm": {
     "name": "#%%\n"
    }
   },
   "outputs": [
    {
     "name": "stderr",
     "output_type": "stream",
     "text": [
      "100%|███████████████████████████████████████████████████████████████████████████████████████████████████████████████████████████████████████████████████████████████████████████████████████████████████████████████████| 20/20 [00:00<00:00, 2339.27it/s]\n",
      "100%|███████████████████████████████████████████████████████████████████████████████████████████████████████████████████████████████████████████████████████████████████████████████████████████████████████████████████| 20/20 [00:00<00:00, 1989.19it/s]\n",
      "100%|███████████████████████████████████████████████████████████████████████████████████████████████████████████████████████████████████████████████████████████████████████████████████████████████████████████████████| 20/20 [00:00<00:00, 1991.83it/s]\n",
      "100%|███████████████████████████████████████████████████████████████████████████████████████████████████████████████████████████████████████████████████████████████████████████████████████████████████████████████████| 20/20 [00:00<00:00, 2035.33it/s]\n"
     ]
    }
   ],
   "source": [
    "MethodName = ['ResNet', 'KNN', 'EMD', 'CHM']\n",
    "Methods    = [IsM1Correct_real, IsM2Correct_real, IsM3Correct_real, IsM4Correct_real]\n",
    "Confs      = [M1Conf_real, M2Conf_real, M3Conf_real, M4Conf_real]\n",
    "\n",
    "TAnalysis = {}\n",
    "TCount = {}\n",
    "\n",
    "for N, M, C in zip(MethodName, Methods, Confs):\n",
    "  TAnalysis[N] = {}\n",
    "  TCount[N] = {}\n",
    "  \n",
    "  for T in tqdm(np.arange(0., 1.0, 0.05)):\n",
    "    TAnalysis[N][round(T, 2)] = np.mean(M[C>T])\n",
    "    TCount[N][round(T, 2)]    = len(M[C>T])"
   ]
  },
  {
   "cell_type": "markdown",
   "id": "da93dea6-50d9-44ba-97d7-61095134c4c6",
   "metadata": {
    "pycharm": {
     "name": "#%% md\n"
    }
   },
   "source": [
    "## AI PERFORMANCE "
   ]
  },
  {
   "cell_type": "code",
   "execution_count": 9,
   "id": "a3bfc7e6-bb41-4c0f-b1ee-f2d7bf4bd41d",
   "metadata": {
    "pycharm": {
     "name": "#%%\n"
    }
   },
   "outputs": [
    {
     "data": {
      "text/html": [
       "<div>\n",
       "<style scoped>\n",
       "    .dataframe tbody tr th:only-of-type {\n",
       "        vertical-align: middle;\n",
       "    }\n",
       "\n",
       "    .dataframe tbody tr th {\n",
       "        vertical-align: top;\n",
       "    }\n",
       "\n",
       "    .dataframe thead th {\n",
       "        text-align: right;\n",
       "    }\n",
       "</style>\n",
       "<table border=\"1\" class=\"dataframe\">\n",
       "  <thead>\n",
       "    <tr style=\"text-align: right;\">\n",
       "      <th></th>\n",
       "      <th>0.00</th>\n",
       "      <th>0.05</th>\n",
       "      <th>0.10</th>\n",
       "      <th>0.15</th>\n",
       "      <th>0.20</th>\n",
       "      <th>0.25</th>\n",
       "      <th>0.30</th>\n",
       "      <th>0.35</th>\n",
       "      <th>0.40</th>\n",
       "      <th>0.45</th>\n",
       "      <th>0.50</th>\n",
       "      <th>0.55</th>\n",
       "      <th>0.60</th>\n",
       "      <th>0.65</th>\n",
       "      <th>0.70</th>\n",
       "      <th>0.75</th>\n",
       "      <th>0.80</th>\n",
       "      <th>0.85</th>\n",
       "      <th>0.90</th>\n",
       "      <th>0.95</th>\n",
       "    </tr>\n",
       "  </thead>\n",
       "  <tbody>\n",
       "    <tr>\n",
       "      <th>ResNet</th>\n",
       "      <td>0.831442</td>\n",
       "      <td>0.831772</td>\n",
       "      <td>0.834234</td>\n",
       "      <td>0.839614</td>\n",
       "      <td>0.846505</td>\n",
       "      <td>0.854410</td>\n",
       "      <td>0.863547</td>\n",
       "      <td>0.873226</td>\n",
       "      <td>0.882908</td>\n",
       "      <td>0.893759</td>\n",
       "      <td>0.904679</td>\n",
       "      <td>0.915649</td>\n",
       "      <td>0.925908</td>\n",
       "      <td>0.935507</td>\n",
       "      <td>0.945030</td>\n",
       "      <td>0.953841</td>\n",
       "      <td>0.962131</td>\n",
       "      <td>0.969919</td>\n",
       "      <td>0.978228</td>\n",
       "      <td>0.986707</td>\n",
       "    </tr>\n",
       "    <tr>\n",
       "      <th>KNN</th>\n",
       "      <td>0.821448</td>\n",
       "      <td>0.821559</td>\n",
       "      <td>0.825217</td>\n",
       "      <td>0.833360</td>\n",
       "      <td>0.843630</td>\n",
       "      <td>0.856655</td>\n",
       "      <td>0.868481</td>\n",
       "      <td>0.881031</td>\n",
       "      <td>0.894353</td>\n",
       "      <td>0.906684</td>\n",
       "      <td>0.919062</td>\n",
       "      <td>0.930628</td>\n",
       "      <td>0.942384</td>\n",
       "      <td>0.952483</td>\n",
       "      <td>0.961545</td>\n",
       "      <td>0.969122</td>\n",
       "      <td>0.975746</td>\n",
       "      <td>0.980968</td>\n",
       "      <td>0.987206</td>\n",
       "      <td>0.991919</td>\n",
       "    </tr>\n",
       "    <tr>\n",
       "      <th>EMD</th>\n",
       "      <td>0.823901</td>\n",
       "      <td>0.823976</td>\n",
       "      <td>0.827845</td>\n",
       "      <td>0.836306</td>\n",
       "      <td>0.847205</td>\n",
       "      <td>0.858682</td>\n",
       "      <td>0.871195</td>\n",
       "      <td>0.883656</td>\n",
       "      <td>0.895869</td>\n",
       "      <td>0.908023</td>\n",
       "      <td>0.921260</td>\n",
       "      <td>0.934005</td>\n",
       "      <td>0.945312</td>\n",
       "      <td>0.954274</td>\n",
       "      <td>0.961638</td>\n",
       "      <td>0.969449</td>\n",
       "      <td>0.976223</td>\n",
       "      <td>0.981759</td>\n",
       "      <td>0.987267</td>\n",
       "      <td>0.991824</td>\n",
       "    </tr>\n",
       "    <tr>\n",
       "      <th>CHM</th>\n",
       "      <td>0.820502</td>\n",
       "      <td>0.820558</td>\n",
       "      <td>0.823378</td>\n",
       "      <td>0.830329</td>\n",
       "      <td>0.839564</td>\n",
       "      <td>0.850043</td>\n",
       "      <td>0.861659</td>\n",
       "      <td>0.874038</td>\n",
       "      <td>0.886519</td>\n",
       "      <td>0.899047</td>\n",
       "      <td>0.912743</td>\n",
       "      <td>0.926070</td>\n",
       "      <td>0.937167</td>\n",
       "      <td>0.947746</td>\n",
       "      <td>0.956517</td>\n",
       "      <td>0.963410</td>\n",
       "      <td>0.971250</td>\n",
       "      <td>0.977706</td>\n",
       "      <td>0.984702</td>\n",
       "      <td>0.989741</td>\n",
       "    </tr>\n",
       "  </tbody>\n",
       "</table>\n",
       "</div>"
      ],
      "text/plain": [
       "            0.00      0.05      0.10      0.15      0.20      0.25      0.30  \\\n",
       "ResNet  0.831442  0.831772  0.834234  0.839614  0.846505  0.854410  0.863547   \n",
       "KNN     0.821448  0.821559  0.825217  0.833360  0.843630  0.856655  0.868481   \n",
       "EMD     0.823901  0.823976  0.827845  0.836306  0.847205  0.858682  0.871195   \n",
       "CHM     0.820502  0.820558  0.823378  0.830329  0.839564  0.850043  0.861659   \n",
       "\n",
       "            0.35      0.40      0.45      0.50      0.55      0.60      0.65  \\\n",
       "ResNet  0.873226  0.882908  0.893759  0.904679  0.915649  0.925908  0.935507   \n",
       "KNN     0.881031  0.894353  0.906684  0.919062  0.930628  0.942384  0.952483   \n",
       "EMD     0.883656  0.895869  0.908023  0.921260  0.934005  0.945312  0.954274   \n",
       "CHM     0.874038  0.886519  0.899047  0.912743  0.926070  0.937167  0.947746   \n",
       "\n",
       "            0.70      0.75      0.80      0.85      0.90      0.95  \n",
       "ResNet  0.945030  0.953841  0.962131  0.969919  0.978228  0.986707  \n",
       "KNN     0.961545  0.969122  0.975746  0.980968  0.987206  0.991919  \n",
       "EMD     0.961638  0.969449  0.976223  0.981759  0.987267  0.991824  \n",
       "CHM     0.956517  0.963410  0.971250  0.977706  0.984702  0.989741  "
      ]
     },
     "execution_count": 9,
     "metadata": {},
     "output_type": "execute_result"
    }
   ],
   "source": [
    "df = pd.DataFrame(TAnalysis).T\n",
    "df.head()"
   ]
  },
  {
   "cell_type": "markdown",
   "id": "15794ea0-f81d-48db-b0db-d76faa02b1ac",
   "metadata": {
    "pycharm": {
     "name": "#%% md\n"
    }
   },
   "source": [
    "## Number of Images "
   ]
  },
  {
   "cell_type": "code",
   "execution_count": 10,
   "id": "3cbfef6c-9cda-425a-8db0-0b29c9dd220e",
   "metadata": {
    "pycharm": {
     "name": "#%%\n"
    }
   },
   "outputs": [
    {
     "data": {
      "text/html": [
       "<div>\n",
       "<style scoped>\n",
       "    .dataframe tbody tr th:only-of-type {\n",
       "        vertical-align: middle;\n",
       "    }\n",
       "\n",
       "    .dataframe tbody tr th {\n",
       "        vertical-align: top;\n",
       "    }\n",
       "\n",
       "    .dataframe thead th {\n",
       "        text-align: right;\n",
       "    }\n",
       "</style>\n",
       "<table border=\"1\" class=\"dataframe\">\n",
       "  <thead>\n",
       "    <tr style=\"text-align: right;\">\n",
       "      <th></th>\n",
       "      <th>0.00</th>\n",
       "      <th>0.05</th>\n",
       "      <th>0.10</th>\n",
       "      <th>0.15</th>\n",
       "      <th>0.20</th>\n",
       "      <th>0.25</th>\n",
       "      <th>0.30</th>\n",
       "      <th>0.35</th>\n",
       "      <th>0.40</th>\n",
       "      <th>0.45</th>\n",
       "      <th>0.50</th>\n",
       "      <th>0.55</th>\n",
       "      <th>0.60</th>\n",
       "      <th>0.65</th>\n",
       "      <th>0.70</th>\n",
       "      <th>0.75</th>\n",
       "      <th>0.80</th>\n",
       "      <th>0.85</th>\n",
       "      <th>0.90</th>\n",
       "      <th>0.95</th>\n",
       "    </tr>\n",
       "  </thead>\n",
       "  <tbody>\n",
       "    <tr>\n",
       "      <th>ResNet</th>\n",
       "      <td>44424</td>\n",
       "      <td>44404</td>\n",
       "      <td>44243</td>\n",
       "      <td>43863</td>\n",
       "      <td>43350</td>\n",
       "      <td>42709</td>\n",
       "      <td>41934</td>\n",
       "      <td>41081</td>\n",
       "      <td>40165</td>\n",
       "      <td>39081</td>\n",
       "      <td>37851</td>\n",
       "      <td>36455</td>\n",
       "      <td>35078</td>\n",
       "      <td>33740</td>\n",
       "      <td>32363</td>\n",
       "      <td>30893</td>\n",
       "      <td>29338</td>\n",
       "      <td>27492</td>\n",
       "      <td>25032</td>\n",
       "      <td>21064</td>\n",
       "    </tr>\n",
       "    <tr>\n",
       "      <th>KNN</th>\n",
       "      <td>44424</td>\n",
       "      <td>44418</td>\n",
       "      <td>44192</td>\n",
       "      <td>43651</td>\n",
       "      <td>42879</td>\n",
       "      <td>41857</td>\n",
       "      <td>40823</td>\n",
       "      <td>39649</td>\n",
       "      <td>38354</td>\n",
       "      <td>36982</td>\n",
       "      <td>35422</td>\n",
       "      <td>33760</td>\n",
       "      <td>32213</td>\n",
       "      <td>30684</td>\n",
       "      <td>29073</td>\n",
       "      <td>27463</td>\n",
       "      <td>25687</td>\n",
       "      <td>23697</td>\n",
       "      <td>20948</td>\n",
       "      <td>16334</td>\n",
       "    </tr>\n",
       "    <tr>\n",
       "      <th>EMD</th>\n",
       "      <td>44424</td>\n",
       "      <td>44420</td>\n",
       "      <td>44181</td>\n",
       "      <td>43618</td>\n",
       "      <td>42809</td>\n",
       "      <td>41863</td>\n",
       "      <td>40806</td>\n",
       "      <td>39598</td>\n",
       "      <td>38317</td>\n",
       "      <td>36955</td>\n",
       "      <td>35344</td>\n",
       "      <td>33654</td>\n",
       "      <td>32036</td>\n",
       "      <td>30464</td>\n",
       "      <td>28883</td>\n",
       "      <td>27233</td>\n",
       "      <td>25361</td>\n",
       "      <td>23244</td>\n",
       "      <td>20341</td>\n",
       "      <td>15655</td>\n",
       "    </tr>\n",
       "    <tr>\n",
       "      <th>CHM</th>\n",
       "      <td>44424</td>\n",
       "      <td>44421</td>\n",
       "      <td>44247</td>\n",
       "      <td>43773</td>\n",
       "      <td>43070</td>\n",
       "      <td>42232</td>\n",
       "      <td>41253</td>\n",
       "      <td>40139</td>\n",
       "      <td>38914</td>\n",
       "      <td>37562</td>\n",
       "      <td>35917</td>\n",
       "      <td>34235</td>\n",
       "      <td>32642</td>\n",
       "      <td>31079</td>\n",
       "      <td>29575</td>\n",
       "      <td>27986</td>\n",
       "      <td>26226</td>\n",
       "      <td>24132</td>\n",
       "      <td>21375</td>\n",
       "      <td>16864</td>\n",
       "    </tr>\n",
       "  </tbody>\n",
       "</table>\n",
       "</div>"
      ],
      "text/plain": [
       "         0.00   0.05   0.10   0.15   0.20   0.25   0.30   0.35   0.40   0.45  \\\n",
       "ResNet  44424  44404  44243  43863  43350  42709  41934  41081  40165  39081   \n",
       "KNN     44424  44418  44192  43651  42879  41857  40823  39649  38354  36982   \n",
       "EMD     44424  44420  44181  43618  42809  41863  40806  39598  38317  36955   \n",
       "CHM     44424  44421  44247  43773  43070  42232  41253  40139  38914  37562   \n",
       "\n",
       "         0.50   0.55   0.60   0.65   0.70   0.75   0.80   0.85   0.90   0.95  \n",
       "ResNet  37851  36455  35078  33740  32363  30893  29338  27492  25032  21064  \n",
       "KNN     35422  33760  32213  30684  29073  27463  25687  23697  20948  16334  \n",
       "EMD     35344  33654  32036  30464  28883  27233  25361  23244  20341  15655  \n",
       "CHM     35917  34235  32642  31079  29575  27986  26226  24132  21375  16864  "
      ]
     },
     "execution_count": 10,
     "metadata": {},
     "output_type": "execute_result"
    }
   ],
   "source": [
    "# Number of Images \n",
    "df2 = pd.DataFrame(TCount).T\n",
    "df2.head()"
   ]
  },
  {
   "cell_type": "markdown",
   "id": "e4304509-f35f-4e2e-a161-1c50bd9f80d7",
   "metadata": {
    "pycharm": {
     "name": "#%% md\n"
    },
    "tags": []
   },
   "source": [
    "## Ratios (out of 44424 Images)"
   ]
  },
  {
   "cell_type": "code",
   "execution_count": 11,
   "id": "890887ca-a553-4e44-8a15-477b78c9f596",
   "metadata": {
    "pycharm": {
     "name": "#%%\n"
    }
   },
   "outputs": [
    {
     "data": {
      "text/html": [
       "<div>\n",
       "<style scoped>\n",
       "    .dataframe tbody tr th:only-of-type {\n",
       "        vertical-align: middle;\n",
       "    }\n",
       "\n",
       "    .dataframe tbody tr th {\n",
       "        vertical-align: top;\n",
       "    }\n",
       "\n",
       "    .dataframe thead th {\n",
       "        text-align: right;\n",
       "    }\n",
       "</style>\n",
       "<table border=\"1\" class=\"dataframe\">\n",
       "  <thead>\n",
       "    <tr style=\"text-align: right;\">\n",
       "      <th></th>\n",
       "      <th>0.00</th>\n",
       "      <th>0.05</th>\n",
       "      <th>0.10</th>\n",
       "      <th>0.15</th>\n",
       "      <th>0.20</th>\n",
       "      <th>0.25</th>\n",
       "      <th>0.30</th>\n",
       "      <th>0.35</th>\n",
       "      <th>0.40</th>\n",
       "      <th>0.45</th>\n",
       "      <th>0.50</th>\n",
       "      <th>0.55</th>\n",
       "      <th>0.60</th>\n",
       "      <th>0.65</th>\n",
       "      <th>0.70</th>\n",
       "      <th>0.75</th>\n",
       "      <th>0.80</th>\n",
       "      <th>0.85</th>\n",
       "      <th>0.90</th>\n",
       "      <th>0.95</th>\n",
       "    </tr>\n",
       "  </thead>\n",
       "  <tbody>\n",
       "    <tr>\n",
       "      <th>ResNet</th>\n",
       "      <td>1.0</td>\n",
       "      <td>0.999550</td>\n",
       "      <td>0.995926</td>\n",
       "      <td>0.987372</td>\n",
       "      <td>0.975824</td>\n",
       "      <td>0.961395</td>\n",
       "      <td>0.943949</td>\n",
       "      <td>0.924748</td>\n",
       "      <td>0.904128</td>\n",
       "      <td>0.879727</td>\n",
       "      <td>0.852039</td>\n",
       "      <td>0.820615</td>\n",
       "      <td>0.789618</td>\n",
       "      <td>0.759499</td>\n",
       "      <td>0.728503</td>\n",
       "      <td>0.695412</td>\n",
       "      <td>0.660409</td>\n",
       "      <td>0.618855</td>\n",
       "      <td>0.563479</td>\n",
       "      <td>0.474158</td>\n",
       "    </tr>\n",
       "    <tr>\n",
       "      <th>KNN</th>\n",
       "      <td>1.0</td>\n",
       "      <td>0.999865</td>\n",
       "      <td>0.994778</td>\n",
       "      <td>0.982599</td>\n",
       "      <td>0.965222</td>\n",
       "      <td>0.942216</td>\n",
       "      <td>0.918940</td>\n",
       "      <td>0.892513</td>\n",
       "      <td>0.863362</td>\n",
       "      <td>0.832478</td>\n",
       "      <td>0.797362</td>\n",
       "      <td>0.759950</td>\n",
       "      <td>0.725126</td>\n",
       "      <td>0.690708</td>\n",
       "      <td>0.654444</td>\n",
       "      <td>0.618202</td>\n",
       "      <td>0.578223</td>\n",
       "      <td>0.533428</td>\n",
       "      <td>0.471547</td>\n",
       "      <td>0.367684</td>\n",
       "    </tr>\n",
       "    <tr>\n",
       "      <th>EMD</th>\n",
       "      <td>1.0</td>\n",
       "      <td>0.999910</td>\n",
       "      <td>0.994530</td>\n",
       "      <td>0.981857</td>\n",
       "      <td>0.963646</td>\n",
       "      <td>0.942351</td>\n",
       "      <td>0.918558</td>\n",
       "      <td>0.891365</td>\n",
       "      <td>0.862529</td>\n",
       "      <td>0.831870</td>\n",
       "      <td>0.795606</td>\n",
       "      <td>0.757563</td>\n",
       "      <td>0.721142</td>\n",
       "      <td>0.685755</td>\n",
       "      <td>0.650167</td>\n",
       "      <td>0.613024</td>\n",
       "      <td>0.570885</td>\n",
       "      <td>0.523231</td>\n",
       "      <td>0.457883</td>\n",
       "      <td>0.352400</td>\n",
       "    </tr>\n",
       "    <tr>\n",
       "      <th>CHM</th>\n",
       "      <td>1.0</td>\n",
       "      <td>0.999932</td>\n",
       "      <td>0.996016</td>\n",
       "      <td>0.985346</td>\n",
       "      <td>0.969521</td>\n",
       "      <td>0.950657</td>\n",
       "      <td>0.928620</td>\n",
       "      <td>0.903543</td>\n",
       "      <td>0.875968</td>\n",
       "      <td>0.845534</td>\n",
       "      <td>0.808504</td>\n",
       "      <td>0.770642</td>\n",
       "      <td>0.734783</td>\n",
       "      <td>0.699599</td>\n",
       "      <td>0.665744</td>\n",
       "      <td>0.629975</td>\n",
       "      <td>0.590357</td>\n",
       "      <td>0.543220</td>\n",
       "      <td>0.481159</td>\n",
       "      <td>0.379615</td>\n",
       "    </tr>\n",
       "  </tbody>\n",
       "</table>\n",
       "</div>"
      ],
      "text/plain": [
       "        0.00      0.05      0.10      0.15      0.20      0.25      0.30  \\\n",
       "ResNet   1.0  0.999550  0.995926  0.987372  0.975824  0.961395  0.943949   \n",
       "KNN      1.0  0.999865  0.994778  0.982599  0.965222  0.942216  0.918940   \n",
       "EMD      1.0  0.999910  0.994530  0.981857  0.963646  0.942351  0.918558   \n",
       "CHM      1.0  0.999932  0.996016  0.985346  0.969521  0.950657  0.928620   \n",
       "\n",
       "            0.35      0.40      0.45      0.50      0.55      0.60      0.65  \\\n",
       "ResNet  0.924748  0.904128  0.879727  0.852039  0.820615  0.789618  0.759499   \n",
       "KNN     0.892513  0.863362  0.832478  0.797362  0.759950  0.725126  0.690708   \n",
       "EMD     0.891365  0.862529  0.831870  0.795606  0.757563  0.721142  0.685755   \n",
       "CHM     0.903543  0.875968  0.845534  0.808504  0.770642  0.734783  0.699599   \n",
       "\n",
       "            0.70      0.75      0.80      0.85      0.90      0.95  \n",
       "ResNet  0.728503  0.695412  0.660409  0.618855  0.563479  0.474158  \n",
       "KNN     0.654444  0.618202  0.578223  0.533428  0.471547  0.367684  \n",
       "EMD     0.650167  0.613024  0.570885  0.523231  0.457883  0.352400  \n",
       "CHM     0.665744  0.629975  0.590357  0.543220  0.481159  0.379615  "
      ]
     },
     "execution_count": 11,
     "metadata": {},
     "output_type": "execute_result"
    }
   ],
   "source": [
    "# RATIOs (out of 44424 Images)\n",
    "df3 = pd.DataFrame(TCount).T\n",
    "df3/len(real_gt_real)"
   ]
  },
  {
   "cell_type": "markdown",
   "id": "d739cbdd-daad-463d-9545-507595fd034e",
   "metadata": {
    "pycharm": {
     "name": "#%% md\n"
    }
   },
   "source": [
    "## Human Performance Analysis"
   ]
  },
  {
   "cell_type": "code",
   "execution_count": 12,
   "id": "dec8ddef-6c05-4e9f-8f01-4bcd09ccd14e",
   "metadata": {
    "pycharm": {
     "name": "#%%\n"
    }
   },
   "outputs": [],
   "source": [
    "df = pd.read_csv('../data/ImageNet-Human-Study-Summary.csv')"
   ]
  },
  {
   "cell_type": "markdown",
   "id": "0d5f6b59-63fd-4629-8370-826b0964ea5e",
   "metadata": {
    "pycharm": {
     "name": "#%% md\n"
    }
   },
   "source": [
    "## Removing Bad Users \n",
    "\n",
    "We manually marked two users as **bad** based on their average performance on `1:1` ratio samples\n",
    "\n",
    "1. `6395881` \n",
    "1. `6396044`\n",
    "\n",
    "\n",
    "And after resampling we excluded these `4` users:\n",
    "\n",
    "1. `6386000`\n",
    "1. `6382894`\n",
    "1. `6385998`\n",
    "1. `6382878`"
   ]
  },
  {
   "cell_type": "code",
   "execution_count": 13,
   "id": "23a119b7-4e05-4bac-8d3a-369527d8e34a",
   "metadata": {
    "pycharm": {
     "name": "#%%\n"
    }
   },
   "outputs": [],
   "source": [
    "df = df[~df['UID'].isin([6395881, 6396044] + [6386000, 6382894, 6385998, 6382878] )]"
   ]
  },
  {
   "cell_type": "code",
   "execution_count": 14,
   "id": "11034dee-94ad-41c6-9e3e-76b2c9b60d76",
   "metadata": {
    "pycharm": {
     "name": "#%%\n"
    }
   },
   "outputs": [
    {
     "name": "stdout",
     "output_type": "stream",
     "text": [
      "total 10620 etnries\n"
     ]
    }
   ],
   "source": [
    "print(f\"total {len(df)} entries\")"
   ]
  },
  {
   "cell_type": "code",
   "execution_count": 15,
   "id": "6b89eae4-7f1d-40a1-89cd-007a6dd841e9",
   "metadata": {
    "pycharm": {
     "name": "#%%\n"
    }
   },
   "outputs": [],
   "source": [
    "df_treshold = copy.deepcopy(df[['Method', 'Correctness', 'ConfidenceScore']]) "
   ]
  },
  {
   "cell_type": "markdown",
   "id": "f9943bc1-5b75-46f6-ba60-b1377216ed5b",
   "metadata": {
    "pycharm": {
     "name": "#%% md\n"
    }
   },
   "source": [
    "## Human Performance"
   ]
  },
  {
   "cell_type": "code",
   "execution_count": 16,
   "id": "207439d3-6fd4-4e39-b1c1-bd008db7dd16",
   "metadata": {
    "pycharm": {
     "name": "#%%\n"
    }
   },
   "outputs": [],
   "source": [
    "human_accuracy = {}\n",
    "for T in np.arange(0., 1.05, 0.05):\n",
    "  human_accuracy[f'{T:0.2f}'] = df_treshold[df_treshold['ConfidenceScore']<T].groupby('Method')['Correctness'].mean()"
   ]
  },
  {
   "cell_type": "code",
   "execution_count": 17,
   "id": "da3224fe-12b8-4d50-acde-ec89474316c5",
   "metadata": {
    "pycharm": {
     "name": "#%%\n"
    }
   },
   "outputs": [
    {
     "data": {
      "text/html": [
       "<div>\n",
       "<style scoped>\n",
       "    .dataframe tbody tr th:only-of-type {\n",
       "        vertical-align: middle;\n",
       "    }\n",
       "\n",
       "    .dataframe tbody tr th {\n",
       "        vertical-align: top;\n",
       "    }\n",
       "\n",
       "    .dataframe thead th {\n",
       "        text-align: right;\n",
       "    }\n",
       "</style>\n",
       "<table border=\"1\" class=\"dataframe\">\n",
       "  <thead>\n",
       "    <tr style=\"text-align: right;\">\n",
       "      <th></th>\n",
       "      <th>Method</th>\n",
       "      <th>0.00</th>\n",
       "      <th>0.05</th>\n",
       "      <th>0.10</th>\n",
       "      <th>0.15</th>\n",
       "      <th>0.20</th>\n",
       "      <th>0.25</th>\n",
       "      <th>0.30</th>\n",
       "      <th>0.35</th>\n",
       "      <th>0.40</th>\n",
       "      <th>0.45</th>\n",
       "      <th>0.50</th>\n",
       "      <th>0.55</th>\n",
       "      <th>0.60</th>\n",
       "      <th>0.65</th>\n",
       "      <th>0.70</th>\n",
       "      <th>0.75</th>\n",
       "      <th>0.80</th>\n",
       "      <th>0.85</th>\n",
       "      <th>0.90</th>\n",
       "      <th>0.95</th>\n",
       "      <th>1.00</th>\n",
       "    </tr>\n",
       "  </thead>\n",
       "  <tbody>\n",
       "    <tr>\n",
       "      <th>1</th>\n",
       "      <td>ResNet-50</td>\n",
       "      <td>NaN</td>\n",
       "      <td>1.0</td>\n",
       "      <td>1.0</td>\n",
       "      <td>0.890909</td>\n",
       "      <td>0.859813</td>\n",
       "      <td>0.898204</td>\n",
       "      <td>0.924107</td>\n",
       "      <td>0.891374</td>\n",
       "      <td>0.867347</td>\n",
       "      <td>0.846154</td>\n",
       "      <td>0.837937</td>\n",
       "      <td>0.815166</td>\n",
       "      <td>0.807956</td>\n",
       "      <td>0.805000</td>\n",
       "      <td>0.778286</td>\n",
       "      <td>0.760593</td>\n",
       "      <td>0.761044</td>\n",
       "      <td>0.756530</td>\n",
       "      <td>0.756332</td>\n",
       "      <td>0.760836</td>\n",
       "      <td>0.815248</td>\n",
       "    </tr>\n",
       "    <tr>\n",
       "      <th>0</th>\n",
       "      <td>kNN</td>\n",
       "      <td>NaN</td>\n",
       "      <td>NaN</td>\n",
       "      <td>1.0</td>\n",
       "      <td>0.971429</td>\n",
       "      <td>0.971429</td>\n",
       "      <td>0.902256</td>\n",
       "      <td>0.800643</td>\n",
       "      <td>0.778626</td>\n",
       "      <td>0.778626</td>\n",
       "      <td>0.734021</td>\n",
       "      <td>0.707826</td>\n",
       "      <td>0.679939</td>\n",
       "      <td>0.678705</td>\n",
       "      <td>0.678705</td>\n",
       "      <td>0.674317</td>\n",
       "      <td>0.674317</td>\n",
       "      <td>0.665000</td>\n",
       "      <td>0.669251</td>\n",
       "      <td>0.669251</td>\n",
       "      <td>0.704176</td>\n",
       "      <td>0.704176</td>\n",
       "    </tr>\n",
       "    <tr>\n",
       "      <th>2</th>\n",
       "      <td>EMD-NN</td>\n",
       "      <td>NaN</td>\n",
       "      <td>NaN</td>\n",
       "      <td>1.0</td>\n",
       "      <td>0.961039</td>\n",
       "      <td>0.961039</td>\n",
       "      <td>0.952381</td>\n",
       "      <td>0.883636</td>\n",
       "      <td>0.831135</td>\n",
       "      <td>0.831135</td>\n",
       "      <td>0.814898</td>\n",
       "      <td>0.774545</td>\n",
       "      <td>0.735878</td>\n",
       "      <td>0.704057</td>\n",
       "      <td>0.704057</td>\n",
       "      <td>0.686808</td>\n",
       "      <td>0.686808</td>\n",
       "      <td>0.684564</td>\n",
       "      <td>0.696970</td>\n",
       "      <td>0.696970</td>\n",
       "      <td>0.731529</td>\n",
       "      <td>0.731529</td>\n",
       "    </tr>\n",
       "    <tr>\n",
       "      <th>3</th>\n",
       "      <td>EMD-Corr</td>\n",
       "      <td>NaN</td>\n",
       "      <td>NaN</td>\n",
       "      <td>1.0</td>\n",
       "      <td>0.952941</td>\n",
       "      <td>0.952941</td>\n",
       "      <td>0.955696</td>\n",
       "      <td>0.892734</td>\n",
       "      <td>0.851948</td>\n",
       "      <td>0.851948</td>\n",
       "      <td>0.825893</td>\n",
       "      <td>0.791667</td>\n",
       "      <td>0.746667</td>\n",
       "      <td>0.724018</td>\n",
       "      <td>0.724018</td>\n",
       "      <td>0.704390</td>\n",
       "      <td>0.704390</td>\n",
       "      <td>0.707136</td>\n",
       "      <td>0.717410</td>\n",
       "      <td>0.717410</td>\n",
       "      <td>0.746269</td>\n",
       "      <td>0.746269</td>\n",
       "    </tr>\n",
       "    <tr>\n",
       "      <th>4</th>\n",
       "      <td>CHM-NN</td>\n",
       "      <td>NaN</td>\n",
       "      <td>NaN</td>\n",
       "      <td>NaN</td>\n",
       "      <td>0.947368</td>\n",
       "      <td>0.947368</td>\n",
       "      <td>0.889655</td>\n",
       "      <td>0.813725</td>\n",
       "      <td>0.805774</td>\n",
       "      <td>0.805774</td>\n",
       "      <td>0.792208</td>\n",
       "      <td>0.778810</td>\n",
       "      <td>0.737170</td>\n",
       "      <td>0.694830</td>\n",
       "      <td>0.694830</td>\n",
       "      <td>0.689873</td>\n",
       "      <td>0.689873</td>\n",
       "      <td>0.692308</td>\n",
       "      <td>0.687943</td>\n",
       "      <td>0.687943</td>\n",
       "      <td>0.714922</td>\n",
       "      <td>0.714922</td>\n",
       "    </tr>\n",
       "    <tr>\n",
       "      <th>5</th>\n",
       "      <td>CHM-Corr</td>\n",
       "      <td>NaN</td>\n",
       "      <td>NaN</td>\n",
       "      <td>NaN</td>\n",
       "      <td>0.918919</td>\n",
       "      <td>0.918919</td>\n",
       "      <td>0.869863</td>\n",
       "      <td>0.819048</td>\n",
       "      <td>0.783505</td>\n",
       "      <td>0.783505</td>\n",
       "      <td>0.773913</td>\n",
       "      <td>0.768519</td>\n",
       "      <td>0.733542</td>\n",
       "      <td>0.703046</td>\n",
       "      <td>0.703046</td>\n",
       "      <td>0.702128</td>\n",
       "      <td>0.702128</td>\n",
       "      <td>0.705645</td>\n",
       "      <td>0.693202</td>\n",
       "      <td>0.693202</td>\n",
       "      <td>0.712984</td>\n",
       "      <td>0.712984</td>\n",
       "    </tr>\n",
       "  </tbody>\n",
       "</table>\n",
       "</div>"
      ],
      "text/plain": [
       "      Method  0.00  0.05  0.10      0.15      0.20      0.25      0.30  \\\n",
       "1  ResNet-50   NaN   1.0   1.0  0.890909  0.859813  0.898204  0.924107   \n",
       "0        kNN   NaN   NaN   1.0  0.971429  0.971429  0.902256  0.800643   \n",
       "2     EMD-NN   NaN   NaN   1.0  0.961039  0.961039  0.952381  0.883636   \n",
       "3   EMD-Corr   NaN   NaN   1.0  0.952941  0.952941  0.955696  0.892734   \n",
       "4     CHM-NN   NaN   NaN   NaN  0.947368  0.947368  0.889655  0.813725   \n",
       "5   CHM-Corr   NaN   NaN   NaN  0.918919  0.918919  0.869863  0.819048   \n",
       "\n",
       "       0.35      0.40      0.45      0.50      0.55      0.60      0.65  \\\n",
       "1  0.891374  0.867347  0.846154  0.837937  0.815166  0.807956  0.805000   \n",
       "0  0.778626  0.778626  0.734021  0.707826  0.679939  0.678705  0.678705   \n",
       "2  0.831135  0.831135  0.814898  0.774545  0.735878  0.704057  0.704057   \n",
       "3  0.851948  0.851948  0.825893  0.791667  0.746667  0.724018  0.724018   \n",
       "4  0.805774  0.805774  0.792208  0.778810  0.737170  0.694830  0.694830   \n",
       "5  0.783505  0.783505  0.773913  0.768519  0.733542  0.703046  0.703046   \n",
       "\n",
       "       0.70      0.75      0.80      0.85      0.90      0.95      1.00  \n",
       "1  0.778286  0.760593  0.761044  0.756530  0.756332  0.760836  0.815248  \n",
       "0  0.674317  0.674317  0.665000  0.669251  0.669251  0.704176  0.704176  \n",
       "2  0.686808  0.686808  0.684564  0.696970  0.696970  0.731529  0.731529  \n",
       "3  0.704390  0.704390  0.707136  0.717410  0.717410  0.746269  0.746269  \n",
       "4  0.689873  0.689873  0.692308  0.687943  0.687943  0.714922  0.714922  \n",
       "5  0.702128  0.702128  0.705645  0.693202  0.693202  0.712984  0.712984  "
      ]
     },
     "execution_count": 17,
     "metadata": {},
     "output_type": "execute_result"
    }
   ],
   "source": [
    "pd.DataFrame.from_dict(human_accuracy).loc[::-1].reset_index().sort_values(by='Method', key=lambda x: x.map(ORDER_DICT))"
   ]
  },
  {
   "cell_type": "markdown",
   "id": "ca253f41-e447-4f5c-b40a-b6124e31e7b5",
   "metadata": {
    "pycharm": {
     "name": "#%% md\n"
    }
   },
   "source": [
    "## Number of Samples"
   ]
  },
  {
   "cell_type": "code",
   "execution_count": 18,
   "id": "ad442380-ee28-445f-96e6-64e8ecc2912d",
   "metadata": {
    "pycharm": {
     "name": "#%%\n"
    }
   },
   "outputs": [],
   "source": [
    "human_count = {}\n",
    "for T in np.arange(0., 1.05, 0.05):\n",
    "  human_count[f'{T:0.2f}'] = df_treshold[df_treshold['ConfidenceScore']<T].groupby('Method')['Correctness'].count()"
   ]
  },
  {
   "cell_type": "code",
   "execution_count": 19,
   "id": "e31dd27c-9039-4324-bd0c-bc9fecb30bab",
   "metadata": {
    "pycharm": {
     "name": "#%%\n"
    }
   },
   "outputs": [
    {
     "data": {
      "text/html": [
       "<div>\n",
       "<style scoped>\n",
       "    .dataframe tbody tr th:only-of-type {\n",
       "        vertical-align: middle;\n",
       "    }\n",
       "\n",
       "    .dataframe tbody tr th {\n",
       "        vertical-align: top;\n",
       "    }\n",
       "\n",
       "    .dataframe thead th {\n",
       "        text-align: right;\n",
       "    }\n",
       "</style>\n",
       "<table border=\"1\" class=\"dataframe\">\n",
       "  <thead>\n",
       "    <tr style=\"text-align: right;\">\n",
       "      <th></th>\n",
       "      <th>Method</th>\n",
       "      <th>0.00</th>\n",
       "      <th>0.05</th>\n",
       "      <th>0.10</th>\n",
       "      <th>0.15</th>\n",
       "      <th>0.20</th>\n",
       "      <th>0.25</th>\n",
       "      <th>0.30</th>\n",
       "      <th>0.35</th>\n",
       "      <th>0.40</th>\n",
       "      <th>0.45</th>\n",
       "      <th>0.50</th>\n",
       "      <th>0.55</th>\n",
       "      <th>0.60</th>\n",
       "      <th>0.65</th>\n",
       "      <th>0.70</th>\n",
       "      <th>0.75</th>\n",
       "      <th>0.80</th>\n",
       "      <th>0.85</th>\n",
       "      <th>0.90</th>\n",
       "      <th>0.95</th>\n",
       "      <th>1.00</th>\n",
       "    </tr>\n",
       "  </thead>\n",
       "  <tbody>\n",
       "    <tr>\n",
       "      <th>1</th>\n",
       "      <td>ResNet-50</td>\n",
       "      <td>NaN</td>\n",
       "      <td>3.0</td>\n",
       "      <td>16.0</td>\n",
       "      <td>55</td>\n",
       "      <td>107</td>\n",
       "      <td>167</td>\n",
       "      <td>224</td>\n",
       "      <td>313</td>\n",
       "      <td>392</td>\n",
       "      <td>455</td>\n",
       "      <td>543</td>\n",
       "      <td>633</td>\n",
       "      <td>729</td>\n",
       "      <td>800</td>\n",
       "      <td>875</td>\n",
       "      <td>944</td>\n",
       "      <td>996</td>\n",
       "      <td>1072</td>\n",
       "      <td>1145</td>\n",
       "      <td>1292</td>\n",
       "      <td>1797</td>\n",
       "    </tr>\n",
       "    <tr>\n",
       "      <th>0</th>\n",
       "      <td>kNN</td>\n",
       "      <td>NaN</td>\n",
       "      <td>NaN</td>\n",
       "      <td>3.0</td>\n",
       "      <td>70</td>\n",
       "      <td>70</td>\n",
       "      <td>133</td>\n",
       "      <td>311</td>\n",
       "      <td>393</td>\n",
       "      <td>393</td>\n",
       "      <td>485</td>\n",
       "      <td>575</td>\n",
       "      <td>653</td>\n",
       "      <td>803</td>\n",
       "      <td>803</td>\n",
       "      <td>915</td>\n",
       "      <td>915</td>\n",
       "      <td>1000</td>\n",
       "      <td>1161</td>\n",
       "      <td>1161</td>\n",
       "      <td>1413</td>\n",
       "      <td>1413</td>\n",
       "    </tr>\n",
       "    <tr>\n",
       "      <th>2</th>\n",
       "      <td>EMD-NN</td>\n",
       "      <td>NaN</td>\n",
       "      <td>NaN</td>\n",
       "      <td>2.0</td>\n",
       "      <td>77</td>\n",
       "      <td>77</td>\n",
       "      <td>147</td>\n",
       "      <td>275</td>\n",
       "      <td>379</td>\n",
       "      <td>379</td>\n",
       "      <td>443</td>\n",
       "      <td>550</td>\n",
       "      <td>655</td>\n",
       "      <td>838</td>\n",
       "      <td>838</td>\n",
       "      <td>993</td>\n",
       "      <td>993</td>\n",
       "      <td>1043</td>\n",
       "      <td>1155</td>\n",
       "      <td>1155</td>\n",
       "      <td>1367</td>\n",
       "      <td>1367</td>\n",
       "    </tr>\n",
       "    <tr>\n",
       "      <th>3</th>\n",
       "      <td>EMD-Corr</td>\n",
       "      <td>NaN</td>\n",
       "      <td>NaN</td>\n",
       "      <td>3.0</td>\n",
       "      <td>85</td>\n",
       "      <td>85</td>\n",
       "      <td>158</td>\n",
       "      <td>289</td>\n",
       "      <td>385</td>\n",
       "      <td>385</td>\n",
       "      <td>448</td>\n",
       "      <td>576</td>\n",
       "      <td>675</td>\n",
       "      <td>866</td>\n",
       "      <td>866</td>\n",
       "      <td>1025</td>\n",
       "      <td>1025</td>\n",
       "      <td>1079</td>\n",
       "      <td>1189</td>\n",
       "      <td>1189</td>\n",
       "      <td>1407</td>\n",
       "      <td>1407</td>\n",
       "    </tr>\n",
       "    <tr>\n",
       "      <th>4</th>\n",
       "      <td>CHM-NN</td>\n",
       "      <td>NaN</td>\n",
       "      <td>NaN</td>\n",
       "      <td>NaN</td>\n",
       "      <td>76</td>\n",
       "      <td>76</td>\n",
       "      <td>145</td>\n",
       "      <td>306</td>\n",
       "      <td>381</td>\n",
       "      <td>381</td>\n",
       "      <td>462</td>\n",
       "      <td>538</td>\n",
       "      <td>643</td>\n",
       "      <td>793</td>\n",
       "      <td>793</td>\n",
       "      <td>948</td>\n",
       "      <td>948</td>\n",
       "      <td>1001</td>\n",
       "      <td>1128</td>\n",
       "      <td>1128</td>\n",
       "      <td>1347</td>\n",
       "      <td>1347</td>\n",
       "    </tr>\n",
       "    <tr>\n",
       "      <th>5</th>\n",
       "      <td>CHM-Corr</td>\n",
       "      <td>NaN</td>\n",
       "      <td>NaN</td>\n",
       "      <td>NaN</td>\n",
       "      <td>74</td>\n",
       "      <td>74</td>\n",
       "      <td>146</td>\n",
       "      <td>315</td>\n",
       "      <td>388</td>\n",
       "      <td>388</td>\n",
       "      <td>460</td>\n",
       "      <td>540</td>\n",
       "      <td>638</td>\n",
       "      <td>788</td>\n",
       "      <td>788</td>\n",
       "      <td>940</td>\n",
       "      <td>940</td>\n",
       "      <td>992</td>\n",
       "      <td>1118</td>\n",
       "      <td>1118</td>\n",
       "      <td>1317</td>\n",
       "      <td>1317</td>\n",
       "    </tr>\n",
       "  </tbody>\n",
       "</table>\n",
       "</div>"
      ],
      "text/plain": [
       "      Method  0.00  0.05  0.10  0.15  0.20  0.25  0.30  0.35  0.40  0.45  \\\n",
       "1  ResNet-50   NaN   3.0  16.0    55   107   167   224   313   392   455   \n",
       "0        kNN   NaN   NaN   3.0    70    70   133   311   393   393   485   \n",
       "2     EMD-NN   NaN   NaN   2.0    77    77   147   275   379   379   443   \n",
       "3   EMD-Corr   NaN   NaN   3.0    85    85   158   289   385   385   448   \n",
       "4     CHM-NN   NaN   NaN   NaN    76    76   145   306   381   381   462   \n",
       "5   CHM-Corr   NaN   NaN   NaN    74    74   146   315   388   388   460   \n",
       "\n",
       "   0.50  0.55  0.60  0.65  0.70  0.75  0.80  0.85  0.90  0.95  1.00  \n",
       "1   543   633   729   800   875   944   996  1072  1145  1292  1797  \n",
       "0   575   653   803   803   915   915  1000  1161  1161  1413  1413  \n",
       "2   550   655   838   838   993   993  1043  1155  1155  1367  1367  \n",
       "3   576   675   866   866  1025  1025  1079  1189  1189  1407  1407  \n",
       "4   538   643   793   793   948   948  1001  1128  1128  1347  1347  \n",
       "5   540   638   788   788   940   940   992  1118  1118  1317  1317  "
      ]
     },
     "execution_count": 19,
     "metadata": {},
     "output_type": "execute_result"
    }
   ],
   "source": [
    "pd.DataFrame.from_dict(human_count).loc[::-1].reset_index().sort_values(by='Method', key=lambda x: x.map(ORDER_DICT))"
   ]
  },
  {
   "cell_type": "markdown",
   "id": "2db122d2-120e-4731-94d7-a060122cc54a",
   "metadata": {
    "pycharm": {
     "name": "#%% md\n"
    }
   },
   "source": [
    "# Sample we ask Human"
   ]
  },
  {
   "cell_type": "code",
   "execution_count": 20,
   "id": "b5c2a52e-0391-47e8-9546-43d2f4ae0aaf",
   "metadata": {
    "pycharm": {
     "name": "#%%\n"
    }
   },
   "outputs": [],
   "source": [
    "optimal_T_imagenet = {'ResNet-50':  0.65,\n",
    "                      'kNN':      0.4,\n",
    "                      'EMD-NN':    0.45,\n",
    "                      'EMD-Corr':  0.5,\n",
    "                      'CHM-NN':    0.5,\n",
    "                      'CHM-Corr':  0.5}"
   ]
  },
  {
   "cell_type": "code",
   "execution_count": 21,
   "id": "d9ed3e1d-95d8-4bc9-9ea7-3ca85384b64c",
   "metadata": {
    "pycharm": {
     "name": "#%%\n"
    }
   },
   "outputs": [],
   "source": [
    "df_for_human = df[df['ConfidenceScore'] <optimal_T_imagenet['kNN']]"
   ]
  },
  {
   "cell_type": "code",
   "execution_count": 22,
   "id": "fab0d49a-15e4-4885-a0f3-4099d68e0dc6",
   "metadata": {
    "pycharm": {
     "name": "#%%\n"
    }
   },
   "outputs": [
    {
     "data": {
      "text/html": [
       "<div>\n",
       "<style scoped>\n",
       "    .dataframe tbody tr th:only-of-type {\n",
       "        vertical-align: middle;\n",
       "    }\n",
       "\n",
       "    .dataframe tbody tr th {\n",
       "        vertical-align: top;\n",
       "    }\n",
       "\n",
       "    .dataframe thead th {\n",
       "        text-align: right;\n",
       "    }\n",
       "</style>\n",
       "<table border=\"1\" class=\"dataframe\">\n",
       "  <thead>\n",
       "    <tr style=\"text-align: right;\">\n",
       "      <th></th>\n",
       "      <th>Method</th>\n",
       "      <th>ClassifierCorrectness</th>\n",
       "      <th>UID</th>\n",
       "    </tr>\n",
       "  </thead>\n",
       "  <tbody>\n",
       "    <tr>\n",
       "      <th>8</th>\n",
       "      <td>ResNet-50</td>\n",
       "      <td>0</td>\n",
       "      <td>358</td>\n",
       "    </tr>\n",
       "    <tr>\n",
       "      <th>9</th>\n",
       "      <td>ResNet-50</td>\n",
       "      <td>1</td>\n",
       "      <td>34</td>\n",
       "    </tr>\n",
       "    <tr>\n",
       "      <th>10</th>\n",
       "      <td>kNN</td>\n",
       "      <td>0</td>\n",
       "      <td>341</td>\n",
       "    </tr>\n",
       "    <tr>\n",
       "      <th>11</th>\n",
       "      <td>kNN</td>\n",
       "      <td>1</td>\n",
       "      <td>52</td>\n",
       "    </tr>\n",
       "    <tr>\n",
       "      <th>6</th>\n",
       "      <td>EMD-NN</td>\n",
       "      <td>0</td>\n",
       "      <td>359</td>\n",
       "    </tr>\n",
       "    <tr>\n",
       "      <th>7</th>\n",
       "      <td>EMD-NN</td>\n",
       "      <td>1</td>\n",
       "      <td>20</td>\n",
       "    </tr>\n",
       "    <tr>\n",
       "      <th>4</th>\n",
       "      <td>EMD-Corr</td>\n",
       "      <td>0</td>\n",
       "      <td>368</td>\n",
       "    </tr>\n",
       "    <tr>\n",
       "      <th>5</th>\n",
       "      <td>EMD-Corr</td>\n",
       "      <td>1</td>\n",
       "      <td>17</td>\n",
       "    </tr>\n",
       "    <tr>\n",
       "      <th>2</th>\n",
       "      <td>CHM-NN</td>\n",
       "      <td>0</td>\n",
       "      <td>346</td>\n",
       "    </tr>\n",
       "    <tr>\n",
       "      <th>3</th>\n",
       "      <td>CHM-NN</td>\n",
       "      <td>1</td>\n",
       "      <td>35</td>\n",
       "    </tr>\n",
       "    <tr>\n",
       "      <th>0</th>\n",
       "      <td>CHM-Corr</td>\n",
       "      <td>0</td>\n",
       "      <td>346</td>\n",
       "    </tr>\n",
       "    <tr>\n",
       "      <th>1</th>\n",
       "      <td>CHM-Corr</td>\n",
       "      <td>1</td>\n",
       "      <td>42</td>\n",
       "    </tr>\n",
       "  </tbody>\n",
       "</table>\n",
       "</div>"
      ],
      "text/plain": [
       "       Method  ClassifierCorrectness  UID\n",
       "8   ResNet-50                      0  358\n",
       "9   ResNet-50                      1   34\n",
       "10        kNN                      0  341\n",
       "11        kNN                      1   52\n",
       "6      EMD-NN                      0  359\n",
       "7      EMD-NN                      1   20\n",
       "4    EMD-Corr                      0  368\n",
       "5    EMD-Corr                      1   17\n",
       "2      CHM-NN                      0  346\n",
       "3      CHM-NN                      1   35\n",
       "0    CHM-Corr                      0  346\n",
       "1    CHM-Corr                      1   42"
      ]
     },
     "execution_count": 22,
     "metadata": {},
     "output_type": "execute_result"
    }
   ],
   "source": [
    "df_for_human.groupby(['Method', 'ClassifierCorrectness'])['UID'].count().reset_index().sort_values(by='Method', key=lambda x: x.map(ORDER_DICT))"
   ]
  },
  {
   "cell_type": "code",
   "execution_count": 23,
   "id": "a17b3924-abe8-44cc-8227-ba48ccd7d3b3",
   "metadata": {
    "pycharm": {
     "name": "#%%\n"
    }
   },
   "outputs": [],
   "source": [
    "dfs = []\n",
    "\n",
    "for k, v in optimal_T_imagenet.items():\n",
    "  new_df = df[(df['ConfidenceScore'] < v) & (df['Method'] ==  k)]\n",
    "  dfs.append(new_df)"
   ]
  },
  {
   "cell_type": "code",
   "execution_count": 24,
   "id": "29dac47f-e9d5-4794-bd15-30585d7a2213",
   "metadata": {
    "pycharm": {
     "name": "#%%\n"
    }
   },
   "outputs": [],
   "source": [
    "df_offloads = pd.concat(dfs, axis=0)"
   ]
  },
  {
   "cell_type": "code",
   "execution_count": 25,
   "id": "9ca29b04-b4da-479f-847c-d47b81460623",
   "metadata": {
    "pycharm": {
     "name": "#%%\n"
    }
   },
   "outputs": [],
   "source": [
    "df_difflevel = df_offloads.groupby(['UID', 'Method', 'DifficultyLevel', 'ClassifierCorrectness'])['Correctness'].agg([\"count\", \"sum\", \"mean\"]).unstack().stack().reset_index().sort_values(by='Method', key=lambda x: x.map(ORDER_DICT))\n",
    "df_difflevel['mean'] = df_difflevel['mean']*100"
   ]
  },
  {
   "cell_type": "code",
   "execution_count": null,
   "id": "c9c9e40c",
   "metadata": {
    "collapsed": false,
    "jupyter": {
     "outputs_hidden": false
    },
    "pycharm": {
     "name": "#%%\n"
    }
   },
   "outputs": [],
   "source": [
    "with sns.plotting_context('paper', font_scale = 1.4):\n",
    "  g = sns.FacetGrid(df_difflevel, col=\"DifficultyLevel\", row=\"ClassifierCorrectness\", height=6, col_order=['Easy', 'Medium', 'Hard'])\n",
    "  g.map(sns.barplot, \"Method\", \"mean\", order=['ResNet-50', 'kNN', 'EMD-NN', 'EMD-Corr', 'CHM-NN', 'CHM-Corr'], palette=\"tab10\", capsize=.1)\n",
    "\n",
    "  [plt.setp(ax.get_xticklabels(), rotation=0) for ax in g.axes.flat]\n",
    "\n",
    "  for ax in g.axes.flat:\n",
    "    for container in ax.containers:\n",
    "      ax.bar_label(container, fontsize=12, fmt='%.2f%%', label_type='center')\n",
    "\n",
    "  plt.ylim(0, 105)\n",
    "  \n",
    "  axes = g.axes.flatten()\n",
    "  for ci, C in enumerate(['Wrong', 'Correct']):\n",
    "    for di, D in enumerate(['Easy', 'Medium', 'Hard']):\n",
    "      axes[(ci*3)+di].set_title(f\"AI:{C} | Difficulty Category:{D}\")\n",
    "\n",
    "  axes[0].set_ylabel('Average human accuracy')\n",
    "  axes[3].set_ylabel('Average human accuracy')\n",
    "\n",
    "  g.fig.subplots_adjust(top=0.9)\n",
    "  g.fig.suptitle('MEAN ACCURACY - ImageNet - Samples offloaded to Human @ Optimal Threshold (for each classifier) \\n\\n')\n",
    "  \n",
    "  plt.show()"
   ]
  },
  {
   "cell_type": "code",
   "execution_count": null,
   "id": "a3026475",
   "metadata": {
    "collapsed": false,
    "jupyter": {
     "outputs_hidden": false
    },
    "pycharm": {
     "name": "#%%\n"
    }
   },
   "outputs": [],
   "source": [
    "df_correctness = df_offloads.groupby(['UID', 'Method', 'ClassifierCorrectness'])['Correctness'].agg([\"count\", \"sum\", \"mean\"]).unstack().stack().reset_index()\n",
    "df_correctness['mean'] *=100"
   ]
  },
  {
   "cell_type": "code",
   "execution_count": null,
   "id": "9dd63d53",
   "metadata": {
    "collapsed": false,
    "jupyter": {
     "outputs_hidden": false
    },
    "pycharm": {
     "name": "#%%\n"
    }
   },
   "outputs": [],
   "source": [
    "with sns.plotting_context('paper', font_scale = 1.4):\n",
    "  g = sns.FacetGrid(df_correctness, col=\"ClassifierCorrectness\", height=6)\n",
    "  g.map(sns.barplot, \"Method\", \"mean\", order=['ResNet-50', 'kNN', 'EMD-NN', 'EMD-Corr', 'CHM-NN', 'CHM-Corr'], palette=\"tab10\", capsize=.1)\n",
    "  \n",
    "  [plt.setp(ax.get_xticklabels(), rotation=0) for ax in g.axes.flat]\n",
    "\n",
    "  for ax in g.axes.flat:\n",
    "    for container in ax.containers:\n",
    "      ax.bar_label(container, fontsize=12, label_type='center', fmt='%.2f%%')\n",
    "\n",
    "  axes = g.axes.flatten()\n",
    "  axes[0].set_ylabel('Average human Accuracy')\n",
    "  g.fig.subplots_adjust(top=0.9)\n",
    "  g.fig.suptitle('MEAN ACCURACY - ImageNet - Samples offloaded to Human @ Optimal Threshold (for each classifier) \\n\\n')\n",
    "  \n",
    "  plt.show()"
   ]
  },
  {
   "cell_type": "code",
   "execution_count": null,
   "id": "965c8ffd",
   "metadata": {
    "collapsed": false,
    "jupyter": {
     "outputs_hidden": false
    },
    "pycharm": {
     "name": "#%%\n"
    }
   },
   "outputs": [],
   "source": [
    "df_correctness_count = df_offloads.groupby(['Method', 'ClassifierCorrectness'])['UID'].count().reset_index()"
   ]
  },
  {
   "cell_type": "code",
   "execution_count": null,
   "id": "242736a7",
   "metadata": {
    "collapsed": false,
    "jupyter": {
     "outputs_hidden": false
    },
    "pycharm": {
     "name": "#%%\n"
    }
   },
   "outputs": [],
   "source": [
    "with sns.plotting_context('paper', font_scale = 1.4):\n",
    "  g = sns.FacetGrid(df_correctness_count, col=\"ClassifierCorrectness\", height=6)\n",
    "  g.map(sns.barplot, \"Method\", \"UID\", order=['ResNet-50', 'kNN', 'EMD-NN', 'EMD-Corr', 'CHM-NN', 'CHM-Corr'], palette=\"tab10\", capsize=.1)\n",
    "  \n",
    "  [plt.setp(ax.get_xticklabels(), rotation=0) for ax in g.axes.flat]\n",
    "\n",
    "  for ax in g.axes.flat:\n",
    "    for container in ax.containers:\n",
    "      ax.bar_label(container, fontsize=12, label_type='center')\n",
    "\n",
    "  axes = g.axes.flatten()\n",
    "  axes[0].set_ylabel('Average human Accuracy')\n",
    "  \n",
    "  g.fig.subplots_adjust(top=0.9)\n",
    "  g.fig.suptitle('# sample - ImageNet - Samples offloaded to Human @ Optimal Threshold (for each classifier) \\n\\n')\n",
    "  \n",
    "  plt.show()"
   ]
  }
 ],
 "metadata": {
  "kernelspec": {
   "display_name": "Python 3 (ipykernel)",
   "language": "python",
   "name": "python3"
  },
  "language_info": {
   "codemirror_mode": {
    "name": "ipython",
    "version": 3
   },
   "file_extension": ".py",
   "mimetype": "text/x-python",
   "name": "python",
   "nbconvert_exporter": "python",
   "pygments_lexer": "ipython3",
   "version": "3.10.4"
  }
 },
 "nbformat": 4,
 "nbformat_minor": 5
}