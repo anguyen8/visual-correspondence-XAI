{
 "cells": [
  {
   "cell_type": "markdown",
   "id": "1e96809b-1499-4871-ab45-24102186e1c7",
   "metadata": {
    "pycharm": {
     "name": "#%% md\n"
    }
   },
   "source": [
    "# AI Threshold Analysis \n",
    "\n",
    "1. ImageNet \n",
    "2. CUB"
   ]
  },
  {
   "cell_type": "code",
   "execution_count": 1,
   "id": "a793c559-4c39-449d-97bd-9603e6d3edcc",
   "metadata": {
    "pycharm": {
     "name": "#%%\n"
    }
   },
   "outputs": [],
   "source": [
    "import numpy as np\n",
    "import pandas as pd\n",
    "from tqdm import tqdm\n",
    "import pickle\n",
    "import random"
   ]
  },
  {
   "cell_type": "markdown",
   "id": "b74f38f6-1c81-4044-9dfa-a193a74ed137",
   "metadata": {
    "pycharm": {
     "name": "#%% md\n"
    }
   },
   "source": [
    "# ImageNet\n",
    "##  Load summary fo AI Performance"
   ]
  },
  {
   "cell_type": "code",
   "execution_count": 2,
   "id": "95ad66e3-a375-45f1-860b-9410707051e4",
   "metadata": {
    "pycharm": {
     "name": "#%%\n"
    }
   },
   "outputs": [],
   "source": [
    "random.seed(42)\n",
    "\n",
    "with open('../data/Classification-Summary-ImageNet.pickle', 'rb') as f:\n",
    "  classification_summary = pickle.load(f)"
   ]
  },
  {
   "cell_type": "code",
   "execution_count": 3,
   "id": "df637283-913b-4412-8ab8-cc063854ac02",
   "metadata": {
    "pycharm": {
     "name": "#%%\n"
    }
   },
   "outputs": [
    {
     "data": {
      "text/plain": [
       "dict_keys(['all_gts', 'resnet_wnid', 'knn_wnid', 'emd_wnid', 'chm_wnid', 'resnet_conf', 'knn_conf', 'emd_conf', 'chm_conf', 'resnet_wnid_real', 'knn_wnid_real', 'emd_wnid_real', 'chm_wnid_real', 'resnet_real_conf', 'knn__real_conf', 'emd__real_conf', 'chm__real_conf'])"
      ]
     },
     "execution_count": 3,
     "metadata": {},
     "output_type": "execute_result"
    }
   ],
   "source": [
    "classification_summary.keys()"
   ]
  },
  {
   "cell_type": "markdown",
   "id": "e4f33b9f-119a-4951-90e3-94e11e534f3a",
   "metadata": {
    "pycharm": {
     "name": "#%% md\n"
    }
   },
   "source": [
    "### Unpacking"
   ]
  },
  {
   "cell_type": "code",
   "execution_count": 4,
   "id": "2c900124-6b30-4415-b441-06b29250967b",
   "metadata": {
    "pycharm": {
     "name": "#%%\n"
    }
   },
   "outputs": [],
   "source": [
    "real_gt_real = classification_summary['all_gts']\n",
    "\n",
    "resnet_wnid_real = classification_summary['resnet_wnid_real']\n",
    "knn_wnid_real    = classification_summary['knn_wnid_real']   \n",
    "emd_wnid_real    = classification_summary['emd_wnid_real']   \n",
    "chm_wnid_real    = classification_summary['chm_wnid_real']   \n",
    "\n",
    "IsM1Correct_real = classification_summary['resnet_wnid_real'] \n",
    "IsM2Correct_real = classification_summary['knn_wnid_real']    \n",
    "IsM3Correct_real = classification_summary['emd_wnid_real']    \n",
    "IsM4Correct_real = classification_summary['chm_wnid_real']    \n",
    "\n",
    "M1Conf_real = classification_summary['resnet_real_conf']  \n",
    "M2Conf_real = classification_summary['knn__real_conf']    \n",
    "M3Conf_real = classification_summary['emd__real_conf']    \n",
    "M4Conf_real = classification_summary['chm__real_conf']    "
   ]
  },
  {
   "cell_type": "code",
   "execution_count": null,
   "outputs": [],
   "source": [
    "MethodName = ['ResNet', 'KNN', 'EMD', 'CHM']\n",
    "Methods    = [IsM1Correct_real,IsM2Correct_real,IsM3Correct_real,IsM4Correct_real]\n",
    "Confs      = [M1Conf_real,M2Conf_real,M3Conf_real,M4Conf_real]\n",
    "\n",
    "TAnalysis = {}\n",
    "\n",
    "for N, M, C in zip(MethodName, Methods, Confs):\n",
    "  TAnalysis[N] = {}\n",
    "  for T in tqdm(np.arange(0., 1.05, 0.05)):\n",
    "    TAnalysis[N][round(T, 2)] = np.average([x[0] == (x[1]>T) for x in zip(M, C)])"
   ],
   "metadata": {
    "collapsed": false,
    "pycharm": {
     "name": "#%%\n"
    }
   }
  },
  {
   "cell_type": "code",
   "execution_count": 6,
   "id": "786fd0cd-d164-4222-9f23-60f55d49cacd",
   "metadata": {
    "pycharm": {
     "name": "#%%\n"
    }
   },
   "outputs": [],
   "source": [
    "def split_data_44(a, b):\n",
    "  zipped = list(zip(a, b))\n",
    "  random.shuffle(zipped)\n",
    "  ra, rb = zip(*zipped)\n",
    "  return ra[:2000], rb[:2000],  ra[2000:], rb[2000:]"
   ]
  },
  {
   "cell_type": "code",
   "execution_count": 7,
   "id": "99a35cb3-2156-49f3-a59b-13377d73c0b6",
   "metadata": {
    "pycharm": {
     "name": "#%%\n"
    }
   },
   "outputs": [
    {
     "name": "stderr",
     "output_type": "stream",
     "text": [
      "100%|██████████| 21/21 [00:00<00:00, 509.23it/s]\n",
      "100%|██████████| 21/21 [00:00<00:00, 517.16it/s]\n",
      "100%|██████████| 21/21 [00:00<00:00, 513.05it/s]\n",
      "100%|██████████| 21/21 [00:00<00:00, 508.07it/s]\n"
     ]
    }
   ],
   "source": [
    "MethodName = ['ResNet', 'KNN', 'EMD', 'CHM']\n",
    "\n",
    "IsM1Correct_T, M1Conf_T, IsM1Correct_V, M1Conf_V = split_data_44(IsM1Correct_real, M1Conf_real)\n",
    "IsM2Correct_T, M2Conf_T, IsM2Correct_V, M2Conf_V = split_data_44(IsM2Correct_real, M2Conf_real)\n",
    "IsM3Correct_T, M3Conf_T, IsM3Correct_V, M3Conf_V = split_data_44(IsM3Correct_real, M3Conf_real)\n",
    "IsM4Correct_T, M4Conf_T, IsM4Correct_V, M4Conf_V = split_data_44(IsM4Correct_real, M4Conf_real)\n",
    "\n",
    "\n",
    "Methods_T = [IsM1Correct_T, IsM2Correct_T, IsM3Correct_T, IsM4Correct_T]\n",
    "Confs_T   = [M1Conf_T, M2Conf_T, M3Conf_T, M4Conf_T]\n",
    "\n",
    "TAnalysis_T = {}\n",
    "\n",
    "for N, M, C in zip(MethodName, Methods_T, Confs_T):\n",
    "  TAnalysis_T[N] = {}\n",
    "  for T in tqdm(np.arange(0., 1.05, 0.05)):\n",
    "    TAnalysis_T[N][round(T, 2)] = np.average([x[0] == (x[1]>T) for x in zip(M, C)])"
   ]
  },
  {
   "cell_type": "code",
   "execution_count": 8,
   "id": "7e27d715-f1f0-4298-b92c-2f408dbd6ae6",
   "metadata": {
    "pycharm": {
     "name": "#%%\n"
    }
   },
   "outputs": [
    {
     "name": "stderr",
     "output_type": "stream",
     "text": [
      "100%|██████████| 21/21 [00:00<00:00, 24.39it/s]\n",
      "100%|██████████| 21/21 [00:00<00:00, 24.55it/s]\n",
      "100%|██████████| 21/21 [00:00<00:00, 24.42it/s]\n",
      "100%|██████████| 21/21 [00:00<00:00, 24.21it/s]\n"
     ]
    }
   ],
   "source": [
    "Methods_V = [IsM1Correct_V, IsM2Correct_V, IsM3Correct_V, IsM4Correct_V]\n",
    "Confs_V   = [M1Conf_V, M2Conf_V, M3Conf_V, M4Conf_V]\n",
    "\n",
    "TAnalysis_V = {}\n",
    "\n",
    "for N, M, C in zip(MethodName, Methods_V, Confs_V):\n",
    "  TAnalysis_V[N] = {}\n",
    "  for T in tqdm(np.arange(0., 1.05, 0.05)):\n",
    "    TAnalysis_V[N][round(T, 2)] = np.average([x[0] == (x[1]>T) for x in zip(M, C)])"
   ]
  },
  {
   "cell_type": "code",
   "execution_count": 9,
   "id": "a5c1e457-3822-42c2-87f1-b7c6ad75ebc3",
   "metadata": {
    "pycharm": {
     "name": "#%%\n"
    }
   },
   "outputs": [
    {
     "data": {
      "text/html": [
       "<style  type=\"text/css\" >\n",
       "#T_c33a3_row0_col0,#T_c33a3_row0_col13,#T_c33a3_row2_col2{\n",
       "            background-color:  #03446a;\n",
       "            color:  #f1f1f1;\n",
       "        }#T_c33a3_row0_col1{\n",
       "            background-color:  #034369;\n",
       "            color:  #f1f1f1;\n",
       "        }#T_c33a3_row0_col2,#T_c33a3_row1_col3,#T_c33a3_row1_col11,#T_c33a3_row2_col11,#T_c33a3_row3_col3{\n",
       "            background-color:  #034267;\n",
       "            color:  #f1f1f1;\n",
       "        }#T_c33a3_row0_col3,#T_c33a3_row2_col3{\n",
       "            background-color:  #034165;\n",
       "            color:  #f1f1f1;\n",
       "        }#T_c33a3_row0_col4,#T_c33a3_row1_col4{\n",
       "            background-color:  #023e62;\n",
       "            color:  #f1f1f1;\n",
       "        }#T_c33a3_row0_col5,#T_c33a3_row1_col10,#T_c33a3_row3_col5{\n",
       "            background-color:  #023c5f;\n",
       "            color:  #f1f1f1;\n",
       "        }#T_c33a3_row0_col6,#T_c33a3_row2_col5,#T_c33a3_row3_col6{\n",
       "            background-color:  #023a5b;\n",
       "            color:  #f1f1f1;\n",
       "        }#T_c33a3_row0_col7,#T_c33a3_row0_col8,#T_c33a3_row0_col9,#T_c33a3_row1_col7,#T_c33a3_row1_col8,#T_c33a3_row2_col6,#T_c33a3_row2_col7,#T_c33a3_row2_col8,#T_c33a3_row3_col7,#T_c33a3_row3_col8,#T_c33a3_row3_col9{\n",
       "            background-color:  #023858;\n",
       "            color:  #f1f1f1;\n",
       "        }#T_c33a3_row0_col10,#T_c33a3_row1_col6,#T_c33a3_row1_col9,#T_c33a3_row2_col9{\n",
       "            background-color:  #02395a;\n",
       "            color:  #f1f1f1;\n",
       "        }#T_c33a3_row0_col11,#T_c33a3_row1_col5,#T_c33a3_row3_col10{\n",
       "            background-color:  #023b5d;\n",
       "            color:  #f1f1f1;\n",
       "        }#T_c33a3_row0_col12,#T_c33a3_row3_col4,#T_c33a3_row3_col11{\n",
       "            background-color:  #023f64;\n",
       "            color:  #f1f1f1;\n",
       "        }#T_c33a3_row0_col14{\n",
       "            background-color:  #034973;\n",
       "            color:  #f1f1f1;\n",
       "        }#T_c33a3_row0_col15,#T_c33a3_row2_col13{\n",
       "            background-color:  #034f7d;\n",
       "            color:  #f1f1f1;\n",
       "        }#T_c33a3_row0_col16{\n",
       "            background-color:  #04588a;\n",
       "            color:  #f1f1f1;\n",
       "        }#T_c33a3_row0_col17{\n",
       "            background-color:  #046097;\n",
       "            color:  #f1f1f1;\n",
       "        }#T_c33a3_row0_col18{\n",
       "            background-color:  #056ba7;\n",
       "            color:  #f1f1f1;\n",
       "        }#T_c33a3_row0_col19{\n",
       "            background-color:  #2685bb;\n",
       "            color:  #000000;\n",
       "        }#T_c33a3_row0_col20,#T_c33a3_row1_col20,#T_c33a3_row2_col20,#T_c33a3_row3_col20{\n",
       "            background-color:  #fff7fb;\n",
       "            color:  #000000;\n",
       "        }#T_c33a3_row1_col0,#T_c33a3_row1_col1,#T_c33a3_row1_col12{\n",
       "            background-color:  #03476f;\n",
       "            color:  #f1f1f1;\n",
       "        }#T_c33a3_row1_col2,#T_c33a3_row3_col2{\n",
       "            background-color:  #03456c;\n",
       "            color:  #f1f1f1;\n",
       "        }#T_c33a3_row1_col13{\n",
       "            background-color:  #034e7b;\n",
       "            color:  #f1f1f1;\n",
       "        }#T_c33a3_row1_col14{\n",
       "            background-color:  #045687;\n",
       "            color:  #f1f1f1;\n",
       "        }#T_c33a3_row1_col15{\n",
       "            background-color:  #045e93;\n",
       "            color:  #f1f1f1;\n",
       "        }#T_c33a3_row1_col16{\n",
       "            background-color:  #0566a0;\n",
       "            color:  #f1f1f1;\n",
       "        }#T_c33a3_row1_col17{\n",
       "            background-color:  #056faf;\n",
       "            color:  #f1f1f1;\n",
       "        }#T_c33a3_row1_col18{\n",
       "            background-color:  #2383ba;\n",
       "            color:  #000000;\n",
       "        }#T_c33a3_row1_col19{\n",
       "            background-color:  #65a3cb;\n",
       "            color:  #000000;\n",
       "        }#T_c33a3_row2_col0,#T_c33a3_row2_col1,#T_c33a3_row3_col0,#T_c33a3_row3_col1,#T_c33a3_row3_col12{\n",
       "            background-color:  #03466e;\n",
       "            color:  #f1f1f1;\n",
       "        }#T_c33a3_row2_col4,#T_c33a3_row2_col10{\n",
       "            background-color:  #023d60;\n",
       "            color:  #f1f1f1;\n",
       "        }#T_c33a3_row2_col12{\n",
       "            background-color:  #034871;\n",
       "            color:  #f1f1f1;\n",
       "        }#T_c33a3_row2_col14{\n",
       "            background-color:  #04598c;\n",
       "            color:  #f1f1f1;\n",
       "        }#T_c33a3_row2_col15{\n",
       "            background-color:  #046096;\n",
       "            color:  #f1f1f1;\n",
       "        }#T_c33a3_row2_col16{\n",
       "            background-color:  #0568a3;\n",
       "            color:  #f1f1f1;\n",
       "        }#T_c33a3_row2_col17{\n",
       "            background-color:  #0a73b2;\n",
       "            color:  #f1f1f1;\n",
       "        }#T_c33a3_row2_col18{\n",
       "            background-color:  #2a88bc;\n",
       "            color:  #000000;\n",
       "        }#T_c33a3_row2_col19{\n",
       "            background-color:  #71a8ce;\n",
       "            color:  #000000;\n",
       "        }#T_c33a3_row3_col13{\n",
       "            background-color:  #034c78;\n",
       "            color:  #f1f1f1;\n",
       "        }#T_c33a3_row3_col14{\n",
       "            background-color:  #045483;\n",
       "            color:  #f1f1f1;\n",
       "        }#T_c33a3_row3_col15{\n",
       "            background-color:  #045c90;\n",
       "            color:  #f1f1f1;\n",
       "        }#T_c33a3_row3_col16{\n",
       "            background-color:  #04639b;\n",
       "            color:  #f1f1f1;\n",
       "        }#T_c33a3_row3_col17{\n",
       "            background-color:  #056dab;\n",
       "            color:  #f1f1f1;\n",
       "        }#T_c33a3_row3_col18{\n",
       "            background-color:  #1c7fb8;\n",
       "            color:  #000000;\n",
       "        }#T_c33a3_row3_col19{\n",
       "            background-color:  #5c9fc9;\n",
       "            color:  #000000;\n",
       "        }</style><table id=\"T_c33a3_\" ><thead>    <tr>        <th class=\"blank level0\" ></th>        <th class=\"col_heading level0 col0\" >0.0</th>        <th class=\"col_heading level0 col1\" >0.05</th>        <th class=\"col_heading level0 col2\" >0.1</th>        <th class=\"col_heading level0 col3\" >0.15</th>        <th class=\"col_heading level0 col4\" >0.2</th>        <th class=\"col_heading level0 col5\" >0.25</th>        <th class=\"col_heading level0 col6\" >0.3</th>        <th class=\"col_heading level0 col7\" >0.35</th>        <th class=\"col_heading level0 col8\" >0.4</th>        <th class=\"col_heading level0 col9\" >0.45</th>        <th class=\"col_heading level0 col10\" >0.5</th>        <th class=\"col_heading level0 col11\" >0.55</th>        <th class=\"col_heading level0 col12\" >0.6</th>        <th class=\"col_heading level0 col13\" >0.65</th>        <th class=\"col_heading level0 col14\" >0.7</th>        <th class=\"col_heading level0 col15\" >0.75</th>        <th class=\"col_heading level0 col16\" >0.8</th>        <th class=\"col_heading level0 col17\" >0.85</th>        <th class=\"col_heading level0 col18\" >0.9</th>        <th class=\"col_heading level0 col19\" >0.95</th>        <th class=\"col_heading level0 col20\" >1.0</th>    </tr></thead><tbody>\n",
       "                <tr>\n",
       "                        <th id=\"T_c33a3_level0_row0\" class=\"row_heading level0 row0\" >ResNet</th>\n",
       "                        <td id=\"T_c33a3_row0_col0\" class=\"data row0 col0\" >0.831442</td>\n",
       "                        <td id=\"T_c33a3_row0_col1\" class=\"data row0 col1\" >0.831803</td>\n",
       "                        <td id=\"T_c33a3_row0_col2\" class=\"data row0 col2\" >0.834301</td>\n",
       "                        <td id=\"T_c33a3_row0_col3\" class=\"data row0 col3\" >0.839209</td>\n",
       "                        <td id=\"T_c33a3_row0_col4\" class=\"data row0 col4\" >0.844814</td>\n",
       "                        <td id=\"T_c33a3_row0_col5\" class=\"data row0 col5\" >0.850014</td>\n",
       "                        <td id=\"T_c33a3_row0_col6\" class=\"data row0 col6\" >0.854898</td>\n",
       "                        <td id=\"T_c33a3_row0_col7\" class=\"data row0 col7\" >0.858838</td>\n",
       "                        <td id=\"T_c33a3_row0_col8\" class=\"data row0 col8\" >0.860954</td>\n",
       "                        <td id=\"T_c33a3_row0_col9\" class=\"data row0 col9\" >0.861359</td>\n",
       "                        <td id=\"T_c33a3_row0_col10\" class=\"data row0 col10\" >0.858162</td>\n",
       "                        <td id=\"T_c33a3_row0_col11\" class=\"data row0 col11\" >0.850734</td>\n",
       "                        <td id=\"T_c33a3_row0_col12\" class=\"data row0 col12\" >0.841167</td>\n",
       "                        <td id=\"T_c33a3_row0_col13\" class=\"data row0 col13\" >0.830092</td>\n",
       "                        <td id=\"T_c33a3_row0_col14\" class=\"data row0 col14\" >0.816968</td>\n",
       "                        <td id=\"T_c33a3_row0_col15\" class=\"data row0 col15\" >0.799770</td>\n",
       "                        <td id=\"T_c33a3_row0_col16\" class=\"data row0 col16\" >0.778948</td>\n",
       "                        <td id=\"T_c33a3_row0_col17\" class=\"data row0 col17\" >0.750180</td>\n",
       "                        <td id=\"T_c33a3_row0_col18\" class=\"data row0 col18\" >0.707500</td>\n",
       "                        <td id=\"T_c33a3_row0_col19\" class=\"data row0 col19\" >0.630110</td>\n",
       "                        <td id=\"T_c33a3_row0_col20\" class=\"data row0 col20\" >0.168558</td>\n",
       "            </tr>\n",
       "            <tr>\n",
       "                        <th id=\"T_c33a3_level0_row1\" class=\"row_heading level0 row1\" >KNN</th>\n",
       "                        <td id=\"T_c33a3_row1_col0\" class=\"data row1 col0\" >0.821448</td>\n",
       "                        <td id=\"T_c33a3_row1_col1\" class=\"data row1 col1\" >0.821583</td>\n",
       "                        <td id=\"T_c33a3_row1_col2\" class=\"data row1 col2\" >0.825590</td>\n",
       "                        <td id=\"T_c33a3_row1_col3\" class=\"data row1 col3\" >0.833671</td>\n",
       "                        <td id=\"T_c33a3_row1_col4\" class=\"data row1 col4\" >0.841910</td>\n",
       "                        <td id=\"T_c33a3_row1_col5\" class=\"data row1 col5\" >0.850644</td>\n",
       "                        <td id=\"T_c33a3_row1_col6\" class=\"data row1 col6\" >0.855776</td>\n",
       "                        <td id=\"T_c33a3_row1_col7\" class=\"data row1 col7\" >0.858703</td>\n",
       "                        <td id=\"T_c33a3_row1_col8\" class=\"data row1 col8\" >0.859490</td>\n",
       "                        <td id=\"T_c33a3_row1_col9\" class=\"data row1 col9\" >0.855664</td>\n",
       "                        <td id=\"T_c33a3_row1_col10\" class=\"data row1 col10\" >0.846840</td>\n",
       "                        <td id=\"T_c33a3_row1_col11\" class=\"data row1 col11\" >0.833063</td>\n",
       "                        <td id=\"T_c33a3_row1_col12\" class=\"data row1 col12\" >0.820120</td>\n",
       "                        <td id=\"T_c33a3_row1_col13\" class=\"data row1 col13\" >0.803620</td>\n",
       "                        <td id=\"T_c33a3_row1_col14\" class=\"data row1 col14\" >0.782663</td>\n",
       "                        <td id=\"T_c33a3_row1_col15\" class=\"data row1 col15\" >0.758576</td>\n",
       "                        <td id=\"T_c33a3_row1_col16\" class=\"data row1 col16\" >0.728728</td>\n",
       "                        <td id=\"T_c33a3_row1_col17\" class=\"data row1 col17\" >0.691676</td>\n",
       "                        <td id=\"T_c33a3_row1_col18\" class=\"data row1 col18\" >0.638033</td>\n",
       "                        <td id=\"T_c33a3_row1_col19\" class=\"data row1 col19\" >0.540294</td>\n",
       "                        <td id=\"T_c33a3_row1_col20\" class=\"data row1 col20\" >0.178552</td>\n",
       "            </tr>\n",
       "            <tr>\n",
       "                        <th id=\"T_c33a3_level0_row2\" class=\"row_heading level0 row2\" >EMD</th>\n",
       "                        <td id=\"T_c33a3_row2_col0\" class=\"data row2 col0\" >0.823901</td>\n",
       "                        <td id=\"T_c33a3_row2_col1\" class=\"data row2 col1\" >0.823992</td>\n",
       "                        <td id=\"T_c33a3_row2_col2\" class=\"data row2 col2\" >0.828201</td>\n",
       "                        <td id=\"T_c33a3_row2_col3\" class=\"data row2 col3\" >0.836507</td>\n",
       "                        <td id=\"T_c33a3_row2_col4\" class=\"data row2 col4\" >0.845264</td>\n",
       "                        <td id=\"T_c33a3_row2_col5\" class=\"data row2 col5\" >0.852107</td>\n",
       "                        <td id=\"T_c33a3_row2_col6\" class=\"data row2 col6\" >0.858027</td>\n",
       "                        <td id=\"T_c33a3_row2_col7\" class=\"data row2 col7\" >0.860053</td>\n",
       "                        <td id=\"T_c33a3_row2_col8\" class=\"data row2 col8\" >0.858995</td>\n",
       "                        <td id=\"T_c33a3_row2_col9\" class=\"data row2 col9\" >0.854943</td>\n",
       "                        <td id=\"T_c33a3_row2_col10\" class=\"data row2 col10\" >0.846412</td>\n",
       "                        <td id=\"T_c33a3_row2_col11\" class=\"data row2 col11\" >0.833671</td>\n",
       "                        <td id=\"T_c33a3_row2_col12\" class=\"data row2 col12\" >0.818364</td>\n",
       "                        <td id=\"T_c33a3_row2_col13\" class=\"data row2 col13\" >0.799140</td>\n",
       "                        <td id=\"T_c33a3_row2_col14\" class=\"data row2 col14\" >0.776382</td>\n",
       "                        <td id=\"T_c33a3_row2_col15\" class=\"data row2 col15\" >0.751666</td>\n",
       "                        <td id=\"T_c33a3_row2_col16\" class=\"data row2 col16\" >0.719836</td>\n",
       "                        <td id=\"T_c33a3_row2_col17\" class=\"data row2 col17\" >0.680240</td>\n",
       "                        <td id=\"T_c33a3_row2_col18\" class=\"data row2 col18\" >0.622321</td>\n",
       "                        <td id=\"T_c33a3_row2_col19\" class=\"data row2 col19\" >0.522735</td>\n",
       "                        <td id=\"T_c33a3_row2_col20\" class=\"data row2 col20\" >0.176099</td>\n",
       "            </tr>\n",
       "            <tr>\n",
       "                        <th id=\"T_c33a3_level0_row3\" class=\"row_heading level0 row3\" >CHM</th>\n",
       "                        <td id=\"T_c33a3_row3_col0\" class=\"data row3 col0\" >0.820502</td>\n",
       "                        <td id=\"T_c33a3_row3_col1\" class=\"data row3 col1\" >0.820570</td>\n",
       "                        <td id=\"T_c33a3_row3_col2\" class=\"data row3 col2\" >0.823676</td>\n",
       "                        <td id=\"T_c33a3_row3_col3\" class=\"data row3 col3\" >0.830475</td>\n",
       "                        <td id=\"T_c33a3_row3_col4\" class=\"data row3 col4\" >0.837925</td>\n",
       "                        <td id=\"T_c33a3_row3_col5\" class=\"data row3 col5\" >0.845039</td>\n",
       "                        <td id=\"T_c33a3_row3_col6\" class=\"data row3 col6\" >0.851184</td>\n",
       "                        <td id=\"T_c33a3_row3_col7\" class=\"data row3 col7\" >0.855416</td>\n",
       "                        <td id=\"T_c33a3_row3_col8\" class=\"data row3 col8\" >0.856654</td>\n",
       "                        <td id=\"T_c33a3_row3_col9\" class=\"data row3 col9\" >0.854313</td>\n",
       "                        <td id=\"T_c33a3_row3_col10\" class=\"data row3 col10\" >0.846907</td>\n",
       "                        <td id=\"T_c33a3_row3_col11\" class=\"data row3 col11\" >0.836192</td>\n",
       "                        <td id=\"T_c33a3_row3_col12\" class=\"data row3 col12\" >0.821943</td>\n",
       "                        <td id=\"T_c33a3_row3_col13\" class=\"data row3 col13\" >0.805983</td>\n",
       "                        <td id=\"T_c33a3_row3_col14\" class=\"data row3 col14\" >0.787345</td>\n",
       "                        <td id=\"T_c33a3_row3_col15\" class=\"data row3 col15\" >0.763371</td>\n",
       "                        <td id=\"T_c33a3_row3_col16\" class=\"data row3 col16\" >0.735909</td>\n",
       "                        <td id=\"T_c33a3_row3_col17\" class=\"data row3 col17\" >0.698496</td>\n",
       "                        <td id=\"T_c33a3_row3_col18\" class=\"data row3 col18\" >0.645935</td>\n",
       "                        <td id=\"T_c33a3_row3_col19\" class=\"data row3 col19\" >0.551324</td>\n",
       "                        <td id=\"T_c33a3_row3_col20\" class=\"data row3 col20\" >0.179498</td>\n",
       "            </tr>\n",
       "    </tbody></table>"
      ],
      "text/plain": [
       "<pandas.io.formats.style.Styler at 0x7f9b4a698050>"
      ]
     },
     "execution_count": 9,
     "metadata": {},
     "output_type": "execute_result"
    }
   ],
   "source": [
    "pd.DataFrame(TAnalysis).T.style.background_gradient(axis=1)"
   ]
  },
  {
   "cell_type": "code",
   "execution_count": 10,
   "id": "b31aa7df-48f8-4de0-bdc1-9dbcb4cbf242",
   "metadata": {
    "pycharm": {
     "name": "#%%\n"
    }
   },
   "outputs": [
    {
     "data": {
      "text/html": [
       "<style  type=\"text/css\" >\n",
       "#T_207be_row0_col0,#T_207be_row0_col1,#T_207be_row0_col2,#T_207be_row2_col0,#T_207be_row2_col1{\n",
       "            background-color:  #03476f;\n",
       "            color:  #f1f1f1;\n",
       "        }#T_207be_row0_col3{\n",
       "            background-color:  #03446a;\n",
       "            color:  #f1f1f1;\n",
       "        }#T_207be_row0_col4,#T_207be_row1_col0,#T_207be_row1_col1,#T_207be_row3_col3{\n",
       "            background-color:  #034165;\n",
       "            color:  #f1f1f1;\n",
       "        }#T_207be_row0_col5,#T_207be_row3_col11{\n",
       "            background-color:  #023e62;\n",
       "            color:  #f1f1f1;\n",
       "        }#T_207be_row0_col6,#T_207be_row0_col10,#T_207be_row1_col3,#T_207be_row1_col10,#T_207be_row2_col5,#T_207be_row3_col4{\n",
       "            background-color:  #023c5f;\n",
       "            color:  #f1f1f1;\n",
       "        }#T_207be_row0_col7,#T_207be_row1_col5,#T_207be_row2_col6,#T_207be_row3_col5,#T_207be_row3_col8,#T_207be_row3_col10{\n",
       "            background-color:  #023a5b;\n",
       "            color:  #f1f1f1;\n",
       "        }#T_207be_row0_col8,#T_207be_row0_col9,#T_207be_row1_col7,#T_207be_row1_col8,#T_207be_row2_col7,#T_207be_row3_col6,#T_207be_row3_col7,#T_207be_row3_col9{\n",
       "            background-color:  #023858;\n",
       "            color:  #f1f1f1;\n",
       "        }#T_207be_row0_col11,#T_207be_row1_col2,#T_207be_row2_col4{\n",
       "            background-color:  #023f64;\n",
       "            color:  #f1f1f1;\n",
       "        }#T_207be_row0_col12,#T_207be_row2_col3,#T_207be_row2_col10,#T_207be_row3_col2{\n",
       "            background-color:  #034369;\n",
       "            color:  #f1f1f1;\n",
       "        }#T_207be_row0_col13{\n",
       "            background-color:  #034973;\n",
       "            color:  #f1f1f1;\n",
       "        }#T_207be_row0_col14,#T_207be_row1_col13,#T_207be_row2_col12{\n",
       "            background-color:  #034c78;\n",
       "            color:  #f1f1f1;\n",
       "        }#T_207be_row0_col15,#T_207be_row1_col14,#T_207be_row2_col13{\n",
       "            background-color:  #045585;\n",
       "            color:  #f1f1f1;\n",
       "        }#T_207be_row0_col16,#T_207be_row2_col14{\n",
       "            background-color:  #045e93;\n",
       "            color:  #f1f1f1;\n",
       "        }#T_207be_row0_col17,#T_207be_row1_col16{\n",
       "            background-color:  #04649d;\n",
       "            color:  #f1f1f1;\n",
       "        }#T_207be_row0_col18{\n",
       "            background-color:  #0570b0;\n",
       "            color:  #f1f1f1;\n",
       "        }#T_207be_row0_col19,#T_207be_row2_col18{\n",
       "            background-color:  #348ebf;\n",
       "            color:  #000000;\n",
       "        }#T_207be_row0_col20,#T_207be_row1_col20,#T_207be_row2_col20,#T_207be_row3_col20{\n",
       "            background-color:  #fff7fb;\n",
       "            color:  #000000;\n",
       "        }#T_207be_row1_col4,#T_207be_row2_col9{\n",
       "            background-color:  #023b5d;\n",
       "            color:  #f1f1f1;\n",
       "        }#T_207be_row1_col6,#T_207be_row1_col9,#T_207be_row2_col8{\n",
       "            background-color:  #02395a;\n",
       "            color:  #f1f1f1;\n",
       "        }#T_207be_row1_col11{\n",
       "            background-color:  #034267;\n",
       "            color:  #f1f1f1;\n",
       "        }#T_207be_row1_col12,#T_207be_row2_col2,#T_207be_row3_col12{\n",
       "            background-color:  #03456c;\n",
       "            color:  #f1f1f1;\n",
       "        }#T_207be_row1_col15{\n",
       "            background-color:  #045c90;\n",
       "            color:  #f1f1f1;\n",
       "        }#T_207be_row1_col17{\n",
       "            background-color:  #056ead;\n",
       "            color:  #f1f1f1;\n",
       "        }#T_207be_row1_col18{\n",
       "            background-color:  #2081b9;\n",
       "            color:  #000000;\n",
       "        }#T_207be_row1_col19{\n",
       "            background-color:  #65a3cb;\n",
       "            color:  #000000;\n",
       "        }#T_207be_row2_col11{\n",
       "            background-color:  #034a74;\n",
       "            color:  #f1f1f1;\n",
       "        }#T_207be_row2_col15{\n",
       "            background-color:  #0566a0;\n",
       "            color:  #f1f1f1;\n",
       "        }#T_207be_row2_col16{\n",
       "            background-color:  #056dac;\n",
       "            color:  #f1f1f1;\n",
       "        }#T_207be_row2_col17{\n",
       "            background-color:  #167bb6;\n",
       "            color:  #000000;\n",
       "        }#T_207be_row2_col19{\n",
       "            background-color:  #79abd0;\n",
       "            color:  #000000;\n",
       "        }#T_207be_row3_col0,#T_207be_row3_col1{\n",
       "            background-color:  #03466e;\n",
       "            color:  #f1f1f1;\n",
       "        }#T_207be_row3_col13{\n",
       "            background-color:  #034b76;\n",
       "            color:  #f1f1f1;\n",
       "        }#T_207be_row3_col14{\n",
       "            background-color:  #045483;\n",
       "            color:  #f1f1f1;\n",
       "        }#T_207be_row3_col15{\n",
       "            background-color:  #045b8f;\n",
       "            color:  #f1f1f1;\n",
       "        }#T_207be_row3_col16{\n",
       "            background-color:  #046198;\n",
       "            color:  #f1f1f1;\n",
       "        }#T_207be_row3_col17{\n",
       "            background-color:  #056caa;\n",
       "            color:  #f1f1f1;\n",
       "        }#T_207be_row3_col18{\n",
       "            background-color:  #1c7fb8;\n",
       "            color:  #000000;\n",
       "        }#T_207be_row3_col19{\n",
       "            background-color:  #5c9fc9;\n",
       "            color:  #000000;\n",
       "        }</style><table id=\"T_207be_\" ><thead>    <tr>        <th class=\"blank level0\" ></th>        <th class=\"col_heading level0 col0\" >0.0</th>        <th class=\"col_heading level0 col1\" >0.05</th>        <th class=\"col_heading level0 col2\" >0.1</th>        <th class=\"col_heading level0 col3\" >0.15</th>        <th class=\"col_heading level0 col4\" >0.2</th>        <th class=\"col_heading level0 col5\" >0.25</th>        <th class=\"col_heading level0 col6\" >0.3</th>        <th class=\"col_heading level0 col7\" >0.35</th>        <th class=\"col_heading level0 col8\" >0.4</th>        <th class=\"col_heading level0 col9\" >0.45</th>        <th class=\"col_heading level0 col10\" >0.5</th>        <th class=\"col_heading level0 col11\" >0.55</th>        <th class=\"col_heading level0 col12\" >0.6</th>        <th class=\"col_heading level0 col13\" >0.65</th>        <th class=\"col_heading level0 col14\" >0.7</th>        <th class=\"col_heading level0 col15\" >0.75</th>        <th class=\"col_heading level0 col16\" >0.8</th>        <th class=\"col_heading level0 col17\" >0.85</th>        <th class=\"col_heading level0 col18\" >0.9</th>        <th class=\"col_heading level0 col19\" >0.95</th>        <th class=\"col_heading level0 col20\" >1.0</th>    </tr></thead><tbody>\n",
       "                <tr>\n",
       "                        <th id=\"T_207be_level0_row0\" class=\"row_heading level0 row0\" >ResNet</th>\n",
       "                        <td id=\"T_207be_row0_col0\" class=\"data row0 col0\" >0.832000</td>\n",
       "                        <td id=\"T_207be_row0_col1\" class=\"data row0 col1\" >0.832000</td>\n",
       "                        <td id=\"T_207be_row0_col2\" class=\"data row0 col2\" >0.830500</td>\n",
       "                        <td id=\"T_207be_row0_col3\" class=\"data row0 col3\" >0.838500</td>\n",
       "                        <td id=\"T_207be_row0_col4\" class=\"data row0 col4\" >0.846000</td>\n",
       "                        <td id=\"T_207be_row0_col5\" class=\"data row0 col5\" >0.852500</td>\n",
       "                        <td id=\"T_207be_row0_col6\" class=\"data row0 col6\" >0.857000</td>\n",
       "                        <td id=\"T_207be_row0_col7\" class=\"data row0 col7\" >0.863000</td>\n",
       "                        <td id=\"T_207be_row0_col8\" class=\"data row0 col8\" >0.870500</td>\n",
       "                        <td id=\"T_207be_row0_col9\" class=\"data row0 col9\" >0.868500</td>\n",
       "                        <td id=\"T_207be_row0_col10\" class=\"data row0 col10\" >0.858000</td>\n",
       "                        <td id=\"T_207be_row0_col11\" class=\"data row0 col11\" >0.850000</td>\n",
       "                        <td id=\"T_207be_row0_col12\" class=\"data row0 col12\" >0.841500</td>\n",
       "                        <td id=\"T_207be_row0_col13\" class=\"data row0 col13\" >0.826000</td>\n",
       "                        <td id=\"T_207be_row0_col14\" class=\"data row0 col14\" >0.817000</td>\n",
       "                        <td id=\"T_207be_row0_col15\" class=\"data row0 col15\" >0.794000</td>\n",
       "                        <td id=\"T_207be_row0_col16\" class=\"data row0 col16\" >0.766500</td>\n",
       "                        <td id=\"T_207be_row0_col17\" class=\"data row0 col17\" >0.743500</td>\n",
       "                        <td id=\"T_207be_row0_col18\" class=\"data row0 col18\" >0.693000</td>\n",
       "                        <td id=\"T_207be_row0_col19\" class=\"data row0 col19\" >0.610500</td>\n",
       "                        <td id=\"T_207be_row0_col20\" class=\"data row0 col20\" >0.168000</td>\n",
       "            </tr>\n",
       "            <tr>\n",
       "                        <th id=\"T_207be_level0_row1\" class=\"row_heading level0 row1\" >KNN</th>\n",
       "                        <td id=\"T_207be_row1_col0\" class=\"data row1 col0\" >0.836500</td>\n",
       "                        <td id=\"T_207be_row1_col1\" class=\"data row1 col1\" >0.837500</td>\n",
       "                        <td id=\"T_207be_row1_col2\" class=\"data row1 col2\" >0.840500</td>\n",
       "                        <td id=\"T_207be_row1_col3\" class=\"data row1 col3\" >0.847000</td>\n",
       "                        <td id=\"T_207be_row1_col4\" class=\"data row1 col4\" >0.849500</td>\n",
       "                        <td id=\"T_207be_row1_col5\" class=\"data row1 col5\" >0.854000</td>\n",
       "                        <td id=\"T_207be_row1_col6\" class=\"data row1 col6\" >0.856000</td>\n",
       "                        <td id=\"T_207be_row1_col7\" class=\"data row1 col7\" >0.859500</td>\n",
       "                        <td id=\"T_207be_row1_col8\" class=\"data row1 col8\" >0.860000</td>\n",
       "                        <td id=\"T_207be_row1_col9\" class=\"data row1 col9\" >0.855000</td>\n",
       "                        <td id=\"T_207be_row1_col10\" class=\"data row1 col10\" >0.848000</td>\n",
       "                        <td id=\"T_207be_row1_col11\" class=\"data row1 col11\" >0.833000</td>\n",
       "                        <td id=\"T_207be_row1_col12\" class=\"data row1 col12\" >0.825500</td>\n",
       "                        <td id=\"T_207be_row1_col13\" class=\"data row1 col13\" >0.808000</td>\n",
       "                        <td id=\"T_207be_row1_col14\" class=\"data row1 col14\" >0.784500</td>\n",
       "                        <td id=\"T_207be_row1_col15\" class=\"data row1 col15\" >0.762500</td>\n",
       "                        <td id=\"T_207be_row1_col16\" class=\"data row1 col16\" >0.734500</td>\n",
       "                        <td id=\"T_207be_row1_col17\" class=\"data row1 col17\" >0.693500</td>\n",
       "                        <td id=\"T_207be_row1_col18\" class=\"data row1 col18\" >0.637000</td>\n",
       "                        <td id=\"T_207be_row1_col19\" class=\"data row1 col19\" >0.533000</td>\n",
       "                        <td id=\"T_207be_row1_col20\" class=\"data row1 col20\" >0.163500</td>\n",
       "            </tr>\n",
       "            <tr>\n",
       "                        <th id=\"T_207be_level0_row2\" class=\"row_heading level0 row2\" >EMD</th>\n",
       "                        <td id=\"T_207be_row2_col0\" class=\"data row2 col0\" >0.840000</td>\n",
       "                        <td id=\"T_207be_row2_col1\" class=\"data row2 col1\" >0.840000</td>\n",
       "                        <td id=\"T_207be_row2_col2\" class=\"data row2 col2\" >0.845500</td>\n",
       "                        <td id=\"T_207be_row2_col3\" class=\"data row2 col3\" >0.851000</td>\n",
       "                        <td id=\"T_207be_row2_col4\" class=\"data row2 col4\" >0.859500</td>\n",
       "                        <td id=\"T_207be_row2_col5\" class=\"data row2 col5\" >0.866500</td>\n",
       "                        <td id=\"T_207be_row2_col6\" class=\"data row2 col6\" >0.873000</td>\n",
       "                        <td id=\"T_207be_row2_col7\" class=\"data row2 col7\" >0.879500</td>\n",
       "                        <td id=\"T_207be_row2_col8\" class=\"data row2 col8\" >0.875500</td>\n",
       "                        <td id=\"T_207be_row2_col9\" class=\"data row2 col9\" >0.870500</td>\n",
       "                        <td id=\"T_207be_row2_col10\" class=\"data row2 col10\" >0.850000</td>\n",
       "                        <td id=\"T_207be_row2_col11\" class=\"data row2 col11\" >0.831500</td>\n",
       "                        <td id=\"T_207be_row2_col12\" class=\"data row2 col12\" >0.825500</td>\n",
       "                        <td id=\"T_207be_row2_col13\" class=\"data row2 col13\" >0.803000</td>\n",
       "                        <td id=\"T_207be_row2_col14\" class=\"data row2 col14\" >0.774500</td>\n",
       "                        <td id=\"T_207be_row2_col15\" class=\"data row2 col15\" >0.741000</td>\n",
       "                        <td id=\"T_207be_row2_col16\" class=\"data row2 col16\" >0.710500</td>\n",
       "                        <td id=\"T_207be_row2_col17\" class=\"data row2 col17\" >0.667000</td>\n",
       "                        <td id=\"T_207be_row2_col18\" class=\"data row2 col18\" >0.612500</td>\n",
       "                        <td id=\"T_207be_row2_col19\" class=\"data row2 col19\" >0.509000</td>\n",
       "                        <td id=\"T_207be_row2_col20\" class=\"data row2 col20\" >0.160000</td>\n",
       "            </tr>\n",
       "            <tr>\n",
       "                        <th id=\"T_207be_level0_row3\" class=\"row_heading level0 row3\" >CHM</th>\n",
       "                        <td id=\"T_207be_row3_col0\" class=\"data row3 col0\" >0.832000</td>\n",
       "                        <td id=\"T_207be_row3_col1\" class=\"data row3 col1\" >0.832000</td>\n",
       "                        <td id=\"T_207be_row3_col2\" class=\"data row3 col2\" >0.839000</td>\n",
       "                        <td id=\"T_207be_row3_col3\" class=\"data row3 col3\" >0.844500</td>\n",
       "                        <td id=\"T_207be_row3_col4\" class=\"data row3 col4\" >0.857500</td>\n",
       "                        <td id=\"T_207be_row3_col5\" class=\"data row3 col5\" >0.861000</td>\n",
       "                        <td id=\"T_207be_row3_col6\" class=\"data row3 col6\" >0.867000</td>\n",
       "                        <td id=\"T_207be_row3_col7\" class=\"data row3 col7\" >0.868500</td>\n",
       "                        <td id=\"T_207be_row3_col8\" class=\"data row3 col8\" >0.863000</td>\n",
       "                        <td id=\"T_207be_row3_col9\" class=\"data row3 col9\" >0.869000</td>\n",
       "                        <td id=\"T_207be_row3_col10\" class=\"data row3 col10\" >0.861000</td>\n",
       "                        <td id=\"T_207be_row3_col11\" class=\"data row3 col11\" >0.851500</td>\n",
       "                        <td id=\"T_207be_row3_col12\" class=\"data row3 col12\" >0.834000</td>\n",
       "                        <td id=\"T_207be_row3_col13\" class=\"data row3 col13\" >0.818500</td>\n",
       "                        <td id=\"T_207be_row3_col14\" class=\"data row3 col14\" >0.795500</td>\n",
       "                        <td id=\"T_207be_row3_col15\" class=\"data row3 col15\" >0.775500</td>\n",
       "                        <td id=\"T_207be_row3_col16\" class=\"data row3 col16\" >0.752500</td>\n",
       "                        <td id=\"T_207be_row3_col17\" class=\"data row3 col17\" >0.708500</td>\n",
       "                        <td id=\"T_207be_row3_col18\" class=\"data row3 col18\" >0.650500</td>\n",
       "                        <td id=\"T_207be_row3_col19\" class=\"data row3 col19\" >0.552500</td>\n",
       "                        <td id=\"T_207be_row3_col20\" class=\"data row3 col20\" >0.168000</td>\n",
       "            </tr>\n",
       "    </tbody></table>"
      ],
      "text/plain": [
       "<pandas.io.formats.style.Styler at 0x7f9b43ff1710>"
      ]
     },
     "execution_count": 10,
     "metadata": {},
     "output_type": "execute_result"
    }
   ],
   "source": [
    "pd.DataFrame(TAnalysis_T).T.style.background_gradient(axis=1)"
   ]
  },
  {
   "cell_type": "code",
   "execution_count": 11,
   "id": "d477354b-8e9b-4be3-9f1c-502825f9c15c",
   "metadata": {
    "pycharm": {
     "name": "#%%\n"
    }
   },
   "outputs": [
    {
     "data": {
      "text/html": [
       "<style  type=\"text/css\" >\n",
       "#T_00154_row0_col0,#T_00154_row0_col1,#T_00154_row3_col3{\n",
       "            background-color:  #034369;\n",
       "            color:  #f1f1f1;\n",
       "        }#T_00154_row0_col2,#T_00154_row1_col3,#T_00154_row1_col11,#T_00154_row2_col11{\n",
       "            background-color:  #034267;\n",
       "            color:  #f1f1f1;\n",
       "        }#T_00154_row0_col3,#T_00154_row2_col3{\n",
       "            background-color:  #034165;\n",
       "            color:  #f1f1f1;\n",
       "        }#T_00154_row0_col4,#T_00154_row1_col4{\n",
       "            background-color:  #023e62;\n",
       "            color:  #f1f1f1;\n",
       "        }#T_00154_row0_col5,#T_00154_row1_col10,#T_00154_row2_col10,#T_00154_row3_col5{\n",
       "            background-color:  #023c5f;\n",
       "            color:  #f1f1f1;\n",
       "        }#T_00154_row0_col6,#T_00154_row2_col5,#T_00154_row3_col6{\n",
       "            background-color:  #023a5b;\n",
       "            color:  #f1f1f1;\n",
       "        }#T_00154_row0_col7,#T_00154_row0_col8,#T_00154_row0_col9,#T_00154_row1_col7,#T_00154_row1_col8,#T_00154_row2_col6,#T_00154_row2_col7,#T_00154_row2_col8,#T_00154_row3_col7,#T_00154_row3_col8{\n",
       "            background-color:  #023858;\n",
       "            color:  #f1f1f1;\n",
       "        }#T_00154_row0_col10,#T_00154_row1_col6,#T_00154_row1_col9,#T_00154_row2_col9,#T_00154_row3_col9{\n",
       "            background-color:  #02395a;\n",
       "            color:  #f1f1f1;\n",
       "        }#T_00154_row0_col11,#T_00154_row1_col5,#T_00154_row3_col10{\n",
       "            background-color:  #023b5d;\n",
       "            color:  #f1f1f1;\n",
       "        }#T_00154_row0_col12,#T_00154_row3_col4,#T_00154_row3_col11{\n",
       "            background-color:  #023f64;\n",
       "            color:  #f1f1f1;\n",
       "        }#T_00154_row0_col13,#T_00154_row2_col2{\n",
       "            background-color:  #03446a;\n",
       "            color:  #f1f1f1;\n",
       "        }#T_00154_row0_col14{\n",
       "            background-color:  #034973;\n",
       "            color:  #f1f1f1;\n",
       "        }#T_00154_row0_col15,#T_00154_row2_col13{\n",
       "            background-color:  #034f7d;\n",
       "            color:  #f1f1f1;\n",
       "        }#T_00154_row0_col16{\n",
       "            background-color:  #04588a;\n",
       "            color:  #f1f1f1;\n",
       "        }#T_00154_row0_col17,#T_00154_row2_col15{\n",
       "            background-color:  #046096;\n",
       "            color:  #f1f1f1;\n",
       "        }#T_00154_row0_col18{\n",
       "            background-color:  #056ba7;\n",
       "            color:  #f1f1f1;\n",
       "        }#T_00154_row0_col19{\n",
       "            background-color:  #2685bb;\n",
       "            color:  #000000;\n",
       "        }#T_00154_row0_col20,#T_00154_row1_col20,#T_00154_row2_col20,#T_00154_row3_col20{\n",
       "            background-color:  #fff7fb;\n",
       "            color:  #000000;\n",
       "        }#T_00154_row1_col0,#T_00154_row1_col1,#T_00154_row1_col12{\n",
       "            background-color:  #03476f;\n",
       "            color:  #f1f1f1;\n",
       "        }#T_00154_row1_col2,#T_00154_row2_col0,#T_00154_row2_col1,#T_00154_row3_col0,#T_00154_row3_col1,#T_00154_row3_col12{\n",
       "            background-color:  #03466e;\n",
       "            color:  #f1f1f1;\n",
       "        }#T_00154_row1_col13{\n",
       "            background-color:  #034e7b;\n",
       "            color:  #f1f1f1;\n",
       "        }#T_00154_row1_col14{\n",
       "            background-color:  #045687;\n",
       "            color:  #f1f1f1;\n",
       "        }#T_00154_row1_col15{\n",
       "            background-color:  #045e94;\n",
       "            color:  #f1f1f1;\n",
       "        }#T_00154_row1_col16{\n",
       "            background-color:  #0566a0;\n",
       "            color:  #f1f1f1;\n",
       "        }#T_00154_row1_col17{\n",
       "            background-color:  #056faf;\n",
       "            color:  #f1f1f1;\n",
       "        }#T_00154_row1_col18{\n",
       "            background-color:  #2383ba;\n",
       "            color:  #000000;\n",
       "        }#T_00154_row1_col19{\n",
       "            background-color:  #63a2cb;\n",
       "            color:  #000000;\n",
       "        }#T_00154_row2_col4{\n",
       "            background-color:  #023d60;\n",
       "            color:  #f1f1f1;\n",
       "        }#T_00154_row2_col12{\n",
       "            background-color:  #034871;\n",
       "            color:  #f1f1f1;\n",
       "        }#T_00154_row2_col14{\n",
       "            background-color:  #04598c;\n",
       "            color:  #f1f1f1;\n",
       "        }#T_00154_row2_col16{\n",
       "            background-color:  #0568a3;\n",
       "            color:  #f1f1f1;\n",
       "        }#T_00154_row2_col17{\n",
       "            background-color:  #0872b1;\n",
       "            color:  #f1f1f1;\n",
       "        }#T_00154_row2_col18{\n",
       "            background-color:  #2a88bc;\n",
       "            color:  #000000;\n",
       "        }#T_00154_row2_col19{\n",
       "            background-color:  #6fa7ce;\n",
       "            color:  #000000;\n",
       "        }#T_00154_row3_col2{\n",
       "            background-color:  #03456c;\n",
       "            color:  #f1f1f1;\n",
       "        }#T_00154_row3_col13{\n",
       "            background-color:  #034c78;\n",
       "            color:  #f1f1f1;\n",
       "        }#T_00154_row3_col14{\n",
       "            background-color:  #045483;\n",
       "            color:  #f1f1f1;\n",
       "        }#T_00154_row3_col15{\n",
       "            background-color:  #045c90;\n",
       "            color:  #f1f1f1;\n",
       "        }#T_00154_row3_col16{\n",
       "            background-color:  #04639b;\n",
       "            color:  #f1f1f1;\n",
       "        }#T_00154_row3_col17{\n",
       "            background-color:  #056dab;\n",
       "            color:  #f1f1f1;\n",
       "        }#T_00154_row3_col18{\n",
       "            background-color:  #1c7fb8;\n",
       "            color:  #000000;\n",
       "        }#T_00154_row3_col19{\n",
       "            background-color:  #5c9fc9;\n",
       "            color:  #000000;\n",
       "        }</style><table id=\"T_00154_\" ><thead>    <tr>        <th class=\"blank level0\" ></th>        <th class=\"col_heading level0 col0\" >0.0</th>        <th class=\"col_heading level0 col1\" >0.05</th>        <th class=\"col_heading level0 col2\" >0.1</th>        <th class=\"col_heading level0 col3\" >0.15</th>        <th class=\"col_heading level0 col4\" >0.2</th>        <th class=\"col_heading level0 col5\" >0.25</th>        <th class=\"col_heading level0 col6\" >0.3</th>        <th class=\"col_heading level0 col7\" >0.35</th>        <th class=\"col_heading level0 col8\" >0.4</th>        <th class=\"col_heading level0 col9\" >0.45</th>        <th class=\"col_heading level0 col10\" >0.5</th>        <th class=\"col_heading level0 col11\" >0.55</th>        <th class=\"col_heading level0 col12\" >0.6</th>        <th class=\"col_heading level0 col13\" >0.65</th>        <th class=\"col_heading level0 col14\" >0.7</th>        <th class=\"col_heading level0 col15\" >0.75</th>        <th class=\"col_heading level0 col16\" >0.8</th>        <th class=\"col_heading level0 col17\" >0.85</th>        <th class=\"col_heading level0 col18\" >0.9</th>        <th class=\"col_heading level0 col19\" >0.95</th>        <th class=\"col_heading level0 col20\" >1.0</th>    </tr></thead><tbody>\n",
       "                <tr>\n",
       "                        <th id=\"T_00154_level0_row0\" class=\"row_heading level0 row0\" >ResNet</th>\n",
       "                        <td id=\"T_00154_row0_col0\" class=\"data row0 col0\" >0.831416</td>\n",
       "                        <td id=\"T_00154_row0_col1\" class=\"data row0 col1\" >0.831793</td>\n",
       "                        <td id=\"T_00154_row0_col2\" class=\"data row0 col2\" >0.834480</td>\n",
       "                        <td id=\"T_00154_row0_col3\" class=\"data row0 col3\" >0.839242</td>\n",
       "                        <td id=\"T_00154_row0_col4\" class=\"data row0 col4\" >0.844758</td>\n",
       "                        <td id=\"T_00154_row0_col5\" class=\"data row0 col5\" >0.849896</td>\n",
       "                        <td id=\"T_00154_row0_col6\" class=\"data row0 col6\" >0.854799</td>\n",
       "                        <td id=\"T_00154_row0_col7\" class=\"data row0 col7\" >0.858641</td>\n",
       "                        <td id=\"T_00154_row0_col8\" class=\"data row0 col8\" >0.860503</td>\n",
       "                        <td id=\"T_00154_row0_col9\" class=\"data row0 col9\" >0.861022</td>\n",
       "                        <td id=\"T_00154_row0_col10\" class=\"data row0 col10\" >0.858170</td>\n",
       "                        <td id=\"T_00154_row0_col11\" class=\"data row0 col11\" >0.850768</td>\n",
       "                        <td id=\"T_00154_row0_col12\" class=\"data row0 col12\" >0.841151</td>\n",
       "                        <td id=\"T_00154_row0_col13\" class=\"data row0 col13\" >0.830285</td>\n",
       "                        <td id=\"T_00154_row0_col14\" class=\"data row0 col14\" >0.816967</td>\n",
       "                        <td id=\"T_00154_row0_col15\" class=\"data row0 col15\" >0.800042</td>\n",
       "                        <td id=\"T_00154_row0_col16\" class=\"data row0 col16\" >0.779535</td>\n",
       "                        <td id=\"T_00154_row0_col17\" class=\"data row0 col17\" >0.750495</td>\n",
       "                        <td id=\"T_00154_row0_col18\" class=\"data row0 col18\" >0.708184</td>\n",
       "                        <td id=\"T_00154_row0_col19\" class=\"data row0 col19\" >0.631034</td>\n",
       "                        <td id=\"T_00154_row0_col20\" class=\"data row0 col20\" >0.168584</td>\n",
       "            </tr>\n",
       "            <tr>\n",
       "                        <th id=\"T_00154_level0_row1\" class=\"row_heading level0 row1\" >KNN</th>\n",
       "                        <td id=\"T_00154_row1_col0\" class=\"data row1 col0\" >0.820738</td>\n",
       "                        <td id=\"T_00154_row1_col1\" class=\"data row1 col1\" >0.820833</td>\n",
       "                        <td id=\"T_00154_row1_col2\" class=\"data row1 col2\" >0.824887</td>\n",
       "                        <td id=\"T_00154_row1_col3\" class=\"data row1 col3\" >0.833043</td>\n",
       "                        <td id=\"T_00154_row1_col4\" class=\"data row1 col4\" >0.841552</td>\n",
       "                        <td id=\"T_00154_row1_col5\" class=\"data row1 col5\" >0.850486</td>\n",
       "                        <td id=\"T_00154_row1_col6\" class=\"data row1 col6\" >0.855766</td>\n",
       "                        <td id=\"T_00154_row1_col7\" class=\"data row1 col7\" >0.858665</td>\n",
       "                        <td id=\"T_00154_row1_col8\" class=\"data row1 col8\" >0.859466</td>\n",
       "                        <td id=\"T_00154_row1_col9\" class=\"data row1 col9\" >0.855695</td>\n",
       "                        <td id=\"T_00154_row1_col10\" class=\"data row1 col10\" >0.846785</td>\n",
       "                        <td id=\"T_00154_row1_col11\" class=\"data row1 col11\" >0.833066</td>\n",
       "                        <td id=\"T_00154_row1_col12\" class=\"data row1 col12\" >0.819866</td>\n",
       "                        <td id=\"T_00154_row1_col13\" class=\"data row1 col13\" >0.803413</td>\n",
       "                        <td id=\"T_00154_row1_col14\" class=\"data row1 col14\" >0.782576</td>\n",
       "                        <td id=\"T_00154_row1_col15\" class=\"data row1 col15\" >0.758391</td>\n",
       "                        <td id=\"T_00154_row1_col16\" class=\"data row1 col16\" >0.728456</td>\n",
       "                        <td id=\"T_00154_row1_col17\" class=\"data row1 col17\" >0.691590</td>\n",
       "                        <td id=\"T_00154_row1_col18\" class=\"data row1 col18\" >0.638082</td>\n",
       "                        <td id=\"T_00154_row1_col19\" class=\"data row1 col19\" >0.540637</td>\n",
       "                        <td id=\"T_00154_row1_col20\" class=\"data row1 col20\" >0.179262</td>\n",
       "            </tr>\n",
       "            <tr>\n",
       "                        <th id=\"T_00154_level0_row2\" class=\"row_heading level0 row2\" >EMD</th>\n",
       "                        <td id=\"T_00154_row2_col0\" class=\"data row2 col0\" >0.823143</td>\n",
       "                        <td id=\"T_00154_row2_col1\" class=\"data row2 col1\" >0.823237</td>\n",
       "                        <td id=\"T_00154_row2_col2\" class=\"data row2 col2\" >0.827385</td>\n",
       "                        <td id=\"T_00154_row2_col3\" class=\"data row2 col3\" >0.835824</td>\n",
       "                        <td id=\"T_00154_row2_col4\" class=\"data row2 col4\" >0.844593</td>\n",
       "                        <td id=\"T_00154_row2_col5\" class=\"data row2 col5\" >0.851428</td>\n",
       "                        <td id=\"T_00154_row2_col6\" class=\"data row2 col6\" >0.857321</td>\n",
       "                        <td id=\"T_00154_row2_col7\" class=\"data row2 col7\" >0.859136</td>\n",
       "                        <td id=\"T_00154_row2_col8\" class=\"data row2 col8\" >0.858217</td>\n",
       "                        <td id=\"T_00154_row2_col9\" class=\"data row2 col9\" >0.854210</td>\n",
       "                        <td id=\"T_00154_row2_col10\" class=\"data row2 col10\" >0.846243</td>\n",
       "                        <td id=\"T_00154_row2_col11\" class=\"data row2 col11\" >0.833773</td>\n",
       "                        <td id=\"T_00154_row2_col12\" class=\"data row2 col12\" >0.818028</td>\n",
       "                        <td id=\"T_00154_row2_col13\" class=\"data row2 col13\" >0.798958</td>\n",
       "                        <td id=\"T_00154_row2_col14\" class=\"data row2 col14\" >0.776471</td>\n",
       "                        <td id=\"T_00154_row2_col15\" class=\"data row2 col15\" >0.752169</td>\n",
       "                        <td id=\"T_00154_row2_col16\" class=\"data row2 col16\" >0.720276</td>\n",
       "                        <td id=\"T_00154_row2_col17\" class=\"data row2 col17\" >0.680865</td>\n",
       "                        <td id=\"T_00154_row2_col18\" class=\"data row2 col18\" >0.622784</td>\n",
       "                        <td id=\"T_00154_row2_col19\" class=\"data row2 col19\" >0.523383</td>\n",
       "                        <td id=\"T_00154_row2_col20\" class=\"data row2 col20\" >0.176857</td>\n",
       "            </tr>\n",
       "            <tr>\n",
       "                        <th id=\"T_00154_level0_row3\" class=\"row_heading level0 row3\" >CHM</th>\n",
       "                        <td id=\"T_00154_row3_col0\" class=\"data row3 col0\" >0.819960</td>\n",
       "                        <td id=\"T_00154_row3_col1\" class=\"data row3 col1\" >0.820031</td>\n",
       "                        <td id=\"T_00154_row3_col2\" class=\"data row3 col2\" >0.822954</td>\n",
       "                        <td id=\"T_00154_row3_col3\" class=\"data row3 col3\" >0.829813</td>\n",
       "                        <td id=\"T_00154_row3_col4\" class=\"data row3 col4\" >0.837003</td>\n",
       "                        <td id=\"T_00154_row3_col5\" class=\"data row3 col5\" >0.844286</td>\n",
       "                        <td id=\"T_00154_row3_col6\" class=\"data row3 col6\" >0.850438</td>\n",
       "                        <td id=\"T_00154_row3_col7\" class=\"data row3 col7\" >0.854799</td>\n",
       "                        <td id=\"T_00154_row3_col8\" class=\"data row3 col8\" >0.856355</td>\n",
       "                        <td id=\"T_00154_row3_col9\" class=\"data row3 col9\" >0.853621</td>\n",
       "                        <td id=\"T_00154_row3_col10\" class=\"data row3 col10\" >0.846243</td>\n",
       "                        <td id=\"T_00154_row3_col11\" class=\"data row3 col11\" >0.835470</td>\n",
       "                        <td id=\"T_00154_row3_col12\" class=\"data row3 col12\" >0.821375</td>\n",
       "                        <td id=\"T_00154_row3_col13\" class=\"data row3 col13\" >0.805393</td>\n",
       "                        <td id=\"T_00154_row3_col14\" class=\"data row3 col14\" >0.786960</td>\n",
       "                        <td id=\"T_00154_row3_col15\" class=\"data row3 col15\" >0.762799</td>\n",
       "                        <td id=\"T_00154_row3_col16\" class=\"data row3 col16\" >0.735126</td>\n",
       "                        <td id=\"T_00154_row3_col17\" class=\"data row3 col17\" >0.698025</td>\n",
       "                        <td id=\"T_00154_row3_col18\" class=\"data row3 col18\" >0.645719</td>\n",
       "                        <td id=\"T_00154_row3_col19\" class=\"data row3 col19\" >0.551268</td>\n",
       "                        <td id=\"T_00154_row3_col20\" class=\"data row3 col20\" >0.180040</td>\n",
       "            </tr>\n",
       "    </tbody></table>"
      ],
      "text/plain": [
       "<pandas.io.formats.style.Styler at 0x7f9b43ce7150>"
      ]
     },
     "execution_count": 11,
     "metadata": {},
     "output_type": "execute_result"
    }
   ],
   "source": [
    "pd.DataFrame(TAnalysis_V).T.style.background_gradient(axis=1)"
   ]
  },
  {
   "cell_type": "code",
   "execution_count": null,
   "id": "9add3ee7-76ea-4ebc-b0cf-2845d8a307f5",
   "metadata": {
    "pycharm": {
     "name": "#%%\n"
    }
   },
   "outputs": [],
   "source": []
  },
  {
   "cell_type": "code",
   "execution_count": 12,
   "id": "447bce2f-51c7-4f1f-a18a-87db34f085c0",
   "metadata": {
    "pycharm": {
     "name": "#%%\n"
    }
   },
   "outputs": [
    {
     "data": {
      "text/html": [
       "<style  type=\"text/css\" >\n",
       "#T_e2361_row0_col9,#T_e2361_row1_col8,#T_e2361_row2_col7,#T_e2361_row3_col8{\n",
       "            background-color:  yellow;\n",
       "        }</style><table id=\"T_e2361_\" ><thead>    <tr>        <th class=\"blank level0\" ></th>        <th class=\"col_heading level0 col0\" >0.0</th>        <th class=\"col_heading level0 col1\" >0.05</th>        <th class=\"col_heading level0 col2\" >0.1</th>        <th class=\"col_heading level0 col3\" >0.15</th>        <th class=\"col_heading level0 col4\" >0.2</th>        <th class=\"col_heading level0 col5\" >0.25</th>        <th class=\"col_heading level0 col6\" >0.3</th>        <th class=\"col_heading level0 col7\" >0.35</th>        <th class=\"col_heading level0 col8\" >0.4</th>        <th class=\"col_heading level0 col9\" >0.45</th>        <th class=\"col_heading level0 col10\" >0.5</th>        <th class=\"col_heading level0 col11\" >0.55</th>        <th class=\"col_heading level0 col12\" >0.6</th>        <th class=\"col_heading level0 col13\" >0.65</th>        <th class=\"col_heading level0 col14\" >0.7</th>        <th class=\"col_heading level0 col15\" >0.75</th>        <th class=\"col_heading level0 col16\" >0.8</th>        <th class=\"col_heading level0 col17\" >0.85</th>        <th class=\"col_heading level0 col18\" >0.9</th>        <th class=\"col_heading level0 col19\" >0.95</th>        <th class=\"col_heading level0 col20\" >1.0</th>    </tr></thead><tbody>\n",
       "                <tr>\n",
       "                        <th id=\"T_e2361_level0_row0\" class=\"row_heading level0 row0\" >ResNet</th>\n",
       "                        <td id=\"T_e2361_row0_col0\" class=\"data row0 col0\" >0.831442</td>\n",
       "                        <td id=\"T_e2361_row0_col1\" class=\"data row0 col1\" >0.831803</td>\n",
       "                        <td id=\"T_e2361_row0_col2\" class=\"data row0 col2\" >0.834301</td>\n",
       "                        <td id=\"T_e2361_row0_col3\" class=\"data row0 col3\" >0.839209</td>\n",
       "                        <td id=\"T_e2361_row0_col4\" class=\"data row0 col4\" >0.844814</td>\n",
       "                        <td id=\"T_e2361_row0_col5\" class=\"data row0 col5\" >0.850014</td>\n",
       "                        <td id=\"T_e2361_row0_col6\" class=\"data row0 col6\" >0.854898</td>\n",
       "                        <td id=\"T_e2361_row0_col7\" class=\"data row0 col7\" >0.858838</td>\n",
       "                        <td id=\"T_e2361_row0_col8\" class=\"data row0 col8\" >0.860954</td>\n",
       "                        <td id=\"T_e2361_row0_col9\" class=\"data row0 col9\" >0.861359</td>\n",
       "                        <td id=\"T_e2361_row0_col10\" class=\"data row0 col10\" >0.858162</td>\n",
       "                        <td id=\"T_e2361_row0_col11\" class=\"data row0 col11\" >0.850734</td>\n",
       "                        <td id=\"T_e2361_row0_col12\" class=\"data row0 col12\" >0.841167</td>\n",
       "                        <td id=\"T_e2361_row0_col13\" class=\"data row0 col13\" >0.830092</td>\n",
       "                        <td id=\"T_e2361_row0_col14\" class=\"data row0 col14\" >0.816968</td>\n",
       "                        <td id=\"T_e2361_row0_col15\" class=\"data row0 col15\" >0.799770</td>\n",
       "                        <td id=\"T_e2361_row0_col16\" class=\"data row0 col16\" >0.778948</td>\n",
       "                        <td id=\"T_e2361_row0_col17\" class=\"data row0 col17\" >0.750180</td>\n",
       "                        <td id=\"T_e2361_row0_col18\" class=\"data row0 col18\" >0.707500</td>\n",
       "                        <td id=\"T_e2361_row0_col19\" class=\"data row0 col19\" >0.630110</td>\n",
       "                        <td id=\"T_e2361_row0_col20\" class=\"data row0 col20\" >0.168558</td>\n",
       "            </tr>\n",
       "            <tr>\n",
       "                        <th id=\"T_e2361_level0_row1\" class=\"row_heading level0 row1\" >KNN</th>\n",
       "                        <td id=\"T_e2361_row1_col0\" class=\"data row1 col0\" >0.821448</td>\n",
       "                        <td id=\"T_e2361_row1_col1\" class=\"data row1 col1\" >0.821583</td>\n",
       "                        <td id=\"T_e2361_row1_col2\" class=\"data row1 col2\" >0.825590</td>\n",
       "                        <td id=\"T_e2361_row1_col3\" class=\"data row1 col3\" >0.833671</td>\n",
       "                        <td id=\"T_e2361_row1_col4\" class=\"data row1 col4\" >0.841910</td>\n",
       "                        <td id=\"T_e2361_row1_col5\" class=\"data row1 col5\" >0.850644</td>\n",
       "                        <td id=\"T_e2361_row1_col6\" class=\"data row1 col6\" >0.855776</td>\n",
       "                        <td id=\"T_e2361_row1_col7\" class=\"data row1 col7\" >0.858703</td>\n",
       "                        <td id=\"T_e2361_row1_col8\" class=\"data row1 col8\" >0.859490</td>\n",
       "                        <td id=\"T_e2361_row1_col9\" class=\"data row1 col9\" >0.855664</td>\n",
       "                        <td id=\"T_e2361_row1_col10\" class=\"data row1 col10\" >0.846840</td>\n",
       "                        <td id=\"T_e2361_row1_col11\" class=\"data row1 col11\" >0.833063</td>\n",
       "                        <td id=\"T_e2361_row1_col12\" class=\"data row1 col12\" >0.820120</td>\n",
       "                        <td id=\"T_e2361_row1_col13\" class=\"data row1 col13\" >0.803620</td>\n",
       "                        <td id=\"T_e2361_row1_col14\" class=\"data row1 col14\" >0.782663</td>\n",
       "                        <td id=\"T_e2361_row1_col15\" class=\"data row1 col15\" >0.758576</td>\n",
       "                        <td id=\"T_e2361_row1_col16\" class=\"data row1 col16\" >0.728728</td>\n",
       "                        <td id=\"T_e2361_row1_col17\" class=\"data row1 col17\" >0.691676</td>\n",
       "                        <td id=\"T_e2361_row1_col18\" class=\"data row1 col18\" >0.638033</td>\n",
       "                        <td id=\"T_e2361_row1_col19\" class=\"data row1 col19\" >0.540294</td>\n",
       "                        <td id=\"T_e2361_row1_col20\" class=\"data row1 col20\" >0.178552</td>\n",
       "            </tr>\n",
       "            <tr>\n",
       "                        <th id=\"T_e2361_level0_row2\" class=\"row_heading level0 row2\" >EMD</th>\n",
       "                        <td id=\"T_e2361_row2_col0\" class=\"data row2 col0\" >0.823901</td>\n",
       "                        <td id=\"T_e2361_row2_col1\" class=\"data row2 col1\" >0.823992</td>\n",
       "                        <td id=\"T_e2361_row2_col2\" class=\"data row2 col2\" >0.828201</td>\n",
       "                        <td id=\"T_e2361_row2_col3\" class=\"data row2 col3\" >0.836507</td>\n",
       "                        <td id=\"T_e2361_row2_col4\" class=\"data row2 col4\" >0.845264</td>\n",
       "                        <td id=\"T_e2361_row2_col5\" class=\"data row2 col5\" >0.852107</td>\n",
       "                        <td id=\"T_e2361_row2_col6\" class=\"data row2 col6\" >0.858027</td>\n",
       "                        <td id=\"T_e2361_row2_col7\" class=\"data row2 col7\" >0.860053</td>\n",
       "                        <td id=\"T_e2361_row2_col8\" class=\"data row2 col8\" >0.858995</td>\n",
       "                        <td id=\"T_e2361_row2_col9\" class=\"data row2 col9\" >0.854943</td>\n",
       "                        <td id=\"T_e2361_row2_col10\" class=\"data row2 col10\" >0.846412</td>\n",
       "                        <td id=\"T_e2361_row2_col11\" class=\"data row2 col11\" >0.833671</td>\n",
       "                        <td id=\"T_e2361_row2_col12\" class=\"data row2 col12\" >0.818364</td>\n",
       "                        <td id=\"T_e2361_row2_col13\" class=\"data row2 col13\" >0.799140</td>\n",
       "                        <td id=\"T_e2361_row2_col14\" class=\"data row2 col14\" >0.776382</td>\n",
       "                        <td id=\"T_e2361_row2_col15\" class=\"data row2 col15\" >0.751666</td>\n",
       "                        <td id=\"T_e2361_row2_col16\" class=\"data row2 col16\" >0.719836</td>\n",
       "                        <td id=\"T_e2361_row2_col17\" class=\"data row2 col17\" >0.680240</td>\n",
       "                        <td id=\"T_e2361_row2_col18\" class=\"data row2 col18\" >0.622321</td>\n",
       "                        <td id=\"T_e2361_row2_col19\" class=\"data row2 col19\" >0.522735</td>\n",
       "                        <td id=\"T_e2361_row2_col20\" class=\"data row2 col20\" >0.176099</td>\n",
       "            </tr>\n",
       "            <tr>\n",
       "                        <th id=\"T_e2361_level0_row3\" class=\"row_heading level0 row3\" >CHM</th>\n",
       "                        <td id=\"T_e2361_row3_col0\" class=\"data row3 col0\" >0.820502</td>\n",
       "                        <td id=\"T_e2361_row3_col1\" class=\"data row3 col1\" >0.820570</td>\n",
       "                        <td id=\"T_e2361_row3_col2\" class=\"data row3 col2\" >0.823676</td>\n",
       "                        <td id=\"T_e2361_row3_col3\" class=\"data row3 col3\" >0.830475</td>\n",
       "                        <td id=\"T_e2361_row3_col4\" class=\"data row3 col4\" >0.837925</td>\n",
       "                        <td id=\"T_e2361_row3_col5\" class=\"data row3 col5\" >0.845039</td>\n",
       "                        <td id=\"T_e2361_row3_col6\" class=\"data row3 col6\" >0.851184</td>\n",
       "                        <td id=\"T_e2361_row3_col7\" class=\"data row3 col7\" >0.855416</td>\n",
       "                        <td id=\"T_e2361_row3_col8\" class=\"data row3 col8\" >0.856654</td>\n",
       "                        <td id=\"T_e2361_row3_col9\" class=\"data row3 col9\" >0.854313</td>\n",
       "                        <td id=\"T_e2361_row3_col10\" class=\"data row3 col10\" >0.846907</td>\n",
       "                        <td id=\"T_e2361_row3_col11\" class=\"data row3 col11\" >0.836192</td>\n",
       "                        <td id=\"T_e2361_row3_col12\" class=\"data row3 col12\" >0.821943</td>\n",
       "                        <td id=\"T_e2361_row3_col13\" class=\"data row3 col13\" >0.805983</td>\n",
       "                        <td id=\"T_e2361_row3_col14\" class=\"data row3 col14\" >0.787345</td>\n",
       "                        <td id=\"T_e2361_row3_col15\" class=\"data row3 col15\" >0.763371</td>\n",
       "                        <td id=\"T_e2361_row3_col16\" class=\"data row3 col16\" >0.735909</td>\n",
       "                        <td id=\"T_e2361_row3_col17\" class=\"data row3 col17\" >0.698496</td>\n",
       "                        <td id=\"T_e2361_row3_col18\" class=\"data row3 col18\" >0.645935</td>\n",
       "                        <td id=\"T_e2361_row3_col19\" class=\"data row3 col19\" >0.551324</td>\n",
       "                        <td id=\"T_e2361_row3_col20\" class=\"data row3 col20\" >0.179498</td>\n",
       "            </tr>\n",
       "    </tbody></table>"
      ],
      "text/plain": [
       "<pandas.io.formats.style.Styler at 0x7f9b43c83790>"
      ]
     },
     "execution_count": 12,
     "metadata": {},
     "output_type": "execute_result"
    }
   ],
   "source": [
    "# Full 44K\n",
    "pd.DataFrame(TAnalysis).T.style.highlight_max(color = 'yellow', axis = 1)"
   ]
  },
  {
   "cell_type": "code",
   "execution_count": 13,
   "id": "b54cefa1-7ef2-4811-a6b4-d76b7556e393",
   "metadata": {
    "pycharm": {
     "name": "#%%\n"
    }
   },
   "outputs": [
    {
     "data": {
      "text/html": [
       "<style  type=\"text/css\" >\n",
       "#T_74dee_row0_col8,#T_74dee_row1_col8,#T_74dee_row2_col7,#T_74dee_row3_col9{\n",
       "            background-color:  yellow;\n",
       "        }</style><table id=\"T_74dee_\" ><thead>    <tr>        <th class=\"blank level0\" ></th>        <th class=\"col_heading level0 col0\" >0.0</th>        <th class=\"col_heading level0 col1\" >0.05</th>        <th class=\"col_heading level0 col2\" >0.1</th>        <th class=\"col_heading level0 col3\" >0.15</th>        <th class=\"col_heading level0 col4\" >0.2</th>        <th class=\"col_heading level0 col5\" >0.25</th>        <th class=\"col_heading level0 col6\" >0.3</th>        <th class=\"col_heading level0 col7\" >0.35</th>        <th class=\"col_heading level0 col8\" >0.4</th>        <th class=\"col_heading level0 col9\" >0.45</th>        <th class=\"col_heading level0 col10\" >0.5</th>        <th class=\"col_heading level0 col11\" >0.55</th>        <th class=\"col_heading level0 col12\" >0.6</th>        <th class=\"col_heading level0 col13\" >0.65</th>        <th class=\"col_heading level0 col14\" >0.7</th>        <th class=\"col_heading level0 col15\" >0.75</th>        <th class=\"col_heading level0 col16\" >0.8</th>        <th class=\"col_heading level0 col17\" >0.85</th>        <th class=\"col_heading level0 col18\" >0.9</th>        <th class=\"col_heading level0 col19\" >0.95</th>        <th class=\"col_heading level0 col20\" >1.0</th>    </tr></thead><tbody>\n",
       "                <tr>\n",
       "                        <th id=\"T_74dee_level0_row0\" class=\"row_heading level0 row0\" >ResNet</th>\n",
       "                        <td id=\"T_74dee_row0_col0\" class=\"data row0 col0\" >0.832000</td>\n",
       "                        <td id=\"T_74dee_row0_col1\" class=\"data row0 col1\" >0.832000</td>\n",
       "                        <td id=\"T_74dee_row0_col2\" class=\"data row0 col2\" >0.830500</td>\n",
       "                        <td id=\"T_74dee_row0_col3\" class=\"data row0 col3\" >0.838500</td>\n",
       "                        <td id=\"T_74dee_row0_col4\" class=\"data row0 col4\" >0.846000</td>\n",
       "                        <td id=\"T_74dee_row0_col5\" class=\"data row0 col5\" >0.852500</td>\n",
       "                        <td id=\"T_74dee_row0_col6\" class=\"data row0 col6\" >0.857000</td>\n",
       "                        <td id=\"T_74dee_row0_col7\" class=\"data row0 col7\" >0.863000</td>\n",
       "                        <td id=\"T_74dee_row0_col8\" class=\"data row0 col8\" >0.870500</td>\n",
       "                        <td id=\"T_74dee_row0_col9\" class=\"data row0 col9\" >0.868500</td>\n",
       "                        <td id=\"T_74dee_row0_col10\" class=\"data row0 col10\" >0.858000</td>\n",
       "                        <td id=\"T_74dee_row0_col11\" class=\"data row0 col11\" >0.850000</td>\n",
       "                        <td id=\"T_74dee_row0_col12\" class=\"data row0 col12\" >0.841500</td>\n",
       "                        <td id=\"T_74dee_row0_col13\" class=\"data row0 col13\" >0.826000</td>\n",
       "                        <td id=\"T_74dee_row0_col14\" class=\"data row0 col14\" >0.817000</td>\n",
       "                        <td id=\"T_74dee_row0_col15\" class=\"data row0 col15\" >0.794000</td>\n",
       "                        <td id=\"T_74dee_row0_col16\" class=\"data row0 col16\" >0.766500</td>\n",
       "                        <td id=\"T_74dee_row0_col17\" class=\"data row0 col17\" >0.743500</td>\n",
       "                        <td id=\"T_74dee_row0_col18\" class=\"data row0 col18\" >0.693000</td>\n",
       "                        <td id=\"T_74dee_row0_col19\" class=\"data row0 col19\" >0.610500</td>\n",
       "                        <td id=\"T_74dee_row0_col20\" class=\"data row0 col20\" >0.168000</td>\n",
       "            </tr>\n",
       "            <tr>\n",
       "                        <th id=\"T_74dee_level0_row1\" class=\"row_heading level0 row1\" >KNN</th>\n",
       "                        <td id=\"T_74dee_row1_col0\" class=\"data row1 col0\" >0.836500</td>\n",
       "                        <td id=\"T_74dee_row1_col1\" class=\"data row1 col1\" >0.837500</td>\n",
       "                        <td id=\"T_74dee_row1_col2\" class=\"data row1 col2\" >0.840500</td>\n",
       "                        <td id=\"T_74dee_row1_col3\" class=\"data row1 col3\" >0.847000</td>\n",
       "                        <td id=\"T_74dee_row1_col4\" class=\"data row1 col4\" >0.849500</td>\n",
       "                        <td id=\"T_74dee_row1_col5\" class=\"data row1 col5\" >0.854000</td>\n",
       "                        <td id=\"T_74dee_row1_col6\" class=\"data row1 col6\" >0.856000</td>\n",
       "                        <td id=\"T_74dee_row1_col7\" class=\"data row1 col7\" >0.859500</td>\n",
       "                        <td id=\"T_74dee_row1_col8\" class=\"data row1 col8\" >0.860000</td>\n",
       "                        <td id=\"T_74dee_row1_col9\" class=\"data row1 col9\" >0.855000</td>\n",
       "                        <td id=\"T_74dee_row1_col10\" class=\"data row1 col10\" >0.848000</td>\n",
       "                        <td id=\"T_74dee_row1_col11\" class=\"data row1 col11\" >0.833000</td>\n",
       "                        <td id=\"T_74dee_row1_col12\" class=\"data row1 col12\" >0.825500</td>\n",
       "                        <td id=\"T_74dee_row1_col13\" class=\"data row1 col13\" >0.808000</td>\n",
       "                        <td id=\"T_74dee_row1_col14\" class=\"data row1 col14\" >0.784500</td>\n",
       "                        <td id=\"T_74dee_row1_col15\" class=\"data row1 col15\" >0.762500</td>\n",
       "                        <td id=\"T_74dee_row1_col16\" class=\"data row1 col16\" >0.734500</td>\n",
       "                        <td id=\"T_74dee_row1_col17\" class=\"data row1 col17\" >0.693500</td>\n",
       "                        <td id=\"T_74dee_row1_col18\" class=\"data row1 col18\" >0.637000</td>\n",
       "                        <td id=\"T_74dee_row1_col19\" class=\"data row1 col19\" >0.533000</td>\n",
       "                        <td id=\"T_74dee_row1_col20\" class=\"data row1 col20\" >0.163500</td>\n",
       "            </tr>\n",
       "            <tr>\n",
       "                        <th id=\"T_74dee_level0_row2\" class=\"row_heading level0 row2\" >EMD</th>\n",
       "                        <td id=\"T_74dee_row2_col0\" class=\"data row2 col0\" >0.840000</td>\n",
       "                        <td id=\"T_74dee_row2_col1\" class=\"data row2 col1\" >0.840000</td>\n",
       "                        <td id=\"T_74dee_row2_col2\" class=\"data row2 col2\" >0.845500</td>\n",
       "                        <td id=\"T_74dee_row2_col3\" class=\"data row2 col3\" >0.851000</td>\n",
       "                        <td id=\"T_74dee_row2_col4\" class=\"data row2 col4\" >0.859500</td>\n",
       "                        <td id=\"T_74dee_row2_col5\" class=\"data row2 col5\" >0.866500</td>\n",
       "                        <td id=\"T_74dee_row2_col6\" class=\"data row2 col6\" >0.873000</td>\n",
       "                        <td id=\"T_74dee_row2_col7\" class=\"data row2 col7\" >0.879500</td>\n",
       "                        <td id=\"T_74dee_row2_col8\" class=\"data row2 col8\" >0.875500</td>\n",
       "                        <td id=\"T_74dee_row2_col9\" class=\"data row2 col9\" >0.870500</td>\n",
       "                        <td id=\"T_74dee_row2_col10\" class=\"data row2 col10\" >0.850000</td>\n",
       "                        <td id=\"T_74dee_row2_col11\" class=\"data row2 col11\" >0.831500</td>\n",
       "                        <td id=\"T_74dee_row2_col12\" class=\"data row2 col12\" >0.825500</td>\n",
       "                        <td id=\"T_74dee_row2_col13\" class=\"data row2 col13\" >0.803000</td>\n",
       "                        <td id=\"T_74dee_row2_col14\" class=\"data row2 col14\" >0.774500</td>\n",
       "                        <td id=\"T_74dee_row2_col15\" class=\"data row2 col15\" >0.741000</td>\n",
       "                        <td id=\"T_74dee_row2_col16\" class=\"data row2 col16\" >0.710500</td>\n",
       "                        <td id=\"T_74dee_row2_col17\" class=\"data row2 col17\" >0.667000</td>\n",
       "                        <td id=\"T_74dee_row2_col18\" class=\"data row2 col18\" >0.612500</td>\n",
       "                        <td id=\"T_74dee_row2_col19\" class=\"data row2 col19\" >0.509000</td>\n",
       "                        <td id=\"T_74dee_row2_col20\" class=\"data row2 col20\" >0.160000</td>\n",
       "            </tr>\n",
       "            <tr>\n",
       "                        <th id=\"T_74dee_level0_row3\" class=\"row_heading level0 row3\" >CHM</th>\n",
       "                        <td id=\"T_74dee_row3_col0\" class=\"data row3 col0\" >0.832000</td>\n",
       "                        <td id=\"T_74dee_row3_col1\" class=\"data row3 col1\" >0.832000</td>\n",
       "                        <td id=\"T_74dee_row3_col2\" class=\"data row3 col2\" >0.839000</td>\n",
       "                        <td id=\"T_74dee_row3_col3\" class=\"data row3 col3\" >0.844500</td>\n",
       "                        <td id=\"T_74dee_row3_col4\" class=\"data row3 col4\" >0.857500</td>\n",
       "                        <td id=\"T_74dee_row3_col5\" class=\"data row3 col5\" >0.861000</td>\n",
       "                        <td id=\"T_74dee_row3_col6\" class=\"data row3 col6\" >0.867000</td>\n",
       "                        <td id=\"T_74dee_row3_col7\" class=\"data row3 col7\" >0.868500</td>\n",
       "                        <td id=\"T_74dee_row3_col8\" class=\"data row3 col8\" >0.863000</td>\n",
       "                        <td id=\"T_74dee_row3_col9\" class=\"data row3 col9\" >0.869000</td>\n",
       "                        <td id=\"T_74dee_row3_col10\" class=\"data row3 col10\" >0.861000</td>\n",
       "                        <td id=\"T_74dee_row3_col11\" class=\"data row3 col11\" >0.851500</td>\n",
       "                        <td id=\"T_74dee_row3_col12\" class=\"data row3 col12\" >0.834000</td>\n",
       "                        <td id=\"T_74dee_row3_col13\" class=\"data row3 col13\" >0.818500</td>\n",
       "                        <td id=\"T_74dee_row3_col14\" class=\"data row3 col14\" >0.795500</td>\n",
       "                        <td id=\"T_74dee_row3_col15\" class=\"data row3 col15\" >0.775500</td>\n",
       "                        <td id=\"T_74dee_row3_col16\" class=\"data row3 col16\" >0.752500</td>\n",
       "                        <td id=\"T_74dee_row3_col17\" class=\"data row3 col17\" >0.708500</td>\n",
       "                        <td id=\"T_74dee_row3_col18\" class=\"data row3 col18\" >0.650500</td>\n",
       "                        <td id=\"T_74dee_row3_col19\" class=\"data row3 col19\" >0.552500</td>\n",
       "                        <td id=\"T_74dee_row3_col20\" class=\"data row3 col20\" >0.168000</td>\n",
       "            </tr>\n",
       "    </tbody></table>"
      ],
      "text/plain": [
       "<pandas.io.formats.style.Styler at 0x7f9b43f9f150>"
      ]
     },
     "execution_count": 13,
     "metadata": {},
     "output_type": "execute_result"
    }
   ],
   "source": [
    "# 2K Fine-tuning\n",
    "pd.DataFrame(TAnalysis_T).T.style.highlight_max(color = 'yellow', axis = 1)"
   ]
  },
  {
   "cell_type": "code",
   "execution_count": 26,
   "id": "c47f0b49-4a4a-4926-ab65-ff717ea6fd3c",
   "metadata": {
    "pycharm": {
     "name": "#%%\n"
    }
   },
   "outputs": [
    {
     "data": {
      "text/html": [
       "<div>\n",
       "<style scoped>\n",
       "    .dataframe tbody tr th:only-of-type {\n",
       "        vertical-align: middle;\n",
       "    }\n",
       "\n",
       "    .dataframe tbody tr th {\n",
       "        vertical-align: top;\n",
       "    }\n",
       "\n",
       "    .dataframe thead th {\n",
       "        text-align: right;\n",
       "    }\n",
       "</style>\n",
       "<table border=\"1\" class=\"dataframe\">\n",
       "  <thead>\n",
       "    <tr style=\"text-align: right;\">\n",
       "      <th></th>\n",
       "      <th>0.35</th>\n",
       "      <th>0.40</th>\n",
       "      <th>0.45</th>\n",
       "    </tr>\n",
       "  </thead>\n",
       "  <tbody>\n",
       "    <tr>\n",
       "      <th>ResNet</th>\n",
       "      <td>85.864134</td>\n",
       "      <td>86.050349</td>\n",
       "      <td>86.102206</td>\n",
       "    </tr>\n",
       "    <tr>\n",
       "      <th>KNN</th>\n",
       "      <td>85.866491</td>\n",
       "      <td>85.946634</td>\n",
       "      <td>85.569489</td>\n",
       "    </tr>\n",
       "    <tr>\n",
       "      <th>EMD</th>\n",
       "      <td>85.913634</td>\n",
       "      <td>85.821705</td>\n",
       "      <td>85.420988</td>\n",
       "    </tr>\n",
       "    <tr>\n",
       "      <th>CHM</th>\n",
       "      <td>85.479917</td>\n",
       "      <td>85.635489</td>\n",
       "      <td>85.362059</td>\n",
       "    </tr>\n",
       "  </tbody>\n",
       "</table>\n",
       "</div>"
      ],
      "text/plain": [
       "             0.35       0.40       0.45\n",
       "ResNet  85.864134  86.050349  86.102206\n",
       "KNN     85.866491  85.946634  85.569489\n",
       "EMD     85.913634  85.821705  85.420988\n",
       "CHM     85.479917  85.635489  85.362059"
      ]
     },
     "execution_count": 26,
     "metadata": {},
     "output_type": "execute_result"
    }
   ],
   "source": [
    "# 42K Test\n",
    "pd.DataFrame(TAnalysis_V).T.loc[:, 0.35:0.45]*100"
   ]
  },
  {
   "cell_type": "markdown",
   "id": "78e4ee6f-6e95-46eb-9089-3de3df4e67b7",
   "metadata": {
    "pycharm": {
     "name": "#%% md\n"
    }
   },
   "source": [
    "# RESULTS for ImageNet\n",
    "\n",
    "* ResNet  ``86.050349``\n",
    "* KNN     ``85.946634``\n",
    "* EMD     `85.913634`\n",
    "* CHM     ``85.362059``"
   ]
  },
  {
   "cell_type": "markdown",
   "id": "0f7c16d1-817d-473d-aeb0-ad393f87379e",
   "metadata": {
    "pycharm": {
     "name": "#%% md\n"
    }
   },
   "source": [
    "# CUB\n",
    "##  Load summary fo AI Performance"
   ]
  },
  {
   "cell_type": "code",
   "execution_count": 15,
   "id": "7e3eb563-0bc0-48e5-9ac0-bb27ee656d98",
   "metadata": {
    "pycharm": {
     "name": "#%%\n"
    }
   },
   "outputs": [],
   "source": [
    "random.seed(42)\n",
    "\n",
    "with open('../data/Classification-Summary-CUB.pickle', 'rb') as f:\n",
    "  classification_summary_cub = pickle.load(f)"
   ]
  },
  {
   "cell_type": "code",
   "execution_count": 16,
   "id": "c1fd2f12-83d9-48c4-b91a-84ce812cdebd",
   "metadata": {
    "pycharm": {
     "name": "#%%\n"
    }
   },
   "outputs": [
    {
     "data": {
      "text/plain": [
       "dict_keys(['GT', 'resnet_pred', 'knn_pred', 'emd_pred', 'chm_pred', 'resnet_wnid', 'knn_wnid', 'emd_wnid', 'chm_wnid', 'resnet_conf', 'knn_conf', 'emd_conf', 'chm_conf'])"
      ]
     },
     "execution_count": 16,
     "metadata": {},
     "output_type": "execute_result"
    }
   ],
   "source": [
    "classification_summary_cub.keys()"
   ]
  },
  {
   "cell_type": "markdown",
   "id": "baded946-7ac2-4965-a44a-96b9b913addc",
   "metadata": {
    "pycharm": {
     "name": "#%% md\n"
    }
   },
   "source": [
    "### Unpacking "
   ]
  },
  {
   "cell_type": "code",
   "execution_count": 17,
   "id": "b80bf85d-2d73-41f7-a138-b16f61e9587f",
   "metadata": {
    "pycharm": {
     "name": "#%%\n"
    }
   },
   "outputs": [],
   "source": [
    "GT_CUB     = classification_summary_cub['GT']\n",
    "\n",
    "M1Prediction_CUB = classification_summary_cub['resnet_pred']\n",
    "M2Prediction_CUB = classification_summary_cub['knn_pred']   \n",
    "M3Prediction_CUB = classification_summary_cub['emd_pred']   \n",
    "M4Prediction_CUB = classification_summary_cub['chm_pred']   \n",
    "   \n",
    "IsM1Correct_CUB = classification_summary_cub['resnet_wnid']\n",
    "IsM2Correct_CUB = classification_summary_cub['knn_wnid']   \n",
    "IsM3Correct_CUB = classification_summary_cub['emd_wnid']   \n",
    "IsM4Correct_CUB = classification_summary_cub['chm_wnid']   \n",
    "\n",
    "M1Conf_CUB = classification_summary_cub['resnet_conf'] \n",
    "M2Conf_CUB = classification_summary_cub['knn_conf']    \n",
    "M3Conf_CUB = classification_summary_cub['emd_conf']    \n",
    "M4Conf_CUB = classification_summary_cub['chm_conf']    "
   ]
  },
  {
   "cell_type": "code",
   "execution_count": 18,
   "id": "6a9a7c06-7cf9-483b-9365-d60e084d1a33",
   "metadata": {
    "pycharm": {
     "name": "#%%\n"
    }
   },
   "outputs": [
    {
     "name": "stderr",
     "output_type": "stream",
     "text": [
      "100%|██████████| 21/21 [00:00<00:00, 173.04it/s]\n",
      "100%|██████████| 21/21 [00:00<00:00, 172.87it/s]\n",
      "100%|██████████| 21/21 [00:00<00:00, 118.55it/s]\n",
      "100%|██████████| 21/21 [00:00<00:00, 176.03it/s]\n"
     ]
    }
   ],
   "source": [
    "MethodName_CUB = ['ResNet', 'KNN', 'EMD', 'CHM']\n",
    "Methods_CUB    = [IsM1Correct_CUB, IsM2Correct_CUB, IsM3Correct_CUB, IsM4Correct_CUB]\n",
    "Confs_CUB      = [M1Conf_CUB, M2Conf_CUB, M3Conf_CUB,M4Conf_CUB]\n",
    "\n",
    "TAnalysis_CUB = {}\n",
    "\n",
    "for N, M, C in zip(MethodName_CUB, Methods_CUB, Confs_CUB):\n",
    "  TAnalysis_CUB[N] = {}\n",
    "  for T in tqdm(np.arange(0., 1.05, 0.05)):\n",
    "    TAnalysis_CUB[N][round(T, 2)] = np.average([x[0] == (x[1]>T) for x in zip(M, C)])"
   ]
  },
  {
   "cell_type": "markdown",
   "id": "00c437a2-7244-4ae8-9a49-340be2abf136",
   "metadata": {
    "pycharm": {
     "name": "#%% md\n"
    }
   },
   "source": [
    "## Fine-tune on 1K, Test on 4K"
   ]
  },
  {
   "cell_type": "code",
   "execution_count": 19,
   "id": "4948d9c6-3035-4aaf-8d42-b948c8101362",
   "metadata": {
    "pycharm": {
     "name": "#%%\n"
    }
   },
   "outputs": [],
   "source": [
    "def split_data_1k_4k(a, b):\n",
    "  zipped = list(zip(a, b))\n",
    "  random.shuffle(zipped)\n",
    "  ra, rb = zip(*zipped)\n",
    "  return ra[:1000], rb[:1000],  ra[1000:], rb[1000:]"
   ]
  },
  {
   "cell_type": "code",
   "execution_count": 20,
   "id": "dd581fe1-68ec-4f0b-bc70-9f6dc860959a",
   "metadata": {
    "pycharm": {
     "name": "#%%\n"
    }
   },
   "outputs": [
    {
     "name": "stderr",
     "output_type": "stream",
     "text": [
      "100%|██████████| 21/21 [00:00<00:00, 973.96it/s]\n",
      "100%|██████████| 21/21 [00:00<00:00, 955.64it/s]\n",
      "100%|██████████| 21/21 [00:00<00:00, 663.34it/s]\n",
      "100%|██████████| 21/21 [00:00<00:00, 974.41it/s]\n"
     ]
    }
   ],
   "source": [
    "MethodName_CUB = ['ResNet', 'KNN', 'EMD', 'CHM']\n",
    "\n",
    "IsM1Correct_T_CUB, M1Conf_T_CUB, IsM1Correct_V_CUB, M1Conf_V_CUB = split_data_1k_4k(IsM1Correct_CUB, M1Conf_CUB)\n",
    "IsM2Correct_T_CUB, M2Conf_T_CUB, IsM2Correct_V_CUB, M2Conf_V_CUB = split_data_1k_4k(IsM2Correct_CUB, M2Conf_CUB)\n",
    "IsM3Correct_T_CUB, M3Conf_T_CUB, IsM3Correct_V_CUB, M3Conf_V_CUB = split_data_1k_4k(IsM3Correct_CUB, M3Conf_CUB)\n",
    "IsM4Correct_T_CUB, M4Conf_T_CUB, IsM4Correct_V_CUB, M4Conf_V_CUB = split_data_1k_4k(IsM4Correct_CUB, M4Conf_CUB)\n",
    "\n",
    "Methods_T_CUB = [IsM1Correct_T_CUB, IsM2Correct_T_CUB, IsM3Correct_T_CUB, IsM4Correct_T_CUB]\n",
    "Confs_T_CUB   = [M1Conf_T_CUB, M2Conf_T_CUB, M3Conf_T_CUB, M4Conf_T_CUB]\n",
    "\n",
    "TAnalysis_T_CUB = {}\n",
    "\n",
    "for N, M, C in zip(MethodName_CUB, Methods_T_CUB, Confs_T_CUB):\n",
    "  TAnalysis_T_CUB[N] = {}\n",
    "  for T in tqdm(np.arange(0., 1.05, 0.05)):\n",
    "    TAnalysis_T_CUB[N][round(T, 2)] = np.average([x[0] == (x[1]>T) for x in zip(M, C)])"
   ]
  },
  {
   "cell_type": "code",
   "execution_count": 21,
   "id": "1c396233-3d9e-4cc5-aacc-c905503bc4f1",
   "metadata": {
    "pycharm": {
     "name": "#%%\n"
    }
   },
   "outputs": [
    {
     "name": "stderr",
     "output_type": "stream",
     "text": [
      "100%|██████████| 21/21 [00:00<00:00, 207.70it/s]\n",
      "100%|██████████| 21/21 [00:00<00:00, 211.82it/s]\n",
      "100%|██████████| 21/21 [00:00<00:00, 144.25it/s]\n",
      "100%|██████████| 21/21 [00:00<00:00, 209.66it/s]\n"
     ]
    }
   ],
   "source": [
    "Methods_V_CUB = [IsM1Correct_V_CUB, IsM2Correct_V_CUB, IsM3Correct_V_CUB, IsM4Correct_V_CUB]\n",
    "Confs_V_CUB   = [M1Conf_V_CUB, M2Conf_V_CUB, M3Conf_V_CUB, M4Conf_V_CUB]\n",
    "\n",
    "TAnalysis_V_CUB = {}\n",
    "\n",
    "for N, M, C in zip(MethodName_CUB, Methods_V_CUB, Confs_V_CUB):\n",
    "  TAnalysis_V_CUB[N] = {}\n",
    "  for T in tqdm(np.arange(0., 1.05, 0.05)):\n",
    "    TAnalysis_V_CUB[N][round(T, 2)] = np.average([x[0] == (x[1]>T) for x in zip(M, C)])"
   ]
  },
  {
   "cell_type": "code",
   "execution_count": 22,
   "id": "5b9c705d-f6b6-4c2c-920a-d49f96c5b71d",
   "metadata": {
    "pycharm": {
     "name": "#%%\n"
    }
   },
   "outputs": [
    {
     "data": {
      "text/html": [
       "<style  type=\"text/css\" >\n",
       "#T_bff7a_row0_col11,#T_bff7a_row1_col8,#T_bff7a_row2_col7,#T_bff7a_row3_col8{\n",
       "            background-color:  yellow;\n",
       "        }</style><table id=\"T_bff7a_\" ><thead>    <tr>        <th class=\"blank level0\" ></th>        <th class=\"col_heading level0 col0\" >0.0</th>        <th class=\"col_heading level0 col1\" >0.05</th>        <th class=\"col_heading level0 col2\" >0.1</th>        <th class=\"col_heading level0 col3\" >0.15</th>        <th class=\"col_heading level0 col4\" >0.2</th>        <th class=\"col_heading level0 col5\" >0.25</th>        <th class=\"col_heading level0 col6\" >0.3</th>        <th class=\"col_heading level0 col7\" >0.35</th>        <th class=\"col_heading level0 col8\" >0.4</th>        <th class=\"col_heading level0 col9\" >0.45</th>        <th class=\"col_heading level0 col10\" >0.5</th>        <th class=\"col_heading level0 col11\" >0.55</th>        <th class=\"col_heading level0 col12\" >0.6</th>        <th class=\"col_heading level0 col13\" >0.65</th>        <th class=\"col_heading level0 col14\" >0.7</th>        <th class=\"col_heading level0 col15\" >0.75</th>        <th class=\"col_heading level0 col16\" >0.8</th>        <th class=\"col_heading level0 col17\" >0.85</th>        <th class=\"col_heading level0 col18\" >0.9</th>        <th class=\"col_heading level0 col19\" >0.95</th>        <th class=\"col_heading level0 col20\" >1.0</th>    </tr></thead><tbody>\n",
       "                <tr>\n",
       "                        <th id=\"T_bff7a_level0_row0\" class=\"row_heading level0 row0\" >ResNet</th>\n",
       "                        <td id=\"T_bff7a_row0_col0\" class=\"data row0 col0\" >0.858302</td>\n",
       "                        <td id=\"T_bff7a_row0_col1\" class=\"data row0 col1\" >0.858302</td>\n",
       "                        <td id=\"T_bff7a_row0_col2\" class=\"data row0 col2\" >0.858302</td>\n",
       "                        <td id=\"T_bff7a_row0_col3\" class=\"data row0 col3\" >0.858474</td>\n",
       "                        <td id=\"T_bff7a_row0_col4\" class=\"data row0 col4\" >0.859510</td>\n",
       "                        <td id=\"T_bff7a_row0_col5\" class=\"data row0 col5\" >0.860200</td>\n",
       "                        <td id=\"T_bff7a_row0_col6\" class=\"data row0 col6\" >0.862962</td>\n",
       "                        <td id=\"T_bff7a_row0_col7\" class=\"data row0 col7\" >0.866068</td>\n",
       "                        <td id=\"T_bff7a_row0_col8\" class=\"data row0 col8\" >0.870211</td>\n",
       "                        <td id=\"T_bff7a_row0_col9\" class=\"data row0 col9\" >0.871936</td>\n",
       "                        <td id=\"T_bff7a_row0_col10\" class=\"data row0 col10\" >0.873835</td>\n",
       "                        <td id=\"T_bff7a_row0_col11\" class=\"data row0 col11\" >0.876424</td>\n",
       "                        <td id=\"T_bff7a_row0_col12\" class=\"data row0 col12\" >0.873835</td>\n",
       "                        <td id=\"T_bff7a_row0_col13\" class=\"data row0 col13\" >0.874525</td>\n",
       "                        <td id=\"T_bff7a_row0_col14\" class=\"data row0 col14\" >0.866759</td>\n",
       "                        <td id=\"T_bff7a_row0_col15\" class=\"data row0 col15\" >0.856921</td>\n",
       "                        <td id=\"T_bff7a_row0_col16\" class=\"data row0 col16\" >0.845530</td>\n",
       "                        <td id=\"T_bff7a_row0_col17\" class=\"data row0 col17\" >0.829134</td>\n",
       "                        <td id=\"T_bff7a_row0_col18\" class=\"data row0 col18\" >0.799965</td>\n",
       "                        <td id=\"T_bff7a_row0_col19\" class=\"data row0 col19\" >0.724197</td>\n",
       "                        <td id=\"T_bff7a_row0_col20\" class=\"data row0 col20\" >0.141698</td>\n",
       "            </tr>\n",
       "            <tr>\n",
       "                        <th id=\"T_bff7a_level0_row1\" class=\"row_heading level0 row1\" >KNN</th>\n",
       "                        <td id=\"T_bff7a_row1_col0\" class=\"data row1 col0\" >0.854677</td>\n",
       "                        <td id=\"T_bff7a_row1_col1\" class=\"data row1 col1\" >0.854677</td>\n",
       "                        <td id=\"T_bff7a_row1_col2\" class=\"data row1 col2\" >0.854850</td>\n",
       "                        <td id=\"T_bff7a_row1_col3\" class=\"data row1 col3\" >0.856058</td>\n",
       "                        <td id=\"T_bff7a_row1_col4\" class=\"data row1 col4\" >0.857784</td>\n",
       "                        <td id=\"T_bff7a_row1_col5\" class=\"data row1 col5\" >0.862962</td>\n",
       "                        <td id=\"T_bff7a_row1_col6\" class=\"data row1 col6\" >0.868139</td>\n",
       "                        <td id=\"T_bff7a_row1_col7\" class=\"data row1 col7\" >0.876769</td>\n",
       "                        <td id=\"T_bff7a_row1_col8\" class=\"data row1 col8\" >0.876942</td>\n",
       "                        <td id=\"T_bff7a_row1_col9\" class=\"data row1 col9\" >0.874180</td>\n",
       "                        <td id=\"T_bff7a_row1_col10\" class=\"data row1 col10\" >0.857784</td>\n",
       "                        <td id=\"T_bff7a_row1_col11\" class=\"data row1 col11\" >0.837073</td>\n",
       "                        <td id=\"T_bff7a_row1_col12\" class=\"data row1 col12\" >0.812910</td>\n",
       "                        <td id=\"T_bff7a_row1_col13\" class=\"data row1 col13\" >0.779772</td>\n",
       "                        <td id=\"T_bff7a_row1_col14\" class=\"data row1 col14\" >0.739558</td>\n",
       "                        <td id=\"T_bff7a_row1_col15\" class=\"data row1 col15\" >0.692613</td>\n",
       "                        <td id=\"T_bff7a_row1_col16\" class=\"data row1 col16\" >0.642734</td>\n",
       "                        <td id=\"T_bff7a_row1_col17\" class=\"data row1 col17\" >0.591301</td>\n",
       "                        <td id=\"T_bff7a_row1_col18\" class=\"data row1 col18\" >0.525198</td>\n",
       "                        <td id=\"T_bff7a_row1_col19\" class=\"data row1 col19\" >0.426993</td>\n",
       "                        <td id=\"T_bff7a_row1_col20\" class=\"data row1 col20\" >0.145323</td>\n",
       "            </tr>\n",
       "            <tr>\n",
       "                        <th id=\"T_bff7a_level0_row2\" class=\"row_heading level0 row2\" >EMD</th>\n",
       "                        <td id=\"T_bff7a_row2_col0\" class=\"data row2 col0\" >0.849845</td>\n",
       "                        <td id=\"T_bff7a_row2_col1\" class=\"data row2 col1\" >0.849845</td>\n",
       "                        <td id=\"T_bff7a_row2_col2\" class=\"data row2 col2\" >0.850190</td>\n",
       "                        <td id=\"T_bff7a_row2_col3\" class=\"data row2 col3\" >0.851743</td>\n",
       "                        <td id=\"T_bff7a_row2_col4\" class=\"data row2 col4\" >0.853469</td>\n",
       "                        <td id=\"T_bff7a_row2_col5\" class=\"data row2 col5\" >0.858129</td>\n",
       "                        <td id=\"T_bff7a_row2_col6\" class=\"data row2 col6\" >0.864860</td>\n",
       "                        <td id=\"T_bff7a_row2_col7\" class=\"data row2 col7\" >0.869520</td>\n",
       "                        <td id=\"T_bff7a_row2_col8\" class=\"data row2 col8\" >0.868830</td>\n",
       "                        <td id=\"T_bff7a_row2_col9\" class=\"data row2 col9\" >0.862271</td>\n",
       "                        <td id=\"T_bff7a_row2_col10\" class=\"data row2 col10\" >0.846393</td>\n",
       "                        <td id=\"T_bff7a_row2_col11\" class=\"data row2 col11\" >0.821367</td>\n",
       "                        <td id=\"T_bff7a_row2_col12\" class=\"data row2 col12\" >0.786158</td>\n",
       "                        <td id=\"T_bff7a_row2_col13\" class=\"data row2 col13\" >0.749051</td>\n",
       "                        <td id=\"T_bff7a_row2_col14\" class=\"data row2 col14\" >0.705212</td>\n",
       "                        <td id=\"T_bff7a_row2_col15\" class=\"data row2 col15\" >0.650155</td>\n",
       "                        <td id=\"T_bff7a_row2_col16\" class=\"data row2 col16\" >0.600621</td>\n",
       "                        <td id=\"T_bff7a_row2_col17\" class=\"data row2 col17\" >0.541422</td>\n",
       "                        <td id=\"T_bff7a_row2_col18\" class=\"data row2 col18\" >0.457542</td>\n",
       "                        <td id=\"T_bff7a_row2_col19\" class=\"data row2 col19\" >0.343459</td>\n",
       "                        <td id=\"T_bff7a_row2_col20\" class=\"data row2 col20\" >0.150155</td>\n",
       "            </tr>\n",
       "            <tr>\n",
       "                        <th id=\"T_bff7a_level0_row3\" class=\"row_heading level0 row3\" >CHM</th>\n",
       "                        <td id=\"T_bff7a_row3_col0\" class=\"data row3 col0\" >0.832758</td>\n",
       "                        <td id=\"T_bff7a_row3_col1\" class=\"data row3 col1\" >0.832758</td>\n",
       "                        <td id=\"T_bff7a_row3_col2\" class=\"data row3 col2\" >0.832931</td>\n",
       "                        <td id=\"T_bff7a_row3_col3\" class=\"data row3 col3\" >0.833448</td>\n",
       "                        <td id=\"T_bff7a_row3_col4\" class=\"data row3 col4\" >0.835174</td>\n",
       "                        <td id=\"T_bff7a_row3_col5\" class=\"data row3 col5\" >0.841905</td>\n",
       "                        <td id=\"T_bff7a_row3_col6\" class=\"data row3 col6\" >0.850017</td>\n",
       "                        <td id=\"T_bff7a_row3_col7\" class=\"data row3 col7\" >0.853987</td>\n",
       "                        <td id=\"T_bff7a_row3_col8\" class=\"data row3 col8\" >0.857094</td>\n",
       "                        <td id=\"T_bff7a_row3_col9\" class=\"data row3 col9\" >0.845530</td>\n",
       "                        <td id=\"T_bff7a_row3_col10\" class=\"data row3 col10\" >0.823438</td>\n",
       "                        <td id=\"T_bff7a_row3_col11\" class=\"data row3 col11\" >0.791508</td>\n",
       "                        <td id=\"T_bff7a_row3_col12\" class=\"data row3 col12\" >0.742147</td>\n",
       "                        <td id=\"T_bff7a_row3_col13\" class=\"data row3 col13\" >0.687090</td>\n",
       "                        <td id=\"T_bff7a_row3_col14\" class=\"data row3 col14\" >0.636348</td>\n",
       "                        <td id=\"T_bff7a_row3_col15\" class=\"data row3 col15\" >0.570245</td>\n",
       "                        <td id=\"T_bff7a_row3_col16\" class=\"data row3 col16\" >0.497239</td>\n",
       "                        <td id=\"T_bff7a_row3_col17\" class=\"data row3 col17\" >0.418536</td>\n",
       "                        <td id=\"T_bff7a_row3_col18\" class=\"data row3 col18\" >0.348809</td>\n",
       "                        <td id=\"T_bff7a_row3_col19\" class=\"data row3 col19\" >0.261305</td>\n",
       "                        <td id=\"T_bff7a_row3_col20\" class=\"data row3 col20\" >0.167242</td>\n",
       "            </tr>\n",
       "    </tbody></table>"
      ],
      "text/plain": [
       "<pandas.io.formats.style.Styler at 0x7f9b43b20bd0>"
      ]
     },
     "execution_count": 22,
     "metadata": {},
     "output_type": "execute_result"
    }
   ],
   "source": [
    "# Full 5K\n",
    "pd.DataFrame(TAnalysis_CUB).T.style.highlight_max(color = 'yellow', axis = 1)"
   ]
  },
  {
   "cell_type": "code",
   "execution_count": 23,
   "id": "aa62a828-7aa5-419c-9798-8dd860531945",
   "metadata": {
    "pycharm": {
     "name": "#%%\n"
    }
   },
   "outputs": [
    {
     "data": {
      "text/html": [
       "<style  type=\"text/css\" >\n",
       "#T_9c013_row0_col10,#T_9c013_row1_col7,#T_9c013_row1_col8,#T_9c013_row2_col8,#T_9c013_row3_col8{\n",
       "            background-color:  yellow;\n",
       "        }</style><table id=\"T_9c013_\" ><thead>    <tr>        <th class=\"blank level0\" ></th>        <th class=\"col_heading level0 col0\" >0.0</th>        <th class=\"col_heading level0 col1\" >0.05</th>        <th class=\"col_heading level0 col2\" >0.1</th>        <th class=\"col_heading level0 col3\" >0.15</th>        <th class=\"col_heading level0 col4\" >0.2</th>        <th class=\"col_heading level0 col5\" >0.25</th>        <th class=\"col_heading level0 col6\" >0.3</th>        <th class=\"col_heading level0 col7\" >0.35</th>        <th class=\"col_heading level0 col8\" >0.4</th>        <th class=\"col_heading level0 col9\" >0.45</th>        <th class=\"col_heading level0 col10\" >0.5</th>        <th class=\"col_heading level0 col11\" >0.55</th>        <th class=\"col_heading level0 col12\" >0.6</th>        <th class=\"col_heading level0 col13\" >0.65</th>        <th class=\"col_heading level0 col14\" >0.7</th>        <th class=\"col_heading level0 col15\" >0.75</th>        <th class=\"col_heading level0 col16\" >0.8</th>        <th class=\"col_heading level0 col17\" >0.85</th>        <th class=\"col_heading level0 col18\" >0.9</th>        <th class=\"col_heading level0 col19\" >0.95</th>        <th class=\"col_heading level0 col20\" >1.0</th>    </tr></thead><tbody>\n",
       "                <tr>\n",
       "                        <th id=\"T_9c013_level0_row0\" class=\"row_heading level0 row0\" >ResNet</th>\n",
       "                        <td id=\"T_9c013_row0_col0\" class=\"data row0 col0\" >0.875000</td>\n",
       "                        <td id=\"T_9c013_row0_col1\" class=\"data row0 col1\" >0.875000</td>\n",
       "                        <td id=\"T_9c013_row0_col2\" class=\"data row0 col2\" >0.875000</td>\n",
       "                        <td id=\"T_9c013_row0_col3\" class=\"data row0 col3\" >0.876000</td>\n",
       "                        <td id=\"T_9c013_row0_col4\" class=\"data row0 col4\" >0.876000</td>\n",
       "                        <td id=\"T_9c013_row0_col5\" class=\"data row0 col5\" >0.877000</td>\n",
       "                        <td id=\"T_9c013_row0_col6\" class=\"data row0 col6\" >0.876000</td>\n",
       "                        <td id=\"T_9c013_row0_col7\" class=\"data row0 col7\" >0.876000</td>\n",
       "                        <td id=\"T_9c013_row0_col8\" class=\"data row0 col8\" >0.878000</td>\n",
       "                        <td id=\"T_9c013_row0_col9\" class=\"data row0 col9\" >0.884000</td>\n",
       "                        <td id=\"T_9c013_row0_col10\" class=\"data row0 col10\" >0.887000</td>\n",
       "                        <td id=\"T_9c013_row0_col11\" class=\"data row0 col11\" >0.886000</td>\n",
       "                        <td id=\"T_9c013_row0_col12\" class=\"data row0 col12\" >0.882000</td>\n",
       "                        <td id=\"T_9c013_row0_col13\" class=\"data row0 col13\" >0.883000</td>\n",
       "                        <td id=\"T_9c013_row0_col14\" class=\"data row0 col14\" >0.868000</td>\n",
       "                        <td id=\"T_9c013_row0_col15\" class=\"data row0 col15\" >0.852000</td>\n",
       "                        <td id=\"T_9c013_row0_col16\" class=\"data row0 col16\" >0.841000</td>\n",
       "                        <td id=\"T_9c013_row0_col17\" class=\"data row0 col17\" >0.818000</td>\n",
       "                        <td id=\"T_9c013_row0_col18\" class=\"data row0 col18\" >0.780000</td>\n",
       "                        <td id=\"T_9c013_row0_col19\" class=\"data row0 col19\" >0.690000</td>\n",
       "                        <td id=\"T_9c013_row0_col20\" class=\"data row0 col20\" >0.125000</td>\n",
       "            </tr>\n",
       "            <tr>\n",
       "                        <th id=\"T_9c013_level0_row1\" class=\"row_heading level0 row1\" >KNN</th>\n",
       "                        <td id=\"T_9c013_row1_col0\" class=\"data row1 col0\" >0.866000</td>\n",
       "                        <td id=\"T_9c013_row1_col1\" class=\"data row1 col1\" >0.866000</td>\n",
       "                        <td id=\"T_9c013_row1_col2\" class=\"data row1 col2\" >0.866000</td>\n",
       "                        <td id=\"T_9c013_row1_col3\" class=\"data row1 col3\" >0.866000</td>\n",
       "                        <td id=\"T_9c013_row1_col4\" class=\"data row1 col4\" >0.867000</td>\n",
       "                        <td id=\"T_9c013_row1_col5\" class=\"data row1 col5\" >0.874000</td>\n",
       "                        <td id=\"T_9c013_row1_col6\" class=\"data row1 col6\" >0.882000</td>\n",
       "                        <td id=\"T_9c013_row1_col7\" class=\"data row1 col7\" >0.891000</td>\n",
       "                        <td id=\"T_9c013_row1_col8\" class=\"data row1 col8\" >0.891000</td>\n",
       "                        <td id=\"T_9c013_row1_col9\" class=\"data row1 col9\" >0.877000</td>\n",
       "                        <td id=\"T_9c013_row1_col10\" class=\"data row1 col10\" >0.862000</td>\n",
       "                        <td id=\"T_9c013_row1_col11\" class=\"data row1 col11\" >0.847000</td>\n",
       "                        <td id=\"T_9c013_row1_col12\" class=\"data row1 col12\" >0.827000</td>\n",
       "                        <td id=\"T_9c013_row1_col13\" class=\"data row1 col13\" >0.788000</td>\n",
       "                        <td id=\"T_9c013_row1_col14\" class=\"data row1 col14\" >0.743000</td>\n",
       "                        <td id=\"T_9c013_row1_col15\" class=\"data row1 col15\" >0.687000</td>\n",
       "                        <td id=\"T_9c013_row1_col16\" class=\"data row1 col16\" >0.622000</td>\n",
       "                        <td id=\"T_9c013_row1_col17\" class=\"data row1 col17\" >0.567000</td>\n",
       "                        <td id=\"T_9c013_row1_col18\" class=\"data row1 col18\" >0.514000</td>\n",
       "                        <td id=\"T_9c013_row1_col19\" class=\"data row1 col19\" >0.422000</td>\n",
       "                        <td id=\"T_9c013_row1_col20\" class=\"data row1 col20\" >0.134000</td>\n",
       "            </tr>\n",
       "            <tr>\n",
       "                        <th id=\"T_9c013_level0_row2\" class=\"row_heading level0 row2\" >EMD</th>\n",
       "                        <td id=\"T_9c013_row2_col0\" class=\"data row2 col0\" >0.846000</td>\n",
       "                        <td id=\"T_9c013_row2_col1\" class=\"data row2 col1\" >0.846000</td>\n",
       "                        <td id=\"T_9c013_row2_col2\" class=\"data row2 col2\" >0.846000</td>\n",
       "                        <td id=\"T_9c013_row2_col3\" class=\"data row2 col3\" >0.849000</td>\n",
       "                        <td id=\"T_9c013_row2_col4\" class=\"data row2 col4\" >0.849000</td>\n",
       "                        <td id=\"T_9c013_row2_col5\" class=\"data row2 col5\" >0.853000</td>\n",
       "                        <td id=\"T_9c013_row2_col6\" class=\"data row2 col6\" >0.863000</td>\n",
       "                        <td id=\"T_9c013_row2_col7\" class=\"data row2 col7\" >0.863000</td>\n",
       "                        <td id=\"T_9c013_row2_col8\" class=\"data row2 col8\" >0.869000</td>\n",
       "                        <td id=\"T_9c013_row2_col9\" class=\"data row2 col9\" >0.863000</td>\n",
       "                        <td id=\"T_9c013_row2_col10\" class=\"data row2 col10\" >0.845000</td>\n",
       "                        <td id=\"T_9c013_row2_col11\" class=\"data row2 col11\" >0.827000</td>\n",
       "                        <td id=\"T_9c013_row2_col12\" class=\"data row2 col12\" >0.782000</td>\n",
       "                        <td id=\"T_9c013_row2_col13\" class=\"data row2 col13\" >0.758000</td>\n",
       "                        <td id=\"T_9c013_row2_col14\" class=\"data row2 col14\" >0.711000</td>\n",
       "                        <td id=\"T_9c013_row2_col15\" class=\"data row2 col15\" >0.644000</td>\n",
       "                        <td id=\"T_9c013_row2_col16\" class=\"data row2 col16\" >0.593000</td>\n",
       "                        <td id=\"T_9c013_row2_col17\" class=\"data row2 col17\" >0.539000</td>\n",
       "                        <td id=\"T_9c013_row2_col18\" class=\"data row2 col18\" >0.451000</td>\n",
       "                        <td id=\"T_9c013_row2_col19\" class=\"data row2 col19\" >0.335000</td>\n",
       "                        <td id=\"T_9c013_row2_col20\" class=\"data row2 col20\" >0.154000</td>\n",
       "            </tr>\n",
       "            <tr>\n",
       "                        <th id=\"T_9c013_level0_row3\" class=\"row_heading level0 row3\" >CHM</th>\n",
       "                        <td id=\"T_9c013_row3_col0\" class=\"data row3 col0\" >0.832000</td>\n",
       "                        <td id=\"T_9c013_row3_col1\" class=\"data row3 col1\" >0.832000</td>\n",
       "                        <td id=\"T_9c013_row3_col2\" class=\"data row3 col2\" >0.832000</td>\n",
       "                        <td id=\"T_9c013_row3_col3\" class=\"data row3 col3\" >0.833000</td>\n",
       "                        <td id=\"T_9c013_row3_col4\" class=\"data row3 col4\" >0.835000</td>\n",
       "                        <td id=\"T_9c013_row3_col5\" class=\"data row3 col5\" >0.841000</td>\n",
       "                        <td id=\"T_9c013_row3_col6\" class=\"data row3 col6\" >0.854000</td>\n",
       "                        <td id=\"T_9c013_row3_col7\" class=\"data row3 col7\" >0.855000</td>\n",
       "                        <td id=\"T_9c013_row3_col8\" class=\"data row3 col8\" >0.868000</td>\n",
       "                        <td id=\"T_9c013_row3_col9\" class=\"data row3 col9\" >0.855000</td>\n",
       "                        <td id=\"T_9c013_row3_col10\" class=\"data row3 col10\" >0.832000</td>\n",
       "                        <td id=\"T_9c013_row3_col11\" class=\"data row3 col11\" >0.797000</td>\n",
       "                        <td id=\"T_9c013_row3_col12\" class=\"data row3 col12\" >0.752000</td>\n",
       "                        <td id=\"T_9c013_row3_col13\" class=\"data row3 col13\" >0.687000</td>\n",
       "                        <td id=\"T_9c013_row3_col14\" class=\"data row3 col14\" >0.649000</td>\n",
       "                        <td id=\"T_9c013_row3_col15\" class=\"data row3 col15\" >0.589000</td>\n",
       "                        <td id=\"T_9c013_row3_col16\" class=\"data row3 col16\" >0.507000</td>\n",
       "                        <td id=\"T_9c013_row3_col17\" class=\"data row3 col17\" >0.435000</td>\n",
       "                        <td id=\"T_9c013_row3_col18\" class=\"data row3 col18\" >0.357000</td>\n",
       "                        <td id=\"T_9c013_row3_col19\" class=\"data row3 col19\" >0.270000</td>\n",
       "                        <td id=\"T_9c013_row3_col20\" class=\"data row3 col20\" >0.168000</td>\n",
       "            </tr>\n",
       "    </tbody></table>"
      ],
      "text/plain": [
       "<pandas.io.formats.style.Styler at 0x7f9b4395ca10>"
      ]
     },
     "execution_count": 23,
     "metadata": {},
     "output_type": "execute_result"
    }
   ],
   "source": [
    "# 1K Fine-tuning\n",
    "pd.DataFrame(TAnalysis_T_CUB).T.style.highlight_max(color = 'yellow', axis = 1)"
   ]
  },
  {
   "cell_type": "code",
   "execution_count": 24,
   "id": "9a79b581-5256-4531-9c6b-f5c66278ff8c",
   "metadata": {
    "pycharm": {
     "name": "#%%\n"
    }
   },
   "outputs": [
    {
     "data": {
      "text/html": [
       "<div>\n",
       "<style scoped>\n",
       "    .dataframe tbody tr th:only-of-type {\n",
       "        vertical-align: middle;\n",
       "    }\n",
       "\n",
       "    .dataframe tbody tr th {\n",
       "        vertical-align: top;\n",
       "    }\n",
       "\n",
       "    .dataframe thead th {\n",
       "        text-align: right;\n",
       "    }\n",
       "</style>\n",
       "<table border=\"1\" class=\"dataframe\">\n",
       "  <thead>\n",
       "    <tr style=\"text-align: right;\">\n",
       "      <th></th>\n",
       "      <th>0.40</th>\n",
       "      <th>0.45</th>\n",
       "      <th>0.50</th>\n",
       "    </tr>\n",
       "  </thead>\n",
       "  <tbody>\n",
       "    <tr>\n",
       "      <th>ResNet</th>\n",
       "      <td>86.858573</td>\n",
       "      <td>86.942011</td>\n",
       "      <td>87.108886</td>\n",
       "    </tr>\n",
       "    <tr>\n",
       "      <th>KNN</th>\n",
       "      <td>87.400918</td>\n",
       "      <td>87.359199</td>\n",
       "      <td>85.690446</td>\n",
       "    </tr>\n",
       "    <tr>\n",
       "      <th>EMD</th>\n",
       "      <td>86.879433</td>\n",
       "      <td>86.211932</td>\n",
       "      <td>84.668335</td>\n",
       "    </tr>\n",
       "    <tr>\n",
       "      <th>CHM</th>\n",
       "      <td>85.481852</td>\n",
       "      <td>84.355444</td>\n",
       "      <td>82.165207</td>\n",
       "    </tr>\n",
       "  </tbody>\n",
       "</table>\n",
       "</div>"
      ],
      "text/plain": [
       "             0.40       0.45       0.50\n",
       "ResNet  86.858573  86.942011  87.108886\n",
       "KNN     87.400918  87.359199  85.690446\n",
       "EMD     86.879433  86.211932  84.668335\n",
       "CHM     85.481852  84.355444  82.165207"
      ]
     },
     "execution_count": 24,
     "metadata": {},
     "output_type": "execute_result"
    }
   ],
   "source": [
    "# 4K Test\n",
    "pd.DataFrame(TAnalysis_V_CUB).T.loc[:, 0.4:0.5]*100"
   ]
  },
  {
   "cell_type": "markdown",
   "id": "ec593889-7cc3-40f3-80de-cc22cadc27e7",
   "metadata": {
    "pycharm": {
     "name": "#%% md\n"
    }
   },
   "source": [
    "# RESULTS for CUB\n",
    "\n",
    "* ResNet  ``87.108886``\n",
    "* KNN     ``87.400918``\n",
    "* EMD     ``86.879433``\n",
    "* CHM     ``85.481852``"
   ]
  },
  {
   "cell_type": "code",
   "execution_count": null,
   "id": "86d7207d-173f-4741-bcd5-6c7c5d577861",
   "metadata": {
    "pycharm": {
     "name": "#%%\n"
    }
   },
   "outputs": [],
   "source": []
  }
 ],
 "metadata": {
  "kernelspec": {
   "display_name": "Python 3 (ipykernel)",
   "language": "python",
   "name": "python3"
  },
  "language_info": {
   "codemirror_mode": {
    "name": "ipython",
    "version": 3
   },
   "file_extension": ".py",
   "mimetype": "text/x-python",
   "name": "python",
   "nbconvert_exporter": "python",
   "pygments_lexer": "ipython3",
   "version": "3.10.4"
  }
 },
 "nbformat": 4,
 "nbformat_minor": 5
}