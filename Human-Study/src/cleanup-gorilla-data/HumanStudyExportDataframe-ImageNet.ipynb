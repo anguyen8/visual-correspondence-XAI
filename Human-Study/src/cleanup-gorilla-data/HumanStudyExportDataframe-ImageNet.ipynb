{
 "cells": [
  {
   "cell_type": "markdown",
   "metadata": {
    "pycharm": {
     "name": "#%% md\n"
    }
   },
   "source": [
    "# ImageNet Read and Export Results\n",
    "\n",
    "To get the data, please visit `Download.md` in `data/` folder"
   ]
  },
  {
   "cell_type": "code",
   "execution_count": 1,
   "metadata": {
    "pycharm": {
     "name": "#%%\n"
    }
   },
   "outputs": [],
   "source": [
    "import pandas as pd\n",
    "import glob\n",
    "import pickle\n",
    "import numpy as np\n",
    "\n",
    "from datetime import datetime\n",
    "import seaborn as sns\n",
    "sns.set()\n",
    "\n",
    "import copy\n",
    "import json\n",
    "from torchvision.datasets import ImageFolder"
   ]
  },
  {
   "cell_type": "code",
   "execution_count": 2,
   "metadata": {
    "pycharm": {
     "name": "#%%\n"
    }
   },
   "outputs": [],
   "source": [
    "pd.set_option(\"display.max_columns\", None)\n",
    "pd.set_option(\"display.max_rows\", None)"
   ]
  },
  {
   "cell_type": "code",
   "execution_count": 3,
   "metadata": {
    "pycharm": {
     "name": "#%%\n"
    }
   },
   "outputs": [],
   "source": [
    "# Build the ground truth dictionary \n",
    "\n",
    "# Map method # -> Method name\n",
    "mapping = {'No-XAI':1 , 'KNNs': 2, 'EMD-NNs': 3, 'EMD-Corrs': 3, 'CHM-NNs': 4, 'CHM-Corrs': 4}\n",
    "exp = 'ImageNet'\n",
    "\n",
    "DEBUG = False\n",
    "if DEBUG:\n",
    "    exp = 'ImageNet'\n",
    "\n",
    "ground_truth = dict()\n",
    "if exp == 'ImageNet':\n",
    "    Task1_images_dict = np.load('../../data/raw_data/Task1_metadata.npy', allow_pickle='False').item()\n",
    "else: # CUB200\n",
    "    raise Exception(\"Not yet implemented!\")\n",
    "\n",
    "for method in mapping.keys():\n",
    "    ground_truth[method] = {}\n",
    "    for correctness in ['Correct', 'Wrong']:\n",
    "        if correctness == 'Correct':\n",
    "            answer = 'Yes'\n",
    "        else:\n",
    "            answer = 'No'\n",
    "        for img_name in Task1_images_dict['Method{}'.format(mapping[method])][correctness].keys():\n",
    "            ground_truth[method][img_name] = answer\n",
    "            \n"
   ]
  },
  {
   "cell_type": "code",
   "execution_count": 4,
   "metadata": {
    "pycharm": {
     "name": "#%%\n"
    }
   },
   "outputs": [],
   "source": [
    "DEBUG=True"
   ]
  },
  {
   "cell_type": "code",
   "execution_count": 5,
   "metadata": {
    "pycharm": {
     "name": "#%%\n"
    }
   },
   "outputs": [
    {
     "name": "stderr",
     "output_type": "stream",
     "text": [
      "/tmp/ipykernel_2344027/1598973943.py:99: DtypeWarning: Columns (0) have mixed types. Specify dtype option on import or set low_memory=False.\n",
      "  df = pd.read_csv(file)\n",
      "/tmp/ipykernel_2344027/1598973943.py:99: DtypeWarning: Columns (0) have mixed types. Specify dtype option on import or set low_memory=False.\n",
      "  df = pd.read_csv(file)\n",
      "/tmp/ipykernel_2344027/1598973943.py:99: DtypeWarning: Columns (0) have mixed types. Specify dtype option on import or set low_memory=False.\n",
      "  df = pd.read_csv(file)\n",
      "/tmp/ipykernel_2344027/1598973943.py:99: DtypeWarning: Columns (0,54) have mixed types. Specify dtype option on import or set low_memory=False.\n",
      "  df = pd.read_csv(file)\n",
      "/tmp/ipykernel_2344027/1598973943.py:99: DtypeWarning: Columns (0,47) have mixed types. Specify dtype option on import or set low_memory=False.\n",
      "  df = pd.read_csv(file)\n",
      "/tmp/ipykernel_2344027/1598973943.py:99: DtypeWarning: Columns (0,47) have mixed types. Specify dtype option on import or set low_memory=False.\n",
      "  df = pd.read_csv(file)\n",
      "/tmp/ipykernel_2344027/1598973943.py:99: DtypeWarning: Columns (0) have mixed types. Specify dtype option on import or set low_memory=False.\n",
      "  df = pd.read_csv(file)\n",
      "/tmp/ipykernel_2344027/1598973943.py:99: DtypeWarning: Columns (0) have mixed types. Specify dtype option on import or set low_memory=False.\n",
      "  df = pd.read_csv(file)\n",
      "/tmp/ipykernel_2344027/1598973943.py:99: DtypeWarning: Columns (0) have mixed types. Specify dtype option on import or set low_memory=False.\n",
      "  df = pd.read_csv(file)\n",
      "/tmp/ipykernel_2344027/1598973943.py:99: DtypeWarning: Columns (0) have mixed types. Specify dtype option on import or set low_memory=False.\n",
      "  df = pd.read_csv(file)\n",
      "/tmp/ipykernel_2344027/1598973943.py:99: DtypeWarning: Columns (0,54) have mixed types. Specify dtype option on import or set low_memory=False.\n",
      "  df = pd.read_csv(file)\n"
     ]
    }
   ],
   "source": [
    "# 1. Read the information from csv files to dictionary. Each user ID is an entry\n",
    "\n",
    "import pandas as pd  \n",
    "import os\n",
    "import math\n",
    "import statistics\n",
    "import matplotlib.pyplot as plt\n",
    "import numpy as np\n",
    "%matplotlib inline\n",
    "\n",
    "# Check if a number is float?\n",
    "def is_float(s):\n",
    "    try:\n",
    "        float(s)\n",
    "        return True\n",
    "    except ValueError:\n",
    "        return False\n",
    "\n",
    "# Task aliases assigned by Gorilla\n",
    "exp_hierarchy = ['randomiser-tjl7', {'No-XAI':'counterbalance-lxdj' , 'KNNs': 'counterbalance-yqqs', \n",
    "                                     'EMD-NNs': 'counterbalance-jiws', 'EMD-Corrs': 'counterbalance-eqty', \n",
    "                                     'CHM-NNs': 'counterbalance-xsf1', 'CHM-Corrs': 'counterbalance-4ym2'}]\n",
    "\n",
    "methods = mapping.keys()\n",
    "\n",
    "# Loop all csv file, each csv file is an explanation method\n",
    "files = []\n",
    "\n",
    "list_1 = glob.glob('../../data/raw_data/ImageNet/1/*.csv')\n",
    "list_0 = glob.glob('../../data/raw_data/ImageNet/2/*.csv')\n",
    "\n",
    "for file in list_1+list_0:\n",
    "    if '.csv' in file:\n",
    "        files.append(file)\n",
    "        \n",
    "\n",
    "# Validation threshold to classify good/bad users\n",
    "if exp == 'ImageNet':\n",
    "    threshold = 1\n",
    "else: # CUB200\n",
    "    threshold = 1\n",
    "\n",
    "# Store information of bad users to a dict\n",
    "# csv_file = open('~/src/experiment_data/{}_bad_users.csv'.format(exp), 'w')\n",
    "\n",
    "final_result = dict()\n",
    "trial_cnt = dict()\n",
    "\n",
    "# Initialize the dictionary for users' responses (answer)\n",
    "final_result[exp] = dict()\n",
    "trial_cnt[exp] = dict()\n",
    "for method in methods:\n",
    "    final_result[exp][method] = dict()\n",
    "    trial_cnt[exp][method] = dict()\n",
    "\n",
    "# Correct answer dictionary in validation \n",
    "val_correct_dict = dict()\n",
    "# Incorrect answer dictionary in validation \n",
    "val_incorrect_trials_dict = dict()\n",
    "\n",
    "test_correct_trials_dict = dict()\n",
    "test_incorrect_trials_dict = dict()\n",
    "\n",
    "# Numbers of users for methods\n",
    "user_cnt_dict = dict()\n",
    "\n",
    "# Reaction time dictionary \n",
    "users_avg_reaction_time_dict = dict()\n",
    "users_stdev_reaction_time_dict = dict()\n",
    "below_stdev_reaction_time_dict = dict()\n",
    "\n",
    "# Counter-balances for methods\n",
    "counter_balances_dict = dict()\n",
    "\n",
    "# Numbers of good users for methods\n",
    "good_user_cnt_dict = dict()\n",
    "good_user_cnt = 0\n",
    "bad_user_cnt = 0\n",
    "users_reaction_times = []\n",
    "user_dict = dict()\n",
    "\n",
    "\n",
    "for file in files:\n",
    "\n",
    "    # We skip the Questionnaire Node\n",
    "    if 'questionnaire-9g37' in file:\n",
    "        continue\n",
    "    \n",
    "    # We skip the Complete and Reject Node\n",
    "    if '7pqn' in file or '77vw' in file:\n",
    "        continue\n",
    "    \n",
    "    reaction_time_correct_cnt_dict = dict()\n",
    "    users_reaction_time = []\n",
    "    users_val_incorrect_trials = []\n",
    "    counter_balances = []\n",
    "    user_cnt = 0\n",
    "    trail_date_tile = []\n",
    "    df = pd.read_csv(file)\n",
    "    # \n",
    "    for index, row in df.iterrows():\n",
    "        # Start the spreadsheet for a user\n",
    "        if row['Event Index'] != 'END OF FILE' and int(row['Event Index']) == 1:\n",
    "            trail_date_tile\n",
    "            user_cnt += 1\n",
    "            reaction_time = 0\n",
    "            reaction_times = []\n",
    "\n",
    "            val_correct = 0\n",
    "            val_incorrect = 0\n",
    "            val_incorrect_trials = []\n",
    "            val_trial_cnt = 0\n",
    "            \n",
    "            test_reaction_time = 0\n",
    "            val_reaction_time = 0\n",
    "\n",
    "            test_trial_answers = {}\n",
    "\n",
    "            task_name = row['Task Name']\n",
    "            \n",
    "            task = exp\n",
    "            \n",
    "            # Extract the method name. E.g, KNNs\n",
    "            \n",
    "            method = row['randomiser-tjl7']\n",
    "            counter_balance = int(row[exp_hierarchy[1][method]])\n",
    "            if DEBUG:\n",
    "                public_id = int(row['Participant Private ID'])\n",
    "            else:\n",
    "                public_id = row['Participant Public ID']\n",
    "            \n",
    "            if task not in user_dict:\n",
    "                user_dict[task] = dict()\n",
    "                    \n",
    "            if method not in user_dict[task]:\n",
    "                user_dict[task][method] = dict()\n",
    "            if public_id not in user_dict[task][method]:\n",
    "                user_dict[task][method][public_id] = dict()\n",
    "                user_dict[task][method][public_id]['Trials'] = dict()\n",
    "                user_dict[task][method][public_id]['Prior Knowledge'] = dict()\n",
    "                user_dict[task][method][public_id]['Counter balance'] = counter_balance\n",
    "                user_dict[task][method][public_id]['Known'] = 0\n",
    "                user_dict[task][method][public_id]['Unknown'] = 0\n",
    "        \n",
    "        trial_time = row['Reaction Time']\n",
    "            \n",
    "        # Check users' responses in validation -- Screen 3 is where users make decision -- \n",
    "        # TODO: re-check this as we re-layout the test UI (maybe the screen 3 is not where users make decision)\n",
    "        if row['display'] == 'Validation' and row['Screen Name'] == 'Screen 3':\n",
    "            val_trial_cnt += 1\n",
    "            if row['Correct'] == 1:\n",
    "                val_correct += 1\n",
    "            elif row['Incorrect'] == 1:\n",
    "                val_incorrect += 1\n",
    "                val_incorrect_trials.append(val_trial_cnt)\n",
    "            else:\n",
    "                raise ValueError(\"Wrong value!\")\n",
    "                \n",
    "            user_dict[task][method][public_id]['Validation Correct'] = val_correct\n",
    "            user_dict[task][method][public_id]['Validation Incorrect'] = val_incorrect\n",
    "            user_dict[task][method][public_id]['Incorrect Validation Trials'] = val_incorrect_trials\n",
    "            \n",
    "        elif row['display'] == 'Trial' and row['Screen Name'] == 'Screen 1':\n",
    "            prior_knowledge = row['Response']\n",
    "                \n",
    "        # Check users' responses in test\n",
    "        elif row['display'] == 'Trial' and row['Screen Name'] == 'Screen 3':\n",
    "            file_name = row['file_name' + str(counter_balance)]\n",
    "            test_trial_answers[file_name] = row['Response']\n",
    "            \n",
    "            user_dict[task][method][public_id]['Trials'][file_name] = row['Response']\n",
    "            user_dict[task][method][public_id]['Prior Knowledge'][file_name] = prior_knowledge\n",
    "        \n",
    "        # Time from instructions -> the end of Validation\n",
    "        if row['display'] != 'Trial':\n",
    "            if (isinstance(row['Reaction Time'], str) and is_float(row['Reaction Time'])) or (isinstance(row['Reaction Time'], float) and not math.isnan(row['Reaction Time'])):\n",
    "                val_reaction_time += float(row['Reaction Time'])\n",
    "        \n",
    "        # End the spreadsheet for a user\n",
    "        if row['Trial Number'] == 'END TASK':\n",
    "            reaction_time = float(row['Reaction Time'])\n",
    "            \n",
    "            # Validation and Test are combined\n",
    "            user_dict[task][method][public_id]['Validation Reaction Time'] = val_reaction_time\n",
    "            user_dict[task][method][public_id]['Test Reaction Time'] = reaction_time - test_reaction_time\n",
    "            \n",
    "            dt_object = datetime.fromtimestamp(row['UTC Timestamp']/1000)\n",
    "            user_dict[task][method][public_id]['DATE'] = dt_object\n"
   ]
  },
  {
   "cell_type": "code",
   "execution_count": 6,
   "metadata": {
    "pycharm": {
     "name": "#%%\n"
    },
    "tags": []
   },
   "outputs": [
    {
     "name": "stdout",
     "output_type": "stream",
     "text": [
      "Method = No-XAI Mean Accuracy = 81.556 on 60 Users\n",
      "Method = No-XAI\n",
      "std_dev = 5.539336022087802\n",
      "Mean = 81.556\n",
      "Method = KNNs Mean Accuracy = 75.444 on 60 Users\n",
      "Method = KNNs\n",
      "std_dev = 8.829130578211318\n",
      "Mean = 75.444\n",
      "Method = EMD-NNs Mean Accuracy = 76.722 on 60 Users\n",
      "Method = EMD-NNs\n",
      "std_dev = 9.297179100896651\n",
      "Mean = 76.722\n",
      "Method = EMD-Corrs Mean Accuracy = 78.389 on 60 Users\n",
      "Method = EMD-Corrs\n",
      "std_dev = 7.50371324693003\n",
      "Mean = 78.389\n",
      "Method = CHM-NNs Mean Accuracy = 77.556 on 60 Users\n",
      "Method = CHM-NNs\n",
      "std_dev = 6.912601192147743\n",
      "Mean = 77.556\n",
      "Method = CHM-Corrs Mean Accuracy = 76.722 on 60 Users\n",
      "Method = CHM-Corrs\n",
      "std_dev = 8.470435272016799\n",
      "Mean = 76.722\n"
     ]
    }
   ],
   "source": [
    "# 2. Process the dictionary to extract findings\n",
    "\n",
    "performance_data = {}\n",
    "performance_data_mean = {}\n",
    "performance_data_std   = {}\n",
    "\n",
    "test_correct_trials_dict = dict()\n",
    "\n",
    "# Initialize the dictionary for users' responses (answer)\n",
    "\n",
    "final_result[exp] = dict()\n",
    "trial_cnt[exp] = dict()\n",
    "for method in methods:\n",
    "    final_result[exp][method] = dict()\n",
    "    trial_cnt[exp][method] = dict()\n",
    "\n",
    "\n",
    "perf_stats_dict = dict()\n",
    "\n",
    "for method in methods:\n",
    "    if method not in user_dict[task]:\n",
    "        continue\n",
    "            \n",
    "    good_user_cnt = 0\n",
    "    hacking_user_cnt = 0\n",
    "    correct_cnt_list = []\n",
    "    natural_correct_cnt_list = []\n",
    "    adversarial_correct_cnt_list = []\n",
    "    \n",
    "    if task == 'ImageNet':\n",
    "        task_list = ['ImageNet']\n",
    "    elif task == 'CUB200':\n",
    "        task_list = ['CUB200']\n",
    "    \n",
    "    if method not in test_correct_trials_dict:\n",
    "        test_correct_trials_dict[method] = dict()\n",
    "    \n",
    "    # Loop over all users within each method and determine if this is a good/bad users?\n",
    "    for user_id in user_dict[task][method].keys():\n",
    "            \n",
    "        user_dict[task][method][user_id]['Known'] = 0\n",
    "        user_dict[task][method][user_id]['Unknown'] = 0\n",
    "    \n",
    "        good_user_cnt += 1\n",
    "        trials = user_dict[task][method][user_id]['Trials']\n",
    "        \n",
    "        # Initialize: The correct times a trial gets {trial_name: times}\n",
    "        for trial_key in trials.keys():\n",
    "            if trial_key not in test_correct_trials_dict[method]:\n",
    "                test_correct_trials_dict[method][trial_key] = dict()\n",
    "                test_correct_trials_dict[method][trial_key]['Count'] = 0\n",
    "                test_correct_trials_dict[method][trial_key]['Counter balance'] = list()\n",
    "            test_correct_trials_dict[method][trial_key]['Counter balance'].append(user_dict[task][method][user_id]['Counter balance'])\n",
    "        \n",
    "        # Record the number of correct answers of a user\n",
    "        for sub_task in task_list: \n",
    "            user_dict[task][method][user_id][sub_task] = dict()\n",
    "            exp_gt = ground_truth[method]\n",
    "\n",
    "            shared_items = {k: exp_gt[k] for k in exp_gt if k in trials and exp_gt[k] == trials[k]}\n",
    "            user_dict[task][method][user_id][sub_task] = len(shared_items)\n",
    "\n",
    "            # Get: The correct times a trial gets {trial_name: times}\n",
    "            for key in shared_items.keys():\n",
    "                test_correct_trials_dict[method][key]['Count'] += 1\n",
    "                test_correct_trials_dict[method][key]['Task'] = sub_task\n",
    "                if user_dict[task][method][user_id]['Prior Knowledge'][key] == 'Yes':\n",
    "                    user_dict[task][method][user_id]['Known'] += 1\n",
    "                else:\n",
    "                    user_dict[task][method][user_id]['Unknown'] += 1\n",
    "\n",
    "        correct_cnt = user_dict[exp][method][user_id][exp]\n",
    "        # print(user_dict[exp][method][user_id][exp])\n",
    "        correct_cnt_list.append((correct_cnt/30)*100)\n",
    "    \n",
    "    print(f'Method = {method} Mean Accuracy = {statistics.mean(correct_cnt_list):.3f} on {good_user_cnt} Users')\n",
    "    \n",
    "    performance_data[method] = np.asarray(correct_cnt_list)\n",
    "    performance_data_mean[method] = statistics.mean(correct_cnt_list)\n",
    "    performance_data_std[method]   = statistics.stdev(correct_cnt_list)\n",
    "    \n",
    "    print('Method = {}\\nstd_dev = {}'.format(method, statistics.stdev(correct_cnt_list)))\n",
    "    print(f\"Mean = {statistics.mean(correct_cnt_list):.3f}\")"
   ]
  },
  {
   "cell_type": "markdown",
   "metadata": {
    "pycharm": {
     "name": "#%% md\n"
    }
   },
   "source": [
    "# Create Dataframe (ALL DATA)"
   ]
  },
  {
   "cell_type": "code",
   "execution_count": 7,
   "metadata": {
    "pycharm": {
     "name": "#%%\n"
    }
   },
   "outputs": [],
   "source": [
    "Method_name_map = {'No-XAI': 'Method1', 'KNNs': 'Method2', 'EMD-NNs':'Method3', 'EMD-Corrs':'Method3', 'CHM-Corrs':'Method4', 'CHM-NNs':'Method4'}"
   ]
  },
  {
   "cell_type": "code",
   "execution_count": 8,
   "metadata": {
    "pycharm": {
     "name": "#%%\n"
    }
   },
   "outputs": [
    {
     "data": {
      "text/plain": [
       "dict_keys(['Method1', 'Method2', 'Method3', 'Method4'])"
      ]
     },
     "execution_count": 8,
     "metadata": {},
     "output_type": "execute_result"
    }
   ],
   "source": [
    "Task1_images_dict.keys()"
   ]
  },
  {
   "cell_type": "code",
   "execution_count": 9,
   "metadata": {
    "pycharm": {
     "name": "#%%\n"
    }
   },
   "outputs": [],
   "source": [
    "GT = {}\n",
    "\n",
    "for k in user_dict['ImageNet'].keys():\n",
    "  GT[k] = {}\n",
    "  \n",
    "  Corrects = Task1_images_dict[Method_name_map[k]]['Correct']\n",
    "  Wrongs  = Task1_images_dict[Method_name_map[k]]['Wrong']\n",
    "\n",
    "  for c in Corrects:\n",
    "    GT[k][c] = 1\n",
    "  for c in Wrongs:\n",
    "    GT[k][c] = 0"
   ]
  },
  {
   "cell_type": "code",
   "execution_count": 10,
   "metadata": {
    "pycharm": {
     "name": "#%%\n"
    }
   },
   "outputs": [],
   "source": [
    "def check_performance(user_inputs, gt):\n",
    "  correctness = []\n",
    "  for k, v in user_inputs.items():\n",
    "    if gt[k]== 1 and v == 'Yes':\n",
    "      correctness.append(1)\n",
    "    elif gt[k]== 0 and v == 'No':\n",
    "      correctness.append(1)\n",
    "    else:\n",
    "      correctness.append(0)\n",
    "\n",
    "  return np.asarray(correctness)"
   ]
  },
  {
   "cell_type": "code",
   "execution_count": 11,
   "metadata": {
    "pycharm": {
     "name": "#%%\n"
    }
   },
   "outputs": [],
   "source": [
    "user_information = {}\n",
    "\n",
    "for k in user_dict['ImageNet'].keys():\n",
    "  for u in user_dict['ImageNet'][k].keys():\n",
    "    user_information[u] = user_dict['ImageNet'][k][u]\n",
    "    user_information[u]['Correctness'] = check_performance(user_information[u]['Trials'], GT[k])\n",
    "    user_information[u]['Accuracy'] = np.mean(user_information[u]['Correctness']) \n",
    "    user_information[u]['Corrects'] = np.count_nonzero(user_information[u]['Correctness'] == 1) \n",
    "    user_information[u]['Method'] = k"
   ]
  },
  {
   "cell_type": "markdown",
   "metadata": {
    "pycharm": {
     "name": "#%% md\n"
    }
   },
   "source": [
    "### Manually Remove Bad Users"
   ]
  },
  {
   "cell_type": "code",
   "execution_count": 12,
   "metadata": {
    "pycharm": {
     "name": "#%%\n"
    }
   },
   "outputs": [],
   "source": [
    "df = pd.DataFrame.from_dict(user_information).T\n",
    "\n",
    "df['Validation Reaction Time'] = (df['Validation Reaction Time']/1000.0).astype(float)\n",
    "df['Test Reaction Time']       = (df['Test Reaction Time']/1000.0).astype(float)\n",
    "df['Accuracy'] = df['Accuracy'].astype(float)\n",
    "df['Accuracy'] = df['Accuracy'].astype(float)"
   ]
  },
  {
   "cell_type": "code",
   "execution_count": 13,
   "metadata": {
    "pycharm": {
     "name": "#%%\n"
    }
   },
   "outputs": [
    {
     "data": {
      "text/html": [
       "<div>\n",
       "<style scoped>\n",
       "    .dataframe tbody tr th:only-of-type {\n",
       "        vertical-align: middle;\n",
       "    }\n",
       "\n",
       "    .dataframe tbody tr th {\n",
       "        vertical-align: top;\n",
       "    }\n",
       "\n",
       "    .dataframe thead th {\n",
       "        text-align: right;\n",
       "    }\n",
       "</style>\n",
       "<table border=\"1\" class=\"dataframe\">\n",
       "  <thead>\n",
       "    <tr style=\"text-align: right;\">\n",
       "      <th></th>\n",
       "      <th>Trials</th>\n",
       "      <th>Prior Knowledge</th>\n",
       "      <th>Counter balance</th>\n",
       "      <th>Known</th>\n",
       "      <th>Unknown</th>\n",
       "      <th>Validation Reaction Time</th>\n",
       "      <th>Test Reaction Time</th>\n",
       "      <th>DATE</th>\n",
       "      <th>Validation Correct</th>\n",
       "      <th>Validation Incorrect</th>\n",
       "      <th>Incorrect Validation Trials</th>\n",
       "      <th>ImageNet</th>\n",
       "      <th>Correctness</th>\n",
       "      <th>Accuracy</th>\n",
       "      <th>Corrects</th>\n",
       "      <th>Method</th>\n",
       "    </tr>\n",
       "  </thead>\n",
       "  <tbody>\n",
       "    <tr>\n",
       "      <th>6386009</th>\n",
       "      <td>{'ILSVRC2012_val_00027121.JPEG': 'Yes', 'ILSVR...</td>\n",
       "      <td>{'ILSVRC2012_val_00027121.JPEG': 'No', 'ILSVRC...</td>\n",
       "      <td>15</td>\n",
       "      <td>15</td>\n",
       "      <td>7</td>\n",
       "      <td>677.6827</td>\n",
       "      <td>340.827</td>\n",
       "      <td>2022-05-01 00:17:34.793</td>\n",
       "      <td>10</td>\n",
       "      <td>0</td>\n",
       "      <td>[]</td>\n",
       "      <td>22</td>\n",
       "      <td>[1, 1, 0, 1, 0, 0, 1, 1, 1, 0, 1, 1, 0, 0, 1, ...</td>\n",
       "      <td>0.733333</td>\n",
       "      <td>22</td>\n",
       "      <td>CHM-NNs</td>\n",
       "    </tr>\n",
       "    <tr>\n",
       "      <th>6386055</th>\n",
       "      <td>{'ILSVRC2012_val_00001717.JPEG': 'No', 'ILSVRC...</td>\n",
       "      <td>{'ILSVRC2012_val_00001717.JPEG': 'No', 'ILSVRC...</td>\n",
       "      <td>11</td>\n",
       "      <td>18</td>\n",
       "      <td>5</td>\n",
       "      <td>377.5681</td>\n",
       "      <td>191.191</td>\n",
       "      <td>2022-05-01 00:23:23.449</td>\n",
       "      <td>9</td>\n",
       "      <td>1</td>\n",
       "      <td>[2]</td>\n",
       "      <td>23</td>\n",
       "      <td>[1, 1, 1, 0, 0, 1, 1, 1, 1, 1, 1, 1, 1, 1, 1, ...</td>\n",
       "      <td>0.766667</td>\n",
       "      <td>23</td>\n",
       "      <td>CHM-NNs</td>\n",
       "    </tr>\n",
       "    <tr>\n",
       "      <th>6386067</th>\n",
       "      <td>{'ILSVRC2012_val_00043746.JPEG': 'Yes', 'ILSVR...</td>\n",
       "      <td>{'ILSVRC2012_val_00043746.JPEG': 'Yes', 'ILSVR...</td>\n",
       "      <td>10</td>\n",
       "      <td>26</td>\n",
       "      <td>1</td>\n",
       "      <td>188.8774</td>\n",
       "      <td>94.889</td>\n",
       "      <td>2022-05-01 00:23:25.214</td>\n",
       "      <td>10</td>\n",
       "      <td>0</td>\n",
       "      <td>[]</td>\n",
       "      <td>27</td>\n",
       "      <td>[1, 1, 1, 1, 1, 1, 1, 1, 0, 1, 1, 0, 1, 1, 1, ...</td>\n",
       "      <td>0.900000</td>\n",
       "      <td>27</td>\n",
       "      <td>CHM-NNs</td>\n",
       "    </tr>\n",
       "    <tr>\n",
       "      <th>6386064</th>\n",
       "      <td>{'ILSVRC2012_val_00048061.JPEG': 'Yes', 'ILSVR...</td>\n",
       "      <td>{'ILSVRC2012_val_00048061.JPEG': 'Yes', 'ILSVR...</td>\n",
       "      <td>14</td>\n",
       "      <td>17</td>\n",
       "      <td>9</td>\n",
       "      <td>271.0685</td>\n",
       "      <td>136.416</td>\n",
       "      <td>2022-05-01 00:23:45.054</td>\n",
       "      <td>10</td>\n",
       "      <td>0</td>\n",
       "      <td>[]</td>\n",
       "      <td>26</td>\n",
       "      <td>[1, 1, 1, 1, 1, 0, 1, 1, 1, 1, 1, 1, 1, 1, 0, ...</td>\n",
       "      <td>0.866667</td>\n",
       "      <td>26</td>\n",
       "      <td>CHM-NNs</td>\n",
       "    </tr>\n",
       "    <tr>\n",
       "      <th>6386065</th>\n",
       "      <td>{'ILSVRC2012_val_00005684.JPEG': 'Yes', 'ILSVR...</td>\n",
       "      <td>{'ILSVRC2012_val_00005684.JPEG': 'No', 'ILSVRC...</td>\n",
       "      <td>8</td>\n",
       "      <td>18</td>\n",
       "      <td>5</td>\n",
       "      <td>548.8668</td>\n",
       "      <td>275.580</td>\n",
       "      <td>2022-05-01 00:26:28.303</td>\n",
       "      <td>10</td>\n",
       "      <td>0</td>\n",
       "      <td>[]</td>\n",
       "      <td>23</td>\n",
       "      <td>[1, 0, 1, 1, 1, 1, 1, 1, 1, 1, 0, 0, 1, 0, 1, ...</td>\n",
       "      <td>0.766667</td>\n",
       "      <td>23</td>\n",
       "      <td>CHM-NNs</td>\n",
       "    </tr>\n",
       "  </tbody>\n",
       "</table>\n",
       "</div>"
      ],
      "text/plain": [
       "                                                    Trials  \\\n",
       "6386009  {'ILSVRC2012_val_00027121.JPEG': 'Yes', 'ILSVR...   \n",
       "6386055  {'ILSVRC2012_val_00001717.JPEG': 'No', 'ILSVRC...   \n",
       "6386067  {'ILSVRC2012_val_00043746.JPEG': 'Yes', 'ILSVR...   \n",
       "6386064  {'ILSVRC2012_val_00048061.JPEG': 'Yes', 'ILSVR...   \n",
       "6386065  {'ILSVRC2012_val_00005684.JPEG': 'Yes', 'ILSVR...   \n",
       "\n",
       "                                           Prior Knowledge Counter balance  \\\n",
       "6386009  {'ILSVRC2012_val_00027121.JPEG': 'No', 'ILSVRC...              15   \n",
       "6386055  {'ILSVRC2012_val_00001717.JPEG': 'No', 'ILSVRC...              11   \n",
       "6386067  {'ILSVRC2012_val_00043746.JPEG': 'Yes', 'ILSVR...              10   \n",
       "6386064  {'ILSVRC2012_val_00048061.JPEG': 'Yes', 'ILSVR...              14   \n",
       "6386065  {'ILSVRC2012_val_00005684.JPEG': 'No', 'ILSVRC...               8   \n",
       "\n",
       "        Known Unknown  Validation Reaction Time  Test Reaction Time  \\\n",
       "6386009    15       7                  677.6827             340.827   \n",
       "6386055    18       5                  377.5681             191.191   \n",
       "6386067    26       1                  188.8774              94.889   \n",
       "6386064    17       9                  271.0685             136.416   \n",
       "6386065    18       5                  548.8668             275.580   \n",
       "\n",
       "                           DATE Validation Correct Validation Incorrect  \\\n",
       "6386009 2022-05-01 00:17:34.793                 10                    0   \n",
       "6386055 2022-05-01 00:23:23.449                  9                    1   \n",
       "6386067 2022-05-01 00:23:25.214                 10                    0   \n",
       "6386064 2022-05-01 00:23:45.054                 10                    0   \n",
       "6386065 2022-05-01 00:26:28.303                 10                    0   \n",
       "\n",
       "        Incorrect Validation Trials ImageNet  \\\n",
       "6386009                          []       22   \n",
       "6386055                         [2]       23   \n",
       "6386067                          []       27   \n",
       "6386064                          []       26   \n",
       "6386065                          []       23   \n",
       "\n",
       "                                               Correctness  Accuracy Corrects  \\\n",
       "6386009  [1, 1, 0, 1, 0, 0, 1, 1, 1, 0, 1, 1, 0, 0, 1, ...  0.733333       22   \n",
       "6386055  [1, 1, 1, 0, 0, 1, 1, 1, 1, 1, 1, 1, 1, 1, 1, ...  0.766667       23   \n",
       "6386067  [1, 1, 1, 1, 1, 1, 1, 1, 0, 1, 1, 0, 1, 1, 1, ...  0.900000       27   \n",
       "6386064  [1, 1, 1, 1, 1, 0, 1, 1, 1, 1, 1, 1, 1, 1, 0, ...  0.866667       26   \n",
       "6386065  [1, 0, 1, 1, 1, 1, 1, 1, 1, 1, 0, 0, 1, 0, 1, ...  0.766667       23   \n",
       "\n",
       "          Method  \n",
       "6386009  CHM-NNs  \n",
       "6386055  CHM-NNs  \n",
       "6386067  CHM-NNs  \n",
       "6386064  CHM-NNs  \n",
       "6386065  CHM-NNs  "
      ]
     },
     "execution_count": 13,
     "metadata": {},
     "output_type": "execute_result"
    }
   ],
   "source": [
    "df.head()"
   ]
  },
  {
   "cell_type": "markdown",
   "metadata": {
    "pycharm": {
     "name": "#%% md\n"
    }
   },
   "source": [
    "### Counter Balance Ratio"
   ]
  },
  {
   "cell_type": "code",
   "execution_count": 14,
   "metadata": {
    "pycharm": {
     "name": "#%%\n"
    }
   },
   "outputs": [
    {
     "data": {
      "image/png": "[encoded data removed]",
      "text/plain": [
       "<Figure size 2255.47x360 with 6 Axes>"
      ]
     },
     "metadata": {
      "needs_background": "light"
     },
     "output_type": "display_data"
    }
   ],
   "source": [
    "sns.displot(\n",
    "    df, x=\"Counter balance\", col=\"Method\", bins=20 ,kde=False, common_bins=False,\n",
    "    height=5, facet_kws=dict(margin_titles=True), hue=\"Method\", shrink=.95\n",
    ")\n",
    "\n",
    "plt.show()"
   ]
  },
  {
   "cell_type": "code",
   "execution_count": 15,
   "metadata": {
    "pycharm": {
     "name": "#%%\n"
    }
   },
   "outputs": [
    {
     "data": {
      "text/html": [
       "<div>\n",
       "<style scoped>\n",
       "    .dataframe tbody tr th:only-of-type {\n",
       "        vertical-align: middle;\n",
       "    }\n",
       "\n",
       "    .dataframe tbody tr th {\n",
       "        vertical-align: top;\n",
       "    }\n",
       "\n",
       "    .dataframe thead th {\n",
       "        text-align: right;\n",
       "    }\n",
       "</style>\n",
       "<table border=\"1\" class=\"dataframe\">\n",
       "  <thead>\n",
       "    <tr style=\"text-align: right;\">\n",
       "      <th></th>\n",
       "      <th>Method</th>\n",
       "      <th>Accuracy</th>\n",
       "    </tr>\n",
       "  </thead>\n",
       "  <tbody>\n",
       "    <tr>\n",
       "      <th>5</th>\n",
       "      <td>No-XAI</td>\n",
       "      <td>0.815556</td>\n",
       "    </tr>\n",
       "    <tr>\n",
       "      <th>4</th>\n",
       "      <td>KNNs</td>\n",
       "      <td>0.754444</td>\n",
       "    </tr>\n",
       "    <tr>\n",
       "      <th>3</th>\n",
       "      <td>EMD-NNs</td>\n",
       "      <td>0.767222</td>\n",
       "    </tr>\n",
       "    <tr>\n",
       "      <th>2</th>\n",
       "      <td>EMD-Corrs</td>\n",
       "      <td>0.783889</td>\n",
       "    </tr>\n",
       "    <tr>\n",
       "      <th>1</th>\n",
       "      <td>CHM-NNs</td>\n",
       "      <td>0.775556</td>\n",
       "    </tr>\n",
       "    <tr>\n",
       "      <th>0</th>\n",
       "      <td>CHM-Corrs</td>\n",
       "      <td>0.767222</td>\n",
       "    </tr>\n",
       "  </tbody>\n",
       "</table>\n",
       "</div>"
      ],
      "text/plain": [
       "      Method  Accuracy\n",
       "5     No-XAI  0.815556\n",
       "4       KNNs  0.754444\n",
       "3    EMD-NNs  0.767222\n",
       "2  EMD-Corrs  0.783889\n",
       "1    CHM-NNs  0.775556\n",
       "0  CHM-Corrs  0.767222"
      ]
     },
     "execution_count": 15,
     "metadata": {},
     "output_type": "execute_result"
    }
   ],
   "source": [
    "df.groupby('Method').mean()['Accuracy'].reset_index().sort_values(by='Method', ascending=False)"
   ]
  },
  {
   "cell_type": "markdown",
   "metadata": {
    "pycharm": {
     "name": "#%% md\n"
    }
   },
   "source": [
    "# Second Dataframe"
   ]
  },
  {
   "cell_type": "markdown",
   "metadata": {
    "pycharm": {
     "name": "#%% md\n"
    }
   },
   "source": [
    "##  Add Parent Category for auto-level"
   ]
  },
  {
   "cell_type": "code",
   "execution_count": 16,
   "metadata": {
    "pycharm": {
     "name": "#%%\n"
    }
   },
   "outputs": [],
   "source": [
    "# TODO: Each Row show be a user response with user id, image name, user response, image label, image category, Selected method"
   ]
  },
  {
   "cell_type": "code",
   "execution_count": 17,
   "metadata": {
    "pycharm": {
     "name": "#%%\n"
    }
   },
   "outputs": [],
   "source": [
    "Method_name_map = {'No-XAI': 'Method1', 'KNNs': 'Method2', 'EMD-NNs':'Method3', 'EMD-Corrs':'Method3', 'CHM-Corrs':'Method4', 'CHM-NNs':'Method4'}"
   ]
  },
  {
   "cell_type": "code",
   "execution_count": 18,
   "metadata": {
    "pycharm": {
     "name": "#%%\n"
    }
   },
   "outputs": [],
   "source": [
    "with open('../../data/raw_data/imagenet-labels.json', 'r')as f:\n",
    "  labels = json.load(f)"
   ]
  },
  {
   "cell_type": "code",
   "execution_count": 19,
   "metadata": {
    "pycharm": {
     "name": "#%%\n"
    }
   },
   "outputs": [],
   "source": [
    "parent_df12 = pd.read_csv('../../data/raw_data/ImageNet-Method-1-4-AutoLevel12.csv')\n",
    "parent_df13 = pd.read_csv('../../data/raw_data/ImageNet-Method-1-4-AutoLevel13.csv')\n",
    "parent_df14 = pd.read_csv('../../data/raw_data/ImageNet-Method-1-4-AutoLevel14.csv')"
   ]
  },
  {
   "cell_type": "code",
   "execution_count": 20,
   "metadata": {
    "pycharm": {
     "name": "#%%\n"
    }
   },
   "outputs": [],
   "source": [
    "# IMAGENET VALIDATION FOLDER\n",
    "valfolder = ImageFolder('/home/mohammad/dataset/ILSVRC2012_img_val/')\n",
    "\n",
    "ids_to_wnids = {x[1]:x[0].split('/')[-2] for x in valfolder.imgs}\n",
    "GT_WNIDS = {os.path.basename(x[0]):x[0].split('/')[-2] for x in valfolder.imgs}\n",
    "\n",
    "PARENT12_WNID = {j['GT']:j['Parent'].split('.')[0] for i,j in parent_df12[['GT', 'Parent']].iterrows()}\n",
    "PARENT13_WNID = {j['GT']:j['Parent'].split('.')[0] for i,j in parent_df13[['GT', 'Parent']].iterrows()}\n",
    "PARENT14_WNID = {j['GT']:j['Parent'].split('.')[0] for i,j in parent_df14[['GT', 'Parent']].iterrows()}"
   ]
  },
  {
   "cell_type": "code",
   "execution_count": 21,
   "metadata": {
    "pycharm": {
     "name": "#%%\n"
    }
   },
   "outputs": [],
   "source": [
    "GT = {}\n",
    "\n",
    "for k in user_dict['ImageNet'].keys():\n",
    "  GT[k] = {}\n",
    "  \n",
    "  Corrects = Task1_images_dict[Method_name_map[k]]['Correct']\n",
    "  Wrongs  = Task1_images_dict[Method_name_map[k]]['Wrong']\n",
    "\n",
    "  for c in Corrects:\n",
    "    GT[k][c] = 1\n",
    "  for c in Wrongs:\n",
    "    GT[k][c] = 0"
   ]
  },
  {
   "cell_type": "code",
   "execution_count": 22,
   "metadata": {
    "pycharm": {
     "name": "#%%\n"
    }
   },
   "outputs": [],
   "source": [
    "def check_performance(user_inputs, gt):\n",
    "  correctness = []\n",
    "  for k, v in user_inputs.items():\n",
    "    if gt[k]== 1 and v == 'Yes':\n",
    "      correctness.append(1)\n",
    "    elif gt[k]== 0 and v == 'No':\n",
    "      correctness.append(1)\n",
    "    else:\n",
    "      correctness.append(0)\n",
    "\n",
    "  return np.asarray(correctness)"
   ]
  },
  {
   "cell_type": "code",
   "execution_count": 23,
   "metadata": {
    "pycharm": {
     "name": "#%%\n"
    }
   },
   "outputs": [],
   "source": [
    "user_information = {}\n",
    "\n",
    "for k in user_dict['ImageNet'].keys():\n",
    "  for u in user_dict['ImageNet'][k].keys():\n",
    "    \n",
    "    user_information[u] = copy.deepcopy(user_dict['ImageNet'][k][u])\n",
    "    \n",
    "    user_information[u]['Prior Knowledge'] =   user_dict['ImageNet'][k][u]['Prior Knowledge'].values()\n",
    "    \n",
    "    user_information[u]['Correctness'] = check_performance(user_information[u]['Trials'], GT[k])\n",
    "    user_information[u]['Accuracy'] = np.mean(user_information[u]['Correctness']) \n",
    "    user_information[u]['Corrects'] = np.count_nonzero(user_information[u]['Correctness'] == 1) \n",
    "    user_information[u]['Method'] = k"
   ]
  },
  {
   "cell_type": "code",
   "execution_count": 24,
   "metadata": {
    "pycharm": {
     "name": "#%%\n"
    }
   },
   "outputs": [],
   "source": [
    "df = pd.DataFrame.from_dict(user_information).T"
   ]
  },
  {
   "cell_type": "code",
   "execution_count": 25,
   "metadata": {
    "pycharm": {
     "name": "#%%\n"
    }
   },
   "outputs": [
    {
     "name": "stderr",
     "output_type": "stream",
     "text": [
      "/tmp/ipykernel_2344027/3088959643.py:1: FutureWarning: In a future version of pandas all arguments of DataFrame.drop except for the argument 'labels' will be keyword-only.\n",
      "  df2 = df.explode(['Trials', 'Prior Knowledge', 'Correctness']).reset_index(drop=False).drop(['Incorrect Validation Trials'], 1)\n"
     ]
    }
   ],
   "source": [
    "df2 = df.explode(['Trials', 'Prior Knowledge', 'Correctness']).reset_index(drop=False).drop(['Incorrect Validation Trials'], 1)\n",
    "\n",
    "df2['Prior Knowledge'] = [1 if v=='Yes' else 0 for v in df2['Prior Knowledge']]"
   ]
  },
  {
   "cell_type": "code",
   "execution_count": 26,
   "metadata": {
    "pycharm": {
     "name": "#%%\n"
    }
   },
   "outputs": [
    {
     "data": {
      "text/html": [
       "<div>\n",
       "<style scoped>\n",
       "    .dataframe tbody tr th:only-of-type {\n",
       "        vertical-align: middle;\n",
       "    }\n",
       "\n",
       "    .dataframe tbody tr th {\n",
       "        vertical-align: top;\n",
       "    }\n",
       "\n",
       "    .dataframe thead th {\n",
       "        text-align: right;\n",
       "    }\n",
       "</style>\n",
       "<table border=\"1\" class=\"dataframe\">\n",
       "  <thead>\n",
       "    <tr style=\"text-align: right;\">\n",
       "      <th></th>\n",
       "      <th>index</th>\n",
       "      <th>Trials</th>\n",
       "      <th>Prior Knowledge</th>\n",
       "      <th>Counter balance</th>\n",
       "      <th>Known</th>\n",
       "      <th>Unknown</th>\n",
       "      <th>Validation Reaction Time</th>\n",
       "      <th>Test Reaction Time</th>\n",
       "      <th>DATE</th>\n",
       "      <th>Validation Correct</th>\n",
       "      <th>Validation Incorrect</th>\n",
       "      <th>ImageNet</th>\n",
       "      <th>Correctness</th>\n",
       "      <th>Accuracy</th>\n",
       "      <th>Corrects</th>\n",
       "      <th>Method</th>\n",
       "    </tr>\n",
       "  </thead>\n",
       "  <tbody>\n",
       "    <tr>\n",
       "      <th>0</th>\n",
       "      <td>6386009</td>\n",
       "      <td>ILSVRC2012_val_00027121.JPEG</td>\n",
       "      <td>0</td>\n",
       "      <td>15</td>\n",
       "      <td>15</td>\n",
       "      <td>7</td>\n",
       "      <td>677682.700001</td>\n",
       "      <td>340827.0</td>\n",
       "      <td>2022-05-01 00:17:34.793</td>\n",
       "      <td>10</td>\n",
       "      <td>0</td>\n",
       "      <td>22</td>\n",
       "      <td>1</td>\n",
       "      <td>0.733333</td>\n",
       "      <td>22</td>\n",
       "      <td>CHM-NNs</td>\n",
       "    </tr>\n",
       "    <tr>\n",
       "      <th>1</th>\n",
       "      <td>6386009</td>\n",
       "      <td>ILSVRC2012_val_00008987.JPEG</td>\n",
       "      <td>0</td>\n",
       "      <td>15</td>\n",
       "      <td>15</td>\n",
       "      <td>7</td>\n",
       "      <td>677682.700001</td>\n",
       "      <td>340827.0</td>\n",
       "      <td>2022-05-01 00:17:34.793</td>\n",
       "      <td>10</td>\n",
       "      <td>0</td>\n",
       "      <td>22</td>\n",
       "      <td>1</td>\n",
       "      <td>0.733333</td>\n",
       "      <td>22</td>\n",
       "      <td>CHM-NNs</td>\n",
       "    </tr>\n",
       "    <tr>\n",
       "      <th>2</th>\n",
       "      <td>6386009</td>\n",
       "      <td>ILSVRC2012_val_00043672.JPEG</td>\n",
       "      <td>1</td>\n",
       "      <td>15</td>\n",
       "      <td>15</td>\n",
       "      <td>7</td>\n",
       "      <td>677682.700001</td>\n",
       "      <td>340827.0</td>\n",
       "      <td>2022-05-01 00:17:34.793</td>\n",
       "      <td>10</td>\n",
       "      <td>0</td>\n",
       "      <td>22</td>\n",
       "      <td>0</td>\n",
       "      <td>0.733333</td>\n",
       "      <td>22</td>\n",
       "      <td>CHM-NNs</td>\n",
       "    </tr>\n",
       "    <tr>\n",
       "      <th>3</th>\n",
       "      <td>6386009</td>\n",
       "      <td>ILSVRC2012_val_00011479.JPEG</td>\n",
       "      <td>1</td>\n",
       "      <td>15</td>\n",
       "      <td>15</td>\n",
       "      <td>7</td>\n",
       "      <td>677682.700001</td>\n",
       "      <td>340827.0</td>\n",
       "      <td>2022-05-01 00:17:34.793</td>\n",
       "      <td>10</td>\n",
       "      <td>0</td>\n",
       "      <td>22</td>\n",
       "      <td>1</td>\n",
       "      <td>0.733333</td>\n",
       "      <td>22</td>\n",
       "      <td>CHM-NNs</td>\n",
       "    </tr>\n",
       "    <tr>\n",
       "      <th>4</th>\n",
       "      <td>6386009</td>\n",
       "      <td>ILSVRC2012_val_00034787.JPEG</td>\n",
       "      <td>1</td>\n",
       "      <td>15</td>\n",
       "      <td>15</td>\n",
       "      <td>7</td>\n",
       "      <td>677682.700001</td>\n",
       "      <td>340827.0</td>\n",
       "      <td>2022-05-01 00:17:34.793</td>\n",
       "      <td>10</td>\n",
       "      <td>0</td>\n",
       "      <td>22</td>\n",
       "      <td>0</td>\n",
       "      <td>0.733333</td>\n",
       "      <td>22</td>\n",
       "      <td>CHM-NNs</td>\n",
       "    </tr>\n",
       "  </tbody>\n",
       "</table>\n",
       "</div>"
      ],
      "text/plain": [
       "     index                        Trials  Prior Knowledge Counter balance  \\\n",
       "0  6386009  ILSVRC2012_val_00027121.JPEG                0              15   \n",
       "1  6386009  ILSVRC2012_val_00008987.JPEG                0              15   \n",
       "2  6386009  ILSVRC2012_val_00043672.JPEG                1              15   \n",
       "3  6386009  ILSVRC2012_val_00011479.JPEG                1              15   \n",
       "4  6386009  ILSVRC2012_val_00034787.JPEG                1              15   \n",
       "\n",
       "  Known Unknown Validation Reaction Time Test Reaction Time  \\\n",
       "0    15       7            677682.700001           340827.0   \n",
       "1    15       7            677682.700001           340827.0   \n",
       "2    15       7            677682.700001           340827.0   \n",
       "3    15       7            677682.700001           340827.0   \n",
       "4    15       7            677682.700001           340827.0   \n",
       "\n",
       "                     DATE Validation Correct Validation Incorrect ImageNet  \\\n",
       "0 2022-05-01 00:17:34.793                 10                    0       22   \n",
       "1 2022-05-01 00:17:34.793                 10                    0       22   \n",
       "2 2022-05-01 00:17:34.793                 10                    0       22   \n",
       "3 2022-05-01 00:17:34.793                 10                    0       22   \n",
       "4 2022-05-01 00:17:34.793                 10                    0       22   \n",
       "\n",
       "  Correctness  Accuracy Corrects   Method  \n",
       "0           1  0.733333       22  CHM-NNs  \n",
       "1           1  0.733333       22  CHM-NNs  \n",
       "2           0  0.733333       22  CHM-NNs  \n",
       "3           1  0.733333       22  CHM-NNs  \n",
       "4           0  0.733333       22  CHM-NNs  "
      ]
     },
     "execution_count": 26,
     "metadata": {},
     "output_type": "execute_result"
    }
   ],
   "source": [
    "df2.head()"
   ]
  },
  {
   "cell_type": "code",
   "execution_count": 27,
   "metadata": {
    "pycharm": {
     "name": "#%%\n"
    }
   },
   "outputs": [
    {
     "data": {
      "text/plain": [
       "Index(['index', 'Trials', 'Prior Knowledge', 'Counter balance', 'Known',\n",
       "       'Unknown', 'Validation Reaction Time', 'Test Reaction Time', 'DATE',\n",
       "       'Validation Correct', 'Validation Incorrect', 'ImageNet', 'Correctness',\n",
       "       'Accuracy', 'Corrects', 'Method'],\n",
       "      dtype='object')"
      ]
     },
     "execution_count": 27,
     "metadata": {},
     "output_type": "execute_result"
    }
   ],
   "source": [
    "df2.columns"
   ]
  },
  {
   "cell_type": "code",
   "execution_count": 28,
   "metadata": {
    "pycharm": {
     "name": "#%%\n"
    }
   },
   "outputs": [
    {
     "name": "stderr",
     "output_type": "stream",
     "text": [
      "/tmp/ipykernel_2344027/4077716112.py:1: FutureWarning: In a future version of pandas all arguments of DataFrame.drop except for the argument 'labels' will be keyword-only.\n",
      "  df2 = df.explode(['Trials', 'Prior Knowledge', 'Correctness']).reset_index(drop=False).drop(['Incorrect Validation Trials'], 1)\n"
     ]
    }
   ],
   "source": [
    "df2 = df.explode(['Trials', 'Prior Knowledge', 'Correctness']).reset_index(drop=False).drop(['Incorrect Validation Trials'], 1)\n",
    "\n",
    "df2['Prior Knowledge'] = [1 if v=='Yes' else 0 for v in df2['Prior Knowledge']]\n",
    "\n",
    "df2.columns = ['UID', 'Query', 'Prior Knowledge', 'Counter balance', 'Group Known', 'Group Unknown', 'Validation Reaction Time', 'Test Reaction Time', 'DATE',\n",
    "        'Group Validation Correct', 'Group Validation Incorrect', 'ImageNet', 'Correctness', 'User Accuracy', 'User Corrects', 'Method']\n",
    "\n",
    "\n",
    "wnids = [GT_WNIDS[x] for x in  df2.Query]\n",
    "\n",
    "parents12 = [PARENT12_WNID[x] for x in  wnids]\n",
    "parents13 = [PARENT13_WNID[x] for x in  wnids]\n",
    "parents14 = [PARENT14_WNID[x] for x in  wnids]\n",
    "\n",
    "\n",
    "df2['GroundTruth'] = wnids\n",
    "df2['Parent-lvl12'] = parents12\n",
    "df2['Parent-lvl13'] = parents13\n",
    "df2['Parent-lvl14'] = parents14\n",
    "\n",
    "df2 = df2.convert_dtypes()"
   ]
  },
  {
   "cell_type": "code",
   "execution_count": 29,
   "metadata": {
    "pycharm": {
     "name": "#%%\n"
    }
   },
   "outputs": [
    {
     "data": {
      "text/html": [
       "<div>\n",
       "<style scoped>\n",
       "    .dataframe tbody tr th:only-of-type {\n",
       "        vertical-align: middle;\n",
       "    }\n",
       "\n",
       "    .dataframe tbody tr th {\n",
       "        vertical-align: top;\n",
       "    }\n",
       "\n",
       "    .dataframe thead th {\n",
       "        text-align: right;\n",
       "    }\n",
       "</style>\n",
       "<table border=\"1\" class=\"dataframe\">\n",
       "  <thead>\n",
       "    <tr style=\"text-align: right;\">\n",
       "      <th></th>\n",
       "      <th>UID</th>\n",
       "      <th>Query</th>\n",
       "      <th>Prior Knowledge</th>\n",
       "      <th>Counter balance</th>\n",
       "      <th>Group Known</th>\n",
       "      <th>Group Unknown</th>\n",
       "      <th>Validation Reaction Time</th>\n",
       "      <th>Test Reaction Time</th>\n",
       "      <th>DATE</th>\n",
       "      <th>Group Validation Correct</th>\n",
       "      <th>Group Validation Incorrect</th>\n",
       "      <th>ImageNet</th>\n",
       "      <th>Correctness</th>\n",
       "      <th>User Accuracy</th>\n",
       "      <th>User Corrects</th>\n",
       "      <th>Method</th>\n",
       "      <th>GroundTruth</th>\n",
       "      <th>Parent-lvl12</th>\n",
       "      <th>Parent-lvl13</th>\n",
       "      <th>Parent-lvl14</th>\n",
       "    </tr>\n",
       "  </thead>\n",
       "  <tbody>\n",
       "    <tr>\n",
       "      <th>0</th>\n",
       "      <td>6386009</td>\n",
       "      <td>ILSVRC2012_val_00027121.JPEG</td>\n",
       "      <td>0</td>\n",
       "      <td>15</td>\n",
       "      <td>15</td>\n",
       "      <td>7</td>\n",
       "      <td>677682.700001</td>\n",
       "      <td>340827</td>\n",
       "      <td>2022-05-01 00:17:34.793</td>\n",
       "      <td>10</td>\n",
       "      <td>0</td>\n",
       "      <td>22</td>\n",
       "      <td>1</td>\n",
       "      <td>0.733333</td>\n",
       "      <td>22</td>\n",
       "      <td>CHM-NNs</td>\n",
       "      <td>n02112350</td>\n",
       "      <td>carnivore</td>\n",
       "      <td>canine</td>\n",
       "      <td>dog</td>\n",
       "    </tr>\n",
       "    <tr>\n",
       "      <th>1</th>\n",
       "      <td>6386009</td>\n",
       "      <td>ILSVRC2012_val_00008987.JPEG</td>\n",
       "      <td>0</td>\n",
       "      <td>15</td>\n",
       "      <td>15</td>\n",
       "      <td>7</td>\n",
       "      <td>677682.700001</td>\n",
       "      <td>340827</td>\n",
       "      <td>2022-05-01 00:17:34.793</td>\n",
       "      <td>10</td>\n",
       "      <td>0</td>\n",
       "      <td>22</td>\n",
       "      <td>1</td>\n",
       "      <td>0.733333</td>\n",
       "      <td>22</td>\n",
       "      <td>CHM-NNs</td>\n",
       "      <td>n01980166</td>\n",
       "      <td>invertebrate</td>\n",
       "      <td>invertebrate</td>\n",
       "      <td>invertebrate</td>\n",
       "    </tr>\n",
       "    <tr>\n",
       "      <th>2</th>\n",
       "      <td>6386009</td>\n",
       "      <td>ILSVRC2012_val_00043672.JPEG</td>\n",
       "      <td>1</td>\n",
       "      <td>15</td>\n",
       "      <td>15</td>\n",
       "      <td>7</td>\n",
       "      <td>677682.700001</td>\n",
       "      <td>340827</td>\n",
       "      <td>2022-05-01 00:17:34.793</td>\n",
       "      <td>10</td>\n",
       "      <td>0</td>\n",
       "      <td>22</td>\n",
       "      <td>0</td>\n",
       "      <td>0.733333</td>\n",
       "      <td>22</td>\n",
       "      <td>CHM-NNs</td>\n",
       "      <td>n02093428</td>\n",
       "      <td>carnivore</td>\n",
       "      <td>canine</td>\n",
       "      <td>dog</td>\n",
       "    </tr>\n",
       "    <tr>\n",
       "      <th>3</th>\n",
       "      <td>6386009</td>\n",
       "      <td>ILSVRC2012_val_00011479.JPEG</td>\n",
       "      <td>1</td>\n",
       "      <td>15</td>\n",
       "      <td>15</td>\n",
       "      <td>7</td>\n",
       "      <td>677682.700001</td>\n",
       "      <td>340827</td>\n",
       "      <td>2022-05-01 00:17:34.793</td>\n",
       "      <td>10</td>\n",
       "      <td>0</td>\n",
       "      <td>22</td>\n",
       "      <td>1</td>\n",
       "      <td>0.733333</td>\n",
       "      <td>22</td>\n",
       "      <td>CHM-NNs</td>\n",
       "      <td>n04350905</td>\n",
       "      <td>commodity</td>\n",
       "      <td>commodity</td>\n",
       "      <td>commodity</td>\n",
       "    </tr>\n",
       "    <tr>\n",
       "      <th>4</th>\n",
       "      <td>6386009</td>\n",
       "      <td>ILSVRC2012_val_00034787.JPEG</td>\n",
       "      <td>1</td>\n",
       "      <td>15</td>\n",
       "      <td>15</td>\n",
       "      <td>7</td>\n",
       "      <td>677682.700001</td>\n",
       "      <td>340827</td>\n",
       "      <td>2022-05-01 00:17:34.793</td>\n",
       "      <td>10</td>\n",
       "      <td>0</td>\n",
       "      <td>22</td>\n",
       "      <td>0</td>\n",
       "      <td>0.733333</td>\n",
       "      <td>22</td>\n",
       "      <td>CHM-NNs</td>\n",
       "      <td>n07754684</td>\n",
       "      <td>natural_object</td>\n",
       "      <td>natural_object</td>\n",
       "      <td>natural_object</td>\n",
       "    </tr>\n",
       "  </tbody>\n",
       "</table>\n",
       "</div>"
      ],
      "text/plain": [
       "       UID                         Query  Prior Knowledge  Counter balance  \\\n",
       "0  6386009  ILSVRC2012_val_00027121.JPEG                0               15   \n",
       "1  6386009  ILSVRC2012_val_00008987.JPEG                0               15   \n",
       "2  6386009  ILSVRC2012_val_00043672.JPEG                1               15   \n",
       "3  6386009  ILSVRC2012_val_00011479.JPEG                1               15   \n",
       "4  6386009  ILSVRC2012_val_00034787.JPEG                1               15   \n",
       "\n",
       "   Group Known  Group Unknown  Validation Reaction Time  Test Reaction Time  \\\n",
       "0           15              7             677682.700001              340827   \n",
       "1           15              7             677682.700001              340827   \n",
       "2           15              7             677682.700001              340827   \n",
       "3           15              7             677682.700001              340827   \n",
       "4           15              7             677682.700001              340827   \n",
       "\n",
       "                     DATE  Group Validation Correct  \\\n",
       "0 2022-05-01 00:17:34.793                        10   \n",
       "1 2022-05-01 00:17:34.793                        10   \n",
       "2 2022-05-01 00:17:34.793                        10   \n",
       "3 2022-05-01 00:17:34.793                        10   \n",
       "4 2022-05-01 00:17:34.793                        10   \n",
       "\n",
       "   Group Validation Incorrect  ImageNet  Correctness  User Accuracy  \\\n",
       "0                           0        22            1       0.733333   \n",
       "1                           0        22            1       0.733333   \n",
       "2                           0        22            0       0.733333   \n",
       "3                           0        22            1       0.733333   \n",
       "4                           0        22            0       0.733333   \n",
       "\n",
       "   User Corrects   Method GroundTruth    Parent-lvl12    Parent-lvl13  \\\n",
       "0             22  CHM-NNs   n02112350       carnivore          canine   \n",
       "1             22  CHM-NNs   n01980166    invertebrate    invertebrate   \n",
       "2             22  CHM-NNs   n02093428       carnivore          canine   \n",
       "3             22  CHM-NNs   n04350905       commodity       commodity   \n",
       "4             22  CHM-NNs   n07754684  natural_object  natural_object   \n",
       "\n",
       "     Parent-lvl14  \n",
       "0             dog  \n",
       "1    invertebrate  \n",
       "2             dog  \n",
       "3       commodity  \n",
       "4  natural_object  "
      ]
     },
     "execution_count": 29,
     "metadata": {},
     "output_type": "execute_result"
    }
   ],
   "source": [
    "df2.head()"
   ]
  },
  {
   "cell_type": "markdown",
   "metadata": {
    "pycharm": {
     "name": "#%% md\n"
    }
   },
   "source": [
    "## Classifier Correctness"
   ]
  },
  {
   "cell_type": "code",
   "execution_count": 30,
   "metadata": {
    "pycharm": {
     "name": "#%%\n"
    }
   },
   "outputs": [],
   "source": [
    "ClassifierCorrectness = []\n",
    "\n",
    "for i, MQ in df2[['Method', 'Query']].iterrows():\n",
    "  corrects = Task1_images_dict[Method_name_map[MQ['Method']]]['Correct'].keys()\n",
    "  wrongs   = Task1_images_dict[Method_name_map[MQ['Method']]]['Wrong'].keys()\n",
    "  \n",
    "  if MQ['Query'] in corrects:\n",
    "    ClassifierCorrectness.append(1)\n",
    "  elif MQ['Query'] in wrongs:   \n",
    "    ClassifierCorrectness.append(0)\n",
    "  else:\n",
    "    raise\n"
   ]
  },
  {
   "cell_type": "code",
   "execution_count": 31,
   "metadata": {
    "pycharm": {
     "name": "#%%\n"
    }
   },
   "outputs": [],
   "source": [
    "df2['ClassifierCorrectness'] = ClassifierCorrectness"
   ]
  },
  {
   "cell_type": "markdown",
   "metadata": {
    "pycharm": {
     "name": "#%% md\n"
    }
   },
   "source": [
    "## AI Confidence and Easy Medium Hard Samples"
   ]
  },
  {
   "cell_type": "code",
   "execution_count": 32,
   "metadata": {
    "pycharm": {
     "name": "#%%\n"
    }
   },
   "outputs": [],
   "source": [
    "with open('../../data/raw_data/ImageNet50K.pickle', 'rb') as f:\n",
    "  ImageNet = pickle.load(f)\n",
    "  \n",
    "with open('../../data/raw_data/imagenet1k-val-50k-emd_results_floral-totem-288.pickle', 'rb') as f:\n",
    "  Method3_All = pickle.load(f)"
   ]
  },
  {
   "cell_type": "code",
   "execution_count": 33,
   "metadata": {
    "pycharm": {
     "name": "#%%\n"
    }
   },
   "outputs": [],
   "source": [
    "with open('../../data/raw_data/ImageNet1K-50K-Method1.pickle', 'rb')as f:\n",
    "  Method1_ALL = pickle.load(f)"
   ]
  },
  {
   "cell_type": "code",
   "execution_count": 34,
   "metadata": {
    "pycharm": {
     "name": "#%%\n"
    }
   },
   "outputs": [],
   "source": [
    "REAL_GTs = {os.path.basename(ImageNet[x]['q']):  ImageNet[x]['gt_real_labels'] for x in range(len(ImageNet))}\n",
    "# CONFIDENCE SCORES\n",
    "KNN_CONF = {os.path.basename(ImageNet[x]['q']):  ImageNet[x]['knn-prediction-confidance'] for x in range(len(ImageNet))}\n",
    "CHM_CONF = {os.path.basename(ImageNet[x]['q']):  ImageNet[x]['chm-prediction-confidance'] for x in range(len(ImageNet))}\n",
    "EMD_CONF = {os.path.basename(Method3_All['prediction_info'][x]['query-path']):Method3_All['prediction_info'][x]['emd-confidence'] for x in range(50_000)}"
   ]
  },
  {
   "cell_type": "code",
   "execution_count": 35,
   "metadata": {
    "pycharm": {
     "name": "#%%\n"
    }
   },
   "outputs": [],
   "source": [
    "KNN_Preds = {os.path.basename(ImageNet[x]['q']):  ImageNet[x]['knn-prediction'] for x in range(len(ImageNet))}\n",
    "EMD_Preds = {os.path.basename(Method3_All['prediction_info'][x]['query-path']):Method3_All['prediction_info'][x]['emd-predictions'] for x in range(50_000)}\n",
    "CHM_Preds = {os.path.basename(ImageNet[x]['q']):  ImageNet[x]['chm-prediction'] for x in range(len(ImageNet))}"
   ]
  },
  {
   "cell_type": "code",
   "execution_count": 36,
   "metadata": {
    "pycharm": {
     "name": "#%%\n"
    }
   },
   "outputs": [],
   "source": [
    "def get_conf(q, method):\n",
    "  if method=='No-XAI':\n",
    "    if q in Task1_images_dict[Method_name_map[method]]['Correct'].keys():\n",
    "      return Task1_images_dict[Method_name_map[method]]['Correct'][q]['ResNet50-confidence']/100\n",
    "    if q in Task1_images_dict[Method_name_map[method]]['Wrong'].keys():\n",
    "      return Task1_images_dict[Method_name_map[method]]['Wrong'][q]['ResNet50-confidence']/100\n",
    "  \n",
    "  elif method=='KNNs':\n",
    "    if q in Task1_images_dict[Method_name_map[method]]['Correct'].keys():\n",
    "      return Task1_images_dict[Method_name_map[method]]['Correct'][q]['confidence']/20\n",
    "    if q in Task1_images_dict[Method_name_map[method]]['Wrong'].keys():\n",
    "      return Task1_images_dict[Method_name_map[method]]['Wrong'][q]['confidence']/20\n",
    "\n",
    "  elif method=='EMD-NNs':\n",
    "    if q in Task1_images_dict[Method_name_map[method]]['Correct'].keys():\n",
    "      return EMD_CONF[q]/20\n",
    "    if q in Task1_images_dict[Method_name_map[method]]['Wrong'].keys():\n",
    "      return EMD_CONF[q]/20\n",
    "  \n",
    "  elif method=='EMD-Corrs':\n",
    "    if q in Task1_images_dict[Method_name_map[method]]['Correct'].keys():\n",
    "      return EMD_CONF[q]/20\n",
    "    if q in Task1_images_dict[Method_name_map[method]]['Wrong'].keys():\n",
    "      return EMD_CONF[q]/20\n",
    "  \n",
    "  elif method=='CHM-NNs':\n",
    "    if q in Task1_images_dict[Method_name_map[method]]['Correct'].keys():\n",
    "      return CHM_CONF[q]/20\n",
    "    if q in Task1_images_dict[Method_name_map[method]]['Wrong'].keys():\n",
    "      return CHM_CONF[q]/20\n",
    "  \n",
    "  elif method=='CHM-Corrs':\n",
    "    if q in Task1_images_dict[Method_name_map[method]]['Correct'].keys():\n",
    "      return CHM_CONF[q]/20\n",
    "    if q in Task1_images_dict[Method_name_map[method]]['Wrong'].keys():\n",
    "      return CHM_CONF[q]/20\n",
    "  else:\n",
    "    raise"
   ]
  },
  {
   "cell_type": "code",
   "execution_count": 37,
   "metadata": {
    "pycharm": {
     "name": "#%%\n"
    }
   },
   "outputs": [],
   "source": [
    "DifficultyLevel = []\n",
    "\n",
    "for i, MQ in df2[['Method', 'Query']].iterrows():\n",
    "  corrects = Task1_images_dict[Method_name_map[MQ['Method']]]['Correct'].keys()\n",
    "  wrongs   = Task1_images_dict[Method_name_map[MQ['Method']]]['Wrong'].keys()\n",
    "  conf = get_conf(MQ['Query'], MQ['Method'])\n",
    "  \n",
    "  if MQ['Query'] in corrects:\n",
    "    \n",
    "    if conf>=0 and conf <0.35:\n",
    "      DifficultyLevel.append('Hard')\n",
    "    elif conf>=0.35 and conf <0.75:\n",
    "      DifficultyLevel.append('Medium')\n",
    "    elif conf>=0.75 and conf <=1:\n",
    "      DifficultyLevel.append('Easy')\n",
    "    else:\n",
    "      DifficultyLevel.append('UnCat')\n",
    "    \n",
    "  elif MQ['Query'] in wrongs:   \n",
    "    \n",
    "    if conf>=0 and conf <0.35:\n",
    "      DifficultyLevel.append('Easy')\n",
    "    elif conf>=0.35 and conf <0.75:\n",
    "      DifficultyLevel.append('Medium')\n",
    "    elif conf>=0.75 and conf <=1:\n",
    "      DifficultyLevel.append('Hard')\n",
    "    else:\n",
    "      DifficultyLevel.append('UnCat')\n",
    "    \n",
    "  else:\n",
    "    raise"
   ]
  },
  {
   "cell_type": "code",
   "execution_count": 38,
   "metadata": {
    "pycharm": {
     "name": "#%%\n"
    }
   },
   "outputs": [],
   "source": [
    "ConfidenceScore = []\n",
    "\n",
    "for i, MQ in df2[['Method', 'Query']].iterrows():\n",
    "  corrects = Task1_images_dict[Method_name_map[MQ['Method']]]['Correct'].keys()\n",
    "  wrongs   = Task1_images_dict[Method_name_map[MQ['Method']]]['Wrong'].keys()\n",
    "  conf = get_conf(MQ['Query'], MQ['Method'])\n",
    "  ConfidenceScore.append(conf)"
   ]
  },
  {
   "cell_type": "code",
   "execution_count": 39,
   "metadata": {
    "pycharm": {
     "name": "#%%\n"
    }
   },
   "outputs": [],
   "source": [
    "df2['DifficultyLevel'] = DifficultyLevel\n",
    "df2['ConfidenceScore'] = ConfidenceScore"
   ]
  },
  {
   "cell_type": "code",
   "execution_count": 40,
   "metadata": {
    "pycharm": {
     "name": "#%%\n"
    }
   },
   "outputs": [],
   "source": [
    "from collections import Counter"
   ]
  },
  {
   "cell_type": "code",
   "execution_count": 41,
   "metadata": {
    "pycharm": {
     "name": "#%%\n"
    }
   },
   "outputs": [
    {
     "data": {
      "text/plain": [
       "Counter({1: 5444, 0: 5356})"
      ]
     },
     "execution_count": 41,
     "metadata": {},
     "output_type": "execute_result"
    }
   ],
   "source": [
    "Counter(df2['ClassifierCorrectness'])"
   ]
  },
  {
   "cell_type": "code",
   "execution_count": 42,
   "metadata": {
    "pycharm": {
     "name": "#%%\n"
    }
   },
   "outputs": [
    {
     "data": {
      "text/plain": [
       "Method     ClassifierCorrectness\n",
       "CHM-Corrs  0                        897\n",
       "           1                        903\n",
       "CHM-NNs    0                        889\n",
       "           1                        911\n",
       "EMD-Corrs  0                        895\n",
       "           1                        905\n",
       "EMD-NNs    0                        887\n",
       "           1                        913\n",
       "KNNs       0                        882\n",
       "           1                        918\n",
       "No-XAI     0                        906\n",
       "           1                        894\n",
       "Name: ClassifierCorrectness, dtype: int64"
      ]
     },
     "execution_count": 42,
     "metadata": {},
     "output_type": "execute_result"
    }
   ],
   "source": [
    "df2.groupby(['Method', 'ClassifierCorrectness'])['ClassifierCorrectness'].count()"
   ]
  },
  {
   "cell_type": "markdown",
   "metadata": {
    "pycharm": {
     "name": "#%% md\n"
    }
   },
   "source": [
    "# Add GT and All Method's prediction"
   ]
  },
  {
   "cell_type": "code",
   "execution_count": 43,
   "metadata": {
    "pycharm": {
     "name": "#%%\n"
    }
   },
   "outputs": [],
   "source": [
    "REAL_GTs = {os.path.basename(ImageNet[x]['q']):  ImageNet[x]['gt_real_labels'] for x in range(len(ImageNet))}\n",
    "REAL_GTs_WNIDs = {os.path.basename(ImageNet[x]['q']):  ImageNet[x]['gt_real_wnids'] for x in range(len(ImageNet))}\n",
    "\n",
    "# CONFIDENCE SCORES\n",
    "KNN_CONF = {os.path.basename(ImageNet[x]['q']):  ImageNet[x]['knn-prediction-confidance'] for x in range(len(ImageNet))}\n",
    "CHM_CONF = {os.path.basename(ImageNet[x]['q']):  ImageNet[x]['chm-prediction-confidance'] for x in range(len(ImageNet))}\n",
    "\n",
    "EMD_CONF = {os.path.basename(Method3_All['prediction_info'][x]['query-path']):Method3_All['prediction_info'][x]['emd-confidence'] for x in range(50_000)}"
   ]
  },
  {
   "cell_type": "code",
   "execution_count": 44,
   "metadata": {
    "pycharm": {
     "name": "#%%\n"
    }
   },
   "outputs": [],
   "source": [
    "KNN_Preds = {os.path.basename(ImageNet[x]['q']):  ImageNet[x]['knn-prediction'] for x in range(len(ImageNet))}\n",
    "EMD_Preds = {os.path.basename(Method3_All['prediction_info'][x]['query-path']):labels[Method3_All['prediction_info'][x]['emd-predictions']] for x in range(50_000)}\n",
    "CHM_Preds = {os.path.basename(ImageNet[x]['q']):  ImageNet[x]['chm-prediction'] for x in range(len(ImageNet))}"
   ]
  },
  {
   "cell_type": "code",
   "execution_count": 45,
   "metadata": {
    "pycharm": {
     "name": "#%%\n"
    }
   },
   "outputs": [],
   "source": [
    "RESNET_Preds = {os.path.basename(ImageNet[x]['q']):  labels[ids_to_wnids[Method1_ALL[0][x]]] for x in range(len(ImageNet))} \n",
    "RESNET_CONF = {os.path.basename(ImageNet[x]['q']):  Method1_ALL[1][x]/100  for x in range(len(ImageNet))}   #{Method1_ALL[1][x]}"
   ]
  },
  {
   "cell_type": "code",
   "execution_count": 46,
   "metadata": {
    "pycharm": {
     "name": "#%%\n"
    }
   },
   "outputs": [],
   "source": [
    "methd_1_prediction = [RESNET_Preds[x] for x in df2['Query']]\n",
    "methd_2_prediction = [KNN_Preds[x] for x in df2['Query']]\n",
    "methd_3_prediction = [EMD_Preds[x] for x in df2['Query']]\n",
    "methd_4_prediction = [CHM_Preds[x] for x in df2['Query']]\n",
    "\n",
    "methd_1_conf = [RESNET_CONF[x] for x in df2['Query']]\n",
    "methd_2_conf = [KNN_CONF[x]/20.0 for x in df2['Query']]\n",
    "methd_3_conf = [EMD_CONF[x]/20.0 for x in df2['Query']]\n",
    "methd_4_conf = [CHM_CONF[x]/20.0 for x in df2['Query']]\n",
    "\n",
    "gt_real_column = [REAL_GTs[x] for x in df2['Query']]\n",
    "gt_real_column_wnid = [REAL_GTs_WNIDs[x] for x in df2['Query']]"
   ]
  },
  {
   "cell_type": "code",
   "execution_count": 47,
   "metadata": {
    "pycharm": {
     "name": "#%%\n"
    },
    "tags": []
   },
   "outputs": [],
   "source": [
    "df2['ResNet-Prediction']= methd_1_prediction \n",
    "df2['KNN-Prediction']   = methd_2_prediction \n",
    "df2['EMD-Prediction']   = methd_3_prediction \n",
    "df2['CHM-Prediction']   = methd_4_prediction "
   ]
  },
  {
   "cell_type": "code",
   "execution_count": 48,
   "metadata": {
    "pycharm": {
     "name": "#%%\n"
    }
   },
   "outputs": [],
   "source": [
    "df2['ResNet-Conf']= methd_1_conf\n",
    "df2['KNN-Conf']   = methd_2_conf\n",
    "df2['EMD-Conf']   = methd_3_conf\n",
    "df2['CHM-Conf']   = methd_4_conf"
   ]
  },
  {
   "cell_type": "code",
   "execution_count": 49,
   "metadata": {
    "pycharm": {
     "name": "#%%\n"
    }
   },
   "outputs": [],
   "source": [
    "df2['Real GTs'] = gt_real_column\n",
    "\n",
    "df2['Real WNIDs'] = gt_real_column_wnid"
   ]
  },
  {
   "cell_type": "code",
   "execution_count": 50,
   "metadata": {
    "pycharm": {
     "name": "#%%\n"
    }
   },
   "outputs": [],
   "source": [
    "real_wnids = [REAL_GTs_WNIDs[x] for x in  df2.Query]\n",
    "parents12_real = [[PARENT12_WNID[x] for x in y] for y in  real_wnids]\n",
    "parents13_real = [[PARENT13_WNID[x] for x in y] for y in  real_wnids]\n",
    "parents14_real = [[PARENT14_WNID[x] for x in y] for y in  real_wnids]"
   ]
  },
  {
   "cell_type": "code",
   "execution_count": 51,
   "metadata": {
    "pycharm": {
     "name": "#%%\n"
    }
   },
   "outputs": [],
   "source": [
    "df2['Parent-lvl12_real'] = parents12_real\n",
    "df2['Parent-lvl13_real'] = parents13_real\n",
    "df2['Parent-lvl14_real'] = parents14_real"
   ]
  },
  {
   "cell_type": "code",
   "execution_count": 52,
   "metadata": {
    "pycharm": {
     "name": "#%%\n"
    }
   },
   "outputs": [
    {
     "data": {
      "text/html": [
       "<div>\n",
       "<style scoped>\n",
       "    .dataframe tbody tr th:only-of-type {\n",
       "        vertical-align: middle;\n",
       "    }\n",
       "\n",
       "    .dataframe tbody tr th {\n",
       "        vertical-align: top;\n",
       "    }\n",
       "\n",
       "    .dataframe thead th {\n",
       "        text-align: right;\n",
       "    }\n",
       "</style>\n",
       "<table border=\"1\" class=\"dataframe\">\n",
       "  <thead>\n",
       "    <tr style=\"text-align: right;\">\n",
       "      <th></th>\n",
       "      <th>UID</th>\n",
       "      <th>Query</th>\n",
       "      <th>Prior Knowledge</th>\n",
       "      <th>Counter balance</th>\n",
       "      <th>Group Known</th>\n",
       "      <th>Group Unknown</th>\n",
       "      <th>Validation Reaction Time</th>\n",
       "      <th>Test Reaction Time</th>\n",
       "      <th>DATE</th>\n",
       "      <th>Group Validation Correct</th>\n",
       "      <th>Group Validation Incorrect</th>\n",
       "      <th>ImageNet</th>\n",
       "      <th>Correctness</th>\n",
       "      <th>User Accuracy</th>\n",
       "      <th>User Corrects</th>\n",
       "      <th>Method</th>\n",
       "      <th>GroundTruth</th>\n",
       "      <th>Parent-lvl12</th>\n",
       "      <th>Parent-lvl13</th>\n",
       "      <th>Parent-lvl14</th>\n",
       "      <th>ClassifierCorrectness</th>\n",
       "      <th>DifficultyLevel</th>\n",
       "      <th>ConfidenceScore</th>\n",
       "      <th>ResNet-Prediction</th>\n",
       "      <th>KNN-Prediction</th>\n",
       "      <th>EMD-Prediction</th>\n",
       "      <th>CHM-Prediction</th>\n",
       "      <th>ResNet-Conf</th>\n",
       "      <th>KNN-Conf</th>\n",
       "      <th>EMD-Conf</th>\n",
       "      <th>CHM-Conf</th>\n",
       "      <th>Real GTs</th>\n",
       "      <th>Real WNIDs</th>\n",
       "      <th>Parent-lvl12_real</th>\n",
       "      <th>Parent-lvl13_real</th>\n",
       "      <th>Parent-lvl14_real</th>\n",
       "    </tr>\n",
       "  </thead>\n",
       "  <tbody>\n",
       "    <tr>\n",
       "      <th>0</th>\n",
       "      <td>6386009</td>\n",
       "      <td>ILSVRC2012_val_00027121.JPEG</td>\n",
       "      <td>0</td>\n",
       "      <td>15</td>\n",
       "      <td>15</td>\n",
       "      <td>7</td>\n",
       "      <td>677682.700001</td>\n",
       "      <td>340827</td>\n",
       "      <td>2022-05-01 00:17:34.793</td>\n",
       "      <td>10</td>\n",
       "      <td>0</td>\n",
       "      <td>22</td>\n",
       "      <td>1</td>\n",
       "      <td>0.733333</td>\n",
       "      <td>22</td>\n",
       "      <td>CHM-NNs</td>\n",
       "      <td>n02112350</td>\n",
       "      <td>carnivore</td>\n",
       "      <td>canine</td>\n",
       "      <td>dog</td>\n",
       "      <td>1</td>\n",
       "      <td>Easy</td>\n",
       "      <td>1.0</td>\n",
       "      <td>keeshond</td>\n",
       "      <td>keeshond</td>\n",
       "      <td>keeshond</td>\n",
       "      <td>keeshond</td>\n",
       "      <td>0.99</td>\n",
       "      <td>1.00</td>\n",
       "      <td>1.00</td>\n",
       "      <td>1.0</td>\n",
       "      <td>[keeshond]</td>\n",
       "      <td>[n02112350]</td>\n",
       "      <td>[carnivore]</td>\n",
       "      <td>[canine]</td>\n",
       "      <td>[dog]</td>\n",
       "    </tr>\n",
       "    <tr>\n",
       "      <th>1</th>\n",
       "      <td>6386009</td>\n",
       "      <td>ILSVRC2012_val_00008987.JPEG</td>\n",
       "      <td>0</td>\n",
       "      <td>15</td>\n",
       "      <td>15</td>\n",
       "      <td>7</td>\n",
       "      <td>677682.700001</td>\n",
       "      <td>340827</td>\n",
       "      <td>2022-05-01 00:17:34.793</td>\n",
       "      <td>10</td>\n",
       "      <td>0</td>\n",
       "      <td>22</td>\n",
       "      <td>1</td>\n",
       "      <td>0.733333</td>\n",
       "      <td>22</td>\n",
       "      <td>CHM-NNs</td>\n",
       "      <td>n01980166</td>\n",
       "      <td>invertebrate</td>\n",
       "      <td>invertebrate</td>\n",
       "      <td>invertebrate</td>\n",
       "      <td>1</td>\n",
       "      <td>Easy</td>\n",
       "      <td>0.9</td>\n",
       "      <td>fiddler_crab</td>\n",
       "      <td>fiddler_crab</td>\n",
       "      <td>fiddler_crab</td>\n",
       "      <td>fiddler_crab</td>\n",
       "      <td>0.99</td>\n",
       "      <td>0.95</td>\n",
       "      <td>0.90</td>\n",
       "      <td>0.9</td>\n",
       "      <td>[fiddler_crab]</td>\n",
       "      <td>[n01980166]</td>\n",
       "      <td>[invertebrate]</td>\n",
       "      <td>[invertebrate]</td>\n",
       "      <td>[invertebrate]</td>\n",
       "    </tr>\n",
       "    <tr>\n",
       "      <th>2</th>\n",
       "      <td>6386009</td>\n",
       "      <td>ILSVRC2012_val_00043672.JPEG</td>\n",
       "      <td>1</td>\n",
       "      <td>15</td>\n",
       "      <td>15</td>\n",
       "      <td>7</td>\n",
       "      <td>677682.700001</td>\n",
       "      <td>340827</td>\n",
       "      <td>2022-05-01 00:17:34.793</td>\n",
       "      <td>10</td>\n",
       "      <td>0</td>\n",
       "      <td>22</td>\n",
       "      <td>0</td>\n",
       "      <td>0.733333</td>\n",
       "      <td>22</td>\n",
       "      <td>CHM-NNs</td>\n",
       "      <td>n02093428</td>\n",
       "      <td>carnivore</td>\n",
       "      <td>canine</td>\n",
       "      <td>dog</td>\n",
       "      <td>0</td>\n",
       "      <td>Medium</td>\n",
       "      <td>0.6</td>\n",
       "      <td>American_Staffordshire_terrier</td>\n",
       "      <td>American_Staffordshire_terrier</td>\n",
       "      <td>American_Staffordshire_terrier</td>\n",
       "      <td>American_Staffordshire_terrier</td>\n",
       "      <td>0.62</td>\n",
       "      <td>0.85</td>\n",
       "      <td>0.75</td>\n",
       "      <td>0.6</td>\n",
       "      <td>[vizsla]</td>\n",
       "      <td>[n02100583]</td>\n",
       "      <td>[carnivore]</td>\n",
       "      <td>[canine]</td>\n",
       "      <td>[dog]</td>\n",
       "    </tr>\n",
       "    <tr>\n",
       "      <th>3</th>\n",
       "      <td>6386009</td>\n",
       "      <td>ILSVRC2012_val_00011479.JPEG</td>\n",
       "      <td>1</td>\n",
       "      <td>15</td>\n",
       "      <td>15</td>\n",
       "      <td>7</td>\n",
       "      <td>677682.700001</td>\n",
       "      <td>340827</td>\n",
       "      <td>2022-05-01 00:17:34.793</td>\n",
       "      <td>10</td>\n",
       "      <td>0</td>\n",
       "      <td>22</td>\n",
       "      <td>1</td>\n",
       "      <td>0.733333</td>\n",
       "      <td>22</td>\n",
       "      <td>CHM-NNs</td>\n",
       "      <td>n04350905</td>\n",
       "      <td>commodity</td>\n",
       "      <td>commodity</td>\n",
       "      <td>commodity</td>\n",
       "      <td>0</td>\n",
       "      <td>Easy</td>\n",
       "      <td>0.2</td>\n",
       "      <td>suit</td>\n",
       "      <td>suit</td>\n",
       "      <td>suit</td>\n",
       "      <td>unicycle</td>\n",
       "      <td>0.33</td>\n",
       "      <td>0.15</td>\n",
       "      <td>0.20</td>\n",
       "      <td>0.2</td>\n",
       "      <td>[suit, Windsor_tie]</td>\n",
       "      <td>[n04350905, n04591157]</td>\n",
       "      <td>[commodity, commodity]</td>\n",
       "      <td>[commodity, commodity]</td>\n",
       "      <td>[commodity, commodity]</td>\n",
       "    </tr>\n",
       "    <tr>\n",
       "      <th>4</th>\n",
       "      <td>6386009</td>\n",
       "      <td>ILSVRC2012_val_00034787.JPEG</td>\n",
       "      <td>1</td>\n",
       "      <td>15</td>\n",
       "      <td>15</td>\n",
       "      <td>7</td>\n",
       "      <td>677682.700001</td>\n",
       "      <td>340827</td>\n",
       "      <td>2022-05-01 00:17:34.793</td>\n",
       "      <td>10</td>\n",
       "      <td>0</td>\n",
       "      <td>22</td>\n",
       "      <td>0</td>\n",
       "      <td>0.733333</td>\n",
       "      <td>22</td>\n",
       "      <td>CHM-NNs</td>\n",
       "      <td>n07754684</td>\n",
       "      <td>natural_object</td>\n",
       "      <td>natural_object</td>\n",
       "      <td>natural_object</td>\n",
       "      <td>1</td>\n",
       "      <td>Medium</td>\n",
       "      <td>0.4</td>\n",
       "      <td>jackfruit</td>\n",
       "      <td>jackfruit</td>\n",
       "      <td>jackfruit</td>\n",
       "      <td>jackfruit</td>\n",
       "      <td>0.98</td>\n",
       "      <td>0.70</td>\n",
       "      <td>0.45</td>\n",
       "      <td>0.4</td>\n",
       "      <td>[jackfruit]</td>\n",
       "      <td>[n07754684]</td>\n",
       "      <td>[natural_object]</td>\n",
       "      <td>[natural_object]</td>\n",
       "      <td>[natural_object]</td>\n",
       "    </tr>\n",
       "  </tbody>\n",
       "</table>\n",
       "</div>"
      ],
      "text/plain": [
       "       UID                         Query  Prior Knowledge  Counter balance  \\\n",
       "0  6386009  ILSVRC2012_val_00027121.JPEG                0               15   \n",
       "1  6386009  ILSVRC2012_val_00008987.JPEG                0               15   \n",
       "2  6386009  ILSVRC2012_val_00043672.JPEG                1               15   \n",
       "3  6386009  ILSVRC2012_val_00011479.JPEG                1               15   \n",
       "4  6386009  ILSVRC2012_val_00034787.JPEG                1               15   \n",
       "\n",
       "   Group Known  Group Unknown  Validation Reaction Time  Test Reaction Time  \\\n",
       "0           15              7             677682.700001              340827   \n",
       "1           15              7             677682.700001              340827   \n",
       "2           15              7             677682.700001              340827   \n",
       "3           15              7             677682.700001              340827   \n",
       "4           15              7             677682.700001              340827   \n",
       "\n",
       "                     DATE  Group Validation Correct  \\\n",
       "0 2022-05-01 00:17:34.793                        10   \n",
       "1 2022-05-01 00:17:34.793                        10   \n",
       "2 2022-05-01 00:17:34.793                        10   \n",
       "3 2022-05-01 00:17:34.793                        10   \n",
       "4 2022-05-01 00:17:34.793                        10   \n",
       "\n",
       "   Group Validation Incorrect  ImageNet  Correctness  User Accuracy  \\\n",
       "0                           0        22            1       0.733333   \n",
       "1                           0        22            1       0.733333   \n",
       "2                           0        22            0       0.733333   \n",
       "3                           0        22            1       0.733333   \n",
       "4                           0        22            0       0.733333   \n",
       "\n",
       "   User Corrects   Method GroundTruth    Parent-lvl12    Parent-lvl13  \\\n",
       "0             22  CHM-NNs   n02112350       carnivore          canine   \n",
       "1             22  CHM-NNs   n01980166    invertebrate    invertebrate   \n",
       "2             22  CHM-NNs   n02093428       carnivore          canine   \n",
       "3             22  CHM-NNs   n04350905       commodity       commodity   \n",
       "4             22  CHM-NNs   n07754684  natural_object  natural_object   \n",
       "\n",
       "     Parent-lvl14  ClassifierCorrectness DifficultyLevel  ConfidenceScore  \\\n",
       "0             dog                      1            Easy              1.0   \n",
       "1    invertebrate                      1            Easy              0.9   \n",
       "2             dog                      0          Medium              0.6   \n",
       "3       commodity                      0            Easy              0.2   \n",
       "4  natural_object                      1          Medium              0.4   \n",
       "\n",
       "                ResNet-Prediction                  KNN-Prediction  \\\n",
       "0                        keeshond                        keeshond   \n",
       "1                    fiddler_crab                    fiddler_crab   \n",
       "2  American_Staffordshire_terrier  American_Staffordshire_terrier   \n",
       "3                            suit                            suit   \n",
       "4                       jackfruit                       jackfruit   \n",
       "\n",
       "                   EMD-Prediction                  CHM-Prediction  \\\n",
       "0                        keeshond                        keeshond   \n",
       "1                    fiddler_crab                    fiddler_crab   \n",
       "2  American_Staffordshire_terrier  American_Staffordshire_terrier   \n",
       "3                            suit                        unicycle   \n",
       "4                       jackfruit                       jackfruit   \n",
       "\n",
       "   ResNet-Conf  KNN-Conf  EMD-Conf  CHM-Conf             Real GTs  \\\n",
       "0         0.99      1.00      1.00       1.0           [keeshond]   \n",
       "1         0.99      0.95      0.90       0.9       [fiddler_crab]   \n",
       "2         0.62      0.85      0.75       0.6             [vizsla]   \n",
       "3         0.33      0.15      0.20       0.2  [suit, Windsor_tie]   \n",
       "4         0.98      0.70      0.45       0.4          [jackfruit]   \n",
       "\n",
       "               Real WNIDs       Parent-lvl12_real       Parent-lvl13_real  \\\n",
       "0             [n02112350]             [carnivore]                [canine]   \n",
       "1             [n01980166]          [invertebrate]          [invertebrate]   \n",
       "2             [n02100583]             [carnivore]                [canine]   \n",
       "3  [n04350905, n04591157]  [commodity, commodity]  [commodity, commodity]   \n",
       "4             [n07754684]        [natural_object]        [natural_object]   \n",
       "\n",
       "        Parent-lvl14_real  \n",
       "0                   [dog]  \n",
       "1          [invertebrate]  \n",
       "2                   [dog]  \n",
       "3  [commodity, commodity]  \n",
       "4        [natural_object]  "
      ]
     },
     "execution_count": 52,
     "metadata": {},
     "output_type": "execute_result"
    }
   ],
   "source": [
    "df2.head(5)"
   ]
  },
  {
   "cell_type": "markdown",
   "metadata": {
    "pycharm": {
     "name": "#%% md\n"
    }
   },
   "source": [
    "### Rename Methods to Standrad ones"
   ]
  },
  {
   "cell_type": "code",
   "execution_count": 53,
   "metadata": {
    "pycharm": {
     "name": "#%%\n"
    }
   },
   "outputs": [],
   "source": [
    "PAPER_METHOD_NAMES = {'No-XAI': 'ResNet-50', \n",
    "                      'KNNs': 'kNN',\n",
    "                      'EMD-NNs':'EMD-NN', \n",
    "                      'EMD-Corrs':'EMD-Corr',\n",
    "                      'CHM-NNs':'CHM-NN',\n",
    "                      'CHM-Corrs':'CHM-Corr'}"
   ]
  },
  {
   "cell_type": "code",
   "execution_count": 54,
   "metadata": {
    "pycharm": {
     "name": "#%%\n"
    }
   },
   "outputs": [],
   "source": [
    "df2.Method = df2.Method.map(PAPER_METHOD_NAMES)"
   ]
  },
  {
   "cell_type": "code",
   "execution_count": 55,
   "metadata": {
    "pycharm": {
     "name": "#%%\n"
    }
   },
   "outputs": [
    {
     "data": {
      "text/plain": [
       "array(['CHM-NN', 'ResNet-50', 'CHM-Corr', 'EMD-Corr', 'EMD-NN', 'kNN'],\n",
       "      dtype=object)"
      ]
     },
     "execution_count": 55,
     "metadata": {},
     "output_type": "execute_result"
    }
   ],
   "source": [
    "df2.Method.unique()"
   ]
  },
  {
   "cell_type": "markdown",
   "metadata": {
    "pycharm": {
     "name": "#%% md\n"
    }
   },
   "source": [
    "# Export to CSV "
   ]
  },
  {
   "cell_type": "code",
   "execution_count": 56,
   "metadata": {
    "pycharm": {
     "name": "#%%\n"
    }
   },
   "outputs": [],
   "source": [
    "df2.to_csv('ImageNet-Human-Study-Summary.csv', index=False)"
   ]
  }
 ],
 "metadata": {
  "kernelspec": {
   "display_name": "Python 3 (ipykernel)",
   "language": "python",
   "name": "python3"
  },
  "language_info": {
   "codemirror_mode": {
    "name": "ipython",
    "version": 3
   },
   "file_extension": ".py",
   "mimetype": "text/x-python",
   "name": "python",
   "nbconvert_exporter": "python",
   "pygments_lexer": "ipython3",
   "version": "3.10.4"
  }
 },
 "nbformat": 4,
 "nbformat_minor": 4
}
