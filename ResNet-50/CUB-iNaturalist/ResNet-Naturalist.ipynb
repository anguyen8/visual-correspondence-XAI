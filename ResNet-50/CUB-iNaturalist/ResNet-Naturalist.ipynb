{
 "cells": [
  {
   "cell_type": "markdown",
   "id": "16f0f380-9698-4bb5-8687-0c5ce5aff2ab",
   "metadata": {
    "pycharm": {
     "name": "#%% md\n"
    }
   },
   "source": [
    "# Method 1 - Using iNaturalist-pretrained ResNet-50"
   ]
  },
  {
   "cell_type": "code",
   "execution_count": 3,
   "id": "b1c50133-8e2f-47b1-9a3e-53fc0c9d6548",
   "metadata": {
    "pycharm": {
     "name": "#%%\n"
    }
   },
   "outputs": [],
   "source": [
    "import random\n",
    "random.seed(43)"
   ]
  },
  {
   "cell_type": "code",
   "execution_count": 1,
   "id": "702ba221-a711-41ff-b9df-0df8c3bf0422",
   "metadata": {
    "pycharm": {
     "name": "#%%\n"
    }
   },
   "outputs": [],
   "source": [
    "import torch\n",
    "import numpy as np\n",
    "import torch.nn as nn\n",
    "import torch.optim as optim\n",
    "import torch.nn.functional as F\n",
    "from torchvision.datasets import ImageFolder\n",
    "from torch.utils.data import DataLoader\n",
    "import torchvision.transforms as transforms"
   ]
  },
  {
   "cell_type": "code",
   "execution_count": 2,
   "id": "b264a876-ffda-4639-9f9e-565995d1c517",
   "metadata": {
    "pycharm": {
     "name": "#%%\n"
    }
   },
   "outputs": [],
   "source": [
    "from DeformableResNet import ResNet_AvgPool_classifier, Bottleneck"
   ]
  },
  {
   "cell_type": "code",
   "execution_count": 4,
   "id": "2eef346b-355d-48c7-9364-558d4299cc72",
   "metadata": {
    "pycharm": {
     "name": "#%%\n"
    }
   },
   "outputs": [],
   "source": [
    "concat = lambda x: np.concatenate(x, axis=0)\n",
    "to_np  = lambda x: x.data.to('cpu').numpy()"
   ]
  },
  {
   "cell_type": "code",
   "execution_count": 5,
   "id": "f79f1bef-5d3a-4c7a-bf9d-98ef34db382d",
   "metadata": {
    "pycharm": {
     "name": "#%%\n"
    }
   },
   "outputs": [
    {
     "data": {
      "text/plain": [
       "device(type='cuda', index=0)"
      ]
     },
     "execution_count": 5,
     "metadata": {},
     "output_type": "execute_result"
    }
   ],
   "source": [
    "device = torch.device(\"cuda:0\" if torch.cuda.is_available() else \"cpu\")\n",
    "device"
   ]
  },
  {
   "cell_type": "code",
   "execution_count": 6,
   "id": "6e1cb813-1679-45f7-b6ea-e08b7f01f37d",
   "metadata": {
    "pycharm": {
     "name": "#%%\n"
    }
   },
   "outputs": [],
   "source": [
    "val_dataset_transform = transforms.Compose(\n",
    "  [transforms.Resize(256), \n",
    "  transforms.CenterCrop(224), \n",
    "  transforms.ToTensor(), \n",
    "  transforms.Normalize([0.485, 0.456, 0.406], [0.229, 0.224, 0.225])])"
   ]
  },
  {
   "cell_type": "code",
   "execution_count": 7,
   "id": "d7ea21c0-304b-4891-821f-9f863e0afa3a",
   "metadata": {
    "pycharm": {
     "name": "#%%\n"
    }
   },
   "outputs": [],
   "source": [
    "validation_folder = ImageFolder(root='/home/mohammad/datasets/CUB/test0/', transform=val_dataset_transform)\n",
    "val_loader        = DataLoader(validation_folder, batch_size=512, shuffle=False, num_workers=8, pin_memory=False)"
   ]
  },
  {
   "cell_type": "markdown",
   "id": "580e9a55-f9a4-4e0e-930d-a0b73b4ee794",
   "metadata": {
    "pycharm": {
     "name": "#%% md\n"
    }
   },
   "source": [
    "## iNAT ResNet-50 "
   ]
  },
  {
   "cell_type": "code",
   "execution_count": 8,
   "id": "e5566688-9fef-4cf2-9c71-bd260f69dfad",
   "metadata": {
    "pycharm": {
     "name": "#%%\n"
    }
   },
   "outputs": [
    {
     "data": {
      "text/plain": [
       "<All keys matched successfully>"
      ]
     },
     "execution_count": 8,
     "metadata": {},
     "output_type": "execute_result"
    }
   ],
   "source": [
    "inat_resnet = ResNet_AvgPool_classifier(Bottleneck, [3, 4, 6, 4])\n",
    "my_model_state_dict = torch.load('./Forzen_Method1-iNaturalist_avgpool_200way1_85.83_Manuscript.pth')\n",
    "inat_resnet.load_state_dict(my_model_state_dict, strict=True)"
   ]
  },
  {
   "cell_type": "code",
   "execution_count": 9,
   "id": "abd6b656-1a2b-4538-94c6-08cf62ced44a",
   "metadata": {
    "pycharm": {
     "name": "#%%\n"
    }
   },
   "outputs": [
    {
     "name": "stdout",
     "output_type": "stream",
     "text": [
      "torch.Size([200, 2048])\n"
     ]
    }
   ],
   "source": [
    "# Dimension of classification head\n",
    "print(list(inat_resnet.parameters())[-2].shape)"
   ]
  },
  {
   "cell_type": "code",
   "execution_count": 10,
   "id": "55710abe-afe9-4d8f-ab34-8cb74e253ade",
   "metadata": {
    "pycharm": {
     "name": "#%%\n"
    }
   },
   "outputs": [
    {
     "data": {
      "text/plain": [
       "resnet53_features"
      ]
     },
     "execution_count": 10,
     "metadata": {},
     "output_type": "execute_result"
    }
   ],
   "source": [
    "# Freeze backbone (for training only)\n",
    "for param in list(inat_resnet.parameters())[:-2]:\n",
    "  param.requires_grad = False\n",
    "    \n",
    "# to CUDA\n",
    "inat_resnet.to(device)"
   ]
  },
  {
   "cell_type": "code",
   "execution_count": 11,
   "id": "bbebb642-3bfa-44e3-a756-f7b5f807c4fa",
   "metadata": {
    "pycharm": {
     "name": "#%%\n"
    }
   },
   "outputs": [],
   "source": [
    "criterion = nn.CrossEntropyLoss()\n",
    "optimizer = optim.Adam(inat_resnet.classifier.parameters())"
   ]
  },
  {
   "cell_type": "code",
   "execution_count": 12,
   "id": "a1ff46fc-421a-4bcb-91e9-5397a0e6dd8c",
   "metadata": {
    "pycharm": {
     "name": "#%%\n"
    }
   },
   "outputs": [],
   "source": [
    "def test_cub(model):\n",
    "  model.eval()\n",
    "  \n",
    "  running_loss = 0.0\n",
    "  running_corrects = 0\n",
    "  \n",
    "  predictions = []\n",
    "  confidence = []\n",
    "  \n",
    "  with torch.inference_mode():\n",
    "    for _, (data, target) in enumerate(val_loader):\n",
    "      data   = data.to(device)\n",
    "      target = target.to(device)\n",
    "      outputs = model(data)\n",
    "      loss = criterion(outputs, target)\n",
    "      _, preds = torch.max(outputs, 1)\n",
    "      probs, _ = torch.max(F.softmax(outputs, dim=1), 1)\n",
    "      running_loss += loss.item() * target.size(0)\n",
    "      running_corrects += torch.sum(preds == target.data)\n",
    "      \n",
    "      predictions.extend(preds.data.cpu().numpy())\n",
    "      confidence.extend((probs.data.cpu().numpy()*100).astype(np.int32))\n",
    "\n",
    "  epoch_loss = running_loss / len(validation_folder)\n",
    "  epoch_acc = running_corrects.double() / len(validation_folder)\n",
    "\n",
    "  print('-' * 10)\n",
    "  print('loss: {:.4f}, acc: {:.4f}'.format(epoch_loss, 100*epoch_acc))\n",
    "  \n",
    "  return predictions, confidence"
   ]
  },
  {
   "cell_type": "code",
   "execution_count": 13,
   "id": "09b5b8c7-20b3-462f-bc4f-331807988766",
   "metadata": {
    "pycharm": {
     "name": "#%%\n"
    }
   },
   "outputs": [
    {
     "name": "stdout",
     "output_type": "stream",
     "text": [
      "----------\n",
      "loss: 0.5511, acc: 85.8302\n"
     ]
    }
   ],
   "source": [
    "cub_test_preds, cub_test_confs = test_cub(inat_resnet)"
   ]
  }
 ],
 "metadata": {
  "kernelspec": {
   "display_name": "Python (PyTorch1.11)",
   "language": "python",
   "name": "pytorch1.11"
  },
  "language_info": {
   "codemirror_mode": {
    "name": "ipython",
    "version": 3
   },
   "file_extension": ".py",
   "mimetype": "text/x-python",
   "name": "python",
   "nbconvert_exporter": "python",
   "pygments_lexer": "ipython3",
   "version": "3.8.12"
  }
 },
 "nbformat": 4,
 "nbformat_minor": 5
}